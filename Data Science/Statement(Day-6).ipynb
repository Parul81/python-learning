{
 "cells": [
  {
   "cell_type": "code",
   "execution_count": 7,
   "id": "222651a2",
   "metadata": {
    "scrolled": true
   },
   "outputs": [
    {
     "name": "stdout",
     "output_type": "stream",
     "text": [
      "Enter the value of a: 4\n",
      "Enter the value of b: 6\n",
      "Enter the value of c: 8\n",
      "(-0.7499999999999999+1.1989578808281798j)\n",
      "(-0.7500000000000001-1.1989578808281798j)\n"
     ]
    }
   ],
   "source": [
    "# Selective Statements:-\n",
    "# Here we are taking three inputs a,b and c .\n",
    "# assgning a new variable d as to find the solutions to a quadratic equations using a quardratic formula.\n",
    "# It calculates the discriminant d ,finds its square root \n",
    "# then calculate the solutions using the quadratic formula.\n",
    "# example of quardratic equation:- 2x **2 + 5x -3 = 0\n",
    "# Here a=2,b=5 and c=3.\n",
    "# after the formula we are finding the two solutions(sol1 and sol2 ) according to the requirement.\n",
    "\n",
    "a = int(input(\"Enter the value of a: \"))\n",
    "b = int(input(\"Enter the value of b: \"))\n",
    "c = int(input(\"Enter the value of c: \"))\n",
    "d = (b**2)-(4*a*c)\n",
    "d = d**0.5\n",
    "sol1 = (-b+d)/(2*a)\n",
    "sol2 = (-b-d)/(2*a)\n",
    "print(sol1)\n",
    "print(sol2)"
   ]
  },
  {
   "cell_type": "code",
   "execution_count": 19,
   "id": "1f832be4",
   "metadata": {},
   "outputs": [
    {
     "data": {
      "text/plain": [
       "(5+0j)"
      ]
     },
     "execution_count": 19,
     "metadata": {},
     "output_type": "execute_result"
    }
   ],
   "source": [
    "# cmath.sqrt is a function provided bt the cmath module in python.\n",
    "# It is used to calculate the square root of a given number \n",
    "# if the number is real , it behaves the same as the matj.sqrt do from the math module\n",
    "# but cmath.sqrt can also handle the complex numbers .\n",
    "\n",
    "import cmath\n",
    "cmath.sqrt(25)"
   ]
  },
  {
   "cell_type": "code",
   "execution_count": 20,
   "id": "666fabe1",
   "metadata": {},
   "outputs": [
    {
     "data": {
      "text/plain": [
       "5.0"
      ]
     },
     "execution_count": 20,
     "metadata": {},
     "output_type": "execute_result"
    }
   ],
   "source": [
    "# Here we are calculating the Square root of 25 that is 5.\n",
    "# we can also say in other words that (25**0.5) represents the square root of 25 which is equal to 5.\n",
    "\n",
    "(25**0.5)"
   ]
  },
  {
   "cell_type": "code",
   "execution_count": 12,
   "id": "2329fdd9",
   "metadata": {},
   "outputs": [
    {
     "name": "stdout",
     "output_type": "stream",
     "text": [
      "Enter the value of a: 34\n",
      "Enter the value of b: 24\n",
      "Enter the value of c: 56\n",
      "(-0.35294117647058826+1.2338927625531195j)\n",
      "(-0.35294117647058826-1.2338927625531195j)\n"
     ]
    }
   ],
   "source": [
    "# Selective Statements:-\n",
    "# Here we are taking three inputs a,b and c .\n",
    "# assgning a new variable d as to find the solutions to a quadratic equations using a quardratic formula.\n",
    "# It calculates the discriminant d ,finds its square root through the cmath.sqrt module in python. \n",
    "# then calculate the solutions using the quadratic formula.\n",
    "#  after the formula we are finding the two solutions(sol1 and sol2 ) according to the requirement.\n",
    "# if the discrement d is negative , it means the quadratic equation has complex roots.\n",
    "# till we are using cmath.sqrt to handle the comlex number , we don't have need to check if the discriminant is negative or not.\n",
    "\n",
    "a = int(input(\"Enter the value of a: \"))\n",
    "b = int(input(\"Enter the value of b: \"))\n",
    "c = int(input(\"Enter the value of c: \"))\n",
    "d = (b**2)-(4*a*c)\n",
    "import cmath\n",
    "d = cmath.sqrt(d)\n",
    "sol1 = (-b+d)/(2*a)\n",
    "sol2 = (-b-d)/(2*a)\n",
    "print(sol1)\n",
    "print(sol2)"
   ]
  },
  {
   "cell_type": "code",
   "execution_count": 14,
   "id": "959df363",
   "metadata": {},
   "outputs": [
    {
     "name": "stdout",
     "output_type": "stream",
     "text": [
      "Enter the value of a: 4\n",
      "Enter the value of b: 5\n",
      "Enter the value of c: 6\n",
      "9.921567416492215\n"
     ]
    }
   ],
   "source": [
    "# Selective Statements:-\n",
    "# we are calculating the area of a triangle using Heron's Formula ,which based on its three sides \n",
    "# Here we are taking three inputs a,b and c  as three sides of a triangle\n",
    "# write  the formula to calculate the area based on semi-perimeter (s) and its length sides(a,b,c)\n",
    "# calculate the area through the formula and print the result\n",
    "\n",
    "a = int(input(\"Enter the value of a: \"))\n",
    "b = int(input(\"Enter the value of b: \"))\n",
    "c = int(input(\"Enter the value of c: \"))\n",
    "s = (a+b+c)/2\n",
    "area = (s*(s-a)*(s-b)*(s-c))**0.5\n",
    "print(area)"
   ]
  },
  {
   "cell_type": "code",
   "execution_count": 15,
   "id": "ab13e674",
   "metadata": {},
   "outputs": [
    {
     "data": {
      "text/plain": [
       "10"
      ]
     },
     "execution_count": 15,
     "metadata": {},
     "output_type": "execute_result"
    }
   ],
   "source": [
    "# Here through the help of round module we are taking round value of the area of triangle.\n",
    "\n",
    "round(area)"
   ]
  },
  {
   "cell_type": "code",
   "execution_count": null,
   "id": "b1fe0430",
   "metadata": {},
   "outputs": [],
   "source": [
    "# Here we are calculating the area of a circle\n",
    "# Firstly we assign a variable r to input values as radius\n",
    "# then we write the formula of area of a circle\n",
    "# 3.14 is the constant value of pi \n",
    "# print the result.\n",
    "\n",
    "r = int(input(\"Enter the radius\"))\n",
    "area = 3.14*(r**2)\n",
    "print(area)"
   ]
  },
  {
   "cell_type": "code",
   "execution_count": 4,
   "id": "76912ad4",
   "metadata": {},
   "outputs": [
    {
     "name": "stdout",
     "output_type": "stream",
     "text": [
      "Enter the per: -45\n",
      "Invalid Per\n"
     ]
    }
   ],
   "source": [
    "# Selective Statements:-\n",
    "# Here the code is used to grade the students based on the percentage \n",
    "# It execute through the If/Elif/ Else conditions\n",
    "# we Assigns grades according to the the percentage range.\n",
    "# It is a simple and effective way to categorise the students percentage based on their percentage scores\n",
    "# Print the result according to the assign condtions.\n",
    "\n",
    "per = int(input(\"Enter the per: \"))\n",
    "if per > 90 and per <= 100:\n",
    "    print(\"Grade A+\")\n",
    "elif per>80 and per<=90:\n",
    "    print(\"Grade A\")\n",
    "elif per>70 and per<=80:\n",
    "    print(\"Grade B+\")\n",
    "elif per>60 and per<=70:\n",
    "    print(\"Grade B\")\n",
    "elif per>50 and per<=60:\n",
    "    print(\"Grade C+\")\n",
    "elif per>40 and per<=50:\n",
    "    print(\"Grade C\")\n",
    "elif per>=0 and per<=40:\n",
    "    print(\"Grade D Fail\")\n",
    "else:\n",
    "    print(\"Invalid Per\")"
   ]
  },
  {
   "cell_type": "code",
   "execution_count": 5,
   "id": "43cd0c28",
   "metadata": {},
   "outputs": [
    {
     "name": "stdout",
     "output_type": "stream",
     "text": [
      "Enter the value of a:4\n",
      "Enter the opr+\n",
      "Enter the value of b:6\n",
      "10\n"
     ]
    }
   ],
   "source": [
    "# Selective Statement:-\n",
    "# Herevwe are performing basic arithmetic operations on two numbers based on the operator entered by us \n",
    "# we take here (a) as a input \n",
    "# we take \"opr\" to enter the operator to calculate the result\n",
    "# and we take (b) as another input to calculate the result\n",
    "# it performs the operations according to the operator input\n",
    "# here the code is only limited to sub and add. due to the if condition provided in the code\n",
    "# We can extend the codde according to our requirement\n",
    "\n",
    "a = int(input(\"Enter the value of a:\"))\n",
    "opr=input(\"Enter the opr \")\n",
    "b = int(input(\"Enter the value of b:\"))\n",
    "if opr==\"+\":\n",
    "    print(a+b)\n",
    "elif opr==\"-\":\n",
    "    print(a-b)"
   ]
  },
  {
   "cell_type": "code",
   "execution_count": 22,
   "id": "18135b59",
   "metadata": {},
   "outputs": [
    {
     "name": "stdout",
     "output_type": "stream",
     "text": [
      "Enter the value of a: 89\n",
      "Enter the opr: \n",
      "Enter the value of b: 56\n",
      "No opr assigned\n"
     ]
    }
   ],
   "source": [
    "# Extra operators adding by myself:-\n",
    "\n",
    "a = int(input(\"Enter the value of a: \"))\n",
    "opr=input(\"Enter the opr: \")\n",
    "b = int(input(\"Enter the value of b: \"))\n",
    "if opr==\"+\":\n",
    "    print(a+b)\n",
    "elif opr==\"-\":\n",
    "    print(a-b)\n",
    "elif opr==\"*\":\n",
    "    print(a*b)\n",
    "elif opr==\"/\":\n",
    "    print(a/b)\n",
    "elif opr==\"//\":\n",
    "    print(a//b)\n",
    "elif opr==\"%\":\n",
    "    print(a%b)\n",
    "elif opr==\"**\":\n",
    "    print(a**b)\n",
    "else:\n",
    "    print(\"No opr assigned\")"
   ]
  },
  {
   "cell_type": "code",
   "execution_count": 1,
   "id": "90f68761",
   "metadata": {},
   "outputs": [],
   "source": [
    "# Homework make a sample marksheet."
   ]
  },
  {
   "cell_type": "code",
   "execution_count": 7,
   "id": "9d566273",
   "metadata": {},
   "outputs": [
    {
     "name": "stdout",
     "output_type": "stream",
     "text": [
      "Enter the name of candidate: PARUL KUMARI\n",
      "Enter the roll no: 1BCE/22/147\n",
      "Enter the registeration no: 2022PUFCEBCEX12308\n",
      "Enter the enrollment no: 2022/12308\n",
      "Enter the Father_name: RAMKISHAN YADAV\n",
      "Enter the mother_name: DURGESH DEVI\n",
      "Enter the number of subjects: 12\n",
      "                                                                                                     \n",
      "*****************************************************************************************************\n",
      "                                                                                                     \n",
      "\u001b[34m                                       POORNIMA UNIVERSITY\n",
      "\u001b[34m     Member of Assciation of Indian Universities & Approved by UGC(Govt. of India) under 2(f) & 12(B)\n",
      "\t\t\t\t\tStatement of Grades\n",
      "\t\t\t\tFaculty of Computer Science & Engineering\n",
      "\t\t\t\t\t Bachelor of Technology\n",
      "\t\t\t\t\t (Computer Engineering)\n",
      "\t\t\t\tSecond Semester (Main) Examination,April 2023\n",
      "                                                                                                     \n",
      "\u001b[30mName of Candidate    PARUL KUMARI\t\t\t\tRoll No.         1BCE/22/147\n",
      "Registeration No.    2022PUFCEBCEX12308\t\t\t\tEnrollment No.   2022/12308\n",
      "Father's Name        RAMKISHAN YADAV\t\t\t\tMother's Name    DURGESH DEVI\n",
      "                                                                                                     \n",
      "                                                                                                     \n",
      "-----------------------------------------------------------------------------------------------------\n",
      "\t\t\t\t\t\t\t\tCredit\n",
      "Code and Name of the Subject\t\t\t\tTotal Credit|Earned Credit    Grade    Status\n",
      "Theory\n",
      "BTXCSA2101   Engineering Chemistry\t\t\t      3.0   |    3.0\t\tmarks1\n",
      "BTXCME2105   Engineering Mechanics\t\t\t      3.0   |    3.0\t\tmarks2\n",
      "BTXCSA2103   Engineering Physics  \t\t\t      3.0   |    3.0\t\tmarks3\n",
      "BTXCEE2107   Introduction To Futuristic Technologics\t      3.0   |    3.0\t\tmarks4\n",
      "BULEAR2107   Design Thinking\t\t\t\t      3.0   |    3.0\t\tmarks5\n",
      "  Practical / Sessional\n",
      "BTXCSA2201   Engineering Chemistry Lab\t\t\t      1.0   |    1.0\t\tmarks6\n",
      "BTXCSA2103   Engineering Physics Lab-1\t\t\t      1.0   |    1.0\t\tmarks7\n",
      "BCECC32210   Introduction to Web Technology\t\t      1.0   |    1.0\t\tmarks8\n",
      "BTXCHM2209   Language Lab\t\t\t\t      1.0   |    1.0\t\tmarks9\n",
      "BTXCME2207   Practical Geometry\t\t\t\t      1.0   |    1.0\t\tmarks10\n",
      "BTXCME2205   Workshop Practice \t\t\t\t      1.0   |    1.0\t\tmarks11\n",
      "BTXCTX2601   Talent Enrichment Programme (TEP)-II\t      1.0   |    1.0\t\tmarks12\n",
      "                                                                                                     \n",
      "-----------------------------------------------------------------------------------------------------\n",
      "                                                                                                     \n",
      "Status: Promoted to next Semester with NIL Bcaklog(s) / NIL Backlog(s) in current Semester\n",
      "80                   80         A          Pass      \n",
      "80                   80         A          Pass      \n",
      "80                   80         A          Pass      \n",
      "80                   80         A          Pass      \n",
      "80                   80         A          Pass      \n",
      "80                   80         A          Pass      \n",
      "80                   80         A          Pass      \n",
      "80                   80         A          Pass      \n",
      "80                   80         A          Pass      \n",
      "80                   80         A          Pass      \n",
      "80                   80         A          Pass      \n",
      "80                   80         A          Pass      \n"
     ]
    },
    {
     "ename": "NameError",
     "evalue": "name 'grade_points' is not defined",
     "output_type": "error",
     "traceback": [
      "\u001b[1;31m---------------------------------------------------------------------------\u001b[0m",
      "\u001b[1;31mNameError\u001b[0m                                 Traceback (most recent call last)",
      "Cell \u001b[1;32mIn[7], line 126\u001b[0m\n\u001b[0;32m    123\u001b[0m     \u001b[38;5;28mprint\u001b[39m(\u001b[38;5;124mf\u001b[39m\u001b[38;5;124m\"\u001b[39m\u001b[38;5;132;01m{\u001b[39;00msubject[\u001b[38;5;241m0\u001b[39m]\u001b[38;5;132;01m:\u001b[39;00m\u001b[38;5;124m<20\u001b[39m\u001b[38;5;132;01m}\u001b[39;00m\u001b[38;5;124m \u001b[39m\u001b[38;5;132;01m{\u001b[39;00msubject[\u001b[38;5;241m1\u001b[39m]\u001b[38;5;132;01m:\u001b[39;00m\u001b[38;5;124m<10\u001b[39m\u001b[38;5;132;01m}\u001b[39;00m\u001b[38;5;124m \u001b[39m\u001b[38;5;132;01m{\u001b[39;00msubject[\u001b[38;5;241m2\u001b[39m]\u001b[38;5;132;01m:\u001b[39;00m\u001b[38;5;124m<10\u001b[39m\u001b[38;5;132;01m}\u001b[39;00m\u001b[38;5;124m \u001b[39m\u001b[38;5;132;01m{\u001b[39;00msubject[\u001b[38;5;241m3\u001b[39m]\u001b[38;5;132;01m:\u001b[39;00m\u001b[38;5;124m<10\u001b[39m\u001b[38;5;132;01m}\u001b[39;00m\u001b[38;5;124m\"\u001b[39m)\n\u001b[0;32m    125\u001b[0m total_credits \u001b[38;5;241m=\u001b[39m \u001b[38;5;28msum\u001b[39m(subject[\u001b[38;5;241m1\u001b[39m] \u001b[38;5;28;01mfor\u001b[39;00m subject \u001b[38;5;129;01min\u001b[39;00m subjects)\n\u001b[1;32m--> 126\u001b[0m total_grade_points \u001b[38;5;241m=\u001b[39m \u001b[38;5;28;43msum\u001b[39;49m\u001b[43m(\u001b[49m\u001b[43msubject\u001b[49m\u001b[43m[\u001b[49m\u001b[38;5;241;43m1\u001b[39;49m\u001b[43m]\u001b[49m\u001b[43m \u001b[49m\u001b[38;5;241;43m*\u001b[39;49m\u001b[43m \u001b[49m\u001b[43mgrade_points\u001b[49m\u001b[43m[\u001b[49m\u001b[43msubject\u001b[49m\u001b[43m[\u001b[49m\u001b[38;5;241;43m3\u001b[39;49m\u001b[43m]\u001b[49m\u001b[43m]\u001b[49m\u001b[43m \u001b[49m\u001b[38;5;28;43;01mfor\u001b[39;49;00m\u001b[43m \u001b[49m\u001b[43msubject\u001b[49m\u001b[43m \u001b[49m\u001b[38;5;129;43;01min\u001b[39;49;00m\u001b[43m \u001b[49m\u001b[43msubjects\u001b[49m\u001b[43m)\u001b[49m\n\u001b[0;32m    128\u001b[0m SGPA \u001b[38;5;241m=\u001b[39m total_grade_points \u001b[38;5;241m/\u001b[39m total_credits\n\u001b[0;32m    130\u001b[0m previous_credits \u001b[38;5;241m=\u001b[39m \u001b[38;5;241m21.00\u001b[39m\n",
      "Cell \u001b[1;32mIn[7], line 126\u001b[0m, in \u001b[0;36m<genexpr>\u001b[1;34m(.0)\u001b[0m\n\u001b[0;32m    123\u001b[0m     \u001b[38;5;28mprint\u001b[39m(\u001b[38;5;124mf\u001b[39m\u001b[38;5;124m\"\u001b[39m\u001b[38;5;132;01m{\u001b[39;00msubject[\u001b[38;5;241m0\u001b[39m]\u001b[38;5;132;01m:\u001b[39;00m\u001b[38;5;124m<20\u001b[39m\u001b[38;5;132;01m}\u001b[39;00m\u001b[38;5;124m \u001b[39m\u001b[38;5;132;01m{\u001b[39;00msubject[\u001b[38;5;241m1\u001b[39m]\u001b[38;5;132;01m:\u001b[39;00m\u001b[38;5;124m<10\u001b[39m\u001b[38;5;132;01m}\u001b[39;00m\u001b[38;5;124m \u001b[39m\u001b[38;5;132;01m{\u001b[39;00msubject[\u001b[38;5;241m2\u001b[39m]\u001b[38;5;132;01m:\u001b[39;00m\u001b[38;5;124m<10\u001b[39m\u001b[38;5;132;01m}\u001b[39;00m\u001b[38;5;124m \u001b[39m\u001b[38;5;132;01m{\u001b[39;00msubject[\u001b[38;5;241m3\u001b[39m]\u001b[38;5;132;01m:\u001b[39;00m\u001b[38;5;124m<10\u001b[39m\u001b[38;5;132;01m}\u001b[39;00m\u001b[38;5;124m\"\u001b[39m)\n\u001b[0;32m    125\u001b[0m total_credits \u001b[38;5;241m=\u001b[39m \u001b[38;5;28msum\u001b[39m(subject[\u001b[38;5;241m1\u001b[39m] \u001b[38;5;28;01mfor\u001b[39;00m subject \u001b[38;5;129;01min\u001b[39;00m subjects)\n\u001b[1;32m--> 126\u001b[0m total_grade_points \u001b[38;5;241m=\u001b[39m \u001b[38;5;28msum\u001b[39m(subject[\u001b[38;5;241m1\u001b[39m] \u001b[38;5;241m*\u001b[39m \u001b[43mgrade_points\u001b[49m[subject[\u001b[38;5;241m3\u001b[39m]] \u001b[38;5;28;01mfor\u001b[39;00m subject \u001b[38;5;129;01min\u001b[39;00m subjects)\n\u001b[0;32m    128\u001b[0m SGPA \u001b[38;5;241m=\u001b[39m total_grade_points \u001b[38;5;241m/\u001b[39m total_credits\n\u001b[0;32m    130\u001b[0m previous_credits \u001b[38;5;241m=\u001b[39m \u001b[38;5;241m21.00\u001b[39m\n",
      "\u001b[1;31mNameError\u001b[0m: name 'grade_points' is not defined"
     ]
    }
   ],
   "source": [
    "name = str(input(\"Enter the name of candidate: \"))\n",
    "roll_no = str(input(\"Enter the roll no: \"))\n",
    "register_no = str(input(\"Enter the registeration no: \"))\n",
    "enroll_no = str(input(\"Enter the enrollment no: \"))\n",
    "father_name = str(input(\"Enter the Father_name: \"))\n",
    "mother_name = str(input(\"Enter the mother_name: \"))\n",
    "\n",
    "def get_grade(marks):\n",
    "    if marks >= 90:\n",
    "        return 'A+'\n",
    "    elif marks >= 80:\n",
    "        return 'A'\n",
    "    elif marks >= 70:\n",
    "        return 'B+'\n",
    "    elif marks >= 60:\n",
    "        return 'B'\n",
    "    elif marks >= 50:\n",
    "        return 'C+'\n",
    "    elif marks >= 40:\n",
    "        return 'C'\n",
    "    elif marks >= 30:\n",
    "        return 'D'\n",
    "    else:\n",
    "        return 'F'\n",
    "    \n",
    "num_subjects = int(input(\"Enter the number of subjects: \"))\n",
    "subjects = []\n",
    "\n",
    "# subject1 = eval(input(\"Enter the marks obtained in Engineering Chemistry:\"))\n",
    "# subject2 = eval(input(\"Enter the marks obtained in Engineering Mechanics:\"))\n",
    "# subject3 = eval(input(\"Enter the marks obtained in Engineering Physics:\"))\n",
    "# subject4 = eval(input(\"Enter the marks obtained in Introduction To Futuristic Technologics:\"))\n",
    "# subject5 = eval(input(\"Enter the marks obtained in Design Thinking:\"))\n",
    "# subject6 = eval(input(\"Enter the marks obtained in Engineering Chemistry Lab:\"))\n",
    "# subject7 = eval(input(\"Enter the marks obtained in Engineering Physics Lab-1:\"))\n",
    "# subject8 = eval(input(\"Enter the marks obtained in Introduction to Web Technology:\"))\n",
    "# subject9 = eval(input(\"Enter the marks obtained in Language Lab:\"))\n",
    "# subject10 = eval(input(\"Enter the marks obtained in Practical Geometry:\"))\n",
    "# subject11 = eval(input(\"Enter the marks obtained in Workshop Practice:\"))\n",
    "# subject12 = eval(input(\"Enter the marks obtained in Talent Enrichment Programme (TEP)-II:\"))\n",
    "\n",
    "for i in range(num_subjects):\n",
    "    marks = subject1\n",
    "    grade = get_grade(marks)\n",
    "    status = 'Pass' if grade != 'F' else 'Fail'\n",
    "    subjects.append((subject1, marks, grade, status))\n",
    "\n",
    "# total_marks = (marks1+marks2+marks3+marks4+marks5+marks6+marks7+marks8+marks9+marks10+marks11+marks12)\n",
    "\n",
    "# percentage = (marks1+marks2+marks3+marks4+marks5+marks6+marks7+marks8+marks9+marks10+marks11+marks12/1200) * 100\n",
    "\n",
    "print(\"                                                                                                     \")\n",
    "print(\"*****************************************************************************************************\")\n",
    "print(\"                                                                                                     \")\n",
    "from colorama import Fore\n",
    "print(Fore.BLUE+\"                                       POORNIMA UNIVERSITY\")\n",
    "print(Fore.BLUE+\"     Member of Assciation of Indian Universities & Approved by UGC(Govt. of India) under 2(f) & 12(B)\")\n",
    "print(\"\\t\\t\\t\\t\\tStatement of Grades\")\n",
    "print(\"\\t\\t\\t\\tFaculty of Computer Science & Engineering\")\n",
    "print(\"\\t\\t\\t\\t\\t Bachelor of Technology\")\n",
    "print(\"\\t\\t\\t\\t\\t (Computer Engineering)\")\n",
    "print(\"\\t\\t\\t\\tSecond Semester (Main) Examination,April 2023\")\n",
    "print(\"                                                                                                     \")\n",
    "from colorama import Fore\n",
    "print(Fore.BLACK+f\"Name of Candidate    {name}\\t\\t\\t\\tRoll No.         {roll_no}\")\n",
    "print(f\"Registeration No.    {register_no}\\t\\t\\t\\tEnrollment No.   {enroll_no}\")\n",
    "print(f\"Father's Name        {father_name}\\t\\t\\t\\tMother's Name    {mother_name}\")\n",
    "print(\"                                                                                                     \")\n",
    "print(\"                                                                                                     \")\n",
    "print(\"-----------------------------------------------------------------------------------------------------\")\n",
    "print(\"\\t\\t\\t\\t\\t\\t\\t\\tCredit\")\n",
    "print(\"Code and Name of the Subject\\t\\t\\t\\tTotal Credit|Earned Credit    Grade    Status\")\n",
    "print(\"Theory\")\n",
    "print(f\"BTXCSA2101   Engineering Chemistry\\t\\t\\t      3.0   |    3.0\\t\\tmarks1\")\n",
    "print(\"BTXCME2105   Engineering Mechanics\\t\\t\\t      3.0   |    3.0\\t\\tmarks2\")\n",
    "print(\"BTXCSA2103   Engineering Physics  \\t\\t\\t      3.0   |    3.0\\t\\tmarks3\")\n",
    "print(\"BTXCEE2107   Introduction To Futuristic Technologics\\t      3.0   |    3.0\\t\\tmarks4\")\n",
    "print(\"BULEAR2107   Design Thinking\\t\\t\\t\\t      3.0   |    3.0\\t\\tmarks5\")\n",
    "print(\"  Practical / Sessional\")\n",
    "print(\"BTXCSA2201   Engineering Chemistry Lab\\t\\t\\t      1.0   |    1.0\\t\\tmarks6\")\n",
    "print(\"BTXCSA2103   Engineering Physics Lab-1\\t\\t\\t      1.0   |    1.0\\t\\tmarks7\")\n",
    "print(\"BCECC32210   Introduction to Web Technology\\t\\t      1.0   |    1.0\\t\\tmarks8\")\n",
    "print(\"BTXCHM2209   Language Lab\\t\\t\\t\\t      1.0   |    1.0\\t\\tmarks9\")\n",
    "print(\"BTXCME2207   Practical Geometry\\t\\t\\t\\t      1.0   |    1.0\\t\\tmarks10\")\n",
    "print(\"BTXCME2205   Workshop Practice \\t\\t\\t\\t      1.0   |    1.0\\t\\tmarks11\")\n",
    "print(\"BTXCTX2601   Talent Enrichment Programme (TEP)-II\\t      1.0   |    1.0\\t\\tmarks12\")\n",
    "\n",
    "# def get_grade(marks):\n",
    "#     if marks >= 90:\n",
    "#         return 'A+'\n",
    "#     elif marks >= 80:\n",
    "#         return 'A'\n",
    "#     elif marks >= 70:\n",
    "#         return 'B+'\n",
    "#     elif marks >= 60:\n",
    "#         return 'B'\n",
    "#     elif marks >= 50:\n",
    "#         return 'C+'\n",
    "#     elif marks >= 40:\n",
    "#         return 'C'\n",
    "#     elif marks >= 30:\n",
    "#         return 'D'\n",
    "#     else:\n",
    "#         return 'F'\n",
    "\n",
    "# num_subjects = int(input(\"Enter the number of subjects: \"))\n",
    "# subjects = []\n",
    "\n",
    "# # Input marks for each subject and determine grade and pass/fail status\n",
    "# for i in range(num_subjects):\n",
    "#     subject_name = input(f\"Enter the name of subject {i+1}: \")\n",
    "#     marks = int(input(f\"Enter the marks for {subject_name}: \"))\n",
    "#     grade = get_grade(marks)\n",
    "#     status = 'Pass' if grade != 'F' else 'Fail'\n",
    "#     subjects.append((subject_name, marks, grade, status))\n",
    "\n",
    "print(\"                                                                                                     \")\n",
    "print(\"-----------------------------------------------------------------------------------------------------\")\n",
    "print(\"                                                                                                     \")\n",
    "print(\"Status: Promoted to next Semester with NIL Bcaklog(s) / NIL Backlog(s) in current Semester\")\n",
    "\n",
    "for subject in subjects:\n",
    "    print(f\"{subject[0]:<20} {subject[1]:<10} {subject[2]:<10} {subject[3]:<10}\")\n",
    "\n",
    "total_credits = sum(subject[1] for subject in subjects)\n",
    "total_grade_points = sum(subject[1] * grade_points[subject[3]] for subject in subjects)\n",
    "\n",
    "SGPA = total_grade_points / total_credits\n",
    "\n",
    "previous_credits = 21.00\n",
    "previous_grade_points = 181.00\n",
    "\n",
    "cumulative_credits = previous_credits + total_credits\n",
    "cumulative_grade_points = previous_grade_points + total_grade_points\n",
    "\n",
    "CGPA = cumulative_grade_points / cumulative_credits\n",
    "\n",
    "print(f\"Total Credits (this semester): {total_credits}\")\n",
    "print(f\"Total Grade Points (this semester): {total_grade_points}\")\n",
    "print(f\"SGPA: {SGPA:.2f}\")\n",
    "print(f\"Cumulative Credits: {cumulative_credits}\")\n",
    "print(f\"Cumulative Grade Points: {cumulative_grade_points}\")\n",
    "print(f\"CGPA: {CGPA:.2f}\")"
   ]
  },
  {
   "cell_type": "code",
   "execution_count": 1,
   "id": "318f8a19",
   "metadata": {},
   "outputs": [
    {
     "name": "stdout",
     "output_type": "stream",
     "text": [
      "Total Credits (this semester): 21.0\n",
      "Total Grade Points (this semester): 188.0\n",
      "SGPA: 8.95\n",
      "Cumulative Credits: 42.0\n",
      "Cumulative Grade Points: 369.0\n",
      "CGPA: 8.79\n"
     ]
    }
   ],
   "source": [
    "\n",
    "\n",
    "# Enter the name of candidate: PARUL KUMARI\n",
    "# Enter the roll no: 1BCE/22/147\n",
    "# Enter the registeration no: 2022PUFCEBCEX12308\n",
    "# Enter the enrollment no: 2022/12308\n",
    "# Enter the Father_name: RAMKISHAN YADAV\n",
    "# Enter the mother_name: \n",
    "    \n",
    "    \n",
    "    \n",
    "    \n",
    "# *****************************************************************************************************\n",
    "               \n",
    "    \n",
    "\n",
    "    \n",
    "    \n",
    "    \n",
    "    \n",
    "# Mapping of grades to grade points\n",
    "grade_points = {\n",
    "    'A+': 10,\n",
    "    'A': 9,\n",
    "    'B+': 8,\n",
    "    'B': 7,\n",
    "    'C+': 6,\n",
    "    'C': 5,\n",
    "    'D': 4,\n",
    "    'F': 0\n",
    "}\n",
    "\n",
    "# Subject details: (subject code, total credits, earned credits, grade)\n",
    "subjects = [\n",
    "    (\"BTXCSA2101\", 3.0, 3.0, 'A'),\n",
    "    (\"BTXMCE2105\", 3.0, 3.0, 'A'),\n",
    "    (\"BTXCSA2103\", 3.0, 3.0, 'B+'),\n",
    "    (\"BTXCEE2107\", 3.0, 3.0, 'A'),\n",
    "    (\"BULEAR2107\", 2.0, 2.0, 'A'),\n",
    "    (\"BTXCSA2207\", 1.0, 1.0, 'A+'),\n",
    "    (\"BTXCSA2203\", 1.0, 1.0, 'A+'),\n",
    "    (\"BTECEE2210\", 1.0, 1.0, 'A'),\n",
    "    (\"BTXCHM2209\", 1.0, 1.0, 'A'),\n",
    "    (\"BTXMCE2207\", 1.0, 1.0, 'A'),\n",
    "    (\"BTXMCE2205\", 1.0, 1.0, 'A+'),\n",
    "    (\"BTXT2061\", 1.0, 1.0, 'B+')\n",
    "]\n",
    "\n",
    "# Calculate SGPA\n",
    "total_credits = sum(subject[1] for subject in subjects)\n",
    "total_grade_points = sum(subject[1] * grade_points[subject[3]] for subject in subjects)\n",
    "\n",
    "SGPA = total_grade_points / total_credits\n",
    "\n",
    "# Assume previous semester details for CGPA calculation\n",
    "previous_credits = 21.00\n",
    "previous_grade_points = 181.00\n",
    "\n",
    "# Calculate CGPA\n",
    "cumulative_credits = previous_credits + total_credits\n",
    "cumulative_grade_points = previous_grade_points + total_grade_points\n",
    "\n",
    "CGPA = cumulative_grade_points / cumulative_credits\n",
    "\n",
    "# Print the results\n",
    "print(f\"Total Credits (this semester): {total_credits}\")\n",
    "print(f\"Total Grade Points (this semester): {total_grade_points}\")\n",
    "print(f\"SGPA: {SGPA:.2f}\")\n",
    "print(f\"Cumulative Credits: {cumulative_credits}\")\n",
    "print(f\"Cumulative Grade Points: {cumulative_grade_points}\")\n",
    "print(f\"CGPA: {CGPA:.2f}\")\n"
   ]
  },
  {
   "cell_type": "code",
   "execution_count": null,
   "id": "46a751e2",
   "metadata": {},
   "outputs": [],
   "source": [
    "\n",
    "def get_grade(marks):\n",
    "    if marks >= 90:\n",
    "        return 'A+'\n",
    "    elif marks >= 80:\n",
    "        return 'A'\n",
    "    elif marks >= 70:\n",
    "        return 'B+'\n",
    "    elif marks >= 60:\n",
    "        return 'B'\n",
    "    elif marks >= 50:\n",
    "        return 'C+'\n",
    "    elif marks >= 40:\n",
    "        return 'C'\n",
    "    elif marks >= 30:\n",
    "        return 'D'\n",
    "    else:\n",
    "        return 'F'\n",
    "\n",
    "# Input: number of subjects\n",
    "num_subjects = int(input(\"Enter the number of subjects: \"))\n",
    "\n",
    "# Initialize a list to store subject details\n",
    "subjects = []\n",
    "\n",
    "# Input marks for each subject and determine grade and pass/fail status\n",
    "for i in range(num_subjects):\n",
    "    subject_name = input(f\"Enter the name of subject {i+1}: \")\n",
    "    marks = int(input(f\"Enter the marks for {subject_name}: \"))\n",
    "    grade = get_grade(marks)\n",
    "    status = 'Pass' if grade != 'F' else 'Fail'\n",
    "    subjects.append((subject_name, marks, grade, status))\n",
    "\n",
    "# Print the results\n",
    "print(\"\\nSubject-wise Grades and Status:\")\n",
    "print(f\"{'Subject':<20} {'Marks':<10} {'Grade':<10} {'Status':<10}\")\n",
    "for subject in subjects:\n",
    "    print(f\"{subject[0]:<20} {subject[1]:<10} {subject[2]:<10} {subject[3]:<10}\")"
   ]
  }
 ],
 "metadata": {
  "kernelspec": {
   "display_name": "Python 3 (ipykernel)",
   "language": "python",
   "name": "python3"
  },
  "language_info": {
   "codemirror_mode": {
    "name": "ipython",
    "version": 3
   },
   "file_extension": ".py",
   "mimetype": "text/x-python",
   "name": "python",
   "nbconvert_exporter": "python",
   "pygments_lexer": "ipython3",
   "version": "3.10.9"
  }
 },
 "nbformat": 4,
 "nbformat_minor": 5
}
