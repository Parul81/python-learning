{
 "cells": [
  {
   "cell_type": "markdown",
   "id": "cc6c2232",
   "metadata": {},
   "source": [
    "# DAY-12"
   ]
  },
  {
   "cell_type": "code",
   "execution_count": null,
   "id": "774b598e",
   "metadata": {},
   "outputs": [],
   "source": [
    "# What is Dictionary?\n",
    "=> Dictionary is a collection of items or elements in key value pairs.\n",
    "=> It always represents in {} brackets but with {key: values}\n",
    "=> Dictionary is mutable but the key inside the dictionary is imutable and values are also mutable.\n",
    "=> It is collection of ordered pair of keys and values."
   ]
  },
  {
   "cell_type": "code",
   "execution_count": 3,
   "id": "bee0afda",
   "metadata": {},
   "outputs": [
    {
     "name": "stdout",
     "output_type": "stream",
     "text": [
      "{'Id': 101, 'Name': 'Parul', 'Surname': 'Yadav', 'Age': 20, 'Couse': 'Python'} <class 'dict'>\n"
     ]
    }
   ],
   "source": [
    "# Creating a dictionary as d:-\n",
    "# Inserting keys and values in it as par choice.\n",
    "#  printing its result with it type.\n",
    "\n",
    "d = {\"Id\":101,\"Name\":\"Parul\",\"Surname\":\"Yadav\",\"Age\":20,\"Couse\":\"Python\"}\n",
    "print(d,type(d))"
   ]
  },
  {
   "cell_type": "code",
   "execution_count": 4,
   "id": "b61f2c01",
   "metadata": {},
   "outputs": [
    {
     "data": {
      "text/plain": [
       "2194664327360"
      ]
     },
     "execution_count": 4,
     "metadata": {},
     "output_type": "execute_result"
    }
   ],
   "source": [
    "# Printing the id of the dictionary d:-\n",
    "\n",
    "id(d)"
   ]
  },
  {
   "cell_type": "code",
   "execution_count": 5,
   "id": "63d1562e",
   "metadata": {},
   "outputs": [
    {
     "ename": "KeyError",
     "evalue": "0",
     "output_type": "error",
     "traceback": [
      "\u001b[1;31m---------------------------------------------------------------------------\u001b[0m",
      "\u001b[1;31mKeyError\u001b[0m                                  Traceback (most recent call last)",
      "Cell \u001b[1;32mIn[5], line 4\u001b[0m\n\u001b[0;32m      1\u001b[0m \u001b[38;5;66;03m# If we want to find any value from the  index .\u001b[39;00m\n\u001b[0;32m      2\u001b[0m \u001b[38;5;66;03m# Can we do this / Is it possible?\u001b[39;00m\n\u001b[1;32m----> 4\u001b[0m \u001b[43md\u001b[49m\u001b[43m[\u001b[49m\u001b[38;5;241;43m0\u001b[39;49m\u001b[43m]\u001b[49m\n",
      "\u001b[1;31mKeyError\u001b[0m: 0"
     ]
    }
   ],
   "source": [
    "# If we want to find any value from the  index .\n",
    "# Can we do this / Is it possible?\n",
    "\n",
    "d[0]\n",
    "\n",
    "# No, its not possible because dictionary consists of key and value pair and it doesn't have any index value of its own that's why indexing is not possible in dictionary.\n",
    "# It always show an error to us."
   ]
  },
  {
   "cell_type": "code",
   "execution_count": 6,
   "id": "af06dc76",
   "metadata": {},
   "outputs": [
    {
     "data": {
      "text/plain": [
       "101"
      ]
     },
     "execution_count": 6,
     "metadata": {},
     "output_type": "execute_result"
    }
   ],
   "source": [
    "# On the other hand we can call it through its key \n",
    "# Or we can say we can call an value from its key?\n",
    "# Let's see how we can do this?\n",
    "\n",
    "d[\"Id\"]"
   ]
  },
  {
   "cell_type": "code",
   "execution_count": 7,
   "id": "e4d0bd4e",
   "metadata": {},
   "outputs": [
    {
     "data": {
      "text/plain": [
       "20"
      ]
     },
     "execution_count": 7,
     "metadata": {},
     "output_type": "execute_result"
    }
   ],
   "source": [
    "# On more exam of this is:-\n",
    "\n",
    "d[\"Age\"]"
   ]
  },
  {
   "cell_type": "code",
   "execution_count": 8,
   "id": "acb77249",
   "metadata": {},
   "outputs": [],
   "source": [
    "# Can we change the value in the dictionary.\n",
    "# Is it possible to do so\n",
    "# Let's have a look :-\n",
    "\n",
    "d[\"Name\"] = \"Amisha\""
   ]
  },
  {
   "cell_type": "code",
   "execution_count": 9,
   "id": "5a858600",
   "metadata": {},
   "outputs": [
    {
     "data": {
      "text/plain": [
       "{'Id': 101, 'Name': 'Amisha', 'Surname': 'Yadav', 'Age': 20, 'Couse': 'Python'}"
      ]
     },
     "execution_count": 9,
     "metadata": {},
     "output_type": "execute_result"
    }
   ],
   "source": [
    "# calling the dictionary to check whether the name is changed or not:-\n",
    "# Let's see\n",
    "\n",
    "d\n",
    "\n",
    "# Here the value of the key \"name\" has been changed as because value are mutable in dictionary"
   ]
  },
  {
   "cell_type": "code",
   "execution_count": 10,
   "id": "7d7edea5",
   "metadata": {},
   "outputs": [
    {
     "data": {
      "text/plain": [
       "2194664327360"
      ]
     },
     "execution_count": 10,
     "metadata": {},
     "output_type": "execute_result"
    }
   ],
   "source": [
    "# Let's check the id also to see that the id is changed or not:-\n",
    "\n",
    "id(d)\n",
    "\n",
    "# The id is not changed it was remain same as earlier."
   ]
  },
  {
   "cell_type": "code",
   "execution_count": 11,
   "id": "62cd58e3",
   "metadata": {},
   "outputs": [],
   "source": [
    "# Check that the dictionary is mutable or imutable:-\n",
    "# Let's have a look\n",
    "\n",
    "d[\"Fees\"] = 10000"
   ]
  },
  {
   "cell_type": "code",
   "execution_count": 14,
   "id": "8426e8b0",
   "metadata": {},
   "outputs": [
    {
     "data": {
      "text/plain": [
       "{'Id': 101,\n",
       " 'Name': 'Amisha',\n",
       " 'Surname': 'Yadav',\n",
       " 'Age': 20,\n",
       " 'Couse': 'Python',\n",
       " 'Fees': 10000}"
      ]
     },
     "execution_count": 14,
     "metadata": {},
     "output_type": "execute_result"
    }
   ],
   "source": [
    "# Calling the dictionary to check the result :-\n",
    "\n",
    "d\n",
    "\n",
    "# Here it proves that the dictionary is mutable as it add the new key in it."
   ]
  },
  {
   "cell_type": "code",
   "execution_count": 15,
   "id": "04807a28",
   "metadata": {},
   "outputs": [
    {
     "data": {
      "text/plain": [
       "2194664327360"
      ]
     },
     "execution_count": 15,
     "metadata": {},
     "output_type": "execute_result"
    }
   ],
   "source": [
    "# Checking its id also:-\n",
    "\n",
    "id(d)\n",
    "\n",
    "# The id is same here."
   ]
  },
  {
   "cell_type": "code",
   "execution_count": 16,
   "id": "67a64403",
   "metadata": {},
   "outputs": [
    {
     "name": "stdout",
     "output_type": "stream",
     "text": [
      "Id\n",
      "Name\n",
      "Surname\n",
      "Age\n",
      "Couse\n",
      "Fees\n"
     ]
    }
   ],
   "source": [
    "# Printing the dictionary using the for loop:-\n",
    "\n",
    "for k in d:\n",
    "    print(k)\n",
    "    \n",
    "# Here only the keys are print because we ask for only the keys."
   ]
  },
  {
   "cell_type": "code",
   "execution_count": 17,
   "id": "86ad1925",
   "metadata": {},
   "outputs": [
    {
     "name": "stdout",
     "output_type": "stream",
     "text": [
      "Id ------> 101\n",
      "Name ------> Amisha\n",
      "Surname ------> Yadav\n",
      "Age ------> 20\n",
      "Couse ------> Python\n",
      "Fees ------> 10000\n"
     ]
    }
   ],
   "source": [
    "# Printing the dictionary using the for loop:-\n",
    "\n",
    "for k in d:\n",
    "    print(k,\"------>\",d[k])"
   ]
  },
  {
   "cell_type": "code",
   "execution_count": 18,
   "id": "361dd0b2",
   "metadata": {},
   "outputs": [
    {
     "name": "stdout",
     "output_type": "stream",
     "text": [
      "0\n",
      "1\n",
      "2\n",
      "3\n",
      "4\n",
      "5\n"
     ]
    }
   ],
   "source": [
    "# Printing the dictionary using the for loop:-\n",
    "# For the range function also:-\n",
    "\n",
    "for k in range(len(d)):\n",
    "    print(k)\n",
    "    \n",
    "# Here it is only for the printing of the index."
   ]
  },
  {
   "cell_type": "code",
   "execution_count": 19,
   "id": "5224059f",
   "metadata": {},
   "outputs": [
    {
     "ename": "KeyError",
     "evalue": "0",
     "output_type": "error",
     "traceback": [
      "\u001b[1;31m---------------------------------------------------------------------------\u001b[0m",
      "\u001b[1;31mKeyError\u001b[0m                                  Traceback (most recent call last)",
      "Cell \u001b[1;32mIn[19], line 5\u001b[0m\n\u001b[0;32m      1\u001b[0m \u001b[38;5;66;03m# Printing the dictionary using the for loop:-\u001b[39;00m\n\u001b[0;32m      2\u001b[0m \u001b[38;5;66;03m# For the range function also:-\u001b[39;00m\n\u001b[0;32m      4\u001b[0m \u001b[38;5;28;01mfor\u001b[39;00m k \u001b[38;5;129;01min\u001b[39;00m \u001b[38;5;28mrange\u001b[39m(\u001b[38;5;28mlen\u001b[39m(d)):\n\u001b[1;32m----> 5\u001b[0m     \u001b[38;5;28mprint\u001b[39m(\u001b[43md\u001b[49m\u001b[43m[\u001b[49m\u001b[43mk\u001b[49m\u001b[43m]\u001b[49m)\n",
      "\u001b[1;31mKeyError\u001b[0m: 0"
     ]
    }
   ],
   "source": [
    "# Printing the dictionary using the for loop:-\n",
    "# For the range function also:-\n",
    "\n",
    "for k in range(len(d)):\n",
    "    print(d[k])\n",
    "    \n",
    "# Here it is only for the printing of the index.\n",
    "# We can't print the values from the dictionary like this"
   ]
  },
  {
   "cell_type": "code",
   "execution_count": 20,
   "id": "bb01b7da",
   "metadata": {},
   "outputs": [
    {
     "ename": "TypeError",
     "evalue": "'>' not supported between instances of 'dict' and 'dict'",
     "output_type": "error",
     "traceback": [
      "\u001b[1;31m---------------------------------------------------------------------------\u001b[0m",
      "\u001b[1;31mTypeError\u001b[0m                                 Traceback (most recent call last)",
      "Cell \u001b[1;32mIn[20], line 6\u001b[0m\n\u001b[0;32m      4\u001b[0m d1 \u001b[38;5;241m=\u001b[39m {\u001b[38;5;124m\"\u001b[39m\u001b[38;5;124mid\u001b[39m\u001b[38;5;124m\"\u001b[39m:\u001b[38;5;241m101\u001b[39m}\n\u001b[0;32m      5\u001b[0m d2 \u001b[38;5;241m=\u001b[39m {\u001b[38;5;124m\"\u001b[39m\u001b[38;5;124mid\u001b[39m\u001b[38;5;124m\"\u001b[39m:\u001b[38;5;241m102\u001b[39m}\n\u001b[1;32m----> 6\u001b[0m \u001b[43md1\u001b[49m\u001b[38;5;241;43m>\u001b[39;49m\u001b[43md2\u001b[49m\n",
      "\u001b[1;31mTypeError\u001b[0m: '>' not supported between instances of 'dict' and 'dict'"
     ]
    }
   ],
   "source": [
    "# Is it possible to print the comparison of two dictionary:-\n",
    "# Let's know why?\n",
    "\n",
    "d1 = {\"id\":101}\n",
    "d2 = {\"id\":102}\n",
    "d1>d2\n",
    "\n",
    "# Here it is not possible to compare two dictionary.\n",
    "# Because dictionary is not able to work on comparision operator."
   ]
  },
  {
   "cell_type": "code",
   "execution_count": 21,
   "id": "a7eaef68",
   "metadata": {},
   "outputs": [
    {
     "data": {
      "text/plain": [
       "{'Id': 101,\n",
       " 'Name': 'Amisha',\n",
       " 'Surname': 'Yadav',\n",
       " 'Age': 20,\n",
       " 'Couse': 'Python',\n",
       " 'Fees': 10000}"
      ]
     },
     "execution_count": 21,
     "metadata": {},
     "output_type": "execute_result"
    }
   ],
   "source": [
    "# Calling the dictionary again:-\n",
    "\n",
    "d"
   ]
  },
  {
   "cell_type": "code",
   "execution_count": 22,
   "id": "283227a1",
   "metadata": {},
   "outputs": [
    {
     "data": {
      "text/plain": [
       "'Amisha'"
      ]
     },
     "execution_count": 22,
     "metadata": {},
     "output_type": "execute_result"
    }
   ],
   "source": [
    "# printing dictionary values with the help of key attributes\n",
    "\n",
    "d[\"Name\"]"
   ]
  },
  {
   "cell_type": "code",
   "execution_count": 23,
   "id": "aebf3026",
   "metadata": {},
   "outputs": [
    {
     "data": {
      "text/plain": [
       "2194664327360"
      ]
     },
     "execution_count": 23,
     "metadata": {},
     "output_type": "execute_result"
    }
   ],
   "source": [
    "# Printing id of d:-\n",
    "\n",
    "id(d)"
   ]
  },
  {
   "cell_type": "code",
   "execution_count": 24,
   "id": "41fce4ad",
   "metadata": {},
   "outputs": [
    {
     "data": {
      "text/plain": [
       "6"
      ]
     },
     "execution_count": 24,
     "metadata": {},
     "output_type": "execute_result"
    }
   ],
   "source": [
    "# Finding the length of the dictionary:-\n",
    "\n",
    "len(d)\n",
    "\n",
    "# Here the length of the dictionary is 6."
   ]
  },
  {
   "cell_type": "code",
   "execution_count": 25,
   "id": "07a156e7",
   "metadata": {},
   "outputs": [
    {
     "data": {
      "text/plain": [
       "dict_keys(['Id', 'Name', 'Surname', 'Age', 'Couse', 'Fees'])"
      ]
     },
     "execution_count": 25,
     "metadata": {},
     "output_type": "execute_result"
    }
   ],
   "source": [
    "# caling the keys of the dictionary\n",
    "\n",
    "d.keys()"
   ]
  },
  {
   "cell_type": "code",
   "execution_count": 26,
   "id": "4dbfed54",
   "metadata": {},
   "outputs": [
    {
     "name": "stdout",
     "output_type": "stream",
     "text": [
      "Id\n",
      "Name\n",
      "Surname\n",
      "Age\n",
      "Couse\n",
      "Fees\n"
     ]
    }
   ],
   "source": [
    "# printing the keys through the for loop:-\n",
    "\n",
    "for k in d.keys():\n",
    "    print(k)"
   ]
  },
  {
   "cell_type": "code",
   "execution_count": 27,
   "id": "0e067365",
   "metadata": {},
   "outputs": [
    {
     "data": {
      "text/plain": [
       "dict_values([101, 'Amisha', 'Yadav', 20, 'Python', 10000])"
      ]
     },
     "execution_count": 27,
     "metadata": {},
     "output_type": "execute_result"
    }
   ],
   "source": [
    "# calling the values from the dictionary:\n",
    "\n",
    "d.values()"
   ]
  },
  {
   "cell_type": "code",
   "execution_count": 28,
   "id": "fc9e48a9",
   "metadata": {},
   "outputs": [
    {
     "name": "stdout",
     "output_type": "stream",
     "text": [
      "101\n",
      "Amisha\n",
      "Yadav\n",
      "20\n",
      "Python\n",
      "10000\n"
     ]
    }
   ],
   "source": [
    "# printing the values of the dictionary through the for loop:-\n",
    "\n",
    "for k in d.values():\n",
    "    print(k)"
   ]
  },
  {
   "cell_type": "code",
   "execution_count": 29,
   "id": "1dc54135",
   "metadata": {},
   "outputs": [
    {
     "data": {
      "text/plain": [
       "dict_items([('Id', 101), ('Name', 'Amisha'), ('Surname', 'Yadav'), ('Age', 20), ('Couse', 'Python'), ('Fees', 10000)])"
      ]
     },
     "execution_count": 29,
     "metadata": {},
     "output_type": "execute_result"
    }
   ],
   "source": [
    "# Calling the keys and values from the items:\n",
    "\n",
    "d.items()"
   ]
  },
  {
   "cell_type": "code",
   "execution_count": 30,
   "id": "9e8cca7e",
   "metadata": {},
   "outputs": [
    {
     "name": "stdout",
     "output_type": "stream",
     "text": [
      "Id ------> 101\n",
      "Name ------> Amisha\n",
      "Surname ------> Yadav\n",
      "Age ------> 20\n",
      "Couse ------> Python\n",
      "Fees ------> 10000\n"
     ]
    }
   ],
   "source": [
    "# printing the items of the dictionary through the for loop:\n",
    "\n",
    "for k,j in d.items():\n",
    "    print(k,\"------>\",j)"
   ]
  },
  {
   "cell_type": "code",
   "execution_count": 31,
   "id": "b88a99c3",
   "metadata": {},
   "outputs": [
    {
     "data": {
      "text/plain": [
       "{'Id': 101,\n",
       " 'Name': 'Amisha',\n",
       " 'Surname': 'Yadav',\n",
       " 'Age': 20,\n",
       " 'Couse': 'Python',\n",
       " 'Fees': 10000}"
      ]
     },
     "execution_count": 31,
     "metadata": {},
     "output_type": "execute_result"
    }
   ],
   "source": [
    "# Calling the dictionary d:\n",
    "\n",
    "d"
   ]
  },
  {
   "cell_type": "code",
   "execution_count": 32,
   "id": "19475979",
   "metadata": {},
   "outputs": [
    {
     "ename": "AttributeError",
     "evalue": "'dict' object has no attribute 'remove'",
     "output_type": "error",
     "traceback": [
      "\u001b[1;31m---------------------------------------------------------------------------\u001b[0m",
      "\u001b[1;31mAttributeError\u001b[0m                            Traceback (most recent call last)",
      "Cell \u001b[1;32mIn[32], line 5\u001b[0m\n\u001b[0;32m      1\u001b[0m \u001b[38;5;66;03m# If we want to remove any key or values from the dictionary.\u001b[39;00m\n\u001b[0;32m      2\u001b[0m \u001b[38;5;66;03m# Can we do it through the remove method\u001b[39;00m\n\u001b[0;32m      3\u001b[0m \u001b[38;5;66;03m# Let's try it once what happens next.\u001b[39;00m\n\u001b[1;32m----> 5\u001b[0m \u001b[43md\u001b[49m\u001b[38;5;241;43m.\u001b[39;49m\u001b[43mremove\u001b[49m(\u001b[38;5;124m\"\u001b[39m\u001b[38;5;124mid\u001b[39m\u001b[38;5;124m\"\u001b[39m)\n",
      "\u001b[1;31mAttributeError\u001b[0m: 'dict' object has no attribute 'remove'"
     ]
    }
   ],
   "source": [
    "# If we want to remove any key or values from the dictionary.\n",
    "# Can we do it through the remove method\n",
    "# Let's try it once what happens next.\n",
    "\n",
    "d.remove(\"id\")\n",
    "\n",
    "# No, its not possible through the remove method to delete any element from the dictionary."
   ]
  },
  {
   "cell_type": "code",
   "execution_count": 33,
   "id": "b24ad796",
   "metadata": {},
   "outputs": [
    {
     "ename": "TypeError",
     "evalue": "pop expected at least 1 argument, got 0",
     "output_type": "error",
     "traceback": [
      "\u001b[1;31m---------------------------------------------------------------------------\u001b[0m",
      "\u001b[1;31mTypeError\u001b[0m                                 Traceback (most recent call last)",
      "Cell \u001b[1;32mIn[33], line 5\u001b[0m\n\u001b[0;32m      1\u001b[0m \u001b[38;5;66;03m# If we want to pop any key or values from the dictionary.\u001b[39;00m\n\u001b[0;32m      2\u001b[0m \u001b[38;5;66;03m# Can we do it through the pop method\u001b[39;00m\n\u001b[0;32m      3\u001b[0m \u001b[38;5;66;03m# Let's try it once what happens next.\u001b[39;00m\n\u001b[1;32m----> 5\u001b[0m \u001b[43md\u001b[49m\u001b[38;5;241;43m.\u001b[39;49m\u001b[43mpop\u001b[49m\u001b[43m(\u001b[49m\u001b[43m)\u001b[49m\n",
      "\u001b[1;31mTypeError\u001b[0m: pop expected at least 1 argument, got 0"
     ]
    }
   ],
   "source": [
    "# If we want to pop any key or values from the dictionary.\n",
    "# Can we do it through the pop method\n",
    "# Let's try it once what happens next.\n",
    "\n",
    "d.pop()\n",
    "\n",
    "# No, its not possible through the method to delete any element from the dictionary.\n",
    "# Without passing any attribute key value in it."
   ]
  },
  {
   "cell_type": "code",
   "execution_count": 36,
   "id": "02e09834",
   "metadata": {},
   "outputs": [
    {
     "data": {
      "text/plain": [
       "'Python'"
      ]
     },
     "execution_count": 36,
     "metadata": {},
     "output_type": "execute_result"
    }
   ],
   "source": [
    "# If we want to pop any key or values from the dictionary.\n",
    "# Can we do it through the pop method\n",
    "# Let's try it once what happens next.\n",
    "\n",
    "d.pop(\"Couse\")"
   ]
  },
  {
   "cell_type": "code",
   "execution_count": 37,
   "id": "789a748f",
   "metadata": {},
   "outputs": [
    {
     "data": {
      "text/plain": [
       "{'Id': 101, 'Name': 'Amisha', 'Surname': 'Yadav', 'Age': 20, 'Fees': 10000}"
      ]
     },
     "execution_count": 37,
     "metadata": {},
     "output_type": "execute_result"
    }
   ],
   "source": [
    "# Calling the dictionary:\n",
    "\n",
    "d"
   ]
  },
  {
   "cell_type": "code",
   "execution_count": 38,
   "id": "40d48083",
   "metadata": {},
   "outputs": [
    {
     "data": {
      "text/plain": [
       "2194664327360"
      ]
     },
     "execution_count": 38,
     "metadata": {},
     "output_type": "execute_result"
    }
   ],
   "source": [
    "# Checking it id is changed or remain same:-\n",
    "\n",
    "id(d)"
   ]
  },
  {
   "cell_type": "code",
   "execution_count": 39,
   "id": "9ece04b5",
   "metadata": {},
   "outputs": [
    {
     "data": {
      "text/plain": [
       "('Fees', 10000)"
      ]
     },
     "execution_count": 39,
     "metadata": {},
     "output_type": "execute_result"
    }
   ],
   "source": [
    "# We can also do it like this also:\n",
    "\n",
    "d.popitem()\n",
    "# It bydefault remove the last item of the dictionary automatically."
   ]
  },
  {
   "cell_type": "code",
   "execution_count": 40,
   "id": "a7eedeab",
   "metadata": {},
   "outputs": [
    {
     "name": "stdout",
     "output_type": "stream",
     "text": [
      "Enter the name: parul puja\n"
     ]
    }
   ],
   "source": [
    "# Input the name :-\n",
    "\n",
    "name = list(input(\"Enter the name: \"))"
   ]
  },
  {
   "cell_type": "code",
   "execution_count": 41,
   "id": "ecf57700",
   "metadata": {},
   "outputs": [
    {
     "data": {
      "text/plain": [
       "['p', 'a', 'r', 'u', 'l', ' ', 'p', 'u', 'j', 'a']"
      ]
     },
     "execution_count": 41,
     "metadata": {},
     "output_type": "execute_result"
    }
   ],
   "source": [
    "# Calling name:-\n",
    "\n",
    "name"
   ]
  },
  {
   "cell_type": "code",
   "execution_count": 42,
   "id": "b08a0fd2",
   "metadata": {},
   "outputs": [
    {
     "name": "stdout",
     "output_type": "stream",
     "text": [
      "Enter the name: Parul Puja Meghna\n"
     ]
    }
   ],
   "source": [
    "# to avoid the above result we used the split method:-\n",
    "# Let's kn ow how we can do this:-\n",
    "\n",
    "name = input(\"Enter the name: \").split()"
   ]
  },
  {
   "cell_type": "code",
   "execution_count": 43,
   "id": "db95514e",
   "metadata": {},
   "outputs": [
    {
     "data": {
      "text/plain": [
       "['Parul', 'Puja', 'Meghna']"
      ]
     },
     "execution_count": 43,
     "metadata": {},
     "output_type": "execute_result"
    }
   ],
   "source": [
    "# Calling the name to check the result:-\n",
    "\n",
    "name"
   ]
  },
  {
   "cell_type": "code",
   "execution_count": 45,
   "id": "02c78675",
   "metadata": {},
   "outputs": [
    {
     "name": "stdout",
     "output_type": "stream",
     "text": [
      "Enter the id 101 102 103 104 105\n"
     ]
    },
    {
     "data": {
      "text/plain": [
       "['101', '102', '103', '104', '105']"
      ]
     },
     "execution_count": 45,
     "metadata": {},
     "output_type": "execute_result"
    }
   ],
   "source": [
    "# We can also do this from the id :-\n",
    "# Let's see:-\n",
    "\n",
    "id_ = input(\"Enter the id \").split()\n",
    "id_"
   ]
  },
  {
   "cell_type": "code",
   "execution_count": 49,
   "id": "afef8238",
   "metadata": {},
   "outputs": [
    {
     "name": "stdout",
     "output_type": "stream",
     "text": [
      "Enter the id_101 102 103 104\n"
     ]
    },
    {
     "data": {
      "text/plain": [
       "<map at 0x1fefba39ae0>"
      ]
     },
     "execution_count": 49,
     "metadata": {},
     "output_type": "execute_result"
    }
   ],
   "source": [
    "# Doing it through mapping once:\n",
    "\n",
    "id_ = map(int,input(\"Enter the id_\").split())\n",
    "id_"
   ]
  },
  {
   "cell_type": "code",
   "execution_count": 50,
   "id": "f47109c2",
   "metadata": {},
   "outputs": [
    {
     "data": {
      "text/plain": [
       "[101, 102, 103, 104]"
      ]
     },
     "execution_count": 50,
     "metadata": {},
     "output_type": "execute_result"
    }
   ],
   "source": [
    "list(id_)"
   ]
  },
  {
   "cell_type": "code",
   "execution_count": 51,
   "id": "316d88da",
   "metadata": {},
   "outputs": [
    {
     "name": "stdout",
     "output_type": "stream",
     "text": [
      "Enter the id:1001 1002 1003 1004 10005 1006 1007 1008 1009 1010\n",
      "['Enter', 'the', 'name:']Parul Pradeep Mehak Ronak Rohan Tilak Puja Sahil Ravi Rani\n",
      "Enter the age:20 19 20 19 19 19 20 20 19 20\n",
      "['Enter', 'the', 'course:']Java Python React C C++ DSA SQL PHP Devops DA\n",
      "Enter the fees:10000 20000 13000 2400 5200 7600 7000 3400 9460 10009\n",
      "['Enter', 'the', 'address:']Jaipur Haryana Bihar  Jodhpur Ranchi Odisha Lucknow Delhi HP Up\n",
      "['Enter', 'the', 'gender:']F M F M M M F M M F\n"
     ]
    }
   ],
   "source": [
    "# Making an dataframe :-\n",
    "\n",
    "id_ = list(map(int,input(\"Enter the id:\").split()))\n",
    "name = input(\"Enter the name: \".split())\n",
    "age = list(map(int,input(\"Enter the age:\").split()))\n",
    "course = input(\"Enter the course: \".split())\n",
    "fees = list(map(int,input(\"Enter the fees:\").split()))\n",
    "address = input(\"Enter the address: \".split())\n",
    "gender = input(\"Enter the gender: \".split())"
   ]
  },
  {
   "cell_type": "code",
   "execution_count": 52,
   "id": "772bfd02",
   "metadata": {},
   "outputs": [],
   "source": [
    "d = {\"ID\":id_,\"Name\":name,\"Age\":age,\"Course\":course,\"Fees\":fees,\"Address\":address,\"Gender\":gender\n",
    "}"
   ]
  },
  {
   "cell_type": "code",
   "execution_count": 53,
   "id": "b84207d1",
   "metadata": {},
   "outputs": [
    {
     "data": {
      "text/plain": [
       "{'ID': [1001, 1002, 1003, 1004, 10005, 1006, 1007, 1008, 1009, 1010],\n",
       " 'Name': 'Parul Pradeep Mehak Ronak Rohan Tilak Puja Sahil Ravi Rani',\n",
       " 'Age': [20, 19, 20, 19, 19, 19, 20, 20, 19, 20],\n",
       " 'Course': 'Java Python React C C++ DSA SQL PHP Devops DA',\n",
       " 'Fees': [10000, 20000, 13000, 2400, 5200, 7600, 7000, 3400, 9460, 10009],\n",
       " 'Address': 'Jaipur Haryana Bihar  Jodhpur Ranchi Odisha Lucknow Delhi HP Up',\n",
       " 'Gender': 'F M F M M M F M M F'}"
      ]
     },
     "execution_count": 53,
     "metadata": {},
     "output_type": "execute_result"
    }
   ],
   "source": [
    "# Printing valuees of d:-\n",
    "\n",
    "d"
   ]
  },
  {
   "cell_type": "code",
   "execution_count": 57,
   "id": "5ebd156d",
   "metadata": {},
   "outputs": [],
   "source": [
    "# Importing pandas and extrac dataframe:-\n",
    "\n",
    "import pandas as pd"
   ]
  },
  {
   "cell_type": "code",
   "execution_count": 58,
   "id": "6aadf860",
   "metadata": {},
   "outputs": [
    {
     "data": {
      "text/html": [
       "<div>\n",
       "<style scoped>\n",
       "    .dataframe tbody tr th:only-of-type {\n",
       "        vertical-align: middle;\n",
       "    }\n",
       "\n",
       "    .dataframe tbody tr th {\n",
       "        vertical-align: top;\n",
       "    }\n",
       "\n",
       "    .dataframe thead th {\n",
       "        text-align: right;\n",
       "    }\n",
       "</style>\n",
       "<table border=\"1\" class=\"dataframe\">\n",
       "  <thead>\n",
       "    <tr style=\"text-align: right;\">\n",
       "      <th></th>\n",
       "      <th>ID</th>\n",
       "      <th>Name</th>\n",
       "      <th>Age</th>\n",
       "      <th>Course</th>\n",
       "      <th>Fees</th>\n",
       "      <th>Address</th>\n",
       "      <th>Gender</th>\n",
       "    </tr>\n",
       "  </thead>\n",
       "  <tbody>\n",
       "    <tr>\n",
       "      <th>0</th>\n",
       "      <td>1001</td>\n",
       "      <td>Parul Pradeep Mehak Ronak Rohan Tilak Puja Sah...</td>\n",
       "      <td>20</td>\n",
       "      <td>Java Python React C C++ DSA SQL PHP Devops DA</td>\n",
       "      <td>10000</td>\n",
       "      <td>Jaipur Haryana Bihar  Jodhpur Ranchi Odisha Lu...</td>\n",
       "      <td>F M F M M M F M M F</td>\n",
       "    </tr>\n",
       "    <tr>\n",
       "      <th>1</th>\n",
       "      <td>1002</td>\n",
       "      <td>Parul Pradeep Mehak Ronak Rohan Tilak Puja Sah...</td>\n",
       "      <td>19</td>\n",
       "      <td>Java Python React C C++ DSA SQL PHP Devops DA</td>\n",
       "      <td>20000</td>\n",
       "      <td>Jaipur Haryana Bihar  Jodhpur Ranchi Odisha Lu...</td>\n",
       "      <td>F M F M M M F M M F</td>\n",
       "    </tr>\n",
       "    <tr>\n",
       "      <th>2</th>\n",
       "      <td>1003</td>\n",
       "      <td>Parul Pradeep Mehak Ronak Rohan Tilak Puja Sah...</td>\n",
       "      <td>20</td>\n",
       "      <td>Java Python React C C++ DSA SQL PHP Devops DA</td>\n",
       "      <td>13000</td>\n",
       "      <td>Jaipur Haryana Bihar  Jodhpur Ranchi Odisha Lu...</td>\n",
       "      <td>F M F M M M F M M F</td>\n",
       "    </tr>\n",
       "    <tr>\n",
       "      <th>3</th>\n",
       "      <td>1004</td>\n",
       "      <td>Parul Pradeep Mehak Ronak Rohan Tilak Puja Sah...</td>\n",
       "      <td>19</td>\n",
       "      <td>Java Python React C C++ DSA SQL PHP Devops DA</td>\n",
       "      <td>2400</td>\n",
       "      <td>Jaipur Haryana Bihar  Jodhpur Ranchi Odisha Lu...</td>\n",
       "      <td>F M F M M M F M M F</td>\n",
       "    </tr>\n",
       "    <tr>\n",
       "      <th>4</th>\n",
       "      <td>10005</td>\n",
       "      <td>Parul Pradeep Mehak Ronak Rohan Tilak Puja Sah...</td>\n",
       "      <td>19</td>\n",
       "      <td>Java Python React C C++ DSA SQL PHP Devops DA</td>\n",
       "      <td>5200</td>\n",
       "      <td>Jaipur Haryana Bihar  Jodhpur Ranchi Odisha Lu...</td>\n",
       "      <td>F M F M M M F M M F</td>\n",
       "    </tr>\n",
       "    <tr>\n",
       "      <th>5</th>\n",
       "      <td>1006</td>\n",
       "      <td>Parul Pradeep Mehak Ronak Rohan Tilak Puja Sah...</td>\n",
       "      <td>19</td>\n",
       "      <td>Java Python React C C++ DSA SQL PHP Devops DA</td>\n",
       "      <td>7600</td>\n",
       "      <td>Jaipur Haryana Bihar  Jodhpur Ranchi Odisha Lu...</td>\n",
       "      <td>F M F M M M F M M F</td>\n",
       "    </tr>\n",
       "    <tr>\n",
       "      <th>6</th>\n",
       "      <td>1007</td>\n",
       "      <td>Parul Pradeep Mehak Ronak Rohan Tilak Puja Sah...</td>\n",
       "      <td>20</td>\n",
       "      <td>Java Python React C C++ DSA SQL PHP Devops DA</td>\n",
       "      <td>7000</td>\n",
       "      <td>Jaipur Haryana Bihar  Jodhpur Ranchi Odisha Lu...</td>\n",
       "      <td>F M F M M M F M M F</td>\n",
       "    </tr>\n",
       "    <tr>\n",
       "      <th>7</th>\n",
       "      <td>1008</td>\n",
       "      <td>Parul Pradeep Mehak Ronak Rohan Tilak Puja Sah...</td>\n",
       "      <td>20</td>\n",
       "      <td>Java Python React C C++ DSA SQL PHP Devops DA</td>\n",
       "      <td>3400</td>\n",
       "      <td>Jaipur Haryana Bihar  Jodhpur Ranchi Odisha Lu...</td>\n",
       "      <td>F M F M M M F M M F</td>\n",
       "    </tr>\n",
       "    <tr>\n",
       "      <th>8</th>\n",
       "      <td>1009</td>\n",
       "      <td>Parul Pradeep Mehak Ronak Rohan Tilak Puja Sah...</td>\n",
       "      <td>19</td>\n",
       "      <td>Java Python React C C++ DSA SQL PHP Devops DA</td>\n",
       "      <td>9460</td>\n",
       "      <td>Jaipur Haryana Bihar  Jodhpur Ranchi Odisha Lu...</td>\n",
       "      <td>F M F M M M F M M F</td>\n",
       "    </tr>\n",
       "    <tr>\n",
       "      <th>9</th>\n",
       "      <td>1010</td>\n",
       "      <td>Parul Pradeep Mehak Ronak Rohan Tilak Puja Sah...</td>\n",
       "      <td>20</td>\n",
       "      <td>Java Python React C C++ DSA SQL PHP Devops DA</td>\n",
       "      <td>10009</td>\n",
       "      <td>Jaipur Haryana Bihar  Jodhpur Ranchi Odisha Lu...</td>\n",
       "      <td>F M F M M M F M M F</td>\n",
       "    </tr>\n",
       "  </tbody>\n",
       "</table>\n",
       "</div>"
      ],
      "text/plain": [
       "      ID                                               Name  Age  \\\n",
       "0   1001  Parul Pradeep Mehak Ronak Rohan Tilak Puja Sah...   20   \n",
       "1   1002  Parul Pradeep Mehak Ronak Rohan Tilak Puja Sah...   19   \n",
       "2   1003  Parul Pradeep Mehak Ronak Rohan Tilak Puja Sah...   20   \n",
       "3   1004  Parul Pradeep Mehak Ronak Rohan Tilak Puja Sah...   19   \n",
       "4  10005  Parul Pradeep Mehak Ronak Rohan Tilak Puja Sah...   19   \n",
       "5   1006  Parul Pradeep Mehak Ronak Rohan Tilak Puja Sah...   19   \n",
       "6   1007  Parul Pradeep Mehak Ronak Rohan Tilak Puja Sah...   20   \n",
       "7   1008  Parul Pradeep Mehak Ronak Rohan Tilak Puja Sah...   20   \n",
       "8   1009  Parul Pradeep Mehak Ronak Rohan Tilak Puja Sah...   19   \n",
       "9   1010  Parul Pradeep Mehak Ronak Rohan Tilak Puja Sah...   20   \n",
       "\n",
       "                                          Course   Fees  \\\n",
       "0  Java Python React C C++ DSA SQL PHP Devops DA  10000   \n",
       "1  Java Python React C C++ DSA SQL PHP Devops DA  20000   \n",
       "2  Java Python React C C++ DSA SQL PHP Devops DA  13000   \n",
       "3  Java Python React C C++ DSA SQL PHP Devops DA   2400   \n",
       "4  Java Python React C C++ DSA SQL PHP Devops DA   5200   \n",
       "5  Java Python React C C++ DSA SQL PHP Devops DA   7600   \n",
       "6  Java Python React C C++ DSA SQL PHP Devops DA   7000   \n",
       "7  Java Python React C C++ DSA SQL PHP Devops DA   3400   \n",
       "8  Java Python React C C++ DSA SQL PHP Devops DA   9460   \n",
       "9  Java Python React C C++ DSA SQL PHP Devops DA  10009   \n",
       "\n",
       "                                             Address               Gender  \n",
       "0  Jaipur Haryana Bihar  Jodhpur Ranchi Odisha Lu...  F M F M M M F M M F  \n",
       "1  Jaipur Haryana Bihar  Jodhpur Ranchi Odisha Lu...  F M F M M M F M M F  \n",
       "2  Jaipur Haryana Bihar  Jodhpur Ranchi Odisha Lu...  F M F M M M F M M F  \n",
       "3  Jaipur Haryana Bihar  Jodhpur Ranchi Odisha Lu...  F M F M M M F M M F  \n",
       "4  Jaipur Haryana Bihar  Jodhpur Ranchi Odisha Lu...  F M F M M M F M M F  \n",
       "5  Jaipur Haryana Bihar  Jodhpur Ranchi Odisha Lu...  F M F M M M F M M F  \n",
       "6  Jaipur Haryana Bihar  Jodhpur Ranchi Odisha Lu...  F M F M M M F M M F  \n",
       "7  Jaipur Haryana Bihar  Jodhpur Ranchi Odisha Lu...  F M F M M M F M M F  \n",
       "8  Jaipur Haryana Bihar  Jodhpur Ranchi Odisha Lu...  F M F M M M F M M F  \n",
       "9  Jaipur Haryana Bihar  Jodhpur Ranchi Odisha Lu...  F M F M M M F M M F  "
      ]
     },
     "execution_count": 58,
     "metadata": {},
     "output_type": "execute_result"
    }
   ],
   "source": [
    "df=pd.DataFrame(d)\n",
    "df"
   ]
  },
  {
   "cell_type": "code",
   "execution_count": null,
   "id": "5ae8bdf2",
   "metadata": {},
   "outputs": [],
   "source": []
  }
 ],
 "metadata": {
  "kernelspec": {
   "display_name": "Python 3 (ipykernel)",
   "language": "python",
   "name": "python3"
  },
  "language_info": {
   "codemirror_mode": {
    "name": "ipython",
    "version": 3
   },
   "file_extension": ".py",
   "mimetype": "text/x-python",
   "name": "python",
   "nbconvert_exporter": "python",
   "pygments_lexer": "ipython3",
   "version": "3.10.9"
  }
 },
 "nbformat": 4,
 "nbformat_minor": 5
}
