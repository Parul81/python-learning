{
 "cells": [
  {
   "cell_type": "markdown",
   "id": "0de85f67",
   "metadata": {},
   "source": [
    "# FUNCTION"
   ]
  },
  {
   "cell_type": "code",
   "execution_count": null,
   "id": "d06a9968",
   "metadata": {},
   "outputs": [],
   "source": [
    "# What is function?\n",
    "=> Python function is a block of code, that runs only when it is called.\n",
    "=> It is programmed to return the specific task. \n",
    "=>You can pass values in functions called parameters. \n",
    "=>It helps in performing repetitive tasks.\n",
    "=>Python def keyword is used to define a function, it is placed before a function name that is provided by the user to create a user-defined function."
   ]
  },
  {
   "cell_type": "code",
   "execution_count": 1,
   "id": "ab6758f8",
   "metadata": {},
   "outputs": [],
   "source": [
    "# Creating a new function as even_odd:-\n",
    "\n",
    "def even_odd(no):    # Passing parametrs as no\n",
    "    if no%2==0:\n",
    "        print(no,\"is a even no\")\n",
    "    else:\n",
    "        print(no,\"is a odd no\")"
   ]
  },
  {
   "cell_type": "code",
   "execution_count": 2,
   "id": "587ac5e2",
   "metadata": {},
   "outputs": [
    {
     "ename": "TypeError",
     "evalue": "even_odd() missing 1 required positional argument: 'no'",
     "output_type": "error",
     "traceback": [
      "\u001b[1;31m---------------------------------------------------------------------------\u001b[0m",
      "\u001b[1;31mTypeError\u001b[0m                                 Traceback (most recent call last)",
      "Cell \u001b[1;32mIn[2], line 3\u001b[0m\n\u001b[0;32m      1\u001b[0m \u001b[38;5;66;03m# Calling the def function:\u001b[39;00m\n\u001b[1;32m----> 3\u001b[0m \u001b[43meven_odd\u001b[49m\u001b[43m(\u001b[49m\u001b[43m)\u001b[49m\n",
      "\u001b[1;31mTypeError\u001b[0m: even_odd() missing 1 required positional argument: 'no'"
     ]
    }
   ],
   "source": [
    "# Calling the def function:\n",
    "\n",
    "even_odd()\n",
    "\n",
    "# This shows an error because we haven't passed any arguments in it."
   ]
  },
  {
   "cell_type": "code",
   "execution_count": 3,
   "id": "8c7f32ee",
   "metadata": {},
   "outputs": [
    {
     "name": "stdout",
     "output_type": "stream",
     "text": [
      "23 is a odd no\n"
     ]
    }
   ],
   "source": [
    "even_odd(23)"
   ]
  },
  {
   "cell_type": "code",
   "execution_count": 4,
   "id": "51780079",
   "metadata": {},
   "outputs": [
    {
     "name": "stdout",
     "output_type": "stream",
     "text": [
      "86 is a even no\n"
     ]
    }
   ],
   "source": [
    "even_odd(86)"
   ]
  },
  {
   "cell_type": "code",
   "execution_count": 5,
   "id": "7cea5f2d",
   "metadata": {},
   "outputs": [],
   "source": [
    "# Calling the def even_odd function:-\n",
    "\n",
    "def even_odd(no=34):    # Passing parametrs as no\n",
    "    if no%2==0:\n",
    "        print(no,\"is a even no\")\n",
    "    else:\n",
    "        print(no,\"is a odd no\")"
   ]
  },
  {
   "cell_type": "code",
   "execution_count": 6,
   "id": "84abde81",
   "metadata": {},
   "outputs": [
    {
     "name": "stdout",
     "output_type": "stream",
     "text": [
      "34 is a even no\n"
     ]
    }
   ],
   "source": [
    "even_odd()\n",
    "\n",
    "# 1) default arguments"
   ]
  },
  {
   "cell_type": "code",
   "execution_count": 7,
   "id": "7611554e",
   "metadata": {},
   "outputs": [
    {
     "name": "stdout",
     "output_type": "stream",
     "text": [
      "53 is a odd no\n"
     ]
    }
   ],
   "source": [
    "even_odd(53)\n",
    "\n",
    "# 2) position arguments"
   ]
  },
  {
   "cell_type": "code",
   "execution_count": 9,
   "id": "9e65f9e9",
   "metadata": {},
   "outputs": [],
   "source": [
    "# Calling the def function of even_odd:-\n",
    "\n",
    "def even_odd(no=45):    # Passing parametrs as no\n",
    "    if no%2==0:\n",
    "        print(no,\"is a even no\")\n",
    "    else:\n",
    "        print(no,\"is a odd no\")"
   ]
  },
  {
   "cell_type": "code",
   "execution_count": 10,
   "id": "2ba91ee3",
   "metadata": {},
   "outputs": [
    {
     "name": "stdout",
     "output_type": "stream",
     "text": [
      "45 is a odd no\n"
     ]
    }
   ],
   "source": [
    "even_odd()"
   ]
  },
  {
   "cell_type": "code",
   "execution_count": 11,
   "id": "684d1e18",
   "metadata": {},
   "outputs": [],
   "source": [
    "# Creating an new def dunction of simple add:-'\n",
    "\n",
    "def add(a=10,b=20):\n",
    "    add = a+b\n",
    "    print(add)\n"
   ]
  },
  {
   "cell_type": "code",
   "execution_count": 12,
   "id": "282bcd1c",
   "metadata": {},
   "outputs": [
    {
     "name": "stdout",
     "output_type": "stream",
     "text": [
      "30\n"
     ]
    }
   ],
   "source": [
    "# default arguments:-\n",
    "\n",
    "add()"
   ]
  },
  {
   "cell_type": "code",
   "execution_count": 13,
   "id": "3f11361d",
   "metadata": {},
   "outputs": [
    {
     "name": "stdout",
     "output_type": "stream",
     "text": [
      "88\n"
     ]
    }
   ],
   "source": [
    "# Position arguments:-\n",
    "\n",
    "add(34,54)"
   ]
  },
  {
   "cell_type": "code",
   "execution_count": 15,
   "id": "83d7c142",
   "metadata": {},
   "outputs": [
    {
     "name": "stdout",
     "output_type": "stream",
     "text": [
      "101\n"
     ]
    }
   ],
   "source": [
    "# keyword arguments:-\n",
    "\n",
    "add(b=67,a=34)"
   ]
  },
  {
   "cell_type": "code",
   "execution_count": 16,
   "id": "53dc6f73",
   "metadata": {},
   "outputs": [],
   "source": [
    "# calling the def funciton of add:-\n",
    "\n",
    "def add(a=10,b=20):\n",
    "    add = a+b\n",
    "    print(add)"
   ]
  },
  {
   "cell_type": "code",
   "execution_count": 17,
   "id": "fd5c5675",
   "metadata": {},
   "outputs": [
    {
     "name": "stdout",
     "output_type": "stream",
     "text": [
      "30\n"
     ]
    }
   ],
   "source": [
    "# Printing the result:-\n",
    "\n",
    "add()"
   ]
  },
  {
   "cell_type": "code",
   "execution_count": 19,
   "id": "466b1a63",
   "metadata": {},
   "outputs": [
    {
     "name": "stdout",
     "output_type": "stream",
     "text": [
      "30\n",
      "None\n"
     ]
    }
   ],
   "source": [
    "# primtning the function:-\n",
    "\n",
    "print(add())"
   ]
  },
  {
   "cell_type": "code",
   "execution_count": 20,
   "id": "9d42c43f",
   "metadata": {},
   "outputs": [
    {
     "data": {
      "text/plain": [
       "function"
      ]
     },
     "execution_count": 20,
     "metadata": {},
     "output_type": "execute_result"
    }
   ],
   "source": [
    "# Finding its type:-\n",
    "\n",
    "type(add)"
   ]
  },
  {
   "cell_type": "code",
   "execution_count": 21,
   "id": "5d5d9dd8",
   "metadata": {},
   "outputs": [
    {
     "name": "stdout",
     "output_type": "stream",
     "text": [
      "30\n"
     ]
    },
    {
     "data": {
      "text/plain": [
       "NoneType"
      ]
     },
     "execution_count": 21,
     "metadata": {},
     "output_type": "execute_result"
    }
   ],
   "source": [
    "# Finding the type of add function:-\n",
    "\n",
    "type(add())"
   ]
  },
  {
   "cell_type": "code",
   "execution_count": 22,
   "id": "6b8aa238",
   "metadata": {},
   "outputs": [],
   "source": [
    "# calling the def funciton of add:-\n",
    "\n",
    "def add(a=10,b=20):\n",
    "    add = a+b\n",
    "    return(add)"
   ]
  },
  {
   "cell_type": "code",
   "execution_count": 23,
   "id": "2b1fa58c",
   "metadata": {},
   "outputs": [
    {
     "name": "stdout",
     "output_type": "stream",
     "text": [
      "30\n"
     ]
    }
   ],
   "source": [
    "# printing the add funtion:_\n",
    "\n",
    "print(add())"
   ]
  },
  {
   "cell_type": "code",
   "execution_count": 24,
   "id": "0a309d9e",
   "metadata": {},
   "outputs": [
    {
     "data": {
      "text/plain": [
       "int"
      ]
     },
     "execution_count": 24,
     "metadata": {},
     "output_type": "execute_result"
    }
   ],
   "source": [
    "# printing its type:-\n",
    "\n",
    "type(add())"
   ]
  },
  {
   "cell_type": "code",
   "execution_count": 28,
   "id": "d5052ae5",
   "metadata": {},
   "outputs": [],
   "source": [
    "# calling the def funciton of add:-\n",
    "\n",
    "def add(a=10,b=20):\n",
    "    add = a+b\n",
    "    return(add)\n",
    "    return(\"Sam\")"
   ]
  },
  {
   "cell_type": "code",
   "execution_count": 26,
   "id": "66fda87f",
   "metadata": {},
   "outputs": [
    {
     "name": "stdout",
     "output_type": "stream",
     "text": [
      "30\n"
     ]
    }
   ],
   "source": [
    "print(add())\n",
    "\n",
    "# It will not print more than one return"
   ]
  },
  {
   "cell_type": "code",
   "execution_count": 27,
   "id": "6a182d6a",
   "metadata": {},
   "outputs": [
    {
     "data": {
      "text/plain": [
       "int"
      ]
     },
     "execution_count": 27,
     "metadata": {},
     "output_type": "execute_result"
    }
   ],
   "source": [
    "type(add())"
   ]
  },
  {
   "cell_type": "code",
   "execution_count": 29,
   "id": "060aab3c",
   "metadata": {},
   "outputs": [],
   "source": [
    "# calling the def funciton of add:-\n",
    "\n",
    "def add(a=10,b=20):\n",
    "    add = a+b\n",
    "    return(add)\n",
    "    print(\"Sam\")"
   ]
  },
  {
   "cell_type": "code",
   "execution_count": 30,
   "id": "9862acfc",
   "metadata": {},
   "outputs": [
    {
     "name": "stdout",
     "output_type": "stream",
     "text": [
      "30\n"
     ]
    }
   ],
   "source": [
    "# Printing the add function:-\n",
    "\n",
    "print(add())\n",
    "\n",
    "# It will not return the next  print in it"
   ]
  },
  {
   "cell_type": "code",
   "execution_count": 31,
   "id": "8e386909",
   "metadata": {},
   "outputs": [
    {
     "data": {
      "text/plain": [
       "int"
      ]
     },
     "execution_count": 31,
     "metadata": {},
     "output_type": "execute_result"
    }
   ],
   "source": [
    "# Finding its type:-\n",
    "\n",
    "type(add())"
   ]
  },
  {
   "cell_type": "code",
   "execution_count": 32,
   "id": "a7b7a557",
   "metadata": {},
   "outputs": [],
   "source": [
    "# calling the def funciton of add:-\n",
    "\n",
    "def add(a=10,b=20):\n",
    "    add = a+b\n",
    "    print(\"Sam\")\n",
    "    return add"
   ]
  },
  {
   "cell_type": "code",
   "execution_count": 33,
   "id": "f449dcd8",
   "metadata": {},
   "outputs": [
    {
     "name": "stdout",
     "output_type": "stream",
     "text": [
      "Sam\n",
      "30\n"
     ]
    }
   ],
   "source": [
    "# Printing the result:-\n",
    "\n",
    "print(add())"
   ]
  },
  {
   "cell_type": "code",
   "execution_count": 34,
   "id": "b998fb30",
   "metadata": {},
   "outputs": [
    {
     "name": "stdout",
     "output_type": "stream",
     "text": [
      "Sam\n"
     ]
    },
    {
     "data": {
      "text/plain": [
       "int"
      ]
     },
     "execution_count": 34,
     "metadata": {},
     "output_type": "execute_result"
    }
   ],
   "source": [
    "# Printing the type of the string:-\n",
    "\n",
    "type(add())"
   ]
  },
  {
   "cell_type": "markdown",
   "id": "b0f4e1f4",
   "metadata": {},
   "source": [
    "# DAY-14"
   ]
  },
  {
   "cell_type": "code",
   "execution_count": 77,
   "id": "4f54269f",
   "metadata": {},
   "outputs": [
    {
     "name": "stdout",
     "output_type": "stream",
     "text": [
      "(45, 34, 23, 12, 56, 45, 35, 34, 35) <class 'tuple'>\n"
     ]
    }
   ],
   "source": [
    "# Creating a new list :-\n",
    "# Here we are creating a list because we have to work through it on even_odd function as an parameter:-\n",
    "# Let's see what happens next:-\n",
    "\n",
    "l = (45,34,23,12,56,45,35,34,35)\n",
    "print(l,type(l))"
   ]
  },
  {
   "cell_type": "code",
   "execution_count": 78,
   "id": "3f0e03f5",
   "metadata": {},
   "outputs": [],
   "source": [
    "# Making a def function of even_odd:-\n",
    "# Passing the parameter of the list:-\n",
    "# Then using for loop with the list\n",
    "# In if and else conditon;-\n",
    "# At the end print the result of even odd.\n",
    "\n",
    "def even_odd(l):\n",
    "    even = []\n",
    "    odd = []\n",
    "    for k in l:\n",
    "        if k%2==0:\n",
    "            even.append(k)\n",
    "            \n",
    "        else:\n",
    "            odd.append(k)\n",
    "    \n",
    "    print(even)\n",
    "    print(odd)"
   ]
  },
  {
   "cell_type": "code",
   "execution_count": 79,
   "id": "7cd2a642",
   "metadata": {},
   "outputs": [
    {
     "name": "stdout",
     "output_type": "stream",
     "text": [
      "[34, 12, 56, 34]\n",
      "[45, 23, 45, 35, 35]\n"
     ]
    }
   ],
   "source": [
    "# Calling the even_odd function:-\n",
    "\n",
    "even_odd(l)"
   ]
  },
  {
   "cell_type": "code",
   "execution_count": 41,
   "id": "24563752",
   "metadata": {},
   "outputs": [],
   "source": [
    "# Making a def function of prime_no:-\n",
    "# Passing the parameter l and u:-\n",
    "# Then using for loop including the parameters\n",
    "# In if and else conditon;-\n",
    "# At the end print the result of prime_no.\n",
    "\n",
    "\n",
    "def prime_no(l,u):\n",
    "    prime = []\n",
    "    for no in range(l,u+1):\n",
    "        if no>1:\n",
    "            for i in range (2,no):\n",
    "                if no%i==0:\n",
    "                    break\n",
    "                    \n",
    "                    \n",
    "            else:\n",
    "                prime.append(no)\n",
    "                \n",
    "    print(prime)"
   ]
  },
  {
   "cell_type": "code",
   "execution_count": 42,
   "id": "2686d4c1",
   "metadata": {},
   "outputs": [
    {
     "name": "stdout",
     "output_type": "stream",
     "text": [
      "[2, 3, 5, 7, 11, 13, 17, 19, 23, 29, 31, 37, 41, 43, 47]\n"
     ]
    }
   ],
   "source": [
    "# calling the prime_no function():-\n",
    "\n",
    "prime_no(1,50)"
   ]
  },
  {
   "cell_type": "markdown",
   "id": "7845dce4",
   "metadata": {},
   "source": [
    "# LAMBDA FUNCTION:-"
   ]
  },
  {
   "cell_type": "code",
   "execution_count": 43,
   "id": "60fb1666",
   "metadata": {},
   "outputs": [],
   "source": [
    "# Lambda function is also called anonymnus function \n",
    "# Function without name\n",
    "# single expression and multiple arguments\n",
    "# Single hand expression"
   ]
  },
  {
   "cell_type": "code",
   "execution_count": 44,
   "id": "c4f29207",
   "metadata": {},
   "outputs": [
    {
     "data": {
      "text/plain": [
       "<function __main__.<lambda>(a, b)>"
      ]
     },
     "execution_count": 44,
     "metadata": {},
     "output_type": "execute_result"
    }
   ],
   "source": [
    "# Creating the lambda function:-\n",
    "lambda a,b:a+b\n",
    "\n",
    "# It gives functions runs when we call it"
   ]
  },
  {
   "cell_type": "code",
   "execution_count": 45,
   "id": "949410b1",
   "metadata": {},
   "outputs": [
    {
     "data": {
      "text/plain": [
       "15"
      ]
     },
     "execution_count": 45,
     "metadata": {},
     "output_type": "execute_result"
    }
   ],
   "source": [
    "# calling the function():-\n",
    "\n",
    "(lambda a,b:a+b)(7,8)"
   ]
  },
  {
   "cell_type": "code",
   "execution_count": 46,
   "id": "bc660722",
   "metadata": {},
   "outputs": [],
   "source": [
    "# Creating the lambda function of ab():-\n",
    "\n",
    "ab = lambda a,b:a+b"
   ]
  },
  {
   "cell_type": "code",
   "execution_count": 47,
   "id": "d86df853",
   "metadata": {},
   "outputs": [
    {
     "data": {
      "text/plain": [
       "15"
      ]
     },
     "execution_count": 47,
     "metadata": {},
     "output_type": "execute_result"
    }
   ],
   "source": [
    "# calling the ab():-\n",
    "\n",
    "ab(6,9)"
   ]
  },
  {
   "cell_type": "code",
   "execution_count": 48,
   "id": "b7309d06",
   "metadata": {},
   "outputs": [
    {
     "data": {
      "text/plain": [
       "function"
      ]
     },
     "execution_count": 48,
     "metadata": {},
     "output_type": "execute_result"
    }
   ],
   "source": [
    "type(ab)"
   ]
  },
  {
   "cell_type": "code",
   "execution_count": 49,
   "id": "df94ac4f",
   "metadata": {},
   "outputs": [
    {
     "data": {
      "text/plain": [
       "int"
      ]
     },
     "execution_count": 49,
     "metadata": {},
     "output_type": "execute_result"
    }
   ],
   "source": [
    "type(ab(7,8))"
   ]
  },
  {
   "cell_type": "code",
   "execution_count": 50,
   "id": "feee6b2f",
   "metadata": {},
   "outputs": [
    {
     "ename": "NameError",
     "evalue": "name 'c' is not defined",
     "output_type": "error",
     "traceback": [
      "\u001b[1;31m---------------------------------------------------------------------------\u001b[0m",
      "\u001b[1;31mNameError\u001b[0m                                 Traceback (most recent call last)",
      "Cell \u001b[1;32mIn[50], line 4\u001b[0m\n\u001b[0;32m      1\u001b[0m \u001b[38;5;66;03m# can we give multiple expression in it:-\u001b[39;00m\n\u001b[0;32m      2\u001b[0m \u001b[38;5;66;03m# Let's check:-\u001b[39;00m\n\u001b[1;32m----> 4\u001b[0m ab \u001b[38;5;241m=\u001b[39m \u001b[38;5;28;01mlambda\u001b[39;00m a,b,c,d,e,f:a\u001b[38;5;241m+\u001b[39mb,\u001b[43mc\u001b[49m\u001b[38;5;241m-\u001b[39md,e\u001b[38;5;241m*\u001b[39mf\n",
      "\u001b[1;31mNameError\u001b[0m: name 'c' is not defined"
     ]
    }
   ],
   "source": [
    "# can we give multiple expression in it:-\n",
    "# Let's check:-\n",
    "\n",
    "ab = lambda a,b,c,d,e,f:a+b,c-d,e*f\n",
    "\n",
    "# It shows error because lambda shows single expression multiple argumengts."
   ]
  },
  {
   "cell_type": "code",
   "execution_count": 51,
   "id": "b27b9b96",
   "metadata": {},
   "outputs": [],
   "source": [
    "ab = lambda a,b,c,d,e,f:a+b-c*d+e/f"
   ]
  },
  {
   "cell_type": "code",
   "execution_count": 52,
   "id": "937cc88d",
   "metadata": {},
   "outputs": [
    {
     "data": {
      "text/plain": [
       "-32.111111111111114"
      ]
     },
     "execution_count": 52,
     "metadata": {},
     "output_type": "execute_result"
    }
   ],
   "source": [
    "ab(4,5,6,7,8,9)"
   ]
  },
  {
   "cell_type": "code",
   "execution_count": 53,
   "id": "c900a200",
   "metadata": {},
   "outputs": [],
   "source": [
    "even_odd = lambda no:print(no,\"is even no\") if no%2==0 else print(no,\"is odd no\")"
   ]
  },
  {
   "cell_type": "code",
   "execution_count": 54,
   "id": "bc841e8e",
   "metadata": {},
   "outputs": [
    {
     "name": "stdout",
     "output_type": "stream",
     "text": [
      "45 is odd no\n"
     ]
    }
   ],
   "source": [
    "even_odd(45)"
   ]
  },
  {
   "cell_type": "code",
   "execution_count": 55,
   "id": "8e7464d5",
   "metadata": {},
   "outputs": [
    {
     "name": "stdout",
     "output_type": "stream",
     "text": [
      "Enter the no: 75\n"
     ]
    }
   ],
   "source": [
    "even_odd = lambda no=int(input(\"Enter the no: \")):print(no,\"is even no\") if no%2==0 else print(no,\"is odd no\")"
   ]
  },
  {
   "cell_type": "code",
   "execution_count": 56,
   "id": "5eb9ba80",
   "metadata": {},
   "outputs": [
    {
     "name": "stdout",
     "output_type": "stream",
     "text": [
      "75 is odd no\n"
     ]
    }
   ],
   "source": [
    "even_odd()"
   ]
  },
  {
   "cell_type": "code",
   "execution_count": 57,
   "id": "a589785e",
   "metadata": {},
   "outputs": [
    {
     "name": "stdout",
     "output_type": "stream",
     "text": [
      "65 is odd no\n"
     ]
    }
   ],
   "source": [
    "even_odd(65)"
   ]
  },
  {
   "cell_type": "code",
   "execution_count": 67,
   "id": "8e92ac7a",
   "metadata": {},
   "outputs": [],
   "source": [
    "max_min=lambda a,b:print(a,\"is max\",b,\"is min\") if a>b else print(b,\"is max\",a,\"is min\")"
   ]
  },
  {
   "cell_type": "code",
   "execution_count": 68,
   "id": "afbb4e17",
   "metadata": {},
   "outputs": [
    {
     "name": "stdout",
     "output_type": "stream",
     "text": [
      "120 is max 90 is min\n"
     ]
    }
   ],
   "source": [
    "max_min(90,120)"
   ]
  },
  {
   "cell_type": "code",
   "execution_count": 62,
   "id": "7830e847",
   "metadata": {},
   "outputs": [
    {
     "data": {
      "text/plain": [
       "{'ADD': 9, 'Sub': 75, 'Mul': 14}"
      ]
     },
     "execution_count": 62,
     "metadata": {},
     "output_type": "execute_result"
    }
   ],
   "source": [
    "ab = lambda a,b,c,d,e,f:{\"ADD\":a+b,\"Sub\":c-d,\"Mul\":e*f}\n",
    "ab(4,5,78,3,2,7)"
   ]
  },
  {
   "cell_type": "code",
   "execution_count": 63,
   "id": "cf01ddd1",
   "metadata": {},
   "outputs": [
    {
     "name": "stdout",
     "output_type": "stream",
     "text": [
      "ADD -----> 9\n",
      "Sub -----> 75\n",
      "Mul -----> 14\n"
     ]
    }
   ],
   "source": [
    "k = ab(4,5,78,3,2,7)\n",
    "for i in k:\n",
    "    print(i,\"----->\",k[i])"
   ]
  },
  {
   "cell_type": "code",
   "execution_count": 64,
   "id": "053dfc79",
   "metadata": {},
   "outputs": [
    {
     "name": "stdout",
     "output_type": "stream",
     "text": [
      "ADD -----> 9\n",
      "Sub -----> 75\n",
      "Mul -----> 14\n"
     ]
    }
   ],
   "source": [
    "k = ab(4,5,78,3,2,7)\n",
    "for i,j in k.items():\n",
    "    print(i,\"----->\",j)"
   ]
  },
  {
   "cell_type": "code",
   "execution_count": 65,
   "id": "9e021fce",
   "metadata": {},
   "outputs": [],
   "source": [
    "ab=lambda a,b:lambda c,d:lambda e,f:a+b-c*d+e/f"
   ]
  },
  {
   "cell_type": "code",
   "execution_count": 66,
   "id": "550f21d5",
   "metadata": {},
   "outputs": [
    {
     "data": {
      "text/plain": [
       "-1.5"
      ]
     },
     "execution_count": 66,
     "metadata": {},
     "output_type": "execute_result"
    }
   ],
   "source": [
    "ab(4,5)(6,2)(3,2)"
   ]
  },
  {
   "cell_type": "code",
   "execution_count": 69,
   "id": "d917a88e",
   "metadata": {},
   "outputs": [],
   "source": [
    "ab = lambda a,b:print(a+b)"
   ]
  },
  {
   "cell_type": "code",
   "execution_count": 70,
   "id": "003f3cb1",
   "metadata": {},
   "outputs": [
    {
     "name": "stdout",
     "output_type": "stream",
     "text": [
      "13\n"
     ]
    }
   ],
   "source": [
    "ab(6,7)"
   ]
  },
  {
   "cell_type": "code",
   "execution_count": 71,
   "id": "431e8b7c",
   "metadata": {},
   "outputs": [
    {
     "ename": "SyntaxError",
     "evalue": "invalid syntax (2488332098.py, line 1)",
     "output_type": "error",
     "traceback": [
      "\u001b[1;36m  Cell \u001b[1;32mIn[71], line 1\u001b[1;36m\u001b[0m\n\u001b[1;33m    ab = lambda a,b:return(a+b)\u001b[0m\n\u001b[1;37m                    ^\u001b[0m\n\u001b[1;31mSyntaxError\u001b[0m\u001b[1;31m:\u001b[0m invalid syntax\n"
     ]
    }
   ],
   "source": [
    "ab=lambda a,b:return(a+b)"
   ]
  },
  {
   "cell_type": "code",
   "execution_count": 75,
   "id": "40472292",
   "metadata": {},
   "outputs": [
    {
     "name": "stdout",
     "output_type": "stream",
     "text": [
      "There are two opr \n",
      " Add \n",
      "Sub \n",
      "70\n",
      "25\n"
     ]
    }
   ],
   "source": [
    "def info():\n",
    "    print(\"There are two opr \\n Add \\nSub \")\n",
    "    \n",
    "    def add(a=10,b=60):\n",
    "        add = a+b\n",
    "        print(add)\n",
    "        \n",
    "        \n",
    "        def sub(c=50,d=25):\n",
    "            sub = c-d\n",
    "            return sub\n",
    "        \n",
    "        \n",
    "        print(sub())\n",
    "        \n",
    "    add()\n",
    "    \n",
    "info()"
   ]
  },
  {
   "cell_type": "code",
   "execution_count": 76,
   "id": "a0415ce6",
   "metadata": {},
   "outputs": [
    {
     "name": "stdout",
     "output_type": "stream",
     "text": [
      "10\n",
      "25\n"
     ]
    }
   ],
   "source": [
    "a=10\n",
    "b=25\n",
    "print(a)\n",
    "print(b)"
   ]
  },
  {
   "cell_type": "code",
   "execution_count": null,
   "id": "b5f8b542",
   "metadata": {},
   "outputs": [],
   "source": []
  }
 ],
 "metadata": {
  "kernelspec": {
   "display_name": "Python 3 (ipykernel)",
   "language": "python",
   "name": "python3"
  },
  "language_info": {
   "codemirror_mode": {
    "name": "ipython",
    "version": 3
   },
   "file_extension": ".py",
   "mimetype": "text/x-python",
   "name": "python",
   "nbconvert_exporter": "python",
   "pygments_lexer": "ipython3",
   "version": "3.10.9"
  }
 },
 "nbformat": 4,
 "nbformat_minor": 5
}
