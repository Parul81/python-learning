{
 "cells": [
  {
   "cell_type": "markdown",
   "id": "e13d1cf7",
   "metadata": {},
   "source": [
    "# PATTERNS:-"
   ]
  },
  {
   "cell_type": "markdown",
   "id": "d18aa858",
   "metadata": {},
   "source": [
    "# A to Z:-"
   ]
  },
  {
   "cell_type": "code",
   "execution_count": 12,
   "id": "7a066bb8",
   "metadata": {},
   "outputs": [
    {
     "name": "stdout",
     "output_type": "stream",
     "text": [
      " **** \n",
      "*    *\n",
      "*    *\n",
      "******\n",
      "*    *\n",
      "*    *\n"
     ]
    }
   ],
   "source": [
    "# Creating alphabet \"A\" from Pattern:-\n",
    "# Let's see how it works:-\n",
    "\n",
    "for row in range(6):\n",
    "    for col in range(6):\n",
    "        if ((col==0 or col==5) and row!=0) or ((row==0 or row==3) and (col>0 and col<5)):\n",
    "            print(\"*\",end=\"\")\n",
    "        else:\n",
    "            print(end=\" \")\n",
    "            \n",
    "    print()"
   ]
  },
  {
   "cell_type": "code",
   "execution_count": 3,
   "id": "9d059bd8",
   "metadata": {},
   "outputs": [
    {
     "name": "stdout",
     "output_type": "stream",
     "text": [
      "****** \n",
      "*     *\n",
      "*     *\n",
      "*******\n",
      "*     *\n",
      "*     *\n",
      "****** \n"
     ]
    }
   ],
   "source": [
    "# Creating alphabet \"B\" from Pattern:-\n",
    "# Let's see how it works:-\n",
    "\n",
    "for row in range(7):\n",
    "    for col in range(7):\n",
    "        if ((col==0 or col==6) and (row!=0 and row!=6)) or ((row==0 or row==3 or row==6) and (col!=6) and (col>0 or col<6)):\n",
    "            print(\"*\",end=\"\")\n",
    "        else:\n",
    "            print(end=\" \")\n",
    "            \n",
    "    print()"
   ]
  },
  {
   "cell_type": "code",
   "execution_count": 16,
   "id": "b5868ea4",
   "metadata": {},
   "outputs": [
    {
     "name": "stdout",
     "output_type": "stream",
     "text": [
      " ******\n",
      "*      \n",
      "*      \n",
      "*      \n",
      "*      \n",
      "*      \n",
      " ******\n"
     ]
    }
   ],
   "source": [
    "# Creating alphabet \"C\" from Pattern:-\n",
    "# Let's see how it works:-\n",
    "\n",
    "for row in range(7):\n",
    "    for col in range(7):\n",
    "        if ((row==0 or row==6) and col!=0) or (col==0 and (row>0 and row<6)):\n",
    "            print(\"*\",end=\"\")\n",
    "        else:\n",
    "            print(end=\" \")\n",
    "            \n",
    "    print()"
   ]
  },
  {
   "cell_type": "code",
   "execution_count": 32,
   "id": "069aac02",
   "metadata": {},
   "outputs": [
    {
     "name": "stdout",
     "output_type": "stream",
     "text": [
      "****** \n",
      "*     *\n",
      "*     *\n",
      "*     *\n",
      "*     *\n",
      "*     *\n",
      "****** \n"
     ]
    }
   ],
   "source": [
    "# Creating alphabet \"D\" from Pattern:-\n",
    "# Let's see how it works:-\n",
    "\n",
    "for row in range(7):\n",
    "    for col in range(7):\n",
    "        if ((col==0 or col==6) and (row!=0 and row!=6)) or ((row==0 or row==6) and (col!=6) and (col>0 or col<6)):\n",
    "            print(\"*\",end=\"\")\n",
    "        else:\n",
    "            print(end=\" \")\n",
    "            \n",
    "    print()"
   ]
  },
  {
   "cell_type": "code",
   "execution_count": 36,
   "id": "ad3a2e7d",
   "metadata": {},
   "outputs": [
    {
     "name": "stdout",
     "output_type": "stream",
     "text": [
      "***** \n",
      "*     \n",
      "*     \n",
      "***** \n",
      "*     \n",
      "*     \n",
      "***** \n"
     ]
    }
   ],
   "source": [
    "# Creating alphabet \"E\" from Pattern:-\n",
    "# Let's see how it works:-\n",
    "\n",
    "for row in range(7):\n",
    "    for col in range(6):\n",
    "        if (col==0) or ((row==0 or row==3 or row==6) and (col>0 and col<5)):\n",
    "            print(\"*\",end=\"\")\n",
    "        else:\n",
    "            print(end=\" \")\n",
    "            \n",
    "    print()\n"
   ]
  },
  {
   "cell_type": "code",
   "execution_count": 170,
   "id": "a33ab2a5",
   "metadata": {},
   "outputs": [
    {
     "name": "stdout",
     "output_type": "stream",
     "text": [
      "***** \n",
      "*     \n",
      "*     \n",
      "***** \n",
      "*     \n",
      "*     \n",
      "*     \n"
     ]
    }
   ],
   "source": [
    "# Creating alphabet \"F\" from Pattern:-\n",
    "# Let's see how it works:-\n",
    "\n",
    "for row in range(7):\n",
    "    for col in range(6):\n",
    "        if (col==0) or ((row==0 or row==3) and (col>0 and col<5)):\n",
    "            print(\"*\",end=\"\")\n",
    "        else:\n",
    "            print(end=\" \")\n",
    "            \n",
    "    print()\n"
   ]
  },
  {
   "cell_type": "code",
   "execution_count": 180,
   "id": "1d8ae16e",
   "metadata": {},
   "outputs": [
    {
     "name": "stdout",
     "output_type": "stream",
     "text": [
      " ****** \n",
      "*       \n",
      "*       \n",
      "*       \n",
      "*  *****\n",
      "*      *\n",
      "*      *\n",
      "*      *\n",
      " ****** \n",
      " ****** \n",
      "*       \n",
      "*       \n",
      "*       \n",
      "*  *****\n",
      "*  *   *\n",
      "*  *   *\n",
      "*  *   *\n",
      " ***   *\n"
     ]
    }
   ],
   "source": [
    "# Creating alphabet \"G\" from Pattern:-\n",
    "# Let's see how it works:-\n",
    "\n",
    "for row in range(9):\n",
    "    for col in range(8):\n",
    "        if (col==0 and row>0 and row<8) or (row==0 and col>0 and col<7) or (row==8 and col>0 and col<7) or(col==7 and row>3 and row<8) or (row==4 and col>2):\n",
    "            print(\"*\",end=\"\")\n",
    "        else:\n",
    "            print(end=\" \")\n",
    "            \n",
    "    print()\n",
    "    \n",
    "    \n",
    "for row in range(9):\n",
    "    for col in range(8):\n",
    "        if (col==0 and row>0 and row<8) or (row==0 and col>0 and col<7) or (row==8 and col>0 and col<4) or(col==7 and row>3) or (row==4 and col>3) or (col==3 and row>3):\n",
    "            print(\"*\",end=\"\")\n",
    "        else:\n",
    "            print(end=\" \")\n",
    "            \n",
    "    print()"
   ]
  },
  {
   "cell_type": "code",
   "execution_count": 91,
   "id": "760e9ced",
   "metadata": {},
   "outputs": [
    {
     "name": "stdout",
     "output_type": "stream",
     "text": [
      "*    *\n",
      "*    *\n",
      "*    *\n",
      "******\n",
      "*    *\n",
      "*    *\n",
      "*    *\n"
     ]
    }
   ],
   "source": [
    "# Creating alphabet \"H\" from Pattern:-\n",
    "# Let's see how it works:-\n",
    "\n",
    "for row in range(7):\n",
    "    for col in range(6):\n",
    "        if ((col==0 or col==5) or ((row==3) and (col>0 and col<5))):\n",
    "            print(\"*\",end=\"\")\n",
    "        else:\n",
    "            print(end=\" \")\n",
    "            \n",
    "    print()"
   ]
  },
  {
   "cell_type": "code",
   "execution_count": 43,
   "id": "a1326b4a",
   "metadata": {},
   "outputs": [
    {
     "name": "stdout",
     "output_type": "stream",
     "text": [
      "*******\n",
      "   *   \n",
      "   *   \n",
      "   *   \n",
      "   *   \n",
      "   *   \n",
      "*******\n"
     ]
    }
   ],
   "source": [
    "# Creating alphabet \"I\" from Pattern:-\n",
    "# Let's see how it works:-\n",
    "\n",
    "for row in range(7):\n",
    "    for col in range(7):\n",
    "        if (col==3) or ((row==0 or row==6)):\n",
    "            print(\"*\",end=\"\")\n",
    "        else:\n",
    "            print(end=\" \")\n",
    "            \n",
    "    print()"
   ]
  },
  {
   "cell_type": "code",
   "execution_count": 301,
   "id": "5d8c0816",
   "metadata": {},
   "outputs": [
    {
     "name": "stdout",
     "output_type": "stream",
     "text": [
      "****\n",
      "  * \n",
      "  * \n",
      "  * \n",
      "  * \n",
      "* * \n",
      " *  \n"
     ]
    }
   ],
   "source": [
    "# Creating alphabet \"J\" from Pattern:-\n",
    "# Let's see how it works:-\n",
    "\n",
    "for row in range(7):\n",
    "    for col in range(4):\n",
    "        if (col==2 and row>0 and row<6) or (row==0) or (row==6 and col==1) or (row==5 and col==0):\n",
    "            print(\"*\",end=\"\")\n",
    "        else:\n",
    "            print(end=\" \")\n",
    "    print()"
   ]
  },
  {
   "cell_type": "code",
   "execution_count": 60,
   "id": "e967214a",
   "metadata": {},
   "outputs": [
    {
     "name": "stdout",
     "output_type": "stream",
     "text": [
      "*    * \n",
      "*   *  \n",
      "*  *   \n",
      "* *    \n",
      "*  *   \n",
      "*   *  \n",
      "*    * \n"
     ]
    }
   ],
   "source": [
    "# Creating alphabet \"K\" from Pattern:-\n",
    "# Let's see how it works:-\n",
    "\n",
    "for row in range(7):\n",
    "    for col in range(5):\n",
    "        if (col==0) or (col==1 and row==3) or (col==2 and row==2) or (col==2 and row==4) or (col==3 and row==1) or (col==3 and row==5) or (col==4 and row==0) or (col==4 and row==6):\n",
    "            print(\"*\",end=\" \")\n",
    "        else:\n",
    "            print(end=\" \")\n",
    "            \n",
    "    print()"
   ]
  },
  {
   "cell_type": "code",
   "execution_count": 64,
   "id": "12d657da",
   "metadata": {},
   "outputs": [
    {
     "name": "stdout",
     "output_type": "stream",
     "text": [
      "*        \n",
      "*        \n",
      "*        \n",
      "*        \n",
      "*        \n",
      "*        \n",
      "*********\n"
     ]
    }
   ],
   "source": [
    "# Creating alphabet \"L\" from Pattern:-\n",
    "# Let's see how it works:-\n",
    "\n",
    "for row in range(7):\n",
    "    for col in range(9):\n",
    "        if (col==0) or ((row==6)):\n",
    "            print(\"*\",end=\"\")\n",
    "        else:\n",
    "            print(end=\" \")\n",
    "            \n",
    "    print()"
   ]
  },
  {
   "cell_type": "code",
   "execution_count": 92,
   "id": "7b025708",
   "metadata": {},
   "outputs": [
    {
     "name": "stdout",
     "output_type": "stream",
     "text": [
      "*     *\n",
      "**   **\n",
      "* * * *\n",
      "*  *  *\n",
      "*     *\n",
      "*     *\n",
      "*     *\n"
     ]
    }
   ],
   "source": [
    "# Creating alphabet \"M\" from Pattern:-\n",
    "# Let's see how it works:-\n",
    "\n",
    "for row in range(7):\n",
    "    for col in range(7):\n",
    "        if (col==0 or col==6) or (col==1 and row==1) or (col==2 and row==2) or (col==3 and row==3) or (col==4 and row==2) or (col==5 and row==1):\n",
    "            print(\"*\",end=\"\")\n",
    "        else:\n",
    "            print(end=\" \")\n",
    "            \n",
    "    print()"
   ]
  },
  {
   "cell_type": "code",
   "execution_count": 95,
   "id": "127e0669",
   "metadata": {},
   "outputs": [
    {
     "name": "stdout",
     "output_type": "stream",
     "text": [
      "*     *\n",
      "**    *\n",
      "* *   *\n",
      "*  *  *\n",
      "*   * *\n",
      "*    **\n",
      "*     *\n"
     ]
    }
   ],
   "source": [
    "# Creating alphabet \"N\" from Pattern:-\n",
    "# Let's see how it works:-\n",
    "\n",
    "for row in range(7):\n",
    "    for col in range(7):\n",
    "        if (col==0 or col==6) or (col==1 and row==1) or (col==2 and row==2) or (col==3 and row==3) or (col==4 and row==4) or (col==5 and row==5):\n",
    "            print(\"*\",end=\"\")\n",
    "        else:\n",
    "            print(end=\" \")\n",
    "            \n",
    "    print()"
   ]
  },
  {
   "cell_type": "code",
   "execution_count": 23,
   "id": "59facdfc",
   "metadata": {},
   "outputs": [
    {
     "name": "stdout",
     "output_type": "stream",
     "text": [
      " ***** \n",
      "*     *\n",
      "*     *\n",
      "*     *\n",
      "*     *\n",
      "*     *\n",
      " ***** \n"
     ]
    }
   ],
   "source": [
    "# Creating alphabet \"O\" from Pattern:-\n",
    "# Let's see how it works:-\n",
    "\n",
    "for row in range(7):\n",
    "    for col in range(7):\n",
    "        if ((col==0 or col==6) and (row!=0 and row!=6)) or ((row==0 or row==6) and (col>0 and col<6)):\n",
    "            print(\"*\",end=\"\")\n",
    "        else:\n",
    "            print(end=\" \")\n",
    "            \n",
    "    print()"
   ]
  },
  {
   "cell_type": "code",
   "execution_count": 157,
   "id": "6a9c4f49",
   "metadata": {},
   "outputs": [
    {
     "name": "stdout",
     "output_type": "stream",
     "text": [
      "**** \n",
      "*   *\n",
      "*   *\n",
      "**** \n",
      "*    \n",
      "*    \n",
      "*    \n"
     ]
    }
   ],
   "source": [
    "# Creating alphabet \"P\" from Pattern:-\n",
    "# Let's see how it works:-\n",
    "\n",
    "for row in range(7):\n",
    "    for col in range(5):\n",
    "        if (col==0) or (row==0 and col<4) or (row==3 and col<4) or (col==4 and row>0 and row<3):\n",
    "            print(\"*\",end=\"\")\n",
    "        else:\n",
    "            print(end=\" \")\n",
    "    print()  "
   ]
  },
  {
   "cell_type": "code",
   "execution_count": 169,
   "id": "c8ef6ed6",
   "metadata": {},
   "outputs": [
    {
     "name": "stdout",
     "output_type": "stream",
     "text": [
      " *** \n",
      "*   *\n",
      "*   *\n",
      "*   *\n",
      "* * *\n",
      "*  **\n",
      " ** *\n"
     ]
    }
   ],
   "source": [
    "# Creating alphabet \"Q\" from Pattern:-\n",
    "# Let's see how it works:-\n",
    "\n",
    "for row in range(7):\n",
    "    for col in range(5):\n",
    "        if (col==0 and row>0 and row<6) or (col==4 and row>0) or (row==0 and col>0 and col<4) or (row==6 and col>0 and col<3) or (col==2 and row==4) or (col==3 and row==5):\n",
    "            print(\"*\",end=\"\")\n",
    "        else:\n",
    "            print(end=\" \")\n",
    "            \n",
    "    print()"
   ]
  },
  {
   "cell_type": "code",
   "execution_count": 158,
   "id": "1bc23b23",
   "metadata": {},
   "outputs": [
    {
     "name": "stdout",
     "output_type": "stream",
     "text": [
      "**** \n",
      "*   *\n",
      "*   *\n",
      "**** \n",
      "* *  \n",
      "*  * \n",
      "*   *\n"
     ]
    }
   ],
   "source": [
    "# Creating alphabet \"R\" from Pattern:-\n",
    "# Let's see how it works:-\n",
    "\n",
    "for row in range(7):\n",
    "    for col in range(5):\n",
    "        if (col==0) or (row==0 and col<4) or (row==3 and col<4 and col>0) or (col==4 and row>0 and row<3) or (row==4 and col==2) or (row==5 and col==3) or (row==6 and col==4):\n",
    "            print(\"*\",end=\"\")\n",
    "        else:\n",
    "            print(end=\" \")\n",
    "    print()    "
   ]
  },
  {
   "cell_type": "code",
   "execution_count": 161,
   "id": "2c47d17a",
   "metadata": {},
   "outputs": [
    {
     "name": "stdout",
     "output_type": "stream",
     "text": [
      " ****\n",
      "*    \n",
      "*    \n",
      " *** \n",
      "    *\n",
      "    *\n",
      "**** \n"
     ]
    }
   ],
   "source": [
    "# Creating alphabet \"S\" from Pattern:-\n",
    "# Let's see how it works:-\n",
    "\n",
    "for row in range(7):\n",
    "    for col in range(5):\n",
    "        if ((row==0 and col>0) or ((row==3) and (col<4 and col>0)) or (row==6 and col<4) or ((col==0) and (row<3 and row>0)) or ((col==4) and (row<6 and row>3))):\n",
    "            print(\"*\",end=\"\")\n",
    "        else:\n",
    "            print(end=\" \")\n",
    "            \n",
    "    print()"
   ]
  },
  {
   "cell_type": "code",
   "execution_count": 120,
   "id": "99241779",
   "metadata": {},
   "outputs": [
    {
     "name": "stdout",
     "output_type": "stream",
     "text": [
      "* * * * * * * \n",
      "      * \n",
      "      * \n",
      "      * \n",
      "      * \n",
      "      * \n",
      "      * \n"
     ]
    }
   ],
   "source": [
    "# Creating alphabet \"T\" from Pattern:-\n",
    "# Let's see how it works:-\n",
    "\n",
    "for row in range(7):\n",
    "    for col in range(7):\n",
    "        if (col==6) or ((row==0)):\n",
    "            print(\"*\",end=\" \")\n",
    "        else:\n",
    "            print(end=\" \")\n",
    "            \n",
    "    print()"
   ]
  },
  {
   "cell_type": "code",
   "execution_count": 126,
   "id": "def24baa",
   "metadata": {},
   "outputs": [
    {
     "name": "stdout",
     "output_type": "stream",
     "text": [
      "       \n",
      "*     *\n",
      "*     *\n",
      "*     *\n",
      "*     *\n",
      "*     *\n",
      " ***** \n"
     ]
    }
   ],
   "source": [
    "# Creating alphabet \"U\" from Pattern:-\n",
    "# Let's see how it works:-\n",
    "\n",
    "for row in range(7):\n",
    "    for col in range(7):\n",
    "        if ((col==0 or col==6) and (row!=0 and row!=6)) or ((row==6) and (col>0 and col<6)):\n",
    "            print(\"*\",end=\"\")\n",
    "        else:\n",
    "            print(end=\" \")\n",
    "            \n",
    "    print()"
   ]
  },
  {
   "cell_type": "code",
   "execution_count": 130,
   "id": "3a6bac52",
   "metadata": {},
   "outputs": [
    {
     "name": "stdout",
     "output_type": "stream",
     "text": [
      "*   *\n",
      "*   *\n",
      "*   *\n",
      "*   *\n",
      "*   *\n",
      " * * \n",
      "  *  \n"
     ]
    }
   ],
   "source": [
    "# Creating alphabet \"V\" from Pattern:-\n",
    "# Let's see how it works:-\n",
    "\n",
    "for row in range(7):\n",
    "    for col in range(5):\n",
    "        if (col==0 and row<5) or (col==4 and row<5) or (col==2 and row==6) or (col==1 and row==5) or (col==3 and row==5):\n",
    "            print(\"*\",end=\"\")\n",
    "        else:\n",
    "            print(end=\" \")\n",
    "            \n",
    "    print()"
   ]
  },
  {
   "cell_type": "code",
   "execution_count": 136,
   "id": "80f49504",
   "metadata": {},
   "outputs": [
    {
     "name": "stdout",
     "output_type": "stream",
     "text": [
      "*     *\n",
      "*     *\n",
      "*     *\n",
      "*  *  *\n",
      "* * * *\n",
      "**   **\n",
      "*     *\n"
     ]
    }
   ],
   "source": [
    "# Creating alphabet \"W\" from Pattern:-\n",
    "# Let's see how it works:-\n",
    "\n",
    "for row in range(7):\n",
    "    for col in range(7):\n",
    "        if (col==0 or col==6) or (col==1 and row==5) or (col==2 and row==4) or (col==3 and row==3) or (col==4 and row==4) or (col==5 and row==5):\n",
    "            print(\"*\",end=\"\")\n",
    "        else:\n",
    "            print(end=\" \")\n",
    "            \n",
    "    print()"
   ]
  },
  {
   "cell_type": "code",
   "execution_count": 142,
   "id": "5b25bf77",
   "metadata": {},
   "outputs": [
    {
     "name": "stdout",
     "output_type": "stream",
     "text": [
      "*     *\n",
      " *   * \n",
      "  * *  \n",
      "   *   \n",
      "  * *  \n",
      " *   * \n",
      "*     *\n"
     ]
    }
   ],
   "source": [
    "# Creating alphabet \"X\" from Pattern:-\n",
    "# Let's see how it works:-\n",
    "\n",
    "for row in range(7):\n",
    "    for col in range(7):\n",
    "        if (col==0 and row==0) or (col==1 and row==1) or (col==2 and row==2) or (col==3 and row==3) or (col==4 and row==2) or (col==5 and row==1) or (col==6 and row==0) or (col==2 and row==4) or (col==1 and row==5) or (col==0 and row==6) or (col==4 and row==4) or (col==5 and row==5) or (col==6 and row==6):\n",
    "            print(\"*\",end=\"\")\n",
    "        else:\n",
    "            print(end=\" \")\n",
    "            \n",
    "    print()"
   ]
  },
  {
   "cell_type": "code",
   "execution_count": 156,
   "id": "7b18c33c",
   "metadata": {},
   "outputs": [
    {
     "name": "stdout",
     "output_type": "stream",
     "text": [
      "*     *\n",
      " *   * \n",
      "  * *  \n",
      "   *   \n",
      "   *   \n",
      "   *   \n",
      "   *   \n"
     ]
    }
   ],
   "source": [
    "# Creating alphabet \"Y\" from Pattern:-\n",
    "# Let's see how it works:-\n",
    "\n",
    "for row in range(7):\n",
    "    for col in range(7):\n",
    "        if (col==0 and row==0) or (col==1 and row==1) or (col==2 and row==2) or (col==3 and row==3) or (col==4 and row==2) or (col==5 and row==1) or (col==6 and row==0) or (col==3 and row==4) or (col==3 and row==5) or (col==3 and row==6):\n",
    "            print(\"*\",end=\"\")\n",
    "        else:\n",
    "            print(end=\" \")\n",
    "            \n",
    "    print()"
   ]
  },
  {
   "cell_type": "code",
   "execution_count": 154,
   "id": "0d33bca4",
   "metadata": {},
   "outputs": [
    {
     "name": "stdout",
     "output_type": "stream",
     "text": [
      "*********\n",
      "       * \n",
      "      *  \n",
      "     *   \n",
      "    *    \n",
      "   *     \n",
      "  *      \n",
      " *       \n",
      "*********\n"
     ]
    }
   ],
   "source": [
    "# Creating alphabet \"Z\" from Pattern:-\n",
    "# Let's see how it works:-\n",
    "\n",
    "for row in range(9):\n",
    "    for col in range(9):\n",
    "        if (row==0 or row==8) or (col==1 and row==7) or (col==2 and row==6) or (col==3 and row==5) or (col==4 and row==4) or (col==5 and row==3) or (col==6 and row==2) or (col==7 and row==1):\n",
    "            print(\"*\",end=\"\")\n",
    "        else:\n",
    "            print(end=\" \")\n",
    "            \n",
    "    print()"
   ]
  },
  {
   "cell_type": "markdown",
   "id": "5bc8b353",
   "metadata": {},
   "source": [
    "# 0 to 9:-"
   ]
  },
  {
   "cell_type": "code",
   "execution_count": 197,
   "id": "087ec5dd",
   "metadata": {},
   "outputs": [
    {
     "name": "stdout",
     "output_type": "stream",
     "text": [
      "*******\n",
      "*     *\n",
      "*     *\n",
      "*     *\n",
      "*     *\n",
      "*     *\n",
      "*******\n"
     ]
    }
   ],
   "source": [
    "# Creating the counting of \"0\" from the mathematics:-\n",
    "# Let's see how it works:-\n",
    "\n",
    "for row in range(7):\n",
    "    for col in range(7):\n",
    "        if (col==0 or col==6) or ((row==0 or row==6) and (col>0 and col<6)):\n",
    "            print(\"*\",end=\"\")\n",
    "        else:\n",
    "            print(end=\" \")\n",
    "            \n",
    "    print()"
   ]
  },
  {
   "cell_type": "code",
   "execution_count": 198,
   "id": "0b01a415",
   "metadata": {},
   "outputs": [
    {
     "name": "stdout",
     "output_type": "stream",
     "text": [
      "    *  \n",
      "   **  \n",
      "  * *  \n",
      " *  *  \n",
      "*   *  \n",
      "    *  \n",
      "    *  \n",
      "*******\n"
     ]
    }
   ],
   "source": [
    "# Creating the counting of \"1\" from the mathematics:-\n",
    "# Let's see how it works:-\n",
    "\n",
    "for row in range(8):\n",
    "    for col in range(7):\n",
    "        if (row==7) or (col==0 and row==4) or (col==1 and row==3) or (col==2 and row==2) or (col==3 and row==1) or (col==4):\n",
    "            print(\"*\",end=\"\")\n",
    "        else:\n",
    "            print(end=\" \")\n",
    "            \n",
    "    print()"
   ]
  },
  {
   "cell_type": "code",
   "execution_count": 219,
   "id": "ae708a76",
   "metadata": {},
   "outputs": [
    {
     "name": "stdout",
     "output_type": "stream",
     "text": [
      "*******\n",
      "      *\n",
      "      *\n",
      "*******\n",
      "*      \n",
      "*      \n",
      "*******\n"
     ]
    }
   ],
   "source": [
    "# Creating the counting of \"2\" from the mathematics:-\n",
    "# Let's see how it works:-\n",
    "\n",
    "for row in range(7):\n",
    "    for col in range(7):\n",
    "        if (row==0 or row==6) or (col==6 and row<3) or (row==3) or (col==0 and row>3):\n",
    "            print(\"*\",end=\"\")\n",
    "        else:\n",
    "            print(end=\" \")\n",
    "            \n",
    "    print()"
   ]
  },
  {
   "cell_type": "code",
   "execution_count": 231,
   "id": "21829a4c",
   "metadata": {},
   "outputs": [
    {
     "name": "stdout",
     "output_type": "stream",
     "text": [
      "****** \n",
      "      *\n",
      "      *\n",
      "****** \n",
      "      *\n",
      "      *\n",
      "****** \n"
     ]
    }
   ],
   "source": [
    "# Creating the counting of \"3\" from the mathematics:-\n",
    "# Let's see how it works:-\n",
    "\n",
    "for row in range(7):\n",
    "    for col in range(7):\n",
    "        if (row==0 and col<6) or (row==6 and col<6) or (col==6 and row>0 and row<3) or (col==6 and row>3 and row<6) or (row==3 and col<6):\n",
    "            print(\"*\",end=\"\")\n",
    "        else:\n",
    "            print(end=\" \")\n",
    "            \n",
    "    print()"
   ]
  },
  {
   "cell_type": "code",
   "execution_count": 236,
   "id": "ace7be7e",
   "metadata": {},
   "outputs": [
    {
     "name": "stdout",
     "output_type": "stream",
     "text": [
      "*     *\n",
      "*     *\n",
      "*     *\n",
      "*******\n",
      "      *\n",
      "      *\n",
      "      *\n"
     ]
    }
   ],
   "source": [
    "# Creating the counting of \"4\" from the mathematics:-\n",
    "# Let's see how it works:-\n",
    "\n",
    "for row in range(7):\n",
    "    for col in range(7):\n",
    "        if (row==3) or (col==6) or (col==0 and row<3):\n",
    "            print(\"*\",end=\"\")\n",
    "        else:\n",
    "            print(end=\" \")\n",
    "            \n",
    "    print()"
   ]
  },
  {
   "cell_type": "code",
   "execution_count": 245,
   "id": "5365b590",
   "metadata": {},
   "outputs": [
    {
     "name": "stdout",
     "output_type": "stream",
     "text": [
      "*******\n",
      "*      \n",
      "*      \n",
      "****** \n",
      "      *\n",
      "      *\n",
      "****** \n"
     ]
    }
   ],
   "source": [
    "# Creating the counting of \"5\" from the mathematics:-\n",
    "# Let's see how it works:-\n",
    "\n",
    "for row in range(7):\n",
    "    for col in range(7):\n",
    "        if (row==0) or (row==6 and col<6) or (col==0 and row<3) or (row==3 and col<6) or (col==6 and row>3 and row<6):\n",
    "            print(\"*\",end=\"\")\n",
    "        else:\n",
    "            print(end=\" \")\n",
    "            \n",
    "    print()"
   ]
  },
  {
   "cell_type": "code",
   "execution_count": 294,
   "id": "5ad0bef1",
   "metadata": {},
   "outputs": [
    {
     "name": "stdout",
     "output_type": "stream",
     "text": [
      " ***** \n",
      "*      \n",
      "*      \n",
      " ***** \n",
      "*     *\n",
      "*     *\n",
      " ***** \n"
     ]
    }
   ],
   "source": [
    "# Creating the counting of \"6\" from the mathematics:-\n",
    "# Let's see how it works:-\n",
    "\n",
    "for row in range(7):\n",
    "    for col in range(7):\n",
    "        if (row==0 and col>0 and col<6) or (row==6 and col>0 and col<6) or (col==0 and row>0 and row<3) or (row==3 and col>0 and col<6) or (col==6 and row>3 and row<6) or ( col==0 and row>3 and row<6):\n",
    "            print(\"*\",end=\"\")\n",
    "        else:\n",
    "            print(end=\" \")\n",
    "            \n",
    "    print()"
   ]
  },
  {
   "cell_type": "code",
   "execution_count": 295,
   "id": "0c3374dd",
   "metadata": {},
   "outputs": [
    {
     "name": "stdout",
     "output_type": "stream",
     "text": [
      "*******\n",
      "     * \n",
      "    *  \n",
      "   *   \n",
      "  *    \n",
      " *     \n",
      "       \n"
     ]
    }
   ],
   "source": [
    "# Creating the counting of \"7\" from the mathematics:-\n",
    "# Let's see how it works:-\n",
    "\n",
    "for row in range(7):\n",
    "    for col in range(7):\n",
    "        if (row==0) or (col==5 and row==1) or (col==4 and row==2) or (col==3 and row==3) or (col==2 and row==4) or (col==1 and row==5):\n",
    "            print(\"*\",end=\"\")\n",
    "        else:\n",
    "            print(end=\" \")\n",
    "            \n",
    "    print()"
   ]
  },
  {
   "cell_type": "code",
   "execution_count": 297,
   "id": "4cf003c2",
   "metadata": {},
   "outputs": [
    {
     "name": "stdout",
     "output_type": "stream",
     "text": [
      " ***** \n",
      "*     *\n",
      "*     *\n",
      " ***** \n",
      "*     *\n",
      "*     *\n",
      " ***** \n"
     ]
    }
   ],
   "source": [
    "# Creating the counting of \"8\" from the mathematics:-\n",
    "# Let's see how it works:-\n",
    "\n",
    "for row in range(7):\n",
    "    for col in range(7):\n",
    "        if (row==0 and col>0 and col<6) or (row==6 and col>0 and col<6) or (col==0 and row>0 and row<3) or (row==3 and col>0 and col<6) or (col==6 and row>3 and row<6) or ( col==0 and row>3 and row<6) or ( col==6 and row>0 and row<3):\n",
    "            print(\"*\",end=\"\")\n",
    "        else:\n",
    "            print(end=\" \")\n",
    "            \n",
    "    print()"
   ]
  },
  {
   "cell_type": "code",
   "execution_count": 300,
   "id": "27507f4a",
   "metadata": {},
   "outputs": [
    {
     "name": "stdout",
     "output_type": "stream",
     "text": [
      " ***** \n",
      "*     *\n",
      "*     *\n",
      " ******\n",
      "      *\n",
      "      *\n",
      " ***** \n"
     ]
    }
   ],
   "source": [
    "# Creating the counting of \"8\" from the mathematics:-\n",
    "# Let's see how it works:-\n",
    "\n",
    "for row in range(7):\n",
    "    for col in range(7):\n",
    "        if (row==0 and col>0 and col<6) or (row==6 and col>0 and col<6) or (col==0 and row>0 and row<3) or (row==3 and col>0 and col<6) or (col==6 and row>0 and row<6):\n",
    "            print(\"*\",end=\"\")\n",
    "        else:\n",
    "            print(end=\" \")\n",
    "            \n",
    "    print()"
   ]
  },
  {
   "cell_type": "code",
   "execution_count": null,
   "id": "a98f95dc",
   "metadata": {},
   "outputs": [],
   "source": [
    "# Creating a star pattern from \"[*]\":-\n",
    "# let's see how it becomes:-\n",
    "\n",
    "for row in range(10):\n",
    "    for col in rangde(10):\n",
    "        if (row==0 and row==9) or (row==1 and row==8)"
   ]
  }
 ],
 "metadata": {
  "kernelspec": {
   "display_name": "Python 3 (ipykernel)",
   "language": "python",
   "name": "python3"
  },
  "language_info": {
   "codemirror_mode": {
    "name": "ipython",
    "version": 3
   },
   "file_extension": ".py",
   "mimetype": "text/x-python",
   "name": "python",
   "nbconvert_exporter": "python",
   "pygments_lexer": "ipython3",
   "version": "3.11.7"
  }
 },
 "nbformat": 4,
 "nbformat_minor": 5
}
