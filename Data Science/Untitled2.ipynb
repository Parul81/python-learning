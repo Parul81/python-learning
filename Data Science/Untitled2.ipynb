{
 "cells": [
  {
   "cell_type": "code",
   "execution_count": null,
   "id": "24ef4ec5-43bf-4400-955d-d8ef5bec3030",
   "metadata": {},
   "outputs": [],
   "source": []
  },
  {
   "cell_type": "code",
   "execution_count": 2,
   "id": "82ac4388-86bf-47f9-b5ee-f69b6a51218d",
   "metadata": {},
   "outputs": [
    {
     "ename": "ModuleNotFoundError",
     "evalue": "No module named 'pgmpy'",
     "output_type": "error",
     "traceback": [
      "\u001b[1;31m---------------------------------------------------------------------------\u001b[0m",
      "\u001b[1;31mModuleNotFoundError\u001b[0m                       Traceback (most recent call last)",
      "Cell \u001b[1;32mIn[2], line 2\u001b[0m\n\u001b[0;32m      1\u001b[0m \u001b[38;5;66;03m# Import necessary libraries\u001b[39;00m\n\u001b[1;32m----> 2\u001b[0m \u001b[38;5;28;01mfrom\u001b[39;00m \u001b[38;5;21;01mpgmpy\u001b[39;00m\u001b[38;5;21;01m.\u001b[39;00m\u001b[38;5;21;01mmodels\u001b[39;00m \u001b[38;5;28;01mimport\u001b[39;00m BayesianNetwork\n\u001b[0;32m      3\u001b[0m \u001b[38;5;28;01mfrom\u001b[39;00m \u001b[38;5;21;01mpgmpy\u001b[39;00m\u001b[38;5;21;01m.\u001b[39;00m\u001b[38;5;21;01mfactors\u001b[39;00m\u001b[38;5;21;01m.\u001b[39;00m\u001b[38;5;21;01mdiscrete\u001b[39;00m \u001b[38;5;28;01mimport\u001b[39;00m TabularCPD\n\u001b[0;32m      4\u001b[0m \u001b[38;5;28;01mfrom\u001b[39;00m \u001b[38;5;21;01mpgmpy\u001b[39;00m\u001b[38;5;21;01m.\u001b[39;00m\u001b[38;5;21;01minference\u001b[39;00m \u001b[38;5;28;01mimport\u001b[39;00m VariableElimination\n",
      "\u001b[1;31mModuleNotFoundError\u001b[0m: No module named 'pgmpy'"
     ]
    }
   ],
   "source": [
    "# Import necessary libraries\n",
    "from pgmpy.models import BayesianNetwork\n",
    "from pgmpy.factors.discrete import TabularCPD\n",
    "from pgmpy.inference import VariableElimination\n",
    "\n",
    "# Step 3: Define the structure of the Bayesian Network\n",
    "# Define the directed edges representing dependencies\n",
    "model = BayesianNetwork([('Rain', 'Traffic_Jam'), \n",
    "                         ('Accident', 'Traffic_Jam'),\n",
    "                         ('Traffic_Jam', 'Late_for_Work')])\n",
    "\n",
    "# Step 4: Define the Conditional Probability Distributions (CPDs)\n",
    "# CPD for Rain: 30% chance of rain\n",
    "cpd_rain = TabularCPD(variable='Rain', variable_card=2, values=[[0.7], [0.3]])\n",
    "\n",
    "# CPD for Accident: 5% chance of an accident\n",
    "cpd_accident = TabularCPD(variable='Accident', variable_card=2, values=[[0.95], [0.05]])\n",
    "\n",
    "# CPD for Traffic Jam given Rain and Accident\n",
    "cpd_traffic_jam = TabularCPD(variable='Traffic_Jam', variable_card=2, \n",
    "                             values=[[0.9, 0.6, 0.7, 0.1], \n",
    "                                     [0.1, 0.4, 0.3, 0.9]],\n",
    "                             evidence=['Rain', 'Accident'], \n",
    "                             evidence_card=[2, 2])\n",
    "\n",
    "# CPD for being Late for Work given Traffic Jam\n",
    "cpd_late_for_work = TabularCPD(variable='Late_for_Work', variable_card=2, \n",
    "                               values=[[0.9, 0.2], [0.1, 0.8]],\n",
    "                               evidence=['Traffic_Jam'], \n",
    "                               evidence_card=[2])\n",
    "\n",
    "# Step 5: Add the CPDs to the model\n",
    "model.add_cpds(cpd_rain, cpd_accident, cpd_traffic_jam, cpd_late_for_work)\n",
    "\n",
    "# Check if the model is valid\n",
    "print(\"Model is valid: \", model.check_model())\n",
    "\n",
    "# Step 6: Perform inference using the model\n",
    "infer = VariableElimination(model)\n",
    "\n",
    "# Query: Probability of being late for work given that it is raining\n",
    "result = infer.query(variables=['Late_for_Work'], evidence={'Rain': 1})\n",
    "print(result)\n",
    "\n",
    "# Query: Probability of traffic jam given there is an accident\n",
    "result = infer.query(variables=['Traffic_Jam'], evidence={'Accident': 1})\n",
    "print(result)"
   ]
  },
  {
   "cell_type": "code",
   "execution_count": 3,
   "id": "9b4e58e1-168c-4c3a-befd-538d6dd1a943",
   "metadata": {},
   "outputs": [
    {
     "ename": "ModuleNotFoundError",
     "evalue": "No module named 'pgmpy'",
     "output_type": "error",
     "traceback": [
      "\u001b[1;31m---------------------------------------------------------------------------\u001b[0m",
      "\u001b[1;31mModuleNotFoundError\u001b[0m                       Traceback (most recent call last)",
      "Cell \u001b[1;32mIn[3], line 1\u001b[0m\n\u001b[1;32m----> 1\u001b[0m \u001b[38;5;28;01mfrom\u001b[39;00m \u001b[38;5;21;01mpgmpy\u001b[39;00m\u001b[38;5;21;01m.\u001b[39;00m\u001b[38;5;21;01mmodels\u001b[39;00m \u001b[38;5;28;01mimport\u001b[39;00m BayesianNetwork\n",
      "\u001b[1;31mModuleNotFoundError\u001b[0m: No module named 'pgmpy'"
     ]
    }
   ],
   "source": [
    "from pgmpy.models import BayesianNetwork"
   ]
  },
  {
   "cell_type": "code",
   "execution_count": 2,
   "id": "6398b187-6428-4d7f-8690-6196d5f99265",
   "metadata": {},
   "outputs": [
    {
     "name": "stdout",
     "output_type": "stream",
     "text": [
      "Defaulting to user installation because normal site-packages is not writeable\n",
      "Requirement already satisfied: pgmpy in c:\\users\\parul\\appdata\\roaming\\python\\python311\\site-packages (0.1.26)\n",
      "Requirement already satisfied: networkx in c:\\programdata\\anaconda3\\lib\\site-packages (from pgmpy) (3.1)\n",
      "Requirement already satisfied: numpy in c:\\users\\parul\\appdata\\roaming\\python\\python311\\site-packages (from pgmpy) (1.26.4)\n",
      "Requirement already satisfied: scipy in c:\\programdata\\anaconda3\\lib\\site-packages (from pgmpy) (1.11.4)\n",
      "Requirement already satisfied: scikit-learn in c:\\programdata\\anaconda3\\lib\\site-packages (from pgmpy) (1.2.2)\n",
      "Requirement already satisfied: pandas in c:\\programdata\\anaconda3\\lib\\site-packages (from pgmpy) (2.1.4)\n",
      "Requirement already satisfied: pyparsing in c:\\programdata\\anaconda3\\lib\\site-packages (from pgmpy) (3.0.9)\n",
      "Requirement already satisfied: torch in c:\\users\\parul\\appdata\\roaming\\python\\python311\\site-packages (from pgmpy) (2.4.1)\n",
      "Requirement already satisfied: statsmodels in c:\\programdata\\anaconda3\\lib\\site-packages (from pgmpy) (0.14.0)\n",
      "Requirement already satisfied: tqdm in c:\\programdata\\anaconda3\\lib\\site-packages (from pgmpy) (4.65.0)\n",
      "Requirement already satisfied: joblib in c:\\programdata\\anaconda3\\lib\\site-packages (from pgmpy) (1.2.0)\n",
      "Requirement already satisfied: opt-einsum in c:\\users\\parul\\appdata\\roaming\\python\\python311\\site-packages (from pgmpy) (3.4.0)\n",
      "Requirement already satisfied: xgboost in c:\\users\\parul\\appdata\\roaming\\python\\python311\\site-packages (from pgmpy) (2.1.1)\n",
      "Requirement already satisfied: google-generativeai in c:\\users\\parul\\appdata\\roaming\\python\\python311\\site-packages (from pgmpy) (0.8.3)\n",
      "Requirement already satisfied: google-ai-generativelanguage==0.6.10 in c:\\users\\parul\\appdata\\roaming\\python\\python311\\site-packages (from google-generativeai->pgmpy) (0.6.10)\n",
      "Requirement already satisfied: google-api-core in c:\\users\\parul\\appdata\\roaming\\python\\python311\\site-packages (from google-generativeai->pgmpy) (2.21.0)\n",
      "Requirement already satisfied: google-api-python-client in c:\\users\\parul\\appdata\\roaming\\python\\python311\\site-packages (from google-generativeai->pgmpy) (2.149.0)\n",
      "Requirement already satisfied: google-auth>=2.15.0 in c:\\users\\parul\\appdata\\roaming\\python\\python311\\site-packages (from google-generativeai->pgmpy) (2.35.0)\n",
      "Requirement already satisfied: protobuf in c:\\users\\parul\\appdata\\roaming\\python\\python311\\site-packages (from google-generativeai->pgmpy) (5.28.2)\n",
      "Requirement already satisfied: pydantic in c:\\programdata\\anaconda3\\lib\\site-packages (from google-generativeai->pgmpy) (1.10.12)\n",
      "Requirement already satisfied: typing-extensions in c:\\programdata\\anaconda3\\lib\\site-packages (from google-generativeai->pgmpy) (4.9.0)\n",
      "Requirement already satisfied: proto-plus<2.0.0dev,>=1.22.3 in c:\\users\\parul\\appdata\\roaming\\python\\python311\\site-packages (from google-ai-generativelanguage==0.6.10->google-generativeai->pgmpy) (1.24.0)\n",
      "Requirement already satisfied: python-dateutil>=2.8.2 in c:\\programdata\\anaconda3\\lib\\site-packages (from pandas->pgmpy) (2.8.2)\n",
      "Requirement already satisfied: pytz>=2020.1 in c:\\programdata\\anaconda3\\lib\\site-packages (from pandas->pgmpy) (2023.3.post1)\n",
      "Requirement already satisfied: tzdata>=2022.1 in c:\\programdata\\anaconda3\\lib\\site-packages (from pandas->pgmpy) (2023.3)\n",
      "Requirement already satisfied: threadpoolctl>=2.0.0 in c:\\programdata\\anaconda3\\lib\\site-packages (from scikit-learn->pgmpy) (2.2.0)\n",
      "Requirement already satisfied: patsy>=0.5.2 in c:\\programdata\\anaconda3\\lib\\site-packages (from statsmodels->pgmpy) (0.5.3)\n",
      "Requirement already satisfied: packaging>=21.3 in c:\\programdata\\anaconda3\\lib\\site-packages (from statsmodels->pgmpy) (23.1)\n",
      "Requirement already satisfied: filelock in c:\\programdata\\anaconda3\\lib\\site-packages (from torch->pgmpy) (3.13.1)\n",
      "Requirement already satisfied: sympy in c:\\programdata\\anaconda3\\lib\\site-packages (from torch->pgmpy) (1.12)\n",
      "Requirement already satisfied: jinja2 in c:\\programdata\\anaconda3\\lib\\site-packages (from torch->pgmpy) (3.1.3)\n",
      "Requirement already satisfied: fsspec in c:\\programdata\\anaconda3\\lib\\site-packages (from torch->pgmpy) (2023.10.0)\n",
      "Requirement already satisfied: colorama in c:\\programdata\\anaconda3\\lib\\site-packages (from tqdm->pgmpy) (0.4.6)\n",
      "Requirement already satisfied: googleapis-common-protos<2.0.dev0,>=1.56.2 in c:\\users\\parul\\appdata\\roaming\\python\\python311\\site-packages (from google-api-core->google-generativeai->pgmpy) (1.65.0)\n",
      "Requirement already satisfied: requests<3.0.0.dev0,>=2.18.0 in c:\\programdata\\anaconda3\\lib\\site-packages (from google-api-core->google-generativeai->pgmpy) (2.31.0)\n",
      "Requirement already satisfied: cachetools<6.0,>=2.0.0 in c:\\programdata\\anaconda3\\lib\\site-packages (from google-auth>=2.15.0->google-generativeai->pgmpy) (4.2.2)\n",
      "Requirement already satisfied: pyasn1-modules>=0.2.1 in c:\\programdata\\anaconda3\\lib\\site-packages (from google-auth>=2.15.0->google-generativeai->pgmpy) (0.2.8)\n",
      "Requirement already satisfied: rsa<5,>=3.1.4 in c:\\users\\parul\\appdata\\roaming\\python\\python311\\site-packages (from google-auth>=2.15.0->google-generativeai->pgmpy) (4.9)\n",
      "Requirement already satisfied: six in c:\\programdata\\anaconda3\\lib\\site-packages (from patsy>=0.5.2->statsmodels->pgmpy) (1.16.0)\n",
      "Requirement already satisfied: httplib2<1.dev0,>=0.19.0 in c:\\users\\parul\\appdata\\roaming\\python\\python311\\site-packages (from google-api-python-client->google-generativeai->pgmpy) (0.22.0)\n",
      "Requirement already satisfied: google-auth-httplib2<1.0.0,>=0.2.0 in c:\\users\\parul\\appdata\\roaming\\python\\python311\\site-packages (from google-api-python-client->google-generativeai->pgmpy) (0.2.0)\n",
      "Requirement already satisfied: uritemplate<5,>=3.0.1 in c:\\users\\parul\\appdata\\roaming\\python\\python311\\site-packages (from google-api-python-client->google-generativeai->pgmpy) (4.1.1)\n",
      "Requirement already satisfied: MarkupSafe>=2.0 in c:\\programdata\\anaconda3\\lib\\site-packages (from jinja2->torch->pgmpy) (2.1.3)\n",
      "Requirement already satisfied: mpmath>=0.19 in c:\\programdata\\anaconda3\\lib\\site-packages (from sympy->torch->pgmpy) (1.3.0)\n",
      "Requirement already satisfied: grpcio<2.0dev,>=1.33.2 in c:\\users\\parul\\appdata\\roaming\\python\\python311\\site-packages (from google-api-core[grpc]!=2.0.*,!=2.1.*,!=2.10.*,!=2.2.*,!=2.3.*,!=2.4.*,!=2.5.*,!=2.6.*,!=2.7.*,!=2.8.*,!=2.9.*,<3.0.0dev,>=1.34.1->google-ai-generativelanguage==0.6.10->google-generativeai->pgmpy) (1.66.2)\n",
      "Requirement already satisfied: grpcio-status<2.0.dev0,>=1.33.2 in c:\\users\\parul\\appdata\\roaming\\python\\python311\\site-packages (from google-api-core[grpc]!=2.0.*,!=2.1.*,!=2.10.*,!=2.2.*,!=2.3.*,!=2.4.*,!=2.5.*,!=2.6.*,!=2.7.*,!=2.8.*,!=2.9.*,<3.0.0dev,>=1.34.1->google-ai-generativelanguage==0.6.10->google-generativeai->pgmpy) (1.66.2)\n",
      "Requirement already satisfied: pyasn1<0.5.0,>=0.4.6 in c:\\programdata\\anaconda3\\lib\\site-packages (from pyasn1-modules>=0.2.1->google-auth>=2.15.0->google-generativeai->pgmpy) (0.4.8)\n",
      "Requirement already satisfied: charset-normalizer<4,>=2 in c:\\programdata\\anaconda3\\lib\\site-packages (from requests<3.0.0.dev0,>=2.18.0->google-api-core->google-generativeai->pgmpy) (2.0.4)\n",
      "Requirement already satisfied: idna<4,>=2.5 in c:\\programdata\\anaconda3\\lib\\site-packages (from requests<3.0.0.dev0,>=2.18.0->google-api-core->google-generativeai->pgmpy) (3.4)\n",
      "Requirement already satisfied: urllib3<3,>=1.21.1 in c:\\programdata\\anaconda3\\lib\\site-packages (from requests<3.0.0.dev0,>=2.18.0->google-api-core->google-generativeai->pgmpy) (2.0.7)\n",
      "Requirement already satisfied: certifi>=2017.4.17 in c:\\programdata\\anaconda3\\lib\\site-packages (from requests<3.0.0.dev0,>=2.18.0->google-api-core->google-generativeai->pgmpy) (2024.2.2)\n",
      "Note: you may need to restart the kernel to use updated packages.\n"
     ]
    }
   ],
   "source": [
    "pip install pgmpy"
   ]
  },
  {
   "cell_type": "code",
   "execution_count": 4,
   "id": "a4c4752b-9669-4c93-b96a-14ce709d6381",
   "metadata": {},
   "outputs": [
    {
     "name": "stderr",
     "output_type": "stream",
     "text": [
      "INFO:numexpr.utils:Note: NumExpr detected 12 cores but \"NUMEXPR_MAX_THREADS\" not set, so enforcing safe limit of 8.\n",
      "INFO:numexpr.utils:NumExpr defaulting to 8 threads.\n"
     ]
    }
   ],
   "source": [
    "from pgmpy.models import BayesianNetwork"
   ]
  },
  {
   "cell_type": "code",
   "execution_count": 5,
   "id": "766e25d1-ceed-4b46-84b7-1acfbda81a76",
   "metadata": {},
   "outputs": [
    {
     "name": "stdout",
     "output_type": "stream",
     "text": [
      "Model is valid:  True\n",
      "+------------------+----------------------+\n",
      "| Late_for_Work    |   phi(Late_for_Work) |\n",
      "+==================+======================+\n",
      "| Late_for_Work(0) |               0.6690 |\n",
      "+------------------+----------------------+\n",
      "| Late_for_Work(1) |               0.3310 |\n",
      "+------------------+----------------------+\n",
      "+----------------+--------------------+\n",
      "| Traffic_Jam    |   phi(Traffic_Jam) |\n",
      "+================+====================+\n",
      "| Traffic_Jam(0) |             0.4500 |\n",
      "+----------------+--------------------+\n",
      "| Traffic_Jam(1) |             0.5500 |\n",
      "+----------------+--------------------+\n"
     ]
    }
   ],
   "source": [
    "from pgmpy.factors.discrete import TabularCPD\n",
    "from pgmpy.inference import VariableElimination\n",
    "\n",
    "# Step 3: Define the structure of the Bayesian Network\n",
    "# Define the directed edges representing dependencies\n",
    "model = BayesianNetwork([('Rain', 'Traffic_Jam'), \n",
    "                         ('Accident', 'Traffic_Jam'),\n",
    "                         ('Traffic_Jam', 'Late_for_Work')])\n",
    "\n",
    "# Step 4: Define the Conditional Probability Distributions (CPDs)\n",
    "# CPD for Rain: 30% chance of rain\n",
    "cpd_rain = TabularCPD(variable='Rain', variable_card=2, values=[[0.7], [0.3]])\n",
    "\n",
    "# CPD for Accident: 5% chance of an accident\n",
    "cpd_accident = TabularCPD(variable='Accident', variable_card=2, values=[[0.95], [0.05]])\n",
    "\n",
    "# CPD for Traffic Jam given Rain and Accident\n",
    "cpd_traffic_jam = TabularCPD(variable='Traffic_Jam', variable_card=2, \n",
    "                             values=[[0.9, 0.6, 0.7, 0.1], \n",
    "                                     [0.1, 0.4, 0.3, 0.9]],\n",
    "                             evidence=['Rain', 'Accident'], \n",
    "                             evidence_card=[2, 2])\n",
    "\n",
    "# CPD for being Late for Work given Traffic Jam\n",
    "cpd_late_for_work = TabularCPD(variable='Late_for_Work', variable_card=2, \n",
    "                               values=[[0.9, 0.2], [0.1, 0.8]],\n",
    "                               evidence=['Traffic_Jam'], \n",
    "                               evidence_card=[2])\n",
    "\n",
    "# Step 5: Add the CPDs to the model\n",
    "model.add_cpds(cpd_rain, cpd_accident, cpd_traffic_jam, cpd_late_for_work)\n",
    "\n",
    "# Check if the model is valid\n",
    "print(\"Model is valid: \", model.check_model())\n",
    "\n",
    "# Step 6: Perform inference using the model\n",
    "infer = VariableElimination(model)\n",
    "\n",
    "# Query: Probability of being late for work given that it is raining\n",
    "result = infer.query(variables=['Late_for_Work'], evidence={'Rain': 1})\n",
    "print(result)\n",
    "\n",
    "# Query: Probability of traffic jam given there is an accident\n",
    "result = infer.query(variables=['Traffic_Jam'], evidence={'Accident': 1})\n",
    "print(result)"
   ]
  },
  {
   "cell_type": "code",
   "execution_count": null,
   "id": "61a08818-0aa7-4fc6-8268-cc868710df6b",
   "metadata": {},
   "outputs": [],
   "source": []
  }
 ],
 "metadata": {
  "kernelspec": {
   "display_name": "Python 3 (ipykernel)",
   "language": "python",
   "name": "python3"
  },
  "language_info": {
   "codemirror_mode": {
    "name": "ipython",
    "version": 3
   },
   "file_extension": ".py",
   "mimetype": "text/x-python",
   "name": "python",
   "nbconvert_exporter": "python",
   "pygments_lexer": "ipython3",
   "version": "3.11.7"
  }
 },
 "nbformat": 4,
 "nbformat_minor": 5
}
