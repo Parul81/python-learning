{
 "cells": [
  {
   "cell_type": "markdown",
   "id": "6c754a12-37b7-4f31-a49e-e3a3f15e0fcb",
   "metadata": {},
   "source": [
    "# Numpy"
   ]
  },
  {
   "cell_type": "code",
   "execution_count": 1,
   "id": "432ab199-3837-49c6-820c-e5f130a377e2",
   "metadata": {},
   "outputs": [
    {
     "name": "stdout",
     "output_type": "stream",
     "text": [
      "Defaulting to user installation because normal site-packages is not writeable\n",
      "Requirement already satisfied: numpy in c:\\programdata\\anaconda3\\lib\\site-packages (1.26.4)\n",
      "Note: you may need to restart the kernel to use updated packages.\n"
     ]
    }
   ],
   "source": [
    "pip install numpy"
   ]
  },
  {
   "cell_type": "code",
   "execution_count": 2,
   "id": "77a82be5-0a3a-4111-ab3a-d59f437114a3",
   "metadata": {},
   "outputs": [],
   "source": [
    "import numpy as np"
   ]
  },
  {
   "cell_type": "code",
   "execution_count": 3,
   "id": "a4a05c32-97bd-4899-af57-ad8a0ce6e503",
   "metadata": {},
   "outputs": [
    {
     "data": {
      "text/plain": [
       "'1.26.4'"
      ]
     },
     "execution_count": 3,
     "metadata": {},
     "output_type": "execute_result"
    }
   ],
   "source": [
    "np.__version__"
   ]
  },
  {
   "cell_type": "code",
   "execution_count": 4,
   "id": "d0d44b68-c0ae-477d-80b3-fa232b4078de",
   "metadata": {},
   "outputs": [
    {
     "name": "stdout",
     "output_type": "stream",
     "text": [
      "Defaulting to user installation because normal site-packages is not writeable\n",
      "Requirement already satisfied: numpy in c:\\programdata\\anaconda3\\lib\\site-packages (1.26.4)\n",
      "Collecting numpy\n",
      "  Downloading numpy-2.0.0-cp311-cp311-win_amd64.whl.metadata (60 kB)\n",
      "     ---------------------------------------- 0.0/60.9 kB ? eta -:--:--\n",
      "     ---------------------------------------- 0.0/60.9 kB ? eta -:--:--\n",
      "     ------------- -------------------------- 20.5/60.9 kB ? eta -:--:--\n",
      "     ------------- -------------------------- 20.5/60.9 kB ? eta -:--:--\n",
      "     ------------------- ------------------ 30.7/60.9 kB 217.9 kB/s eta 0:00:01\n",
      "     ------------------------- ------------ 41.0/60.9 kB 217.9 kB/s eta 0:00:01\n",
      "     ------------------------------- ------ 51.2/60.9 kB 217.9 kB/s eta 0:00:01\n",
      "     -------------------------------------- 60.9/60.9 kB 231.3 kB/s eta 0:00:00\n",
      "Downloading numpy-2.0.0-cp311-cp311-win_amd64.whl (16.5 MB)\n",
      "   ---------------------------------------- 0.0/16.5 MB ? eta -:--:--\n",
      "   ---------------------------------------- 0.0/16.5 MB ? eta -:--:--\n",
      "   ---------------------------------------- 0.1/16.5 MB 825.8 kB/s eta 0:00:20\n",
      "   ---------------------------------------- 0.1/16.5 MB 880.9 kB/s eta 0:00:19\n",
      "   ---------------------------------------- 0.1/16.5 MB 853.3 kB/s eta 0:00:20\n",
      "   ---------------------------------------- 0.2/16.5 MB 807.1 kB/s eta 0:00:21\n",
      "    --------------------------------------- 0.2/16.5 MB 811.5 kB/s eta 0:00:21\n",
      "    --------------------------------------- 0.3/16.5 MB 830.3 kB/s eta 0:00:20\n",
      "    --------------------------------------- 0.3/16.5 MB 806.1 kB/s eta 0:00:21\n",
      "    --------------------------------------- 0.3/16.5 MB 813.9 kB/s eta 0:00:20\n",
      "    --------------------------------------- 0.4/16.5 MB 827.0 kB/s eta 0:00:20\n",
      "    --------------------------------------- 0.4/16.5 MB 836.4 kB/s eta 0:00:20\n",
      "   - -------------------------------------- 0.4/16.5 MB 860.2 kB/s eta 0:00:19\n",
      "   - -------------------------------------- 0.5/16.5 MB 819.9 kB/s eta 0:00:20\n",
      "   - -------------------------------------- 0.5/16.5 MB 828.9 kB/s eta 0:00:20\n",
      "   - -------------------------------------- 0.5/16.5 MB 796.1 kB/s eta 0:00:21\n",
      "   - -------------------------------------- 0.6/16.5 MB 815.7 kB/s eta 0:00:20\n",
      "   - -------------------------------------- 0.6/16.5 MB 823.1 kB/s eta 0:00:20\n",
      "   - -------------------------------------- 0.6/16.5 MB 812.9 kB/s eta 0:00:20\n",
      "   - -------------------------------------- 0.7/16.5 MB 774.9 kB/s eta 0:00:21\n",
      "   - -------------------------------------- 0.7/16.5 MB 774.9 kB/s eta 0:00:21\n",
      "   - -------------------------------------- 0.7/16.5 MB 743.1 kB/s eta 0:00:22\n",
      "   - -------------------------------------- 0.7/16.5 MB 752.2 kB/s eta 0:00:21\n",
      "   - -------------------------------------- 0.8/16.5 MB 736.5 kB/s eta 0:00:22\n",
      "   - -------------------------------------- 0.8/16.5 MB 732.8 kB/s eta 0:00:22\n",
      "   -- ------------------------------------- 0.8/16.5 MB 738.7 kB/s eta 0:00:22\n",
      "   -- ------------------------------------- 0.8/16.5 MB 726.4 kB/s eta 0:00:22\n",
      "   -- ------------------------------------- 0.9/16.5 MB 733.3 kB/s eta 0:00:22\n",
      "   -- ------------------------------------- 0.9/16.5 MB 737.3 kB/s eta 0:00:22\n",
      "   -- ------------------------------------- 1.0/16.5 MB 734.8 kB/s eta 0:00:22\n",
      "   -- ------------------------------------- 1.0/16.5 MB 747.2 kB/s eta 0:00:21\n",
      "   -- ------------------------------------- 1.1/16.5 MB 758.8 kB/s eta 0:00:21\n",
      "   -- ------------------------------------- 1.1/16.5 MB 762.5 kB/s eta 0:00:21\n",
      "   -- ------------------------------------- 1.1/16.5 MB 765.9 kB/s eta 0:00:21\n",
      "   -- ------------------------------------- 1.2/16.5 MB 775.9 kB/s eta 0:00:20\n",
      "   --- ------------------------------------ 1.3/16.5 MB 798.2 kB/s eta 0:00:20\n",
      "   --- ------------------------------------ 1.3/16.5 MB 800.3 kB/s eta 0:00:19\n",
      "   --- ------------------------------------ 1.4/16.5 MB 808.9 kB/s eta 0:00:19\n",
      "   --- ------------------------------------ 1.4/16.5 MB 828.5 kB/s eta 0:00:19\n",
      "   --- ------------------------------------ 1.5/16.5 MB 829.6 kB/s eta 0:00:19\n",
      "   --- ------------------------------------ 1.5/16.5 MB 847.7 kB/s eta 0:00:18\n",
      "   --- ------------------------------------ 1.6/16.5 MB 853.8 kB/s eta 0:00:18\n",
      "   --- ------------------------------------ 1.6/16.5 MB 854.2 kB/s eta 0:00:18\n",
      "   ---- ----------------------------------- 1.7/16.5 MB 859.9 kB/s eta 0:00:18\n",
      "   ---- ----------------------------------- 1.7/16.5 MB 865.3 kB/s eta 0:00:18\n",
      "   ---- ----------------------------------- 1.8/16.5 MB 867.2 kB/s eta 0:00:17\n",
      "   ---- ----------------------------------- 1.8/16.5 MB 866.0 kB/s eta 0:00:17\n",
      "   ---- ----------------------------------- 1.9/16.5 MB 875.7 kB/s eta 0:00:17\n",
      "   ---- ----------------------------------- 1.9/16.5 MB 882.0 kB/s eta 0:00:17\n",
      "   ---- ----------------------------------- 2.0/16.5 MB 881.8 kB/s eta 0:00:17\n",
      "   ---- ----------------------------------- 2.0/16.5 MB 886.1 kB/s eta 0:00:17\n",
      "   ----- ---------------------------------- 2.1/16.5 MB 896.4 kB/s eta 0:00:17\n",
      "   ----- ---------------------------------- 2.1/16.5 MB 900.3 kB/s eta 0:00:16\n",
      "   ----- ---------------------------------- 2.2/16.5 MB 908.3 kB/s eta 0:00:16\n",
      "   ----- ---------------------------------- 2.2/16.5 MB 916.0 kB/s eta 0:00:16\n",
      "   ----- ---------------------------------- 2.3/16.5 MB 925.3 kB/s eta 0:00:16\n",
      "   ----- ---------------------------------- 2.4/16.5 MB 932.4 kB/s eta 0:00:16\n",
      "   ----- ---------------------------------- 2.4/16.5 MB 947.3 kB/s eta 0:00:15\n",
      "   ------ --------------------------------- 2.5/16.5 MB 951.8 kB/s eta 0:00:15\n",
      "   ------ --------------------------------- 2.6/16.5 MB 966.1 kB/s eta 0:00:15\n",
      "   ------ --------------------------------- 2.7/16.5 MB 977.4 kB/s eta 0:00:15\n",
      "   ------ --------------------------------- 2.7/16.5 MB 985.1 kB/s eta 0:00:14\n",
      "   ------ --------------------------------- 2.8/16.5 MB 997.9 kB/s eta 0:00:14\n",
      "   ------ --------------------------------- 2.9/16.5 MB 1.0 MB/s eta 0:00:14\n",
      "   ------- -------------------------------- 2.9/16.5 MB 1.0 MB/s eta 0:00:14\n",
      "   ------- -------------------------------- 3.0/16.5 MB 1.0 MB/s eta 0:00:14\n",
      "   ------- -------------------------------- 3.1/16.5 MB 1.0 MB/s eta 0:00:13\n",
      "   ------- -------------------------------- 3.2/16.5 MB 1.1 MB/s eta 0:00:13\n",
      "   ------- -------------------------------- 3.3/16.5 MB 1.1 MB/s eta 0:00:13\n",
      "   -------- ------------------------------- 3.4/16.5 MB 1.1 MB/s eta 0:00:13\n",
      "   -------- ------------------------------- 3.5/16.5 MB 1.1 MB/s eta 0:00:12\n",
      "   -------- ------------------------------- 3.5/16.5 MB 1.1 MB/s eta 0:00:12\n",
      "   -------- ------------------------------- 3.6/16.5 MB 1.1 MB/s eta 0:00:12\n",
      "   -------- ------------------------------- 3.7/16.5 MB 1.1 MB/s eta 0:00:12\n",
      "   --------- ------------------------------ 3.8/16.5 MB 1.1 MB/s eta 0:00:12\n",
      "   --------- ------------------------------ 3.8/16.5 MB 1.1 MB/s eta 0:00:12\n",
      "   --------- ------------------------------ 3.9/16.5 MB 1.1 MB/s eta 0:00:12\n",
      "   --------- ------------------------------ 4.0/16.5 MB 1.1 MB/s eta 0:00:11\n",
      "   --------- ------------------------------ 4.0/16.5 MB 1.2 MB/s eta 0:00:11\n",
      "   --------- ------------------------------ 4.1/16.5 MB 1.2 MB/s eta 0:00:11\n",
      "   ---------- ----------------------------- 4.1/16.5 MB 1.2 MB/s eta 0:00:11\n",
      "   ---------- ----------------------------- 4.2/16.5 MB 1.2 MB/s eta 0:00:11\n",
      "   ---------- ----------------------------- 4.2/16.5 MB 1.2 MB/s eta 0:00:11\n",
      "   ---------- ----------------------------- 4.3/16.5 MB 1.2 MB/s eta 0:00:11\n",
      "   ---------- ----------------------------- 4.3/16.5 MB 1.2 MB/s eta 0:00:11\n",
      "   ---------- ----------------------------- 4.4/16.5 MB 1.2 MB/s eta 0:00:11\n",
      "   ---------- ----------------------------- 4.4/16.5 MB 1.2 MB/s eta 0:00:11\n",
      "   ---------- ----------------------------- 4.5/16.5 MB 1.2 MB/s eta 0:00:11\n",
      "   ----------- ---------------------------- 4.6/16.5 MB 1.2 MB/s eta 0:00:11\n",
      "   ----------- ---------------------------- 4.6/16.5 MB 1.2 MB/s eta 0:00:11\n",
      "   ----------- ---------------------------- 4.7/16.5 MB 1.2 MB/s eta 0:00:11\n",
      "   ----------- ---------------------------- 4.7/16.5 MB 1.2 MB/s eta 0:00:11\n",
      "   ----------- ---------------------------- 4.8/16.5 MB 1.2 MB/s eta 0:00:10\n",
      "   ----------- ---------------------------- 4.8/16.5 MB 1.2 MB/s eta 0:00:10\n",
      "   ----------- ---------------------------- 4.9/16.5 MB 1.2 MB/s eta 0:00:10\n",
      "   ------------ --------------------------- 5.0/16.5 MB 1.2 MB/s eta 0:00:10\n",
      "   ------------ --------------------------- 5.0/16.5 MB 1.2 MB/s eta 0:00:10\n",
      "   ------------ --------------------------- 5.1/16.5 MB 1.2 MB/s eta 0:00:10\n",
      "   ------------ --------------------------- 5.2/16.5 MB 1.2 MB/s eta 0:00:10\n",
      "   ------------ --------------------------- 5.2/16.5 MB 1.2 MB/s eta 0:00:10\n",
      "   ------------ --------------------------- 5.2/16.5 MB 1.2 MB/s eta 0:00:10\n",
      "   ------------ --------------------------- 5.3/16.5 MB 1.2 MB/s eta 0:00:10\n",
      "   ------------ --------------------------- 5.3/16.5 MB 1.2 MB/s eta 0:00:10\n",
      "   ------------ --------------------------- 5.3/16.5 MB 1.2 MB/s eta 0:00:10\n",
      "   ------------- -------------------------- 5.4/16.5 MB 1.2 MB/s eta 0:00:10\n",
      "   ------------- -------------------------- 5.4/16.5 MB 1.2 MB/s eta 0:00:10\n",
      "   ------------- -------------------------- 5.5/16.5 MB 1.2 MB/s eta 0:00:10\n",
      "   ------------- -------------------------- 5.5/16.5 MB 1.2 MB/s eta 0:00:10\n",
      "   ------------- -------------------------- 5.6/16.5 MB 1.2 MB/s eta 0:00:10\n",
      "   ------------- -------------------------- 5.6/16.5 MB 1.2 MB/s eta 0:00:10\n",
      "   ------------- -------------------------- 5.6/16.5 MB 1.2 MB/s eta 0:00:10\n",
      "   ------------- -------------------------- 5.7/16.5 MB 1.2 MB/s eta 0:00:10\n",
      "   ------------- -------------------------- 5.8/16.5 MB 1.2 MB/s eta 0:00:10\n",
      "   -------------- ------------------------- 5.8/16.5 MB 1.2 MB/s eta 0:00:10\n",
      "   -------------- ------------------------- 5.9/16.5 MB 1.2 MB/s eta 0:00:10\n",
      "   -------------- ------------------------- 5.9/16.5 MB 1.2 MB/s eta 0:00:10\n",
      "   -------------- ------------------------- 6.0/16.5 MB 1.2 MB/s eta 0:00:09\n",
      "   -------------- ------------------------- 6.1/16.5 MB 1.2 MB/s eta 0:00:09\n",
      "   -------------- ------------------------- 6.1/16.5 MB 1.2 MB/s eta 0:00:09\n",
      "   -------------- ------------------------- 6.2/16.5 MB 1.2 MB/s eta 0:00:09\n",
      "   --------------- ------------------------ 6.2/16.5 MB 1.2 MB/s eta 0:00:09\n",
      "   --------------- ------------------------ 6.3/16.5 MB 1.2 MB/s eta 0:00:09\n",
      "   --------------- ------------------------ 6.3/16.5 MB 1.2 MB/s eta 0:00:09\n",
      "   --------------- ------------------------ 6.4/16.5 MB 1.2 MB/s eta 0:00:09\n",
      "   --------------- ------------------------ 6.5/16.5 MB 1.2 MB/s eta 0:00:09\n",
      "   --------------- ------------------------ 6.6/16.5 MB 1.2 MB/s eta 0:00:09\n",
      "   ---------------- ----------------------- 6.7/16.5 MB 1.2 MB/s eta 0:00:09\n",
      "   ---------------- ----------------------- 6.7/16.5 MB 1.2 MB/s eta 0:00:09\n",
      "   ---------------- ----------------------- 6.8/16.5 MB 1.2 MB/s eta 0:00:09\n",
      "   ---------------- ----------------------- 6.9/16.5 MB 1.2 MB/s eta 0:00:08\n",
      "   ---------------- ----------------------- 7.0/16.5 MB 1.2 MB/s eta 0:00:08\n",
      "   ----------------- ---------------------- 7.1/16.5 MB 1.2 MB/s eta 0:00:08\n",
      "   ----------------- ---------------------- 7.2/16.5 MB 1.2 MB/s eta 0:00:08\n",
      "   ----------------- ---------------------- 7.3/16.5 MB 1.2 MB/s eta 0:00:08\n",
      "   ----------------- ---------------------- 7.3/16.5 MB 1.2 MB/s eta 0:00:08\n",
      "   ------------------ --------------------- 7.4/16.5 MB 1.2 MB/s eta 0:00:08\n",
      "   ------------------ --------------------- 7.5/16.5 MB 1.2 MB/s eta 0:00:08\n",
      "   ------------------ --------------------- 7.5/16.5 MB 1.2 MB/s eta 0:00:08\n",
      "   ------------------ --------------------- 7.5/16.5 MB 1.2 MB/s eta 0:00:08\n",
      "   ------------------ --------------------- 7.5/16.5 MB 1.2 MB/s eta 0:00:08\n",
      "   ------------------ --------------------- 7.6/16.5 MB 1.2 MB/s eta 0:00:08\n",
      "   ------------------ --------------------- 7.6/16.5 MB 1.2 MB/s eta 0:00:08\n",
      "   ------------------ --------------------- 7.7/16.5 MB 1.2 MB/s eta 0:00:08\n",
      "   ------------------ --------------------- 7.8/16.5 MB 1.2 MB/s eta 0:00:08\n",
      "   ------------------- -------------------- 7.9/16.5 MB 1.2 MB/s eta 0:00:07\n",
      "   ------------------- -------------------- 8.0/16.5 MB 1.2 MB/s eta 0:00:07\n",
      "   ------------------- -------------------- 8.1/16.5 MB 1.3 MB/s eta 0:00:07\n",
      "   ------------------- -------------------- 8.2/16.5 MB 1.3 MB/s eta 0:00:07\n",
      "   -------------------- ------------------- 8.3/16.5 MB 1.3 MB/s eta 0:00:07\n",
      "   -------------------- ------------------- 8.4/16.5 MB 1.3 MB/s eta 0:00:07\n",
      "   -------------------- ------------------- 8.6/16.5 MB 1.3 MB/s eta 0:00:07\n",
      "   --------------------- ------------------ 8.7/16.5 MB 1.3 MB/s eta 0:00:07\n",
      "   --------------------- ------------------ 8.8/16.5 MB 1.3 MB/s eta 0:00:06\n",
      "   --------------------- ------------------ 8.9/16.5 MB 1.3 MB/s eta 0:00:06\n",
      "   --------------------- ------------------ 9.1/16.5 MB 1.3 MB/s eta 0:00:06\n",
      "   ---------------------- ----------------- 9.2/16.5 MB 1.3 MB/s eta 0:00:06\n",
      "   ---------------------- ----------------- 9.3/16.5 MB 1.3 MB/s eta 0:00:06\n",
      "   ---------------------- ----------------- 9.4/16.5 MB 1.3 MB/s eta 0:00:06\n",
      "   ----------------------- ---------------- 9.6/16.5 MB 1.4 MB/s eta 0:00:06\n",
      "   ----------------------- ---------------- 9.7/16.5 MB 1.4 MB/s eta 0:00:05\n",
      "   ----------------------- ---------------- 9.8/16.5 MB 1.4 MB/s eta 0:00:05\n",
      "   ------------------------ --------------- 10.0/16.5 MB 1.4 MB/s eta 0:00:05\n",
      "   ------------------------ --------------- 10.1/16.5 MB 1.4 MB/s eta 0:00:05\n",
      "   ------------------------ --------------- 10.2/16.5 MB 1.4 MB/s eta 0:00:05\n",
      "   ------------------------ --------------- 10.3/16.5 MB 1.4 MB/s eta 0:00:05\n",
      "   ------------------------- -------------- 10.4/16.5 MB 1.4 MB/s eta 0:00:05\n",
      "   ------------------------- -------------- 10.5/16.5 MB 1.4 MB/s eta 0:00:05\n",
      "   ------------------------- -------------- 10.6/16.5 MB 1.5 MB/s eta 0:00:05\n",
      "   ------------------------- -------------- 10.7/16.5 MB 1.5 MB/s eta 0:00:04\n",
      "   -------------------------- ------------- 10.8/16.5 MB 1.5 MB/s eta 0:00:04\n",
      "   -------------------------- ------------- 10.9/16.5 MB 1.5 MB/s eta 0:00:04\n",
      "   -------------------------- ------------- 11.0/16.5 MB 1.6 MB/s eta 0:00:04\n",
      "   -------------------------- ------------- 11.1/16.5 MB 1.6 MB/s eta 0:00:04\n",
      "   --------------------------- ------------ 11.2/16.5 MB 1.6 MB/s eta 0:00:04\n",
      "   --------------------------- ------------ 11.3/16.5 MB 1.6 MB/s eta 0:00:04\n",
      "   --------------------------- ------------ 11.4/16.5 MB 1.6 MB/s eta 0:00:04\n",
      "   --------------------------- ------------ 11.5/16.5 MB 1.6 MB/s eta 0:00:04\n",
      "   ---------------------------- ----------- 11.7/16.5 MB 1.7 MB/s eta 0:00:03\n",
      "   ---------------------------- ----------- 11.8/16.5 MB 1.7 MB/s eta 0:00:03\n",
      "   ---------------------------- ----------- 11.9/16.5 MB 1.7 MB/s eta 0:00:03\n",
      "   ----------------------------- ---------- 12.0/16.5 MB 1.7 MB/s eta 0:00:03\n",
      "   ----------------------------- ---------- 12.1/16.5 MB 1.7 MB/s eta 0:00:03\n",
      "   ----------------------------- ---------- 12.3/16.5 MB 1.8 MB/s eta 0:00:03\n",
      "   ------------------------------ --------- 12.4/16.5 MB 1.8 MB/s eta 0:00:03\n",
      "   ------------------------------ --------- 12.5/16.5 MB 1.8 MB/s eta 0:00:03\n",
      "   ------------------------------ --------- 12.7/16.5 MB 1.8 MB/s eta 0:00:03\n",
      "   ------------------------------- -------- 12.8/16.5 MB 1.8 MB/s eta 0:00:03\n",
      "   ------------------------------- -------- 12.9/16.5 MB 1.8 MB/s eta 0:00:02\n",
      "   ------------------------------- -------- 13.0/16.5 MB 1.8 MB/s eta 0:00:02\n",
      "   ------------------------------- -------- 13.1/16.5 MB 1.8 MB/s eta 0:00:02\n",
      "   -------------------------------- ------- 13.3/16.5 MB 1.8 MB/s eta 0:00:02\n",
      "   -------------------------------- ------- 13.4/16.5 MB 1.9 MB/s eta 0:00:02\n",
      "   -------------------------------- ------- 13.4/16.5 MB 1.9 MB/s eta 0:00:02\n",
      "   -------------------------------- ------- 13.5/16.5 MB 1.9 MB/s eta 0:00:02\n",
      "   -------------------------------- ------- 13.6/16.5 MB 1.8 MB/s eta 0:00:02\n",
      "   --------------------------------- ------ 13.7/16.5 MB 1.8 MB/s eta 0:00:02\n",
      "   --------------------------------- ------ 13.8/16.5 MB 1.8 MB/s eta 0:00:02\n",
      "   --------------------------------- ------ 13.8/16.5 MB 1.8 MB/s eta 0:00:02\n",
      "   --------------------------------- ------ 13.9/16.5 MB 1.8 MB/s eta 0:00:02\n",
      "   --------------------------------- ------ 14.0/16.5 MB 1.8 MB/s eta 0:00:02\n",
      "   ---------------------------------- ----- 14.1/16.5 MB 1.8 MB/s eta 0:00:02\n",
      "   ---------------------------------- ----- 14.1/16.5 MB 1.8 MB/s eta 0:00:02\n",
      "   ---------------------------------- ----- 14.2/16.5 MB 1.8 MB/s eta 0:00:02\n",
      "   ---------------------------------- ----- 14.3/16.5 MB 1.8 MB/s eta 0:00:02\n",
      "   ---------------------------------- ----- 14.4/16.5 MB 1.9 MB/s eta 0:00:02\n",
      "   ----------------------------------- ---- 14.5/16.5 MB 1.9 MB/s eta 0:00:02\n",
      "   ----------------------------------- ---- 14.6/16.5 MB 1.9 MB/s eta 0:00:02\n",
      "   ----------------------------------- ---- 14.7/16.5 MB 1.9 MB/s eta 0:00:01\n",
      "   ----------------------------------- ---- 14.8/16.5 MB 1.9 MB/s eta 0:00:01\n",
      "   ----------------------------------- ---- 14.9/16.5 MB 1.9 MB/s eta 0:00:01\n",
      "   ------------------------------------ --- 15.0/16.5 MB 1.9 MB/s eta 0:00:01\n",
      "   ------------------------------------ --- 15.1/16.5 MB 1.9 MB/s eta 0:00:01\n",
      "   ------------------------------------ --- 15.2/16.5 MB 1.9 MB/s eta 0:00:01\n",
      "   ------------------------------------ --- 15.3/16.5 MB 1.9 MB/s eta 0:00:01\n",
      "   ------------------------------------- -- 15.4/16.5 MB 1.9 MB/s eta 0:00:01\n",
      "   ------------------------------------- -- 15.5/16.5 MB 2.0 MB/s eta 0:00:01\n",
      "   ------------------------------------- -- 15.6/16.5 MB 2.0 MB/s eta 0:00:01\n",
      "   -------------------------------------- - 15.7/16.5 MB 2.0 MB/s eta 0:00:01\n",
      "   -------------------------------------- - 15.8/16.5 MB 2.0 MB/s eta 0:00:01\n",
      "   -------------------------------------- - 15.8/16.5 MB 2.0 MB/s eta 0:00:01\n",
      "   -------------------------------------- - 15.9/16.5 MB 2.0 MB/s eta 0:00:01\n",
      "   -------------------------------------- - 16.0/16.5 MB 2.1 MB/s eta 0:00:01\n",
      "   ---------------------------------------  16.1/16.5 MB 2.1 MB/s eta 0:00:01\n",
      "   ---------------------------------------  16.2/16.5 MB 2.1 MB/s eta 0:00:01\n",
      "   ---------------------------------------  16.3/16.5 MB 2.1 MB/s eta 0:00:01\n",
      "   ---------------------------------------  16.3/16.5 MB 2.1 MB/s eta 0:00:01\n",
      "   ---------------------------------------  16.4/16.5 MB 2.1 MB/s eta 0:00:01\n",
      "   ---------------------------------------  16.5/16.5 MB 2.1 MB/s eta 0:00:01\n",
      "   ---------------------------------------- 16.5/16.5 MB 2.1 MB/s eta 0:00:00\n",
      "Installing collected packages: numpy\n",
      "Successfully installed numpy-2.0.0\n",
      "Note: you may need to restart the kernel to use updated packages.\n"
     ]
    },
    {
     "name": "stderr",
     "output_type": "stream",
     "text": [
      "  WARNING: The scripts f2py.exe and numpy-config.exe are installed in 'C:\\Users\\pujap\\AppData\\Roaming\\Python\\Python311\\Scripts' which is not on PATH.\n",
      "  Consider adding this directory to PATH or, if you prefer to suppress this warning, use --no-warn-script-location.\n",
      "ERROR: pip's dependency resolver does not currently take into account all the packages that are installed. This behaviour is the source of the following dependency conflicts.\n",
      "gensim 4.3.0 requires FuzzyTM>=0.4.0, which is not installed.\n",
      "astropy 5.3.4 requires numpy<2,>=1.21, but you have numpy 2.0.0 which is incompatible.\n",
      "contourpy 1.2.0 requires numpy<2.0,>=1.20, but you have numpy 2.0.0 which is incompatible.\n",
      "matplotlib 3.8.0 requires numpy<2,>=1.21, but you have numpy 2.0.0 which is incompatible.\n",
      "numba 0.59.0 requires numpy<1.27,>=1.22, but you have numpy 2.0.0 which is incompatible.\n",
      "pandas 2.1.4 requires numpy<2,>=1.23.2; python_version == \"3.11\", but you have numpy 2.0.0 which is incompatible.\n",
      "pywavelets 1.5.0 requires numpy<2.0,>=1.22.4, but you have numpy 2.0.0 which is incompatible.\n",
      "scipy 1.11.4 requires numpy<1.28.0,>=1.21.6, but you have numpy 2.0.0 which is incompatible.\n",
      "streamlit 1.30.0 requires numpy<2,>=1.19.3, but you have numpy 2.0.0 which is incompatible.\n"
     ]
    }
   ],
   "source": [
    "pip install --upgrade numpy"
   ]
  },
  {
   "cell_type": "code",
   "execution_count": 7,
   "id": "f41ab184-8cdc-4053-91f2-30736cdcdb58",
   "metadata": {},
   "outputs": [
    {
     "name": "stdout",
     "output_type": "stream",
     "text": [
      "['45' 'sam' '2.5' '36' '77' '88' '99' '100'] <class 'numpy.ndarray'>\n"
     ]
    }
   ],
   "source": [
    "l = [45, \"sam\", 2.5, 36, 77, 88, 99, 100]\n",
    "import numpy as np\n",
    "ar = np.array(l)\n",
    "print(ar,type(ar))"
   ]
  },
  {
   "cell_type": "code",
   "execution_count": 10,
   "id": "931dd853-24aa-4574-b291-fcdf4708c58a",
   "metadata": {},
   "outputs": [
    {
     "name": "stdout",
     "output_type": "stream",
     "text": [
      "[45, 'sam', 2.5, 36, 77, 88, 99, 100] <class 'list'>\n"
     ]
    }
   ],
   "source": [
    "l1 = [78, 88, 98, 45, 64, 56, 12, 11, 31, 23, 10, 30, 25, 24, 23]\n",
    "print(l,type(l))"
   ]
  },
  {
   "cell_type": "code",
   "execution_count": 11,
   "id": "8c07a5bc-e9cc-4389-895a-e15e166e199b",
   "metadata": {},
   "outputs": [
    {
     "name": "stdout",
     "output_type": "stream",
     "text": [
      "[78 88 98 45 64 56 12 11 31 23 10 30 25 24 23] <class 'numpy.ndarray'>\n"
     ]
    }
   ],
   "source": [
    "ar = np.array(l1)\n",
    "print(ar,type(ar))"
   ]
  },
  {
   "cell_type": "code",
   "execution_count": 12,
   "id": "4d2bf3be-39df-4daf-ac73-50e6853eed1e",
   "metadata": {},
   "outputs": [
    {
     "data": {
      "text/plain": [
       "1"
      ]
     },
     "execution_count": 12,
     "metadata": {},
     "output_type": "execute_result"
    }
   ],
   "source": [
    "ar.ndim"
   ]
  },
  {
   "cell_type": "code",
   "execution_count": 13,
   "id": "565ff33e-f2a4-4773-a0e3-fe155ef4b78e",
   "metadata": {},
   "outputs": [
    {
     "data": {
      "text/plain": [
       "(15,)"
      ]
     },
     "execution_count": 13,
     "metadata": {},
     "output_type": "execute_result"
    }
   ],
   "source": [
    "ar.shape"
   ]
  },
  {
   "cell_type": "code",
   "execution_count": 14,
   "id": "8fd1fede-28fa-461f-9a21-f3adc229777f",
   "metadata": {},
   "outputs": [
    {
     "data": {
      "text/plain": [
       "15"
      ]
     },
     "execution_count": 14,
     "metadata": {},
     "output_type": "execute_result"
    }
   ],
   "source": [
    "ar.size"
   ]
  },
  {
   "cell_type": "code",
   "execution_count": 16,
   "id": "3a60a2b3-1206-4c22-86cb-d66b8246523e",
   "metadata": {},
   "outputs": [
    {
     "data": {
      "text/plain": [
       "15"
      ]
     },
     "execution_count": 16,
     "metadata": {},
     "output_type": "execute_result"
    }
   ],
   "source": [
    "len(ar)"
   ]
  },
  {
   "cell_type": "code",
   "execution_count": 17,
   "id": "fe552ea6-2351-4cec-a161-944b182b7220",
   "metadata": {},
   "outputs": [
    {
     "data": {
      "text/plain": [
       "dtype('int32')"
      ]
     },
     "execution_count": 17,
     "metadata": {},
     "output_type": "execute_result"
    }
   ],
   "source": [
    "ar.dtype"
   ]
  },
  {
   "cell_type": "code",
   "execution_count": 18,
   "id": "2bf95b29-f583-4b51-84f7-bb8964c485bc",
   "metadata": {},
   "outputs": [
    {
     "name": "stdout",
     "output_type": "stream",
     "text": [
      "[[78 88 98 45 64 56 12 11 31 23 10 30 25 24 23]] <class 'numpy.ndarray'>\n"
     ]
    }
   ],
   "source": [
    "ar = np.array([l1])\n",
    "print(ar,type(ar))"
   ]
  },
  {
   "cell_type": "code",
   "execution_count": 19,
   "id": "161a0f06-2e50-463d-8edf-161c4f2411f1",
   "metadata": {},
   "outputs": [
    {
     "data": {
      "text/plain": [
       "2"
      ]
     },
     "execution_count": 19,
     "metadata": {},
     "output_type": "execute_result"
    }
   ],
   "source": [
    "ar.ndim"
   ]
  },
  {
   "cell_type": "code",
   "execution_count": 20,
   "id": "28697d7b-806f-4839-879f-a48d08da17fe",
   "metadata": {},
   "outputs": [
    {
     "data": {
      "text/plain": [
       "(1, 15)"
      ]
     },
     "execution_count": 20,
     "metadata": {},
     "output_type": "execute_result"
    }
   ],
   "source": [
    "ar.shape"
   ]
  },
  {
   "cell_type": "code",
   "execution_count": 21,
   "id": "1a9236f8-a4e8-4e90-bf6c-76d12c0d186a",
   "metadata": {},
   "outputs": [
    {
     "data": {
      "text/plain": [
       "15"
      ]
     },
     "execution_count": 21,
     "metadata": {},
     "output_type": "execute_result"
    }
   ],
   "source": [
    "ar.size"
   ]
  },
  {
   "cell_type": "code",
   "execution_count": 23,
   "id": "3e22e0b7-52a6-4ed6-af84-2f2d2dc863b3",
   "metadata": {},
   "outputs": [
    {
     "data": {
      "text/plain": [
       "1"
      ]
     },
     "execution_count": 23,
     "metadata": {},
     "output_type": "execute_result"
    }
   ],
   "source": [
    "len(ar)"
   ]
  },
  {
   "cell_type": "code",
   "execution_count": 24,
   "id": "4dfe36f6-314d-473b-be16-3a80d9840172",
   "metadata": {},
   "outputs": [
    {
     "data": {
      "text/plain": [
       "dtype('int32')"
      ]
     },
     "execution_count": 24,
     "metadata": {},
     "output_type": "execute_result"
    }
   ],
   "source": [
    "ar.dtype"
   ]
  },
  {
   "cell_type": "code",
   "execution_count": 28,
   "id": "1b10d561-07af-4f25-9a5b-315b7f8e330b",
   "metadata": {},
   "outputs": [
    {
     "name": "stdout",
     "output_type": "stream",
     "text": [
      "[[[78 88 98 45 64 56 12 11 31 23 10 30 25 24 23]]] <class 'numpy.ndarray'>\n"
     ]
    }
   ],
   "source": [
    "ar = np.array([l1],ndmin=3)\n",
    "print(ar,type(ar))"
   ]
  },
  {
   "cell_type": "code",
   "execution_count": 29,
   "id": "7894d5c7-4ab1-46bf-82c0-95469e3021c0",
   "metadata": {},
   "outputs": [
    {
     "data": {
      "text/plain": [
       "3"
      ]
     },
     "execution_count": 29,
     "metadata": {},
     "output_type": "execute_result"
    }
   ],
   "source": [
    "ar.ndim"
   ]
  },
  {
   "cell_type": "code",
   "execution_count": 30,
   "id": "3044a461-07ff-4303-b7ca-3b8fd129f38f",
   "metadata": {},
   "outputs": [
    {
     "data": {
      "text/plain": [
       "(1, 1, 15)"
      ]
     },
     "execution_count": 30,
     "metadata": {},
     "output_type": "execute_result"
    }
   ],
   "source": [
    "ar.shape"
   ]
  },
  {
   "cell_type": "code",
   "execution_count": 31,
   "id": "b61a84bb-cebe-4863-88ab-8694e54da0fd",
   "metadata": {},
   "outputs": [
    {
     "data": {
      "text/plain": [
       "15"
      ]
     },
     "execution_count": 31,
     "metadata": {},
     "output_type": "execute_result"
    }
   ],
   "source": [
    "ar.size"
   ]
  },
  {
   "cell_type": "code",
   "execution_count": 32,
   "id": "cb822b1c-48a3-469b-8475-e99a0abdac83",
   "metadata": {},
   "outputs": [
    {
     "data": {
      "text/plain": [
       "1"
      ]
     },
     "execution_count": 32,
     "metadata": {},
     "output_type": "execute_result"
    }
   ],
   "source": [
    "len(ar)"
   ]
  },
  {
   "cell_type": "code",
   "execution_count": 33,
   "id": "5e2eaa24-6e00-40db-a231-851c36fb6f50",
   "metadata": {},
   "outputs": [
    {
     "data": {
      "text/plain": [
       "dtype('int32')"
      ]
     },
     "execution_count": 33,
     "metadata": {},
     "output_type": "execute_result"
    }
   ],
   "source": [
    "ar.dtype"
   ]
  },
  {
   "cell_type": "code",
   "execution_count": 34,
   "id": "4b95795e-1a65-4c61-87bc-d57a42bd3089",
   "metadata": {},
   "outputs": [
    {
     "name": "stdout",
     "output_type": "stream",
     "text": [
      "[[78. 88. 98. 45. 64. 56. 12. 11. 31. 23. 10. 30. 25. 24. 23.]] <class 'numpy.ndarray'>\n"
     ]
    }
   ],
   "source": [
    "ar = np.array([l1],dtype=\"f\")\n",
    "print(ar,type(ar))"
   ]
  },
  {
   "cell_type": "code",
   "execution_count": 35,
   "id": "13be48c6-e2df-4674-b7b1-94cd7bb8e46c",
   "metadata": {},
   "outputs": [
    {
     "name": "stdout",
     "output_type": "stream",
     "text": [
      "[[78. 88. 98. 45. 64. 56. 12. 11. 31. 23. 10. 30. 25. 24. 23.]] <class 'numpy.ndarray'>\n"
     ]
    }
   ],
   "source": [
    "ar = np.array([l1],dtype=float)\n",
    "print(ar,type(ar))"
   ]
  },
  {
   "cell_type": "code",
   "execution_count": 36,
   "id": "7d3a6d6b-0570-4f8d-b147-594944936c07",
   "metadata": {},
   "outputs": [
    {
     "name": "stdout",
     "output_type": "stream",
     "text": [
      "[[78. 88. 98. 45. 64. 56. 12. 11. 31. 23. 10. 30. 25. 24. 23.]] <class 'numpy.ndarray'>\n"
     ]
    }
   ],
   "source": [
    "ar = np.array([l1],np.float_)\n",
    "print(ar,type(ar))"
   ]
  },
  {
   "cell_type": "code",
   "execution_count": 37,
   "id": "cf806c59-2531-43fd-858f-ce44e962d77d",
   "metadata": {},
   "outputs": [
    {
     "name": "stdout",
     "output_type": "stream",
     "text": [
      "[[78. 88. 98. 45. 64. 56. 12. 11. 31. 23. 10. 30. 25. 24. 23.]] <class 'numpy.ndarray'>\n"
     ]
    }
   ],
   "source": [
    "ar = np.array([l1],dtype=np.float64)\n",
    "print(ar,type(ar))"
   ]
  },
  {
   "cell_type": "code",
   "execution_count": 39,
   "id": "843c4863-08f4-492b-9289-57ed74d5ce10",
   "metadata": {},
   "outputs": [
    {
     "name": "stdout",
     "output_type": "stream",
     "text": [
      "[[78 88 98 45 64 56 12 11 31 23 10 30 25 24 23]] <class 'numpy.ndarray'>\n"
     ]
    }
   ],
   "source": [
    "ar = np.array([l1])\n",
    "print(ar,type(ar))"
   ]
  },
  {
   "cell_type": "code",
   "execution_count": 40,
   "id": "3f430f8d-a90c-4c5a-8251-d8919c2a5c77",
   "metadata": {},
   "outputs": [
    {
     "data": {
      "text/plain": [
       "array([[78., 88., 98., 45., 64., 56., 12., 11., 31., 23., 10., 30., 25.,\n",
       "        24., 23.]])"
      ]
     },
     "execution_count": 40,
     "metadata": {},
     "output_type": "execute_result"
    }
   ],
   "source": [
    "ar=np.float_(ar)\n",
    "ar"
   ]
  },
  {
   "cell_type": "code",
   "execution_count": 41,
   "id": "c988aeb0-6672-4c60-9ce8-c86a7315a45b",
   "metadata": {},
   "outputs": [
    {
     "data": {
      "text/plain": [
       "array([[78., 88., 98., 45., 64., 56., 12., 11., 31., 23., 10., 30., 25.,\n",
       "        24., 23.]])"
      ]
     },
     "execution_count": 41,
     "metadata": {},
     "output_type": "execute_result"
    }
   ],
   "source": [
    "ar = ar.astype(float)\n",
    "ar"
   ]
  },
  {
   "cell_type": "code",
   "execution_count": 42,
   "id": "668d7f8c-0fc3-4746-a652-9bf791c3b6e2",
   "metadata": {},
   "outputs": [
    {
     "data": {
      "text/plain": [
       "dtype('float64')"
      ]
     },
     "execution_count": 42,
     "metadata": {},
     "output_type": "execute_result"
    }
   ],
   "source": [
    "ar.dtype"
   ]
  },
  {
   "cell_type": "code",
   "execution_count": 43,
   "id": "1c33f374-26e7-4e24-b67c-a779cc9eb1c9",
   "metadata": {},
   "outputs": [
    {
     "name": "stdout",
     "output_type": "stream",
     "text": [
      "[[78 88 98 45 64 56 12 11 31 23 10 30 25 24 23]] <class 'numpy.ndarray'>\n"
     ]
    }
   ],
   "source": [
    "ar=np.array([l1])\n",
    "print(ar,type(ar))"
   ]
  },
  {
   "cell_type": "code",
   "execution_count": 44,
   "id": "e4028749-852b-4332-85c0-77a0971bb1c6",
   "metadata": {},
   "outputs": [
    {
     "data": {
      "text/plain": [
       "(1, 15)"
      ]
     },
     "execution_count": 44,
     "metadata": {},
     "output_type": "execute_result"
    }
   ],
   "source": [
    "ar.shape"
   ]
  },
  {
   "cell_type": "code",
   "execution_count": 47,
   "id": "70a9ad75-7c1e-436c-97ea-33e05cae6fd7",
   "metadata": {},
   "outputs": [
    {
     "data": {
      "text/plain": [
       "array([[78, 88, 98],\n",
       "       [45, 64, 56],\n",
       "       [12, 11, 31],\n",
       "       [23, 10, 30],\n",
       "       [25, 24, 23]])"
      ]
     },
     "execution_count": 47,
     "metadata": {},
     "output_type": "execute_result"
    }
   ],
   "source": [
    "ar.shape=(5,3)\n",
    "ar"
   ]
  },
  {
   "cell_type": "code",
   "execution_count": 48,
   "id": "6f0bbbb3-5fd0-4b5e-bca8-bbadd1fce8c8",
   "metadata": {},
   "outputs": [
    {
     "data": {
      "text/plain": [
       "array([[78, 88, 98, 45, 64],\n",
       "       [56, 12, 11, 31, 23],\n",
       "       [10, 30, 25, 24, 23]])"
      ]
     },
     "execution_count": 48,
     "metadata": {},
     "output_type": "execute_result"
    }
   ],
   "source": [
    "ar.reshape(3,5)"
   ]
  },
  {
   "cell_type": "code",
   "execution_count": 49,
   "id": "978780ce-f2e9-43f1-beda-9350f3115603",
   "metadata": {},
   "outputs": [
    {
     "data": {
      "text/plain": [
       "array([[78, 88, 98],\n",
       "       [45, 64, 56],\n",
       "       [12, 11, 31],\n",
       "       [23, 10, 30],\n",
       "       [25, 24, 23]])"
      ]
     },
     "execution_count": 49,
     "metadata": {},
     "output_type": "execute_result"
    }
   ],
   "source": [
    "ar"
   ]
  },
  {
   "cell_type": "code",
   "execution_count": 50,
   "id": "a0cf23d6-ba4b-49fb-9b1c-aeb3118ae8dd",
   "metadata": {},
   "outputs": [
    {
     "data": {
      "text/plain": [
       "array([[78, 88, 98, 45, 64],\n",
       "       [56, 12, 11, 31, 23],\n",
       "       [10, 30, 25, 24, 23]])"
      ]
     },
     "execution_count": 50,
     "metadata": {},
     "output_type": "execute_result"
    }
   ],
   "source": [
    "ar = ar.reshape(3,5)\n",
    "ar"
   ]
  },
  {
   "cell_type": "code",
   "execution_count": 51,
   "id": "e5553d79-39ad-4203-ac2e-887587b699b3",
   "metadata": {},
   "outputs": [
    {
     "data": {
      "text/plain": [
       "15"
      ]
     },
     "execution_count": 51,
     "metadata": {},
     "output_type": "execute_result"
    }
   ],
   "source": [
    "ar.size"
   ]
  },
  {
   "cell_type": "code",
   "execution_count": 52,
   "id": "3f0a654e-0851-441a-9f5e-57bd1c75cdf7",
   "metadata": {},
   "outputs": [
    {
     "data": {
      "text/plain": [
       "3"
      ]
     },
     "execution_count": 52,
     "metadata": {},
     "output_type": "execute_result"
    }
   ],
   "source": [
    "len(ar)"
   ]
  },
  {
   "cell_type": "code",
   "execution_count": 53,
   "id": "02209844-aca8-4d64-83b3-26be988fcb79",
   "metadata": {},
   "outputs": [
    {
     "name": "stdout",
     "output_type": "stream",
     "text": [
      "[{4, 5, 7, 8, 9, 10, 11, 12}] <class 'numpy.ndarray'>\n"
     ]
    }
   ],
   "source": [
    "t = {4, 5, 7, 8, 9, 10, 11, 12}\n",
    "ar = np.array([t])\n",
    "print(ar,type(ar))"
   ]
  },
  {
   "cell_type": "code",
   "execution_count": 54,
   "id": "1475331f-fd03-4c36-ae4a-013727154bc5",
   "metadata": {},
   "outputs": [
    {
     "data": {
      "text/plain": [
       "1"
      ]
     },
     "execution_count": 54,
     "metadata": {},
     "output_type": "execute_result"
    }
   ],
   "source": [
    "ar.ndim"
   ]
  },
  {
   "cell_type": "code",
   "execution_count": 55,
   "id": "2c482e07-b0bb-41b8-891e-b0c17b33f6ca",
   "metadata": {},
   "outputs": [
    {
     "data": {
      "text/plain": [
       "(1,)"
      ]
     },
     "execution_count": 55,
     "metadata": {},
     "output_type": "execute_result"
    }
   ],
   "source": [
    "ar.shape"
   ]
  },
  {
   "cell_type": "code",
   "execution_count": 56,
   "id": "04515991-1350-4be6-8f2f-b11de2435f19",
   "metadata": {},
   "outputs": [
    {
     "data": {
      "text/plain": [
       "(1,)"
      ]
     },
     "execution_count": 56,
     "metadata": {},
     "output_type": "execute_result"
    }
   ],
   "source": [
    "ar.shape"
   ]
  },
  {
   "cell_type": "code",
   "execution_count": 57,
   "id": "726006f5-90b8-4e6b-9382-eb5e9c399e4a",
   "metadata": {},
   "outputs": [
    {
     "data": {
      "text/plain": [
       "1"
      ]
     },
     "execution_count": 57,
     "metadata": {},
     "output_type": "execute_result"
    }
   ],
   "source": [
    "ar.size"
   ]
  },
  {
   "cell_type": "code",
   "execution_count": 58,
   "id": "e78fb398-f816-4396-9cf8-4620e441bf29",
   "metadata": {},
   "outputs": [
    {
     "data": {
      "text/plain": [
       "1"
      ]
     },
     "execution_count": 58,
     "metadata": {},
     "output_type": "execute_result"
    }
   ],
   "source": [
    "len(ar)"
   ]
  },
  {
   "cell_type": "code",
   "execution_count": 59,
   "id": "5b069aa0-ea21-4ed5-922d-485e1976e788",
   "metadata": {},
   "outputs": [
    {
     "data": {
      "text/plain": [
       "dtype('O')"
      ]
     },
     "execution_count": 59,
     "metadata": {},
     "output_type": "execute_result"
    }
   ],
   "source": [
    "ar.dtype"
   ]
  },
  {
   "cell_type": "code",
   "execution_count": 60,
   "id": "6084f467-1d67-435f-be29-b2010f9a2e52",
   "metadata": {},
   "outputs": [
    {
     "name": "stdout",
     "output_type": "stream",
     "text": [
      "933 ns ± 4.59 ns per loop (mean ± std. dev. of 7 runs, 1,000,000 loops each)\n"
     ]
    }
   ],
   "source": [
    "%timeit [i**2 for i in range(1,10)]"
   ]
  },
  {
   "cell_type": "code",
   "execution_count": 61,
   "id": "91bf9cc1-4c29-4c4d-8db6-a0fb81dff7cb",
   "metadata": {},
   "outputs": [
    {
     "name": "stdout",
     "output_type": "stream",
     "text": [
      "1.5 µs ± 5.17 ns per loop (mean ± std. dev. of 7 runs, 1,000,000 loops each)\n"
     ]
    }
   ],
   "source": [
    "%timeit np.arange(1,10)**2"
   ]
  },
  {
   "cell_type": "code",
   "execution_count": 63,
   "id": "359d012a-0a27-4a49-880a-08b379b4d1c0",
   "metadata": {},
   "outputs": [
    {
     "data": {
      "text/plain": [
       "array([0., 0., 0., 0.])"
      ]
     },
     "execution_count": 63,
     "metadata": {},
     "output_type": "execute_result"
    }
   ],
   "source": [
    "ar = np.zeros(4)\n",
    "ar"
   ]
  },
  {
   "cell_type": "code",
   "execution_count": 64,
   "id": "d33cac72-0624-4adb-8562-486768d45137",
   "metadata": {},
   "outputs": [
    {
     "data": {
      "text/plain": [
       "array([0, 0, 0, 0])"
      ]
     },
     "execution_count": 64,
     "metadata": {},
     "output_type": "execute_result"
    }
   ],
   "source": [
    "ar = np.zeros(4,dtype=int)\n",
    "ar"
   ]
  },
  {
   "cell_type": "code",
   "execution_count": 65,
   "id": "47c5ccd4-afa7-4fcd-a647-04292e6c355f",
   "metadata": {},
   "outputs": [
    {
     "data": {
      "text/plain": [
       "array([[0, 0, 0, 0],\n",
       "       [0, 0, 0, 0],\n",
       "       [0, 0, 0, 0]])"
      ]
     },
     "execution_count": 65,
     "metadata": {},
     "output_type": "execute_result"
    }
   ],
   "source": [
    "ar = np.zeros((3,4),dtype=int)\n",
    "ar"
   ]
  },
  {
   "cell_type": "code",
   "execution_count": 66,
   "id": "07082f6d-b7b5-4904-856a-5588c59d9d22",
   "metadata": {},
   "outputs": [
    {
     "data": {
      "text/plain": [
       "array([1., 1., 1., 1.])"
      ]
     },
     "execution_count": 66,
     "metadata": {},
     "output_type": "execute_result"
    }
   ],
   "source": [
    "ar = np.ones(4)\n",
    "ar"
   ]
  },
  {
   "cell_type": "code",
   "execution_count": 67,
   "id": "fd078f28-45a7-4dde-9398-4231f4881eca",
   "metadata": {},
   "outputs": [
    {
     "data": {
      "text/plain": [
       "array([1, 1, 1, 1])"
      ]
     },
     "execution_count": 67,
     "metadata": {},
     "output_type": "execute_result"
    }
   ],
   "source": [
    "ar = np.ones(4,dtype=int)\n",
    "ar"
   ]
  },
  {
   "cell_type": "code",
   "execution_count": 68,
   "id": "0c687a4e-6322-4179-9189-0b085943bba0",
   "metadata": {},
   "outputs": [
    {
     "data": {
      "text/plain": [
       "array([[1, 1, 1, 1],\n",
       "       [1, 1, 1, 1],\n",
       "       [1, 1, 1, 1]])"
      ]
     },
     "execution_count": 68,
     "metadata": {},
     "output_type": "execute_result"
    }
   ],
   "source": [
    "ar = np.ones((3,4),dtype=int)\n",
    "ar"
   ]
  },
  {
   "cell_type": "code",
   "execution_count": 69,
   "id": "72d979e7-468e-45b1-988d-03ec5bfb3352",
   "metadata": {},
   "outputs": [
    {
     "data": {
      "text/plain": [
       "array([0.00000000e+000, 6.95323242e-310, 4.94065646e-324,             nan,\n",
       "       8.68719193e-312])"
      ]
     },
     "execution_count": 69,
     "metadata": {},
     "output_type": "execute_result"
    }
   ],
   "source": [
    "ar=np.empty(5)\n",
    "ar"
   ]
  },
  {
   "cell_type": "code",
   "execution_count": 70,
   "id": "53852c81-8e59-4842-a355-7ec3fdda2732",
   "metadata": {},
   "outputs": [
    {
     "data": {
      "text/plain": [
       "array([0, 1, 2, 3, 4])"
      ]
     },
     "execution_count": 70,
     "metadata": {},
     "output_type": "execute_result"
    }
   ],
   "source": [
    "ar=np.arange(5)\n",
    "ar"
   ]
  },
  {
   "cell_type": "code",
   "execution_count": 71,
   "id": "685ae8d8-2ee7-49f0-8b59-7dc440abbdfc",
   "metadata": {},
   "outputs": [
    {
     "data": {
      "text/plain": [
       "array([ 2,  4,  6,  8, 10, 12, 14])"
      ]
     },
     "execution_count": 71,
     "metadata": {},
     "output_type": "execute_result"
    }
   ],
   "source": [
    "ar=np.arange(2,15,2)\n",
    "ar"
   ]
  },
  {
   "cell_type": "code",
   "execution_count": 72,
   "id": "dc7edb13-90d9-4b5f-a2ce-14fe8448f724",
   "metadata": {},
   "outputs": [
    {
     "data": {
      "text/plain": [
       "array([[1., 0., 0., 0., 0.],\n",
       "       [0., 1., 0., 0., 0.],\n",
       "       [0., 0., 1., 0., 0.],\n",
       "       [0., 0., 0., 1., 0.],\n",
       "       [0., 0., 0., 0., 1.]])"
      ]
     },
     "execution_count": 72,
     "metadata": {},
     "output_type": "execute_result"
    }
   ],
   "source": [
    "ar=np.eye(5)\n",
    "ar"
   ]
  },
  {
   "cell_type": "code",
   "execution_count": 73,
   "id": "1a2db92d-bfed-4380-8d3b-93c302d29b8b",
   "metadata": {},
   "outputs": [
    {
     "data": {
      "text/plain": [
       "array([[1, 0, 0],\n",
       "       [0, 1, 0]])"
      ]
     },
     "execution_count": 73,
     "metadata": {},
     "output_type": "execute_result"
    }
   ],
   "source": [
    "ar = np.eye(2,3,dtype=int)\n",
    "ar"
   ]
  },
  {
   "cell_type": "code",
   "execution_count": 74,
   "id": "f0aa9066-fcda-40ad-a557-319a1d769132",
   "metadata": {},
   "outputs": [
    {
     "data": {
      "text/plain": [
       "array([ 0.,  5., 10., 15., 20.])"
      ]
     },
     "execution_count": 74,
     "metadata": {},
     "output_type": "execute_result"
    }
   ],
   "source": [
    "ar=np.linspace(0,20,5)\n",
    "ar"
   ]
  },
  {
   "cell_type": "code",
   "execution_count": 75,
   "id": "8ca36878-8020-4573-81a1-fbc3e61255fa",
   "metadata": {},
   "outputs": [
    {
     "data": {
      "text/plain": [
       "array([1.e+00, 1.e+05, 1.e+10, 1.e+15, 1.e+20])"
      ]
     },
     "execution_count": 75,
     "metadata": {},
     "output_type": "execute_result"
    }
   ],
   "source": [
    "ar = np.logspace(0,20,5)\n",
    "ar"
   ]
  },
  {
   "cell_type": "markdown",
   "id": "bb79da97-ea6f-4e4e-8047-ea9ba44880ba",
   "metadata": {},
   "source": [
    "# Day2"
   ]
  },
  {
   "cell_type": "code",
   "execution_count": 77,
   "id": "4881e03a-cf7b-435d-a411-48fd7459a6e8",
   "metadata": {},
   "outputs": [
    {
     "name": "stdout",
     "output_type": "stream",
     "text": [
      "[0.19300245 0.10458934 0.30510553 0.37523441 0.60791756] <class 'numpy.ndarray'>\n"
     ]
    }
   ],
   "source": [
    "# Random Function\n",
    "\n",
    "import numpy as np\n",
    "ar = np.random.rand(5)\n",
    "print(ar,type(ar))"
   ]
  },
  {
   "cell_type": "code",
   "execution_count": 78,
   "id": "b11953c6-3b63-4cc4-b184-b723de57b5a9",
   "metadata": {},
   "outputs": [
    {
     "name": "stdout",
     "output_type": "stream",
     "text": [
      "[[0.8120104  0.00795593 0.77735862]\n",
      " [0.31374976 0.85760648 0.52272294]\n",
      " [0.55666032 0.64172511 0.46952468]\n",
      " [0.00448233 0.32379146 0.95881929]\n",
      " [0.30766899 0.04195314 0.21049966]] <class 'numpy.ndarray'>\n"
     ]
    }
   ],
   "source": [
    "import numpy as np\n",
    "ar = np.random.rand(5,3)\n",
    "print(ar,type(ar))"
   ]
  },
  {
   "cell_type": "code",
   "execution_count": 79,
   "id": "50084889-ac97-46e2-adcf-42461b5256ae",
   "metadata": {},
   "outputs": [
    {
     "name": "stdout",
     "output_type": "stream",
     "text": [
      "[-0.30210258  2.15625366  1.83081566 -1.17116074  0.96157608] <class 'numpy.ndarray'>\n"
     ]
    }
   ],
   "source": [
    "import numpy as np\n",
    "ar = np.random.randn(5)\n",
    "print(ar,type(ar))"
   ]
  },
  {
   "cell_type": "code",
   "execution_count": 80,
   "id": "4c13bec0-8089-4310-b2c3-787112954931",
   "metadata": {},
   "outputs": [
    {
     "name": "stdout",
     "output_type": "stream",
     "text": [
      "[[-0.57796713  0.55328418 -0.24173407]\n",
      " [ 1.77706674  1.67291122  0.29890478]] <class 'numpy.ndarray'>\n"
     ]
    }
   ],
   "source": [
    "import numpy as np\n",
    "ar = np.random.randn(2,3)\n",
    "print(ar,type(ar))"
   ]
  },
  {
   "cell_type": "code",
   "execution_count": 81,
   "id": "5ed467ce-d5fb-4f7f-a10f-149737be89cd",
   "metadata": {},
   "outputs": [
    {
     "name": "stdout",
     "output_type": "stream",
     "text": [
      "[0.53820589 0.34648974 0.4849032  0.53460549 0.67901453] <class 'numpy.ndarray'>\n"
     ]
    }
   ],
   "source": [
    "import numpy as np\n",
    "ar = np.random.ranf(5)\n",
    "print(ar,type(ar))"
   ]
  },
  {
   "cell_type": "code",
   "execution_count": 82,
   "id": "24867507-a82f-4f30-ab1e-95d1342d8765",
   "metadata": {},
   "outputs": [
    {
     "ename": "TypeError",
     "evalue": "random_sample() takes at most 1 positional argument (2 given)",
     "output_type": "error",
     "traceback": [
      "\u001b[1;31m---------------------------------------------------------------------------\u001b[0m",
      "\u001b[1;31mTypeError\u001b[0m                                 Traceback (most recent call last)",
      "Cell \u001b[1;32mIn[82], line 2\u001b[0m\n\u001b[0;32m      1\u001b[0m \u001b[38;5;28;01mimport\u001b[39;00m \u001b[38;5;21;01mnumpy\u001b[39;00m \u001b[38;5;28;01mas\u001b[39;00m \u001b[38;5;21;01mnp\u001b[39;00m\n\u001b[1;32m----> 2\u001b[0m ar \u001b[38;5;241m=\u001b[39m np\u001b[38;5;241m.\u001b[39mrandom\u001b[38;5;241m.\u001b[39mranf(\u001b[38;5;241m5\u001b[39m,\u001b[38;5;241m3\u001b[39m)\n\u001b[0;32m      3\u001b[0m \u001b[38;5;28mprint\u001b[39m(ar,\u001b[38;5;28mtype\u001b[39m(ar))\n",
      "File \u001b[1;32mnumpy\\\\random\\\\mtrand.pyx:4879\u001b[0m, in \u001b[0;36mnumpy.random.mtrand.ranf\u001b[1;34m()\u001b[0m\n",
      "File \u001b[1;32mnumpy\\\\random\\\\mtrand.pyx:385\u001b[0m, in \u001b[0;36mnumpy.random.mtrand.RandomState.random_sample\u001b[1;34m()\u001b[0m\n",
      "\u001b[1;31mTypeError\u001b[0m: random_sample() takes at most 1 positional argument (2 given)"
     ]
    }
   ],
   "source": [
    "import numpy as np\n",
    "ar = np.random.ranf(5,3)\n",
    "print(ar,type(ar))"
   ]
  },
  {
   "cell_type": "code",
   "execution_count": 83,
   "id": "d1e26ab0-e92d-4f50-9bf0-2cd5e044763b",
   "metadata": {},
   "outputs": [
    {
     "name": "stdout",
     "output_type": "stream",
     "text": [
      "[[0.75927292 0.00627995 0.73154866]\n",
      " [0.63671325 0.33148927 0.37872314]\n",
      " [0.61932214 0.56428583 0.9452651 ]\n",
      " [0.06454308 0.6633048  0.33383166]\n",
      " [0.17731765 0.32255668 0.46046928]] <class 'numpy.ndarray'>\n"
     ]
    }
   ],
   "source": [
    "import numpy as np\n",
    "ar = np.random.ranf((5,3))\n",
    "print(ar,type(ar))"
   ]
  },
  {
   "cell_type": "code",
   "execution_count": 84,
   "id": "a64660c2-cb52-4c2b-b208-d1c38bd3484d",
   "metadata": {},
   "outputs": [
    {
     "name": "stdout",
     "output_type": "stream",
     "text": [
      "4 <class 'int'>\n"
     ]
    }
   ],
   "source": [
    "import numpy as np\n",
    "ar = np.random.randint(5)\n",
    "print(ar,type(ar))"
   ]
  },
  {
   "cell_type": "code",
   "execution_count": 87,
   "id": "de0c559e-8146-4c4a-a882-e2f41213c16b",
   "metadata": {},
   "outputs": [
    {
     "name": "stdout",
     "output_type": "stream",
     "text": [
      "8 <class 'int'>\n"
     ]
    }
   ],
   "source": [
    "import numpy as np\n",
    "ar = np.random.randint(1,10)\n",
    "print(ar,type(ar))"
   ]
  },
  {
   "cell_type": "code",
   "execution_count": 86,
   "id": "f9af2a20-5d56-46da-8347-ece0417e985b",
   "metadata": {},
   "outputs": [
    {
     "name": "stdout",
     "output_type": "stream",
     "text": [
      "[3 6 4] <class 'numpy.ndarray'>\n"
     ]
    }
   ],
   "source": [
    "import numpy as np\n",
    "ar = np.random.randint(1,10,3)\n",
    "print(ar,type(ar))"
   ]
  },
  {
   "cell_type": "code",
   "execution_count": 88,
   "id": "f97dfbe8-7f30-44e4-8385-30f875dddf35",
   "metadata": {},
   "outputs": [
    {
     "name": "stdout",
     "output_type": "stream",
     "text": [
      "[78 89 45 66 12 36 14 55]\n"
     ]
    }
   ],
   "source": [
    "l = [78,89,45,66,12,36,14,55]\n",
    "import numpy as np\n",
    "ar = np.array(l)\n",
    "print(ar)"
   ]
  },
  {
   "cell_type": "code",
   "execution_count": 89,
   "id": "906de2c8-415e-499e-b1d5-d33dad04b546",
   "metadata": {},
   "outputs": [
    {
     "data": {
      "text/plain": [
       "array([78, 66, 14])"
      ]
     },
     "execution_count": 89,
     "metadata": {},
     "output_type": "execute_result"
    }
   ],
   "source": [
    "ar[0:7:3]"
   ]
  },
  {
   "cell_type": "code",
   "execution_count": 92,
   "id": "1996550c-5ec1-4293-a332-c00927b97357",
   "metadata": {},
   "outputs": [
    {
     "name": "stdout",
     "output_type": "stream",
     "text": [
      "[[ 4  5  6]\n",
      " [ 7  8  9]\n",
      " [11 21 33]] <class 'numpy.ndarray'>\n"
     ]
    }
   ],
   "source": [
    "import numpy as np\n",
    "ar = np.array([[4,5,6],[7,8,9],[11,21,33]])\n",
    "print(ar,type(ar))"
   ]
  },
  {
   "cell_type": "code",
   "execution_count": 96,
   "id": "dc9b6aa8-3088-451b-b37b-9a455a30c7a8",
   "metadata": {},
   "outputs": [
    {
     "data": {
      "text/plain": [
       "array([4, 5, 6])"
      ]
     },
     "execution_count": 96,
     "metadata": {},
     "output_type": "execute_result"
    }
   ],
   "source": [
    "ar[0]"
   ]
  },
  {
   "cell_type": "code",
   "execution_count": 97,
   "id": "16bfed20-01bb-4b14-88c3-1a2a44bc6926",
   "metadata": {},
   "outputs": [
    {
     "data": {
      "text/plain": [
       "array([7, 8, 9])"
      ]
     },
     "execution_count": 97,
     "metadata": {},
     "output_type": "execute_result"
    }
   ],
   "source": [
    "ar[1]"
   ]
  },
  {
   "cell_type": "code",
   "execution_count": 98,
   "id": "71574366-b601-481e-806f-e434ee2444c5",
   "metadata": {},
   "outputs": [
    {
     "data": {
      "text/plain": [
       "array([11, 21, 33])"
      ]
     },
     "execution_count": 98,
     "metadata": {},
     "output_type": "execute_result"
    }
   ],
   "source": [
    "ar[2]"
   ]
  },
  {
   "cell_type": "code",
   "execution_count": 99,
   "id": "7b82d248-7a4d-42cb-aae0-ad0d004a21bc",
   "metadata": {},
   "outputs": [
    {
     "data": {
      "text/plain": [
       "array([[ 4,  5,  6],\n",
       "       [ 7,  8,  9],\n",
       "       [11, 21, 33]])"
      ]
     },
     "execution_count": 99,
     "metadata": {},
     "output_type": "execute_result"
    }
   ],
   "source": [
    "ar"
   ]
  },
  {
   "cell_type": "code",
   "execution_count": 100,
   "id": "9654ecd4-d4fa-4891-83f2-6458a6305b62",
   "metadata": {},
   "outputs": [
    {
     "data": {
      "text/plain": [
       "array([[5, 6],\n",
       "       [8, 9]])"
      ]
     },
     "execution_count": 100,
     "metadata": {},
     "output_type": "execute_result"
    }
   ],
   "source": [
    "ar[0:2,1:3]"
   ]
  },
  {
   "cell_type": "code",
   "execution_count": 101,
   "id": "1e3c116a-a9a9-4c12-b74a-655b2e5e71f0",
   "metadata": {},
   "outputs": [
    {
     "data": {
      "text/plain": [
       "array([[4, 5, 6],\n",
       "       [7, 8, 9]])"
      ]
     },
     "execution_count": 101,
     "metadata": {},
     "output_type": "execute_result"
    }
   ],
   "source": [
    "ar[0:2]"
   ]
  },
  {
   "cell_type": "code",
   "execution_count": 102,
   "id": "efc9cdf2-15ed-4b87-a389-89c8adf7eda9",
   "metadata": {},
   "outputs": [
    {
     "data": {
      "text/plain": [
       "array([[ 7,  8,  9],\n",
       "       [11, 21, 33]])"
      ]
     },
     "execution_count": 102,
     "metadata": {},
     "output_type": "execute_result"
    }
   ],
   "source": [
    "ar[1:3]"
   ]
  },
  {
   "cell_type": "code",
   "execution_count": 103,
   "id": "739f01fe-5e43-4229-b0ec-0d9c120dc76b",
   "metadata": {},
   "outputs": [
    {
     "data": {
      "text/plain": [
       "array([[ 7,  8,  9],\n",
       "       [11, 21, 33]])"
      ]
     },
     "execution_count": 103,
     "metadata": {},
     "output_type": "execute_result"
    }
   ],
   "source": [
    "ar[1:3,::]"
   ]
  },
  {
   "cell_type": "code",
   "execution_count": 104,
   "id": "188b9a7b-40d7-4e8b-8118-47c3a9cbf78c",
   "metadata": {},
   "outputs": [
    {
     "data": {
      "text/plain": [
       "array([[ 7,  8,  9],\n",
       "       [11, 21, 33]])"
      ]
     },
     "execution_count": 104,
     "metadata": {},
     "output_type": "execute_result"
    }
   ],
   "source": [
    "ar[1:3,:]"
   ]
  },
  {
   "cell_type": "code",
   "execution_count": 105,
   "id": "ec343ce1-9c15-44f2-8484-f72b241e7e54",
   "metadata": {},
   "outputs": [
    {
     "data": {
      "text/plain": [
       "array([[ 7,  8,  9],\n",
       "       [11, 21, 33]])"
      ]
     },
     "execution_count": 105,
     "metadata": {},
     "output_type": "execute_result"
    }
   ],
   "source": [
    "ar[1:3,0:3]"
   ]
  },
  {
   "cell_type": "code",
   "execution_count": 106,
   "id": "3ee9d3e9-adc7-447a-a95a-9de0789a4a51",
   "metadata": {},
   "outputs": [
    {
     "data": {
      "text/plain": [
       "array([[ 9,  8],\n",
       "       [33, 21]])"
      ]
     },
     "execution_count": 106,
     "metadata": {},
     "output_type": "execute_result"
    }
   ],
   "source": [
    "ar[1:3,-1:-3:-1]"
   ]
  },
  {
   "cell_type": "code",
   "execution_count": 107,
   "id": "3eb3a751-deee-4de7-af75-545b6466e38c",
   "metadata": {},
   "outputs": [
    {
     "data": {
      "text/plain": [
       "array([], shape=(2, 0), dtype=int32)"
      ]
     },
     "execution_count": 107,
     "metadata": {},
     "output_type": "execute_result"
    }
   ],
   "source": [
    "ar[1:3,-1:-3]"
   ]
  },
  {
   "cell_type": "code",
   "execution_count": 108,
   "id": "710b4087-950c-4475-872d-53ede08bd36f",
   "metadata": {},
   "outputs": [
    {
     "data": {
      "text/plain": [
       "array([], shape=(2, 0), dtype=int32)"
      ]
     },
     "execution_count": 108,
     "metadata": {},
     "output_type": "execute_result"
    }
   ],
   "source": [
    "ar[1:3,-1:-3:1]"
   ]
  },
  {
   "cell_type": "code",
   "execution_count": 109,
   "id": "550f44dd-a145-4a08-ac97-e62a8f90f93a",
   "metadata": {},
   "outputs": [
    {
     "data": {
      "text/plain": [
       "array([[ 4,  5,  6],\n",
       "       [ 7,  8,  9],\n",
       "       [11, 21, 33]])"
      ]
     },
     "execution_count": 109,
     "metadata": {},
     "output_type": "execute_result"
    }
   ],
   "source": [
    "ar"
   ]
  },
  {
   "cell_type": "code",
   "execution_count": 110,
   "id": "94a312ff-002a-4b34-be53-5b6bfeb5bcea",
   "metadata": {},
   "outputs": [
    {
     "data": {
      "text/plain": [
       "array([4, 8, 6])"
      ]
     },
     "execution_count": 110,
     "metadata": {},
     "output_type": "execute_result"
    }
   ],
   "source": [
    "ar[[0,1,0],[0,1,2]]"
   ]
  },
  {
   "cell_type": "code",
   "execution_count": 111,
   "id": "9dafbb54-7dd4-4a07-b4d5-7e71d1c1d4ab",
   "metadata": {},
   "outputs": [
    {
     "data": {
      "text/plain": [
       "array([ 4, 33,  6])"
      ]
     },
     "execution_count": 111,
     "metadata": {},
     "output_type": "execute_result"
    }
   ],
   "source": [
    "ar[[0,2,0],[0,2,2]]"
   ]
  },
  {
   "cell_type": "code",
   "execution_count": 112,
   "id": "9d9fa1b9-e8b5-4784-a767-c750adb006e5",
   "metadata": {},
   "outputs": [
    {
     "data": {
      "text/plain": [
       "array([ 5, 33])"
      ]
     },
     "execution_count": 112,
     "metadata": {},
     "output_type": "execute_result"
    }
   ],
   "source": [
    "ar[[0,2],[1,2]]"
   ]
  },
  {
   "cell_type": "code",
   "execution_count": 113,
   "id": "f5fd7026-f28c-4d9b-8dd3-0f72aca439fb",
   "metadata": {},
   "outputs": [
    {
     "data": {
      "text/plain": [
       "array([21,  6])"
      ]
     },
     "execution_count": 113,
     "metadata": {},
     "output_type": "execute_result"
    }
   ],
   "source": [
    "ar[[2,0],[1,2]]"
   ]
  },
  {
   "cell_type": "code",
   "execution_count": 114,
   "id": "5027c477-6e08-4592-9cf6-6bba88065c6b",
   "metadata": {},
   "outputs": [
    {
     "data": {
      "text/plain": [
       "array([ 4, 11, 21,  6])"
      ]
     },
     "execution_count": 114,
     "metadata": {},
     "output_type": "execute_result"
    }
   ],
   "source": [
    "ar[[0,2,2,0],[0,0,1,2]]"
   ]
  },
  {
   "cell_type": "code",
   "execution_count": 115,
   "id": "5d343fe8-f6ec-4295-b286-93b0979ab8fe",
   "metadata": {},
   "outputs": [
    {
     "data": {
      "text/plain": [
       "array([[ 4,  5,  6],\n",
       "       [ 7,  8,  9],\n",
       "       [11, 21, 33]])"
      ]
     },
     "execution_count": 115,
     "metadata": {},
     "output_type": "execute_result"
    }
   ],
   "source": [
    "ar"
   ]
  },
  {
   "cell_type": "code",
   "execution_count": 118,
   "id": "809be059-1c02-4615-a5bc-13171e7c767a",
   "metadata": {},
   "outputs": [
    {
     "data": {
      "text/plain": [
       "6"
      ]
     },
     "execution_count": 118,
     "metadata": {},
     "output_type": "execute_result"
    }
   ],
   "source": [
    "ar[0,2]"
   ]
  },
  {
   "cell_type": "code",
   "execution_count": 119,
   "id": "6fcd9f48-e713-4d49-9aa7-ef982dd6ffc4",
   "metadata": {},
   "outputs": [
    {
     "data": {
      "text/plain": [
       "11"
      ]
     },
     "execution_count": 119,
     "metadata": {},
     "output_type": "execute_result"
    }
   ],
   "source": [
    "ar[2,0]"
   ]
  },
  {
   "cell_type": "code",
   "execution_count": 120,
   "id": "136ada4e-1237-487a-9afa-301bc1be96da",
   "metadata": {},
   "outputs": [
    {
     "data": {
      "text/plain": [
       "4"
      ]
     },
     "execution_count": 120,
     "metadata": {},
     "output_type": "execute_result"
    }
   ],
   "source": [
    "ar[0,0]"
   ]
  },
  {
   "cell_type": "code",
   "execution_count": 121,
   "id": "b107d755-1def-4a29-9a3a-6b7c1d17bb09",
   "metadata": {},
   "outputs": [
    {
     "data": {
      "text/plain": [
       "9"
      ]
     },
     "execution_count": 121,
     "metadata": {},
     "output_type": "execute_result"
    }
   ],
   "source": [
    "ar[1,2]"
   ]
  },
  {
   "cell_type": "code",
   "execution_count": 122,
   "id": "d1e6bb0d-d151-46a5-9ca3-082fb66458ab",
   "metadata": {},
   "outputs": [
    {
     "data": {
      "text/plain": [
       "array([ 4, 11, 21,  6])"
      ]
     },
     "execution_count": 122,
     "metadata": {},
     "output_type": "execute_result"
    }
   ],
   "source": [
    "ar[[0,2,2,0],[0,0,1,2]]"
   ]
  },
  {
   "cell_type": "code",
   "execution_count": 123,
   "id": "feb77f2f-7b58-44ed-95d6-09dd6c537d19",
   "metadata": {},
   "outputs": [
    {
     "data": {
      "text/plain": [
       "array([ 4,  7, 21,  6])"
      ]
     },
     "execution_count": 123,
     "metadata": {},
     "output_type": "execute_result"
    }
   ],
   "source": [
    "ar[[0,1,2,0],[0,0,1,2]]"
   ]
  },
  {
   "cell_type": "code",
   "execution_count": 124,
   "id": "60c0afff-7cd0-4c48-bebf-9f87f7c3e955",
   "metadata": {},
   "outputs": [
    {
     "data": {
      "text/plain": [
       "array([ 5,  7, 21,  9])"
      ]
     },
     "execution_count": 124,
     "metadata": {},
     "output_type": "execute_result"
    }
   ],
   "source": [
    "ar[[0,1,2,1],[1,0,1,2]]"
   ]
  },
  {
   "cell_type": "markdown",
   "id": "e4f71848-8f43-4ace-ad74-46aea389220e",
   "metadata": {},
   "source": [
    "# Day 3"
   ]
  },
  {
   "cell_type": "code",
   "execution_count": 1,
   "id": "5c9ae523-fdad-4b99-a553-adbf5d464efa",
   "metadata": {},
   "outputs": [
    {
     "name": "stdout",
     "output_type": "stream",
     "text": [
      "[  4   5   6  78  88 100   3  12  11] <class 'numpy.ndarray'>\n"
     ]
    }
   ],
   "source": [
    "import numpy as np\n",
    "ar = np.array([4,5,6,78,88,100,3,12,11])\n",
    "print(ar,type(ar))"
   ]
  },
  {
   "cell_type": "code",
   "execution_count": 2,
   "id": "067d64e1-737a-4d65-8c53-85b1c722d7cb",
   "metadata": {},
   "outputs": [
    {
     "data": {
      "text/plain": [
       "np.int64(100)"
      ]
     },
     "execution_count": 2,
     "metadata": {},
     "output_type": "execute_result"
    }
   ],
   "source": [
    "np.max(ar)"
   ]
  },
  {
   "cell_type": "code",
   "execution_count": 3,
   "id": "dafbb451-c974-447a-bd94-c518fec7172d",
   "metadata": {},
   "outputs": [
    {
     "data": {
      "text/plain": [
       "np.int64(3)"
      ]
     },
     "execution_count": 3,
     "metadata": {},
     "output_type": "execute_result"
    }
   ],
   "source": [
    "np.min(ar)"
   ]
  },
  {
   "cell_type": "code",
   "execution_count": 4,
   "id": "22f8b80e-d25d-4341-b8d4-e7283907a7ca",
   "metadata": {},
   "outputs": [
    {
     "data": {
      "text/plain": [
       "np.int64(307)"
      ]
     },
     "execution_count": 4,
     "metadata": {},
     "output_type": "execute_result"
    }
   ],
   "source": [
    "np.sum(ar)"
   ]
  },
  {
   "cell_type": "code",
   "execution_count": 5,
   "id": "39b258ef-8b85-4ad1-ba03-efb062c48f7c",
   "metadata": {},
   "outputs": [
    {
     "data": {
      "text/plain": [
       "np.int64(100)"
      ]
     },
     "execution_count": 5,
     "metadata": {},
     "output_type": "execute_result"
    }
   ],
   "source": [
    "max(ar)"
   ]
  },
  {
   "cell_type": "code",
   "execution_count": 6,
   "id": "642d0685-141d-4566-885a-22b4e574a0ea",
   "metadata": {},
   "outputs": [
    {
     "data": {
      "text/plain": [
       "np.int64(3)"
      ]
     },
     "execution_count": 6,
     "metadata": {},
     "output_type": "execute_result"
    }
   ],
   "source": [
    "min(ar)"
   ]
  },
  {
   "cell_type": "code",
   "execution_count": 7,
   "id": "0f0d0483-6f6f-4c12-920e-8ca414eb54fb",
   "metadata": {},
   "outputs": [
    {
     "data": {
      "text/plain": [
       "np.int64(307)"
      ]
     },
     "execution_count": 7,
     "metadata": {},
     "output_type": "execute_result"
    }
   ],
   "source": [
    "sum(ar)"
   ]
  },
  {
   "cell_type": "code",
   "execution_count": 8,
   "id": "6fc011b6-4a6c-406f-b948-2bc8ee91117a",
   "metadata": {},
   "outputs": [
    {
     "name": "stdout",
     "output_type": "stream",
     "text": [
      "[[45 22 66]\n",
      " [77 88 99]]\n"
     ]
    }
   ],
   "source": [
    "ar1 = np.array([[45,22,66],[77,88,99]])\n",
    "print(ar1)"
   ]
  },
  {
   "cell_type": "code",
   "execution_count": 9,
   "id": "e7f26261-18e6-4069-a318-f29a99576c85",
   "metadata": {},
   "outputs": [
    {
     "data": {
      "text/plain": [
       "array([77, 88, 99])"
      ]
     },
     "execution_count": 9,
     "metadata": {},
     "output_type": "execute_result"
    }
   ],
   "source": [
    "ar1.max(axis=0)"
   ]
  },
  {
   "cell_type": "code",
   "execution_count": 10,
   "id": "343f8ff6-68ea-4f87-a783-02bf05e5260d",
   "metadata": {},
   "outputs": [
    {
     "data": {
      "text/plain": [
       "array([66, 99])"
      ]
     },
     "execution_count": 10,
     "metadata": {},
     "output_type": "execute_result"
    }
   ],
   "source": [
    "ar1.max(axis=1)"
   ]
  },
  {
   "cell_type": "code",
   "execution_count": 11,
   "id": "82a8fff7-b148-452e-a358-c108f44bc040",
   "metadata": {},
   "outputs": [
    {
     "data": {
      "text/plain": [
       "np.int64(99)"
      ]
     },
     "execution_count": 11,
     "metadata": {},
     "output_type": "execute_result"
    }
   ],
   "source": [
    "np.max(ar1)"
   ]
  },
  {
   "cell_type": "code",
   "execution_count": 13,
   "id": "b0dc9073-85e3-4c98-a9b4-22c9cf1d8ec0",
   "metadata": {},
   "outputs": [
    {
     "data": {
      "text/plain": [
       "array([45, 22, 66])"
      ]
     },
     "execution_count": 13,
     "metadata": {},
     "output_type": "execute_result"
    }
   ],
   "source": [
    "ar1.min(axis=0)"
   ]
  },
  {
   "cell_type": "code",
   "execution_count": 15,
   "id": "77609db3-eee2-4801-8acc-5b4352f9ad1a",
   "metadata": {},
   "outputs": [
    {
     "data": {
      "text/plain": [
       "array([122, 110, 165])"
      ]
     },
     "execution_count": 15,
     "metadata": {},
     "output_type": "execute_result"
    }
   ],
   "source": [
    "ar1.sum(axis=0)"
   ]
  },
  {
   "cell_type": "code",
   "execution_count": 16,
   "id": "f3a3bd99-7e12-4016-882f-1d7c637a53ac",
   "metadata": {},
   "outputs": [
    {
     "data": {
      "text/plain": [
       "array([133, 264])"
      ]
     },
     "execution_count": 16,
     "metadata": {},
     "output_type": "execute_result"
    }
   ],
   "source": [
    "ar1.sum(axis=1)"
   ]
  },
  {
   "cell_type": "code",
   "execution_count": 17,
   "id": "321e8df5-cd9e-45cc-a8db-dadf4af3423c",
   "metadata": {},
   "outputs": [
    {
     "data": {
      "text/plain": [
       "np.float64(26.04749934681297)"
      ]
     },
     "execution_count": 17,
     "metadata": {},
     "output_type": "execute_result"
    }
   ],
   "source": [
    "np.std(ar1)"
   ]
  },
  {
   "cell_type": "code",
   "execution_count": 18,
   "id": "37664bf1-4a68-4fcd-a34a-6fc2c36c58d7",
   "metadata": {},
   "outputs": [
    {
     "data": {
      "text/plain": [
       "array([[6.70820393, 4.69041576, 8.1240384 ],\n",
       "       [8.77496439, 9.38083152, 9.94987437]])"
      ]
     },
     "execution_count": 18,
     "metadata": {},
     "output_type": "execute_result"
    }
   ],
   "source": [
    "np.sqrt(ar1)"
   ]
  },
  {
   "cell_type": "code",
   "execution_count": 19,
   "id": "48b6c8c7-b150-41fb-a128-0d4f1196129e",
   "metadata": {},
   "outputs": [
    {
     "name": "stdout",
     "output_type": "stream",
     "text": [
      "[[45 55 66]\n",
      " [77 88 99]]\n"
     ]
    }
   ],
   "source": [
    "p=np.array([[45,55,66],[77,88,99]])\n",
    "print(p)"
   ]
  },
  {
   "cell_type": "code",
   "execution_count": 20,
   "id": "19a05c46-13a1-4c92-9c55-1156b28872cf",
   "metadata": {},
   "outputs": [
    {
     "name": "stdout",
     "output_type": "stream",
     "text": [
      "[[12 23 31]\n",
      " [14 25 36]]\n"
     ]
    }
   ],
   "source": [
    "q=np.array([[12,23,31],[14,25,36]])\n",
    "print(q)"
   ]
  },
  {
   "cell_type": "code",
   "execution_count": 21,
   "id": "29253560-f962-410c-899f-9885bc373331",
   "metadata": {},
   "outputs": [
    {
     "data": {
      "text/plain": [
       "array([[45, 55, 66],\n",
       "       [77, 88, 99]])"
      ]
     },
     "execution_count": 21,
     "metadata": {},
     "output_type": "execute_result"
    }
   ],
   "source": [
    "p"
   ]
  },
  {
   "cell_type": "code",
   "execution_count": 22,
   "id": "e91b2288-478c-411f-a829-5fd1eb553c90",
   "metadata": {},
   "outputs": [
    {
     "data": {
      "text/plain": [
       "array([[12, 23, 31],\n",
       "       [14, 25, 36]])"
      ]
     },
     "execution_count": 22,
     "metadata": {},
     "output_type": "execute_result"
    }
   ],
   "source": [
    "q"
   ]
  },
  {
   "cell_type": "code",
   "execution_count": 24,
   "id": "737c44a6-a4f9-49c8-a8d1-e1f40f3406de",
   "metadata": {},
   "outputs": [
    {
     "data": {
      "text/plain": [
       "array([[45, 55, 66, 12, 23, 31],\n",
       "       [77, 88, 99, 14, 25, 36]])"
      ]
     },
     "execution_count": 24,
     "metadata": {},
     "output_type": "execute_result"
    }
   ],
   "source": [
    "np.hstack((p,q))"
   ]
  },
  {
   "cell_type": "code",
   "execution_count": 25,
   "id": "d52053b8-4abf-4495-8bd6-fbbe042ad390",
   "metadata": {},
   "outputs": [
    {
     "name": "stdout",
     "output_type": "stream",
     "text": [
      "[[45 55 66 12 23 31]\n",
      " [77 88 99 14 25 36]]\n"
     ]
    }
   ],
   "source": [
    "h=np.hstack((p,q))\n",
    "print(h)"
   ]
  },
  {
   "cell_type": "code",
   "execution_count": 26,
   "id": "be5728f0-1f97-4edc-9400-847e49675eaf",
   "metadata": {},
   "outputs": [
    {
     "data": {
      "text/plain": [
       "array([[45, 55, 66],\n",
       "       [77, 88, 99],\n",
       "       [12, 23, 31],\n",
       "       [14, 25, 36]])"
      ]
     },
     "execution_count": 26,
     "metadata": {},
     "output_type": "execute_result"
    }
   ],
   "source": [
    "np.vstack((p,q))"
   ]
  },
  {
   "cell_type": "code",
   "execution_count": 27,
   "id": "b2402a27-113b-4c77-8f2a-97f745216e1f",
   "metadata": {},
   "outputs": [
    {
     "name": "stdout",
     "output_type": "stream",
     "text": [
      "[[45 55 66]\n",
      " [77 88 99]\n",
      " [12 23 31]\n",
      " [14 25 36]]\n"
     ]
    }
   ],
   "source": [
    "v=np.vstack((p,q))\n",
    "print(v)"
   ]
  },
  {
   "cell_type": "code",
   "execution_count": 28,
   "id": "fdfba49e-c99d-4e73-889d-7b218f8afcb7",
   "metadata": {},
   "outputs": [
    {
     "name": "stdout",
     "output_type": "stream",
     "text": [
      "[ 4  5  6  7  8  9 10]\n"
     ]
    }
   ],
   "source": [
    "import numpy as np\n",
    "l=[4,5,6,7,8,9,10]\n",
    "a=np.asarray(l)\n",
    "print(a)"
   ]
  },
  {
   "cell_type": "code",
   "execution_count": 29,
   "id": "6671cfde-84d6-4a20-9019-8b0c51ae5615",
   "metadata": {},
   "outputs": [
    {
     "data": {
      "text/plain": [
       "numpy.ndarray"
      ]
     },
     "execution_count": 29,
     "metadata": {},
     "output_type": "execute_result"
    }
   ],
   "source": [
    "type(a)"
   ]
  },
  {
   "cell_type": "code",
   "execution_count": 30,
   "id": "e2ff7401-b961-4779-8031-f2798f4acbab",
   "metadata": {},
   "outputs": [
    {
     "name": "stdout",
     "output_type": "stream",
     "text": [
      "[45 55 66 78 88 19]\n"
     ]
    }
   ],
   "source": [
    "import numpy as np\n",
    "l=[45,55,66,78,88,19]\n",
    "a=iter(l)\n",
    "y=np.fromiter(a,dtype=int)\n",
    "print(y)"
   ]
  },
  {
   "cell_type": "code",
   "execution_count": 31,
   "id": "e4c648df-2541-43a6-9178-e9b3a5ce2cd6",
   "metadata": {},
   "outputs": [
    {
     "data": {
      "text/plain": [
       "numpy.ndarray"
      ]
     },
     "execution_count": 31,
     "metadata": {},
     "output_type": "execute_result"
    }
   ],
   "source": [
    "type(y)"
   ]
  },
  {
   "cell_type": "code",
   "execution_count": 32,
   "id": "af1fb868-e3d7-41d5-89dd-eb56369cf2df",
   "metadata": {},
   "outputs": [
    {
     "data": {
      "text/plain": [
       "dtype('int64')"
      ]
     },
     "execution_count": 32,
     "metadata": {},
     "output_type": "execute_result"
    }
   ],
   "source": [
    "y.dtype"
   ]
  },
  {
   "cell_type": "code",
   "execution_count": 34,
   "id": "49ffc0f9-8fdd-496f-9a35-aa35463b282d",
   "metadata": {},
   "outputs": [
    {
     "name": "stdout",
     "output_type": "stream",
     "text": [
      "[45 55 66 78 88 19]\n"
     ]
    }
   ],
   "source": [
    "import numpy as np\n",
    "l=[45,55,66,78,88,19]\n",
    "a=(l)\n",
    "y=np.array(a,dtype=\"O\")\n",
    "print(y)"
   ]
  },
  {
   "cell_type": "code",
   "execution_count": 35,
   "id": "6a6ee8e5-4ff6-4025-9038-f9d6487f87e8",
   "metadata": {},
   "outputs": [
    {
     "data": {
      "text/plain": [
       "dtype('O')"
      ]
     },
     "execution_count": 35,
     "metadata": {},
     "output_type": "execute_result"
    }
   ],
   "source": [
    "y.dtype"
   ]
  },
  {
   "cell_type": "code",
   "execution_count": 36,
   "id": "ec9deb03-189e-40f4-97f2-923fb30c32d2",
   "metadata": {},
   "outputs": [
    {
     "name": "stdout",
     "output_type": "stream",
     "text": [
      "[b'4' b'5' b'6' b'7' b'8' b'9']\n"
     ]
    }
   ],
   "source": [
    "import numpy as np\n",
    "l=[45,55,66,78,88,99]\n",
    "y=np.array(l,dtype=\"S1\")\n",
    "print(y)"
   ]
  },
  {
   "cell_type": "code",
   "execution_count": 37,
   "id": "e6f6fdd1-3c50-4f1a-a190-01da26e11079",
   "metadata": {},
   "outputs": [
    {
     "name": "stdout",
     "output_type": "stream",
     "text": [
      "[b'4' b'5' b'6' b'7' b'8' b'9']\n"
     ]
    }
   ],
   "source": [
    "import numpy as np\n",
    "l=[45,55,66,78,88,99]\n",
    "y=np.frombuffer(y,dtype=\"S1\")\n",
    "print(y)"
   ]
  },
  {
   "cell_type": "code",
   "execution_count": 39,
   "id": "56f42219-b13f-461e-9215-02b5c7b474a7",
   "metadata": {},
   "outputs": [
    {
     "data": {
      "text/plain": [
       "matrix([[45, 55, 66, 78, 88, 99]])"
      ]
     },
     "execution_count": 39,
     "metadata": {},
     "output_type": "execute_result"
    }
   ],
   "source": [
    "import numpy as np\n",
    "l=[45,55,66,78,88,99]\n",
    "mat=np.matrix(l)\n",
    "mat"
   ]
  },
  {
   "cell_type": "code",
   "execution_count": 40,
   "id": "8eba9613-eb38-4b9e-8da1-97e80885d7bb",
   "metadata": {},
   "outputs": [
    {
     "name": "stdout",
     "output_type": "stream",
     "text": [
      "[ 7  8  9 14 25 36]\n"
     ]
    }
   ],
   "source": [
    "import numpy as np\n",
    "ar=np.array([7,8,9,14,25,36])\n",
    "print(ar)"
   ]
  },
  {
   "cell_type": "code",
   "execution_count": 41,
   "id": "e14f48d3-97cf-42c6-884c-8c9176beb225",
   "metadata": {},
   "outputs": [
    {
     "data": {
      "text/plain": [
       "np.int64(9)"
      ]
     },
     "execution_count": 41,
     "metadata": {},
     "output_type": "execute_result"
    }
   ],
   "source": [
    "ar[2]"
   ]
  },
  {
   "cell_type": "code",
   "execution_count": 42,
   "id": "e5bb0bcb-e50c-4ec3-8b12-54e0e1e37726",
   "metadata": {},
   "outputs": [
    {
     "data": {
      "text/plain": [
       "np.int64(9)"
      ]
     },
     "execution_count": 42,
     "metadata": {},
     "output_type": "execute_result"
    }
   ],
   "source": [
    "ar[-4]"
   ]
  },
  {
   "cell_type": "code",
   "execution_count": 43,
   "id": "dbf8772d-0218-4533-8749-123206bc2227",
   "metadata": {},
   "outputs": [
    {
     "name": "stdout",
     "output_type": "stream",
     "text": [
      "[[ 4  5  6]\n",
      " [ 7  8  9]\n",
      " [10 11 12]]\n"
     ]
    }
   ],
   "source": [
    "ar=np.array([[4,5,6],[7,8,9],[10,11,12]])\n",
    "print(ar)"
   ]
  },
  {
   "cell_type": "code",
   "execution_count": 44,
   "id": "6348fda2-5cb8-4501-90b1-0045c7623194",
   "metadata": {},
   "outputs": [
    {
     "data": {
      "text/plain": [
       "array([7, 8, 9])"
      ]
     },
     "execution_count": 44,
     "metadata": {},
     "output_type": "execute_result"
    }
   ],
   "source": [
    "ar[1]"
   ]
  },
  {
   "cell_type": "code",
   "execution_count": 45,
   "id": "1139d5b1-bb4c-487c-b982-7bc53c8362af",
   "metadata": {},
   "outputs": [
    {
     "data": {
      "text/plain": [
       "np.int64(8)"
      ]
     },
     "execution_count": 45,
     "metadata": {},
     "output_type": "execute_result"
    }
   ],
   "source": [
    "ar[1][1]"
   ]
  },
  {
   "cell_type": "code",
   "execution_count": 46,
   "id": "42186b42-c9c4-4864-8e94-effa8124ad7e",
   "metadata": {},
   "outputs": [
    {
     "data": {
      "text/plain": [
       "np.int64(8)"
      ]
     },
     "execution_count": 46,
     "metadata": {},
     "output_type": "execute_result"
    }
   ],
   "source": [
    "ar[1,1]"
   ]
  },
  {
   "cell_type": "code",
   "execution_count": 47,
   "id": "38574f06-9532-49d5-9044-8c1c810d8589",
   "metadata": {},
   "outputs": [
    {
     "name": "stdout",
     "output_type": "stream",
     "text": [
      "[ 7  8  9 14 25 36]\n"
     ]
    }
   ],
   "source": [
    "import numpy as np\n",
    "ar=np.array([7,8,9,14,25,36])\n",
    "print(ar)"
   ]
  },
  {
   "cell_type": "code",
   "execution_count": 48,
   "id": "df2792b9-0a13-411c-a871-a9c857a5d814",
   "metadata": {},
   "outputs": [
    {
     "name": "stdout",
     "output_type": "stream",
     "text": [
      "7\n",
      "8\n",
      "9\n",
      "14\n",
      "25\n",
      "36\n"
     ]
    }
   ],
   "source": [
    "for k in ar:\n",
    "    print(k)"
   ]
  },
  {
   "cell_type": "code",
   "execution_count": 49,
   "id": "18f974ef-4cd5-433b-8bf8-efbc94404549",
   "metadata": {},
   "outputs": [
    {
     "name": "stdout",
     "output_type": "stream",
     "text": [
      "7 8 9 14 25 36 "
     ]
    }
   ],
   "source": [
    "for k in ar:\n",
    "    print(k,end=\" \")"
   ]
  },
  {
   "cell_type": "code",
   "execution_count": 50,
   "id": "d9788737-5eab-4fd5-877e-2dbe8bd20e49",
   "metadata": {},
   "outputs": [
    {
     "name": "stdout",
     "output_type": "stream",
     "text": [
      "[[ 4  5  6]\n",
      " [ 7  8  9]\n",
      " [10 11 12]]\n"
     ]
    }
   ],
   "source": [
    "ar=np.array([[4,5,6],[7,8,9],[10,11,12]])\n",
    "print(ar)"
   ]
  },
  {
   "cell_type": "code",
   "execution_count": 51,
   "id": "98e57046-75ef-4e44-a1a6-af5f26305c5c",
   "metadata": {},
   "outputs": [
    {
     "name": "stdout",
     "output_type": "stream",
     "text": [
      "[4 5 6]\n",
      "[7 8 9]\n",
      "[10 11 12]\n"
     ]
    }
   ],
   "source": [
    "for k in ar:\n",
    "    print(k)"
   ]
  },
  {
   "cell_type": "code",
   "execution_count": 52,
   "id": "df4837a4-1390-4026-9331-bdcb29ce1f0e",
   "metadata": {},
   "outputs": [
    {
     "name": "stdout",
     "output_type": "stream",
     "text": [
      "4 5 6 7 8 9 10 11 12 "
     ]
    }
   ],
   "source": [
    "for k in ar:\n",
    "    for a in k:\n",
    "        print(a,end=\" \")"
   ]
  },
  {
   "cell_type": "code",
   "execution_count": 53,
   "id": "ae052c53-b832-4d35-9dd1-d6d83ac0feff",
   "metadata": {},
   "outputs": [
    {
     "name": "stdout",
     "output_type": "stream",
     "text": [
      "[[[ 4  5  6]\n",
      "  [ 7  8  9]\n",
      "  [10 11 12]]]\n"
     ]
    }
   ],
   "source": [
    "ar=np.array([[[4,5,6],[7,8,9],[10,11,12]]])\n",
    "print(ar)"
   ]
  },
  {
   "cell_type": "code",
   "execution_count": 54,
   "id": "3217a161-a086-4df5-b996-5d936951413c",
   "metadata": {},
   "outputs": [
    {
     "name": "stdout",
     "output_type": "stream",
     "text": [
      "[[ 4  5  6]\n",
      " [ 7  8  9]\n",
      " [10 11 12]]\n"
     ]
    }
   ],
   "source": [
    "for k in ar:\n",
    "    print(k)"
   ]
  },
  {
   "cell_type": "code",
   "execution_count": 55,
   "id": "9b0f11e6-0740-4bb8-9072-a223b7ed0f45",
   "metadata": {},
   "outputs": [
    {
     "name": "stdout",
     "output_type": "stream",
     "text": [
      "4 5 6 7 8 9 10 11 12 "
     ]
    }
   ],
   "source": [
    "for k in ar:\n",
    "    for a in k:\n",
    "        for b in a:\n",
    "            print(b,end=\" \")"
   ]
  },
  {
   "cell_type": "code",
   "execution_count": 56,
   "id": "83775ea0-ea1c-4c05-bdc9-93a1a67b8419",
   "metadata": {},
   "outputs": [
    {
     "name": "stdout",
     "output_type": "stream",
     "text": [
      "[ 7  8  9 14 25 36]\n"
     ]
    }
   ],
   "source": [
    "import numpy as np\n",
    "ar=np.array([7,8,9,14,25,36])\n",
    "print(ar)"
   ]
  },
  {
   "cell_type": "code",
   "execution_count": 57,
   "id": "5d57202f-272c-4f77-9d65-f117145ee5ea",
   "metadata": {},
   "outputs": [
    {
     "name": "stdout",
     "output_type": "stream",
     "text": [
      "7 8 9 14 25 36 "
     ]
    }
   ],
   "source": [
    "for k in np.nditer(ar):\n",
    "    print(k,end=\" \")"
   ]
  },
  {
   "cell_type": "code",
   "execution_count": 58,
   "id": "01c6a8e3-ed60-4c1c-94ef-36d479f39975",
   "metadata": {},
   "outputs": [
    {
     "name": "stdout",
     "output_type": "stream",
     "text": [
      "[[ 4  5  6]\n",
      " [ 7  8  9]\n",
      " [10 11 12]]\n"
     ]
    }
   ],
   "source": [
    "ar=np.array([[4,5,6],[7,8,9],[10,11,12]])\n",
    "print(ar)"
   ]
  },
  {
   "cell_type": "code",
   "execution_count": 59,
   "id": "90d83a51-d711-43fb-abfb-34a2dde1de23",
   "metadata": {},
   "outputs": [
    {
     "name": "stdout",
     "output_type": "stream",
     "text": [
      "4 5 6 7 8 9 10 11 12 "
     ]
    }
   ],
   "source": [
    "for k in np.nditer(ar):\n",
    "    print(k,end=\" \")"
   ]
  },
  {
   "cell_type": "code",
   "execution_count": 60,
   "id": "11beee9d-fa87-4959-b886-52190388a453",
   "metadata": {},
   "outputs": [
    {
     "name": "stdout",
     "output_type": "stream",
     "text": [
      "[[[ 4  5  6]\n",
      "  [ 7  8  9]\n",
      "  [10 11 12]]]\n"
     ]
    }
   ],
   "source": [
    "ar=np.array([[[4,5,6],[7,8,9],[10,11,12]]])\n",
    "print(ar)"
   ]
  },
  {
   "cell_type": "code",
   "execution_count": 61,
   "id": "7b5d51d2-e8b8-41ad-8772-6c172903903f",
   "metadata": {},
   "outputs": [
    {
     "name": "stdout",
     "output_type": "stream",
     "text": [
      "4 5 6 7 8 9 10 11 12 "
     ]
    }
   ],
   "source": [
    "for k in np.nditer(ar):\n",
    "    print(k,end=\" \")"
   ]
  },
  {
   "cell_type": "code",
   "execution_count": 62,
   "id": "cef17d80-0cea-4397-9883-243abbec927c",
   "metadata": {},
   "outputs": [
    {
     "name": "stdout",
     "output_type": "stream",
     "text": [
      "[[ 4  5  6]\n",
      " [ 7  8  9]\n",
      " [10 11 12]]\n"
     ]
    }
   ],
   "source": [
    "ar=np.array([[4,5,6],[7,8,9],[10,11,12]])\n",
    "print(ar)"
   ]
  },
  {
   "cell_type": "code",
   "execution_count": 63,
   "id": "eadcb8f3-3e26-4003-92de-7c4c1e4e4313",
   "metadata": {},
   "outputs": [
    {
     "data": {
      "text/plain": [
       "array([[ 4,  7, 10],\n",
       "       [ 5,  8, 11],\n",
       "       [ 6,  9, 12]])"
      ]
     },
     "execution_count": 63,
     "metadata": {},
     "output_type": "execute_result"
    }
   ],
   "source": [
    "at=ar.T\n",
    "at"
   ]
  },
  {
   "cell_type": "code",
   "execution_count": 64,
   "id": "a653f5cf-4483-4a0a-a5ca-8235a52674a7",
   "metadata": {},
   "outputs": [
    {
     "name": "stdout",
     "output_type": "stream",
     "text": [
      "4 5 6 7 8 9 10 11 12 "
     ]
    }
   ],
   "source": [
    "for k in np.nditer(at):\n",
    "    print(k,end=\" \")"
   ]
  },
  {
   "cell_type": "code",
   "execution_count": 65,
   "id": "eae9f330-7a67-4f33-9ddf-1199d3bc792e",
   "metadata": {},
   "outputs": [
    {
     "data": {
      "text/plain": [
       "array([[ 4,  7, 10],\n",
       "       [ 5,  8, 11],\n",
       "       [ 6,  9, 12]])"
      ]
     },
     "execution_count": 65,
     "metadata": {},
     "output_type": "execute_result"
    }
   ],
   "source": [
    "at"
   ]
  },
  {
   "cell_type": "code",
   "execution_count": 66,
   "id": "8ba364a7-3ef5-4dd0-a3a4-9c796185604e",
   "metadata": {},
   "outputs": [],
   "source": [
    "b=at.copy(order=\"C\")"
   ]
  },
  {
   "cell_type": "code",
   "execution_count": 67,
   "id": "985c09d8-b67a-48ff-857f-6f874c9867e0",
   "metadata": {},
   "outputs": [
    {
     "data": {
      "text/plain": [
       "array([[ 4,  7, 10],\n",
       "       [ 5,  8, 11],\n",
       "       [ 6,  9, 12]])"
      ]
     },
     "execution_count": 67,
     "metadata": {},
     "output_type": "execute_result"
    }
   ],
   "source": [
    "b"
   ]
  },
  {
   "cell_type": "code",
   "execution_count": 68,
   "id": "d79ff4c1-816d-4ee8-9f2a-ab5e1de80188",
   "metadata": {},
   "outputs": [
    {
     "name": "stdout",
     "output_type": "stream",
     "text": [
      "4 7 10 5 8 11 6 9 12 "
     ]
    }
   ],
   "source": [
    "for k in np.nditer(b):\n",
    "    print(k,end=\" \")"
   ]
  },
  {
   "cell_type": "code",
   "execution_count": 69,
   "id": "9a643cd0-92df-4be2-8f26-d59bd1d720e4",
   "metadata": {},
   "outputs": [],
   "source": [
    "d = at.copy(order=\"F\")"
   ]
  },
  {
   "cell_type": "code",
   "execution_count": 70,
   "id": "d8f91f49-7990-4bb1-abe9-a778487e95af",
   "metadata": {},
   "outputs": [
    {
     "data": {
      "text/plain": [
       "array([[ 4,  7, 10],\n",
       "       [ 5,  8, 11],\n",
       "       [ 6,  9, 12]])"
      ]
     },
     "execution_count": 70,
     "metadata": {},
     "output_type": "execute_result"
    }
   ],
   "source": [
    "d"
   ]
  },
  {
   "cell_type": "code",
   "execution_count": 71,
   "id": "7857a07c-d997-4d79-abd7-611cf801ab1e",
   "metadata": {},
   "outputs": [
    {
     "name": "stdout",
     "output_type": "stream",
     "text": [
      "4 5 6 7 8 9 10 11 12 "
     ]
    }
   ],
   "source": [
    "for k in np.nditer(d):\n",
    "    print(k,end=\" \")"
   ]
  },
  {
   "cell_type": "code",
   "execution_count": 72,
   "id": "52bf5c76-7056-4803-874e-99f126dd5fa3",
   "metadata": {},
   "outputs": [
    {
     "data": {
      "text/plain": [
       "array([[ 4,  7, 10],\n",
       "       [ 5,  8, 11],\n",
       "       [ 6,  9, 12]])"
      ]
     },
     "execution_count": 72,
     "metadata": {},
     "output_type": "execute_result"
    }
   ],
   "source": [
    "at"
   ]
  },
  {
   "cell_type": "code",
   "execution_count": 75,
   "id": "7b9337d4-ec32-453a-b792-233d5cba3889",
   "metadata": {},
   "outputs": [
    {
     "name": "stdout",
     "output_type": "stream",
     "text": [
      "4 7 10 5 8 11 6 9 12 "
     ]
    }
   ],
   "source": [
    "for k in np.nditer(at,order=\"C\"):\n",
    "    print(k,end=\" \")"
   ]
  },
  {
   "cell_type": "code",
   "execution_count": 76,
   "id": "68c905ca-266f-42d8-9c58-c13f4ec8daf7",
   "metadata": {},
   "outputs": [
    {
     "name": "stdout",
     "output_type": "stream",
     "text": [
      "4 7 10 5 8 11 6 9 12 "
     ]
    }
   ],
   "source": [
    "for k in np.nditer(at,order=\"c\"):\n",
    "    print(k,end=\" \")"
   ]
  },
  {
   "cell_type": "code",
   "execution_count": 77,
   "id": "ad09236c-b2d1-4ab8-a905-a1cb285b0b6d",
   "metadata": {},
   "outputs": [
    {
     "name": "stdout",
     "output_type": "stream",
     "text": [
      "4 5 6 7 8 9 10 11 12 "
     ]
    }
   ],
   "source": [
    "for k in np.nditer(at,order=\"F\"):\n",
    "    print(k,end=\" \")"
   ]
  },
  {
   "cell_type": "code",
   "execution_count": 78,
   "id": "4340d8ea-3586-4d82-9c0c-00a1bcc72be9",
   "metadata": {},
   "outputs": [
    {
     "data": {
      "text/plain": [
       "array([[ 4,  7, 10],\n",
       "       [ 5,  8, 11],\n",
       "       [ 6,  9, 12]])"
      ]
     },
     "execution_count": 78,
     "metadata": {},
     "output_type": "execute_result"
    }
   ],
   "source": [
    "at"
   ]
  },
  {
   "cell_type": "code",
   "execution_count": 79,
   "id": "fa3dd167-3e0e-4e8c-b997-d94f0459ef96",
   "metadata": {},
   "outputs": [
    {
     "name": "stdout",
     "output_type": "stream",
     "text": [
      "8 10 12 14 16 18 20 22 24 "
     ]
    }
   ],
   "source": [
    "for k in np.nditer(at):\n",
    "    print(k*2,end=\" \")"
   ]
  },
  {
   "cell_type": "code",
   "execution_count": 80,
   "id": "17a49fb8-ea98-450f-b077-27361d3aab48",
   "metadata": {},
   "outputs": [
    {
     "data": {
      "text/plain": [
       "array([[ 4,  7, 10],\n",
       "       [ 5,  8, 11],\n",
       "       [ 6,  9, 12]])"
      ]
     },
     "execution_count": 80,
     "metadata": {},
     "output_type": "execute_result"
    }
   ],
   "source": [
    "at"
   ]
  },
  {
   "cell_type": "code",
   "execution_count": 81,
   "id": "a7a437c3-eea0-4da1-9ab0-4e97f971b323",
   "metadata": {},
   "outputs": [
    {
     "name": "stdout",
     "output_type": "stream",
     "text": [
      "8 10 12 14 16 18 20 22 24 "
     ]
    }
   ],
   "source": [
    "for k in np.nditer(at,op_flags=[\"readwrite\"]):\n",
    "    k[...]=k*2\n",
    "    print(k,end=\" \")"
   ]
  },
  {
   "cell_type": "code",
   "execution_count": 82,
   "id": "6c14125d-f2b6-4e5c-83a0-9fe51392738f",
   "metadata": {},
   "outputs": [
    {
     "data": {
      "text/plain": [
       "array([[ 8, 14, 20],\n",
       "       [10, 16, 22],\n",
       "       [12, 18, 24]])"
      ]
     },
     "execution_count": 82,
     "metadata": {},
     "output_type": "execute_result"
    }
   ],
   "source": [
    "at"
   ]
  },
  {
   "cell_type": "code",
   "execution_count": 83,
   "id": "fd23d200-7afb-434a-a3df-85e80b81c4e5",
   "metadata": {},
   "outputs": [
    {
     "data": {
      "text/plain": [
       "array([[ 8, 14, 20],\n",
       "       [10, 16, 22],\n",
       "       [12, 18, 24]])"
      ]
     },
     "execution_count": 83,
     "metadata": {},
     "output_type": "execute_result"
    }
   ],
   "source": [
    "at"
   ]
  },
  {
   "cell_type": "code",
   "execution_count": 84,
   "id": "7da158c1-0a86-4de2-a4ff-4d069628d10d",
   "metadata": {},
   "outputs": [
    {
     "name": "stdout",
     "output_type": "stream",
     "text": [
      "(0, 0) --> 8\n",
      "(0, 1) --> 14\n",
      "(0, 2) --> 20\n",
      "(1, 0) --> 10\n",
      "(1, 1) --> 16\n",
      "(1, 2) --> 22\n",
      "(2, 0) --> 12\n",
      "(2, 1) --> 18\n",
      "(2, 2) --> 24\n"
     ]
    }
   ],
   "source": [
    "for k,j in np.ndenumerate(at):\n",
    "    print(k,\"-->\",j)"
   ]
  },
  {
   "cell_type": "code",
   "execution_count": 85,
   "id": "524ded95-ac46-4a16-b9a1-26feada8a3f2",
   "metadata": {},
   "outputs": [
    {
     "data": {
      "text/plain": [
       "array([[ 8, 14, 20],\n",
       "       [10, 16, 22],\n",
       "       [12, 18, 24]])"
      ]
     },
     "execution_count": 85,
     "metadata": {},
     "output_type": "execute_result"
    }
   ],
   "source": [
    "at"
   ]
  },
  {
   "cell_type": "code",
   "execution_count": 86,
   "id": "5da4488b-f9b2-4a88-8600-90eb76553ff0",
   "metadata": {},
   "outputs": [
    {
     "name": "stdout",
     "output_type": "stream",
     "text": [
      "8 10 12 14 16 18 20 22 24 "
     ]
    }
   ],
   "source": [
    "for i in np.nditer(at,flags=[\"buffered\"],op_dtypes=[int]):\n",
    "    print(i,end=\" \")"
   ]
  },
  {
   "cell_type": "code",
   "execution_count": 87,
   "id": "11a241ec-fcad-44f0-9b71-2a7a941c693d",
   "metadata": {},
   "outputs": [
    {
     "name": "stdout",
     "output_type": "stream",
     "text": [
      "8.0 10.0 12.0 14.0 16.0 18.0 20.0 22.0 24.0 "
     ]
    }
   ],
   "source": [
    "for i in np.nditer(at,flags=[\"buffered\"],op_dtypes=[float]):\n",
    "    print(i,end=\" \")"
   ]
  },
  {
   "cell_type": "code",
   "execution_count": 88,
   "id": "f66ea51b-d690-4570-b891-e7e0746eb62f",
   "metadata": {},
   "outputs": [
    {
     "name": "stdout",
     "output_type": "stream",
     "text": [
      "8 10 12 14 16 18 20 22 24 "
     ]
    }
   ],
   "source": [
    "for i in np.nditer(at,op_dtypes=[int]):\n",
    "    print(i,end=\" \")"
   ]
  },
  {
   "cell_type": "code",
   "execution_count": 89,
   "id": "e4d47398-1ccf-455f-8b70-7b672a992c91",
   "metadata": {},
   "outputs": [
    {
     "ename": "TypeError",
     "evalue": "Iterator operand required copying or buffering, but neither copying nor buffering was enabled",
     "output_type": "error",
     "traceback": [
      "\u001b[1;31m---------------------------------------------------------------------------\u001b[0m",
      "\u001b[1;31mTypeError\u001b[0m                                 Traceback (most recent call last)",
      "Cell \u001b[1;32mIn[89], line 1\u001b[0m\n\u001b[1;32m----> 1\u001b[0m \u001b[38;5;28;01mfor\u001b[39;00m i \u001b[38;5;129;01min\u001b[39;00m np\u001b[38;5;241m.\u001b[39mnditer(at,op_dtypes\u001b[38;5;241m=\u001b[39m[\u001b[38;5;28mfloat\u001b[39m]):\n\u001b[0;32m      2\u001b[0m     \u001b[38;5;28mprint\u001b[39m(i,end\u001b[38;5;241m=\u001b[39m\u001b[38;5;124m\"\u001b[39m\u001b[38;5;124m \u001b[39m\u001b[38;5;124m\"\u001b[39m)\n",
      "\u001b[1;31mTypeError\u001b[0m: Iterator operand required copying or buffering, but neither copying nor buffering was enabled"
     ]
    }
   ],
   "source": [
    "for i in np.nditer(at,op_dtypes=[float]):\n",
    "    print(i,end=\" \")"
   ]
  },
  {
   "cell_type": "code",
   "execution_count": 90,
   "id": "71ea9858-22a4-42d0-aba4-ebda4732f8b3",
   "metadata": {},
   "outputs": [
    {
     "name": "stdout",
     "output_type": "stream",
     "text": [
      "[45 55 66 78 88 19]\n"
     ]
    }
   ],
   "source": [
    "import numpy as np\n",
    "l=[45,55,66,78,88,19]\n",
    "a=iter(l)\n",
    "y=np.fromiter(a,dtype=\"O\")\n",
    "print(y)"
   ]
  },
  {
   "cell_type": "code",
   "execution_count": 91,
   "id": "99a82b94-3dc3-45d4-8ffa-3dbcd785c422",
   "metadata": {},
   "outputs": [
    {
     "data": {
      "text/plain": [
       "'0b1010'"
      ]
     },
     "execution_count": 91,
     "metadata": {},
     "output_type": "execute_result"
    }
   ],
   "source": [
    "a = 10\n",
    "bin(a)"
   ]
  },
  {
   "cell_type": "code",
   "execution_count": 92,
   "id": "9c403f9c-3f46-41fb-83b6-b34651276d36",
   "metadata": {},
   "outputs": [],
   "source": [
    "import numpy as np"
   ]
  },
  {
   "cell_type": "code",
   "execution_count": 93,
   "id": "f64154f3-41b1-486c-89d0-eadbf185b4ac",
   "metadata": {},
   "outputs": [
    {
     "data": {
      "text/plain": [
       "'1010'"
      ]
     },
     "execution_count": 93,
     "metadata": {},
     "output_type": "execute_result"
    }
   ],
   "source": [
    "a = np.binary_repr(10)\n",
    "a"
   ]
  },
  {
   "cell_type": "code",
   "execution_count": 94,
   "id": "12c67a9f-373d-4267-9be7-179930ee8256",
   "metadata": {},
   "outputs": [
    {
     "data": {
      "text/plain": [
       "'0001010'"
      ]
     },
     "execution_count": 94,
     "metadata": {},
     "output_type": "execute_result"
    }
   ],
   "source": [
    "a = np.binary_repr(10,7)\n",
    "a"
   ]
  },
  {
   "cell_type": "code",
   "execution_count": 96,
   "id": "9140076a-d11a-418c-aea9-b5d7b1633526",
   "metadata": {},
   "outputs": [
    {
     "data": {
      "text/plain": [
       "'101101'"
      ]
     },
     "execution_count": 96,
     "metadata": {},
     "output_type": "execute_result"
    }
   ],
   "source": [
    "ar = np.array(45)\n",
    "a = np.binary_repr(ar)\n",
    "a"
   ]
  },
  {
   "cell_type": "code",
   "execution_count": 100,
   "id": "3e887973-27d8-445d-b1bb-13b454019190",
   "metadata": {},
   "outputs": [
    {
     "data": {
      "text/plain": [
       "np.int32(4)"
      ]
     },
     "execution_count": 100,
     "metadata": {},
     "output_type": "execute_result"
    }
   ],
   "source": [
    "a = np.bitwise_and(12,6)\n",
    "a"
   ]
  },
  {
   "cell_type": "markdown",
   "id": "9a7e8ff4-7fb0-4310-83cc-e0d5d95878c9",
   "metadata": {},
   "source": [
    "# Day 4"
   ]
  },
  {
   "cell_type": "code",
   "execution_count": 2,
   "id": "9a21676f-67cd-4759-925b-050339e4f8c6",
   "metadata": {},
   "outputs": [
    {
     "data": {
      "text/plain": [
       "array([32, 52, 66, 64])"
      ]
     },
     "execution_count": 2,
     "metadata": {},
     "output_type": "execute_result"
    }
   ],
   "source": [
    "import numpy as np\n",
    "ar = np.array([45,55,66,77])\n",
    "ar1 = np.array([50,60,70,80])\n",
    "a = np.bitwise_and(ar,ar1)\n",
    "a"
   ]
  },
  {
   "cell_type": "code",
   "execution_count": 3,
   "id": "45d4c3a1-95a2-4f1b-86fb-7362dcb4ee4a",
   "metadata": {},
   "outputs": [
    {
     "ename": "ValueError",
     "evalue": "operands could not be broadcast together with shapes (2,2) (4,) ",
     "output_type": "error",
     "traceback": [
      "\u001b[1;31m---------------------------------------------------------------------------\u001b[0m",
      "\u001b[1;31mValueError\u001b[0m                                Traceback (most recent call last)",
      "Cell \u001b[1;32mIn[3], line 3\u001b[0m\n\u001b[0;32m      1\u001b[0m ar \u001b[38;5;241m=\u001b[39m np\u001b[38;5;241m.\u001b[39marray([[\u001b[38;5;241m45\u001b[39m,\u001b[38;5;241m55\u001b[39m],[\u001b[38;5;241m66\u001b[39m,\u001b[38;5;241m77\u001b[39m]])\n\u001b[0;32m      2\u001b[0m ar1 \u001b[38;5;241m=\u001b[39m np\u001b[38;5;241m.\u001b[39marray([\u001b[38;5;241m50\u001b[39m,\u001b[38;5;241m60\u001b[39m,\u001b[38;5;241m70\u001b[39m,\u001b[38;5;241m80\u001b[39m])\n\u001b[1;32m----> 3\u001b[0m a \u001b[38;5;241m=\u001b[39m np\u001b[38;5;241m.\u001b[39mbitwise_and(ar,ar1)\n\u001b[0;32m      4\u001b[0m a\n",
      "\u001b[1;31mValueError\u001b[0m: operands could not be broadcast together with shapes (2,2) (4,) "
     ]
    }
   ],
   "source": [
    "ar = np.array([[45,55],[66,77]])\n",
    "ar1 = np.array([50,60,70,80])\n",
    "a = np.bitwise_and(ar,ar1)\n",
    "a"
   ]
  },
  {
   "cell_type": "code",
   "execution_count": 4,
   "id": "fa6e9adf-ea96-4110-8485-1599df1e4bb2",
   "metadata": {},
   "outputs": [
    {
     "ename": "TypeError",
     "evalue": "Field elements must be 2- or 3-tuples, got '11'",
     "output_type": "error",
     "traceback": [
      "\u001b[1;31m---------------------------------------------------------------------------\u001b[0m",
      "\u001b[1;31mTypeError\u001b[0m                                 Traceback (most recent call last)",
      "Cell \u001b[1;32mIn[4], line 2\u001b[0m\n\u001b[0;32m      1\u001b[0m ar \u001b[38;5;241m=\u001b[39m np\u001b[38;5;241m.\u001b[39marray([[\u001b[38;5;241m45\u001b[39m,\u001b[38;5;241m55\u001b[39m],[\u001b[38;5;241m66\u001b[39m,\u001b[38;5;241m77\u001b[39m]])\n\u001b[1;32m----> 2\u001b[0m ar1 \u001b[38;5;241m=\u001b[39m np\u001b[38;5;241m.\u001b[39marray([\u001b[38;5;241m5\u001b[39m,\u001b[38;5;241m10\u001b[39m],[\u001b[38;5;241m11\u001b[39m,\u001b[38;5;241m20\u001b[39m])\n\u001b[0;32m      3\u001b[0m a \u001b[38;5;241m=\u001b[39m np\u001b[38;5;241m.\u001b[39mbitwise_and(ar,ar1)\n\u001b[0;32m      4\u001b[0m a\n",
      "\u001b[1;31mTypeError\u001b[0m: Field elements must be 2- or 3-tuples, got '11'"
     ]
    }
   ],
   "source": [
    "ar = np.array([[45,55],[66,77]])\n",
    "ar1 = np.array([5,10],[11,20])\n",
    "a = np.bitwise_and(ar,ar1)\n",
    "a"
   ]
  },
  {
   "cell_type": "code",
   "execution_count": 5,
   "id": "5a935faa-c80d-4518-b39a-9e1c001970c6",
   "metadata": {},
   "outputs": [
    {
     "data": {
      "text/plain": [
       "array([[5, 2],\n",
       "       [2, 4]])"
      ]
     },
     "execution_count": 5,
     "metadata": {},
     "output_type": "execute_result"
    }
   ],
   "source": [
    "ar = np.array([[45,55],[66,77]])\n",
    "ar1 = np.array([[5,10],[11,20]])\n",
    "a = np.bitwise_and(ar,ar1)\n",
    "a"
   ]
  },
  {
   "cell_type": "code",
   "execution_count": 6,
   "id": "83bcbcbd-f87e-4758-8c8d-ff4f33787d3a",
   "metadata": {},
   "outputs": [
    {
     "data": {
      "text/plain": [
       "array([[45, 55],\n",
       "       [66, 77]])"
      ]
     },
     "execution_count": 6,
     "metadata": {},
     "output_type": "execute_result"
    }
   ],
   "source": [
    "ar"
   ]
  },
  {
   "cell_type": "code",
   "execution_count": 7,
   "id": "c43d8c6a-e1e6-4698-8dea-86ad4a149a34",
   "metadata": {},
   "outputs": [
    {
     "data": {
      "text/plain": [
       "array([[ 5, 10],\n",
       "       [11, 20]])"
      ]
     },
     "execution_count": 7,
     "metadata": {},
     "output_type": "execute_result"
    }
   ],
   "source": [
    "ar1"
   ]
  },
  {
   "cell_type": "code",
   "execution_count": 8,
   "id": "9854edf0-3eeb-4e2f-a2c0-48be2a445eb3",
   "metadata": {},
   "outputs": [
    {
     "data": {
      "text/plain": [
       "array([[[5, 2],\n",
       "        [2, 4]]])"
      ]
     },
     "execution_count": 8,
     "metadata": {},
     "output_type": "execute_result"
    }
   ],
   "source": [
    "ar = np.array([[[45,55],[66,77]]])\n",
    "ar1 = np.array([[5,10],[11,20]])\n",
    "a = np.bitwise_and(ar,ar1)\n",
    "a"
   ]
  },
  {
   "cell_type": "code",
   "execution_count": 9,
   "id": "bb932387-3ad7-4197-885c-46d85dde0b40",
   "metadata": {},
   "outputs": [
    {
     "ename": "ValueError",
     "evalue": "setting an array element with a sequence. The requested array has an inhomogeneous shape after 1 dimensions. The detected shape was (2,) + inhomogeneous part.",
     "output_type": "error",
     "traceback": [
      "\u001b[1;31m---------------------------------------------------------------------------\u001b[0m",
      "\u001b[1;31mValueError\u001b[0m                                Traceback (most recent call last)",
      "Cell \u001b[1;32mIn[9], line 2\u001b[0m\n\u001b[0;32m      1\u001b[0m ar \u001b[38;5;241m=\u001b[39m np\u001b[38;5;241m.\u001b[39marray([[[\u001b[38;5;241m45\u001b[39m,\u001b[38;5;241m55\u001b[39m],[\u001b[38;5;241m66\u001b[39m,\u001b[38;5;241m77\u001b[39m]]])\n\u001b[1;32m----> 2\u001b[0m ar1 \u001b[38;5;241m=\u001b[39m np\u001b[38;5;241m.\u001b[39marray([[\u001b[38;5;241m5\u001b[39m,\u001b[38;5;241m10\u001b[39m],[\u001b[38;5;241m11\u001b[39m]])\n\u001b[0;32m      3\u001b[0m a \u001b[38;5;241m=\u001b[39m np\u001b[38;5;241m.\u001b[39mbitwise_and(ar,ar1)\n\u001b[0;32m      4\u001b[0m a\n",
      "\u001b[1;31mValueError\u001b[0m: setting an array element with a sequence. The requested array has an inhomogeneous shape after 1 dimensions. The detected shape was (2,) + inhomogeneous part."
     ]
    }
   ],
   "source": [
    "ar = np.array([[[45,55],[66,77]]])\n",
    "ar1 = np.array([[5,10],[11]])\n",
    "a = np.bitwise_and(ar,ar1)\n",
    "a"
   ]
  },
  {
   "cell_type": "code",
   "execution_count": 10,
   "id": "430a893f-f628-4255-909f-d7834813d9e9",
   "metadata": {},
   "outputs": [],
   "source": [
    "b = np.bitwise_or(45,5)"
   ]
  },
  {
   "cell_type": "code",
   "execution_count": 11,
   "id": "679de3bd-99b9-4a91-8115-c9cfd55ed7a6",
   "metadata": {},
   "outputs": [
    {
     "data": {
      "text/plain": [
       "np.int32(45)"
      ]
     },
     "execution_count": 11,
     "metadata": {},
     "output_type": "execute_result"
    }
   ],
   "source": [
    "b"
   ]
  },
  {
   "cell_type": "code",
   "execution_count": 12,
   "id": "8091a1cf-7d8c-4959-bf62-0f664d2118c9",
   "metadata": {},
   "outputs": [
    {
     "data": {
      "text/plain": [
       "array([[[45, 63],\n",
       "        [75, 93]]])"
      ]
     },
     "execution_count": 12,
     "metadata": {},
     "output_type": "execute_result"
    }
   ],
   "source": [
    "ar = np.array([[[45,55],[66,77]]])\n",
    "ar1 = np.array([[5,10],[11,20]])\n",
    "a = np.bitwise_or(ar,ar1)\n",
    "a"
   ]
  },
  {
   "cell_type": "code",
   "execution_count": 13,
   "id": "c8549515-9b62-4dd0-973c-38f18139a2d8",
   "metadata": {},
   "outputs": [],
   "source": [
    "b = np.bitwise_xor(45,5)"
   ]
  },
  {
   "cell_type": "code",
   "execution_count": 14,
   "id": "cf05f7d1-b692-4550-b5b7-9c31bd2dcb0b",
   "metadata": {},
   "outputs": [
    {
     "data": {
      "text/plain": [
       "np.int32(40)"
      ]
     },
     "execution_count": 14,
     "metadata": {},
     "output_type": "execute_result"
    }
   ],
   "source": [
    "b"
   ]
  },
  {
   "cell_type": "code",
   "execution_count": 15,
   "id": "ed8c9db9-4d13-43af-9558-adbb6030e050",
   "metadata": {},
   "outputs": [
    {
     "data": {
      "text/plain": [
       "array([[[40, 61],\n",
       "        [73, 89]]])"
      ]
     },
     "execution_count": 15,
     "metadata": {},
     "output_type": "execute_result"
    }
   ],
   "source": [
    "ar = np.array([[[45,55],[66,77]]])\n",
    "ar1 = np.array([[5,10],[11,20]])\n",
    "a = np.bitwise_xor(ar,ar1)\n",
    "a"
   ]
  },
  {
   "cell_type": "code",
   "execution_count": 16,
   "id": "e6eb0cab-20de-40a2-9ded-b59abdcd88b2",
   "metadata": {},
   "outputs": [],
   "source": [
    "b = np.bitwise_not(45)"
   ]
  },
  {
   "cell_type": "code",
   "execution_count": 17,
   "id": "3ffb992a-a1b8-4b1c-8bfc-3d7651b8c1de",
   "metadata": {},
   "outputs": [
    {
     "data": {
      "text/plain": [
       "np.int64(-46)"
      ]
     },
     "execution_count": 17,
     "metadata": {},
     "output_type": "execute_result"
    }
   ],
   "source": [
    "b"
   ]
  },
  {
   "cell_type": "code",
   "execution_count": 18,
   "id": "a93d8940-82a5-499c-925a-6dc4ac4a71a8",
   "metadata": {},
   "outputs": [
    {
     "data": {
      "text/plain": [
       "array([[[-46, -56],\n",
       "        [-67, -78]]])"
      ]
     },
     "execution_count": 18,
     "metadata": {},
     "output_type": "execute_result"
    }
   ],
   "source": [
    "ar = np.array([[[45,55],[66,77]]])\n",
    "ar1 = np.array([[5,10],[11,20]])\n",
    "a = np.bitwise_not(ar)\n",
    "a"
   ]
  },
  {
   "cell_type": "code",
   "execution_count": 19,
   "id": "e46ffc41-220e-4e1c-b3d9-eddf75151aa9",
   "metadata": {},
   "outputs": [
    {
     "ename": "TypeError",
     "evalue": "return arrays must be of ArrayType",
     "output_type": "error",
     "traceback": [
      "\u001b[1;31m---------------------------------------------------------------------------\u001b[0m",
      "\u001b[1;31mTypeError\u001b[0m                                 Traceback (most recent call last)",
      "Cell \u001b[1;32mIn[19], line 1\u001b[0m\n\u001b[1;32m----> 1\u001b[0m b \u001b[38;5;241m=\u001b[39m np\u001b[38;5;241m.\u001b[39mbitwise_not(\u001b[38;5;241m45\u001b[39m,\u001b[38;5;241m5\u001b[39m)\n",
      "\u001b[1;31mTypeError\u001b[0m: return arrays must be of ArrayType"
     ]
    }
   ],
   "source": [
    "b = np.bitwise_not(45,5)"
   ]
  },
  {
   "cell_type": "code",
   "execution_count": 21,
   "id": "33700c79-24f0-4620-b83b-8e880174f370",
   "metadata": {},
   "outputs": [
    {
     "data": {
      "text/plain": [
       "array([[-46, -56],\n",
       "       [-67, -78]])"
      ]
     },
     "execution_count": 21,
     "metadata": {},
     "output_type": "execute_result"
    }
   ],
   "source": [
    "ar = np.array([[45,55],[66,77]])\n",
    "ar1 = np.array([[5,10],[11,20]])\n",
    "a = np.bitwise_not(ar,ar1)\n",
    "a"
   ]
  },
  {
   "cell_type": "code",
   "execution_count": 22,
   "id": "99c8ebb5-db1a-4b0e-858c-28b46028c5bf",
   "metadata": {},
   "outputs": [],
   "source": [
    "b = np.invert(45)"
   ]
  },
  {
   "cell_type": "code",
   "execution_count": 23,
   "id": "8b90b8ea-9b41-4e09-a55b-04de542e7833",
   "metadata": {},
   "outputs": [
    {
     "data": {
      "text/plain": [
       "np.int64(-46)"
      ]
     },
     "execution_count": 23,
     "metadata": {},
     "output_type": "execute_result"
    }
   ],
   "source": [
    "b"
   ]
  },
  {
   "cell_type": "code",
   "execution_count": 24,
   "id": "cd797b34-6fd7-4e55-bc65-f6e4d58330f6",
   "metadata": {},
   "outputs": [
    {
     "data": {
      "text/plain": [
       "array([[-46, -56],\n",
       "       [-67, -78]])"
      ]
     },
     "execution_count": 24,
     "metadata": {},
     "output_type": "execute_result"
    }
   ],
   "source": [
    "b = np.invert(ar)\n",
    "b"
   ]
  },
  {
   "cell_type": "code",
   "execution_count": 25,
   "id": "ad7ea490-be49-4175-9661-0069bd420687",
   "metadata": {},
   "outputs": [
    {
     "data": {
      "text/plain": [
       "'101101'"
      ]
     },
     "execution_count": 25,
     "metadata": {},
     "output_type": "execute_result"
    }
   ],
   "source": [
    "np.binary_repr(45)"
   ]
  },
  {
   "cell_type": "code",
   "execution_count": 26,
   "id": "38b1b4d8-8b79-42fc-8e14-5e4ee2ec1b61",
   "metadata": {},
   "outputs": [
    {
     "data": {
      "text/plain": [
       "'-101110'"
      ]
     },
     "execution_count": 26,
     "metadata": {},
     "output_type": "execute_result"
    }
   ],
   "source": [
    "np.binary_repr(-46)"
   ]
  },
  {
   "cell_type": "code",
   "execution_count": 27,
   "id": "d905c1e5-c342-4fb9-abd3-abcfdec3feea",
   "metadata": {},
   "outputs": [],
   "source": [
    "import numpy as np"
   ]
  },
  {
   "cell_type": "code",
   "execution_count": 28,
   "id": "b6224d14-5e5b-450e-b40d-2a72a37bf9ff",
   "metadata": {},
   "outputs": [
    {
     "name": "stdout",
     "output_type": "stream",
     "text": [
      "['My name is Puja' 'I am from Samastipur']\n"
     ]
    }
   ],
   "source": [
    "a = np.char.add([\"My name is \",\"I am from \"],[\"Puja\",\"Samastipur\"])\n",
    "print(a)"
   ]
  },
  {
   "cell_type": "code",
   "execution_count": 29,
   "id": "4ef5c7a2-fbc3-4ee7-b7cd-cea0e13b4a4a",
   "metadata": {},
   "outputs": [
    {
     "name": "stdout",
     "output_type": "stream",
     "text": [
      "@@@\n"
     ]
    }
   ],
   "source": [
    "a = np.char.multiply(\"@\",3)\n",
    "print(a)"
   ]
  },
  {
   "cell_type": "code",
   "execution_count": 30,
   "id": "b6377d3d-b0bd-47eb-90ab-ea9e37e43cf4",
   "metadata": {},
   "outputs": [
    {
     "name": "stdout",
     "output_type": "stream",
     "text": [
      "***\n"
     ]
    }
   ],
   "source": [
    "a = np.char.multiply(\"*\",3)\n",
    "print(a)"
   ]
  },
  {
   "cell_type": "code",
   "execution_count": 31,
   "id": "3024eec8-0094-4f9d-8083-9cb67460452a",
   "metadata": {},
   "outputs": [
    {
     "name": "stdout",
     "output_type": "stream",
     "text": [
      "PUJA\n"
     ]
    }
   ],
   "source": [
    "a = np.char.upper(\"Puja\")\n",
    "print(a)"
   ]
  },
  {
   "cell_type": "code",
   "execution_count": 32,
   "id": "922c2bca-6133-4d00-876d-0d4ee106554f",
   "metadata": {},
   "outputs": [
    {
     "data": {
      "text/plain": [
       "array('PUJA', dtype='<U4')"
      ]
     },
     "execution_count": 32,
     "metadata": {},
     "output_type": "execute_result"
    }
   ],
   "source": [
    "a"
   ]
  },
  {
   "cell_type": "code",
   "execution_count": 33,
   "id": "874169d1-b017-4927-9279-161c1c15b7fe",
   "metadata": {},
   "outputs": [
    {
     "name": "stdout",
     "output_type": "stream",
     "text": [
      "[ 20  30  60  80 120]\n"
     ]
    }
   ],
   "source": [
    "ar = np.array([20,30,60,80,120])\n",
    "print(ar)"
   ]
  },
  {
   "cell_type": "code",
   "execution_count": 34,
   "id": "bf5ed5c3-97ff-4e5b-b148-8943e32fd6ab",
   "metadata": {},
   "outputs": [
    {
     "name": "stdout",
     "output_type": "stream",
     "text": [
      "[0.34202014 0.5        0.8660254  0.98480775 0.8660254 ]\n"
     ]
    }
   ],
   "source": [
    "print(np.sin(ar*np.pi/180))"
   ]
  },
  {
   "cell_type": "code",
   "execution_count": 35,
   "id": "4fe0a3b5-5951-446d-bf62-240ab802fafa",
   "metadata": {},
   "outputs": [
    {
     "name": "stdout",
     "output_type": "stream",
     "text": [
      "[ 0.93969262  0.8660254   0.5         0.17364818 -0.5       ]\n"
     ]
    }
   ],
   "source": [
    "print(np.cos(ar*np.pi/180))"
   ]
  },
  {
   "cell_type": "code",
   "execution_count": 36,
   "id": "01ac6822-614f-4802-8162-384c63d8cfdc",
   "metadata": {},
   "outputs": [
    {
     "name": "stdout",
     "output_type": "stream",
     "text": [
      "[ 0.36397023  0.57735027  1.73205081  5.67128182 -1.73205081]\n"
     ]
    }
   ],
   "source": [
    "print(np.tan(ar*np.pi/180))"
   ]
  },
  {
   "cell_type": "code",
   "execution_count": 37,
   "id": "f5aa763b-6145-41cf-857d-a145dc6faf05",
   "metadata": {},
   "outputs": [
    {
     "data": {
      "text/plain": [
       "array([0.34202014, 0.5       , 0.8660254 , 0.98480775, 0.8660254 ])"
      ]
     },
     "execution_count": 37,
     "metadata": {},
     "output_type": "execute_result"
    }
   ],
   "source": [
    "a = np.sin(ar*np.pi/180)\n",
    "a"
   ]
  },
  {
   "cell_type": "code",
   "execution_count": 38,
   "id": "a8170fad-0c22-4dd9-9b9f-a804d7e02e29",
   "metadata": {},
   "outputs": [
    {
     "data": {
      "text/plain": [
       "array([0.34906585, 0.52359878, 1.04719755, 1.3962634 , 1.04719755])"
      ]
     },
     "execution_count": 38,
     "metadata": {},
     "output_type": "execute_result"
    }
   ],
   "source": [
    "cosec = np.arcsin(a)\n",
    "cosec"
   ]
  },
  {
   "cell_type": "code",
   "execution_count": 39,
   "id": "8c07ea09-0f89-4f54-8775-3b6b82084970",
   "metadata": {},
   "outputs": [
    {
     "data": {
      "text/plain": [
       "array([20., 30., 60., 80., 60.])"
      ]
     },
     "execution_count": 39,
     "metadata": {},
     "output_type": "execute_result"
    }
   ],
   "source": [
    "np.degrees(cosec)"
   ]
  },
  {
   "cell_type": "code",
   "execution_count": 40,
   "id": "3a2084bc-285d-4978-b05a-bbde6a234f23",
   "metadata": {},
   "outputs": [
    {
     "data": {
      "text/plain": [
       "array([ 11.   , 536.   ,  40.505,  78.456,  30.456,  28.101])"
      ]
     },
     "execution_count": 40,
     "metadata": {},
     "output_type": "execute_result"
    }
   ],
   "source": [
    "import numpy as np\n",
    "ar = np.array([11,536,40.505,78.456,30.456,28.101])\n",
    "ar"
   ]
  },
  {
   "cell_type": "code",
   "execution_count": 41,
   "id": "7a23d9b6-0d45-4722-826c-d77b5fa633a4",
   "metadata": {},
   "outputs": [
    {
     "data": {
      "text/plain": [
       "array([ 11., 536.,  41.,  78.,  30.,  28.])"
      ]
     },
     "execution_count": 41,
     "metadata": {},
     "output_type": "execute_result"
    }
   ],
   "source": [
    "np.round(ar)"
   ]
  },
  {
   "cell_type": "code",
   "execution_count": 42,
   "id": "e2a129a5-7e7a-4d61-8c52-51f022f43922",
   "metadata": {},
   "outputs": [
    {
     "data": {
      "text/plain": [
       "array([ 11., 536.,  41.,  78.,  30.,  28.])"
      ]
     },
     "execution_count": 42,
     "metadata": {},
     "output_type": "execute_result"
    }
   ],
   "source": [
    "np.around(ar)"
   ]
  },
  {
   "cell_type": "code",
   "execution_count": 43,
   "id": "45f1906c-7923-4023-b142-7f64b7184dd9",
   "metadata": {},
   "outputs": [
    {
     "data": {
      "text/plain": [
       "array([ 11.  , 536.  ,  40.51,  78.46,  30.46,  28.1 ])"
      ]
     },
     "execution_count": 43,
     "metadata": {},
     "output_type": "execute_result"
    }
   ],
   "source": [
    "np.around(ar,2)"
   ]
  },
  {
   "cell_type": "code",
   "execution_count": 44,
   "id": "2785c346-841c-4e4a-8020-4b7b333bb929",
   "metadata": {},
   "outputs": [
    {
     "data": {
      "text/plain": [
       "array([ 10., 540.,  40.,  80.,  30.,  30.])"
      ]
     },
     "execution_count": 44,
     "metadata": {},
     "output_type": "execute_result"
    }
   ],
   "source": [
    "np.around(ar,-1)"
   ]
  },
  {
   "cell_type": "code",
   "execution_count": 45,
   "id": "580b15fe-ae5a-445d-b192-4a7736fb9f99",
   "metadata": {},
   "outputs": [
    {
     "data": {
      "text/plain": [
       "array([ 11., 536.,  40.,  78.,  30.,  28.])"
      ]
     },
     "execution_count": 45,
     "metadata": {},
     "output_type": "execute_result"
    }
   ],
   "source": [
    "np.floor(ar)"
   ]
  },
  {
   "cell_type": "code",
   "execution_count": 46,
   "id": "692f3ff5-dd65-4032-acec-795b803b1205",
   "metadata": {},
   "outputs": [
    {
     "data": {
      "text/plain": [
       "array([ 11., 536.,  41.,  79.,  31.,  29.])"
      ]
     },
     "execution_count": 46,
     "metadata": {},
     "output_type": "execute_result"
    }
   ],
   "source": [
    "np.ceil(ar)"
   ]
  },
  {
   "cell_type": "code",
   "execution_count": 47,
   "id": "4683d542-00a0-4fc1-8eff-8b14b1a2b067",
   "metadata": {},
   "outputs": [
    {
     "data": {
      "text/plain": [
       "array([ 11.   , 536.   ,  40.505,  78.456,  30.456,  28.101])"
      ]
     },
     "execution_count": 47,
     "metadata": {},
     "output_type": "execute_result"
    }
   ],
   "source": [
    "ar"
   ]
  },
  {
   "cell_type": "code",
   "execution_count": 48,
   "id": "9b7895be-7948-4ccb-b69d-525e5427b7f3",
   "metadata": {},
   "outputs": [
    {
     "data": {
      "text/plain": [
       "array([[  4,   5,   6],\n",
       "       [  7,   8,   9],\n",
       "       [ 11, 112,  13]])"
      ]
     },
     "execution_count": 48,
     "metadata": {},
     "output_type": "execute_result"
    }
   ],
   "source": [
    "import numpy as np\n",
    "ar = np.array([[4,5,6],[7,8,9],[11,112,13]])\n",
    "ar"
   ]
  },
  {
   "cell_type": "code",
   "execution_count": 49,
   "id": "58dcc382-fe96-43b6-a022-fe2524a1d95b",
   "metadata": {},
   "outputs": [
    {
     "data": {
      "text/plain": [
       "np.int64(112)"
      ]
     },
     "execution_count": 49,
     "metadata": {},
     "output_type": "execute_result"
    }
   ],
   "source": [
    "np.max(ar)"
   ]
  },
  {
   "cell_type": "code",
   "execution_count": 50,
   "id": "ecd85bf3-ff14-4ecb-9b45-924b766a6cae",
   "metadata": {},
   "outputs": [
    {
     "data": {
      "text/plain": [
       "np.int64(4)"
      ]
     },
     "execution_count": 50,
     "metadata": {},
     "output_type": "execute_result"
    }
   ],
   "source": [
    "np.min(ar)"
   ]
  },
  {
   "cell_type": "code",
   "execution_count": 51,
   "id": "e10392cb-cdf4-4966-aa40-11647098be1f",
   "metadata": {},
   "outputs": [
    {
     "data": {
      "text/plain": [
       "array([ 11, 112,  13])"
      ]
     },
     "execution_count": 51,
     "metadata": {},
     "output_type": "execute_result"
    }
   ],
   "source": [
    "np.max(ar,0)"
   ]
  },
  {
   "cell_type": "code",
   "execution_count": 52,
   "id": "2e4267e5-efca-4b2e-8ffe-d2bc113f8d7a",
   "metadata": {},
   "outputs": [
    {
     "data": {
      "text/plain": [
       "np.int64(112)"
      ]
     },
     "execution_count": 52,
     "metadata": {},
     "output_type": "execute_result"
    }
   ],
   "source": [
    "np.amax(ar)"
   ]
  },
  {
   "cell_type": "code",
   "execution_count": 53,
   "id": "0c70d9dc-6830-40d8-970a-73458ad41ee7",
   "metadata": {},
   "outputs": [
    {
     "data": {
      "text/plain": [
       "np.int64(4)"
      ]
     },
     "execution_count": 53,
     "metadata": {},
     "output_type": "execute_result"
    }
   ],
   "source": [
    "np.amin(ar)"
   ]
  },
  {
   "cell_type": "code",
   "execution_count": 54,
   "id": "f1542354-5985-4579-be49-558f48e730d7",
   "metadata": {},
   "outputs": [
    {
     "data": {
      "text/plain": [
       "array([4, 5, 6])"
      ]
     },
     "execution_count": 54,
     "metadata": {},
     "output_type": "execute_result"
    }
   ],
   "source": [
    "np.amin(ar,axis=0)"
   ]
  },
  {
   "cell_type": "code",
   "execution_count": 56,
   "id": "51424da7-bdfb-47cf-b3e0-32c81b07a884",
   "metadata": {},
   "outputs": [
    {
     "data": {
      "text/plain": [
       "array([ 11, 112,  13])"
      ]
     },
     "execution_count": 56,
     "metadata": {},
     "output_type": "execute_result"
    }
   ],
   "source": [
    "np.amax(ar,axis=0)"
   ]
  },
  {
   "cell_type": "code",
   "execution_count": 57,
   "id": "eae168cd-233e-4fd9-aa2c-8a6e20cc6b9d",
   "metadata": {},
   "outputs": [
    {
     "data": {
      "text/plain": [
       "array([  6,   9, 112])"
      ]
     },
     "execution_count": 57,
     "metadata": {},
     "output_type": "execute_result"
    }
   ],
   "source": [
    "np.amax(ar,axis=1)"
   ]
  },
  {
   "cell_type": "code",
   "execution_count": 58,
   "id": "83d55860-fbdc-4275-811b-4bfbbc2fdf35",
   "metadata": {},
   "outputs": [
    {
     "data": {
      "text/plain": [
       "array([ 4,  7, 11])"
      ]
     },
     "execution_count": 58,
     "metadata": {},
     "output_type": "execute_result"
    }
   ],
   "source": [
    "np.amin(ar,axis=1)"
   ]
  },
  {
   "cell_type": "code",
   "execution_count": 60,
   "id": "03a8b743-adc2-4e0a-ba87-bc74cc47713a",
   "metadata": {},
   "outputs": [
    {
     "data": {
      "text/plain": [
       "array([[  4,   5,   6],\n",
       "       [  7,   8,   9],\n",
       "       [ 11, 112,  13]])"
      ]
     },
     "execution_count": 60,
     "metadata": {},
     "output_type": "execute_result"
    }
   ],
   "source": [
    "ar"
   ]
  },
  {
   "cell_type": "code",
   "execution_count": 61,
   "id": "84f24527-625c-43dd-a463-e6d5343ac4e4",
   "metadata": {},
   "outputs": [
    {
     "data": {
      "text/plain": [
       "np.float64(19.444444444444443)"
      ]
     },
     "execution_count": 61,
     "metadata": {},
     "output_type": "execute_result"
    }
   ],
   "source": [
    "np.average(ar)"
   ]
  },
  {
   "cell_type": "code",
   "execution_count": 62,
   "id": "c8c589cd-7686-4260-9c8f-483824b0021c",
   "metadata": {},
   "outputs": [
    {
     "data": {
      "text/plain": [
       "np.float64(19.444444444444443)"
      ]
     },
     "execution_count": 62,
     "metadata": {},
     "output_type": "execute_result"
    }
   ],
   "source": [
    "np.mean(ar)"
   ]
  },
  {
   "cell_type": "code",
   "execution_count": 63,
   "id": "30fddfd5-3812-4b22-a67b-476add91028d",
   "metadata": {},
   "outputs": [
    {
     "data": {
      "text/plain": [
       "array([ 7.33333333, 41.66666667,  9.33333333])"
      ]
     },
     "execution_count": 63,
     "metadata": {},
     "output_type": "execute_result"
    }
   ],
   "source": [
    "np.average(ar,axis=0)"
   ]
  },
  {
   "cell_type": "code",
   "execution_count": 64,
   "id": "1a34c9ce-cb96-40e4-bad4-536e2ae34562",
   "metadata": {},
   "outputs": [
    {
     "data": {
      "text/plain": [
       "array([ 7.33333333, 41.66666667,  9.33333333])"
      ]
     },
     "execution_count": 64,
     "metadata": {},
     "output_type": "execute_result"
    }
   ],
   "source": [
    "np.mean(ar,axis=0)"
   ]
  },
  {
   "cell_type": "code",
   "execution_count": 65,
   "id": "12ba948e-d4e8-41ac-95e9-b4b9959a9498",
   "metadata": {},
   "outputs": [
    {
     "data": {
      "text/plain": [
       "np.float64(8.0)"
      ]
     },
     "execution_count": 65,
     "metadata": {},
     "output_type": "execute_result"
    }
   ],
   "source": [
    "np.median(ar)"
   ]
  },
  {
   "cell_type": "code",
   "execution_count": 66,
   "id": "fe146c5f-8f57-4cd6-974a-4981cce4eff1",
   "metadata": {},
   "outputs": [],
   "source": [
    "ar1 = np.array([[4,5],[11,12]])"
   ]
  },
  {
   "cell_type": "code",
   "execution_count": 67,
   "id": "7f0c0dca-13cd-410e-8d60-4c7c03840e99",
   "metadata": {},
   "outputs": [
    {
     "data": {
      "text/plain": [
       "np.float64(8.0)"
      ]
     },
     "execution_count": 67,
     "metadata": {},
     "output_type": "execute_result"
    }
   ],
   "source": [
    "np.median(ar1)"
   ]
  },
  {
   "cell_type": "code",
   "execution_count": 69,
   "id": "fc934c50-c90f-4836-9f42-127a242e51b2",
   "metadata": {},
   "outputs": [
    {
     "data": {
      "text/plain": [
       "np.float64(32.83328633198366)"
      ]
     },
     "execution_count": 69,
     "metadata": {},
     "output_type": "execute_result"
    }
   ],
   "source": [
    "np.std(ar)"
   ]
  },
  {
   "cell_type": "code",
   "execution_count": 70,
   "id": "74b2eb54-8caf-4b87-aa0e-f14800b0546e",
   "metadata": {},
   "outputs": [
    {
     "data": {
      "text/plain": [
       "array([445,  55,  66,  77,  88,  99, 100])"
      ]
     },
     "execution_count": 70,
     "metadata": {},
     "output_type": "execute_result"
    }
   ],
   "source": [
    "import numpy as np\n",
    "ar = np.array([445,55,66,77,88,99,100])\n",
    "ar"
   ]
  },
  {
   "cell_type": "code",
   "execution_count": 71,
   "id": "cc53c553-3ceb-4ac5-a57e-914bf0334028",
   "metadata": {},
   "outputs": [
    {
     "data": {
      "text/plain": [
       "np.int64(445)"
      ]
     },
     "execution_count": 71,
     "metadata": {},
     "output_type": "execute_result"
    }
   ],
   "source": [
    "ar[0]"
   ]
  },
  {
   "cell_type": "code",
   "execution_count": 72,
   "id": "f3106af5-206c-4711-a4fd-66f52defe280",
   "metadata": {},
   "outputs": [
    {
     "data": {
      "text/plain": [
       "np.int64(99)"
      ]
     },
     "execution_count": 72,
     "metadata": {},
     "output_type": "execute_result"
    }
   ],
   "source": [
    "ar[5]"
   ]
  },
  {
   "cell_type": "code",
   "execution_count": 73,
   "id": "0dce039b-c359-4ab8-ba4e-8e098f900d3d",
   "metadata": {},
   "outputs": [
    {
     "data": {
      "text/plain": [
       "np.int64(99)"
      ]
     },
     "execution_count": 73,
     "metadata": {},
     "output_type": "execute_result"
    }
   ],
   "source": [
    "ar[-2]"
   ]
  },
  {
   "cell_type": "code",
   "execution_count": 74,
   "id": "06920c16-a645-42aa-a4ef-ed2377027ab5",
   "metadata": {},
   "outputs": [
    {
     "data": {
      "text/plain": [
       "array([[ 4,  5],\n",
       "       [ 7, 88]])"
      ]
     },
     "execution_count": 74,
     "metadata": {},
     "output_type": "execute_result"
    }
   ],
   "source": [
    "ar=np.array([[4,5],[7,88]])\n",
    "ar"
   ]
  },
  {
   "cell_type": "code",
   "execution_count": 75,
   "id": "d4fdbead-7d9b-41ab-99e9-3b9d2e0aaab9",
   "metadata": {},
   "outputs": [
    {
     "data": {
      "text/plain": [
       "array([4, 5])"
      ]
     },
     "execution_count": 75,
     "metadata": {},
     "output_type": "execute_result"
    }
   ],
   "source": [
    "ar[0]"
   ]
  },
  {
   "cell_type": "code",
   "execution_count": 76,
   "id": "66aa6451-82e7-4cdd-b97c-d6649aa3f5b6",
   "metadata": {},
   "outputs": [
    {
     "data": {
      "text/plain": [
       "np.int64(5)"
      ]
     },
     "execution_count": 76,
     "metadata": {},
     "output_type": "execute_result"
    }
   ],
   "source": [
    "ar[0][1]"
   ]
  },
  {
   "cell_type": "code",
   "execution_count": 77,
   "id": "6b96b2d8-9686-4333-921b-76466193e49d",
   "metadata": {},
   "outputs": [
    {
     "data": {
      "text/plain": [
       "np.int64(5)"
      ]
     },
     "execution_count": 77,
     "metadata": {},
     "output_type": "execute_result"
    }
   ],
   "source": [
    "ar[0,1]"
   ]
  },
  {
   "cell_type": "code",
   "execution_count": 78,
   "id": "dd326405-c2d4-40c2-96bb-227ba921c7a5",
   "metadata": {},
   "outputs": [
    {
     "data": {
      "text/plain": [
       "np.int64(88)"
      ]
     },
     "execution_count": 78,
     "metadata": {},
     "output_type": "execute_result"
    }
   ],
   "source": [
    "ar[1,1]"
   ]
  },
  {
   "cell_type": "code",
   "execution_count": 79,
   "id": "d1829ac5-69eb-4f6f-8fc4-0473758e2144",
   "metadata": {},
   "outputs": [
    {
     "data": {
      "text/plain": [
       "np.int64(88)"
      ]
     },
     "execution_count": 79,
     "metadata": {},
     "output_type": "execute_result"
    }
   ],
   "source": [
    "ar[1][1]"
   ]
  },
  {
   "cell_type": "code",
   "execution_count": 80,
   "id": "86276b7c-22cb-4b88-9c67-f1fb1a7bea2e",
   "metadata": {},
   "outputs": [
    {
     "data": {
      "text/plain": [
       "array([[  1,  44,  66,  77],\n",
       "       [ 88,  99, 100, 102],\n",
       "       [ 55,  66,  77,  88]])"
      ]
     },
     "execution_count": 80,
     "metadata": {},
     "output_type": "execute_result"
    }
   ],
   "source": [
    "ar=np.array([[1,44,66,77],[88,99,100,102],[55,66,77,88]])\n",
    "ar"
   ]
  },
  {
   "cell_type": "code",
   "execution_count": 81,
   "id": "a3e7e047-0e56-4286-ba70-3e1d1d700e0d",
   "metadata": {},
   "outputs": [
    {
     "data": {
      "text/plain": [
       "array([ 1, 44, 66, 77])"
      ]
     },
     "execution_count": 81,
     "metadata": {},
     "output_type": "execute_result"
    }
   ],
   "source": [
    "ar[0]"
   ]
  },
  {
   "cell_type": "code",
   "execution_count": 82,
   "id": "94f34dba-a2d3-44f1-b3c4-16bd7cac89ca",
   "metadata": {},
   "outputs": [
    {
     "data": {
      "text/plain": [
       "array([ 88,  99, 100, 102])"
      ]
     },
     "execution_count": 82,
     "metadata": {},
     "output_type": "execute_result"
    }
   ],
   "source": [
    "ar[1]"
   ]
  },
  {
   "cell_type": "code",
   "execution_count": 83,
   "id": "0449c45d-57b0-4d4d-887f-eddb9e89af88",
   "metadata": {},
   "outputs": [
    {
     "data": {
      "text/plain": [
       "array([55, 66, 77, 88])"
      ]
     },
     "execution_count": 83,
     "metadata": {},
     "output_type": "execute_result"
    }
   ],
   "source": [
    "ar[2]"
   ]
  },
  {
   "cell_type": "code",
   "execution_count": 85,
   "id": "2e41403d-d33d-4b9b-9853-763214dab8bc",
   "metadata": {},
   "outputs": [
    {
     "data": {
      "text/plain": [
       "np.int64(44)"
      ]
     },
     "execution_count": 85,
     "metadata": {},
     "output_type": "execute_result"
    }
   ],
   "source": [
    "ar[0,1]"
   ]
  },
  {
   "cell_type": "code",
   "execution_count": 86,
   "id": "5d526eb0-af16-4254-aa0f-ae3a2d6a8745",
   "metadata": {},
   "outputs": [
    {
     "data": {
      "text/plain": [
       "array([[  1,  44,  66,  77],\n",
       "       [ 88,  99, 100, 102],\n",
       "       [ 55,  66,  77,  88]])"
      ]
     },
     "execution_count": 86,
     "metadata": {},
     "output_type": "execute_result"
    }
   ],
   "source": [
    "ar[0:3]"
   ]
  },
  {
   "cell_type": "code",
   "execution_count": 87,
   "id": "8c83be46-0415-4954-b5d2-bc642b9c9306",
   "metadata": {},
   "outputs": [
    {
     "data": {
      "text/plain": [
       "array([[  1,  44,  66,  77],\n",
       "       [ 88,  99, 100, 102],\n",
       "       [ 55,  66,  77,  88]])"
      ]
     },
     "execution_count": 87,
     "metadata": {},
     "output_type": "execute_result"
    }
   ],
   "source": [
    "ar[0:3,0:4]"
   ]
  },
  {
   "cell_type": "code",
   "execution_count": 88,
   "id": "4d1d2756-e79a-4729-809e-7c2dd22b8839",
   "metadata": {},
   "outputs": [
    {
     "data": {
      "text/plain": [
       "array([[  1,  66],\n",
       "       [ 88, 100],\n",
       "       [ 55,  77]])"
      ]
     },
     "execution_count": 88,
     "metadata": {},
     "output_type": "execute_result"
    }
   ],
   "source": [
    "ar[0:3,0:4:2]"
   ]
  },
  {
   "cell_type": "code",
   "execution_count": 89,
   "id": "88be325d-869c-48ab-b439-b6528660b708",
   "metadata": {},
   "outputs": [
    {
     "data": {
      "text/plain": [
       "array([[ 88, 102],\n",
       "       [ 55,  88]])"
      ]
     },
     "execution_count": 89,
     "metadata": {},
     "output_type": "execute_result"
    }
   ],
   "source": [
    "ar[1:3,0:4:3]"
   ]
  },
  {
   "cell_type": "code",
   "execution_count": 90,
   "id": "6e945414-2d79-49e3-8717-adfc1d9a43fe",
   "metadata": {},
   "outputs": [
    {
     "data": {
      "text/plain": [
       "array([ 44, 100,  66,  77])"
      ]
     },
     "execution_count": 90,
     "metadata": {},
     "output_type": "execute_result"
    }
   ],
   "source": [
    "ar[(0,1,2,0),(1,2,1,3)]"
   ]
  },
  {
   "cell_type": "code",
   "execution_count": 91,
   "id": "6657d8ba-2cb4-4e14-b5cc-0ee7bb3c2853",
   "metadata": {},
   "outputs": [
    {
     "data": {
      "text/plain": [
       "array([ 44, 100,  66,  77])"
      ]
     },
     "execution_count": 91,
     "metadata": {},
     "output_type": "execute_result"
    }
   ],
   "source": [
    "ar[[0,1,2,0],[1,2,1,3]]"
   ]
  },
  {
   "cell_type": "code",
   "execution_count": 92,
   "id": "ab5c163e-affa-47f5-b7b3-c249edf2f932",
   "metadata": {},
   "outputs": [
    {
     "data": {
      "text/plain": [
       "array([[  1,  44,  66,  77],\n",
       "       [ 88,  99, 100, 102],\n",
       "       [ 55,  66,  77,  88]])"
      ]
     },
     "execution_count": 92,
     "metadata": {},
     "output_type": "execute_result"
    }
   ],
   "source": [
    "ar"
   ]
  },
  {
   "cell_type": "code",
   "execution_count": 93,
   "id": "66cff114-2ec7-4e1c-a72f-bef04a2a5d0e",
   "metadata": {},
   "outputs": [
    {
     "data": {
      "text/plain": [
       "array([ 78,  85,  15,   2,  99, 103,   3,   5,   6])"
      ]
     },
     "execution_count": 93,
     "metadata": {},
     "output_type": "execute_result"
    }
   ],
   "source": [
    "ar = np.array([78,85,15,2,99,103,3,5,6])\n",
    "ar"
   ]
  },
  {
   "cell_type": "code",
   "execution_count": 94,
   "id": "362132a6-13c7-4acb-9093-a811117b7630",
   "metadata": {},
   "outputs": [
    {
     "data": {
      "text/plain": [
       "array([  2,   3,   5,   6,  15,  78,  85,  99, 103])"
      ]
     },
     "execution_count": 94,
     "metadata": {},
     "output_type": "execute_result"
    }
   ],
   "source": [
    "np.sort(ar)"
   ]
  },
  {
   "cell_type": "code",
   "execution_count": 95,
   "id": "add5d2ef-5057-491c-a9f0-504f66f9558f",
   "metadata": {},
   "outputs": [
    {
     "data": {
      "text/plain": [
       "array([ 78,  85,  15,   2,  99, 103,   3,   5,   6])"
      ]
     },
     "execution_count": 95,
     "metadata": {},
     "output_type": "execute_result"
    }
   ],
   "source": [
    "ar"
   ]
  },
  {
   "cell_type": "code",
   "execution_count": 96,
   "id": "86c14503-f727-49c5-9b15-72c1fb0ba00f",
   "metadata": {},
   "outputs": [
    {
     "data": {
      "text/plain": [
       "array([  2,   3,   5,   6,  15,  78,  85,  99, 103])"
      ]
     },
     "execution_count": 96,
     "metadata": {},
     "output_type": "execute_result"
    }
   ],
   "source": [
    "np.sort(ar,axis=-1,kind=None,order=None)"
   ]
  },
  {
   "cell_type": "code",
   "execution_count": 97,
   "id": "dca45e1f-e60e-4c2d-b2ad-4d777d34b888",
   "metadata": {},
   "outputs": [
    {
     "data": {
      "text/plain": [
       "array([  2,   3,   5,   6,  15,  78,  85,  99, 103])"
      ]
     },
     "execution_count": 97,
     "metadata": {},
     "output_type": "execute_result"
    }
   ],
   "source": [
    "np.sort(ar,axis=-1,kind=\"quicksort\",order=None)"
   ]
  },
  {
   "cell_type": "code",
   "execution_count": 98,
   "id": "e9d1147a-5a7c-40d1-81c6-474f5032aefc",
   "metadata": {},
   "outputs": [
    {
     "data": {
      "text/plain": [
       "array([[  5,  45],\n",
       "       [  3, 100]])"
      ]
     },
     "execution_count": 98,
     "metadata": {},
     "output_type": "execute_result"
    }
   ],
   "source": [
    "ar = np.array([[5,45],[3,100]])\n",
    "ar"
   ]
  },
  {
   "cell_type": "code",
   "execution_count": 99,
   "id": "f291ed2b-97ea-425f-8946-43d4040ae66e",
   "metadata": {},
   "outputs": [
    {
     "data": {
      "text/plain": [
       "array([[  5,  45],\n",
       "       [  3, 100]])"
      ]
     },
     "execution_count": 99,
     "metadata": {},
     "output_type": "execute_result"
    }
   ],
   "source": [
    "np.sort(ar)"
   ]
  },
  {
   "cell_type": "code",
   "execution_count": 100,
   "id": "db0e3641-9107-41db-b7f2-6f1cdc3b924d",
   "metadata": {},
   "outputs": [
    {
     "data": {
      "text/plain": [
       "array([[  5,  45],\n",
       "       [  3, 100]])"
      ]
     },
     "execution_count": 100,
     "metadata": {},
     "output_type": "execute_result"
    }
   ],
   "source": [
    "np.sort(ar,axis=1)"
   ]
  },
  {
   "cell_type": "code",
   "execution_count": 101,
   "id": "9f05383b-2850-445f-93c4-23509a42984e",
   "metadata": {},
   "outputs": [
    {
     "data": {
      "text/plain": [
       "array([[  3,  45],\n",
       "       [  5, 100]])"
      ]
     },
     "execution_count": 101,
     "metadata": {},
     "output_type": "execute_result"
    }
   ],
   "source": [
    "np.sort(ar,axis=0)"
   ]
  },
  {
   "cell_type": "code",
   "execution_count": 102,
   "id": "1ceec3dc-a761-4804-9f43-433622963976",
   "metadata": {},
   "outputs": [
    {
     "data": {
      "text/plain": [
       "array([  3,   5,  45, 100])"
      ]
     },
     "execution_count": 102,
     "metadata": {},
     "output_type": "execute_result"
    }
   ],
   "source": [
    "np.sort(ar,axis=None)"
   ]
  },
  {
   "cell_type": "code",
   "execution_count": 103,
   "id": "a8a7bc32-c7d4-4db6-8421-db7720979ce1",
   "metadata": {},
   "outputs": [],
   "source": [
    "dtype = [(\"name\",\"S10\"),(\"height\",float),(\"age\",int)]"
   ]
  },
  {
   "cell_type": "code",
   "execution_count": 104,
   "id": "8d0df1a1-a875-4523-abbc-f1ee7d452552",
   "metadata": {},
   "outputs": [],
   "source": [
    "values = [(\"sam\",1.81,22),(\"vibhour\",1.75,21),(\"rohit\",1.66,25)]"
   ]
  },
  {
   "cell_type": "code",
   "execution_count": 105,
   "id": "9781cffa-c317-44ee-a71b-85ae647ccf87",
   "metadata": {},
   "outputs": [
    {
     "data": {
      "text/plain": [
       "array([(b'sam', 1.81, 22), (b'vibhour', 1.75, 21), (b'rohit', 1.66, 25)],\n",
       "      dtype=[('name', 'S10'), ('height', '<f8'), ('age', '<i8')])"
      ]
     },
     "execution_count": 105,
     "metadata": {},
     "output_type": "execute_result"
    }
   ],
   "source": [
    "a = np.array(values,dtype=dtype)\n",
    "a"
   ]
  },
  {
   "cell_type": "code",
   "execution_count": 106,
   "id": "3a3fecc0-34e0-4069-ae99-3ecfef0bfca7",
   "metadata": {},
   "outputs": [
    {
     "data": {
      "text/plain": [
       "array([(b'rohit', 1.66, 25), (b'sam', 1.81, 22), (b'vibhour', 1.75, 21)],\n",
       "      dtype=[('name', 'S10'), ('height', '<f8'), ('age', '<i8')])"
      ]
     },
     "execution_count": 106,
     "metadata": {},
     "output_type": "execute_result"
    }
   ],
   "source": [
    "np.sort(a)"
   ]
  },
  {
   "cell_type": "code",
   "execution_count": 107,
   "id": "53ec2e76-4d06-4e6a-a079-1238203edb57",
   "metadata": {},
   "outputs": [
    {
     "data": {
      "text/plain": [
       "array([(b'rohit', 1.66, 25), (b'vibhour', 1.75, 21), (b'sam', 1.81, 22)],\n",
       "      dtype=[('name', 'S10'), ('height', '<f8'), ('age', '<i8')])"
      ]
     },
     "execution_count": 107,
     "metadata": {},
     "output_type": "execute_result"
    }
   ],
   "source": [
    "np.sort(a,order=\"height\")"
   ]
  },
  {
   "cell_type": "code",
   "execution_count": 108,
   "id": "8b0fab88-007d-4097-88b4-5772d1d45ccf",
   "metadata": {},
   "outputs": [
    {
     "data": {
      "text/plain": [
       "array([(b'vibhour', 1.75, 21), (b'sam', 1.81, 22), (b'rohit', 1.66, 25)],\n",
       "      dtype=[('name', 'S10'), ('height', '<f8'), ('age', '<i8')])"
      ]
     },
     "execution_count": 108,
     "metadata": {},
     "output_type": "execute_result"
    }
   ],
   "source": [
    "np.sort(a,order=\"age\")"
   ]
  },
  {
   "cell_type": "code",
   "execution_count": 109,
   "id": "c9e9b8f4-50e4-46bd-9263-335ed1c46fe5",
   "metadata": {},
   "outputs": [
    {
     "data": {
      "text/plain": [
       "array([(b'rohit', 1.66, 25), (b'sam', 1.81, 22), (b'vibhour', 1.75, 21)],\n",
       "      dtype=[('name', 'S10'), ('height', '<f8'), ('age', '<i8')])"
      ]
     },
     "execution_count": 109,
     "metadata": {},
     "output_type": "execute_result"
    }
   ],
   "source": [
    "np.sort(a,order=\"name\")"
   ]
  },
  {
   "cell_type": "code",
   "execution_count": 110,
   "id": "9554eed1-989c-420a-9584-d578e99a8ef5",
   "metadata": {},
   "outputs": [
    {
     "data": {
      "text/plain": [
       "array([[  5,  45],\n",
       "       [  3, 100]])"
      ]
     },
     "execution_count": 110,
     "metadata": {},
     "output_type": "execute_result"
    }
   ],
   "source": [
    "ar"
   ]
  },
  {
   "cell_type": "code",
   "execution_count": 111,
   "id": "0d46b1fc-3762-4ae0-99c5-6de2c4311598",
   "metadata": {},
   "outputs": [
    {
     "data": {
      "text/plain": [
       "array([[0, 1],\n",
       "       [0, 1]])"
      ]
     },
     "execution_count": 111,
     "metadata": {},
     "output_type": "execute_result"
    }
   ],
   "source": [
    "np.argsort(ar)"
   ]
  },
  {
   "cell_type": "code",
   "execution_count": 112,
   "id": "fb924802-072f-4a53-97c6-bf50dc57a029",
   "metadata": {},
   "outputs": [
    {
     "data": {
      "text/plain": [
       "array([[ 45,  55,  66],\n",
       "       [ 77,  48, 100]])"
      ]
     },
     "execution_count": 112,
     "metadata": {},
     "output_type": "execute_result"
    }
   ],
   "source": [
    "ar = np.array([[45,55,66],[77,48,100]])\n",
    "ar"
   ]
  },
  {
   "cell_type": "code",
   "execution_count": 113,
   "id": "5efa9089-56e9-425d-9648-997a749b7a5e",
   "metadata": {},
   "outputs": [
    {
     "data": {
      "text/plain": [
       "array([[0, 1, 2],\n",
       "       [1, 0, 2]])"
      ]
     },
     "execution_count": 113,
     "metadata": {},
     "output_type": "execute_result"
    }
   ],
   "source": [
    "np.argsort(ar)"
   ]
  },
  {
   "cell_type": "code",
   "execution_count": 114,
   "id": "2732373e-8708-4308-9a64-8dd5d9fc1876",
   "metadata": {},
   "outputs": [
    {
     "data": {
      "text/plain": [
       "array([[ 45,  55,  66],\n",
       "       [ 77,  48, 100]])"
      ]
     },
     "execution_count": 114,
     "metadata": {},
     "output_type": "execute_result"
    }
   ],
   "source": [
    "ar"
   ]
  },
  {
   "cell_type": "code",
   "execution_count": 115,
   "id": "76df0735-0301-4cba-b015-7dc4047eff47",
   "metadata": {},
   "outputs": [
    {
     "data": {
      "text/plain": [
       "array([[ 45,  55,  66],\n",
       "       [ 48,  77, 100]])"
      ]
     },
     "execution_count": 115,
     "metadata": {},
     "output_type": "execute_result"
    }
   ],
   "source": [
    "ar.sort()\n",
    "ar"
   ]
  },
  {
   "cell_type": "code",
   "execution_count": 116,
   "id": "58cd6482-3cc0-4c40-ab95-f0897b07f716",
   "metadata": {},
   "outputs": [
    {
     "data": {
      "text/plain": [
       "array([[ 45,  55,  66],\n",
       "       [ 77,  48, 100]])"
      ]
     },
     "execution_count": 116,
     "metadata": {},
     "output_type": "execute_result"
    }
   ],
   "source": [
    "ar = np.array([[45,55,66],[77,48,100]])\n",
    "ar"
   ]
  },
  {
   "cell_type": "code",
   "execution_count": 117,
   "id": "33c57b16-bd60-4ca5-bf13-958138efca19",
   "metadata": {},
   "outputs": [
    {
     "data": {
      "text/plain": [
       "array([[ 45,  55,  66],\n",
       "       [ 48,  77, 100]])"
      ]
     },
     "execution_count": 117,
     "metadata": {},
     "output_type": "execute_result"
    }
   ],
   "source": [
    "np.sort(ar)"
   ]
  },
  {
   "cell_type": "code",
   "execution_count": 118,
   "id": "5b806969-6c97-4e1e-89e7-fe3efdd0277e",
   "metadata": {},
   "outputs": [
    {
     "data": {
      "text/plain": [
       "array([[ 45,  55,  66],\n",
       "       [ 77,  48, 100]])"
      ]
     },
     "execution_count": 118,
     "metadata": {},
     "output_type": "execute_result"
    }
   ],
   "source": [
    "ar"
   ]
  },
  {
   "cell_type": "code",
   "execution_count": 119,
   "id": "8ff9e7d6-95ba-4fca-b919-c7c541465609",
   "metadata": {},
   "outputs": [],
   "source": [
    "ar.sort()"
   ]
  },
  {
   "cell_type": "code",
   "execution_count": 120,
   "id": "204535ca-cbe8-4807-8c07-85f64898acae",
   "metadata": {},
   "outputs": [
    {
     "data": {
      "text/plain": [
       "array([[ 45,  55,  66],\n",
       "       [ 48,  77, 100]])"
      ]
     },
     "execution_count": 120,
     "metadata": {},
     "output_type": "execute_result"
    }
   ],
   "source": [
    "ar"
   ]
  },
  {
   "cell_type": "code",
   "execution_count": 121,
   "id": "5cf79019-1c7a-4274-a276-94ff71befcab",
   "metadata": {},
   "outputs": [],
   "source": [
    "import numpy as np\n",
    "a = np.array([78,88,99,44])\n",
    "b = np.array([5,6,7,8])"
   ]
  },
  {
   "cell_type": "code",
   "execution_count": 122,
   "id": "8f302c29-56a1-44b4-be09-095ab6438418",
   "metadata": {},
   "outputs": [
    {
     "data": {
      "text/plain": [
       "array([78, 88, 99, 44])"
      ]
     },
     "execution_count": 122,
     "metadata": {},
     "output_type": "execute_result"
    }
   ],
   "source": [
    "a"
   ]
  },
  {
   "cell_type": "code",
   "execution_count": 123,
   "id": "82612a11-3691-472c-9e33-c6d6405c754e",
   "metadata": {},
   "outputs": [
    {
     "data": {
      "text/plain": [
       "array([5, 6, 7, 8])"
      ]
     },
     "execution_count": 123,
     "metadata": {},
     "output_type": "execute_result"
    }
   ],
   "source": [
    "b"
   ]
  },
  {
   "cell_type": "code",
   "execution_count": 124,
   "id": "6d3ca7ee-35c8-45f9-a498-f0ca2bfb3ec1",
   "metadata": {},
   "outputs": [
    {
     "data": {
      "text/plain": [
       "array([78, 88, 99, 44,  5,  6,  7,  8])"
      ]
     },
     "execution_count": 124,
     "metadata": {},
     "output_type": "execute_result"
    }
   ],
   "source": [
    "np.concatenate((a,b))"
   ]
  },
  {
   "cell_type": "code",
   "execution_count": 125,
   "id": "a7aac1ba-d4e9-4628-a474-eb061e85725d",
   "metadata": {},
   "outputs": [
    {
     "data": {
      "text/plain": [
       "array([[78, 88, 99, 44],\n",
       "       [ 5,  6,  7,  8]])"
      ]
     },
     "execution_count": 125,
     "metadata": {},
     "output_type": "execute_result"
    }
   ],
   "source": [
    "np.stack((a,b))"
   ]
  },
  {
   "cell_type": "code",
   "execution_count": 126,
   "id": "15c01d71-76ed-4e31-b65b-32fe07051df8",
   "metadata": {},
   "outputs": [],
   "source": [
    "x = np.array([[4,5,6,7],[8,9,10,11]])\n",
    "y = np.array([[11,12,23,44]])"
   ]
  },
  {
   "cell_type": "code",
   "execution_count": 127,
   "id": "ade85bf9-0f7e-4be9-9b14-fc18ee7efd08",
   "metadata": {},
   "outputs": [
    {
     "data": {
      "text/plain": [
       "array([[ 4,  5,  6,  7],\n",
       "       [ 8,  9, 10, 11]])"
      ]
     },
     "execution_count": 127,
     "metadata": {},
     "output_type": "execute_result"
    }
   ],
   "source": [
    "x"
   ]
  },
  {
   "cell_type": "code",
   "execution_count": 128,
   "id": "6de5d969-9e67-41c4-9658-14591a11a3e4",
   "metadata": {},
   "outputs": [
    {
     "data": {
      "text/plain": [
       "array([[11, 12, 23, 44]])"
      ]
     },
     "execution_count": 128,
     "metadata": {},
     "output_type": "execute_result"
    }
   ],
   "source": [
    "y"
   ]
  },
  {
   "cell_type": "code",
   "execution_count": 129,
   "id": "473043f9-dcbc-469d-a10f-be24c05b16e5",
   "metadata": {},
   "outputs": [
    {
     "data": {
      "text/plain": [
       "array([[ 4,  5,  6,  7],\n",
       "       [ 8,  9, 10, 11],\n",
       "       [11, 12, 23, 44]])"
      ]
     },
     "execution_count": 129,
     "metadata": {},
     "output_type": "execute_result"
    }
   ],
   "source": [
    "np.concatenate((x,y))"
   ]
  },
  {
   "cell_type": "code",
   "execution_count": 130,
   "id": "78e6d96e-a80e-473f-afd4-5b994aed64b2",
   "metadata": {},
   "outputs": [
    {
     "ename": "ValueError",
     "evalue": "all input arrays must have the same shape",
     "output_type": "error",
     "traceback": [
      "\u001b[1;31m---------------------------------------------------------------------------\u001b[0m",
      "\u001b[1;31mValueError\u001b[0m                                Traceback (most recent call last)",
      "Cell \u001b[1;32mIn[130], line 1\u001b[0m\n\u001b[1;32m----> 1\u001b[0m np\u001b[38;5;241m.\u001b[39mstack((x,y),axis\u001b[38;5;241m=\u001b[39m\u001b[38;5;241m0\u001b[39m)\n",
      "File \u001b[1;32m~\\AppData\\Roaming\\Python\\Python311\\site-packages\\numpy\\_core\\shape_base.py:448\u001b[0m, in \u001b[0;36mstack\u001b[1;34m(arrays, axis, out, dtype, casting)\u001b[0m\n\u001b[0;32m    446\u001b[0m shapes \u001b[38;5;241m=\u001b[39m {arr\u001b[38;5;241m.\u001b[39mshape \u001b[38;5;28;01mfor\u001b[39;00m arr \u001b[38;5;129;01min\u001b[39;00m arrays}\n\u001b[0;32m    447\u001b[0m \u001b[38;5;28;01mif\u001b[39;00m \u001b[38;5;28mlen\u001b[39m(shapes) \u001b[38;5;241m!=\u001b[39m \u001b[38;5;241m1\u001b[39m:\n\u001b[1;32m--> 448\u001b[0m     \u001b[38;5;28;01mraise\u001b[39;00m \u001b[38;5;167;01mValueError\u001b[39;00m(\u001b[38;5;124m'\u001b[39m\u001b[38;5;124mall input arrays must have the same shape\u001b[39m\u001b[38;5;124m'\u001b[39m)\n\u001b[0;32m    450\u001b[0m result_ndim \u001b[38;5;241m=\u001b[39m arrays[\u001b[38;5;241m0\u001b[39m]\u001b[38;5;241m.\u001b[39mndim \u001b[38;5;241m+\u001b[39m \u001b[38;5;241m1\u001b[39m\n\u001b[0;32m    451\u001b[0m axis \u001b[38;5;241m=\u001b[39m normalize_axis_index(axis, result_ndim)\n",
      "\u001b[1;31mValueError\u001b[0m: all input arrays must have the same shape"
     ]
    }
   ],
   "source": [
    "np.stack((x,y),axis=0)"
   ]
  },
  {
   "cell_type": "code",
   "execution_count": 132,
   "id": "60437364-55be-42cc-b960-81c8bc62af51",
   "metadata": {},
   "outputs": [
    {
     "ename": "TypeError",
     "evalue": "hstack() got an unexpected keyword argument 'axis'",
     "output_type": "error",
     "traceback": [
      "\u001b[1;31m---------------------------------------------------------------------------\u001b[0m",
      "\u001b[1;31mTypeError\u001b[0m                                 Traceback (most recent call last)",
      "Cell \u001b[1;32mIn[132], line 1\u001b[0m\n\u001b[1;32m----> 1\u001b[0m np\u001b[38;5;241m.\u001b[39mhstack((x,y),axis\u001b[38;5;241m=\u001b[39m\u001b[38;5;241m0\u001b[39m)\n",
      "\u001b[1;31mTypeError\u001b[0m: hstack() got an unexpected keyword argument 'axis'"
     ]
    }
   ],
   "source": [
    "np.hstack((x,y),axis=0)"
   ]
  },
  {
   "cell_type": "code",
   "execution_count": 133,
   "id": "e859e456-4796-447c-8200-3d24e910716d",
   "metadata": {},
   "outputs": [
    {
     "data": {
      "text/plain": [
       "array([[ 4,  5,  6,  7],\n",
       "       [ 8,  9, 10, 11],\n",
       "       [11, 12, 23, 44]])"
      ]
     },
     "execution_count": 133,
     "metadata": {},
     "output_type": "execute_result"
    }
   ],
   "source": [
    "np.vstack((x,y))"
   ]
  },
  {
   "cell_type": "code",
   "execution_count": 134,
   "id": "b2462fc3-8130-4963-8b64-a124ad50e531",
   "metadata": {},
   "outputs": [
    {
     "ename": "ValueError",
     "evalue": "all the input array dimensions except for the concatenation axis must match exactly, but along dimension 0, the array at index 0 has size 2 and the array at index 1 has size 1",
     "output_type": "error",
     "traceback": [
      "\u001b[1;31m---------------------------------------------------------------------------\u001b[0m",
      "\u001b[1;31mValueError\u001b[0m                                Traceback (most recent call last)",
      "Cell \u001b[1;32mIn[134], line 1\u001b[0m\n\u001b[1;32m----> 1\u001b[0m np\u001b[38;5;241m.\u001b[39mhstack((x,y))\n",
      "File \u001b[1;32m~\\AppData\\Roaming\\Python\\Python311\\site-packages\\numpy\\_core\\shape_base.py:358\u001b[0m, in \u001b[0;36mhstack\u001b[1;34m(tup, dtype, casting)\u001b[0m\n\u001b[0;32m    356\u001b[0m     \u001b[38;5;28;01mreturn\u001b[39;00m _nx\u001b[38;5;241m.\u001b[39mconcatenate(arrs, \u001b[38;5;241m0\u001b[39m, dtype\u001b[38;5;241m=\u001b[39mdtype, casting\u001b[38;5;241m=\u001b[39mcasting)\n\u001b[0;32m    357\u001b[0m \u001b[38;5;28;01melse\u001b[39;00m:\n\u001b[1;32m--> 358\u001b[0m     \u001b[38;5;28;01mreturn\u001b[39;00m _nx\u001b[38;5;241m.\u001b[39mconcatenate(arrs, \u001b[38;5;241m1\u001b[39m, dtype\u001b[38;5;241m=\u001b[39mdtype, casting\u001b[38;5;241m=\u001b[39mcasting)\n",
      "\u001b[1;31mValueError\u001b[0m: all the input array dimensions except for the concatenation axis must match exactly, but along dimension 0, the array at index 0 has size 2 and the array at index 1 has size 1"
     ]
    }
   ],
   "source": [
    "np.hstack((x,y))"
   ]
  },
  {
   "cell_type": "code",
   "execution_count": 135,
   "id": "c73c2e11-2310-4504-b565-a2be3db1498d",
   "metadata": {},
   "outputs": [],
   "source": [
    "x = np.array([[4,5,6,7],[8,9,10,11]])\n",
    "y = np.array([[11,12,23,44],[55,66,77,88]])"
   ]
  },
  {
   "cell_type": "code",
   "execution_count": 136,
   "id": "91f7c0a0-0538-47aa-81bb-d8a8f7a119fd",
   "metadata": {},
   "outputs": [
    {
     "data": {
      "text/plain": [
       "array([[ 4,  5,  6,  7],\n",
       "       [ 8,  9, 10, 11]])"
      ]
     },
     "execution_count": 136,
     "metadata": {},
     "output_type": "execute_result"
    }
   ],
   "source": [
    "x"
   ]
  },
  {
   "cell_type": "code",
   "execution_count": 137,
   "id": "9ea95030-505e-4b19-a56b-efb24e64be09",
   "metadata": {},
   "outputs": [
    {
     "data": {
      "text/plain": [
       "array([[11, 12, 23, 44],\n",
       "       [55, 66, 77, 88]])"
      ]
     },
     "execution_count": 137,
     "metadata": {},
     "output_type": "execute_result"
    }
   ],
   "source": [
    "y"
   ]
  },
  {
   "cell_type": "code",
   "execution_count": 138,
   "id": "69829b82-6e24-47e1-a7ad-cb828148acaf",
   "metadata": {},
   "outputs": [
    {
     "data": {
      "text/plain": [
       "array([[ 4,  5,  6,  7],\n",
       "       [ 8,  9, 10, 11],\n",
       "       [11, 12, 23, 44],\n",
       "       [55, 66, 77, 88]])"
      ]
     },
     "execution_count": 138,
     "metadata": {},
     "output_type": "execute_result"
    }
   ],
   "source": [
    "np.concatenate((x,y))"
   ]
  },
  {
   "cell_type": "code",
   "execution_count": 139,
   "id": "a8333e6e-5d2e-4a73-8487-d3f8396da6c6",
   "metadata": {},
   "outputs": [
    {
     "data": {
      "text/plain": [
       "array([[ 4,  5,  6,  7],\n",
       "       [ 8,  9, 10, 11],\n",
       "       [11, 12, 23, 44],\n",
       "       [55, 66, 77, 88]])"
      ]
     },
     "execution_count": 139,
     "metadata": {},
     "output_type": "execute_result"
    }
   ],
   "source": [
    "np.concatenate((x,y),axis=0)"
   ]
  },
  {
   "cell_type": "code",
   "execution_count": 140,
   "id": "e0e18d0f-cab1-4030-816e-6747066ba354",
   "metadata": {},
   "outputs": [
    {
     "data": {
      "text/plain": [
       "array([[ 4,  5,  6,  7, 11, 12, 23, 44],\n",
       "       [ 8,  9, 10, 11, 55, 66, 77, 88]])"
      ]
     },
     "execution_count": 140,
     "metadata": {},
     "output_type": "execute_result"
    }
   ],
   "source": [
    "np.concatenate((x,y),axis=1)"
   ]
  },
  {
   "cell_type": "code",
   "execution_count": 141,
   "id": "cab7e230-f32a-4768-a602-6d64ceed4c82",
   "metadata": {},
   "outputs": [
    {
     "data": {
      "text/plain": [
       "array([[[ 4,  5,  6,  7],\n",
       "        [ 8,  9, 10, 11]],\n",
       "\n",
       "       [[11, 12, 23, 44],\n",
       "        [55, 66, 77, 88]]])"
      ]
     },
     "execution_count": 141,
     "metadata": {},
     "output_type": "execute_result"
    }
   ],
   "source": [
    "np.stack((x,y))"
   ]
  },
  {
   "cell_type": "code",
   "execution_count": 142,
   "id": "917a5541-2302-49bc-b476-6e831db15207",
   "metadata": {},
   "outputs": [
    {
     "data": {
      "text/plain": [
       "array([[ 4,  5,  6,  7, 11, 12, 23, 44],\n",
       "       [ 8,  9, 10, 11, 55, 66, 77, 88]])"
      ]
     },
     "execution_count": 142,
     "metadata": {},
     "output_type": "execute_result"
    }
   ],
   "source": [
    "np.hstack((x,y))"
   ]
  },
  {
   "cell_type": "code",
   "execution_count": 143,
   "id": "b2694e0d-d759-4b6c-874e-56cd029338a2",
   "metadata": {},
   "outputs": [
    {
     "data": {
      "text/plain": [
       "array([[ 4,  5,  6,  7],\n",
       "       [ 8,  9, 10, 11],\n",
       "       [11, 12, 23, 44],\n",
       "       [55, 66, 77, 88]])"
      ]
     },
     "execution_count": 143,
     "metadata": {},
     "output_type": "execute_result"
    }
   ],
   "source": [
    "np.vstack((x,y))"
   ]
  },
  {
   "cell_type": "code",
   "execution_count": 144,
   "id": "e07b2a1a-7dc4-4fdd-bdf1-0c7f7cb24b90",
   "metadata": {},
   "outputs": [
    {
     "data": {
      "text/plain": [
       "array([[[ 4,  5,  6,  7],\n",
       "        [ 8,  9, 10, 11]],\n",
       "\n",
       "       [[11, 12, 23, 44],\n",
       "        [55, 66, 77, 88]]])"
      ]
     },
     "execution_count": 144,
     "metadata": {},
     "output_type": "execute_result"
    }
   ],
   "source": [
    "np.stack((x,y),axis=0)"
   ]
  },
  {
   "cell_type": "code",
   "execution_count": 145,
   "id": "b545d19e-519d-4cc6-a203-88b053b2b2f5",
   "metadata": {},
   "outputs": [
    {
     "data": {
      "text/plain": [
       "array([[[ 4,  5,  6,  7],\n",
       "        [11, 12, 23, 44]],\n",
       "\n",
       "       [[ 8,  9, 10, 11],\n",
       "        [55, 66, 77, 88]]])"
      ]
     },
     "execution_count": 145,
     "metadata": {},
     "output_type": "execute_result"
    }
   ],
   "source": [
    "np.stack((x,y),axis=1)"
   ]
  },
  {
   "cell_type": "code",
   "execution_count": 146,
   "id": "0062ae99-c866-4ba3-93cf-cbe270250ad6",
   "metadata": {},
   "outputs": [
    {
     "ename": "TypeError",
     "evalue": "hstack() got an unexpected keyword argument 'axis'",
     "output_type": "error",
     "traceback": [
      "\u001b[1;31m---------------------------------------------------------------------------\u001b[0m",
      "\u001b[1;31mTypeError\u001b[0m                                 Traceback (most recent call last)",
      "Cell \u001b[1;32mIn[146], line 1\u001b[0m\n\u001b[1;32m----> 1\u001b[0m np\u001b[38;5;241m.\u001b[39mhstack((x,y),axis\u001b[38;5;241m=\u001b[39m\u001b[38;5;241m1\u001b[39m)\n",
      "\u001b[1;31mTypeError\u001b[0m: hstack() got an unexpected keyword argument 'axis'"
     ]
    }
   ],
   "source": [
    "np.hstack((x,y),axis=1)"
   ]
  },
  {
   "cell_type": "code",
   "execution_count": 147,
   "id": "1dae3ec2-2e1e-46f4-9cc1-1f362b651e03",
   "metadata": {},
   "outputs": [
    {
     "ename": "TypeError",
     "evalue": "hstack() got an unexpected keyword argument 'axis'",
     "output_type": "error",
     "traceback": [
      "\u001b[1;31m---------------------------------------------------------------------------\u001b[0m",
      "\u001b[1;31mTypeError\u001b[0m                                 Traceback (most recent call last)",
      "Cell \u001b[1;32mIn[147], line 1\u001b[0m\n\u001b[1;32m----> 1\u001b[0m np\u001b[38;5;241m.\u001b[39mhstack((x,y),axis\u001b[38;5;241m=\u001b[39m\u001b[38;5;241m0\u001b[39m)\n",
      "\u001b[1;31mTypeError\u001b[0m: hstack() got an unexpected keyword argument 'axis'"
     ]
    }
   ],
   "source": [
    "np.hstack((x,y),axis=0)"
   ]
  },
  {
   "cell_type": "code",
   "execution_count": 148,
   "id": "dbb0440f-673f-4359-8a67-145cb84edc4f",
   "metadata": {},
   "outputs": [
    {
     "ename": "TypeError",
     "evalue": "vstack() got an unexpected keyword argument 'axis'",
     "output_type": "error",
     "traceback": [
      "\u001b[1;31m---------------------------------------------------------------------------\u001b[0m",
      "\u001b[1;31mTypeError\u001b[0m                                 Traceback (most recent call last)",
      "Cell \u001b[1;32mIn[148], line 1\u001b[0m\n\u001b[1;32m----> 1\u001b[0m np\u001b[38;5;241m.\u001b[39mvstack((x,y),axis\u001b[38;5;241m=\u001b[39m\u001b[38;5;241m1\u001b[39m)\n",
      "\u001b[1;31mTypeError\u001b[0m: vstack() got an unexpected keyword argument 'axis'"
     ]
    }
   ],
   "source": [
    "np.vstack((x,y),axis=1)"
   ]
  },
  {
   "cell_type": "code",
   "execution_count": 149,
   "id": "f8d4768d-c441-45a1-9d44-3a4a466a44f4",
   "metadata": {},
   "outputs": [
    {
     "ename": "TypeError",
     "evalue": "vstack() got an unexpected keyword argument 'axis'",
     "output_type": "error",
     "traceback": [
      "\u001b[1;31m---------------------------------------------------------------------------\u001b[0m",
      "\u001b[1;31mTypeError\u001b[0m                                 Traceback (most recent call last)",
      "Cell \u001b[1;32mIn[149], line 1\u001b[0m\n\u001b[1;32m----> 1\u001b[0m np\u001b[38;5;241m.\u001b[39mvstack((x,y),axis\u001b[38;5;241m=\u001b[39m\u001b[38;5;241m0\u001b[39m)\n",
      "\u001b[1;31mTypeError\u001b[0m: vstack() got an unexpected keyword argument 'axis'"
     ]
    }
   ],
   "source": [
    "np.vstack((x,y),axis=0)"
   ]
  },
  {
   "cell_type": "code",
   "execution_count": 150,
   "id": "a48c47b3-3422-4cb7-8ead-2f3acfc84f25",
   "metadata": {},
   "outputs": [
    {
     "data": {
      "text/plain": [
       "array([[[ 4,  5,  6,  7],\n",
       "        [11, 12, 23, 44]],\n",
       "\n",
       "       [[ 8,  9, 10, 11],\n",
       "        [55, 66, 77, 88]]])"
      ]
     },
     "execution_count": 150,
     "metadata": {},
     "output_type": "execute_result"
    }
   ],
   "source": [
    "np.stack((x,y),axis=1)"
   ]
  },
  {
   "cell_type": "code",
   "execution_count": 151,
   "id": "0d3e2093-6274-4269-af86-d7ac16a34bed",
   "metadata": {},
   "outputs": [
    {
     "data": {
      "text/plain": [
       "array([[[ 4, 11],\n",
       "        [ 5, 12],\n",
       "        [ 6, 23],\n",
       "        [ 7, 44]],\n",
       "\n",
       "       [[ 8, 55],\n",
       "        [ 9, 66],\n",
       "        [10, 77],\n",
       "        [11, 88]]])"
      ]
     },
     "execution_count": 151,
     "metadata": {},
     "output_type": "execute_result"
    }
   ],
   "source": [
    "np.stack((x,y),axis=2)"
   ]
  },
  {
   "cell_type": "code",
   "execution_count": 152,
   "id": "1d3fc066-80e7-4c77-9c1a-b8f5e9dbf655",
   "metadata": {},
   "outputs": [
    {
     "data": {
      "text/plain": [
       "array([[ 4,  5,  6,  7],\n",
       "       [ 8,  9, 10, 11]])"
      ]
     },
     "execution_count": 152,
     "metadata": {},
     "output_type": "execute_result"
    }
   ],
   "source": [
    "x"
   ]
  },
  {
   "cell_type": "code",
   "execution_count": 153,
   "id": "2b793437-0f7d-49b9-b122-87382ede93b5",
   "metadata": {},
   "outputs": [
    {
     "data": {
      "text/plain": [
       "array([[11, 12, 23, 44],\n",
       "       [55, 66, 77, 88]])"
      ]
     },
     "execution_count": 153,
     "metadata": {},
     "output_type": "execute_result"
    }
   ],
   "source": [
    "y"
   ]
  },
  {
   "cell_type": "code",
   "execution_count": 154,
   "id": "ff69be60-d756-45dd-9f5b-cc081c141d71",
   "metadata": {},
   "outputs": [
    {
     "data": {
      "text/plain": [
       "array([[ 4,  5,  6,  7, 11, 12, 23, 44],\n",
       "       [ 8,  9, 10, 11, 55, 66, 77, 88]])"
      ]
     },
     "execution_count": 154,
     "metadata": {},
     "output_type": "execute_result"
    }
   ],
   "source": [
    "np.hstack((x,y))"
   ]
  },
  {
   "cell_type": "code",
   "execution_count": 155,
   "id": "09e3670a-d8f1-4415-b119-a8635170fc64",
   "metadata": {},
   "outputs": [
    {
     "data": {
      "text/plain": [
       "array([[ 4,  5,  6,  7],\n",
       "       [ 8,  9, 10, 11],\n",
       "       [11, 12, 23, 44],\n",
       "       [55, 66, 77, 88]])"
      ]
     },
     "execution_count": 155,
     "metadata": {},
     "output_type": "execute_result"
    }
   ],
   "source": [
    "np.vstack((x,y))"
   ]
  },
  {
   "cell_type": "code",
   "execution_count": 156,
   "id": "a269e487-c520-44cf-9e3c-62edddaac348",
   "metadata": {},
   "outputs": [
    {
     "data": {
      "text/plain": [
       "array([[[ 4, 11],\n",
       "        [ 5, 12],\n",
       "        [ 6, 23],\n",
       "        [ 7, 44]],\n",
       "\n",
       "       [[ 8, 55],\n",
       "        [ 9, 66],\n",
       "        [10, 77],\n",
       "        [11, 88]]])"
      ]
     },
     "execution_count": 156,
     "metadata": {},
     "output_type": "execute_result"
    }
   ],
   "source": [
    "np.dstack((x,y))"
   ]
  },
  {
   "cell_type": "code",
   "execution_count": 157,
   "id": "84d0e0b3-89c8-41e4-b07c-7553247b2c03",
   "metadata": {},
   "outputs": [
    {
     "data": {
      "text/plain": [
       "array([78, 88, 99, 44])"
      ]
     },
     "execution_count": 157,
     "metadata": {},
     "output_type": "execute_result"
    }
   ],
   "source": [
    "a"
   ]
  },
  {
   "cell_type": "code",
   "execution_count": 158,
   "id": "a95363a9-69b8-4de1-96f2-ed1915375a23",
   "metadata": {},
   "outputs": [
    {
     "data": {
      "text/plain": [
       "array([5, 6, 7, 8])"
      ]
     },
     "execution_count": 158,
     "metadata": {},
     "output_type": "execute_result"
    }
   ],
   "source": [
    "b"
   ]
  },
  {
   "cell_type": "code",
   "execution_count": 159,
   "id": "06930512-c2b9-426c-888b-42545b41815e",
   "metadata": {},
   "outputs": [
    {
     "data": {
      "text/plain": [
       "array([[[78,  5],\n",
       "        [88,  6],\n",
       "        [99,  7],\n",
       "        [44,  8]]])"
      ]
     },
     "execution_count": 159,
     "metadata": {},
     "output_type": "execute_result"
    }
   ],
   "source": [
    "np.dstack((a,b))"
   ]
  },
  {
   "cell_type": "code",
   "execution_count": 160,
   "id": "cde49801-3138-49c1-a241-2aa9b8d9a73c",
   "metadata": {},
   "outputs": [
    {
     "data": {
      "text/plain": [
       "array([[ 4,  5,  6,  7],\n",
       "       [ 8,  9, 10, 11],\n",
       "       [11, 12, 23, 44],\n",
       "       [55, 66, 77, 88]])"
      ]
     },
     "execution_count": 160,
     "metadata": {},
     "output_type": "execute_result"
    }
   ],
   "source": [
    "a = np.vstack((x,y))\n",
    "a"
   ]
  },
  {
   "cell_type": "code",
   "execution_count": 161,
   "id": "1277ec1e-5b13-428d-a254-966950923bd0",
   "metadata": {},
   "outputs": [
    {
     "data": {
      "text/plain": [
       "array([[[ 4,  5,  6,  7],\n",
       "        [11, 12, 23, 44]],\n",
       "\n",
       "       [[ 8,  9, 10, 11],\n",
       "        [55, 66, 77, 88]]])"
      ]
     },
     "execution_count": 161,
     "metadata": {},
     "output_type": "execute_result"
    }
   ],
   "source": [
    "b = np.stack((x,y),axis=1)\n",
    "b"
   ]
  },
  {
   "cell_type": "code",
   "execution_count": 162,
   "id": "39e22ea1-e947-4c9f-aa04-7ac52eb4d868",
   "metadata": {},
   "outputs": [
    {
     "data": {
      "text/plain": [
       "array([0., 1., 2., 3., 4., 5., 6., 7.])"
      ]
     },
     "execution_count": 162,
     "metadata": {},
     "output_type": "execute_result"
    }
   ],
   "source": [
    "x = np.arange(8.0)\n",
    "x"
   ]
  },
  {
   "cell_type": "code",
   "execution_count": null,
   "id": "ae30e97b-eca0-4ec6-90ed-66b21e5bedff",
   "metadata": {},
   "outputs": [],
   "source": []
  },
  {
   "cell_type": "markdown",
   "id": "c7df4d0c-e206-49a8-bfb3-9920d0f7f3d2",
   "metadata": {},
   "source": [
    "# DAY-5"
   ]
  },
  {
   "cell_type": "code",
   "execution_count": 5,
   "id": "3f55c334-8e0a-4191-bbd8-3ccfa0a5c740",
   "metadata": {},
   "outputs": [
    {
     "data": {
      "text/plain": [
       "array([0., 1., 2., 3., 4., 5., 6., 7.])"
      ]
     },
     "execution_count": 5,
     "metadata": {},
     "output_type": "execute_result"
    }
   ],
   "source": [
    "import numpy as np\n",
    "x=np.arange(8.0)\n",
    "x"
   ]
  },
  {
   "cell_type": "code",
   "execution_count": 6,
   "id": "6845b222-45b6-44e3-bd49-cb6058bf6364",
   "metadata": {},
   "outputs": [
    {
     "data": {
      "text/plain": [
       "[array([0., 1., 2., 3.]), array([4., 5., 6., 7.])]"
      ]
     },
     "execution_count": 6,
     "metadata": {},
     "output_type": "execute_result"
    }
   ],
   "source": [
    "# Spliting the array:-\n",
    "\n",
    "np.split(x,2)"
   ]
  },
  {
   "cell_type": "code",
   "execution_count": 7,
   "id": "3d70c2a4-0f1c-4115-9534-a7ec1d9227ff",
   "metadata": {},
   "outputs": [
    {
     "data": {
      "text/plain": [
       "[array([0., 1., 2.]), array([3., 4., 5.]), array([6., 7.])]"
      ]
     },
     "execution_count": 7,
     "metadata": {},
     "output_type": "execute_result"
    }
   ],
   "source": [
    "np.array_split(x,3)"
   ]
  },
  {
   "cell_type": "code",
   "execution_count": 8,
   "id": "0d3e6335-d805-47c0-a9b6-d9aaebee8744",
   "metadata": {},
   "outputs": [
    {
     "data": {
      "text/plain": [
       "array([0, 1, 2, 3, 4, 5, 6, 7, 8])"
      ]
     },
     "execution_count": 8,
     "metadata": {},
     "output_type": "execute_result"
    }
   ],
   "source": [
    "x=np.arange(9)\n",
    "x"
   ]
  },
  {
   "cell_type": "code",
   "execution_count": 9,
   "id": "c366002f-376a-4abd-876a-d0ff01e62f77",
   "metadata": {},
   "outputs": [
    {
     "data": {
      "text/plain": [
       "[array([0, 1, 2]), array([3, 4]), array([5, 6]), array([7, 8])]"
      ]
     },
     "execution_count": 9,
     "metadata": {},
     "output_type": "execute_result"
    }
   ],
   "source": [
    "np.array_split(x,4)"
   ]
  },
  {
   "cell_type": "code",
   "execution_count": 10,
   "id": "a16b1c5f-1531-4f35-b86f-8198eed17994",
   "metadata": {},
   "outputs": [
    {
     "data": {
      "text/plain": [
       "array([[ 0.,  1.,  2.,  3.],\n",
       "       [ 4.,  5.,  6.,  7.],\n",
       "       [ 8.,  9., 10., 11.],\n",
       "       [12., 13., 14., 15.]])"
      ]
     },
     "execution_count": 10,
     "metadata": {},
     "output_type": "execute_result"
    }
   ],
   "source": [
    "x=np.arange(16.0).reshape(4,4)\n",
    "x"
   ]
  },
  {
   "cell_type": "code",
   "execution_count": 11,
   "id": "925fd567-0a85-4a83-81e1-6a9a5e630365",
   "metadata": {},
   "outputs": [
    {
     "data": {
      "text/plain": [
       "[array([[ 0.,  1.],\n",
       "        [ 4.,  5.],\n",
       "        [ 8.,  9.],\n",
       "        [12., 13.]]),\n",
       " array([[ 2.,  3.],\n",
       "        [ 6.,  7.],\n",
       "        [10., 11.],\n",
       "        [14., 15.]])]"
      ]
     },
     "execution_count": 11,
     "metadata": {},
     "output_type": "execute_result"
    }
   ],
   "source": [
    "np.hsplit(x,2)"
   ]
  },
  {
   "cell_type": "code",
   "execution_count": 12,
   "id": "70a4cf49-ae92-447c-a9b4-ebda4cf8487c",
   "metadata": {},
   "outputs": [
    {
     "data": {
      "text/plain": [
       "[array([[0., 1., 2., 3.],\n",
       "        [4., 5., 6., 7.]]),\n",
       " array([[ 8.,  9., 10., 11.],\n",
       "        [12., 13., 14., 15.]])]"
      ]
     },
     "execution_count": 12,
     "metadata": {},
     "output_type": "execute_result"
    }
   ],
   "source": [
    "np.vsplit(x,2)"
   ]
  },
  {
   "cell_type": "code",
   "execution_count": 13,
   "id": "54a3fbc5-b417-435b-a35c-e4111e17b813",
   "metadata": {},
   "outputs": [
    {
     "data": {
      "text/plain": [
       "array([0, 1, 2, 3, 4, 5, 6, 7, 8])"
      ]
     },
     "execution_count": 13,
     "metadata": {},
     "output_type": "execute_result"
    }
   ],
   "source": [
    "x=np.arange(9)\n",
    "x"
   ]
  },
  {
   "cell_type": "code",
   "execution_count": 14,
   "id": "7e7306d5-01db-475d-ab7a-e2bd8d9cab35",
   "metadata": {},
   "outputs": [
    {
     "data": {
      "text/plain": [
       "[array([0, 1, 2]), array([3, 4, 5]), array([6, 7, 8])]"
      ]
     },
     "execution_count": 14,
     "metadata": {},
     "output_type": "execute_result"
    }
   ],
   "source": [
    "y=np.split(x,3)\n",
    "y"
   ]
  },
  {
   "cell_type": "code",
   "execution_count": 15,
   "id": "2be1ef4e-005f-4e0f-9e9a-c8b60a688447",
   "metadata": {},
   "outputs": [
    {
     "data": {
      "text/plain": [
       "[array([0, 1, 2]), array([3, 4, 5]), array([6, 7, 8])]"
      ]
     },
     "execution_count": 15,
     "metadata": {},
     "output_type": "execute_result"
    }
   ],
   "source": [
    "y=np.array_split(x,3)\n",
    "y"
   ]
  },
  {
   "cell_type": "code",
   "execution_count": 16,
   "id": "848ff5c7-e5dc-4ca9-8cf0-95d62608668e",
   "metadata": {},
   "outputs": [
    {
     "ename": "ValueError",
     "evalue": "array split does not result in an equal division",
     "output_type": "error",
     "traceback": [
      "\u001b[1;31m---------------------------------------------------------------------------\u001b[0m",
      "\u001b[1;31mValueError\u001b[0m                                Traceback (most recent call last)",
      "Cell \u001b[1;32mIn[16], line 1\u001b[0m\n\u001b[1;32m----> 1\u001b[0m np\u001b[38;5;241m.\u001b[39mhsplit(x,\u001b[38;5;241m2\u001b[39m)\n",
      "File \u001b[1;32m~\\AppData\\Roaming\\Python\\Python311\\site-packages\\numpy\\lib\\_shape_base_impl.py:950\u001b[0m, in \u001b[0;36mhsplit\u001b[1;34m(ary, indices_or_sections)\u001b[0m\n\u001b[0;32m    948\u001b[0m     \u001b[38;5;28;01mreturn\u001b[39;00m split(ary, indices_or_sections, \u001b[38;5;241m1\u001b[39m)\n\u001b[0;32m    949\u001b[0m \u001b[38;5;28;01melse\u001b[39;00m:\n\u001b[1;32m--> 950\u001b[0m     \u001b[38;5;28;01mreturn\u001b[39;00m split(ary, indices_or_sections, \u001b[38;5;241m0\u001b[39m)\n",
      "File \u001b[1;32m~\\AppData\\Roaming\\Python\\Python311\\site-packages\\numpy\\lib\\_shape_base_impl.py:874\u001b[0m, in \u001b[0;36msplit\u001b[1;34m(ary, indices_or_sections, axis)\u001b[0m\n\u001b[0;32m    872\u001b[0m     N \u001b[38;5;241m=\u001b[39m ary\u001b[38;5;241m.\u001b[39mshape[axis]\n\u001b[0;32m    873\u001b[0m     \u001b[38;5;28;01mif\u001b[39;00m N \u001b[38;5;241m%\u001b[39m sections:\n\u001b[1;32m--> 874\u001b[0m         \u001b[38;5;28;01mraise\u001b[39;00m \u001b[38;5;167;01mValueError\u001b[39;00m(\n\u001b[0;32m    875\u001b[0m             \u001b[38;5;124m'\u001b[39m\u001b[38;5;124marray split does not result in an equal division\u001b[39m\u001b[38;5;124m'\u001b[39m) \u001b[38;5;28;01mfrom\u001b[39;00m \u001b[38;5;28;01mNone\u001b[39;00m\n\u001b[0;32m    876\u001b[0m \u001b[38;5;28;01mreturn\u001b[39;00m array_split(ary, indices_or_sections, axis)\n",
      "\u001b[1;31mValueError\u001b[0m: array split does not result in an equal division"
     ]
    }
   ],
   "source": [
    "np.hsplit(x,2)\n",
    "\n",
    "# because the division is not equal."
   ]
  },
  {
   "cell_type": "code",
   "execution_count": 17,
   "id": "b9a73cc7-5a35-41a0-a6f1-9c2e59145ecc",
   "metadata": {},
   "outputs": [],
   "source": [
    "import numpy as np\n",
    "ar=np.array([45,55,66,77,85,23])\n",
    "copy=ar.copy()"
   ]
  },
  {
   "cell_type": "code",
   "execution_count": 18,
   "id": "d53a77fc-1613-499e-b162-a745007e9ef5",
   "metadata": {},
   "outputs": [
    {
     "data": {
      "text/plain": [
       "array([45, 55, 66, 77, 85, 23])"
      ]
     },
     "execution_count": 18,
     "metadata": {},
     "output_type": "execute_result"
    }
   ],
   "source": [
    "ar"
   ]
  },
  {
   "cell_type": "code",
   "execution_count": 19,
   "id": "75b618e3-210c-4d8f-8a00-31030b26a195",
   "metadata": {},
   "outputs": [
    {
     "data": {
      "text/plain": [
       "array([45, 55, 66, 77, 85, 23])"
      ]
     },
     "execution_count": 19,
     "metadata": {},
     "output_type": "execute_result"
    }
   ],
   "source": [
    "copy"
   ]
  },
  {
   "cell_type": "code",
   "execution_count": 20,
   "id": "85c16cb9-2743-4db0-a9f7-dc3644d9af87",
   "metadata": {},
   "outputs": [
    {
     "data": {
      "text/plain": [
       "2732697687152"
      ]
     },
     "execution_count": 20,
     "metadata": {},
     "output_type": "execute_result"
    }
   ],
   "source": [
    "id(ar)"
   ]
  },
  {
   "cell_type": "code",
   "execution_count": 21,
   "id": "2bcac990-fa38-40cf-918d-82363623652a",
   "metadata": {},
   "outputs": [
    {
     "data": {
      "text/plain": [
       "2732697687344"
      ]
     },
     "execution_count": 21,
     "metadata": {},
     "output_type": "execute_result"
    }
   ],
   "source": [
    "id(copy)"
   ]
  },
  {
   "cell_type": "code",
   "execution_count": 22,
   "id": "f967dd75-ec78-4bfb-9075-d99ebd43e195",
   "metadata": {},
   "outputs": [],
   "source": [
    "import numpy as np\n",
    "ar=np.array([45,55,66,77,85,23])\n",
    "view=ar.view()"
   ]
  },
  {
   "cell_type": "code",
   "execution_count": 23,
   "id": "15827939-6662-451c-b0d7-f29593436cdc",
   "metadata": {},
   "outputs": [
    {
     "data": {
      "text/plain": [
       "array([45, 55, 66, 77, 85, 23])"
      ]
     },
     "execution_count": 23,
     "metadata": {},
     "output_type": "execute_result"
    }
   ],
   "source": [
    "ar"
   ]
  },
  {
   "cell_type": "code",
   "execution_count": 24,
   "id": "1a8a0516-bc07-4af8-a7ca-773d2118b9ec",
   "metadata": {},
   "outputs": [
    {
     "data": {
      "text/plain": [
       "array([45, 55, 66, 77, 85, 23])"
      ]
     },
     "execution_count": 24,
     "metadata": {},
     "output_type": "execute_result"
    }
   ],
   "source": [
    "view"
   ]
  },
  {
   "cell_type": "code",
   "execution_count": 25,
   "id": "1ca5fe58-99c1-458f-a782-4b2aa2fbf1fa",
   "metadata": {},
   "outputs": [
    {
     "data": {
      "text/plain": [
       "2732697153392"
      ]
     },
     "execution_count": 25,
     "metadata": {},
     "output_type": "execute_result"
    }
   ],
   "source": [
    "id(ar)"
   ]
  },
  {
   "cell_type": "code",
   "execution_count": 26,
   "id": "ff1a079d-2729-4814-80fa-110b6c6aeec8",
   "metadata": {},
   "outputs": [
    {
     "data": {
      "text/plain": [
       "2732697683984"
      ]
     },
     "execution_count": 26,
     "metadata": {},
     "output_type": "execute_result"
    }
   ],
   "source": [
    "id(view)"
   ]
  },
  {
   "cell_type": "code",
   "execution_count": 2,
   "id": "ec91a99d-ff3b-4224-a647-44e2f5f13a8c",
   "metadata": {},
   "outputs": [],
   "source": [
    "import numpy as np\n",
    "ar=np.array([45,55,66,77,85,23])\n",
    "copy=ar.copy()\n",
    "ar[2]=59"
   ]
  },
  {
   "cell_type": "code",
   "execution_count": 3,
   "id": "d43c79d8-c6e3-4ed4-a571-c79780a00451",
   "metadata": {},
   "outputs": [
    {
     "data": {
      "text/plain": [
       "array([45, 55, 59, 77, 85, 23])"
      ]
     },
     "execution_count": 3,
     "metadata": {},
     "output_type": "execute_result"
    }
   ],
   "source": [
    "ar"
   ]
  },
  {
   "cell_type": "code",
   "execution_count": 4,
   "id": "a3e575b6-7207-4587-b210-0159d2c4d290",
   "metadata": {},
   "outputs": [
    {
     "data": {
      "text/plain": [
       "array([45, 55, 66, 77, 85, 23])"
      ]
     },
     "execution_count": 4,
     "metadata": {},
     "output_type": "execute_result"
    }
   ],
   "source": [
    "copy"
   ]
  },
  {
   "cell_type": "code",
   "execution_count": 5,
   "id": "aba88a08-0814-4847-a08f-cecc4c082dfb",
   "metadata": {},
   "outputs": [],
   "source": [
    "import numpy as np\n",
    "ar=np.array([45,55,66,77,85,23])\n",
    "view=ar.view()\n",
    "ar[3]=20"
   ]
  },
  {
   "cell_type": "code",
   "execution_count": 6,
   "id": "1819e143-fe85-4563-8c0f-0060febbdcd0",
   "metadata": {},
   "outputs": [
    {
     "data": {
      "text/plain": [
       "array([45, 55, 66, 20, 85, 23])"
      ]
     },
     "execution_count": 6,
     "metadata": {},
     "output_type": "execute_result"
    }
   ],
   "source": [
    "ar"
   ]
  },
  {
   "cell_type": "code",
   "execution_count": 7,
   "id": "4f923615-a60b-491e-b049-4a5069d88e33",
   "metadata": {},
   "outputs": [
    {
     "data": {
      "text/plain": [
       "array([45, 55, 66, 20, 85, 23])"
      ]
     },
     "execution_count": 7,
     "metadata": {},
     "output_type": "execute_result"
    }
   ],
   "source": [
    "view"
   ]
  },
  {
   "cell_type": "code",
   "execution_count": 8,
   "id": "00239cf6-182f-49e0-9e22-3b4b9a785bda",
   "metadata": {},
   "outputs": [
    {
     "data": {
      "text/plain": [
       "array([1., 1., 1., 1.])"
      ]
     },
     "execution_count": 8,
     "metadata": {},
     "output_type": "execute_result"
    }
   ],
   "source": [
    "np.ones(4)"
   ]
  },
  {
   "cell_type": "code",
   "execution_count": 9,
   "id": "13661b05-698a-484c-b5f2-7520c8c2d9fd",
   "metadata": {},
   "outputs": [
    {
     "name": "stdout",
     "output_type": "stream",
     "text": [
      "[[45 55 66 77 88]] <class 'numpy.matrix'>\n"
     ]
    }
   ],
   "source": [
    "import numpy as np\n",
    "mat=np.matrix([45,55,66,77,88])\n",
    "print(mat,type(mat))"
   ]
  },
  {
   "cell_type": "code",
   "execution_count": 10,
   "id": "801e9886-73c7-4e00-b251-ec018bbd4c48",
   "metadata": {},
   "outputs": [
    {
     "name": "stdout",
     "output_type": "stream",
     "text": [
      "[[45 55 66 77 88]] <class 'numpy.matrix'>\n"
     ]
    }
   ],
   "source": [
    "import numpy as np\n",
    "mat=np.matrix([[45,55,66,77,88]])\n",
    "print(mat,type(mat))"
   ]
  },
  {
   "cell_type": "code",
   "execution_count": 11,
   "id": "73b2b401-e117-41d4-87cf-c98951fa5d6a",
   "metadata": {},
   "outputs": [
    {
     "ename": "ValueError",
     "evalue": "matrix must be 2-dimensional",
     "output_type": "error",
     "traceback": [
      "\u001b[1;31m---------------------------------------------------------------------------\u001b[0m",
      "\u001b[1;31mValueError\u001b[0m                                Traceback (most recent call last)",
      "Cell \u001b[1;32mIn[11], line 2\u001b[0m\n\u001b[0;32m      1\u001b[0m \u001b[38;5;28;01mimport\u001b[39;00m \u001b[38;5;21;01mnumpy\u001b[39;00m \u001b[38;5;28;01mas\u001b[39;00m \u001b[38;5;21;01mnp\u001b[39;00m\n\u001b[1;32m----> 2\u001b[0m mat\u001b[38;5;241m=\u001b[39mnp\u001b[38;5;241m.\u001b[39mmatrix([[[\u001b[38;5;241m45\u001b[39m,\u001b[38;5;241m55\u001b[39m,\u001b[38;5;241m66\u001b[39m,\u001b[38;5;241m77\u001b[39m,\u001b[38;5;241m88\u001b[39m]]])\n\u001b[0;32m      3\u001b[0m \u001b[38;5;28mprint\u001b[39m(mat,\u001b[38;5;28mtype\u001b[39m(mat))\n",
      "File \u001b[1;32m~\\AppData\\Roaming\\Python\\Python311\\site-packages\\numpy\\matrixlib\\defmatrix.py:152\u001b[0m, in \u001b[0;36mmatrix.__new__\u001b[1;34m(subtype, data, dtype, copy)\u001b[0m\n\u001b[0;32m    150\u001b[0m shape \u001b[38;5;241m=\u001b[39m arr\u001b[38;5;241m.\u001b[39mshape\n\u001b[0;32m    151\u001b[0m \u001b[38;5;28;01mif\u001b[39;00m (ndim \u001b[38;5;241m>\u001b[39m \u001b[38;5;241m2\u001b[39m):\n\u001b[1;32m--> 152\u001b[0m     \u001b[38;5;28;01mraise\u001b[39;00m \u001b[38;5;167;01mValueError\u001b[39;00m(\u001b[38;5;124m\"\u001b[39m\u001b[38;5;124mmatrix must be 2-dimensional\u001b[39m\u001b[38;5;124m\"\u001b[39m)\n\u001b[0;32m    153\u001b[0m \u001b[38;5;28;01melif\u001b[39;00m ndim \u001b[38;5;241m==\u001b[39m \u001b[38;5;241m0\u001b[39m:\n\u001b[0;32m    154\u001b[0m     shape \u001b[38;5;241m=\u001b[39m (\u001b[38;5;241m1\u001b[39m, \u001b[38;5;241m1\u001b[39m)\n",
      "\u001b[1;31mValueError\u001b[0m: matrix must be 2-dimensional"
     ]
    }
   ],
   "source": [
    "import numpy as np\n",
    "mat=np.matrix([[[45,55,66,77,88]]])\n",
    "print(mat,type(mat))"
   ]
  },
  {
   "cell_type": "code",
   "execution_count": 12,
   "id": "14645e7c-2810-4f80-ac46-f9e8a1aa032e",
   "metadata": {},
   "outputs": [
    {
     "data": {
      "text/plain": [
       "matrix([[0., 0., 0., 0., 0.]])"
      ]
     },
     "execution_count": 12,
     "metadata": {},
     "output_type": "execute_result"
    }
   ],
   "source": [
    "import numpy as np\n",
    "import numpy.matlib\n",
    "numpy.matlib.zeros((5))"
   ]
  },
  {
   "cell_type": "code",
   "execution_count": 13,
   "id": "8ee373f4-1a1d-465c-b1e5-c7075b8c820c",
   "metadata": {},
   "outputs": [
    {
     "data": {
      "text/plain": [
       "array([0., 0., 0., 0., 0.])"
      ]
     },
     "execution_count": 13,
     "metadata": {},
     "output_type": "execute_result"
    }
   ],
   "source": [
    "np.zeros(5)"
   ]
  },
  {
   "cell_type": "code",
   "execution_count": 14,
   "id": "05584e3e-a1dd-4b38-bb45-0c55d5790f8d",
   "metadata": {},
   "outputs": [
    {
     "data": {
      "text/plain": [
       "matrix([[0., 0.],\n",
       "        [0., 0.],\n",
       "        [0., 0.],\n",
       "        [0., 0.],\n",
       "        [0., 0.]])"
      ]
     },
     "execution_count": 14,
     "metadata": {},
     "output_type": "execute_result"
    }
   ],
   "source": [
    "import numpy as np\n",
    "import numpy.matlib\n",
    "numpy.matlib.zeros((5,2))"
   ]
  },
  {
   "cell_type": "code",
   "execution_count": 15,
   "id": "a38135a2-bae2-4d9a-b275-27f7e42f6e4c",
   "metadata": {},
   "outputs": [
    {
     "data": {
      "text/plain": [
       "matrix([[1., 1., 1., 1., 1.]])"
      ]
     },
     "execution_count": 15,
     "metadata": {},
     "output_type": "execute_result"
    }
   ],
   "source": [
    "import numpy as np\n",
    "import numpy.matlib\n",
    "numpy.matlib.ones((5))"
   ]
  },
  {
   "cell_type": "code",
   "execution_count": 16,
   "id": "004ff850-ac3d-43d6-8e1a-c9515a02d949",
   "metadata": {},
   "outputs": [
    {
     "data": {
      "text/plain": [
       "matrix([[1., 1.],\n",
       "        [1., 1.],\n",
       "        [1., 1.],\n",
       "        [1., 1.],\n",
       "        [1., 1.]])"
      ]
     },
     "execution_count": 16,
     "metadata": {},
     "output_type": "execute_result"
    }
   ],
   "source": [
    "import numpy as np\n",
    "import numpy.matlib\n",
    "numpy.matlib.ones((5,2))"
   ]
  },
  {
   "cell_type": "code",
   "execution_count": 17,
   "id": "f6e9d005-995c-4c68-b2e6-fd8f6e726af0",
   "metadata": {},
   "outputs": [
    {
     "data": {
      "text/plain": [
       "matrix([[1., 1., 1., 1., 1.]])"
      ]
     },
     "execution_count": 17,
     "metadata": {},
     "output_type": "execute_result"
    }
   ],
   "source": [
    "import numpy as np\n",
    "import numpy.matlib\n",
    "numpy.matlib.empty((5))"
   ]
  },
  {
   "cell_type": "code",
   "execution_count": 18,
   "id": "9deef90e-04f9-46c1-a1d0-bea992ef6356",
   "metadata": {},
   "outputs": [
    {
     "data": {
      "text/plain": [
       "matrix([[1., 1.],\n",
       "        [1., 1.],\n",
       "        [1., 1.],\n",
       "        [1., 1.],\n",
       "        [1., 1.]])"
      ]
     },
     "execution_count": 18,
     "metadata": {},
     "output_type": "execute_result"
    }
   ],
   "source": [
    "import numpy as np\n",
    "import numpy.matlib\n",
    "numpy.matlib.empty((5,2))"
   ]
  },
  {
   "cell_type": "code",
   "execution_count": 20,
   "id": "815085f3-38eb-4910-bdd2-8c35b1daf27b",
   "metadata": {},
   "outputs": [
    {
     "data": {
      "text/plain": [
       "matrix([[1., 0., 0., 0., 0.],\n",
       "        [0., 1., 0., 0., 0.],\n",
       "        [0., 0., 1., 0., 0.],\n",
       "        [0., 0., 0., 1., 0.],\n",
       "        [0., 0., 0., 0., 1.]])"
      ]
     },
     "execution_count": 20,
     "metadata": {},
     "output_type": "execute_result"
    }
   ],
   "source": [
    "import numpy as np\n",
    "import numpy.matlib\n",
    "numpy.matlib.identity((5))"
   ]
  },
  {
   "cell_type": "code",
   "execution_count": 21,
   "id": "d4195c86-40dd-44e7-bf3a-b0cbdee4d599",
   "metadata": {},
   "outputs": [
    {
     "ename": "TypeError",
     "evalue": "can't multiply sequence by non-int of type 'list'",
     "output_type": "error",
     "traceback": [
      "\u001b[1;31m---------------------------------------------------------------------------\u001b[0m",
      "\u001b[1;31mTypeError\u001b[0m                                 Traceback (most recent call last)",
      "Cell \u001b[1;32mIn[21], line 3\u001b[0m\n\u001b[0;32m      1\u001b[0m \u001b[38;5;28;01mimport\u001b[39;00m \u001b[38;5;21;01mnumpy\u001b[39;00m \u001b[38;5;28;01mas\u001b[39;00m \u001b[38;5;21;01mnp\u001b[39;00m\n\u001b[0;32m      2\u001b[0m \u001b[38;5;28;01mimport\u001b[39;00m \u001b[38;5;21;01mnumpy\u001b[39;00m\u001b[38;5;21;01m.\u001b[39;00m\u001b[38;5;21;01mmatlib\u001b[39;00m\n\u001b[1;32m----> 3\u001b[0m numpy\u001b[38;5;241m.\u001b[39mmatlib\u001b[38;5;241m.\u001b[39midentity((\u001b[38;5;241m5\u001b[39m,\u001b[38;5;241m2\u001b[39m))\n",
      "File \u001b[1;32m~\\AppData\\Roaming\\Python\\Python311\\site-packages\\numpy\\matlib.py:185\u001b[0m, in \u001b[0;36midentity\u001b[1;34m(n, dtype)\u001b[0m\n\u001b[0;32m    154\u001b[0m \u001b[38;5;28;01mdef\u001b[39;00m \u001b[38;5;21midentity\u001b[39m(n,dtype\u001b[38;5;241m=\u001b[39m\u001b[38;5;28;01mNone\u001b[39;00m):\n\u001b[0;32m    155\u001b[0m \u001b[38;5;250m    \u001b[39m\u001b[38;5;124;03m\"\"\"\u001b[39;00m\n\u001b[0;32m    156\u001b[0m \u001b[38;5;124;03m    Returns the square identity matrix of given size.\u001b[39;00m\n\u001b[0;32m    157\u001b[0m \n\u001b[1;32m   (...)\u001b[0m\n\u001b[0;32m    183\u001b[0m \n\u001b[0;32m    184\u001b[0m \u001b[38;5;124;03m    \"\"\"\u001b[39;00m\n\u001b[1;32m--> 185\u001b[0m     a \u001b[38;5;241m=\u001b[39m array([\u001b[38;5;241m1\u001b[39m]\u001b[38;5;241m+\u001b[39mn\u001b[38;5;241m*\u001b[39m[\u001b[38;5;241m0\u001b[39m], dtype\u001b[38;5;241m=\u001b[39mdtype)\n\u001b[0;32m    186\u001b[0m     b \u001b[38;5;241m=\u001b[39m empty((n, n), dtype\u001b[38;5;241m=\u001b[39mdtype)\n\u001b[0;32m    187\u001b[0m     b\u001b[38;5;241m.\u001b[39mflat \u001b[38;5;241m=\u001b[39m a\n",
      "\u001b[1;31mTypeError\u001b[0m: can't multiply sequence by non-int of type 'list'"
     ]
    }
   ],
   "source": [
    "import numpy as np\n",
    "import numpy.matlib\n",
    "numpy.matlib.identity((5,2))"
   ]
  },
  {
   "cell_type": "code",
   "execution_count": 22,
   "id": "22becd0b-f041-4f41-98b3-58c58a462d6e",
   "metadata": {},
   "outputs": [
    {
     "data": {
      "text/plain": [
       "matrix([[1., 0., 0., 0., 0.],\n",
       "        [0., 1., 0., 0., 0.],\n",
       "        [0., 0., 1., 0., 0.],\n",
       "        [0., 0., 0., 1., 0.],\n",
       "        [0., 0., 0., 0., 1.]])"
      ]
     },
     "execution_count": 22,
     "metadata": {},
     "output_type": "execute_result"
    }
   ],
   "source": [
    "import numpy as np\n",
    "import numpy.matlib\n",
    "numpy.matlib.eye((5))"
   ]
  },
  {
   "cell_type": "code",
   "execution_count": 24,
   "id": "676e6f39-9bf8-4a7a-95fe-ae32501554b8",
   "metadata": {},
   "outputs": [
    {
     "data": {
      "text/plain": [
       "matrix([[1, 0, 0, 0, 0, 0, 0],\n",
       "        [0, 1, 0, 0, 0, 0, 0],\n",
       "        [0, 0, 1, 0, 0, 0, 0],\n",
       "        [0, 0, 0, 1, 0, 0, 0],\n",
       "        [0, 0, 0, 0, 1, 0, 0]])"
      ]
     },
     "execution_count": 24,
     "metadata": {},
     "output_type": "execute_result"
    }
   ],
   "source": [
    "import numpy as np\n",
    "import numpy.matlib\n",
    "numpy.matlib.eye(n=5,M=7,dtype=int)"
   ]
  },
  {
   "cell_type": "code",
   "execution_count": 26,
   "id": "f6a57c98-549a-4853-a20c-e1bc75d7675f",
   "metadata": {},
   "outputs": [],
   "source": [
    "mat1=np.matrix([[4,5,6],[7,8,9]])\n",
    "mat2=np.matrix([[8,11,12],[12,15,14]])"
   ]
  },
  {
   "cell_type": "code",
   "execution_count": 27,
   "id": "591ba58a-c950-47a2-aee0-9acd94840794",
   "metadata": {},
   "outputs": [
    {
     "data": {
      "text/plain": [
       "matrix([[4, 5, 6],\n",
       "        [7, 8, 9]])"
      ]
     },
     "execution_count": 27,
     "metadata": {},
     "output_type": "execute_result"
    }
   ],
   "source": [
    "mat1"
   ]
  },
  {
   "cell_type": "code",
   "execution_count": 28,
   "id": "997f2bd2-090a-41ec-883d-11bde41b15cf",
   "metadata": {},
   "outputs": [
    {
     "data": {
      "text/plain": [
       "matrix([[ 8, 11, 12],\n",
       "        [12, 15, 14]])"
      ]
     },
     "execution_count": 28,
     "metadata": {},
     "output_type": "execute_result"
    }
   ],
   "source": [
    "mat2"
   ]
  },
  {
   "cell_type": "code",
   "execution_count": 29,
   "id": "e322f4b5-a8d1-4c04-9f95-196a76bb5698",
   "metadata": {},
   "outputs": [
    {
     "data": {
      "text/plain": [
       "matrix([[12, 16, 18],\n",
       "        [19, 23, 23]])"
      ]
     },
     "execution_count": 29,
     "metadata": {},
     "output_type": "execute_result"
    }
   ],
   "source": [
    "mat1+mat2"
   ]
  },
  {
   "cell_type": "code",
   "execution_count": 30,
   "id": "21c7b079-ead0-445d-9d63-b0a58e8486a0",
   "metadata": {},
   "outputs": [
    {
     "data": {
      "text/plain": [
       "matrix([[12, 16, 18],\n",
       "        [19, 23, 23]])"
      ]
     },
     "execution_count": 30,
     "metadata": {},
     "output_type": "execute_result"
    }
   ],
   "source": [
    "np.add(mat1,mat2)"
   ]
  },
  {
   "cell_type": "code",
   "execution_count": 31,
   "id": "f09cbe82-befa-4403-b631-12701f91393e",
   "metadata": {},
   "outputs": [
    {
     "data": {
      "text/plain": [
       "matrix([[-4, -6, -6],\n",
       "        [-5, -7, -5]])"
      ]
     },
     "execution_count": 31,
     "metadata": {},
     "output_type": "execute_result"
    }
   ],
   "source": [
    "mat1-mat2"
   ]
  },
  {
   "cell_type": "code",
   "execution_count": 32,
   "id": "630c7a5e-51f8-45ca-a451-49abe13c4542",
   "metadata": {},
   "outputs": [
    {
     "data": {
      "text/plain": [
       "matrix([[-4, -6, -6],\n",
       "        [-5, -7, -5]])"
      ]
     },
     "execution_count": 32,
     "metadata": {},
     "output_type": "execute_result"
    }
   ],
   "source": [
    "np.subtract(mat1,mat2)"
   ]
  },
  {
   "cell_type": "code",
   "execution_count": 34,
   "id": "1f3becd3-8724-4e45-aa8f-c7580b98c557",
   "metadata": {},
   "outputs": [
    {
     "data": {
      "text/plain": [
       "matrix([[ 32,  55,  72],\n",
       "        [ 84, 120, 126]])"
      ]
     },
     "execution_count": 34,
     "metadata": {},
     "output_type": "execute_result"
    }
   ],
   "source": [
    "np.multiply(mat1,mat2)"
   ]
  },
  {
   "cell_type": "code",
   "execution_count": 35,
   "id": "3afd2843-6de3-4b0c-bd57-5b49b40c0222",
   "metadata": {},
   "outputs": [
    {
     "data": {
      "text/plain": [
       "matrix([[4, 5, 6],\n",
       "        [7, 8, 9]])"
      ]
     },
     "execution_count": 35,
     "metadata": {},
     "output_type": "execute_result"
    }
   ],
   "source": [
    "mat1"
   ]
  },
  {
   "cell_type": "code",
   "execution_count": 36,
   "id": "475c5591-3daf-4d81-a5c4-03720eb74812",
   "metadata": {},
   "outputs": [
    {
     "data": {
      "text/plain": [
       "matrix([[ 8, 11, 12],\n",
       "        [12, 15, 14]])"
      ]
     },
     "execution_count": 36,
     "metadata": {},
     "output_type": "execute_result"
    }
   ],
   "source": [
    "mat2"
   ]
  },
  {
   "cell_type": "code",
   "execution_count": 37,
   "id": "f9239449-45fa-46ce-b896-5e11a9163cec",
   "metadata": {},
   "outputs": [
    {
     "ename": "ValueError",
     "evalue": "shapes (2,3) and (2,3) not aligned: 3 (dim 1) != 2 (dim 0)",
     "output_type": "error",
     "traceback": [
      "\u001b[1;31m---------------------------------------------------------------------------\u001b[0m",
      "\u001b[1;31mValueError\u001b[0m                                Traceback (most recent call last)",
      "Cell \u001b[1;32mIn[37], line 1\u001b[0m\n\u001b[1;32m----> 1\u001b[0m np\u001b[38;5;241m.\u001b[39mdot(mat1,mat2)\n",
      "\u001b[1;31mValueError\u001b[0m: shapes (2,3) and (2,3) not aligned: 3 (dim 1) != 2 (dim 0)"
     ]
    }
   ],
   "source": [
    "np.dot(mat1,mat2)"
   ]
  },
  {
   "cell_type": "code",
   "execution_count": 38,
   "id": "c7f9177b-d0e1-46c9-a439-ed64196f63af",
   "metadata": {},
   "outputs": [
    {
     "data": {
      "text/plain": [
       "matrix([[4, 5, 6],\n",
       "        [7, 8, 9]])"
      ]
     },
     "execution_count": 38,
     "metadata": {},
     "output_type": "execute_result"
    }
   ],
   "source": [
    "mat1"
   ]
  },
  {
   "cell_type": "code",
   "execution_count": 39,
   "id": "68d11ab8-0f43-493c-bf64-40307014be66",
   "metadata": {},
   "outputs": [
    {
     "data": {
      "text/plain": [
       "matrix([[ 8, 11, 12],\n",
       "        [12, 15, 14]])"
      ]
     },
     "execution_count": 39,
     "metadata": {},
     "output_type": "execute_result"
    }
   ],
   "source": [
    "mat2"
   ]
  },
  {
   "cell_type": "code",
   "execution_count": 41,
   "id": "5e8a0c87-18b3-418d-b7e1-7a3c4c429d5b",
   "metadata": {},
   "outputs": [],
   "source": [
    "mat1=mat1.T"
   ]
  },
  {
   "cell_type": "code",
   "execution_count": 42,
   "id": "533a03cb-ef1f-42cd-82b1-03c66fa72740",
   "metadata": {},
   "outputs": [
    {
     "data": {
      "text/plain": [
       "matrix([[4, 7],\n",
       "        [5, 8],\n",
       "        [6, 9]])"
      ]
     },
     "execution_count": 42,
     "metadata": {},
     "output_type": "execute_result"
    }
   ],
   "source": [
    "mat1"
   ]
  },
  {
   "cell_type": "code",
   "execution_count": 43,
   "id": "16642e8f-7d92-407a-901e-0ec4eb02f9b6",
   "metadata": {},
   "outputs": [
    {
     "data": {
      "text/plain": [
       "matrix([[116, 149, 146],\n",
       "        [136, 175, 172],\n",
       "        [156, 201, 198]])"
      ]
     },
     "execution_count": 43,
     "metadata": {},
     "output_type": "execute_result"
    }
   ],
   "source": [
    "np.dot(mat1,mat2)"
   ]
  },
  {
   "cell_type": "code",
   "execution_count": 44,
   "id": "196d8a67-f25c-40c4-a287-4822cfc181aa",
   "metadata": {},
   "outputs": [
    {
     "data": {
      "text/plain": [
       "matrix([[4, 7],\n",
       "        [5, 8],\n",
       "        [6, 9]])"
      ]
     },
     "execution_count": 44,
     "metadata": {},
     "output_type": "execute_result"
    }
   ],
   "source": [
    "mat1"
   ]
  },
  {
   "cell_type": "code",
   "execution_count": 45,
   "id": "8c7fc1be-a8d4-41fe-ab69-359c0a0785dc",
   "metadata": {},
   "outputs": [
    {
     "data": {
      "text/plain": [
       "matrix([[ 8, 11, 12],\n",
       "        [12, 15, 14]])"
      ]
     },
     "execution_count": 45,
     "metadata": {},
     "output_type": "execute_result"
    }
   ],
   "source": [
    "mat2"
   ]
  },
  {
   "cell_type": "code",
   "execution_count": 47,
   "id": "ffe450f4-0592-4bcf-96a9-c94768930f28",
   "metadata": {},
   "outputs": [],
   "source": [
    "mat1=mat1.T"
   ]
  },
  {
   "cell_type": "code",
   "execution_count": 48,
   "id": "fce3843b-0d12-428d-8aff-75c25c1a60ef",
   "metadata": {},
   "outputs": [
    {
     "data": {
      "text/plain": [
       "matrix([[4, 5, 6],\n",
       "        [7, 8, 9]])"
      ]
     },
     "execution_count": 48,
     "metadata": {},
     "output_type": "execute_result"
    }
   ],
   "source": [
    "mat1"
   ]
  },
  {
   "cell_type": "code",
   "execution_count": 49,
   "id": "2f844a03-48d8-4bda-975e-dc78821f0103",
   "metadata": {},
   "outputs": [
    {
     "data": {
      "text/plain": [
       "matrix([[0.5       , 0.45454545, 0.5       ],\n",
       "        [0.58333333, 0.53333333, 0.64285714]])"
      ]
     },
     "execution_count": 49,
     "metadata": {},
     "output_type": "execute_result"
    }
   ],
   "source": [
    "np.divide(mat1,mat2)"
   ]
  },
  {
   "cell_type": "code",
   "execution_count": 50,
   "id": "6f05a488-806a-4fc2-addf-cd16d695a7be",
   "metadata": {},
   "outputs": [
    {
     "data": {
      "text/plain": [
       "(matrix([[0, 0, 0],\n",
       "         [0, 0, 0]]),\n",
       " matrix([[4, 5, 6],\n",
       "         [7, 8, 9]]))"
      ]
     },
     "execution_count": 50,
     "metadata": {},
     "output_type": "execute_result"
    }
   ],
   "source": [
    "np.divmod(mat1,mat2)"
   ]
  },
  {
   "cell_type": "code",
   "execution_count": 51,
   "id": "94dd2349-fe06-4813-b13d-ac8d0f4a0a1b",
   "metadata": {},
   "outputs": [
    {
     "data": {
      "text/plain": [
       "matrix([[4, 5, 6],\n",
       "        [7, 8, 9]])"
      ]
     },
     "execution_count": 51,
     "metadata": {},
     "output_type": "execute_result"
    }
   ],
   "source": [
    "mat1"
   ]
  },
  {
   "cell_type": "code",
   "execution_count": 52,
   "id": "66756061-70e0-4fee-a46c-b3c7a0c1ec62",
   "metadata": {},
   "outputs": [
    {
     "data": {
      "text/plain": [
       "matrix([[ 8, 11, 12],\n",
       "        [12, 15, 14]])"
      ]
     },
     "execution_count": 52,
     "metadata": {},
     "output_type": "execute_result"
    }
   ],
   "source": [
    "mat2"
   ]
  },
  {
   "cell_type": "code",
   "execution_count": 54,
   "id": "f4e6014a-8c1d-4e72-9d94-5028cceaf724",
   "metadata": {},
   "outputs": [],
   "source": [
    "mat1=np.matrix([[16,5,6],[7,8,9]])\n",
    "mat2=np.matrix([[8,11,12],[12,13,14]])"
   ]
  },
  {
   "cell_type": "code",
   "execution_count": 55,
   "id": "f7d8c45a-217a-4eed-ac7e-d3dfa67ca807",
   "metadata": {},
   "outputs": [
    {
     "data": {
      "text/plain": [
       "(matrix([[2, 0, 0],\n",
       "         [0, 0, 0]]),\n",
       " matrix([[0, 5, 6],\n",
       "         [7, 8, 9]]))"
      ]
     },
     "execution_count": 55,
     "metadata": {},
     "output_type": "execute_result"
    }
   ],
   "source": [
    "np.divmod(mat1,mat2)"
   ]
  },
  {
   "cell_type": "code",
   "execution_count": 56,
   "id": "bc33b3c9-0880-4ae1-ab7c-8b2987be2c53",
   "metadata": {},
   "outputs": [],
   "source": [
    "import numpy as np\n",
    "ar=np.array([[4,5,6],[6,7,8],[9,10,11]])"
   ]
  },
  {
   "cell_type": "code",
   "execution_count": 57,
   "id": "864ced95-624b-4cd6-9477-c5ae136164ff",
   "metadata": {},
   "outputs": [
    {
     "data": {
      "text/plain": [
       "array([[ 4,  5,  6],\n",
       "       [ 6,  7,  8],\n",
       "       [ 9, 10, 11]])"
      ]
     },
     "execution_count": 57,
     "metadata": {},
     "output_type": "execute_result"
    }
   ],
   "source": [
    "ar"
   ]
  },
  {
   "cell_type": "code",
   "execution_count": 58,
   "id": "fb1e1952-09f0-48ce-8f5e-2035e00df4fe",
   "metadata": {},
   "outputs": [
    {
     "data": {
      "text/plain": [
       "array([[4, 5],\n",
       "       [6, 7]])"
      ]
     },
     "execution_count": 58,
     "metadata": {},
     "output_type": "execute_result"
    }
   ],
   "source": [
    "ar[0:2,0:2]"
   ]
  },
  {
   "cell_type": "code",
   "execution_count": 59,
   "id": "156d76df-87a2-4609-be37-9e8c8c029089",
   "metadata": {},
   "outputs": [
    {
     "data": {
      "text/plain": [
       "array([[ 7,  8],\n",
       "       [10, 11]])"
      ]
     },
     "execution_count": 59,
     "metadata": {},
     "output_type": "execute_result"
    }
   ],
   "source": [
    "ar[1:3,1:3]"
   ]
  },
  {
   "cell_type": "code",
   "execution_count": 60,
   "id": "5b72da2e-6240-4737-88db-ef635db10d29",
   "metadata": {},
   "outputs": [
    {
     "data": {
      "text/plain": [
       "array([[ 4,  5,  6],\n",
       "       [ 6,  7,  8],\n",
       "       [ 9, 10, 11]])"
      ]
     },
     "execution_count": 60,
     "metadata": {},
     "output_type": "execute_result"
    }
   ],
   "source": [
    "ar[0:3:1,0:3:1]"
   ]
  },
  {
   "cell_type": "code",
   "execution_count": 61,
   "id": "68b80d6f-9976-417a-8037-a01f16eca007",
   "metadata": {},
   "outputs": [
    {
     "data": {
      "text/plain": [
       "array([ 4,  7, 11])"
      ]
     },
     "execution_count": 61,
     "metadata": {},
     "output_type": "execute_result"
    }
   ],
   "source": [
    "ar[[0,1,2],[0,1,2]]"
   ]
  },
  {
   "cell_type": "code",
   "execution_count": 62,
   "id": "5d41faf3-9586-48fa-b853-d8d6a1663208",
   "metadata": {},
   "outputs": [
    {
     "data": {
      "text/plain": [
       "array([ 4,  7, 11])"
      ]
     },
     "execution_count": 62,
     "metadata": {},
     "output_type": "execute_result"
    }
   ],
   "source": [
    "ar[(0,1,2),(0,1,2)]"
   ]
  },
  {
   "cell_type": "code",
   "execution_count": 63,
   "id": "c589cfe5-0368-4a22-b3b3-26108e3cd3df",
   "metadata": {},
   "outputs": [
    {
     "data": {
      "text/plain": [
       "array([[ 4,  5,  6],\n",
       "       [ 6,  7,  8],\n",
       "       [ 9, 10, 11]])"
      ]
     },
     "execution_count": 63,
     "metadata": {},
     "output_type": "execute_result"
    }
   ],
   "source": [
    "ar"
   ]
  },
  {
   "cell_type": "code",
   "execution_count": 64,
   "id": "a29d1240-e331-4b82-b24c-901769e58907",
   "metadata": {},
   "outputs": [
    {
     "data": {
      "text/plain": [
       "array([[ 8,  7],\n",
       "       [11, 10]])"
      ]
     },
     "execution_count": 64,
     "metadata": {},
     "output_type": "execute_result"
    }
   ],
   "source": [
    "ar[1:3,-1:-3:-1]"
   ]
  },
  {
   "cell_type": "code",
   "execution_count": 65,
   "id": "ed38c610-2997-4ab2-bfdb-315dd9ce2667",
   "metadata": {},
   "outputs": [],
   "source": [
    "import numpy as np\n",
    "a=np.array([[45,55,66],[4,5,6]])\n",
    "b=np.array([[12,13,25],[1,2,3]])"
   ]
  },
  {
   "cell_type": "code",
   "execution_count": 66,
   "id": "49bfa3df-4df3-4cfe-95a5-44cfcadffe2d",
   "metadata": {},
   "outputs": [
    {
     "data": {
      "text/plain": [
       "array([[45, 55, 66],\n",
       "       [ 4,  5,  6]])"
      ]
     },
     "execution_count": 66,
     "metadata": {},
     "output_type": "execute_result"
    }
   ],
   "source": [
    "a"
   ]
  },
  {
   "cell_type": "code",
   "execution_count": 67,
   "id": "2b82f1f1-f72f-4f16-93ec-5c4166ced4a4",
   "metadata": {},
   "outputs": [
    {
     "data": {
      "text/plain": [
       "array([[12, 13, 25],\n",
       "       [ 1,  2,  3]])"
      ]
     },
     "execution_count": 67,
     "metadata": {},
     "output_type": "execute_result"
    }
   ],
   "source": [
    "b"
   ]
  },
  {
   "cell_type": "code",
   "execution_count": 68,
   "id": "4be7883d-dd88-4441-b1b6-3468444f2230",
   "metadata": {},
   "outputs": [
    {
     "ename": "ValueError",
     "evalue": "shapes (2,3) and (2,3) not aligned: 3 (dim 1) != 2 (dim 0)",
     "output_type": "error",
     "traceback": [
      "\u001b[1;31m---------------------------------------------------------------------------\u001b[0m",
      "\u001b[1;31mValueError\u001b[0m                                Traceback (most recent call last)",
      "Cell \u001b[1;32mIn[68], line 1\u001b[0m\n\u001b[1;32m----> 1\u001b[0m np\u001b[38;5;241m.\u001b[39mdot(a,b)\n",
      "\u001b[1;31mValueError\u001b[0m: shapes (2,3) and (2,3) not aligned: 3 (dim 1) != 2 (dim 0)"
     ]
    }
   ],
   "source": [
    "np.dot(a,b)"
   ]
  },
  {
   "cell_type": "code",
   "execution_count": 69,
   "id": "647b5a6a-a558-422a-acc4-6ecad00e9143",
   "metadata": {},
   "outputs": [],
   "source": [
    "b.shape=(3,2)"
   ]
  },
  {
   "cell_type": "code",
   "execution_count": 70,
   "id": "ec36cc3a-a8c9-4059-9492-1e31e2996307",
   "metadata": {},
   "outputs": [
    {
     "data": {
      "text/plain": [
       "array([[45, 55, 66],\n",
       "       [ 4,  5,  6]])"
      ]
     },
     "execution_count": 70,
     "metadata": {},
     "output_type": "execute_result"
    }
   ],
   "source": [
    "a"
   ]
  },
  {
   "cell_type": "code",
   "execution_count": 71,
   "id": "f8272112-a6e1-4ad8-90fd-9b7046dc08fe",
   "metadata": {},
   "outputs": [
    {
     "data": {
      "text/plain": [
       "array([[12, 13],\n",
       "       [25,  1],\n",
       "       [ 2,  3]])"
      ]
     },
     "execution_count": 71,
     "metadata": {},
     "output_type": "execute_result"
    }
   ],
   "source": [
    "b"
   ]
  },
  {
   "cell_type": "code",
   "execution_count": 72,
   "id": "927b2e85-f599-4fff-9b73-5d189c53a8ee",
   "metadata": {},
   "outputs": [
    {
     "data": {
      "text/plain": [
       "array([[2047,  838],\n",
       "       [ 185,   75]])"
      ]
     },
     "execution_count": 72,
     "metadata": {},
     "output_type": "execute_result"
    }
   ],
   "source": [
    "np.dot(a,b)"
   ]
  },
  {
   "cell_type": "code",
   "execution_count": 73,
   "id": "9717a21b-2c02-4173-a9bc-b04cbe551143",
   "metadata": {},
   "outputs": [
    {
     "data": {
      "text/plain": [
       "np.int64(2937)"
      ]
     },
     "execution_count": 73,
     "metadata": {},
     "output_type": "execute_result"
    }
   ],
   "source": [
    "np.vdot(a,b)"
   ]
  },
  {
   "cell_type": "code",
   "execution_count": 75,
   "id": "a34a573b-0fb8-47ed-806b-87db4b597e01",
   "metadata": {},
   "outputs": [],
   "source": [
    "x=np.array([4,5,6,7,8])\n",
    "y=np.array([1,2,3,4,5])"
   ]
  },
  {
   "cell_type": "code",
   "execution_count": 77,
   "id": "daa5839e-d560-49f1-9c87-3a749c2957e2",
   "metadata": {},
   "outputs": [
    {
     "data": {
      "text/plain": [
       "np.int64(100)"
      ]
     },
     "execution_count": 77,
     "metadata": {},
     "output_type": "execute_result"
    }
   ],
   "source": [
    "np.inner(x,y)"
   ]
  },
  {
   "cell_type": "code",
   "execution_count": 78,
   "id": "f1b302ba-49a1-4689-b4ca-426b3934ac72",
   "metadata": {},
   "outputs": [],
   "source": [
    "ar=np.array([[4,5],[6,7]])"
   ]
  },
  {
   "cell_type": "code",
   "execution_count": 79,
   "id": "11b00117-2f3c-448b-8fda-31e2f77723e6",
   "metadata": {},
   "outputs": [
    {
     "data": {
      "text/plain": [
       "array([[4, 5],\n",
       "       [6, 7]])"
      ]
     },
     "execution_count": 79,
     "metadata": {},
     "output_type": "execute_result"
    }
   ],
   "source": [
    "ar"
   ]
  },
  {
   "cell_type": "code",
   "execution_count": 80,
   "id": "230270f3-0cee-4fe2-95fa-3785379789ee",
   "metadata": {},
   "outputs": [
    {
     "data": {
      "text/plain": [
       "np.float64(-2.000000000000003)"
      ]
     },
     "execution_count": 80,
     "metadata": {},
     "output_type": "execute_result"
    }
   ],
   "source": [
    "np.linalg.det(ar)"
   ]
  },
  {
   "cell_type": "code",
   "execution_count": 81,
   "id": "b2e105f0-b6ba-4d10-bba1-555edc546c25",
   "metadata": {},
   "outputs": [
    {
     "data": {
      "text/plain": [
       "array([[45, 55, 66],\n",
       "       [ 4,  5,  6]])"
      ]
     },
     "execution_count": 81,
     "metadata": {},
     "output_type": "execute_result"
    }
   ],
   "source": [
    "a"
   ]
  },
  {
   "cell_type": "code",
   "execution_count": 82,
   "id": "d5191554-9e24-4509-af9b-6f907779bd87",
   "metadata": {},
   "outputs": [
    {
     "data": {
      "text/plain": [
       "array([[12, 13],\n",
       "       [25,  1],\n",
       "       [ 2,  3]])"
      ]
     },
     "execution_count": 82,
     "metadata": {},
     "output_type": "execute_result"
    }
   ],
   "source": [
    "b"
   ]
  },
  {
   "cell_type": "code",
   "execution_count": 83,
   "id": "5f5d4929-2fdf-472d-bf28-4a763866e6fb",
   "metadata": {},
   "outputs": [
    {
     "data": {
      "text/plain": [
       "array([[2047,  838],\n",
       "       [ 185,   75]])"
      ]
     },
     "execution_count": 83,
     "metadata": {},
     "output_type": "execute_result"
    }
   ],
   "source": [
    "np.matmul(a,b)"
   ]
  },
  {
   "cell_type": "code",
   "execution_count": 84,
   "id": "7a917d8b-d6d4-4ef2-af12-1c44f7e49349",
   "metadata": {},
   "outputs": [],
   "source": [
    "a=[[3,2],[2,6]]\n",
    "b=[4,3]"
   ]
  },
  {
   "cell_type": "code",
   "execution_count": 85,
   "id": "44f6d4ab-8670-4035-899f-105c78a1da68",
   "metadata": {},
   "outputs": [],
   "source": [
    "a=np.array([[3,2],[2,6]])\n",
    "b=np.array([4,3])"
   ]
  },
  {
   "cell_type": "code",
   "execution_count": 86,
   "id": "c30e9153-151e-4b60-b102-e350dcf3e725",
   "metadata": {},
   "outputs": [
    {
     "data": {
      "text/plain": [
       "array([[3, 2],\n",
       "       [2, 6]])"
      ]
     },
     "execution_count": 86,
     "metadata": {},
     "output_type": "execute_result"
    }
   ],
   "source": [
    "a"
   ]
  },
  {
   "cell_type": "code",
   "execution_count": 87,
   "id": "fc458e6a-1404-4134-97e6-fe7ea68bafbe",
   "metadata": {},
   "outputs": [
    {
     "data": {
      "text/plain": [
       "array([4, 3])"
      ]
     },
     "execution_count": 87,
     "metadata": {},
     "output_type": "execute_result"
    }
   ],
   "source": [
    "b"
   ]
  },
  {
   "cell_type": "code",
   "execution_count": 88,
   "id": "78859efe-4623-4bf9-b486-1f9c51d32bf2",
   "metadata": {},
   "outputs": [
    {
     "data": {
      "text/plain": [
       "array([1.28571429, 0.07142857])"
      ]
     },
     "execution_count": 88,
     "metadata": {},
     "output_type": "execute_result"
    }
   ],
   "source": [
    "np.linalg.solve(a,b)"
   ]
  },
  {
   "cell_type": "code",
   "execution_count": 89,
   "id": "f9c10837-b4d7-44a6-9581-3ad682e52452",
   "metadata": {},
   "outputs": [
    {
     "data": {
      "text/plain": [
       "array([[ 0.42857143, -0.14285714],\n",
       "       [-0.14285714,  0.21428571]])"
      ]
     },
     "execution_count": 89,
     "metadata": {},
     "output_type": "execute_result"
    }
   ],
   "source": [
    "np.linalg.inv(a)"
   ]
  },
  {
   "cell_type": "code",
   "execution_count": 90,
   "id": "958ff130-153f-46ba-a227-223745184188",
   "metadata": {},
   "outputs": [
    {
     "data": {
      "text/plain": [
       "array([ 4,  5,  7,  8,  9, 44, 55, 66])"
      ]
     },
     "execution_count": 90,
     "metadata": {},
     "output_type": "execute_result"
    }
   ],
   "source": [
    "import numpy as np\n",
    "ar=np.array([4,5,7,8,9,44,55,66])\n",
    "ar"
   ]
  },
  {
   "cell_type": "code",
   "execution_count": 91,
   "id": "510170a4-be6f-4dc6-82cb-c46787c1ac4d",
   "metadata": {},
   "outputs": [
    {
     "data": {
      "text/plain": [
       "(array([2]),)"
      ]
     },
     "execution_count": 91,
     "metadata": {},
     "output_type": "execute_result"
    }
   ],
   "source": [
    "np.where(ar==7)"
   ]
  },
  {
   "cell_type": "code",
   "execution_count": 92,
   "id": "586b7386-3f36-48b3-82b2-cfb2ba93b875",
   "metadata": {},
   "outputs": [
    {
     "data": {
      "text/plain": [
       "array([ 4,  5,  7,  8,  9, 44, 55, 66,  4,  8,  2,  4,  8,  9])"
      ]
     },
     "execution_count": 92,
     "metadata": {},
     "output_type": "execute_result"
    }
   ],
   "source": [
    "import numpy as np\n",
    "ar=np.array([4,5,7,8,9,44,55,66,4,8,2,4,8,9])\n",
    "ar"
   ]
  },
  {
   "cell_type": "code",
   "execution_count": 93,
   "id": "dee6620c-d89d-4a74-a855-8bce67a0214d",
   "metadata": {},
   "outputs": [
    {
     "data": {
      "text/plain": [
       "(array([ 0,  8, 11]),)"
      ]
     },
     "execution_count": 93,
     "metadata": {},
     "output_type": "execute_result"
    }
   ],
   "source": [
    "np.where(ar==4)"
   ]
  },
  {
   "cell_type": "code",
   "execution_count": 94,
   "id": "38c9b489-775d-4f4c-9546-ac07638ea6cc",
   "metadata": {},
   "outputs": [
    {
     "data": {
      "text/plain": [
       "array([[ 4,  5,  6],\n",
       "       [ 7,  8,  9],\n",
       "       [10, 11, 12]])"
      ]
     },
     "execution_count": 94,
     "metadata": {},
     "output_type": "execute_result"
    }
   ],
   "source": [
    "ar=np.array([[4,5,6],[7,8,9],[10,11,12]])\n",
    "ar"
   ]
  },
  {
   "cell_type": "code",
   "execution_count": 95,
   "id": "8a689416-7abd-46a9-ab0d-fc14366fef82",
   "metadata": {},
   "outputs": [
    {
     "data": {
      "text/plain": [
       "(array([1]), array([1]))"
      ]
     },
     "execution_count": 95,
     "metadata": {},
     "output_type": "execute_result"
    }
   ],
   "source": [
    "np.where(ar==8)"
   ]
  },
  {
   "cell_type": "code",
   "execution_count": 96,
   "id": "5c245ba2-c741-4abd-85be-e8414c95e391",
   "metadata": {},
   "outputs": [
    {
     "data": {
      "text/plain": [
       "array([[ 4,  5,  6],\n",
       "       [ 7,  8,  9],\n",
       "       [18, 11, 12]])"
      ]
     },
     "execution_count": 96,
     "metadata": {},
     "output_type": "execute_result"
    }
   ],
   "source": [
    "ar=np.array([[4,5,6],[7,8,9],[18,11,12]])\n",
    "ar"
   ]
  },
  {
   "cell_type": "code",
   "execution_count": 97,
   "id": "55814f53-6a1c-4ff1-a4f1-cf84bd9e45a3",
   "metadata": {},
   "outputs": [
    {
     "data": {
      "text/plain": [
       "(array([1]), array([1]))"
      ]
     },
     "execution_count": 97,
     "metadata": {},
     "output_type": "execute_result"
    }
   ],
   "source": [
    "np.where(ar==8)"
   ]
  },
  {
   "cell_type": "code",
   "execution_count": 98,
   "id": "ab8f5163-d311-4241-bfd7-c293a4a6de21",
   "metadata": {},
   "outputs": [
    {
     "data": {
      "text/plain": [
       "(array([ 0,  2,  4,  6,  8,  9, 10, 13]),)"
      ]
     },
     "execution_count": 98,
     "metadata": {},
     "output_type": "execute_result"
    }
   ],
   "source": [
    "ar=np.array([4,5,6,7,8,9,44,55,4,88,4,69,5,4])\n",
    "ar\n",
    "np.where(ar%2==0)"
   ]
  },
  {
   "cell_type": "code",
   "execution_count": 99,
   "id": "13bab954-6193-4d37-ba6e-a192b12b99f9",
   "metadata": {},
   "outputs": [
    {
     "data": {
      "text/plain": [
       "array([ 1,  2,  3,  4,  5,  6, 10])"
      ]
     },
     "execution_count": 99,
     "metadata": {},
     "output_type": "execute_result"
    }
   ],
   "source": [
    "ar=np.array([1,2,3,4,5,6,10])\n",
    "ar"
   ]
  },
  {
   "cell_type": "code",
   "execution_count": 101,
   "id": "c99095db-aae5-4a14-86d4-4acb49ae3a59",
   "metadata": {},
   "outputs": [
    {
     "data": {
      "text/plain": [
       "np.int64(6)"
      ]
     },
     "execution_count": 101,
     "metadata": {},
     "output_type": "execute_result"
    }
   ],
   "source": [
    "np.searchsorted(ar,7)"
   ]
  },
  {
   "cell_type": "code",
   "execution_count": 102,
   "id": "bcc9cf17-1279-4252-a89f-6fefc69e5d42",
   "metadata": {},
   "outputs": [
    {
     "data": {
      "text/plain": [
       "(array([5]),)"
      ]
     },
     "execution_count": 102,
     "metadata": {},
     "output_type": "execute_result"
    }
   ],
   "source": [
    "np.where(ar==6)"
   ]
  },
  {
   "cell_type": "code",
   "execution_count": 103,
   "id": "11009bae-3560-4428-a111-ac50fa799266",
   "metadata": {},
   "outputs": [
    {
     "data": {
      "text/plain": [
       "array([6, 6, 6])"
      ]
     },
     "execution_count": 103,
     "metadata": {},
     "output_type": "execute_result"
    }
   ],
   "source": [
    "np.searchsorted(ar,[7,8,9])"
   ]
  },
  {
   "cell_type": "code",
   "execution_count": 104,
   "id": "5579794d-25bf-466f-91a6-14828f195f17",
   "metadata": {},
   "outputs": [
    {
     "data": {
      "text/plain": [
       "array([ 1,  2,  3,  4,  5,  6, 10, 11, 12])"
      ]
     },
     "execution_count": 104,
     "metadata": {},
     "output_type": "execute_result"
    }
   ],
   "source": [
    "ar=np.array([1,2,3,4,5,6,10,11,12])\n",
    "ar"
   ]
  },
  {
   "cell_type": "code",
   "execution_count": 105,
   "id": "2d03dc1c-29a0-43c0-a6ae-23e4e9a70941",
   "metadata": {},
   "outputs": [
    {
     "data": {
      "text/plain": [
       "array([6, 6, 6, 8, 9])"
      ]
     },
     "execution_count": 105,
     "metadata": {},
     "output_type": "execute_result"
    }
   ],
   "source": [
    "np.searchsorted(ar,[7,8,9,12,24])"
   ]
  },
  {
   "cell_type": "code",
   "execution_count": 106,
   "id": "b7b81a65-e00a-43d7-a1fa-3d8f18bd8c20",
   "metadata": {},
   "outputs": [],
   "source": [
    "ar=np.array([4,5,6,7,8])"
   ]
  },
  {
   "cell_type": "code",
   "execution_count": 107,
   "id": "f5008937-3968-421a-a1fc-ac29017e583c",
   "metadata": {},
   "outputs": [
    {
     "data": {
      "text/plain": [
       "array([4, 5, 6, 7, 8])"
      ]
     },
     "execution_count": 107,
     "metadata": {},
     "output_type": "execute_result"
    }
   ],
   "source": [
    "ar"
   ]
  },
  {
   "cell_type": "code",
   "execution_count": 108,
   "id": "c53a36a2-5fe8-4471-9770-53b2ac2da625",
   "metadata": {},
   "outputs": [],
   "source": [
    "k=[True,False,True,False,False]"
   ]
  },
  {
   "cell_type": "code",
   "execution_count": 110,
   "id": "6589966e-9945-4b33-83f3-98e278162ef2",
   "metadata": {},
   "outputs": [
    {
     "data": {
      "text/plain": [
       "array([4, 6])"
      ]
     },
     "execution_count": 110,
     "metadata": {},
     "output_type": "execute_result"
    }
   ],
   "source": [
    "ar[k]"
   ]
  },
  {
   "cell_type": "code",
   "execution_count": 111,
   "id": "b451d563-0783-4241-b76d-50b95cc70420",
   "metadata": {},
   "outputs": [
    {
     "name": "stdout",
     "output_type": "stream",
     "text": [
      "[12 13  4  5  6  7  8  9] <class 'numpy.ndarray'>\n"
     ]
    }
   ],
   "source": [
    "ar=np.array([12,13,4,5,6,7,8,9])\n",
    "print(ar,type(ar))"
   ]
  },
  {
   "cell_type": "code",
   "execution_count": 112,
   "id": "df606d36-7df9-425c-aa49-f3bd79c16061",
   "metadata": {},
   "outputs": [],
   "source": [
    "np.random.shuffle(ar)"
   ]
  },
  {
   "cell_type": "code",
   "execution_count": 113,
   "id": "93ca2a07-6019-4e6d-9474-0f570d97a1af",
   "metadata": {},
   "outputs": [
    {
     "data": {
      "text/plain": [
       "array([ 5,  7,  6, 13,  8,  9,  4, 12])"
      ]
     },
     "execution_count": 113,
     "metadata": {},
     "output_type": "execute_result"
    }
   ],
   "source": [
    "ar"
   ]
  },
  {
   "cell_type": "code",
   "execution_count": 114,
   "id": "5312a046-bb58-43b4-bace-8efd256c09a8",
   "metadata": {},
   "outputs": [],
   "source": [
    "np.random.shuffle(ar)"
   ]
  },
  {
   "cell_type": "code",
   "execution_count": 115,
   "id": "bf5d6c7c-adb7-483d-bcfc-b6a524500df3",
   "metadata": {},
   "outputs": [
    {
     "data": {
      "text/plain": [
       "array([ 8,  9,  6, 12,  5,  4,  7, 13])"
      ]
     },
     "execution_count": 115,
     "metadata": {},
     "output_type": "execute_result"
    }
   ],
   "source": [
    "ar"
   ]
  },
  {
   "cell_type": "code",
   "execution_count": 117,
   "id": "85af944e-a13b-4cc0-a53d-82033e6445ec",
   "metadata": {},
   "outputs": [
    {
     "data": {
      "text/plain": [
       "array([12, 11,  5,  6,  7, 12, 11,  5,  6,  7,  3, 24,  1,  2,  4,  3,  2,\n",
       "        1])"
      ]
     },
     "execution_count": 117,
     "metadata": {},
     "output_type": "execute_result"
    }
   ],
   "source": [
    "ar=np.array([12,11,5,6,7,12,11,5,6,7,3,24,1,2,4,3,2,1])\n",
    "ar"
   ]
  },
  {
   "cell_type": "code",
   "execution_count": 119,
   "id": "50b9819d-fc59-4c90-88f3-3692baf9a7e5",
   "metadata": {},
   "outputs": [
    {
     "data": {
      "text/plain": [
       "array([ 1,  2,  3,  4,  5,  6,  7, 11, 12, 24])"
      ]
     },
     "execution_count": 119,
     "metadata": {},
     "output_type": "execute_result"
    }
   ],
   "source": [
    "np.unique(ar)"
   ]
  },
  {
   "cell_type": "code",
   "execution_count": 120,
   "id": "caca3e2c-9245-4edd-997e-fc61a82061b5",
   "metadata": {},
   "outputs": [
    {
     "data": {
      "text/plain": [
       "array([12, 11,  5,  6,  7, 12, 11,  5,  6,  7,  3, 24,  1,  2,  4,  3,  2,\n",
       "        1])"
      ]
     },
     "execution_count": 120,
     "metadata": {},
     "output_type": "execute_result"
    }
   ],
   "source": [
    "ar"
   ]
  },
  {
   "cell_type": "code",
   "execution_count": 121,
   "id": "2ca57172-5b62-4599-a9ba-4179213239ea",
   "metadata": {},
   "outputs": [
    {
     "data": {
      "text/plain": [
       "array([ 1,  2,  3,  4,  5,  6,  7, 11, 12, 24])"
      ]
     },
     "execution_count": 121,
     "metadata": {},
     "output_type": "execute_result"
    }
   ],
   "source": [
    "y=np.unique(ar)\n",
    "y"
   ]
  },
  {
   "cell_type": "code",
   "execution_count": 123,
   "id": "7cb004d7-9a02-4dca-8975-c37eac2fef3c",
   "metadata": {},
   "outputs": [
    {
     "data": {
      "text/plain": [
       "(array([ 1,  2,  3,  4,  5,  6,  7, 11, 12, 24]),\n",
       " array([12, 13, 10, 14,  2,  3,  4,  1,  0, 11]))"
      ]
     },
     "execution_count": 123,
     "metadata": {},
     "output_type": "execute_result"
    }
   ],
   "source": [
    "y=np.unique(ar,return_index=True)\n",
    "y"
   ]
  },
  {
   "cell_type": "code",
   "execution_count": 124,
   "id": "e9594d30-fae2-46c2-bc32-cae6f13e35ba",
   "metadata": {},
   "outputs": [
    {
     "data": {
      "text/plain": [
       "(array([ 1,  2,  3,  4,  5,  6,  7, 11, 12, 24]),\n",
       " array([12, 13, 10, 14,  2,  3,  4,  1,  0, 11]),\n",
       " array([2, 2, 2, 1, 2, 2, 2, 2, 2, 1]))"
      ]
     },
     "execution_count": 124,
     "metadata": {},
     "output_type": "execute_result"
    }
   ],
   "source": [
    "y=np.unique(ar,return_index=True,return_counts=True)\n",
    "y"
   ]
  },
  {
   "cell_type": "code",
   "execution_count": 125,
   "id": "3fe39db4-0599-4937-81ac-18096ab25390",
   "metadata": {},
   "outputs": [
    {
     "data": {
      "text/plain": [
       "array([ 1,  2,  3,  4,  5,  6,  7, 11, 12, 24])"
      ]
     },
     "execution_count": 125,
     "metadata": {},
     "output_type": "execute_result"
    }
   ],
   "source": [
    "y=np.unique(ar)\n",
    "y"
   ]
  },
  {
   "cell_type": "code",
   "execution_count": 126,
   "id": "5b0920b4-fc6b-4e39-b638-66304c891cc0",
   "metadata": {},
   "outputs": [
    {
     "data": {
      "text/plain": [
       "array([[ 1,  2],\n",
       "       [ 3,  4],\n",
       "       [ 5,  6],\n",
       "       [ 7, 11]])"
      ]
     },
     "execution_count": 126,
     "metadata": {},
     "output_type": "execute_result"
    }
   ],
   "source": [
    "np.resize(y,(4,2))"
   ]
  },
  {
   "cell_type": "code",
   "execution_count": 127,
   "id": "e79eebc0-a2ab-48f0-a15c-57850c835f75",
   "metadata": {},
   "outputs": [
    {
     "data": {
      "text/plain": [
       "array([ 1,  2,  3,  4,  5,  6,  7, 11, 12, 24])"
      ]
     },
     "execution_count": 127,
     "metadata": {},
     "output_type": "execute_result"
    }
   ],
   "source": [
    "y"
   ]
  },
  {
   "cell_type": "code",
   "execution_count": 128,
   "id": "97ec4a75-d39e-46ad-82a0-fb54f0eaef19",
   "metadata": {},
   "outputs": [
    {
     "data": {
      "text/plain": [
       "array([[ 1,  2],\n",
       "       [ 3,  4],\n",
       "       [ 5,  6],\n",
       "       [ 7, 11]])"
      ]
     },
     "execution_count": 128,
     "metadata": {},
     "output_type": "execute_result"
    }
   ],
   "source": [
    "y=np.resize(y,(4,2))\n",
    "y"
   ]
  },
  {
   "cell_type": "code",
   "execution_count": 129,
   "id": "d96120d3-f52c-45c1-b567-e8ffa517594c",
   "metadata": {},
   "outputs": [],
   "source": [
    "y.resize(4,2)"
   ]
  },
  {
   "cell_type": "code",
   "execution_count": 130,
   "id": "54052214-82b3-4b49-adc1-72c0b52659ff",
   "metadata": {},
   "outputs": [
    {
     "data": {
      "text/plain": [
       "array([[ 1,  2],\n",
       "       [ 3,  4],\n",
       "       [ 5,  6],\n",
       "       [ 7, 11]])"
      ]
     },
     "execution_count": 130,
     "metadata": {},
     "output_type": "execute_result"
    }
   ],
   "source": [
    "y"
   ]
  },
  {
   "cell_type": "code",
   "execution_count": 131,
   "id": "7c212b53-0e91-41c0-8ebf-e055ba3b96fb",
   "metadata": {},
   "outputs": [
    {
     "data": {
      "text/plain": [
       "array([ 1,  2,  3,  4,  5,  6,  7, 11])"
      ]
     },
     "execution_count": 131,
     "metadata": {},
     "output_type": "execute_result"
    }
   ],
   "source": [
    "y.flatten()"
   ]
  },
  {
   "cell_type": "code",
   "execution_count": 132,
   "id": "b6e5cd2e-bdc9-452e-a572-2b62343f4e65",
   "metadata": {},
   "outputs": [
    {
     "data": {
      "text/plain": [
       "array([ 1,  2,  3,  4,  5,  6,  7, 11])"
      ]
     },
     "execution_count": 132,
     "metadata": {},
     "output_type": "execute_result"
    }
   ],
   "source": [
    "y.flatten(order=\"C\")"
   ]
  },
  {
   "cell_type": "code",
   "execution_count": 133,
   "id": "e877b8fe-6c3a-49f4-8d8c-487a7b733e11",
   "metadata": {},
   "outputs": [
    {
     "data": {
      "text/plain": [
       "array([ 1,  3,  5,  7,  2,  4,  6, 11])"
      ]
     },
     "execution_count": 133,
     "metadata": {},
     "output_type": "execute_result"
    }
   ],
   "source": [
    "y.flatten(order=\"F\")"
   ]
  },
  {
   "cell_type": "code",
   "execution_count": 134,
   "id": "0f23ca31-f8a6-49d4-9430-52cc825c319d",
   "metadata": {},
   "outputs": [
    {
     "data": {
      "text/plain": [
       "array([ 1,  2,  3,  4,  5,  6,  7, 11])"
      ]
     },
     "execution_count": 134,
     "metadata": {},
     "output_type": "execute_result"
    }
   ],
   "source": [
    "y.flatten(order=\"a\")"
   ]
  },
  {
   "cell_type": "code",
   "execution_count": 135,
   "id": "3a8b0271-5bf6-43bf-8e03-f78450865af7",
   "metadata": {},
   "outputs": [
    {
     "data": {
      "text/plain": [
       "array([[ 1,  2],\n",
       "       [ 3,  4],\n",
       "       [ 5,  6],\n",
       "       [ 7, 11]])"
      ]
     },
     "execution_count": 135,
     "metadata": {},
     "output_type": "execute_result"
    }
   ],
   "source": [
    "y"
   ]
  },
  {
   "cell_type": "code",
   "execution_count": 136,
   "id": "f1f040bf-4dfd-4287-8f37-5f85fb6b5ed3",
   "metadata": {},
   "outputs": [
    {
     "data": {
      "text/plain": [
       "array([ 1,  2,  3,  4,  5,  6,  7, 11])"
      ]
     },
     "execution_count": 136,
     "metadata": {},
     "output_type": "execute_result"
    }
   ],
   "source": [
    "np.ravel(y)"
   ]
  },
  {
   "cell_type": "code",
   "execution_count": 137,
   "id": "c27dd587-2bf6-4a78-ac83-71c58d4802ec",
   "metadata": {},
   "outputs": [
    {
     "data": {
      "text/plain": [
       "array([[ 1,  2],\n",
       "       [ 3,  4],\n",
       "       [ 5,  6],\n",
       "       [ 7, 11]])"
      ]
     },
     "execution_count": 137,
     "metadata": {},
     "output_type": "execute_result"
    }
   ],
   "source": [
    "y"
   ]
  },
  {
   "cell_type": "code",
   "execution_count": 138,
   "id": "9cc11f00-5f5a-4d5a-b1ea-d6c870a4667b",
   "metadata": {},
   "outputs": [
    {
     "data": {
      "text/plain": [
       "array([ 1,  2,  3,  4,  5,  6,  7, 11])"
      ]
     },
     "execution_count": 138,
     "metadata": {},
     "output_type": "execute_result"
    }
   ],
   "source": [
    "np.ravel(y,order=\"C\")"
   ]
  },
  {
   "cell_type": "code",
   "execution_count": 139,
   "id": "610ed6b7-e225-4150-acca-e6ee226e4cd5",
   "metadata": {},
   "outputs": [
    {
     "data": {
      "text/plain": [
       "array([ 1,  3,  5,  7,  2,  4,  6, 11])"
      ]
     },
     "execution_count": 139,
     "metadata": {},
     "output_type": "execute_result"
    }
   ],
   "source": [
    "np.ravel(y,order=\"F\")"
   ]
  },
  {
   "cell_type": "code",
   "execution_count": 140,
   "id": "178d7433-fc6e-404b-8a8d-ee2b831f7f5a",
   "metadata": {},
   "outputs": [
    {
     "data": {
      "text/plain": [
       "array([ 1,  2,  3,  4,  5,  6,  7, 11])"
      ]
     },
     "execution_count": 140,
     "metadata": {},
     "output_type": "execute_result"
    }
   ],
   "source": [
    "np.ravel(y,order=\"k\")"
   ]
  },
  {
   "cell_type": "code",
   "execution_count": 141,
   "id": "69f98405-55de-4510-914e-814d5e173044",
   "metadata": {},
   "outputs": [
    {
     "data": {
      "text/plain": [
       "array([ 1,  2,  3,  4,  5,  6,  7, 11])"
      ]
     },
     "execution_count": 141,
     "metadata": {},
     "output_type": "execute_result"
    }
   ],
   "source": [
    "np.ravel(y,order=\"a\")"
   ]
  },
  {
   "cell_type": "code",
   "execution_count": 142,
   "id": "bf6d47c1-3575-4aff-8443-0f1efd263461",
   "metadata": {},
   "outputs": [
    {
     "name": "stdout",
     "output_type": "stream",
     "text": [
      "[ 4  5  6  7 11] <class 'numpy.ndarray'>\n"
     ]
    }
   ],
   "source": [
    "ar=np.array([4,5,6,7,11])\n",
    "print(ar,type(ar))"
   ]
  },
  {
   "cell_type": "code",
   "execution_count": 143,
   "id": "6643f8e1-4044-4a03-8f5f-2f2bc87a0bc7",
   "metadata": {},
   "outputs": [
    {
     "data": {
      "text/plain": [
       "np.int64(4)"
      ]
     },
     "execution_count": 143,
     "metadata": {},
     "output_type": "execute_result"
    }
   ],
   "source": [
    "np.searchsorted(ar,8)"
   ]
  },
  {
   "cell_type": "code",
   "execution_count": 144,
   "id": "d210c69e-1a1f-4d94-a577-fcec9d7824b6",
   "metadata": {},
   "outputs": [
    {
     "data": {
      "text/plain": [
       "array([ 4,  5,  6,  7,  8, 11])"
      ]
     },
     "execution_count": 144,
     "metadata": {},
     "output_type": "execute_result"
    }
   ],
   "source": [
    "np.insert(ar,4,8)"
   ]
  },
  {
   "cell_type": "code",
   "execution_count": 145,
   "id": "d59f4424-ea96-4a87-afc0-018631b54e67",
   "metadata": {},
   "outputs": [
    {
     "data": {
      "text/plain": [
       "array([ 4,  5,  6,  7, 11])"
      ]
     },
     "execution_count": 145,
     "metadata": {},
     "output_type": "execute_result"
    }
   ],
   "source": [
    "ar"
   ]
  },
  {
   "cell_type": "code",
   "execution_count": 146,
   "id": "7a8f664a-c0bd-4493-a9e1-27c3535f1b60",
   "metadata": {},
   "outputs": [
    {
     "data": {
      "text/plain": [
       "array([ 4,  5,  8,  6,  7,  8, 11])"
      ]
     },
     "execution_count": 146,
     "metadata": {},
     "output_type": "execute_result"
    }
   ],
   "source": [
    "np.insert(ar,(2,4),8)"
   ]
  },
  {
   "cell_type": "code",
   "execution_count": 147,
   "id": "23a23656-9e88-49d4-8d8c-60c1fd7b891e",
   "metadata": {},
   "outputs": [
    {
     "data": {
      "text/plain": [
       "array([ 4,  5,  6,  6,  7,  8,  7, 11])"
      ]
     },
     "execution_count": 147,
     "metadata": {},
     "output_type": "execute_result"
    }
   ],
   "source": [
    "np.insert(ar,3,[6,7,8])"
   ]
  },
  {
   "cell_type": "code",
   "execution_count": 148,
   "id": "b5dc13da-b18b-491c-adf2-bbba18a410ac",
   "metadata": {},
   "outputs": [
    {
     "data": {
      "text/plain": [
       "array([ 4,  5,  6,  7, 11])"
      ]
     },
     "execution_count": 148,
     "metadata": {},
     "output_type": "execute_result"
    }
   ],
   "source": [
    "ar"
   ]
  },
  {
   "cell_type": "code",
   "execution_count": 149,
   "id": "016272ff-1c1b-4133-8351-99086310cc8d",
   "metadata": {},
   "outputs": [
    {
     "data": {
      "text/plain": [
       "array([ 4,  5,  7,  6,  8,  7, 11])"
      ]
     },
     "execution_count": 149,
     "metadata": {},
     "output_type": "execute_result"
    }
   ],
   "source": [
    "np.insert(ar,(2,3),[7,8])"
   ]
  },
  {
   "cell_type": "code",
   "execution_count": 150,
   "id": "1a7da29b-26e6-4791-adff-7b9f31a6d009",
   "metadata": {},
   "outputs": [
    {
     "ename": "ValueError",
     "evalue": "shape mismatch: value array of shape (3,) could not be broadcast to indexing result of shape (2,)",
     "output_type": "error",
     "traceback": [
      "\u001b[1;31m---------------------------------------------------------------------------\u001b[0m",
      "\u001b[1;31mValueError\u001b[0m                                Traceback (most recent call last)",
      "Cell \u001b[1;32mIn[150], line 1\u001b[0m\n\u001b[1;32m----> 1\u001b[0m np\u001b[38;5;241m.\u001b[39minsert(ar,(\u001b[38;5;241m2\u001b[39m,\u001b[38;5;241m3\u001b[39m),[\u001b[38;5;241m8\u001b[39m,\u001b[38;5;241m9\u001b[39m,\u001b[38;5;241m10\u001b[39m])\n",
      "File \u001b[1;32m~\\AppData\\Roaming\\Python\\Python311\\site-packages\\numpy\\lib\\_function_base_impl.py:5695\u001b[0m, in \u001b[0;36minsert\u001b[1;34m(arr, obj, values, axis)\u001b[0m\n\u001b[0;32m   5693\u001b[0m slobj[axis] \u001b[38;5;241m=\u001b[39m indices\n\u001b[0;32m   5694\u001b[0m slobj2[axis] \u001b[38;5;241m=\u001b[39m old_mask\n\u001b[1;32m-> 5695\u001b[0m new[\u001b[38;5;28mtuple\u001b[39m(slobj)] \u001b[38;5;241m=\u001b[39m values\n\u001b[0;32m   5696\u001b[0m new[\u001b[38;5;28mtuple\u001b[39m(slobj2)] \u001b[38;5;241m=\u001b[39m arr\n\u001b[0;32m   5698\u001b[0m \u001b[38;5;28;01mreturn\u001b[39;00m conv\u001b[38;5;241m.\u001b[39mwrap(new, to_scalar\u001b[38;5;241m=\u001b[39m\u001b[38;5;28;01mFalse\u001b[39;00m)\n",
      "\u001b[1;31mValueError\u001b[0m: shape mismatch: value array of shape (3,) could not be broadcast to indexing result of shape (2,)"
     ]
    }
   ],
   "source": [
    "np.insert(ar,(2,3),[8,9,10])"
   ]
  },
  {
   "cell_type": "code",
   "execution_count": 151,
   "id": "5b0fd209-76d2-432e-b468-71cacf1064df",
   "metadata": {},
   "outputs": [
    {
     "data": {
      "text/plain": [
       "array([ 4,  5,  8,  9, 10,  6,  7, 11])"
      ]
     },
     "execution_count": 151,
     "metadata": {},
     "output_type": "execute_result"
    }
   ],
   "source": [
    "np.insert(ar,(2),[8,9,10])"
   ]
  },
  {
   "cell_type": "code",
   "execution_count": 152,
   "id": "a57bf355-4360-44fe-9139-c3995ea4d8b4",
   "metadata": {},
   "outputs": [
    {
     "data": {
      "text/plain": [
       "array([[4, 5, 6],\n",
       "       [7, 8, 9]])"
      ]
     },
     "execution_count": 152,
     "metadata": {},
     "output_type": "execute_result"
    }
   ],
   "source": [
    "ar1=np.array([[4,5,6],[7,8,9]])\n",
    "ar1"
   ]
  },
  {
   "cell_type": "code",
   "execution_count": 154,
   "id": "ab4aee66-d7e8-4378-82e0-fbffebb1cbf4",
   "metadata": {},
   "outputs": [
    {
     "data": {
      "text/plain": [
       "array([[4, 5, 6],\n",
       "       [7, 8, 9],\n",
       "       [2, 2, 2]])"
      ]
     },
     "execution_count": 154,
     "metadata": {},
     "output_type": "execute_result"
    }
   ],
   "source": [
    "np.insert(ar1,2,2,axis=0)"
   ]
  },
  {
   "cell_type": "code",
   "execution_count": 156,
   "id": "a2225d87-a5ea-4862-bc3c-2f3001ea27dc",
   "metadata": {},
   "outputs": [
    {
     "data": {
      "text/plain": [
       "array([[4, 3, 5, 6],\n",
       "       [7, 3, 8, 9]])"
      ]
     },
     "execution_count": 156,
     "metadata": {},
     "output_type": "execute_result"
    }
   ],
   "source": [
    "np.insert(ar1,1,3,axis=1)"
   ]
  },
  {
   "cell_type": "code",
   "execution_count": 157,
   "id": "55dcdc18-018a-480b-a34e-a15f46faf5d9",
   "metadata": {},
   "outputs": [
    {
     "data": {
      "text/plain": [
       "array([[4, 5, 6],\n",
       "       [7, 8, 9],\n",
       "       [1, 2, 3]])"
      ]
     },
     "execution_count": 157,
     "metadata": {},
     "output_type": "execute_result"
    }
   ],
   "source": [
    "np.insert(ar1,2,[1,2,3],axis=0)"
   ]
  },
  {
   "cell_type": "code",
   "execution_count": 158,
   "id": "2f8ec258-8205-495d-b82a-8f1e69fe14bf",
   "metadata": {},
   "outputs": [
    {
     "ename": "ValueError",
     "evalue": "could not broadcast input array from shape (1,2) into shape (1,3)",
     "output_type": "error",
     "traceback": [
      "\u001b[1;31m---------------------------------------------------------------------------\u001b[0m",
      "\u001b[1;31mValueError\u001b[0m                                Traceback (most recent call last)",
      "Cell \u001b[1;32mIn[158], line 1\u001b[0m\n\u001b[1;32m----> 1\u001b[0m np\u001b[38;5;241m.\u001b[39minsert(ar1,\u001b[38;5;241m2\u001b[39m,[\u001b[38;5;241m1\u001b[39m,\u001b[38;5;241m2\u001b[39m],axis\u001b[38;5;241m=\u001b[39m\u001b[38;5;241m0\u001b[39m)\n",
      "File \u001b[1;32m~\\AppData\\Roaming\\Python\\Python311\\site-packages\\numpy\\lib\\_function_base_impl.py:5669\u001b[0m, in \u001b[0;36minsert\u001b[1;34m(arr, obj, values, axis)\u001b[0m\n\u001b[0;32m   5667\u001b[0m new[\u001b[38;5;28mtuple\u001b[39m(slobj)] \u001b[38;5;241m=\u001b[39m arr[\u001b[38;5;28mtuple\u001b[39m(slobj)]\n\u001b[0;32m   5668\u001b[0m slobj[axis] \u001b[38;5;241m=\u001b[39m \u001b[38;5;28mslice\u001b[39m(index, index\u001b[38;5;241m+\u001b[39mnumnew)\n\u001b[1;32m-> 5669\u001b[0m new[\u001b[38;5;28mtuple\u001b[39m(slobj)] \u001b[38;5;241m=\u001b[39m values\n\u001b[0;32m   5670\u001b[0m slobj[axis] \u001b[38;5;241m=\u001b[39m \u001b[38;5;28mslice\u001b[39m(index\u001b[38;5;241m+\u001b[39mnumnew, \u001b[38;5;28;01mNone\u001b[39;00m)\n\u001b[0;32m   5671\u001b[0m slobj2 \u001b[38;5;241m=\u001b[39m [\u001b[38;5;28mslice\u001b[39m(\u001b[38;5;28;01mNone\u001b[39;00m)] \u001b[38;5;241m*\u001b[39m ndim\n",
      "\u001b[1;31mValueError\u001b[0m: could not broadcast input array from shape (1,2) into shape (1,3)"
     ]
    }
   ],
   "source": [
    "np.insert(ar1,2,[1,2],axis=0)"
   ]
  },
  {
   "cell_type": "code",
   "execution_count": 159,
   "id": "d57603f2-a004-4202-b8ba-87afaa385635",
   "metadata": {},
   "outputs": [
    {
     "data": {
      "text/plain": [
       "array([[4, 5, 1, 6],\n",
       "       [7, 8, 2, 9]])"
      ]
     },
     "execution_count": 159,
     "metadata": {},
     "output_type": "execute_result"
    }
   ],
   "source": [
    "np.insert(ar1,2,[1,2],axis=1)"
   ]
  },
  {
   "cell_type": "code",
   "execution_count": 160,
   "id": "2cd0b11c-0613-4bd3-909a-fbf8508e19c5",
   "metadata": {},
   "outputs": [
    {
     "data": {
      "text/plain": [
       "array([ 4,  5,  6,  7, 11])"
      ]
     },
     "execution_count": 160,
     "metadata": {},
     "output_type": "execute_result"
    }
   ],
   "source": [
    "ar"
   ]
  },
  {
   "cell_type": "code",
   "execution_count": 161,
   "id": "0adbf28a-85cb-4f17-923f-63031060fbc4",
   "metadata": {},
   "outputs": [
    {
     "data": {
      "text/plain": [
       "array([ 4,  5,  6,  7, 11, 88])"
      ]
     },
     "execution_count": 161,
     "metadata": {},
     "output_type": "execute_result"
    }
   ],
   "source": [
    "np.append(ar,88)"
   ]
  },
  {
   "cell_type": "code",
   "execution_count": 162,
   "id": "fd54b41d-73bb-40d0-bf97-7b7f4d2f569f",
   "metadata": {},
   "outputs": [
    {
     "data": {
      "text/plain": [
       "array([ 4,  5,  6,  7, 11])"
      ]
     },
     "execution_count": 162,
     "metadata": {},
     "output_type": "execute_result"
    }
   ],
   "source": [
    "ar"
   ]
  },
  {
   "cell_type": "code",
   "execution_count": 163,
   "id": "3a4fb882-21a0-432d-a3e0-19d2358235e3",
   "metadata": {},
   "outputs": [
    {
     "data": {
      "text/plain": [
       "array([  4,   5,   6,   7,  11,  88,  99, 100])"
      ]
     },
     "execution_count": 163,
     "metadata": {},
     "output_type": "execute_result"
    }
   ],
   "source": [
    "np.append(ar,[88,99,100])"
   ]
  },
  {
   "cell_type": "code",
   "execution_count": 164,
   "id": "0d624cd9-6deb-43d3-8703-911327fbfe56",
   "metadata": {},
   "outputs": [
    {
     "data": {
      "text/plain": [
       "array([[4, 5, 6],\n",
       "       [7, 8, 9]])"
      ]
     },
     "execution_count": 164,
     "metadata": {},
     "output_type": "execute_result"
    }
   ],
   "source": [
    "ar1"
   ]
  },
  {
   "cell_type": "code",
   "execution_count": 165,
   "id": "a0633465-2989-4ab7-8ee1-912f216fa55a",
   "metadata": {},
   "outputs": [
    {
     "data": {
      "text/plain": [
       "array([[4, 5, 6],\n",
       "       [7, 8, 9],\n",
       "       [2, 3, 6]])"
      ]
     },
     "execution_count": 165,
     "metadata": {},
     "output_type": "execute_result"
    }
   ],
   "source": [
    "np.append(ar1,[[2,3,6]],0)"
   ]
  },
  {
   "cell_type": "code",
   "execution_count": 167,
   "id": "8f310fd1-a723-475c-9bef-3d30b64c71a1",
   "metadata": {},
   "outputs": [
    {
     "data": {
      "text/plain": [
       "array([[4, 5, 6, 2, 3, 6],\n",
       "       [7, 8, 9, 6, 7, 8]])"
      ]
     },
     "execution_count": 167,
     "metadata": {},
     "output_type": "execute_result"
    }
   ],
   "source": [
    "np.append(ar1,[[2,3,6],[6,7,8]],1)"
   ]
  },
  {
   "cell_type": "code",
   "execution_count": 168,
   "id": "a98d0fdc-4369-4a59-bbed-a94d583aa7a8",
   "metadata": {},
   "outputs": [
    {
     "data": {
      "text/plain": [
       "array([[4, 5, 6],\n",
       "       [7, 8, 9]])"
      ]
     },
     "execution_count": 168,
     "metadata": {},
     "output_type": "execute_result"
    }
   ],
   "source": [
    "ar1"
   ]
  },
  {
   "cell_type": "code",
   "execution_count": 169,
   "id": "4c402c09-04ba-463a-a249-4e04f27bf5c8",
   "metadata": {},
   "outputs": [
    {
     "data": {
      "text/plain": [
       "array([[4, 5, 6],\n",
       "       [7, 8, 9]])"
      ]
     },
     "execution_count": 169,
     "metadata": {},
     "output_type": "execute_result"
    }
   ],
   "source": [
    "ar1"
   ]
  },
  {
   "cell_type": "code",
   "execution_count": 170,
   "id": "135bb698-ad23-4c0d-8cbd-918c0fec1a32",
   "metadata": {},
   "outputs": [
    {
     "data": {
      "text/plain": [
       "array([[4, 5, 1, 6],\n",
       "       [7, 8, 2, 9]])"
      ]
     },
     "execution_count": 170,
     "metadata": {},
     "output_type": "execute_result"
    }
   ],
   "source": [
    "np.insert(ar1,2,[1,2],axis=1)"
   ]
  },
  {
   "cell_type": "code",
   "execution_count": 171,
   "id": "d9049390-6f82-47ac-83a8-3df90df16e33",
   "metadata": {},
   "outputs": [
    {
     "data": {
      "text/plain": [
       "array([ 4,  5,  6,  7, 11])"
      ]
     },
     "execution_count": 171,
     "metadata": {},
     "output_type": "execute_result"
    }
   ],
   "source": [
    "ar"
   ]
  },
  {
   "cell_type": "code",
   "execution_count": 172,
   "id": "7a1dbe75-6cf2-422f-a819-5bec36634c26",
   "metadata": {},
   "outputs": [
    {
     "data": {
      "text/plain": [
       "array([[4, 5, 6],\n",
       "       [7, 8, 9]])"
      ]
     },
     "execution_count": 172,
     "metadata": {},
     "output_type": "execute_result"
    }
   ],
   "source": [
    "ar1"
   ]
  },
  {
   "cell_type": "markdown",
   "id": "1b1d2e1c-3c45-4a06-b0dd-9b4f5985ce9e",
   "metadata": {},
   "source": [
    "# DAY-6"
   ]
  },
  {
   "cell_type": "code",
   "execution_count": 175,
   "id": "83ca3e7a-7673-47a8-a740-c427ee5ff173",
   "metadata": {},
   "outputs": [],
   "source": [
    "import numpy as np"
   ]
  },
  {
   "cell_type": "code",
   "execution_count": 176,
   "id": "584f5be3-9c11-47e5-8304-c08949498ac5",
   "metadata": {},
   "outputs": [
    {
     "data": {
      "text/plain": [
       "array([[4, 5, 6],\n",
       "       [7, 8, 9]])"
      ]
     },
     "execution_count": 176,
     "metadata": {},
     "output_type": "execute_result"
    }
   ],
   "source": [
    "ar1"
   ]
  },
  {
   "cell_type": "code",
   "execution_count": 177,
   "id": "685dfa38-3411-49a5-bc90-54543507577c",
   "metadata": {},
   "outputs": [
    {
     "data": {
      "text/plain": [
       "array([[4, 5, 1, 6],\n",
       "       [7, 8, 2, 9]])"
      ]
     },
     "execution_count": 177,
     "metadata": {},
     "output_type": "execute_result"
    }
   ],
   "source": [
    "np.insert(ar1,2,[1,2],axis=1)"
   ]
  },
  {
   "cell_type": "code",
   "execution_count": 178,
   "id": "b23e042b-c215-4b82-837e-ba2a55882a51",
   "metadata": {},
   "outputs": [
    {
     "data": {
      "text/plain": [
       "array([ 4,  5,  6,  7, 11])"
      ]
     },
     "execution_count": 178,
     "metadata": {},
     "output_type": "execute_result"
    }
   ],
   "source": [
    "ar"
   ]
  },
  {
   "cell_type": "code",
   "execution_count": 179,
   "id": "39aafc86-1b19-4cbf-8fe9-cc9181489ac4",
   "metadata": {},
   "outputs": [
    {
     "data": {
      "text/plain": [
       "array([[4, 5, 6],\n",
       "       [7, 8, 9]])"
      ]
     },
     "execution_count": 179,
     "metadata": {},
     "output_type": "execute_result"
    }
   ],
   "source": [
    "ar1"
   ]
  },
  {
   "cell_type": "code",
   "execution_count": 180,
   "id": "7cf18b5b-13c9-4f78-90ad-b3412e72f926",
   "metadata": {},
   "outputs": [
    {
     "data": {
      "text/plain": [
       "array([ 4,  5,  7, 11])"
      ]
     },
     "execution_count": 180,
     "metadata": {},
     "output_type": "execute_result"
    }
   ],
   "source": [
    "np.delete(ar,2)"
   ]
  },
  {
   "cell_type": "code",
   "execution_count": 181,
   "id": "f0cc83ff-b5f8-422a-9a3a-c2dc1e7392b8",
   "metadata": {},
   "outputs": [
    {
     "data": {
      "text/plain": [
       "array([ 4,  5,  6,  7, 11])"
      ]
     },
     "execution_count": 181,
     "metadata": {},
     "output_type": "execute_result"
    }
   ],
   "source": [
    "ar"
   ]
  },
  {
   "cell_type": "code",
   "execution_count": 182,
   "id": "4be0c3be-deba-45b8-bc63-410049db7f8d",
   "metadata": {},
   "outputs": [
    {
     "data": {
      "text/plain": [
       "array([4, 5, 7, 8, 9])"
      ]
     },
     "execution_count": 182,
     "metadata": {},
     "output_type": "execute_result"
    }
   ],
   "source": [
    "np.delete(ar1,2)"
   ]
  },
  {
   "cell_type": "code",
   "execution_count": 183,
   "id": "297c5b02-6736-42e1-8192-1adfd508c10a",
   "metadata": {},
   "outputs": [
    {
     "data": {
      "text/plain": [
       "array([[4, 5],\n",
       "       [7, 8]])"
      ]
     },
     "execution_count": 183,
     "metadata": {},
     "output_type": "execute_result"
    }
   ],
   "source": [
    "np.delete(ar1,2,axis=1)"
   ]
  },
  {
   "cell_type": "code",
   "execution_count": 184,
   "id": "f88ef217-354b-4232-bc57-eea1b3908d61",
   "metadata": {},
   "outputs": [
    {
     "data": {
      "text/plain": [
       "array([[4, 5, 6],\n",
       "       [7, 8, 9]])"
      ]
     },
     "execution_count": 184,
     "metadata": {},
     "output_type": "execute_result"
    }
   ],
   "source": [
    "ar1"
   ]
  },
  {
   "cell_type": "code",
   "execution_count": 185,
   "id": "347ba231-2719-4a9a-86c8-291766112d10",
   "metadata": {},
   "outputs": [
    {
     "data": {
      "text/plain": [
       "array([[4, 5, 6]])"
      ]
     },
     "execution_count": 185,
     "metadata": {},
     "output_type": "execute_result"
    }
   ],
   "source": [
    "np.delete(ar1,1,axis=0)"
   ]
  },
  {
   "cell_type": "code",
   "execution_count": 186,
   "id": "05a37b7a-dd1b-454f-8030-d795f934a6ab",
   "metadata": {},
   "outputs": [
    {
     "data": {
      "text/plain": [
       "array([[4, 5, 6],\n",
       "       [7, 8, 9]])"
      ]
     },
     "execution_count": 186,
     "metadata": {},
     "output_type": "execute_result"
    }
   ],
   "source": [
    "ar1"
   ]
  },
  {
   "cell_type": "code",
   "execution_count": 187,
   "id": "4bedc284-7e02-418c-822f-594eac6676d2",
   "metadata": {},
   "outputs": [
    {
     "data": {
      "text/plain": [
       "array([[4, 7],\n",
       "       [5, 8],\n",
       "       [6, 9]])"
      ]
     },
     "execution_count": 187,
     "metadata": {},
     "output_type": "execute_result"
    }
   ],
   "source": [
    "np.transpose(ar1)"
   ]
  },
  {
   "cell_type": "code",
   "execution_count": 188,
   "id": "cad400e9-4c9d-4803-8484-592f043decd4",
   "metadata": {},
   "outputs": [
    {
     "data": {
      "text/plain": [
       "array([[4, 7],\n",
       "       [5, 8],\n",
       "       [6, 9]])"
      ]
     },
     "execution_count": 188,
     "metadata": {},
     "output_type": "execute_result"
    }
   ],
   "source": [
    "ar1.T"
   ]
  },
  {
   "cell_type": "code",
   "execution_count": 189,
   "id": "a94920f5-4d14-4c7d-b9fd-18b01ee5e605",
   "metadata": {},
   "outputs": [
    {
     "data": {
      "text/plain": [
       "array([[4, 7],\n",
       "       [5, 8],\n",
       "       [6, 9]])"
      ]
     },
     "execution_count": 189,
     "metadata": {},
     "output_type": "execute_result"
    }
   ],
   "source": [
    "np.swapaxes(ar1,1,0)"
   ]
  },
  {
   "cell_type": "code",
   "execution_count": null,
   "id": "673b6901-11b0-4a60-978e-175557729acc",
   "metadata": {},
   "outputs": [],
   "source": []
  }
 ],
 "metadata": {
  "kernelspec": {
   "display_name": "Python 3 (ipykernel)",
   "language": "python",
   "name": "python3"
  },
  "language_info": {
   "codemirror_mode": {
    "name": "ipython",
    "version": 3
   },
   "file_extension": ".py",
   "mimetype": "text/x-python",
   "name": "python",
   "nbconvert_exporter": "python",
   "pygments_lexer": "ipython3",
   "version": "3.11.7"
  },
  "widgets": {
   "application/vnd.jupyter.widget-state+json": {
    "state": {},
    "version_major": 2,
    "version_minor": 0
   }
  }
 },
 "nbformat": 4,
 "nbformat_minor": 5
}
