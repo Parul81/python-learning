{
 "cells": [
  {
   "cell_type": "markdown",
   "id": "109fb9d5",
   "metadata": {},
   "source": [
    "# Flow of Control"
   ]
  },
  {
   "cell_type": "code",
   "execution_count": null,
   "id": "54eccba6",
   "metadata": {},
   "outputs": [],
   "source": [
    "# types of flow of control:\n",
    "# (1) Sequential\n",
    "# (2) Selection\n",
    "# (3) Iteration\n",
    "\n",
    "\n",
    "\n",
    "# (1) Sequential flow of control\n",
    "# Sequential flow of control in Python refers to the order in which statements are executed in a program.\n",
    "# By default, statements in Python are executed sequentially, one after the other, from top to bottom.\n",
    "# This means that the first statement in a program is executed first, followed by the second statement, and so on.\n",
    "# Example\n",
    "# print(\"Hello, world!\")\n",
    "# x = 5\n",
    "# y = 10\n",
    "# z = x + y\n",
    "# print(z)\n",
    "# output is:\n",
    "# Hello, world!\n",
    "# 15\n",
    "\n",
    "\n",
    "# (2) Selection flow of control\n",
    "# Selection flow of control in Python is used to make decisions in a program.\n",
    "# It allows a program to test several conditions and execute instructions based on which condition is true.\n",
    "# Example\n",
    "# age = 17\n",
    "# if age > 18:\n",
    "#     print(\"Hello, world!\")\n",
    "# else:\n",
    "#     print(\"You are not old enough to vote.\")\n",
    "# Output:\n",
    "# You are not old enough to vote.\n",
    "\n",
    "\n",
    "# (3) Iteration flow of control\n",
    "# Iteration flow of control in Python is used to allows the program to execute a block of code repeatedly until a certain condition is met.\n",
    "# In Python, the iterative statements are also known as looping statements or repetitive statements.\n",
    "# The iterative statements are used to execute a part of the program repeatedly as long as a given condition is True.\n",
    "# The two most common iterative statements in Python are the for loop and the while loop.\n",
    "# Example\n",
    "# for i in range(3):\n",
    "#     print(i)\n",
    "# output:\n",
    "# 0\n",
    "# 1\n",
    "# 2"
   ]
  },
  {
   "cell_type": "code",
   "execution_count": 1,
   "id": "e546a2f9",
   "metadata": {},
   "outputs": [
    {
     "data": {
      "text/plain": [
       "range(0, 4)"
      ]
     },
     "execution_count": 1,
     "metadata": {},
     "output_type": "execute_result"
    }
   ],
   "source": [
    "# What is range in Python ?\n",
    "#=>The range() function returns a sequence of numbers, starting from 0 by default, and increments by 1 (by default), and stops before a specified number.\n",
    "\n",
    "# Syntax:-\n",
    "# range(start, stop, step)\n",
    "# Firstly checking Range:-\n",
    "range(4)"
   ]
  },
  {
   "cell_type": "code",
   "execution_count": 2,
   "id": "1e8b38af",
   "metadata": {},
   "outputs": [
    {
     "name": "stdout",
     "output_type": "stream",
     "text": [
      "0\n",
      "1\n",
      "2\n",
      "3\n",
      "4\n"
     ]
    }
   ],
   "source": [
    "# Checking with for loop helps range of 5:-\n",
    "\n",
    "for i in range(5):\n",
    "    print(i)"
   ]
  },
  {
   "cell_type": "code",
   "execution_count": 3,
   "id": "02f190f2",
   "metadata": {},
   "outputs": [
    {
     "name": "stdout",
     "output_type": "stream",
     "text": [
      "2\n",
      "4\n",
      "6\n",
      "8\n",
      "10\n",
      "12\n",
      "14\n",
      "16\n",
      "18\n",
      "20\n"
     ]
    }
   ],
   "source": [
    "# checking range of 2 to 221 by giving 2 steps:\n",
    "# for finding even numbera between 1 to 20.\n",
    "\n",
    "for i in range(2,21,2):\n",
    "    print(i)"
   ]
  },
  {
   "cell_type": "code",
   "execution_count": 4,
   "id": "ff49f3ab",
   "metadata": {},
   "outputs": [
    {
     "name": "stdout",
     "output_type": "stream",
     "text": [
      "1\n",
      "3\n",
      "5\n",
      "7\n",
      "9\n",
      "11\n",
      "13\n",
      "15\n",
      "17\n",
      "19\n"
     ]
    }
   ],
   "source": [
    "# checking range of 2 to 20 by giving 2 steps:\n",
    "# for finding odd numbera between 1 to 20.\n",
    "\n",
    "for i in range(1,20,2):\n",
    "    print(i)"
   ]
  },
  {
   "cell_type": "code",
   "execution_count": 5,
   "id": "47837c4e",
   "metadata": {},
   "outputs": [
    {
     "name": "stdout",
     "output_type": "stream",
     "text": [
      "0\n",
      "1\n",
      "2\n",
      "3\n",
      "4\n",
      "5\n"
     ]
    }
   ],
   "source": [
    "# Create a sequence of numbers from 0 to 5, and print each item in the sequence:\n",
    "\n",
    "x = range(6)\n",
    "for n in x:\n",
    "    print(n)"
   ]
  },
  {
   "cell_type": "code",
   "execution_count": 6,
   "id": "3b6728ff",
   "metadata": {},
   "outputs": [
    {
     "name": "stdout",
     "output_type": "stream",
     "text": [
      "2\n",
      "4\n",
      "6\n",
      "8\n",
      "10\n",
      "12\n",
      "14\n",
      "16\n",
      "18\n",
      "20\n"
     ]
    }
   ],
   "source": [
    "# Now we are using while loop:-\n",
    "# to find again even numbers between 1 to 20:-\n",
    "\n",
    "i=2\n",
    "while i<=20:\n",
    "    print(i)\n",
    "    i +=2"
   ]
  },
  {
   "cell_type": "code",
   "execution_count": 7,
   "id": "b0b5c5a5",
   "metadata": {},
   "outputs": [
    {
     "name": "stdout",
     "output_type": "stream",
     "text": [
      "1\n",
      "3\n",
      "5\n",
      "7\n",
      "9\n",
      "11\n",
      "13\n",
      "15\n",
      "17\n",
      "19\n"
     ]
    }
   ],
   "source": [
    "# Now we are using while loop:-\n",
    "# to find again odd numbers between 1 to 20:-\n",
    "\n",
    "i=1\n",
    "while i<=20:\n",
    "    print(i)\n",
    "    i +=2"
   ]
  },
  {
   "cell_type": "code",
   "execution_count": 9,
   "id": "8506d9ae",
   "metadata": {},
   "outputs": [
    {
     "name": "stdout",
     "output_type": "stream",
     "text": [
      "Enter the Number to get its Table: 2\n",
      "2 X 1 = 2\n",
      "2 X 2 = 4\n",
      "2 X 3 = 6\n",
      "2 X 4 = 8\n",
      "2 X 5 = 10\n",
      "2 X 6 = 12\n",
      "2 X 7 = 14\n",
      "2 X 8 = 16\n",
      "2 X 9 = 18\n",
      "2 X 10 = 20\n"
     ]
    }
   ],
   "source": [
    "# Now we are starting statement practice:-\n",
    "# Taking a no input.\n",
    "# Starting the for loop from the range 1 to 11.\n",
    "# We are using it to print a table of any numbers which we input.\n",
    "\n",
    "number = int(input(\"Enter the Number to get its Table: \"))\n",
    "\n",
    "for i in range(1,11):\n",
    "    print(number,\"X\",i,\"=\",number*i)"
   ]
  },
  {
   "cell_type": "code",
   "execution_count": 4,
   "id": "94482b0e",
   "metadata": {},
   "outputs": [
    {
     "name": "stdout",
     "output_type": "stream",
     "text": [
      "Enter the Number to get its Table: -10\n",
      "-10 X -10 = 100\n",
      "-10 X -9 = 90\n",
      "-10 X -8 = 80\n",
      "-10 X -7 = 70\n",
      "-10 X -6 = 60\n",
      "-10 X -5 = 50\n",
      "-10 X -4 = 40\n",
      "-10 X -3 = 30\n",
      "-10 X -2 = 20\n",
      "-10 X -1 = 10\n"
     ]
    }
   ],
   "source": [
    "# Now we are starting statement practice:-\n",
    "# Taking a no input.\n",
    "# Starting the for loop from the range 1 to 11.\n",
    "# We are using it to print a table of any numbers which we input.\n",
    "# Her we are reversing the table .\n",
    "\n",
    "number = int(input(\"Enter the Number to get its Table: \"))\n",
    "\n",
    "for i in range(-10,0):\n",
    "    print(number,\"X\",i,\"=\",number*i)    "
   ]
  },
  {
   "cell_type": "code",
   "execution_count": 5,
   "id": "e476ca31",
   "metadata": {},
   "outputs": [
    {
     "name": "stdout",
     "output_type": "stream",
     "text": [
      "Enter the Number to get its Table: 4\n",
      "4 X 1 = 4\n",
      "4 X 2 = 8\n",
      "4 X 3 = 12\n",
      "4 X 4 = 16\n",
      "4 X 5 = 20\n",
      "4 X 6 = 24\n",
      "4 X 7 = 28\n",
      "4 X 8 = 32\n",
      "4 X 9 = 36\n",
      "4 X 10 = 40\n"
     ]
    }
   ],
   "source": [
    "# Now we are starting statement practice:-\n",
    "# Taking a no input.\n",
    "# Starting the while loop from the range 1 to 11.\n",
    "# We are using it to print a table of any numbers which we input.\n",
    "\n",
    "number = int(input(\"Enter the Number to get its Table: \"))\n",
    "i=1\n",
    "while i<=10:\n",
    "    print(number,\"X\",i,\"=\",number*i)\n",
    "    i+=1"
   ]
  },
  {
   "cell_type": "code",
   "execution_count": 7,
   "id": "7fc2c44b",
   "metadata": {},
   "outputs": [
    {
     "name": "stdout",
     "output_type": "stream",
     "text": [
      "Enter the Number to get its Table: -4\n"
     ]
    }
   ],
   "source": [
    "# Now we are starting statement practice:-\n",
    "# Taking a no input.\n",
    "# Starting the while loop from the range 1 to 11.\n",
    "# We are using it to print a table of any numbers which we input.\n",
    "\n",
    "number = int(input(\"Enter the Number to get its Table: \"))\n",
    "i=1\n",
    "while i<=-10:\n",
    "    print(number,\"X\",i,\"=\",number*i)\n",
    "    i-=1"
   ]
  },
  {
   "cell_type": "code",
   "execution_count": 19,
   "id": "c37e3b96",
   "metadata": {},
   "outputs": [
    {
     "name": "stdout",
     "output_type": "stream",
     "text": [
      "Enter the number to find its Factorial: 5\n",
      "1\n",
      "2\n",
      "6\n",
      "24\n",
      "120\n"
     ]
    }
   ],
   "source": [
    "# We are  finding the factorial of a number;\n",
    "# taking an input of a number.\n",
    "# assigning the fact variable.\n",
    "# starting with for loop from the range 1 to no+1\n",
    "# printing the result\n",
    "# what is factorial?\n",
    "#=> the product of an integer and all the integers below it; e.g. factorial four ( 4! ) is equal to 24\n",
    "\n",
    "num1 = int(input(\"Enter the number to find its Factorial: \"))\n",
    "fact=1\n",
    "for i in range(1,num1+1):\n",
    "    fact = fact * i\n",
    "    print(fact)"
   ]
  },
  {
   "cell_type": "code",
   "execution_count": 21,
   "id": "ef8bc45e",
   "metadata": {},
   "outputs": [
    {
     "name": "stdout",
     "output_type": "stream",
     "text": [
      "Enter the number to find its Factorial: 6\n",
      "720\n"
     ]
    }
   ],
   "source": [
    "# We are  finding the factorial of a number;\n",
    "# taking an input of a number.\n",
    "# assigning the fact variable.\n",
    "# starting with for loop from the range 1 to no+1\n",
    "# printing the result\n",
    "# Here we are only changing the print statement from one part to another\n",
    "\n",
    "num1 = int(input(\"Enter the number to find its Factorial: \"))\n",
    "fact=1\n",
    "for i in range(1,num1+1):\n",
    "    fact = fact * i\n",
    "print(fact)"
   ]
  },
  {
   "cell_type": "code",
   "execution_count": 24,
   "id": "cb90cd01",
   "metadata": {},
   "outputs": [
    {
     "name": "stdout",
     "output_type": "stream",
     "text": [
      "Enter the number to find its Factorial: 4\n",
      "1\n",
      "2\n",
      "6\n",
      "24\n"
     ]
    }
   ],
   "source": [
    "# We are  finding the factorial of a number;\n",
    "# taking an input of a number.\n",
    "# assigning the fact variable.\n",
    "# starting with while loop from the range 1 to no+1\n",
    "# printing the result\n",
    "\n",
    "num1 = int(input(\"Enter the number to find its Factorial: \"))\n",
    "fact=1\n",
    "i=1\n",
    "while i<=num1:\n",
    "    fact = fact * i\n",
    "    print(fact)\n",
    "    i += 1"
   ]
  },
  {
   "cell_type": "code",
   "execution_count": 25,
   "id": "3e829d04",
   "metadata": {},
   "outputs": [
    {
     "name": "stdout",
     "output_type": "stream",
     "text": [
      "Enter the number to find its Factorial: 4\n",
      "24\n"
     ]
    }
   ],
   "source": [
    "# We are  finding the factorial of a number;\n",
    "# taking an input of a number.\n",
    "# assigning the fact variable.\n",
    "# starting with while loop from the range 1 to no+1\n",
    "# printing the result\n",
    "# Here we are only changing the print statement from one part to another\n",
    "\n",
    "num1 = int(input(\"Enter the number to find its Factorial: \"))\n",
    "fact=1\n",
    "i=1\n",
    "while i<=num1:\n",
    "    fact = fact * i\n",
    "    i += 1\n",
    "print(fact)\n",
    "    "
   ]
  },
  {
   "cell_type": "code",
   "execution_count": 27,
   "id": "fc74e3e5",
   "metadata": {},
   "outputs": [
    {
     "name": "stdout",
     "output_type": "stream",
     "text": [
      "Enter the Number to check the Prime Number: 10\n",
      "10 Is not a prime number\n",
      "10 is a prime number\n",
      "10 is a prime number\n",
      "10 Is not a prime number\n",
      "10 is a prime number\n",
      "10 is a prime number\n",
      "10 is a prime number\n",
      "10 is a prime number\n"
     ]
    }
   ],
   "source": [
    "# we are know finding the prime number:-\n",
    "# What is a prime number?\n",
    "# => a whole number greater than 1 that cannot be exactly divided by any whole number other than itself and 1 (e.g. 2, 3, 5, 7, 11).\n",
    "# Taking an input of a number.\n",
    "# using if condition \n",
    "# starting the for loop \n",
    "#print the result at end which satisfices the conditions.\n",
    "\n",
    "num2 = int(input(\"Enter the Number to check the Prime Number: \"))\n",
    "if num2>1:\n",
    "    for i in range(2,num2):\n",
    "        if num2%i==0:\n",
    "            print(num2,\"Is not a prime number\")\n",
    "        else:\n",
    "            print(num2,\"is a prime number\")\n",
    "else:\n",
    "    print(num2,\"is a prime number\")\n",
    "        "
   ]
  },
  {
   "cell_type": "code",
   "execution_count": 28,
   "id": "92239b5f",
   "metadata": {},
   "outputs": [
    {
     "name": "stdout",
     "output_type": "stream",
     "text": [
      "Enter the Number to check the Prime Number: 10\n",
      "10 Is not a prime number\n"
     ]
    }
   ],
   "source": [
    "# we are know finding the prime number:-\n",
    "# What is a prime number?\n",
    "# => a whole number greater than 1 that cannot be exactly divided by any whole number other than itself and 1 (e.g. 2, 3, 5, 7, 11).\n",
    "# Taking an input of a number.\n",
    "# using if condition \n",
    "# starting the for loop \n",
    "#print the result at end which satisfices the conditions.\n",
    "# here if we make the break condition it will avoid the repetation of the result\n",
    "\n",
    "num2 = int(input(\"Enter the Number to check the Prime Number: \"))\n",
    "if num2>1:\n",
    "    for i in range(2,num2):\n",
    "        if num2%i==0:\n",
    "            print(num2,\"is not a prime number\")\n",
    "            break\n",
    "        else:\n",
    "            print(num2,\"is a prime number\")\n",
    "            break\n",
    "else:\n",
    "    print(num2,\"is a prime number\")\n",
    "        "
   ]
  },
  {
   "cell_type": "code",
   "execution_count": 29,
   "id": "5433288f",
   "metadata": {},
   "outputs": [
    {
     "name": "stdout",
     "output_type": "stream",
     "text": [
      "Enter the Number to check the Prime Number: 2\n"
     ]
    }
   ],
   "source": [
    "# we are know finding the prime number:-\n",
    "# What is a prime number?\n",
    "# => a whole number greater than 1 that cannot be exactly divided by any whole number other than itself and 1 (e.g. 2, 3, 5, 7, 11).\n",
    "# Taking an input of a number.\n",
    "# using if condition \n",
    "# starting the for loop \n",
    "#print the result at end which satisfices the conditions.\n",
    "# here if we make the break condition it will avoid the repetation of the result\n",
    "\n",
    "num2 = int(input(\"Enter the Number to check the Prime Number: \"))\n",
    "if num2>1:\n",
    "    for i in range(2,num2):\n",
    "        if num2%i==0:\n",
    "            print(num2,\"is not a prime number\")\n",
    "            break\n",
    "        else:\n",
    "            print(num2,\"is a prime number\")\n",
    "            break\n",
    "else:\n",
    "    print(num2,\"is a prime number\")\n",
    "    # Here we are not getting the result of 2 because we are starting the range from 2 "
   ]
  },
  {
   "cell_type": "code",
   "execution_count": 30,
   "id": "d5e27d3d",
   "metadata": {},
   "outputs": [
    {
     "name": "stdout",
     "output_type": "stream",
     "text": [
      "Enter the Number to check the Prime Number: 2\n",
      "2 is a prime number\n"
     ]
    }
   ],
   "source": [
    "# we are know finding the prime number:-\n",
    "# What is a prime number?\n",
    "# => a whole number greater than 1 that cannot be exactly divided by any whole number other than itself and 1 (e.g. 2, 3, 5, 7, 11).\n",
    "# Taking an input of a number.\n",
    "# using if condition \n",
    "# starting the for loop \n",
    "#print the result at end which satisfices the conditions.\n",
    "# here if we make the break condition it will avoid the repetation of the result\n",
    "# to find the result of 2 also we have to change the else place from if to for\n",
    "\n",
    "num2 = int(input(\"Enter the Number to check the Prime Number: \"))\n",
    "if num2>1:\n",
    "    for i in range(2,num2):\n",
    "        if num2%i==0:\n",
    "            print(num2,\"is not a prime number\")\n",
    "            break\n",
    "    else:\n",
    "        print(num2,\"is a prime number\")\n",
    "            \n",
    "else:\n",
    "    print(num2,\"is a prime number\")"
   ]
  },
  {
   "cell_type": "code",
   "execution_count": 1,
   "id": "542eef27",
   "metadata": {},
   "outputs": [
    {
     "name": "stdout",
     "output_type": "stream",
     "text": [
      "Enter the Number to check the Prime Number: 5\n",
      "5 is a prime number\n"
     ]
    }
   ],
   "source": [
    "# we are know finding the prime number:-\n",
    "# What is a prime number?\n",
    "# => a whole number greater than 1 that cannot be exactly divided by any whole number other than itself and 1 (e.g. 2, 3, 5, 7, 11).\n",
    "# Taking an input of a number.\n",
    "# using if condition \n",
    "# starting the while loop \n",
    "#print the result at end which satisfices the conditions.\n",
    "\n",
    "num2 = int(input(\"Enter the Number to check the Prime Number: \"))\n",
    "if num2>1:\n",
    "    i=2\n",
    "    while i<=num2:\n",
    "        if num2%i==0:\n",
    "            print(num2,\"is not a prime number\")\n",
    "            break\n",
    "        else:\n",
    "            print(num2,\"is a prime number\")\n",
    "            break\n",
    "else:\n",
    "    print(num2,\"is a prime number\")\n",
    "        "
   ]
  },
  {
   "cell_type": "code",
   "execution_count": 5,
   "id": "bd7bfe09",
   "metadata": {},
   "outputs": [
    {
     "name": "stdout",
     "output_type": "stream",
     "text": [
      "Enter the Number to check the Prime Number: 2\n",
      "2 is not a prime number\n"
     ]
    }
   ],
   "source": [
    "# we are know finding the prime number:-\n",
    "# What is a prime number?\n",
    "# => a whole number greater than 1 that cannot be exactly divided by any whole number other than itself and 1 (e.g. 2, 3, 5, 7, 11).\n",
    "# Taking an input of a number.\n",
    "# using if condition \n",
    "# starting the while loop \n",
    "#print the result at end which satisfices the conditions.\n",
    "# here if we make the break condition it will avoid the repetation of the result\n",
    "# to find the result of 2 also we have to change the else place from if to for\n",
    "\n",
    "num2 = int(input(\"Enter the Number to check the Prime Number: \"))\n",
    "if num2>1:\n",
    "    i=2\n",
    "    while i<=num2:\n",
    "        if num2%i==0:\n",
    "            print(num2,\"is not a prime number\")\n",
    "            break\n",
    "    else:\n",
    "        print(num2,\"is a prime number\")\n",
    "else:\n",
    "    print(num2,\"is a prime number\")\n",
    "    "
   ]
  },
  {
   "cell_type": "code",
   "execution_count": null,
   "id": "d327a606",
   "metadata": {},
   "outputs": [],
   "source": [
    "# What is Armstrong Numbers?\n",
    "# => An Armstrong number is a special kind of number in math. It's a number that equals the sum of its\n",
    "#    digits, each raised to a power. For example, if you have a number like 153, it's an Armstrong number\n",
    "#    because 1^3 + 5^3 + 3^3 equals 153.\n",
    "# We have to find  the armstrong number\n",
    "# Firstly we input a number\n",
    "# take a variable to get the length ofv the number through converting it into string\n",
    "# know take a another value and store the value of number into it'\n",
    "# take a sum variable \n",
    "# start the while loop \n",
    "# make th if confition at last\n",
    "\n",
    "num_ = int(input(\"Enter the Number to find Armstrong Number: \"))\n",
    "z = len(str(num_))\n",
    "digit = num_\n",
    "sum_ = 0\n",
    "while digit>0:\n",
    "    a = digit % 10\n",
    "    sum_ = sum_ + (a)**z\n",
    "    digit = digit // 10\n",
    "    \n",
    "if num_ == sum_:\n",
    "    print(num_,\"is a Armstrong number\")\n",
    "else:\n",
    "    print(num_,\"is not a Armstrong number\")"
   ]
  },
  {
   "cell_type": "code",
   "execution_count": 3,
   "id": "9a18e660",
   "metadata": {},
   "outputs": [
    {
     "name": "stdout",
     "output_type": "stream",
     "text": [
      "Enter the Number to find Armstrong Number: 153\n",
      "153 is not a Armstrong number\n"
     ]
    }
   ],
   "source": [
    "# What is Armstrong Numbers?\n",
    "# => An Armstrong number is a special kind of number in math. It's a number that equals the sum of its\n",
    "#    digits, each raised to a power. For example, if you have a number like 153, it's an Armstrong number\n",
    "#    because 1^3 + 5^3 + 3^3 equals 153.\n",
    "# We have to find  the armstrong number\n",
    "# Firstly we input a number\n",
    "# take a variable to get the length ofv the number through converting it into string\n",
    "# know take a another value and store the value of number into it'\n",
    "# take a sum variable \n",
    "# start the while loop \n",
    "# make th if confition at last\n",
    "\n",
    "num_ = int(input(\"Enter the Number to find Armstrong Number: \"))\n",
    "z = len(str(num_))\n",
    "digit = num_\n",
    "sum_ = 0\n",
    "for i in range(digit>0):\n",
    "    a = digit % 10\n",
    "    sum_ = sum_ + (a)**z\n",
    "    digit = digit // 10\n",
    "    \n",
    "if num_ == sum_:\n",
    "    print(num_,\"is a Armstrong number\")\n",
    "else:\n",
    "    print(num_,\"is not a Armstrong number\")"
   ]
  },
  {
   "cell_type": "code",
   "execution_count": 9,
   "id": "4a21c24e",
   "metadata": {},
   "outputs": [
    {
     "name": "stdout",
     "output_type": "stream",
     "text": [
      "Enter the number for fibbonacci series: 9\n",
      "0 1 1 2 3 5 8 13 21 "
     ]
    }
   ],
   "source": [
    "# What is Fibonacci Series:-\n",
    "# => The Fibonacci series in python is a mathematical sequence that starts with 0 and 1, \n",
    "#   with each subsequent number being the sum of the two preceding ones. \n",
    "# we have to find the fibonacci series \n",
    "# Through for loop.\n",
    "\n",
    "num_ = int(input(\"Enter the number for fibbonacci series: \"))\n",
    "\n",
    "a = 0\n",
    "b = 1\n",
    "\n",
    "for i in range(num_):\n",
    "    print(a,end=\" \")\n",
    "    \n",
    "    a,b = b,a+b"
   ]
  },
  {
   "cell_type": "code",
   "execution_count": 11,
   "id": "9b0b7184",
   "metadata": {},
   "outputs": [
    {
     "name": "stdout",
     "output_type": "stream",
     "text": [
      "Enter the number for fibbonacci series: 9\n",
      "0 1 1 2 3 5 8 13 21 "
     ]
    }
   ],
   "source": [
    "# What is Fibonacci Series:-\n",
    "# => The Fibonacci series in python is a mathematical sequence that starts with 0 and 1, \n",
    "#   with each subsequent number being the sum of the two preceding ones. \n",
    "# we have to find the fibonacci series \n",
    "# Through while loop.\n",
    "\n",
    "num_ = int(input(\"Enter the number for fibbonacci series: \"))\n",
    "\n",
    "a = 0\n",
    "b = 1\n",
    "i = 0\n",
    "\n",
    "while i < num_:\n",
    "    print(a,end=\" \")\n",
    "    \n",
    "    a,b = b,a+b\n",
    "    i += 1"
   ]
  },
  {
   "cell_type": "code",
   "execution_count": 13,
   "id": "0c090e57",
   "metadata": {},
   "outputs": [
    {
     "name": "stdout",
     "output_type": "stream",
     "text": [
      "Enter the number for sum of n natural numbers: 10\n",
      "The sum of the first 10 natural numbers is: 55\n"
     ]
    }
   ],
   "source": [
    "# Sum of n natural numbers:-\n",
    " # using for loop:-\n",
    "    \n",
    "number = int(input(\"Enter the number for sum of n natural numbers: \"))\n",
    "sum_of_natural_numbers = 0\n",
    "\n",
    "for i in range(1,number+1):\n",
    "    sum_of_natural_numbers += i\n",
    "    \n",
    "\n",
    "print(f\"The sum of the first {number} natural numbers is: {sum_of_natural_numbers}\")\n",
    "    "
   ]
  },
  {
   "cell_type": "code",
   "execution_count": 15,
   "id": "9590be8b",
   "metadata": {},
   "outputs": [
    {
     "name": "stdout",
     "output_type": "stream",
     "text": [
      "Enter the number for sum of n natural numbers: 10\n",
      "The sum of the first 10 natural numbers is: 55\n"
     ]
    }
   ],
   "source": [
    "# Sum of n natural numbers:-\n",
    " # using while loop:-\n",
    "    \n",
    "number = int(input(\"Enter the number for sum of n natural numbers: \"))\n",
    "sum_of_natural_numbers = 0\n",
    "i = 0\n",
    "\n",
    "while i < number+1:\n",
    "    sum_of_natural_numbers += i\n",
    "    i += 1\n",
    "    \n",
    "\n",
    "print(f\"The sum of the first {number} natural numbers is: {sum_of_natural_numbers}\")\n",
    "    "
   ]
  },
  {
   "cell_type": "code",
   "execution_count": 26,
   "id": "0aef6844",
   "metadata": {},
   "outputs": [
    {
     "name": "stdout",
     "output_type": "stream",
     "text": [
      "Enter the numbers: 12321\n",
      "12321 is a palindrome.\n"
     ]
    }
   ],
   "source": [
    "# what is Palindrome no?\n",
    "# => For a number or string to be palindrome in Python, \n",
    "#   the number or string must be the same when inverted.\n",
    "#  If the string or number does not remain unaltered when reversed, it is not a Palindrome. \n",
    "#  For instance, 11, 414, 1221, and 123321 are palindrome numbers in Python.\n",
    "# through for loop\n",
    "\n",
    "num = input(\"Enter the numbers: \")\n",
    "\n",
    "is_palindrome = True\n",
    "\n",
    "length = len(num)\n",
    "          \n",
    "for i in range(length // 2):\n",
    "    if num[i] != num[length - i - 1]:\n",
    "        is_palindrome = False\n",
    "        break\n",
    "          \n",
    "\n",
    "if is_palindrome:\n",
    "    print(f\"{num} is a palindrome.\")\n",
    "else:\n",
    "    print(f\"{num} is not a palindrome\")"
   ]
  },
  {
   "cell_type": "code",
   "execution_count": 3,
   "id": "d9215bcf",
   "metadata": {},
   "outputs": [
    {
     "name": "stdout",
     "output_type": "stream",
     "text": [
      "Enter the numbers: 45554\n",
      "45554 is a palindrome.\n"
     ]
    }
   ],
   "source": [
    "# what is Palindrome no?\n",
    "# => For a number or string to be palindrome in Python, \n",
    "#   the number or string must be the same when inverted.\n",
    "#  If the string or number does not remain unaltered when reversed, it is not a Palindrome. \n",
    "#  For instance, 11, 414, 1221, and 123321 are palindrome numbers in Python.\n",
    "# through for loop\n",
    "\n",
    "num = input(\"Enter the numbers: \")\n",
    "\n",
    "i = 0\n",
    "j = len(num) - 1\n",
    "\n",
    "is_palindrome = True\n",
    "          \n",
    "while i < j:\n",
    "    if num[i] != num[j]:\n",
    "        is_palindrome = False\n",
    "        break\n",
    "    i += 1\n",
    "    j -= 1\n",
    "\n",
    "if is_palindrome:\n",
    "    print(f\"{num} is a palindrome.\")\n",
    "else:\n",
    "    print(f\"{num} is not a palindrome\")\n"
   ]
  },
  {
   "cell_type": "code",
   "execution_count": null,
   "id": "d7e39d34",
   "metadata": {},
   "outputs": [],
   "source": []
  },
  {
   "cell_type": "code",
   "execution_count": null,
   "id": "cd9d337c",
   "metadata": {},
   "outputs": [],
   "source": []
  }
 ],
 "metadata": {
  "kernelspec": {
   "display_name": "Python 3 (ipykernel)",
   "language": "python",
   "name": "python3"
  },
  "language_info": {
   "codemirror_mode": {
    "name": "ipython",
    "version": 3
   },
   "file_extension": ".py",
   "mimetype": "text/x-python",
   "name": "python",
   "nbconvert_exporter": "python",
   "pygments_lexer": "ipython3",
   "version": "3.10.9"
  }
 },
 "nbformat": 4,
 "nbformat_minor": 5
}
