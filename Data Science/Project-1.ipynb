{
 "cells": [
  {
   "cell_type": "markdown",
   "id": "385768c9-9568-44a2-87c6-d5f907356c9b",
   "metadata": {},
   "source": [
    "# PROJECT - 1"
   ]
  },
  {
   "cell_type": "code",
   "execution_count": 1,
   "id": "02a8616c-75b2-43a6-a2d0-a8129ad85ea1",
   "metadata": {},
   "outputs": [
    {
     "name": "stdout",
     "output_type": "stream",
     "text": [
      "Defaulting to user installation because normal site-packages is not writeable\n",
      "Requirement already satisfied: mysql-connector-python in c:\\users\\parul\\appdata\\roaming\\python\\python311\\site-packages (8.4.0)\n",
      "Note: you may need to restart the kernel to use updated packages.\n"
     ]
    }
   ],
   "source": [
    "pip install mysql-connector-python"
   ]
  },
  {
   "cell_type": "code",
   "execution_count": 2,
   "id": "ada323fd-cc8e-4125-bdc8-3e90927b864b",
   "metadata": {},
   "outputs": [
    {
     "name": "stdout",
     "output_type": "stream",
     "text": [
      "Defaulting to user installation because normal site-packages is not writeable\n",
      "Requirement already satisfied: PyMySQL in c:\\users\\parul\\appdata\\roaming\\python\\python311\\site-packages (1.1.1)\n",
      "Note: you may need to restart the kernel to use updated packages.\n"
     ]
    }
   ],
   "source": [
    "pip install PyMySQL"
   ]
  },
  {
   "cell_type": "code",
   "execution_count": 3,
   "id": "ad109bd2-5061-44f6-b68d-ffab832221b6",
   "metadata": {},
   "outputs": [
    {
     "name": "stdout",
     "output_type": "stream",
     "text": [
      "Defaulting to user installation because normal site-packages is not writeable\n",
      "Requirement already satisfied: MySQL in c:\\users\\parul\\appdata\\roaming\\python\\python311\\site-packages (0.0.3)\n",
      "Requirement already satisfied: mysqlclient in c:\\users\\parul\\appdata\\roaming\\python\\python311\\site-packages (from MySQL) (2.2.4)\n",
      "Note: you may need to restart the kernel to use updated packages.\n"
     ]
    }
   ],
   "source": [
    "pip install MySQL"
   ]
  },
  {
   "cell_type": "code",
   "execution_count": 4,
   "id": "c95d49b8-a7c4-412b-83c2-81fe0b780fab",
   "metadata": {},
   "outputs": [],
   "source": [
    "import pandas as pd\n",
    "import mysql.connector"
   ]
  },
  {
   "cell_type": "code",
   "execution_count": 5,
   "id": "4ef8a5f7-e49c-466e-a0a8-63aa5a17f0fb",
   "metadata": {},
   "outputs": [],
   "source": [
    "class Visualization:\n",
    "    \n",
    "    def DataType(rp):\n",
    "        \n",
    "        x=input(\"Enter the Type of dataVisualization:\")\n",
    "        \n",
    "        if x==\"MySql Database\":\n",
    "            \n",
    "            from sqlalchemy import create_engine\n",
    "            \n",
    "            import pandas as pd\n",
    "            \n",
    "            databasename = input(\"Enter the Database Name:\")\n",
    "            table = input(\"Enter the table Name:\")\n",
    "            hostname = \"localhost\"\n",
    "            dbname = databasename\n",
    "            uname = \"root\"\n",
    "            pwd = \"redhat\"\n",
    "            tablename = table\n",
    "            engine = create_engine(\"mysql+pymysql://{user}:{pw}@{host}/{db}\"\n",
    "                           .format(host=hostname, db=dbname,\n",
    "                                   user=uname,pw=pwd))\n",
    "            df = pd.read_sql(tablename, engine)\n",
    "            df = df.head()\n",
    "            print(df)\n",
    "\n",
    "            \n",
    "            import pandas as pd\n",
    "            \n",
    "            s = input(\"Enter the plot name :\")\n",
    "            \n",
    "            if s==\"bar\":\n",
    "                print(df.plot.bar())\n",
    "        \n",
    "            elif s==\"histogram\":\n",
    "                print(df.diff().hist(color=\"red\"))\n",
    "        \n",
    "            elif s==\"box\":\n",
    "                print(df.plot.box())\n",
    "        \n",
    "            elif s==\"density\":\n",
    "                print(df.plot.kde())\n",
    "        \n",
    "            elif s==\"area\":\n",
    "                print(df.plot.area())\n",
    "        \n",
    "            elif s==\"scatter\":\n",
    "                x1=input(\"Enter the value of x:\")\n",
    "                y1=input(\"Enter the value of y:\")\n",
    "                print(df.plot.scatter(x =x1, y =y1))\n",
    "        \n",
    "            elif s==\"Hexagonal Bin\":\n",
    "                x1=input(\"Enter the value of x:\")\n",
    "                y1=input(\"Enter the value of y:\")\n",
    "                print(df.plot.hexbin(x =x1, y =y1, gridsize = 25))\n",
    "        \n",
    "            elif s==\"Pie\":\n",
    "                c=input(\"Enter the column name:\")\n",
    "                print(df[c].plot.pie(subplots=True))\n",
    "        \n",
    "            elif s==\"Line\":\n",
    "                x1=input(\"Enter the value of x:\")\n",
    "                y1=input(\"Enter the value of y:\")\n",
    "                print(df.plot.line(x=x1, y=y1, figsize=(8,6)))  \n",
    "            \n",
    "        elif x==\"Html\":\n",
    "            \n",
    "            import pandas as pd\n",
    "            \n",
    "            url = input(\"Enter the Html table link:\")\n",
    "            df = pd.read_html(url)\n",
    "            df = df[0]\n",
    "            df = df.head(10)\n",
    "            print(df)\n",
    "\n",
    "            import pandas as pd\n",
    "            \n",
    "            s = input(\"Enter the plot name :\")\n",
    "            \n",
    "            if s==\"bar\":\n",
    "                print(df.plot.bar())\n",
    "        \n",
    "            elif s==\"histogram\":\n",
    "                print(df.diff().hist(color=\"red\"))\n",
    "        \n",
    "            elif s==\"box\":\n",
    "                print(df.plot.box())\n",
    "        \n",
    "            elif s==\"density\":\n",
    "                print(df.plot.kde())\n",
    "        \n",
    "            elif s==\"area\":\n",
    "                print(df.plot.area())\n",
    "        \n",
    "            elif s==\"scatter\":\n",
    "                x1=input(\"Enter the value of x:\")\n",
    "                y1=input(\"Enter the value of y:\")\n",
    "                print(df.plot.scatter(x =x1, y =y1))\n",
    "        \n",
    "            elif s==\"Hexagonal Bin\":\n",
    "                x1=input(\"Enter the value of x:\")\n",
    "                y1=input(\"Enter the value of y:\")\n",
    "                print(df.plot.hexbin(x =x1, y =y1, gridsize = 25))\n",
    "        \n",
    "            elif s==\"Pie\":\n",
    "                c=input(\"Enter the column name:\")\n",
    "                print(df[c].plot.pie(subplots=True))\n",
    "        \n",
    "            elif s==\"Line\":\n",
    "                x1=input(\"Enter the value of x:\")\n",
    "                y1=input(\"Enter the value of y:\")\n",
    "                print(df.plot.line(x=x1, y=y1, figsize=(8,6)))      \n",
    "            \n",
    "        elif x==\"Csv\":\n",
    "            \n",
    "            import pandas as pd\n",
    "            \n",
    "            url = input(\"Enter the csv table link:\")\n",
    "            df = pd.read_csv(url)\n",
    "            df = df\n",
    "            df = df.head(10)\n",
    "            print(df)\n",
    "            \n",
    "            import pandas as pd \n",
    "            \n",
    "            s = input(\"Enter the plot name :\")\n",
    "            \n",
    "            if s==\"bar\":\n",
    "                print(df.plot.bar())\n",
    "        \n",
    "            elif s==\"histogram\":\n",
    "                print(df.diff().hist(color=\"red\"))\n",
    "        \n",
    "            elif s==\"box\":\n",
    "                print(df.plot.box())\n",
    "        \n",
    "            elif s==\"density\":\n",
    "                print(df.plot.kde())\n",
    "        \n",
    "            elif s==\"area\":\n",
    "                print(df.plot.area())\n",
    "        \n",
    "            elif s==\"scatter\":\n",
    "                x1=input(\"Enter the value of x:\")\n",
    "                y1=input(\"Enter the value of y:\")\n",
    "                print(df.plot.scatter(x =x1, y =y1))\n",
    "        \n",
    "            elif s==\"Hexagonal Bin\":\n",
    "                x1=input(\"Enter the value of x:\")\n",
    "                y1=input(\"Enter the value of y:\")\n",
    "                print(df.plot.hexbin(x =x1, y =y1, gridsize = 25))\n",
    "        \n",
    "            elif s==\"Pie\":\n",
    "                c=input(\"Enter the column name:\")\n",
    "                print(df[c].plot.pie(subplots=True))\n",
    "        \n",
    "            elif s==\"Line\":\n",
    "                x1=input(\"Enter the value of x:\")\n",
    "                y1=input(\"Enter the value of y:\")\n",
    "                print(df.plot.line(x=x1, y=y1, figsize=(8,6)))  \n",
    "            \n",
    "        elif x==\"excel\":\n",
    "            \n",
    "            import pandas as pd\n",
    "            \n",
    "            url = input(\"Enter the excel table link:\")\n",
    "            df = pd.read_excel(url)\n",
    "            df = df\n",
    "            df = df.head(10)\n",
    "            print(df)\n",
    "            \n",
    "            import pandas as pd\n",
    "            \n",
    "            s = input(\"Enter the plot name :\")\n",
    "            \n",
    "            if s==\"bar\":\n",
    "                print(df.plot.bar())\n",
    "        \n",
    "            elif s==\"histogram\":\n",
    "                print(df.diff().hist(color=\"red\"))\n",
    "        \n",
    "            elif s==\"box\":\n",
    "                print(df.plot.box())\n",
    "        \n",
    "            elif s==\"density\":\n",
    "                print(df.plot.kde())\n",
    "        \n",
    "            elif s==\"area\":\n",
    "                print(df.plot.area())\n",
    "        \n",
    "            elif s==\"scatter\":\n",
    "                x1=input(\"Enter the value of x:\")\n",
    "                y1=input(\"Enter the value of y:\")\n",
    "                print(df.plot.scatter(x =x1, y =y1))\n",
    "        \n",
    "            elif s==\"Hexagonal Bin\":\n",
    "                x1=input(\"Enter the value of x:\")\n",
    "                y1=input(\"Enter the value of y:\")\n",
    "                print(df.plot.hexbin(x =x1, y =y1, gridsize = 25))\n",
    "        \n",
    "            elif s==\"Pie\":\n",
    "                c=input(\"Enter the column name:\")\n",
    "                print(df[c].plot.pie(subplots=True))\n",
    "        \n",
    "            elif s==\"Line\":\n",
    "                x1=input(\"Enter the value of x:\")\n",
    "                y1=input(\"Enter the value of y:\")\n",
    "                print(df.plot.line(x=x1, y=y1, figsize=(8,6)))  \n",
    "            \n",
    "            \n",
    "       \n",
    "    "
   ]
  },
  {
   "cell_type": "code",
   "execution_count": 6,
   "id": "391fa647-37e7-408d-bcd6-d25f81faaa3f",
   "metadata": {},
   "outputs": [
    {
     "name": "stdin",
     "output_type": "stream",
     "text": [
      "Enter the Type of dataVisualization: MySql Database\n",
      "Enter the Database Name: iiht\n",
      "Enter the table Name: student\n"
     ]
    },
    {
     "name": "stdout",
     "output_type": "stream",
     "text": [
      "    id  name\n",
      "0  101  Aman\n",
      "1  102  Amar\n"
     ]
    },
    {
     "name": "stdin",
     "output_type": "stream",
     "text": [
      "Enter the plot name : bar\n"
     ]
    },
    {
     "name": "stdout",
     "output_type": "stream",
     "text": [
      "Axes(0.125,0.11;0.775x0.77)\n"
     ]
    },
    {
     "data": {
      "image/png": "[encoded data removed]",
      "text/plain": [
       "<Figure size 640x480 with 1 Axes>"
      ]
     },
     "metadata": {},
     "output_type": "display_data"
    }
   ],
   "source": [
    "# Calling the obj as visulaization:-\n",
    "# Calling the obj as the datatype:-\n",
    "\n",
    "obj=Visualization()\n",
    "obj.DataType()\n"
   ]
  },
  {
   "cell_type": "code",
   "execution_count": null,
   "id": "b3d6238a-2210-4925-9992-e8124deeb55e",
   "metadata": {},
   "outputs": [],
   "source": []
  }
 ],
 "metadata": {
  "kernelspec": {
   "display_name": "Python 3 (ipykernel)",
   "language": "python",
   "name": "python3"
  },
  "language_info": {
   "codemirror_mode": {
    "name": "ipython",
    "version": 3
   },
   "file_extension": ".py",
   "mimetype": "text/x-python",
   "name": "python",
   "nbconvert_exporter": "python",
   "pygments_lexer": "ipython3",
   "version": "3.11.7"
  }
 },
 "nbformat": 4,
 "nbformat_minor": 5
}
