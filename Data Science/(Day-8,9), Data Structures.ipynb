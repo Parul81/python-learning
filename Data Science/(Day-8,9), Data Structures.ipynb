{
 "cells": [
  {
   "cell_type": "markdown",
   "id": "d7edb055",
   "metadata": {},
   "source": [
    "# Data Structure"
   ]
  },
  {
   "cell_type": "code",
   "execution_count": null,
   "id": "f2bf6592",
   "metadata": {},
   "outputs": [],
   "source": [
    "# What is Data Structure ?\n",
    "# => A data structure is a way of organizing and storing data in a computer so that it can be accessed\n",
    "#    and used efficiently. It defines the relationship between the data and the operations that can be\n",
    "#    performed on the data\n",
    "# what are the types of data Structure?\n",
    "# =>Data structures can be classified into two main categories:\n",
    "\n",
    "#Linear Data Structures: These structures store data in a sequential order this allowing for easy\n",
    "#                insertion and deletion operations. Examples include arrays, linked lists, and queues.\n",
    "#Non-Linear Data Structures: These structures store data in a hierarchical or interconnected manner\n",
    "#                          this allowing for more complex relationships between data elements.\n",
    "#Examples include trees, graphs, and hash tables.\n",
    "\n",
    "#Types of Data Structures\n",
    "\n",
    "#=>Basically, data structures are divided into two categories:\n",
    "\n",
    "# Linear Data Structures:\n",
    "# .> Array: A collection of elements of the same type stored in contiguous memory locations.\n",
    "# .>Linked List: A collection of elements linked together by pointers, allowing for dynamic insertion\n",
    "#                and deletion.\n",
    "# .>Queue: A First-In-First-Out (FIFO) structure where elements are added at the end and removed from \n",
    "#          the beginning.\n",
    "# .>Stack: A Last-In-First-Out (LIFO) structure where elements are added and removed from the top.\n",
    "# Non-Linear Data Structures:\n",
    "# .>Tree: A hierarchical structure where each node can have multiple child nodes.\n",
    "# .>Graph: A collection of nodes connected by edges, representing relationships between data elements.\n",
    "# .>Hash Table: A data structure that uses a hash function to map keys to values, allowing for fast \n",
    "#               lookup and insertion.\n",
    "\n",
    "\n",
    "# types of Data Structure:=>\n",
    "# 1) Homogenous Datatype:= Homogenous data structures consist of the same data element type, like \n",
    "#                         element collections found in an array. In non-homogenous structures, the \n",
    "#                         data don't have to be the same type, such as structures\n",
    "# 2) Heterogenous Datatype:= Heterogeneous data refers to a dataset composed of different data types,\n",
    "#                            structures, formats or sources. The evolution of digitization has led to \n",
    "#                            an explosion in data generation, resulting in increasing varieties of \n",
    "#                            data, such as structured, semi-structured, and unstructured data."
   ]
  },
  {
   "cell_type": "markdown",
   "id": "ad2cbbd8",
   "metadata": {},
   "source": [
    "# LIST"
   ]
  },
  {
   "cell_type": "code",
   "execution_count": 1,
   "id": "f94f59c2",
   "metadata": {},
   "outputs": [
    {
     "name": "stdout",
     "output_type": "stream",
     "text": [
      "[45, 55, 'Sam', 'Parul', 23.5, 67.5] <class 'list'>\n"
     ]
    }
   ],
   "source": [
    "# What is list?\n",
    "# => A list is a data structure in Python that is a mutable. \n",
    "# => changeble\n",
    "# => ordered dequence of elements.\n",
    "# => Each element or value that is inside of a list is called an item.\n",
    "# => Just as strings are defined as characters between quotes, lists are defined by having values  \n",
    "# =>between square brackets[]\n",
    "# creating a hetrogenous list.\n",
    "# print the reult with the datatype.\n",
    "\n",
    "l = [45,55,\"Sam\",\"Parul\",23.5,67.5]\n",
    "print(l,type(l))"
   ]
  },
  {
   "cell_type": "code",
   "execution_count": 3,
   "id": "3121bc36",
   "metadata": {},
   "outputs": [
    {
     "data": {
      "text/plain": [
       "2794785302400"
      ]
     },
     "execution_count": 3,
     "metadata": {},
     "output_type": "execute_result"
    }
   ],
   "source": [
    "# Checking list is mutable or immutable:-\n",
    "# findimg id of list:-\n",
    "id(l)"
   ]
  },
  {
   "cell_type": "code",
   "execution_count": 4,
   "id": "882f5e75",
   "metadata": {},
   "outputs": [
    {
     "data": {
      "text/plain": [
       "'Sam'"
      ]
     },
     "execution_count": 4,
     "metadata": {},
     "output_type": "execute_result"
    }
   ],
   "source": [
    "# Now, changing values in in list to check list mutable or immutable.\n",
    "# changing l(2)=55 to 97 and l(3) \"Sam\" to 'Amisha'\n",
    "\n",
    "l[2]"
   ]
  },
  {
   "cell_type": "code",
   "execution_count": 5,
   "id": "80d01cbf",
   "metadata": {},
   "outputs": [],
   "source": [
    "# Now, changing values in in list to check list mutable or immutable.\n",
    "# changing l(2)=55 to 97 and l(3) \"Sam\" to 'Amisha'\n",
    "\n",
    "l[2]= 97\n",
    "l[3]= \"Amisha\""
   ]
  },
  {
   "cell_type": "code",
   "execution_count": 8,
   "id": "206868a0",
   "metadata": {},
   "outputs": [
    {
     "data": {
      "text/plain": [
       "97"
      ]
     },
     "execution_count": 8,
     "metadata": {},
     "output_type": "execute_result"
    }
   ],
   "source": [
    "# checking the changes at l[2]\n",
    "\n",
    "l[2]"
   ]
  },
  {
   "cell_type": "code",
   "execution_count": 9,
   "id": "432309bb",
   "metadata": {},
   "outputs": [
    {
     "data": {
      "text/plain": [
       "'Amisha'"
      ]
     },
     "execution_count": 9,
     "metadata": {},
     "output_type": "execute_result"
    }
   ],
   "source": [
    "# Checking the changes at l[3]\n",
    "\n",
    "l[3]"
   ]
  },
  {
   "cell_type": "code",
   "execution_count": 10,
   "id": "1be662be",
   "metadata": {},
   "outputs": [
    {
     "data": {
      "text/plain": [
       "[45, 55, 97, 'Amisha', 23.5, 67.5]"
      ]
     },
     "execution_count": 10,
     "metadata": {},
     "output_type": "execute_result"
    }
   ],
   "source": [
    "# Now checking the change in the original list:-\n",
    "\n",
    "l"
   ]
  },
  {
   "cell_type": "code",
   "execution_count": 11,
   "id": "0c606e7e",
   "metadata": {},
   "outputs": [
    {
     "data": {
      "text/plain": [
       "2794785302400"
      ]
     },
     "execution_count": 11,
     "metadata": {},
     "output_type": "execute_result"
    }
   ],
   "source": [
    "# Know checking the id is changed or not:-\n",
    "\n",
    "id(l)\n",
    "\n",
    "# here the id is same it procies that the list is mutable."
   ]
  },
  {
   "cell_type": "code",
   "execution_count": 12,
   "id": "271bfab8",
   "metadata": {},
   "outputs": [
    {
     "data": {
      "text/plain": [
       "[23, 34, 97, 'Amisha', 23.5, 67.5]"
      ]
     },
     "execution_count": 12,
     "metadata": {},
     "output_type": "execute_result"
    }
   ],
   "source": [
    "# know we are making an another new list and call it as list1 \n",
    "# insert some values into it .\n",
    "# We are working on indexing :-\n",
    "#    1) Forward indexing :- It always start from 0\n",
    "#    2) Backward indexing :- It always start from -1\n",
    "\n",
    "list1 = [23,34,97, 'Amisha', 23.5, 67.5]\n",
    "list1"
   ]
  },
  {
   "cell_type": "code",
   "execution_count": 13,
   "id": "b6378ec5",
   "metadata": {},
   "outputs": [
    {
     "data": {
      "text/plain": [
       "'Amisha'"
      ]
     },
     "execution_count": 13,
     "metadata": {},
     "output_type": "execute_result"
    }
   ],
   "source": [
    "# Forward indexing :-\n",
    "\n",
    "list1[3]"
   ]
  },
  {
   "cell_type": "code",
   "execution_count": 15,
   "id": "3b7a7e25",
   "metadata": {},
   "outputs": [
    {
     "data": {
      "text/plain": [
       "'Amisha'"
      ]
     },
     "execution_count": 15,
     "metadata": {},
     "output_type": "execute_result"
    }
   ],
   "source": [
    "# Backward indexing:-\n",
    "\n",
    "list1[-3]"
   ]
  },
  {
   "cell_type": "code",
   "execution_count": 17,
   "id": "ee5f5692",
   "metadata": {
    "scrolled": true
   },
   "outputs": [
    {
     "name": "stdout",
     "output_type": "stream",
     "text": [
      "97\n",
      "23.5\n",
      "34\n",
      "67.5\n"
     ]
    }
   ],
   "source": [
    "# some more example of Forward indexing\n",
    "\n",
    "print(list1[2])\n",
    "print(list1[4])\n",
    "print(list1[1])\n",
    "print(list1[5])"
   ]
  },
  {
   "cell_type": "code",
   "execution_count": 18,
   "id": "357a64c4",
   "metadata": {},
   "outputs": [
    {
     "name": "stdout",
     "output_type": "stream",
     "text": [
      "23.5\n",
      "97\n",
      "67.5\n",
      "34\n"
     ]
    }
   ],
   "source": [
    "# some more example of Backward indexing\n",
    "\n",
    "print(list1[-2])\n",
    "print(list1[-4])\n",
    "print(list1[-1])\n",
    "print(list1[-5])"
   ]
  },
  {
   "cell_type": "code",
   "execution_count": 20,
   "id": "d64a4e92",
   "metadata": {},
   "outputs": [
    {
     "name": "stdout",
     "output_type": "stream",
     "text": [
      "Priya\n"
     ]
    }
   ],
   "source": [
    "# Creating a new list list_ with hetergenous datatypes:-\n",
    "# print the statement with length.\n",
    "\n",
    "list_ = [43,68,\"Puja\",11.3,564,67+19j,\"Priya\"]\n",
    "print(list_[len(l)])"
   ]
  },
  {
   "cell_type": "code",
   "execution_count": 21,
   "id": "2146578a",
   "metadata": {},
   "outputs": [
    {
     "data": {
      "text/plain": [
       "[43, 68, 'Puja', 11.3, 564, (67+19j), 'Priya']"
      ]
     },
     "execution_count": 21,
     "metadata": {},
     "output_type": "execute_result"
    }
   ],
   "source": [
    "# print the original list_\n",
    "\n",
    "list_"
   ]
  },
  {
   "cell_type": "code",
   "execution_count": 24,
   "id": "4e2ec1bd",
   "metadata": {},
   "outputs": [
    {
     "data": {
      "text/plain": [
       "'Priya'"
      ]
     },
     "execution_count": 24,
     "metadata": {},
     "output_type": "execute_result"
    }
   ],
   "source": [
    "# print the length of the list_\n",
    "\n",
    "list_[len(l)-0]"
   ]
  },
  {
   "cell_type": "code",
   "execution_count": 32,
   "id": "61254c05",
   "metadata": {},
   "outputs": [
    {
     "data": {
      "text/plain": [
       "43"
      ]
     },
     "execution_count": 32,
     "metadata": {},
     "output_type": "execute_result"
    }
   ],
   "source": [
    "list_[len(l)-6]"
   ]
  },
  {
   "cell_type": "code",
   "execution_count": 33,
   "id": "f906ff6f",
   "metadata": {},
   "outputs": [
    {
     "data": {
      "text/plain": [
       "[43, 68, 'Puja', 11.3, 564, (67+19j), 'Priya']"
      ]
     },
     "execution_count": 33,
     "metadata": {},
     "output_type": "execute_result"
    }
   ],
   "source": [
    "list_"
   ]
  },
  {
   "cell_type": "code",
   "execution_count": 34,
   "id": "1d92ea3f",
   "metadata": {},
   "outputs": [
    {
     "name": "stdout",
     "output_type": "stream",
     "text": [
      "43\n",
      "68\n",
      "Puja\n",
      "11.3\n",
      "564\n",
      "(67+19j)\n",
      "Priya\n"
     ]
    }
   ],
   "source": [
    "# Using for loop to print the list:-\n",
    "# start the for loop with the reference of the original list_\n",
    "# and print the result\n",
    "\n",
    "for k in list_:\n",
    "    print(k)"
   ]
  },
  {
   "cell_type": "code",
   "execution_count": 35,
   "id": "c5155287",
   "metadata": {},
   "outputs": [
    {
     "name": "stdout",
     "output_type": "stream",
     "text": [
      "43 * 68 * Puja * 11.3 * 564 * (67+19j) * Priya * "
     ]
    }
   ],
   "source": [
    "# Using for loop to print the list:-\n",
    "# start the for loop with the reference of the original list_\n",
    "# to make the list into the forward way we will add \"end=\" to amke it in one single line\n",
    "# and print the result\n",
    "\n",
    "for k in list_:\n",
    "    print(k,end=\" * \")"
   ]
  },
  {
   "cell_type": "code",
   "execution_count": 36,
   "id": "f864a106",
   "metadata": {},
   "outputs": [
    {
     "name": "stdout",
     "output_type": "stream",
     "text": [
      "0\n",
      "1\n",
      "2\n",
      "3\n",
      "4\n",
      "5\n",
      "6\n"
     ]
    }
   ],
   "source": [
    "# Using for loop to print the list:-\n",
    "# start the for loop with the reference of the original list_\n",
    "# to find the len of the list_:-\n",
    "# and print the result\n",
    "\n",
    "for k in range(len(list_)):\n",
    "    print(k)\n",
    "    "
   ]
  },
  {
   "cell_type": "code",
   "execution_count": 37,
   "id": "60ddd0b6",
   "metadata": {},
   "outputs": [
    {
     "name": "stdout",
     "output_type": "stream",
     "text": [
      "0 * 1 * 2 * 3 * 4 * 5 * 6 * "
     ]
    }
   ],
   "source": [
    "# Using for loop to print the list:-\n",
    "# start the for loop with the reference of the original list_\n",
    "# to make the list into the forward way we will add \"end=\" to amke it in one single line\n",
    "# to find the len of the list_:-\n",
    "# and print the result\n",
    "\n",
    "for k in range(len(list_)):\n",
    "    print(k,end=\" * \")"
   ]
  },
  {
   "cell_type": "code",
   "execution_count": 38,
   "id": "c6466791",
   "metadata": {},
   "outputs": [
    {
     "name": "stdout",
     "output_type": "stream",
     "text": [
      "43 * 68 * Puja * 11.3 * 564 * (67+19j) * Priya * "
     ]
    }
   ],
   "source": [
    "# Using for loop to print the list:-\n",
    "# start the for loop with the reference of the original list_\n",
    "# to make the list into the forward way we will add \"end=\" to amke it in one single line\n",
    "# to find the len of the list_:-\n",
    "# if we want to print the real values than we did so\n",
    "# and print the result\n",
    "\n",
    "for k in range(len(list_)):\n",
    "    print(list_[k],end=\" * \")"
   ]
  },
  {
   "cell_type": "code",
   "execution_count": 42,
   "id": "1f8480a5",
   "metadata": {},
   "outputs": [
    {
     "data": {
      "text/plain": [
       "[1, 2, 3, 4, 5, 6, 7, 8, 9, 10]"
      ]
     },
     "execution_count": 42,
     "metadata": {},
     "output_type": "execute_result"
    }
   ],
   "source": [
    "# Create an anothe rlist as l1:-\n",
    "\n",
    "l1 = [1,2,3,4,5,6,7,8,9,10]\n",
    "l1"
   ]
  },
  {
   "cell_type": "code",
   "execution_count": 43,
   "id": "42c2012e",
   "metadata": {},
   "outputs": [
    {
     "name": "stdout",
     "output_type": "stream",
     "text": [
      "3\n",
      "4\n",
      "5\n",
      "6\n",
      "7\n",
      "8\n",
      "9\n",
      "10\n",
      "11\n",
      "12\n"
     ]
    }
   ],
   "source": [
    "# Adding the values in the list:-\n",
    "\n",
    "for k in l1:\n",
    "    print(k+2)"
   ]
  },
  {
   "cell_type": "code",
   "execution_count": 45,
   "id": "808d4465",
   "metadata": {},
   "outputs": [
    {
     "data": {
      "text/plain": [
       "True"
      ]
     },
     "execution_count": 45,
     "metadata": {},
     "output_type": "execute_result"
    }
   ],
   "source": [
    "# Taking two list and checking which one is greater among them.\n",
    "# take first list as li1 \n",
    "# Another list li2\n",
    "# we always check it with the first value if the first value is differt than we find the greater\n",
    "# but if the first value of both list are same then we move towards the next values\n",
    "\n",
    "li1 = [92,67,45,34]i\n",
    "li2 = [45,67,89,45,233,67,587,98]\n",
    "li1>li2"
   ]
  },
  {
   "cell_type": "code",
   "execution_count": 46,
   "id": "c3953545",
   "metadata": {},
   "outputs": [
    {
     "data": {
      "text/plain": [
       "False"
      ]
     },
     "execution_count": 46,
     "metadata": {},
     "output_type": "execute_result"
    }
   ],
   "source": [
    "# Taking two list and checking which one is greater among them.\n",
    "# take first list as li1 \n",
    "# Another list li2\n",
    "# we always check it with the first value if the first value is differt than we find the greater\n",
    "# but if the first value of both list are same then we move towards the next values\n",
    "\n",
    "li1 = [92,67,45,34]\n",
    "li2 = [92,67,45,34,233,67,587,98]\n",
    "li1>li2"
   ]
  },
  {
   "cell_type": "code",
   "execution_count": 47,
   "id": "08c7b8c5",
   "metadata": {},
   "outputs": [
    {
     "data": {
      "text/plain": [
       "97"
      ]
     },
     "execution_count": 47,
     "metadata": {},
     "output_type": "execute_result"
    }
   ],
   "source": [
    "# to find the ASCII value of the alphabets:-\n",
    "# for small alphabets\n",
    "\n",
    "ord(\"a\")"
   ]
  },
  {
   "cell_type": "code",
   "execution_count": 48,
   "id": "c84c54b8",
   "metadata": {},
   "outputs": [
    {
     "data": {
      "text/plain": [
       "72"
      ]
     },
     "execution_count": 48,
     "metadata": {},
     "output_type": "execute_result"
    }
   ],
   "source": [
    "# to find the ASCII value of the alphabets:-\n",
    "# For large alphabets\n",
    "\n",
    "ord(\"H\")"
   ]
  },
  {
   "cell_type": "code",
   "execution_count": 60,
   "id": "37db0e89",
   "metadata": {},
   "outputs": [
    {
     "data": {
      "text/plain": [
       "'\\x0c'"
      ]
     },
     "execution_count": 60,
     "metadata": {},
     "output_type": "execute_result"
    }
   ],
   "source": [
    "# to find the ASCII value of the alphabets:-\n",
    "# For mathmatic values also\n",
    "\n",
    "chr(12)"
   ]
  },
  {
   "cell_type": "code",
   "execution_count": 55,
   "id": "cf75392e",
   "metadata": {},
   "outputs": [
    {
     "data": {
      "text/plain": [
       "37"
      ]
     },
     "execution_count": 55,
     "metadata": {},
     "output_type": "execute_result"
    }
   ],
   "source": [
    "# to find the ASCII value of the alphabets:-\n",
    "# We also have ASCII vallue of the special characters.\n",
    "\n",
    "ord(\"%\")"
   ]
  },
  {
   "cell_type": "code",
   "execution_count": 51,
   "id": "84cec0a3",
   "metadata": {},
   "outputs": [
    {
     "data": {
      "text/plain": [
       "True"
      ]
     },
     "execution_count": 51,
     "metadata": {},
     "output_type": "execute_result"
    }
   ],
   "source": [
    "# Know we have to find the greatest among the two list:-\n",
    "# Take list1 and another list2\n",
    "\n",
    "list1 = [\"a\",\"b\",\"c\"]\n",
    "list2 = [\"A\",\"B\",\"C\"]\n",
    "list1>list2"
   ]
  },
  {
   "cell_type": "markdown",
   "id": "b60cb165",
   "metadata": {},
   "source": [
    "# DAY-9"
   ]
  },
  {
   "cell_type": "code",
   "execution_count": 61,
   "id": "52862862",
   "metadata": {},
   "outputs": [
    {
     "name": "stdout",
     "output_type": "stream",
     "text": [
      "[78, 99, 88, 100, 102, 34, 66, 44, 33, 23] <class 'list'>\n"
     ]
    }
   ],
   "source": [
    "# TAke a new list as l and assign variables into it :-\n",
    "\n",
    "l = [78,99,88,100,102,34,66,44,33,23]\n",
    "print(l,type(l))"
   ]
  },
  {
   "cell_type": "code",
   "execution_count": 62,
   "id": "51f87aad",
   "metadata": {},
   "outputs": [
    {
     "data": {
      "text/plain": [
       "2794814488448"
      ]
     },
     "execution_count": 62,
     "metadata": {},
     "output_type": "execute_result"
    }
   ],
   "source": [
    "# Finding id of l list:-\n",
    "\n",
    "id(l)"
   ]
  },
  {
   "cell_type": "code",
   "execution_count": 63,
   "id": "d78edf37",
   "metadata": {},
   "outputs": [
    {
     "ename": "TypeError",
     "evalue": "can only concatenate list (not \"int\") to list",
     "output_type": "error",
     "traceback": [
      "\u001b[1;31m---------------------------------------------------------------------------\u001b[0m",
      "\u001b[1;31mTypeError\u001b[0m                                 Traceback (most recent call last)",
      "Cell \u001b[1;32mIn[63], line 4\u001b[0m\n\u001b[0;32m      1\u001b[0m \u001b[38;5;66;03m# if want to add an item in the list through l = l+2 than it shows error to us :-\u001b[39;00m\n\u001b[0;32m      2\u001b[0m \u001b[38;5;66;03m# Let's try it:-\u001b[39;00m\n\u001b[1;32m----> 4\u001b[0m l \u001b[38;5;241m=\u001b[39m \u001b[43ml\u001b[49m\u001b[38;5;241;43m+\u001b[39;49m\u001b[38;5;241;43m2\u001b[39;49m\n",
      "\u001b[1;31mTypeError\u001b[0m: can only concatenate list (not \"int\") to list"
     ]
    }
   ],
   "source": [
    "# if want to add an item in the list without any method through l = l+2 than it shows error to us :-\n",
    "# Let's try it:-\n",
    "\n",
    "l = l+2"
   ]
  },
  {
   "cell_type": "code",
   "execution_count": 67,
   "id": "bba76fd3",
   "metadata": {},
   "outputs": [
    {
     "data": {
      "text/plain": [
       "[78, 99, 88, 100, 102, 34, 66, 44, 33, 23, 2, 78]"
      ]
     },
     "execution_count": 67,
     "metadata": {},
     "output_type": "execute_result"
    }
   ],
   "source": [
    "# if want to add an item in the list without any method through l = l+2 than it shows error to us :-\n",
    "# We can do this without method like this:-\n",
    "\n",
    "l + [78]"
   ]
  },
  {
   "cell_type": "code",
   "execution_count": 68,
   "id": "b3910d04",
   "metadata": {},
   "outputs": [
    {
     "data": {
      "text/plain": [
       "[78, 99, 88, 100, 102, 34, 66, 44, 33, 23, 2]"
      ]
     },
     "execution_count": 68,
     "metadata": {},
     "output_type": "execute_result"
    }
   ],
   "source": [
    "# l + [78] also have some draw backs that it will not add in the original list:-\n",
    "# Let's check the original list once:-\n",
    "\n",
    "l"
   ]
  },
  {
   "cell_type": "code",
   "execution_count": 73,
   "id": "d9c8d875",
   "metadata": {},
   "outputs": [
    {
     "data": {
      "text/plain": [
       "[78, 99, 88, 100, 102, 34, 66, 44, 33, 23, 2, 3, 3, 7, 7, 77]"
      ]
     },
     "execution_count": 73,
     "metadata": {},
     "output_type": "execute_result"
    }
   ],
   "source": [
    "# we can do this like l = l+ [77] than it will get  add in the original list:-\n",
    "# Let's have a look of it:-\n",
    "\n",
    "l = l+[77]\n",
    "l"
   ]
  },
  {
   "cell_type": "code",
   "execution_count": 74,
   "id": "b03f4ae4",
   "metadata": {},
   "outputs": [
    {
     "data": {
      "text/plain": [
       "2794814548864"
      ]
     },
     "execution_count": 74,
     "metadata": {},
     "output_type": "execute_result"
    }
   ],
   "source": [
    "# Know let's check its id also whether the id of both are same or get changed.\n",
    "# we can do this through id()\n",
    "\n",
    "id(l)\n",
    "\n",
    "# So, here the id is changed because the values get inserted in the another id variable by the same name.to avoid this we have several methods to do\n"
   ]
  },
  {
   "cell_type": "code",
   "execution_count": 75,
   "id": "6609afca",
   "metadata": {},
   "outputs": [
    {
     "data": {
      "text/plain": [
       "[78, 99, 88, 100, 102, 34, 66, 44, 33, 23, 2, 3, 3, 7, 7, 77]"
      ]
     },
     "execution_count": 75,
     "metadata": {},
     "output_type": "execute_result"
    }
   ],
   "source": [
    "# printing the list:-\n",
    "\n",
    "l"
   ]
  },
  {
   "cell_type": "code",
   "execution_count": 76,
   "id": "8bb79657",
   "metadata": {},
   "outputs": [
    {
     "data": {
      "text/plain": [
       "[78, 88, 102, 66]"
      ]
     },
     "execution_count": 76,
     "metadata": {},
     "output_type": "execute_result"
    }
   ],
   "source": [
    "# Moving forward to Index Slicing :-\n",
    "# Firstly we proced with Forward Slicing:-\n",
    "# list name[starting popint: lastpoint +1: steps to move]\n",
    "\n",
    "l[0:7:2]"
   ]
  },
  {
   "cell_type": "code",
   "execution_count": 77,
   "id": "436b4ba8",
   "metadata": {},
   "outputs": [
    {
     "data": {
      "text/plain": [
       "[7, 2]"
      ]
     },
     "execution_count": 77,
     "metadata": {},
     "output_type": "execute_result"
    }
   ],
   "source": [
    "# Moving forward to Index Slicing :-\n",
    "# Firstly we proced with Backward Slicing:-\n",
    "\n",
    "l[-3:-7:-3]"
   ]
  },
  {
   "cell_type": "code",
   "execution_count": 81,
   "id": "06806328",
   "metadata": {},
   "outputs": [
    {
     "name": "stdout",
     "output_type": "stream",
     "text": [
      "[7, 7, 3, 3, 2, 23, 33]\n",
      "[2, 23, 33, 44]\n"
     ]
    }
   ],
   "source": [
    "# Some more examples of Backward slicing are:-\n",
    "\n",
    "print(l[-2:-9:-1])\n",
    "print(l[-6:-10:-1])"
   ]
  },
  {
   "cell_type": "code",
   "execution_count": 89,
   "id": "28713c0b",
   "metadata": {},
   "outputs": [
    {
     "data": {
      "text/plain": [
       "[11, 22, [33, 44, [55, 66, [77, 88, 99]]]]"
      ]
     },
     "execution_count": 89,
     "metadata": {},
     "output_type": "execute_result"
    }
   ],
   "source": [
    "# Having some knoweledge about Nested list:-\n",
    "# Nested list means lists inside a list:-\n",
    "# let's know how:-\n",
    "\n",
    "l=[11,22,[33,44,[55,66,[77,88,99]]]]\n",
    "l"
   ]
  },
  {
   "cell_type": "code",
   "execution_count": 90,
   "id": "2a4113fb",
   "metadata": {},
   "outputs": [
    {
     "data": {
      "text/plain": [
       "[33, 44, [55, 66, [77, 88, 99]]]"
      ]
     },
     "execution_count": 90,
     "metadata": {},
     "output_type": "execute_result"
    }
   ],
   "source": [
    "# printing the list only through index :-\n",
    "\n",
    "l[2]"
   ]
  },
  {
   "cell_type": "code",
   "execution_count": 91,
   "id": "8848ba94",
   "metadata": {},
   "outputs": [
    {
     "data": {
      "text/plain": [
       "[55, 66, [77, 88, 99]]"
      ]
     },
     "execution_count": 91,
     "metadata": {},
     "output_type": "execute_result"
    }
   ],
   "source": [
    "# printing the list only through index :-\n",
    "\n",
    "l[2][2]"
   ]
  },
  {
   "cell_type": "code",
   "execution_count": 92,
   "id": "877a6f0c",
   "metadata": {},
   "outputs": [
    {
     "data": {
      "text/plain": [
       "[77, 88, 99]"
      ]
     },
     "execution_count": 92,
     "metadata": {},
     "output_type": "execute_result"
    }
   ],
   "source": [
    "# printing the list only through index :-\n",
    "\n",
    "l[2][2][2]"
   ]
  },
  {
   "cell_type": "code",
   "execution_count": 93,
   "id": "6d757b87",
   "metadata": {},
   "outputs": [
    {
     "data": {
      "text/plain": [
       "88"
      ]
     },
     "execution_count": 93,
     "metadata": {},
     "output_type": "execute_result"
    }
   ],
   "source": [
    "# printing the list only through index :-\n",
    "\n",
    "l[2][2][2][1]"
   ]
  },
  {
   "cell_type": "code",
   "execution_count": 94,
   "id": "fd65b5c7",
   "metadata": {},
   "outputs": [
    {
     "data": {
      "text/plain": [
       "3"
      ]
     },
     "execution_count": 94,
     "metadata": {},
     "output_type": "execute_result"
    }
   ],
   "source": [
    "# Finding the length of the list:-\n",
    "# We can do this through len:-\n",
    "\n",
    "len(l)"
   ]
  },
  {
   "cell_type": "code",
   "execution_count": 95,
   "id": "56fc73e2",
   "metadata": {},
   "outputs": [
    {
     "data": {
      "text/plain": [
       "[100, [101], [102, 103, [104]], [105, 204]]"
      ]
     },
     "execution_count": 95,
     "metadata": {},
     "output_type": "execute_result"
    }
   ],
   "source": [
    "# Let's have an another example of nested lists:-\n",
    "\n",
    "l = [100,[101],[102,103,[104]],[105,204]]\n",
    "l"
   ]
  },
  {
   "cell_type": "code",
   "execution_count": 96,
   "id": "d15038f3",
   "metadata": {},
   "outputs": [
    {
     "data": {
      "text/plain": [
       "4"
      ]
     },
     "execution_count": 96,
     "metadata": {},
     "output_type": "execute_result"
    }
   ],
   "source": [
    "# Finding the length of the list:-\n",
    "# We can do this through len:-\n",
    "\n",
    "len(l)"
   ]
  },
  {
   "cell_type": "code",
   "execution_count": 97,
   "id": "b10faff1",
   "metadata": {},
   "outputs": [
    {
     "data": {
      "text/plain": [
       "[101]"
      ]
     },
     "execution_count": 97,
     "metadata": {},
     "output_type": "execute_result"
    }
   ],
   "source": [
    "# printing the list only through index :-\n",
    "\n",
    "l[1]"
   ]
  },
  {
   "cell_type": "code",
   "execution_count": 98,
   "id": "79e2ee69",
   "metadata": {},
   "outputs": [
    {
     "data": {
      "text/plain": [
       "[102, 103, [104]]"
      ]
     },
     "execution_count": 98,
     "metadata": {},
     "output_type": "execute_result"
    }
   ],
   "source": [
    "# printing the list only through index :-\n",
    "\n",
    "l[2]"
   ]
  },
  {
   "cell_type": "code",
   "execution_count": 99,
   "id": "e045d000",
   "metadata": {},
   "outputs": [
    {
     "data": {
      "text/plain": [
       "[104]"
      ]
     },
     "execution_count": 99,
     "metadata": {},
     "output_type": "execute_result"
    }
   ],
   "source": [
    "# printing the list only through index :-\n",
    "\n",
    "l[2][2]"
   ]
  },
  {
   "cell_type": "code",
   "execution_count": 100,
   "id": "e553d6ef",
   "metadata": {},
   "outputs": [
    {
     "data": {
      "text/plain": [
       "104"
      ]
     },
     "execution_count": 100,
     "metadata": {},
     "output_type": "execute_result"
    }
   ],
   "source": [
    "# printing the list only through index :-\n",
    "\n",
    "l[2][2][0]"
   ]
  },
  {
   "cell_type": "code",
   "execution_count": 101,
   "id": "878e65be",
   "metadata": {},
   "outputs": [
    {
     "name": "stdout",
     "output_type": "stream",
     "text": [
      "[44, 55, 66, 77] <class 'list'>\n",
      "2794814309504\n"
     ]
    }
   ],
   "source": [
    "# Creating a new list.\n",
    "# Prnting its result and its type.\n",
    "# Also printing its id \n",
    "\n",
    "l1 = [44,55,66,77]\n",
    "print(l1,type(l1))\n",
    "print(id(l1))"
   ]
  },
  {
   "cell_type": "code",
   "execution_count": 102,
   "id": "1813688d",
   "metadata": {},
   "outputs": [
    {
     "data": {
      "text/plain": [
       "[44, 55, 66, 77, 44, 55, 66, 77]"
      ]
     },
     "execution_count": 102,
     "metadata": {},
     "output_type": "execute_result"
    }
   ],
   "source": [
    "# If we want to multiply the list without method then we can do like this\n",
    "\n",
    "l1 = l1*2\n",
    "l1"
   ]
  },
  {
   "cell_type": "code",
   "execution_count": 105,
   "id": "08d2aa85",
   "metadata": {},
   "outputs": [
    {
     "data": {
      "text/plain": [
       "2794814210176"
      ]
     },
     "execution_count": 105,
     "metadata": {},
     "output_type": "execute_result"
    }
   ],
   "source": [
    "# Finding id of l1 list:-\n",
    "\n",
    "id(l1)\n",
    "\n",
    "# So, here the id is changed because the values get inserted in the another id variable by the same name.to avoid this we have several methods to do"
   ]
  },
  {
   "cell_type": "code",
   "execution_count": 106,
   "id": "aacb8b10",
   "metadata": {},
   "outputs": [
    {
     "data": {
      "text/plain": [
       "[100, [101], [102, 103, [104]], [105, 204]]"
      ]
     },
     "execution_count": 106,
     "metadata": {},
     "output_type": "execute_result"
    }
   ],
   "source": [
    "# printing the list l:-\n",
    "\n",
    "l"
   ]
  },
  {
   "cell_type": "markdown",
   "id": "666e4880",
   "metadata": {},
   "source": [
    "# Methods in list :-"
   ]
  },
  {
   "cell_type": "code",
   "execution_count": 107,
   "id": "16e65cad",
   "metadata": {},
   "outputs": [
    {
     "name": "stdout",
     "output_type": "stream",
     "text": [
      "[67, 78, 98, 67, 54, 34, 22, 12, 45, 23, 44] <class 'list'>\n"
     ]
    }
   ],
   "source": [
    "# Create a new list and print its result with its type\n",
    "\n",
    "l = [67,78,98,67,54,34,22,12,45,23,44]\n",
    "print(l,type(l))"
   ]
  },
  {
   "cell_type": "code",
   "execution_count": 108,
   "id": "2719df45",
   "metadata": {},
   "outputs": [
    {
     "data": {
      "text/plain": [
       "2794814413312"
      ]
     },
     "execution_count": 108,
     "metadata": {},
     "output_type": "execute_result"
    }
   ],
   "source": [
    "# Finding id of l list:-\n",
    "\n",
    "id(l)"
   ]
  },
  {
   "cell_type": "code",
   "execution_count": 109,
   "id": "5152a961",
   "metadata": {},
   "outputs": [
    {
     "data": {
      "text/plain": [
       "11"
      ]
     },
     "execution_count": 109,
     "metadata": {},
     "output_type": "execute_result"
    }
   ],
   "source": [
    "# Finding the length of the list:-\n",
    "# We can do this through len:-\n",
    "\n",
    "len(l)"
   ]
  },
  {
   "cell_type": "code",
   "execution_count": 110,
   "id": "22e1d901",
   "metadata": {},
   "outputs": [
    {
     "data": {
      "text/plain": [
       "['P', 'A', 'R', 'U', 'L']"
      ]
     },
     "execution_count": 110,
     "metadata": {},
     "output_type": "execute_result"
    }
   ],
   "source": [
    "# if we want to make a string into a list we can do this\n",
    "# Firstly create a string \n",
    "# Then change string into a list\n",
    "\n",
    "s = \"PARUL\"\n",
    "l2 = list(s)\n",
    "l2"
   ]
  },
  {
   "cell_type": "code",
   "execution_count": 111,
   "id": "0c453e03",
   "metadata": {},
   "outputs": [
    {
     "data": {
      "text/plain": [
       "[67, 78, 98, 67, 54, 34, 22, 12, 45, 23, 44]"
      ]
     },
     "execution_count": 111,
     "metadata": {},
     "output_type": "execute_result"
    }
   ],
   "source": [
    "# printing the list l\n",
    "\n",
    "l"
   ]
  },
  {
   "cell_type": "code",
   "execution_count": 112,
   "id": "31d7fb40",
   "metadata": {},
   "outputs": [
    {
     "data": {
      "text/plain": [
       "4"
      ]
     },
     "execution_count": 112,
     "metadata": {},
     "output_type": "execute_result"
    }
   ],
   "source": [
    "# If we want to find out the index of an item then we can find it.\n",
    "# Index method\n",
    "# Let's know it how:-\n",
    "\n",
    "l.index(54)"
   ]
  },
  {
   "cell_type": "code",
   "execution_count": 113,
   "id": "93d1a813",
   "metadata": {},
   "outputs": [
    {
     "data": {
      "text/plain": [
       "0"
      ]
     },
     "execution_count": 113,
     "metadata": {},
     "output_type": "execute_result"
    }
   ],
   "source": [
    "# Some another examples of finding index\n",
    "# Let's know it how:-\n",
    "\n",
    "l.index(67)"
   ]
  },
  {
   "cell_type": "code",
   "execution_count": 114,
   "id": "c4381bf1",
   "metadata": {},
   "outputs": [
    {
     "data": {
      "text/plain": [
       "7"
      ]
     },
     "execution_count": 114,
     "metadata": {},
     "output_type": "execute_result"
    }
   ],
   "source": [
    "# Some another examples of finding index\n",
    "# Let's know it how:-\n",
    "\n",
    "l.index(12)"
   ]
  },
  {
   "cell_type": "code",
   "execution_count": 115,
   "id": "f7e20a13",
   "metadata": {},
   "outputs": [
    {
     "ename": "ValueError",
     "evalue": "100 is not in list",
     "output_type": "error",
     "traceback": [
      "\u001b[1;31m---------------------------------------------------------------------------\u001b[0m",
      "\u001b[1;31mValueError\u001b[0m                                Traceback (most recent call last)",
      "Cell \u001b[1;32mIn[115], line 5\u001b[0m\n\u001b[0;32m      1\u001b[0m \u001b[38;5;66;03m# If we want to find out the index of an item then we can find it.\u001b[39;00m\n\u001b[0;32m      2\u001b[0m \u001b[38;5;66;03m# But if theitem is not in the list than what happens:-\u001b[39;00m\n\u001b[0;32m      3\u001b[0m \u001b[38;5;66;03m# Let's know it how:-\u001b[39;00m\n\u001b[1;32m----> 5\u001b[0m \u001b[43ml\u001b[49m\u001b[38;5;241;43m.\u001b[39;49m\u001b[43mindex\u001b[49m\u001b[43m(\u001b[49m\u001b[38;5;241;43m100\u001b[39;49m\u001b[43m)\u001b[49m\n",
      "\u001b[1;31mValueError\u001b[0m: 100 is not in list"
     ]
    }
   ],
   "source": [
    "# If we want to find out the index of an item then we can find it.\n",
    "# But if theitem is not in the list than what happens:-\n",
    "# Let's know it how:-\n",
    "\n",
    "l.index(100)\n",
    "\n",
    "# It will defenetly gives error to us."
   ]
  },
  {
   "cell_type": "code",
   "execution_count": 116,
   "id": "bc41fd59",
   "metadata": {},
   "outputs": [
    {
     "data": {
      "text/plain": [
       "[67, 78, 98, 67, 54, 34, 22, 12, 45, 23, 44]"
      ]
     },
     "execution_count": 116,
     "metadata": {},
     "output_type": "execute_result"
    }
   ],
   "source": [
    "# Printing the list:-\n",
    "\n",
    "l"
   ]
  },
  {
   "cell_type": "code",
   "execution_count": 118,
   "id": "8da3fdba",
   "metadata": {},
   "outputs": [
    {
     "data": {
      "text/plain": [
       "[67, 78, 98, 67, 54, 34, 22, 12, 45, 23, 44, 34, 34]"
      ]
     },
     "execution_count": 118,
     "metadata": {},
     "output_type": "execute_result"
    }
   ],
   "source": [
    "# If we want to add an item in the list than we can do that through append method of list:-\n",
    "# See how?\n",
    "\n",
    "l.append(34)\n",
    "l"
   ]
  },
  {
   "cell_type": "code",
   "execution_count": 119,
   "id": "a2c4e090",
   "metadata": {},
   "outputs": [
    {
     "data": {
      "text/plain": [
       "2794814413312"
      ]
     },
     "execution_count": 119,
     "metadata": {},
     "output_type": "execute_result"
    }
   ],
   "source": [
    "# Let's check whether the id is change or not through append\n",
    "\n",
    "id(l)\n",
    "\n",
    "# Here through append method the id is not change its same as eaflier"
   ]
  },
  {
   "cell_type": "code",
   "execution_count": 123,
   "id": "cc89f740",
   "metadata": {},
   "outputs": [
    {
     "ename": "TypeError",
     "evalue": "list.append() takes exactly one argument (2 given)",
     "output_type": "error",
     "traceback": [
      "\u001b[1;31m---------------------------------------------------------------------------\u001b[0m",
      "\u001b[1;31mTypeError\u001b[0m                                 Traceback (most recent call last)",
      "Cell \u001b[1;32mIn[123], line 4\u001b[0m\n\u001b[0;32m      1\u001b[0m \u001b[38;5;66;03m# What happens we we want to add two elements at a time through the append method:-\u001b[39;00m\n\u001b[1;32m----> 4\u001b[0m \u001b[43ml\u001b[49m\u001b[38;5;241;43m.\u001b[39;49m\u001b[43mappend\u001b[49m\u001b[43m(\u001b[49m\u001b[38;5;241;43m12\u001b[39;49m\u001b[43m,\u001b[49m\u001b[38;5;241;43m10\u001b[39;49m\u001b[43m)\u001b[49m\n\u001b[0;32m      5\u001b[0m l\n",
      "\u001b[1;31mTypeError\u001b[0m: list.append() takes exactly one argument (2 given)"
     ]
    }
   ],
   "source": [
    "# What happens we we want to add two elements at a time through the append method:-\n",
    "\n",
    "\n",
    "l.append(12,10)\n",
    "l\n",
    "\n",
    "# It will always shows a error to us because append can add one item at once and at the end of the list"
   ]
  },
  {
   "cell_type": "code",
   "execution_count": 124,
   "id": "10f2999c",
   "metadata": {},
   "outputs": [
    {
     "data": {
      "text/plain": [
       "[67, 78, 98, 67, 54, 34, 22, 12, 45, 23, 34, 34, [12, 10]]"
      ]
     },
     "execution_count": 124,
     "metadata": {},
     "output_type": "execute_result"
    }
   ],
   "source": [
    "# What happens we we want to add two elements at a time through the append method :-\n",
    "\n",
    "l.append([12,10])\n",
    "l\n",
    "\n",
    "# Here the values will get inserted because it will get inserted into the nested list form the item is always count as one iten"
   ]
  },
  {
   "cell_type": "code",
   "execution_count": 125,
   "id": "95729010",
   "metadata": {},
   "outputs": [
    {
     "data": {
      "text/plain": [
       "[67, 78, 98, 67, 54, 34, 22, 12, 45, 23, 34, 34, [12, 10], 32, 11, 20, 34]"
      ]
     },
     "execution_count": 125,
     "metadata": {},
     "output_type": "execute_result"
    }
   ],
   "source": [
    "# What happens we we want to add two elements at a time through the append method :-\n",
    "# We can done this through extend method to insert more than one item in the list at the end\n",
    "\n",
    "l.extend([32,11,20,34])\n",
    "l\n"
   ]
  },
  {
   "cell_type": "code",
   "execution_count": 126,
   "id": "d20a75bf",
   "metadata": {},
   "outputs": [
    {
     "ename": "TypeError",
     "evalue": "list.extend() takes exactly one argument (4 given)",
     "output_type": "error",
     "traceback": [
      "\u001b[1;31m---------------------------------------------------------------------------\u001b[0m",
      "\u001b[1;31mTypeError\u001b[0m                                 Traceback (most recent call last)",
      "Cell \u001b[1;32mIn[126], line 4\u001b[0m\n\u001b[0;32m      1\u001b[0m \u001b[38;5;66;03m# But if we want to insert the elements without [] this than what happens:-\u001b[39;00m\n\u001b[0;32m      2\u001b[0m \u001b[38;5;66;03m# let's see-\u001b[39;00m\n\u001b[1;32m----> 4\u001b[0m \u001b[43ml\u001b[49m\u001b[38;5;241;43m.\u001b[39;49m\u001b[43mextend\u001b[49m\u001b[43m(\u001b[49m\u001b[38;5;241;43m14\u001b[39;49m\u001b[43m,\u001b[49m\u001b[38;5;241;43m1\u001b[39;49m\u001b[43m,\u001b[49m\u001b[38;5;241;43m2\u001b[39;49m\u001b[43m,\u001b[49m\u001b[38;5;241;43m3\u001b[39;49m\u001b[43m)\u001b[49m\n\u001b[0;32m      5\u001b[0m l\n",
      "\u001b[1;31mTypeError\u001b[0m: list.extend() takes exactly one argument (4 given)"
     ]
    }
   ],
   "source": [
    "# But if we want to insert the elements without [] this than what happens:-\n",
    "# let's see-\n",
    "\n",
    "l.extend(14,1,2,3)\n",
    "l\n",
    "\n",
    "# It will also show a error because values can't be get inserted in alist without [] this bracket"
   ]
  },
  {
   "cell_type": "code",
   "execution_count": 128,
   "id": "1d474a64",
   "metadata": {},
   "outputs": [
    {
     "data": {
      "text/plain": [
       "[67, 78, 98, 67, 54, 34, 22, 12, 45, 23, 34, 34, [12, 10], 32, 11, 20, 34, 1]"
      ]
     },
     "execution_count": 128,
     "metadata": {},
     "output_type": "execute_result"
    }
   ],
   "source": [
    "# extend 1 into list:-\n",
    "\n",
    "l.extend([1])\n",
    "l"
   ]
  },
  {
   "cell_type": "code",
   "execution_count": 129,
   "id": "04066fe6",
   "metadata": {},
   "outputs": [
    {
     "data": {
      "text/plain": [
       "[67, 78, 98, 67, 54, 34, 22, 12, 45, 23, 34, 34, [12, 10], 32, 11, 20, 34, 1]"
      ]
     },
     "execution_count": 129,
     "metadata": {},
     "output_type": "execute_result"
    }
   ],
   "source": [
    "# print the list\n",
    "\n",
    "l"
   ]
  },
  {
   "cell_type": "code",
   "execution_count": 133,
   "id": "9f7bcf2f",
   "metadata": {},
   "outputs": [
    {
     "name": "stdout",
     "output_type": "stream",
     "text": [
      "[67, 1, 78, 98, 41, 41, 61, 67, 54, 34, 22, 12, 45, 23, 34, 34, [12, 10], 32, 11, 20, 34, 1]\n"
     ]
    }
   ],
   "source": [
    "# But we want to add an item in between the list not at the than we can use the insert method:-\n",
    "# Append method add one item at the end of the list\n",
    "# Extend method add more than one item at the end of the list\n",
    "\n",
    "l.insert(1,1)\n",
    "print(l)"
   ]
  },
  {
   "cell_type": "code",
   "execution_count": 134,
   "id": "9292c0b2",
   "metadata": {},
   "outputs": [
    {
     "name": "stdout",
     "output_type": "stream",
     "text": [
      "[100, 67, 1, 78, 98, 41, 41, 61, 67, 54, 34, 22, 12, 45, 23, 34, 34, [12, 10], 32, 11, 20, 34, 1]\n"
     ]
    }
   ],
   "source": [
    "# Let's have some more examples of inserting items:-\n",
    "\n",
    "l.insert(0,100)\n",
    "print(l)"
   ]
  },
  {
   "cell_type": "code",
   "execution_count": 135,
   "id": "d2f1c6c7",
   "metadata": {},
   "outputs": [
    {
     "name": "stdout",
     "output_type": "stream",
     "text": [
      "[100, 67, 1, 78, 98, 41, 41, 61, 67, 54, 34, 0, 22, 12, 45, 23, 34, 34, [12, 10], 32, 11, 20, 34, 1]\n"
     ]
    }
   ],
   "source": [
    "# Let's have some more examples of inserting items:-\n",
    "\n",
    "l.insert(11,0)\n",
    "print(l)"
   ]
  },
  {
   "cell_type": "code",
   "execution_count": 137,
   "id": "41bf52c0",
   "metadata": {},
   "outputs": [
    {
     "name": "stdout",
     "output_type": "stream",
     "text": [
      "[1, 78, 98, 41, 61, 67, 54, 34] <class 'list'>\n"
     ]
    }
   ],
   "source": [
    "# Creating a new list and print its result with it type:-\n",
    "\n",
    "l = [1, 78, 98,41, 61, 67, 54, 34]\n",
    "print(l,type(l))"
   ]
  },
  {
   "cell_type": "code",
   "execution_count": 138,
   "id": "99c50472",
   "metadata": {},
   "outputs": [
    {
     "data": {
      "text/plain": [
       "2794815467264"
      ]
     },
     "execution_count": 138,
     "metadata": {},
     "output_type": "execute_result"
    }
   ],
   "source": [
    "# printing the id of the list\n",
    "\n",
    "id(l)"
   ]
  },
  {
   "cell_type": "code",
   "execution_count": 139,
   "id": "2abe1ac6",
   "metadata": {},
   "outputs": [
    {
     "data": {
      "text/plain": [
       "[34, 54, 67, 61, 41, 98, 78, 1]"
      ]
     },
     "execution_count": 139,
     "metadata": {},
     "output_type": "execute_result"
    }
   ],
   "source": [
    "# If we want to reverse the list without method than we can do this like\n",
    "# but it will not change in the original list:-\n",
    "# lets see how\n",
    "\n",
    "l[::-1]"
   ]
  },
  {
   "cell_type": "code",
   "execution_count": 140,
   "id": "b11210b0",
   "metadata": {},
   "outputs": [
    {
     "name": "stdout",
     "output_type": "stream",
     "text": [
      "[1, 78, 98, 41, 61, 67, 54, 34]\n"
     ]
    }
   ],
   "source": [
    "print(l)"
   ]
  },
  {
   "cell_type": "code",
   "execution_count": 143,
   "id": "09002b4c",
   "metadata": {},
   "outputs": [
    {
     "data": {
      "text/plain": [
       "[34, 54, 67, 61, 41, 98, 78, 1]"
      ]
     },
     "execution_count": 143,
     "metadata": {},
     "output_type": "execute_result"
    }
   ],
   "source": [
    "# We can do this through the reverse method to also change in the original list:-\n",
    "\n",
    "l.reverse()\n",
    "l"
   ]
  },
  {
   "cell_type": "code",
   "execution_count": 145,
   "id": "5309452a",
   "metadata": {},
   "outputs": [
    {
     "data": {
      "text/plain": [
       "1"
      ]
     },
     "execution_count": 145,
     "metadata": {},
     "output_type": "execute_result"
    }
   ],
   "source": [
    "# If we want to count the item psesence in the list we can do it through the count method:-\n",
    "\n",
    "l.count(67)"
   ]
  },
  {
   "cell_type": "code",
   "execution_count": 146,
   "id": "b9352fb2",
   "metadata": {},
   "outputs": [
    {
     "data": {
      "text/plain": [
       "1"
      ]
     },
     "execution_count": 146,
     "metadata": {},
     "output_type": "execute_result"
    }
   ],
   "source": [
    "# have some more example of count:-\n",
    "\n",
    "l.count(41)"
   ]
  },
  {
   "cell_type": "code",
   "execution_count": 147,
   "id": "c2969787",
   "metadata": {},
   "outputs": [
    {
     "data": {
      "text/plain": [
       "1"
      ]
     },
     "execution_count": 147,
     "metadata": {},
     "output_type": "execute_result"
    }
   ],
   "source": [
    "# have some more example of count:-\n",
    "\n",
    "l.count(54)"
   ]
  },
  {
   "cell_type": "code",
   "execution_count": 148,
   "id": "d8188368",
   "metadata": {},
   "outputs": [
    {
     "data": {
      "text/plain": [
       "0"
      ]
     },
     "execution_count": 148,
     "metadata": {},
     "output_type": "execute_result"
    }
   ],
   "source": [
    "# have some more example of count:-\n",
    "# what happens if the element is not present in the list \n",
    "\n",
    "l.count(100)\n",
    "\n",
    "# Here it always count 0 intead of error"
   ]
  },
  {
   "cell_type": "code",
   "execution_count": 151,
   "id": "e5f8213d",
   "metadata": {},
   "outputs": [
    {
     "data": {
      "text/plain": [
       "[34, 54, 67, 61, 41, 98, 78, 1]"
      ]
     },
     "execution_count": 151,
     "metadata": {},
     "output_type": "execute_result"
    }
   ],
   "source": [
    "# printing the list:-\n",
    "\n",
    "l"
   ]
  },
  {
   "cell_type": "code",
   "execution_count": 152,
   "id": "f2151258",
   "metadata": {},
   "outputs": [
    {
     "data": {
      "text/plain": [
       "1"
      ]
     },
     "execution_count": 152,
     "metadata": {},
     "output_type": "execute_result"
    }
   ],
   "source": [
    "# if we want to delete any element from the list than we can do this through the pop method:-\n",
    "\n",
    "l.pop()\n",
    "\n",
    "# it will directly put the last item from the list "
   ]
  },
  {
   "cell_type": "code",
   "execution_count": 153,
   "id": "03e12e42",
   "metadata": {},
   "outputs": [
    {
     "data": {
      "text/plain": [
       "54"
      ]
     },
     "execution_count": 153,
     "metadata": {},
     "output_type": "execute_result"
    }
   ],
   "source": [
    "# if we want to pop some specific item from the list than we can do this through its index no\n",
    "\n",
    "l.pop(1)"
   ]
  },
  {
   "cell_type": "code",
   "execution_count": 154,
   "id": "7b53b6ff",
   "metadata": {},
   "outputs": [
    {
     "data": {
      "text/plain": [
       "[34, 67, 61, 41, 98, 78]"
      ]
     },
     "execution_count": 154,
     "metadata": {},
     "output_type": "execute_result"
    }
   ],
   "source": [
    "# print the list l:-\n",
    "\n",
    "l"
   ]
  },
  {
   "cell_type": "code",
   "execution_count": 155,
   "id": "79746cb0",
   "metadata": {},
   "outputs": [
    {
     "ename": "IndexError",
     "evalue": "pop index out of range",
     "output_type": "error",
     "traceback": [
      "\u001b[1;31m---------------------------------------------------------------------------\u001b[0m",
      "\u001b[1;31mIndexError\u001b[0m                                Traceback (most recent call last)",
      "Cell \u001b[1;32mIn[155], line 3\u001b[0m\n\u001b[0;32m      1\u001b[0m \u001b[38;5;66;03m# if we right the index which is not present in the list than what happens:-\u001b[39;00m\n\u001b[1;32m----> 3\u001b[0m \u001b[43ml\u001b[49m\u001b[38;5;241;43m.\u001b[39;49m\u001b[43mpop\u001b[49m\u001b[43m(\u001b[49m\u001b[38;5;241;43m15\u001b[39;49m\u001b[43m)\u001b[49m\n",
      "\u001b[1;31mIndexError\u001b[0m: pop index out of range"
     ]
    }
   ],
   "source": [
    "# if we right the index which is not present in the list than what happens:-\n",
    "\n",
    "l.pop(15)\n",
    "\n",
    "# it will show an error"
   ]
  },
  {
   "cell_type": "code",
   "execution_count": 156,
   "id": "12b4181e",
   "metadata": {},
   "outputs": [
    {
     "data": {
      "text/plain": [
       "78"
      ]
     },
     "execution_count": 156,
     "metadata": {},
     "output_type": "execute_result"
    }
   ],
   "source": [
    "# we can also pop in backward indexing:-\n",
    "\n",
    "l.pop(-1)"
   ]
  },
  {
   "cell_type": "code",
   "execution_count": 158,
   "id": "a7573731",
   "metadata": {},
   "outputs": [
    {
     "data": {
      "text/plain": [
       "[34, 67, 61, 41, 98]"
      ]
     },
     "execution_count": 158,
     "metadata": {},
     "output_type": "execute_result"
    }
   ],
   "source": [
    "# printing the list l\n",
    "\n",
    "l"
   ]
  },
  {
   "cell_type": "code",
   "execution_count": 159,
   "id": "82dd64f7",
   "metadata": {},
   "outputs": [],
   "source": [
    "# How we can delete an item from the list between and we don't know the index no of that item \n",
    "# We can do this with the remove method and delete the element\n",
    "\n",
    "l.remove(67)"
   ]
  },
  {
   "cell_type": "code",
   "execution_count": 160,
   "id": "9abcaab5",
   "metadata": {},
   "outputs": [
    {
     "data": {
      "text/plain": [
       "[34, 61, 41, 98]"
      ]
     },
     "execution_count": 160,
     "metadata": {},
     "output_type": "execute_result"
    }
   ],
   "source": [
    "# print the list:-\n",
    "\n",
    "l"
   ]
  },
  {
   "cell_type": "code",
   "execution_count": 161,
   "id": "149e9522",
   "metadata": {},
   "outputs": [
    {
     "ename": "ValueError",
     "evalue": "list.remove(x): x not in list",
     "output_type": "error",
     "traceback": [
      "\u001b[1;31m---------------------------------------------------------------------------\u001b[0m",
      "\u001b[1;31mValueError\u001b[0m                                Traceback (most recent call last)",
      "Cell \u001b[1;32mIn[161], line 3\u001b[0m\n\u001b[0;32m      1\u001b[0m \u001b[38;5;66;03m# but if we remove the item not present in the list:-\u001b[39;00m\n\u001b[1;32m----> 3\u001b[0m \u001b[43ml\u001b[49m\u001b[38;5;241;43m.\u001b[39;49m\u001b[43mremove\u001b[49m\u001b[43m(\u001b[49m\u001b[38;5;241;43m300\u001b[39;49m\u001b[43m)\u001b[49m\n",
      "\u001b[1;31mValueError\u001b[0m: list.remove(x): x not in list"
     ]
    }
   ],
   "source": [
    "# but if we remove the item not present in the list:-\n",
    "\n",
    "l.remove(300)\n",
    "\n",
    "# it will gives an error"
   ]
  },
  {
   "cell_type": "code",
   "execution_count": 162,
   "id": "c70880e6",
   "metadata": {},
   "outputs": [
    {
     "data": {
      "text/plain": [
       "[44, 55, 66, 77, 44, 55, 66, 77]"
      ]
     },
     "execution_count": 162,
     "metadata": {},
     "output_type": "execute_result"
    }
   ],
   "source": [
    "# print the list l1:-\n",
    "\n",
    "l1"
   ]
  },
  {
   "cell_type": "code",
   "execution_count": 163,
   "id": "e3b5605d",
   "metadata": {},
   "outputs": [],
   "source": [
    "# what we do if we want to delete the whole list \n",
    "# than we have to use the clear method:-\n",
    "# it will make an empty list:-\n",
    "\n",
    "l1.clear()"
   ]
  },
  {
   "cell_type": "code",
   "execution_count": 164,
   "id": "b0ddab06",
   "metadata": {},
   "outputs": [
    {
     "data": {
      "text/plain": [
       "[]"
      ]
     },
     "execution_count": 164,
     "metadata": {},
     "output_type": "execute_result"
    }
   ],
   "source": [
    "# print the list l1:-\n",
    "\n",
    "l1\n",
    "\n",
    "# Here the list is empty"
   ]
  },
  {
   "cell_type": "code",
   "execution_count": 166,
   "id": "0182852c",
   "metadata": {},
   "outputs": [
    {
     "data": {
      "text/plain": [
       "[34, 54, 67, 61, 41, 98, 78, 1]"
      ]
     },
     "execution_count": 166,
     "metadata": {},
     "output_type": "execute_result"
    }
   ],
   "source": [
    "# Extend the list l1:-\n",
    "\n",
    "l1.extend([34, 54, 67, 61, 41, 98, 78, 1])\n",
    "l1"
   ]
  },
  {
   "cell_type": "code",
   "execution_count": 167,
   "id": "3566fd0e",
   "metadata": {},
   "outputs": [],
   "source": [
    "# what if we want to delete the in between items in the list than we can do it through del:-\n",
    "\n",
    "del l1[0:6:1]"
   ]
  },
  {
   "cell_type": "code",
   "execution_count": 168,
   "id": "0b67cb6c",
   "metadata": {},
   "outputs": [
    {
     "data": {
      "text/plain": [
       "[78, 1]"
      ]
     },
     "execution_count": 168,
     "metadata": {},
     "output_type": "execute_result"
    }
   ],
   "source": [
    "# printing the list\n",
    "\n",
    "l1"
   ]
  },
  {
   "cell_type": "code",
   "execution_count": 172,
   "id": "a380e946",
   "metadata": {},
   "outputs": [
    {
     "ename": "NameError",
     "evalue": "name 'L' is not defined",
     "output_type": "error",
     "traceback": [
      "\u001b[1;31m---------------------------------------------------------------------------\u001b[0m",
      "\u001b[1;31mNameError\u001b[0m                                 Traceback (most recent call last)",
      "Cell \u001b[1;32mIn[172], line 3\u001b[0m\n\u001b[0;32m      1\u001b[0m \u001b[38;5;66;03m# what if we want to delete the whole list:-\u001b[39;00m\n\u001b[1;32m----> 3\u001b[0m \u001b[38;5;28;01mdel\u001b[39;00m L\n",
      "\u001b[1;31mNameError\u001b[0m: name 'L' is not defined"
     ]
    }
   ],
   "source": [
    "# what if we want to delete the whole list:-\n",
    "\n",
    "del L"
   ]
  },
  {
   "cell_type": "code",
   "execution_count": 174,
   "id": "903795b8",
   "metadata": {},
   "outputs": [
    {
     "name": "stdout",
     "output_type": "stream",
     "text": [
      "[22, 33, 44, 55, 66, 77, 88] <class 'list'>\n"
     ]
    },
    {
     "data": {
      "text/plain": [
       "2794814314944"
      ]
     },
     "execution_count": 174,
     "metadata": {},
     "output_type": "execute_result"
    }
   ],
   "source": [
    "# Creating a new list and print its result with its type:-\n",
    "\n",
    "l = [22,33,44,55,66,77,88]\n",
    "print(l,type(l))\n",
    "id(l)"
   ]
  },
  {
   "cell_type": "code",
   "execution_count": 175,
   "id": "79347d55",
   "metadata": {},
   "outputs": [
    {
     "data": {
      "text/plain": [
       "385"
      ]
     },
     "execution_count": 175,
     "metadata": {},
     "output_type": "execute_result"
    }
   ],
   "source": [
    "# we can get the sum of the list;-\n",
    "\n",
    "sum(l)"
   ]
  },
  {
   "cell_type": "code",
   "execution_count": 176,
   "id": "24ccea59",
   "metadata": {},
   "outputs": [
    {
     "data": {
      "text/plain": [
       "88"
      ]
     },
     "execution_count": 176,
     "metadata": {},
     "output_type": "execute_result"
    }
   ],
   "source": [
    "# We can get the max of the list:-\n",
    "\n",
    "max(l)"
   ]
  },
  {
   "cell_type": "code",
   "execution_count": 177,
   "id": "cb0e1e63",
   "metadata": {},
   "outputs": [
    {
     "data": {
      "text/plain": [
       "22"
      ]
     },
     "execution_count": 177,
     "metadata": {},
     "output_type": "execute_result"
    }
   ],
   "source": [
    "# We can get the min of the list:-\n",
    "\n",
    "min(l)"
   ]
  },
  {
   "cell_type": "code",
   "execution_count": 178,
   "id": "e77dbb83",
   "metadata": {},
   "outputs": [
    {
     "ename": "NameError",
     "evalue": "name 'avg' is not defined",
     "output_type": "error",
     "traceback": [
      "\u001b[1;31m---------------------------------------------------------------------------\u001b[0m",
      "\u001b[1;31mNameError\u001b[0m                                 Traceback (most recent call last)",
      "Cell \u001b[1;32mIn[178], line 4\u001b[0m\n\u001b[0;32m      1\u001b[0m \u001b[38;5;66;03m# But we can't get the average of the list:-\u001b[39;00m\n\u001b[0;32m      2\u001b[0m \u001b[38;5;66;03m# let's know how:-\u001b[39;00m\n\u001b[1;32m----> 4\u001b[0m \u001b[43mavg\u001b[49m(l)\n",
      "\u001b[1;31mNameError\u001b[0m: name 'avg' is not defined"
     ]
    }
   ],
   "source": [
    "# But we can't get the average of the list:-\n",
    "# let's know how:-\n",
    "\n",
    "avg(l)\n",
    "\n",
    "# It will gives an error to us"
   ]
  },
  {
   "cell_type": "markdown",
   "id": "fa4631c0",
   "metadata": {},
   "source": [
    "# DAY-10"
   ]
  },
  {
   "cell_type": "code",
   "execution_count": 182,
   "id": "70868fdf",
   "metadata": {},
   "outputs": [
    {
     "name": "stdout",
     "output_type": "stream",
     "text": [
      "[23, 45, 34, 23, 56, 45, 78, 87, 98, 56, 34] <class 'list'>\n"
     ]
    },
    {
     "data": {
      "text/plain": [
       "(None, 2794814172096)"
      ]
     },
     "execution_count": 182,
     "metadata": {},
     "output_type": "execute_result"
    }
   ],
   "source": [
    "# Creating a new list as l :-\n",
    "\n",
    "l = [23,45,34,23,56,45,78,87,98,56,34]\n",
    "print(l,type(l)),id(l)"
   ]
  },
  {
   "cell_type": "code",
   "execution_count": 180,
   "id": "99d52c83",
   "metadata": {},
   "outputs": [
    {
     "data": {
      "text/plain": [
       "[23, 23, 34, 34, 45, 45, 56, 56, 78, 87, 98]"
      ]
     },
     "execution_count": 180,
     "metadata": {},
     "output_type": "execute_result"
    }
   ],
   "source": [
    "# Now we want to sort a list into asc or desc order than we can do this through sort method.\n",
    "# we can use sort method as by default it change a list into asc order :-\n",
    "# Let's see how:-\n",
    "\n",
    "l.sort()\n",
    "l"
   ]
  },
  {
   "cell_type": "code",
   "execution_count": 181,
   "id": "94253eec",
   "metadata": {},
   "outputs": [
    {
     "data": {
      "text/plain": [
       "[98, 87, 78, 56, 56, 45, 45, 34, 34, 23, 23]"
      ]
     },
     "execution_count": 181,
     "metadata": {},
     "output_type": "execute_result"
    }
   ],
   "source": [
    "# On the other hand if you want to change it into desc order .\n",
    "# We can do this by reverseing it:-\n",
    "# Let's know how:-\n",
    "\n",
    "l.sort(reverse=True)\n",
    "l"
   ]
  },
  {
   "cell_type": "code",
   "execution_count": 183,
   "id": "958fdde8",
   "metadata": {},
   "outputs": [
    {
     "data": {
      "text/plain": [
       "2794814172096"
      ]
     },
     "execution_count": 183,
     "metadata": {},
     "output_type": "execute_result"
    }
   ],
   "source": [
    "# checking that whether the id of the list is changing or not.\n",
    "# We can check this through id()\n",
    "\n",
    "id(l)\n",
    "\n",
    "# Here the id is not changed  it remains the same"
   ]
  },
  {
   "cell_type": "code",
   "execution_count": 184,
   "id": "4b17f557",
   "metadata": {},
   "outputs": [
    {
     "data": {
      "text/plain": [
       "[23, 45, 34, 23, 56, 45, 78, 87, 98, 56, 34]"
      ]
     },
     "execution_count": 184,
     "metadata": {},
     "output_type": "execute_result"
    }
   ],
   "source": [
    "# Printing the list l:-\n",
    "\n",
    "l"
   ]
  },
  {
   "cell_type": "code",
   "execution_count": 185,
   "id": "f32436f2",
   "metadata": {},
   "outputs": [
    {
     "data": {
      "text/plain": [
       "[23, 23, 34, 34, 45, 45, 56, 56, 78, 87, 98]"
      ]
     },
     "execution_count": 185,
     "metadata": {},
     "output_type": "execute_result"
    }
   ],
   "source": [
    "# Know let's apply sorted method on the list.\n",
    "# Know how:-\n",
    "\n",
    "sorted(l)\n",
    "\n",
    "# It also sorted the list into the asc order directly"
   ]
  },
  {
   "cell_type": "code",
   "execution_count": 187,
   "id": "8a9bbcbf",
   "metadata": {},
   "outputs": [
    {
     "data": {
      "text/plain": [
       "[23, 45, 34, 23, 56, 45, 78, 87, 98, 56, 34]"
      ]
     },
     "execution_count": 187,
     "metadata": {},
     "output_type": "execute_result"
    }
   ],
   "source": [
    "# Printing the list:-\n",
    "\n",
    "l"
   ]
  },
  {
   "cell_type": "code",
   "execution_count": 189,
   "id": "2882fac6",
   "metadata": {},
   "outputs": [
    {
     "data": {
      "text/plain": [
       "[23, 23, 34, 34, 45, 45, 56, 56, 78, 87, 98]"
      ]
     },
     "execution_count": 189,
     "metadata": {},
     "output_type": "execute_result"
    }
   ],
   "source": [
    "# sorted the list through the list:-\n",
    "\n",
    "l = sorted(l)\n",
    "l"
   ]
  },
  {
   "cell_type": "code",
   "execution_count": 190,
   "id": "bb18263a",
   "metadata": {},
   "outputs": [
    {
     "data": {
      "text/plain": [
       "2794814523392"
      ]
     },
     "execution_count": 190,
     "metadata": {},
     "output_type": "execute_result"
    }
   ],
   "source": [
    "# Printing the id of the list:-\n",
    "\n",
    "id(l)\n",
    "\n",
    "# Here the id of the list get changed ."
   ]
  },
  {
   "cell_type": "code",
   "execution_count": 191,
   "id": "1ca84c65",
   "metadata": {},
   "outputs": [
    {
     "data": {
      "text/plain": [
       "[98, 87, 78, 56, 56, 45, 45, 34, 34, 23, 23]"
      ]
     },
     "execution_count": 191,
     "metadata": {},
     "output_type": "execute_result"
    }
   ],
   "source": [
    "# On the other hand if you want to do the desc order you can do directly .\n",
    "# Through the reverse method.\n",
    "\n",
    "l = sorted(l,reverse=True)\n",
    "l\n",
    "\n",
    "# Here the list get in desc order."
   ]
  },
  {
   "cell_type": "code",
   "execution_count": 192,
   "id": "30ece3fc",
   "metadata": {},
   "outputs": [
    {
     "data": {
      "text/plain": [
       "2794814417472"
      ]
     },
     "execution_count": 192,
     "metadata": {},
     "output_type": "execute_result"
    }
   ],
   "source": [
    "# Checking the id of the list l:-\n",
    "\n",
    "id(l)\n",
    "\n",
    "# The id of the list again get changed in."
   ]
  },
  {
   "cell_type": "code",
   "execution_count": 193,
   "id": "b63c314d",
   "metadata": {},
   "outputs": [
    {
     "name": "stdout",
     "output_type": "stream",
     "text": [
      "Enter the value of a: 45\n",
      "Enter the value of b: 12\n",
      "Enter the value of c: 89\n",
      "Greatest 1st number is:  89\n",
      "Greatest 2nd number is:  45\n",
      "Greatest 3rd number is:  12\n"
     ]
    }
   ],
   "source": [
    "# Finding the greatest among the three values.\n",
    "# input the variables as a,b ,c\n",
    "# Know make them as a list\n",
    "# Printing the result of the list\n",
    "\n",
    "a = int(input(\"Enter the value of a: \"))\n",
    "b = int(input(\"Enter the value of b: \"))\n",
    "c = int(input(\"Enter the value of c: \"))\n",
    "l = [a,b,c]\n",
    "l.sort()\n",
    "print(\"Greatest 1st number is: \",l[2])\n",
    "print(\"Greatest 2nd number is: \",l[1])\n",
    "print(\"Greatest 3rd number is: \",l[0])"
   ]
  },
  {
   "cell_type": "code",
   "execution_count": null,
   "id": "63b4b810",
   "metadata": {},
   "outputs": [],
   "source": []
  }
 ],
 "metadata": {
  "kernelspec": {
   "display_name": "Python 3 (ipykernel)",
   "language": "python",
   "name": "python3"
  },
  "language_info": {
   "codemirror_mode": {
    "name": "ipython",
    "version": 3
   },
   "file_extension": ".py",
   "mimetype": "text/x-python",
   "name": "python",
   "nbconvert_exporter": "python",
   "pygments_lexer": "ipython3",
   "version": "3.10.9"
  }
 },
 "nbformat": 4,
 "nbformat_minor": 5
}
