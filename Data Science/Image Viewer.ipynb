{
 "cells": [
  {
   "cell_type": "markdown",
   "id": "d36952fd-7435-4509-bacb-9129d7e8e0ec",
   "metadata": {},
   "source": [
    "# Image Viewer :-"
   ]
  },
  {
   "cell_type": "code",
   "execution_count": 1,
   "id": "8c34e2f1-05a9-4479-a6b6-09e2e7170bd4",
   "metadata": {},
   "outputs": [
    {
     "ename": "FileNotFoundError",
     "evalue": "[Errno 2] No such file or directory: 'a1.jpg'",
     "output_type": "error",
     "traceback": [
      "\u001b[1;31m---------------------------------------------------------------------------\u001b[0m",
      "\u001b[1;31mFileNotFoundError\u001b[0m                         Traceback (most recent call last)",
      "Cell \u001b[1;32mIn[1], line 9\u001b[0m\n\u001b[0;32m      6\u001b[0m f1\u001b[38;5;241m=\u001b[39mFrame(root)\n\u001b[0;32m      7\u001b[0m f1\u001b[38;5;241m.\u001b[39mpack()\n\u001b[1;32m----> 9\u001b[0m img \u001b[38;5;241m=\u001b[39m Image\u001b[38;5;241m.\u001b[39mopen(\u001b[38;5;124m\"\u001b[39m\u001b[38;5;124ma1.jpg\u001b[39m\u001b[38;5;124m\"\u001b[39m)\n\u001b[0;32m     10\u001b[0m img1 \u001b[38;5;241m=\u001b[39m img\u001b[38;5;241m.\u001b[39mresize((\u001b[38;5;241m400\u001b[39m,\u001b[38;5;241m600\u001b[39m))\n\u001b[0;32m     11\u001b[0m img1\u001b[38;5;241m=\u001b[39mImageTk\u001b[38;5;241m.\u001b[39mPhotoImage(img1)\n",
      "File \u001b[1;32mC:\\ProgramData\\anaconda3\\Lib\\site-packages\\PIL\\Image.py:3247\u001b[0m, in \u001b[0;36mopen\u001b[1;34m(fp, mode, formats)\u001b[0m\n\u001b[0;32m   3244\u001b[0m     filename \u001b[38;5;241m=\u001b[39m fp\n\u001b[0;32m   3246\u001b[0m \u001b[38;5;28;01mif\u001b[39;00m filename:\n\u001b[1;32m-> 3247\u001b[0m     fp \u001b[38;5;241m=\u001b[39m builtins\u001b[38;5;241m.\u001b[39mopen(filename, \u001b[38;5;124m\"\u001b[39m\u001b[38;5;124mrb\u001b[39m\u001b[38;5;124m\"\u001b[39m)\n\u001b[0;32m   3248\u001b[0m     exclusive_fp \u001b[38;5;241m=\u001b[39m \u001b[38;5;28;01mTrue\u001b[39;00m\n\u001b[0;32m   3250\u001b[0m \u001b[38;5;28;01mtry\u001b[39;00m:\n",
      "\u001b[1;31mFileNotFoundError\u001b[0m: [Errno 2] No such file or directory: 'a1.jpg'"
     ]
    }
   ],
   "source": [
    "from tkinter import *\n",
    "from PIL import Image,ImageTk\n",
    "root = Tk()\n",
    "root.title(\"Image Viewer\")\n",
    "root.geometry(\"800x400\")\n",
    "f1=Frame(root)\n",
    "f1.pack()\n",
    "\n",
    "img = Image.open(\"a1.jpg\")\n",
    "img1 = img.resize((400,600))\n",
    "img1=ImageTk.PhotoImage(img1)\n",
    "l=Label(f1,image=img)\n",
    "l.pack()\n",
    "l2 = Label(root,text=\"Sean\",fg=\"green\",bg=\"black\",font=(\"Time bold\",40))\n",
    "l2.pack()\n",
    "root.mainloop()"
   ]
  },
  {
   "cell_type": "code",
   "execution_count": null,
   "id": "300a99ff-72e7-4e08-b7e9-5e85484c8384",
   "metadata": {},
   "outputs": [],
   "source": []
  }
 ],
 "metadata": {
  "kernelspec": {
   "display_name": "Python 3 (ipykernel)",
   "language": "python",
   "name": "python3"
  },
  "language_info": {
   "codemirror_mode": {
    "name": "ipython",
    "version": 3
   },
   "file_extension": ".py",
   "mimetype": "text/x-python",
   "name": "python",
   "nbconvert_exporter": "python",
   "pygments_lexer": "ipython3",
   "version": "3.11.7"
  }
 },
 "nbformat": 4,
 "nbformat_minor": 5
}
