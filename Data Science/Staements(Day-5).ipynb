{
 "cells": [
  {
   "cell_type": "markdown",
   "id": "c27f283a",
   "metadata": {},
   "source": [
    "# Statements"
   ]
  },
  {
   "cell_type": "code",
   "execution_count": 3,
   "id": "86fdeefe",
   "metadata": {},
   "outputs": [],
   "source": [
    "# What is Statement?\n",
    "=> Any instruction written in the source code and executed by the Python interpreter.\n",
    "\n",
    "# Types of statements:-\n",
    "1) Empty statement:- Empty statement is a pass statement. Whenever pyhton encounters a pass statement,Python does nothing and moves to the next statement in the flow of control.\n",
    "2) Single Sttaement:- A simple statement is comprised within a single logical line.\n",
    "3) Compound Statement:- compound statements contain (groups of) other statements; they affect or control the execution of those statements in some way."
   ]
  },
  {
   "cell_type": "code",
   "execution_count": null,
   "id": "717c9ae5",
   "metadata": {},
   "outputs": [],
   "source": [
    "# What is Flow of control?\n",
    "=> Flow of Control is the order in which individual statements, instructions , or function calls are executed or evaluated.\n",
    "\n",
    "# Types of Flow Of Control:-\n",
    "\n",
    "1) Sequential Statements:- Sequential control flow is the default mode of execution in a program.\n",
    "2) Selection Statements:- selection used for decisions , branching-choosing between 2 or more alternative paths.\n",
    "# if conditions/if /else conditions"
   ]
  },
  {
   "cell_type": "code",
   "execution_count": 5,
   "id": "a2212db1",
   "metadata": {},
   "outputs": [
    {
     "name": "stdout",
     "output_type": "stream",
     "text": [
      "Enter the coin Face: Head\n",
      "Win\n"
     ]
    }
   ],
   "source": [
    "# Here we use only one single statement that is the if statement.\n",
    "# Selection Statement\n",
    "\n",
    "coin =  input(\"Enter the coin Face: \")\n",
    "if coin == \"Head\":\n",
    "    print(\"Win\")"
   ]
  },
  {
   "cell_type": "code",
   "execution_count": 6,
   "id": "baf1913d",
   "metadata": {},
   "outputs": [
    {
     "name": "stdout",
     "output_type": "stream",
     "text": [
      "Enter the coin Face: tail\n"
     ]
    }
   ],
   "source": [
    "# here due to of using one single statemnt of if the otherone has no existance here\n",
    "# selective statement\n",
    "\n",
    "coin =  input(\"Enter the coin Face: \")\n",
    "if coin == \"Head\":\n",
    "    print(\"Win\")"
   ]
  },
  {
   "cell_type": "code",
   "execution_count": 7,
   "id": "e028bca7",
   "metadata": {},
   "outputs": [
    {
     "name": "stdout",
     "output_type": "stream",
     "text": [
      "Enter the no: 26\n",
      "26 is even no\n"
     ]
    }
   ],
   "source": [
    "# We are taking  input of a no to find even and odd no's :-\n",
    "# Through If and ELSE Condition\n",
    "# The result is even if it is divisible by 2 and gives a remainder equal to zero\n",
    "\n",
    "no = int(input(\"Enter the no: \"))\n",
    "if no%2 == 0:\n",
    "    print(no,\"is even no\")\n",
    "else:\n",
    "    print(no,\"is odd no\")"
   ]
  },
  {
   "cell_type": "code",
   "execution_count": 8,
   "id": "58df0462",
   "metadata": {},
   "outputs": [
    {
     "name": "stdout",
     "output_type": "stream",
     "text": [
      "Enter the no: 45\n",
      "45 is odd no\n"
     ]
    }
   ],
   "source": [
    "# We are taking  input of a no to find even and odd no's :-\n",
    "# Through If and ELSE Condition\n",
    "# The result is odd than it is  not divisible by 2 and  does not gives a remainder equal to zero\n",
    "\n",
    "no = int(input(\"Enter the no: \"))\n",
    "if no%2 == 0:\n",
    "    print(no,\"is even no\")\n",
    "else:\n",
    "    print(no,\"is odd no\")"
   ]
  },
  {
   "cell_type": "code",
   "execution_count": 9,
   "id": "467619dd",
   "metadata": {},
   "outputs": [
    {
     "name": "stdout",
     "output_type": "stream",
     "text": [
      "Enter the value of a: 67\n",
      "Enter the value of b: 89\n",
      "Enter the value of c: 45\n",
      "89 is greater\n"
     ]
    }
   ],
   "source": [
    "# We have to find greater among three numbers a, b, c:-\n",
    "# Through If / ELIF/ELSE condition.\n",
    "\n",
    "a = int(input(\"Enter the value of a: \"))\n",
    "b = int(input(\"Enter the value of b: \"))\n",
    "c = int(input(\"Enter the value of c: \"))\n",
    "if a>=b and a>=c:\n",
    "    print(a,\"is greater\")\n",
    "elif b>=a and b>=c: \n",
    "    print(b,\"is greater\")\n",
    "else:\n",
    "    print(c,\"is greater\")\n"
   ]
  },
  {
   "cell_type": "code",
   "execution_count": 11,
   "id": "3852c7dd",
   "metadata": {},
   "outputs": [
    {
     "name": "stdout",
     "output_type": "stream",
     "text": [
      "Enter the year: 1996\n",
      "1996 is a leap year\n"
     ]
    }
   ],
   "source": [
    "# here we are finding the leap year :-\n",
    "# Through the if /elif /else statement:-\n",
    "# Selection Statement\n",
    "\n",
    "Year = int(input(\"Enter the year: \"))\n",
    "\n",
    "if Year%400 == 0 and Year%100 == 0:\n",
    "    print(Year, \"is a leap year\")\n",
    "elif Year%4 == 0 and Year%100 != 0:\n",
    "    print(Year,\"is a leap year\")\n",
    "else:\n",
    "    print(Year,\"is not a leap year\")"
   ]
  },
  {
   "cell_type": "code",
   "execution_count": 15,
   "id": "9c340078",
   "metadata": {},
   "outputs": [
    {
     "name": "stdout",
     "output_type": "stream",
     "text": [
      "56\n",
      "34\n"
     ]
    }
   ],
   "source": [
    "# Swap of two variable through a involvement of a another variable.\n",
    "# Here we take temp as a another variable to swap the values of a and b.\n",
    "\n",
    "a = 34\n",
    "b = 56\n",
    "temp = a\n",
    "a = b\n",
    "b = temp\n",
    "print(a)\n",
    "print(b)"
   ]
  },
  {
   "cell_type": "code",
   "execution_count": 21,
   "id": "da518972",
   "metadata": {},
   "outputs": [
    {
     "name": "stdout",
     "output_type": "stream",
     "text": [
      "98\n",
      "67\n"
     ]
    }
   ],
   "source": [
    "# Swap of two numbers without involving any another variable in it:-\n",
    "# through single string.\n",
    "\n",
    "a = 67\n",
    "b = 98\n",
    "a,b = b,a\n",
    "print(a)\n",
    "print(b)"
   ]
  },
  {
   "cell_type": "code",
   "execution_count": 12,
   "id": "e2e117ca",
   "metadata": {},
   "outputs": [
    {
     "name": "stdout",
     "output_type": "stream",
     "text": [
      "Parul\n",
      "Rajasthan\n"
     ]
    }
   ],
   "source": [
    "# Printing string in different different lines:-\n",
    "\n",
    "print(\"Parul\")\n",
    "print(\"Rajasthan\")"
   ]
  },
  {
   "cell_type": "code",
   "execution_count": 13,
   "id": "f91a69ae",
   "metadata": {},
   "outputs": [
    {
     "name": "stdout",
     "output_type": "stream",
     "text": [
      "Parul\n",
      "rajasthan\n"
     ]
    }
   ],
   "source": [
    "# Printing the string in different different lines without again and again involement of print through backslash n(\\n)\n",
    "\n",
    "print(\"Parul\\nrajasthan\")"
   ]
  },
  {
   "cell_type": "code",
   "execution_count": 14,
   "id": "fbc11603",
   "metadata": {},
   "outputs": [
    {
     "name": "stdout",
     "output_type": "stream",
     "text": [
      " Parul\n",
      " rajasthan\n"
     ]
    }
   ],
   "source": [
    "# here if we put space before the (\\n) than it also comes in the result\n",
    "\n",
    "print(\" Parul\\n rajasthan\")"
   ]
  },
  {
   "cell_type": "code",
   "execution_count": 16,
   "id": "fdfdeb0c",
   "metadata": {},
   "outputs": [
    {
     "name": "stdout",
     "output_type": "stream",
     "text": [
      "\t\t\tIntroduction\n"
     ]
    }
   ],
   "source": [
    "# We use (\\t) to give space in the sentence :-\n",
    "\n",
    "print(\"\\t\\t\\tIntroduction\")"
   ]
  },
  {
   "cell_type": "code",
   "execution_count": 18,
   "id": "4d5d5bea",
   "metadata": {},
   "outputs": [
    {
     "name": "stdout",
     "output_type": "stream",
     "text": [
      "\u001b[34m\u001b[42m\u001b[1mPARUL\n"
     ]
    }
   ],
   "source": [
    "#  here it is used to color the background , style and forward but only in the string \n",
    "\n",
    "from colorama import Fore,Back,Style\n",
    "print(Fore.BLUE+Back.GREEN+Style.BRIGHT+\"PARUL\")"
   ]
  },
  {
   "cell_type": "code",
   "execution_count": 19,
   "id": "e4755d93",
   "metadata": {},
   "outputs": [
    {
     "name": "stdout",
     "output_type": "stream",
     "text": [
      "\u001b[34m\u001b[42m\u001b[1mPARUL Yadav\n"
     ]
    }
   ],
   "source": [
    "from colorama import Fore,Back,Style\n",
    "print(Fore.BLUE+Back.GREEN+Style.BRIGHT+\"PARUL Yadav\")"
   ]
  },
  {
   "cell_type": "code",
   "execution_count": 22,
   "id": "04d591ce",
   "metadata": {},
   "outputs": [
    {
     "ename": "TypeError",
     "evalue": "can only concatenate str (not \"int\") to str",
     "output_type": "error",
     "traceback": [
      "\u001b[1;31m---------------------------------------------------------------------------\u001b[0m",
      "\u001b[1;31mTypeError\u001b[0m                                 Traceback (most recent call last)",
      "Cell \u001b[1;32mIn[22], line 2\u001b[0m\n\u001b[0;32m      1\u001b[0m \u001b[38;5;28;01mfrom\u001b[39;00m \u001b[38;5;21;01mcolorama\u001b[39;00m \u001b[38;5;28;01mimport\u001b[39;00m Fore,Back,Style\n\u001b[1;32m----> 2\u001b[0m \u001b[38;5;28mprint\u001b[39m(\u001b[43mFore\u001b[49m\u001b[38;5;241;43m.\u001b[39;49m\u001b[43mBLUE\u001b[49m\u001b[38;5;241;43m+\u001b[39;49m\u001b[43mBack\u001b[49m\u001b[38;5;241;43m.\u001b[39;49m\u001b[43mGREEN\u001b[49m\u001b[38;5;241;43m+\u001b[39;49m\u001b[43mStyle\u001b[49m\u001b[38;5;241;43m.\u001b[39;49m\u001b[43mBRIGHT\u001b[49m\u001b[38;5;241;43m+\u001b[39;49m\u001b[38;5;241;43m6789\u001b[39;49m)\n",
      "\u001b[1;31mTypeError\u001b[0m: can only concatenate str (not \"int\") to str"
     ]
    }
   ],
   "source": [
    "from colorama import Fore,Back,Style\n",
    "print(Fore.BLUE+Back.GREEN+Style.BRIGHT+6789)\n",
    "# here we get an error because what we have to run or execute we have to put it into string \"\" and  after putting into string it executed."
   ]
  },
  {
   "cell_type": "code",
   "execution_count": 23,
   "id": "e98d799d",
   "metadata": {},
   "outputs": [
    {
     "name": "stdout",
     "output_type": "stream",
     "text": [
      "\u001b[34m\u001b[42m\u001b[1m6789\n"
     ]
    }
   ],
   "source": [
    "from colorama import Fore,Back,Style\n",
    "print(Fore.BLUE+Back.GREEN+Style.BRIGHT+\"6789\")"
   ]
  },
  {
   "cell_type": "code",
   "execution_count": null,
   "id": "70754499",
   "metadata": {},
   "outputs": [],
   "source": []
  },
  {
   "cell_type": "code",
   "execution_count": null,
   "id": "07c11aa1",
   "metadata": {},
   "outputs": [],
   "source": []
  }
 ],
 "metadata": {
  "kernelspec": {
   "display_name": "Python 3 (ipykernel)",
   "language": "python",
   "name": "python3"
  },
  "language_info": {
   "codemirror_mode": {
    "name": "ipython",
    "version": 3
   },
   "file_extension": ".py",
   "mimetype": "text/x-python",
   "name": "python",
   "nbconvert_exporter": "python",
   "pygments_lexer": "ipython3",
   "version": "3.10.9"
  }
 },
 "nbformat": 4,
 "nbformat_minor": 5
}
