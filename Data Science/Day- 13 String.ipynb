{
 "cells": [
  {
   "cell_type": "markdown",
   "id": "15bfc805",
   "metadata": {},
   "source": [
    "# STRING"
   ]
  },
  {
   "cell_type": "code",
   "execution_count": null,
   "id": "ffee63ee",
   "metadata": {},
   "outputs": [],
   "source": [
    "# what is string?\n",
    "=> A “string” is a data type in Python, composed of a collection of characters.\n",
    "=>In Python, strings are used for representing textual data\n",
    "=> A string is a sequence of characters enclosed in either single quotes ('') or double quotes (“”). "
   ]
  },
  {
   "cell_type": "code",
   "execution_count": 2,
   "id": "d7625d25",
   "metadata": {},
   "outputs": [
    {
     "name": "stdout",
     "output_type": "stream",
     "text": [
      "Parul Yadav <class 'str'>\n"
     ]
    }
   ],
   "source": [
    "# Creating a string as s:-\n",
    "\n",
    "s = \"Parul Yadav\"\n",
    "print(s,type(s))"
   ]
  },
  {
   "cell_type": "code",
   "execution_count": 3,
   "id": "654b7edb",
   "metadata": {},
   "outputs": [
    {
     "data": {
      "text/plain": [
       "2481251471088"
      ]
     },
     "execution_count": 3,
     "metadata": {},
     "output_type": "execute_result"
    }
   ],
   "source": [
    "# printing id of s:-\n",
    "\n",
    "id(s)"
   ]
  },
  {
   "cell_type": "code",
   "execution_count": 4,
   "id": "11df51c5",
   "metadata": {},
   "outputs": [
    {
     "data": {
      "text/plain": [
       "'r'"
      ]
     },
     "execution_count": 4,
     "metadata": {},
     "output_type": "execute_result"
    }
   ],
   "source": [
    "# Calling the string from the index:-\n",
    "\n",
    "s[2]"
   ]
  },
  {
   "cell_type": "code",
   "execution_count": 5,
   "id": "04f79d4b",
   "metadata": {},
   "outputs": [
    {
     "ename": "TypeError",
     "evalue": "'str' object does not support item assignment",
     "output_type": "error",
     "traceback": [
      "\u001b[1;31m---------------------------------------------------------------------------\u001b[0m",
      "\u001b[1;31mTypeError\u001b[0m                                 Traceback (most recent call last)",
      "Cell \u001b[1;32mIn[5], line 4\u001b[0m\n\u001b[0;32m      1\u001b[0m \u001b[38;5;66;03m# Can we replace it to index:-\u001b[39;00m\n\u001b[0;32m      2\u001b[0m \u001b[38;5;66;03m# Let's see:-\u001b[39;00m\n\u001b[1;32m----> 4\u001b[0m s[\u001b[38;5;241m0\u001b[39m] \u001b[38;5;241m=\u001b[39m \u001b[38;5;124m\"\u001b[39m\u001b[38;5;124mT\u001b[39m\u001b[38;5;124m\"\u001b[39m\n",
      "\u001b[1;31mTypeError\u001b[0m: 'str' object does not support item assignment"
     ]
    }
   ],
   "source": [
    "# Can we replace it to index:-\n",
    "# Let's see:-\n",
    "\n",
    "s[0] = \"T\"\n",
    "\n",
    "# No it will not work , it will always show an error to us."
   ]
  },
  {
   "cell_type": "code",
   "execution_count": 6,
   "id": "6a17e9ce",
   "metadata": {},
   "outputs": [
    {
     "data": {
      "text/plain": [
       "'Parul Yadav'"
      ]
     },
     "execution_count": 6,
     "metadata": {},
     "output_type": "execute_result"
    }
   ],
   "source": [
    "# Caling the string as s:-\n",
    "\n",
    "s"
   ]
  },
  {
   "cell_type": "code",
   "execution_count": 8,
   "id": "1df9585e",
   "metadata": {},
   "outputs": [
    {
     "data": {
      "text/plain": [
       "' '"
      ]
     },
     "execution_count": 8,
     "metadata": {},
     "output_type": "execute_result"
    }
   ],
   "source": [
    "# Calling it from index:-\n",
    "\n",
    "s[5]\n",
    "\n",
    "# It will also count space as a special character in it."
   ]
  },
  {
   "cell_type": "code",
   "execution_count": 9,
   "id": "67ab9a8e",
   "metadata": {},
   "outputs": [
    {
     "name": "stdout",
     "output_type": "stream",
     "text": [
      "P\n",
      "a\n",
      "r\n",
      "u\n",
      "l\n",
      " \n",
      "Y\n",
      "a\n",
      "d\n",
      "a\n",
      "v\n"
     ]
    }
   ],
   "source": [
    "# Printing the string with the help of loop:-\n",
    "# Using for loop:-\n",
    "\n",
    "for k in s:\n",
    "    print(k)"
   ]
  },
  {
   "cell_type": "code",
   "execution_count": 10,
   "id": "6892ecae",
   "metadata": {},
   "outputs": [
    {
     "name": "stdout",
     "output_type": "stream",
     "text": [
      "P a r u l   Y a d a v "
     ]
    }
   ],
   "source": [
    "# Printing the string with the help of loop:-\n",
    "# Using for loop:-\n",
    "# We can also do this using end =\"\"\n",
    "\n",
    "for k in s:\n",
    "    print(k,end=\" \")"
   ]
  },
  {
   "cell_type": "code",
   "execution_count": 11,
   "id": "828f043c",
   "metadata": {},
   "outputs": [
    {
     "name": "stdout",
     "output_type": "stream",
     "text": [
      "P\n",
      "a\n",
      "r\n",
      "u\n",
      "l\n",
      " \n",
      "Y\n",
      "a\n",
      "d\n",
      "a\n",
      "v\n"
     ]
    }
   ],
   "source": [
    "# Printing the string with the help of loop:-\n",
    "# Using for loop:-\n",
    "# With the help of range:-\n",
    "\n",
    "for k in range(len(s)):\n",
    "    print(s[k])"
   ]
  },
  {
   "cell_type": "code",
   "execution_count": 13,
   "id": "685208d6",
   "metadata": {},
   "outputs": [
    {
     "name": "stdout",
     "output_type": "stream",
     "text": [
      "Parul Yadav"
     ]
    }
   ],
   "source": [
    "# Printing the string with the help of loop:-\n",
    "# Using for loop:-\n",
    "# With the help of range:-\n",
    "# using end =\"\"\n",
    "\n",
    "for k in range(len(s)):\n",
    "    print(s[k],end=\"\")"
   ]
  },
  {
   "cell_type": "code",
   "execution_count": 16,
   "id": "64391b7e",
   "metadata": {},
   "outputs": [
    {
     "name": "stdout",
     "output_type": "stream",
     "text": [
      "-1\n",
      "-2\n",
      "-3\n",
      "-4\n",
      "-5\n",
      "-6\n",
      "-7\n",
      "-8\n",
      "-9\n",
      "-10\n",
      "-11\n"
     ]
    }
   ],
   "source": [
    "# What if we want to reverse the string with the loop\n",
    "# let's try it with for loop:-\n",
    "\n",
    "for k in range(-1,-(len(s))-1,-1):\n",
    "    print(k)\n",
    "# Here we are printing the indexing of string"
   ]
  },
  {
   "cell_type": "code",
   "execution_count": 17,
   "id": "ffca293c",
   "metadata": {},
   "outputs": [
    {
     "name": "stdout",
     "output_type": "stream",
     "text": [
      "v\n",
      "a\n",
      "d\n",
      "a\n",
      "Y\n",
      " \n",
      "l\n",
      "u\n",
      "r\n",
      "a\n",
      "P\n"
     ]
    }
   ],
   "source": [
    "# What if we want to reverse the string with the loop\n",
    "# let's try it with for loop:-\n",
    "\n",
    "for k in range(-1,-(len(s))-1,-1):\n",
    "    print(s[k])"
   ]
  },
  {
   "cell_type": "code",
   "execution_count": 15,
   "id": "aab18c1f",
   "metadata": {},
   "outputs": [
    {
     "name": "stdout",
     "output_type": "stream",
     "text": [
      "vadaY luraP"
     ]
    }
   ],
   "source": [
    "# What if we want to reverse the string with the loop\n",
    "# let's try it with for loop:-\n",
    "# Using end=\"\"\n",
    "\n",
    "for k in range(-1,-(len(s))-1,-1):\n",
    "    print(s[k],end=\"\")"
   ]
  },
  {
   "cell_type": "code",
   "execution_count": 18,
   "id": "5be2af88",
   "metadata": {},
   "outputs": [
    {
     "data": {
      "text/plain": [
       "False"
      ]
     },
     "execution_count": 18,
     "metadata": {},
     "output_type": "execute_result"
    }
   ],
   "source": [
    "# Comparing two string\n",
    "# Is it possible to do so:-\n",
    "\n",
    "s1 = \"parul\"\n",
    "s2 = \"yadav\"\n",
    "s1>s2\n",
    "\n",
    "# We are doing this through the ascii value"
   ]
  },
  {
   "cell_type": "code",
   "execution_count": 19,
   "id": "e15ad099",
   "metadata": {},
   "outputs": [
    {
     "data": {
      "text/plain": [
       "112"
      ]
     },
     "execution_count": 19,
     "metadata": {},
     "output_type": "execute_result"
    }
   ],
   "source": [
    "# ASCII value of p:-\n",
    "\n",
    "ord(\"p\")"
   ]
  },
  {
   "cell_type": "code",
   "execution_count": 20,
   "id": "58f3d4d3",
   "metadata": {},
   "outputs": [
    {
     "data": {
      "text/plain": [
       "121"
      ]
     },
     "execution_count": 20,
     "metadata": {},
     "output_type": "execute_result"
    }
   ],
   "source": [
    "# ASCII value of y:-\n",
    "\n",
    "ord(\"y\")"
   ]
  },
  {
   "cell_type": "code",
   "execution_count": 26,
   "id": "94502490",
   "metadata": {},
   "outputs": [
    {
     "data": {
      "text/plain": [
       "'parulmehta mehta'"
      ]
     },
     "execution_count": 26,
     "metadata": {},
     "output_type": "execute_result"
    }
   ],
   "source": [
    "# Calling s1:-\n",
    "\n",
    "s1"
   ]
  },
  {
   "cell_type": "code",
   "execution_count": 27,
   "id": "1fbc061c",
   "metadata": {},
   "outputs": [
    {
     "data": {
      "text/plain": [
       "2481280277584"
      ]
     },
     "execution_count": 27,
     "metadata": {},
     "output_type": "execute_result"
    }
   ],
   "source": [
    "# Checking id of s1:-\n",
    "\n",
    "id(s1)"
   ]
  },
  {
   "cell_type": "code",
   "execution_count": 28,
   "id": "d27783af",
   "metadata": {},
   "outputs": [],
   "source": [
    "# Adding string into string:-\n",
    "\n",
    "s1 = s1+\" mehta\""
   ]
  },
  {
   "cell_type": "code",
   "execution_count": 29,
   "id": "92c5c220",
   "metadata": {},
   "outputs": [
    {
     "data": {
      "text/plain": [
       "'parulmehta mehta mehta'"
      ]
     },
     "execution_count": 29,
     "metadata": {},
     "output_type": "execute_result"
    }
   ],
   "source": [
    "# Calling s1 to check the result:-\n",
    "\n",
    "s1"
   ]
  },
  {
   "cell_type": "code",
   "execution_count": 31,
   "id": "66f06627",
   "metadata": {},
   "outputs": [
    {
     "data": {
      "text/plain": [
       "2481271926704"
      ]
     },
     "execution_count": 31,
     "metadata": {},
     "output_type": "execute_result"
    }
   ],
   "source": [
    "# Again checking id of s1:-\n",
    "\n",
    "id(s1)\n",
    "\n",
    "# Here the id is changed because string is immutable."
   ]
  },
  {
   "cell_type": "code",
   "execution_count": 33,
   "id": "3901fcee",
   "metadata": {},
   "outputs": [
    {
     "data": {
      "text/plain": [
       "'&&&&&&'"
      ]
     },
     "execution_count": 33,
     "metadata": {},
     "output_type": "execute_result"
    }
   ],
   "source": [
    "# What we can do if we want to mutiple a no many time:-\n",
    "# Is it possible in string:-\n",
    "# Let's check:-\n",
    "\n",
    "s2 = \"&\"\n",
    "s2 *= 6\n",
    "s2"
   ]
  },
  {
   "cell_type": "code",
   "execution_count": 34,
   "id": "47e6bfa3",
   "metadata": {},
   "outputs": [
    {
     "data": {
      "text/plain": [
       "'Parul Yadav'"
      ]
     },
     "execution_count": 34,
     "metadata": {},
     "output_type": "execute_result"
    }
   ],
   "source": [
    "# calling the string as s:-\n",
    "\n",
    "s"
   ]
  },
  {
   "cell_type": "code",
   "execution_count": 35,
   "id": "2861021d",
   "metadata": {},
   "outputs": [
    {
     "data": {
      "text/plain": [
       "2481251471088"
      ]
     },
     "execution_count": 35,
     "metadata": {},
     "output_type": "execute_result"
    }
   ],
   "source": [
    "# Checking id of string s:-\n",
    "\n",
    "id(s)"
   ]
  },
  {
   "cell_type": "code",
   "execution_count": 36,
   "id": "3a4fd3ef",
   "metadata": {},
   "outputs": [
    {
     "data": {
      "text/plain": [
       "'vadaY luraP'"
      ]
     },
     "execution_count": 36,
     "metadata": {},
     "output_type": "execute_result"
    }
   ],
   "source": [
    "# reversing of the string:-\n",
    "\n",
    "s[::-1]"
   ]
  },
  {
   "cell_type": "code",
   "execution_count": 37,
   "id": "4a066b49",
   "metadata": {},
   "outputs": [
    {
     "data": {
      "text/plain": [
       "'Parul Yadav'"
      ]
     },
     "execution_count": 37,
     "metadata": {},
     "output_type": "execute_result"
    }
   ],
   "source": [
    "# Printing the string:-\n",
    "\n",
    "s"
   ]
  },
  {
   "cell_type": "code",
   "execution_count": 38,
   "id": "deb748eb",
   "metadata": {},
   "outputs": [
    {
     "data": {
      "text/plain": [
       "'Yadav'"
      ]
     },
     "execution_count": 38,
     "metadata": {},
     "output_type": "execute_result"
    }
   ],
   "source": [
    "# Slicing the string s:-\n",
    "\n",
    "s[6:11:1]"
   ]
  },
  {
   "cell_type": "code",
   "execution_count": 39,
   "id": "7709b373",
   "metadata": {},
   "outputs": [
    {
     "data": {
      "text/plain": [
       "'ar'"
      ]
     },
     "execution_count": 39,
     "metadata": {},
     "output_type": "execute_result"
    }
   ],
   "source": [
    "# Slicing the string s:-\n",
    "\n",
    "s[1:3:1]"
   ]
  },
  {
   "cell_type": "code",
   "execution_count": 40,
   "id": "3abe3c6b",
   "metadata": {},
   "outputs": [
    {
     "data": {
      "text/plain": [
       "'Parul Yadav'"
      ]
     },
     "execution_count": 40,
     "metadata": {},
     "output_type": "execute_result"
    }
   ],
   "source": [
    "# Calling the string as s:-\n",
    "\n",
    "s"
   ]
  },
  {
   "cell_type": "code",
   "execution_count": 41,
   "id": "ad5d387c",
   "metadata": {},
   "outputs": [
    {
     "data": {
      "text/plain": [
       "11"
      ]
     },
     "execution_count": 41,
     "metadata": {},
     "output_type": "execute_result"
    }
   ],
   "source": [
    "# Finding the length of the string s:-\n",
    "\n",
    "len(s)"
   ]
  },
  {
   "cell_type": "code",
   "execution_count": 42,
   "id": "6a86deda",
   "metadata": {},
   "outputs": [
    {
     "data": {
      "text/plain": [
       "3462124243"
      ]
     },
     "execution_count": 42,
     "metadata": {},
     "output_type": "execute_result"
    }
   ],
   "source": [
    "# Converting a integer into the string:-\n",
    "\n",
    "a = 3462124243\n",
    "a"
   ]
  },
  {
   "cell_type": "code",
   "execution_count": 43,
   "id": "c26ed287",
   "metadata": {},
   "outputs": [
    {
     "data": {
      "text/plain": [
       "'3462124243'"
      ]
     },
     "execution_count": 43,
     "metadata": {},
     "output_type": "execute_result"
    }
   ],
   "source": [
    "# Converting a integer into the string:-\n",
    "\n",
    "s4 = str(a)\n",
    "s4"
   ]
  },
  {
   "cell_type": "code",
   "execution_count": 44,
   "id": "7f74a100",
   "metadata": {},
   "outputs": [
    {
     "data": {
      "text/plain": [
       "'Parul Yadav'"
      ]
     },
     "execution_count": 44,
     "metadata": {},
     "output_type": "execute_result"
    }
   ],
   "source": [
    "# Calling the string:-\n",
    "\n",
    "s"
   ]
  },
  {
   "cell_type": "code",
   "execution_count": 45,
   "id": "9e8335f0",
   "metadata": {},
   "outputs": [
    {
     "data": {
      "text/plain": [
       "'Parul yadav'"
      ]
     },
     "execution_count": 45,
     "metadata": {},
     "output_type": "execute_result"
    }
   ],
   "source": [
    "# If we want to capital only the first letter of the first word:-\n",
    "\n",
    "s.capitalize()"
   ]
  },
  {
   "cell_type": "code",
   "execution_count": 46,
   "id": "24598984",
   "metadata": {},
   "outputs": [
    {
     "data": {
      "text/plain": [
       "1"
      ]
     },
     "execution_count": 46,
     "metadata": {},
     "output_type": "execute_result"
    }
   ],
   "source": [
    "# If we want to find the index of the letter:-\n",
    "\n",
    "s.index(\"a\")"
   ]
  },
  {
   "cell_type": "code",
   "execution_count": 47,
   "id": "319bfc1c",
   "metadata": {},
   "outputs": [
    {
     "ename": "ValueError",
     "evalue": "substring not found",
     "output_type": "error",
     "traceback": [
      "\u001b[1;31m---------------------------------------------------------------------------\u001b[0m",
      "\u001b[1;31mValueError\u001b[0m                                Traceback (most recent call last)",
      "Cell \u001b[1;32mIn[47], line 4\u001b[0m\n\u001b[0;32m      1\u001b[0m \u001b[38;5;66;03m# If we want to find the index of the letter:-\u001b[39;00m\n\u001b[0;32m      2\u001b[0m \u001b[38;5;66;03m# What if that letter is not in the string\u001b[39;00m\n\u001b[1;32m----> 4\u001b[0m \u001b[43ms\u001b[49m\u001b[38;5;241;43m.\u001b[39;49m\u001b[43mindex\u001b[49m\u001b[43m(\u001b[49m\u001b[38;5;124;43m\"\u001b[39;49m\u001b[38;5;124;43mq\u001b[39;49m\u001b[38;5;124;43m\"\u001b[39;49m\u001b[43m)\u001b[49m\n",
      "\u001b[1;31mValueError\u001b[0m: substring not found"
     ]
    }
   ],
   "source": [
    "# If we want to find the index of the letter:-\n",
    "# What if that letter is not in the string\n",
    "\n",
    "s.index(\"q\")\n",
    "\n",
    "# It always show an error."
   ]
  },
  {
   "cell_type": "code",
   "execution_count": 48,
   "id": "c24716c7",
   "metadata": {},
   "outputs": [
    {
     "data": {
      "text/plain": [
       "'Parul Yadav'"
      ]
     },
     "execution_count": 48,
     "metadata": {},
     "output_type": "execute_result"
    }
   ],
   "source": [
    "# CAlling the string s:-\n",
    "\n",
    "s"
   ]
  },
  {
   "cell_type": "code",
   "execution_count": 49,
   "id": "7a25f070",
   "metadata": {},
   "outputs": [
    {
     "data": {
      "text/plain": [
       "7"
      ]
     },
     "execution_count": 49,
     "metadata": {},
     "output_type": "execute_result"
    }
   ],
   "source": [
    "# If we want to find the index of the letter:-\n",
    "# we can also do this like:-\n",
    "# This uses we we have same letter at different index\n",
    "\n",
    "s.index(\"a\",3)"
   ]
  },
  {
   "cell_type": "code",
   "execution_count": 50,
   "id": "ffba713c",
   "metadata": {},
   "outputs": [
    {
     "data": {
      "text/plain": [
       "1"
      ]
     },
     "execution_count": 50,
     "metadata": {},
     "output_type": "execute_result"
    }
   ],
   "source": [
    "# If we want to find the index of the letter:-\n",
    "# We can also do it through find:-\n",
    "\n",
    "s.find(\"a\")"
   ]
  },
  {
   "cell_type": "code",
   "execution_count": 51,
   "id": "07643aa0",
   "metadata": {},
   "outputs": [
    {
     "data": {
      "text/plain": [
       "7"
      ]
     },
     "execution_count": 51,
     "metadata": {},
     "output_type": "execute_result"
    }
   ],
   "source": [
    "# If we want to find the index of the letter:-\n",
    "# We can also do it through find:-\n",
    "\n",
    "s.find(\"a\",3)"
   ]
  },
  {
   "cell_type": "code",
   "execution_count": 52,
   "id": "6196f2a8",
   "metadata": {},
   "outputs": [
    {
     "data": {
      "text/plain": [
       "-1"
      ]
     },
     "execution_count": 52,
     "metadata": {},
     "output_type": "execute_result"
    }
   ],
   "source": [
    "# If we want to find the index of the letter:-\n",
    "# We can also do it through find:-\n",
    "# What if that letter is not in the string:-\n",
    "\n",
    "s.find(\"q\")\n",
    "\n",
    "# It will give an negative value in place of error"
   ]
  },
  {
   "cell_type": "code",
   "execution_count": 53,
   "id": "80c001d8",
   "metadata": {},
   "outputs": [
    {
     "data": {
      "text/plain": [
       "'Parul Yadav'"
      ]
     },
     "execution_count": 53,
     "metadata": {},
     "output_type": "execute_result"
    }
   ],
   "source": [
    "# Calling the string s:-\n",
    "\n",
    "s"
   ]
  },
  {
   "cell_type": "code",
   "execution_count": 55,
   "id": "895cf4ed",
   "metadata": {},
   "outputs": [
    {
     "data": {
      "text/plain": [
       "False"
      ]
     },
     "execution_count": 55,
     "metadata": {},
     "output_type": "execute_result"
    }
   ],
   "source": [
    "# finding string s have only alphabets:-\n",
    "\n",
    "s.isalpha()"
   ]
  },
  {
   "cell_type": "code",
   "execution_count": 56,
   "id": "95e7581f",
   "metadata": {},
   "outputs": [
    {
     "data": {
      "text/plain": [
       "False"
      ]
     },
     "execution_count": 56,
     "metadata": {},
     "output_type": "execute_result"
    }
   ],
   "source": [
    "# finding string s have only digits:-\n",
    "\n",
    "s.isdigit()"
   ]
  },
  {
   "cell_type": "code",
   "execution_count": 57,
   "id": "5d0806c5",
   "metadata": {},
   "outputs": [
    {
     "data": {
      "text/plain": [
       "False"
      ]
     },
     "execution_count": 57,
     "metadata": {},
     "output_type": "execute_result"
    }
   ],
   "source": [
    "# finding string s have both alphabets and digits in it:-\n",
    "\n",
    "s.isalnum()"
   ]
  },
  {
   "cell_type": "code",
   "execution_count": 58,
   "id": "594a3426",
   "metadata": {},
   "outputs": [
    {
     "data": {
      "text/plain": [
       "False"
      ]
     },
     "execution_count": 58,
     "metadata": {},
     "output_type": "execute_result"
    }
   ],
   "source": [
    "# finding string s have only space:-\n",
    "\n",
    "s.isspace()"
   ]
  },
  {
   "cell_type": "code",
   "execution_count": 59,
   "id": "18869874",
   "metadata": {},
   "outputs": [
    {
     "data": {
      "text/plain": [
       "'parul yadav'"
      ]
     },
     "execution_count": 59,
     "metadata": {},
     "output_type": "execute_result"
    }
   ],
   "source": [
    "# Lowering all the letters of the string:-\n",
    "\n",
    "s.lower()"
   ]
  },
  {
   "cell_type": "code",
   "execution_count": 60,
   "id": "47c7183c",
   "metadata": {},
   "outputs": [
    {
     "data": {
      "text/plain": [
       "'PARUL YADAV'"
      ]
     },
     "execution_count": 60,
     "metadata": {},
     "output_type": "execute_result"
    }
   ],
   "source": [
    "# Uppering all the letters of string:-\n",
    "\n",
    "s.upper()"
   ]
  },
  {
   "cell_type": "code",
   "execution_count": 61,
   "id": "12c82526",
   "metadata": {},
   "outputs": [
    {
     "data": {
      "text/plain": [
       "False"
      ]
     },
     "execution_count": 61,
     "metadata": {},
     "output_type": "execute_result"
    }
   ],
   "source": [
    "# Checking that the string is having all upper letters:-\n",
    "\n",
    "s.isupper()"
   ]
  },
  {
   "cell_type": "code",
   "execution_count": 62,
   "id": "f52fefdd",
   "metadata": {},
   "outputs": [
    {
     "data": {
      "text/plain": [
       "False"
      ]
     },
     "execution_count": 62,
     "metadata": {},
     "output_type": "execute_result"
    }
   ],
   "source": [
    "# Checking that the string is having all lower letters:-\n",
    "\n",
    "s.islower()"
   ]
  },
  {
   "cell_type": "code",
   "execution_count": 65,
   "id": "3dd89b8a",
   "metadata": {},
   "outputs": [
    {
     "data": {
      "text/plain": [
       "'Parul Yadav'"
      ]
     },
     "execution_count": 65,
     "metadata": {},
     "output_type": "execute_result"
    }
   ],
   "source": [
    "# What if we want to capital the first letter of all words:-\n",
    "\n",
    "s.title()"
   ]
  },
  {
   "cell_type": "code",
   "execution_count": 66,
   "id": "6c04c7f2",
   "metadata": {},
   "outputs": [
    {
     "data": {
      "text/plain": [
       "True"
      ]
     },
     "execution_count": 66,
     "metadata": {},
     "output_type": "execute_result"
    }
   ],
   "source": [
    "# Checking that the string s is having only tittled words:-\n",
    "\n",
    "s.istitle()"
   ]
  },
  {
   "cell_type": "code",
   "execution_count": 67,
   "id": "501bf6cc",
   "metadata": {},
   "outputs": [
    {
     "data": {
      "text/plain": [
       "'Parul Kumari'"
      ]
     },
     "execution_count": 67,
     "metadata": {},
     "output_type": "execute_result"
    }
   ],
   "source": [
    "# What if we want to change the words :-\n",
    "\n",
    "s.replace(\"Yadav\",\"Kumari\")"
   ]
  },
  {
   "cell_type": "code",
   "execution_count": 68,
   "id": "d779aab7",
   "metadata": {},
   "outputs": [
    {
     "data": {
      "text/plain": [
       "'Parul Yadav'"
      ]
     },
     "execution_count": 68,
     "metadata": {},
     "output_type": "execute_result"
    }
   ],
   "source": [
    "# Calling the original s string:-\n",
    "\n",
    "s"
   ]
  },
  {
   "cell_type": "code",
   "execution_count": 69,
   "id": "1fe18474",
   "metadata": {},
   "outputs": [
    {
     "data": {
      "text/plain": [
       "'Parul Yadav'"
      ]
     },
     "execution_count": 69,
     "metadata": {},
     "output_type": "execute_result"
    }
   ],
   "source": [
    "# stripping from the left:-\n",
    "\n",
    "s.lstrip()\n",
    "\n",
    "# Bydefault remove the presence of space from the left side."
   ]
  },
  {
   "cell_type": "code",
   "execution_count": 70,
   "id": "747e57f9",
   "metadata": {},
   "outputs": [
    {
     "data": {
      "text/plain": [
       "'rul Yadav'"
      ]
     },
     "execution_count": 70,
     "metadata": {},
     "output_type": "execute_result"
    }
   ],
   "source": [
    "# stripping from the left:-\n",
    "\n",
    "s.lstrip(\"Pa\")"
   ]
  },
  {
   "cell_type": "code",
   "execution_count": 71,
   "id": "ab0fb17d",
   "metadata": {},
   "outputs": [
    {
     "data": {
      "text/plain": [
       "'Parul Yadav'"
      ]
     },
     "execution_count": 71,
     "metadata": {},
     "output_type": "execute_result"
    }
   ],
   "source": [
    "# stripping from the right:-\n",
    "\n",
    "s.rstrip()\n",
    "# Bydefault removing the presence of space from the right side."
   ]
  },
  {
   "cell_type": "code",
   "execution_count": 72,
   "id": "de40c534",
   "metadata": {},
   "outputs": [
    {
     "data": {
      "text/plain": [
       "'Parul Yad'"
      ]
     },
     "execution_count": 72,
     "metadata": {},
     "output_type": "execute_result"
    }
   ],
   "source": [
    "# stripping from the right:-\n",
    "\n",
    "s.rstrip(\"av\")"
   ]
  },
  {
   "cell_type": "code",
   "execution_count": 73,
   "id": "80fa2e75",
   "metadata": {},
   "outputs": [
    {
     "data": {
      "text/plain": [
       "'Parul Yadav'"
      ]
     },
     "execution_count": 73,
     "metadata": {},
     "output_type": "execute_result"
    }
   ],
   "source": [
    "# Calling the string as s to chrck the changes in the string:-\n",
    "\n",
    "s"
   ]
  },
  {
   "cell_type": "code",
   "execution_count": 74,
   "id": "f74d5f55",
   "metadata": {},
   "outputs": [
    {
     "data": {
      "text/plain": [
       "'  Yadav'"
      ]
     },
     "execution_count": 74,
     "metadata": {},
     "output_type": "execute_result"
    }
   ],
   "source": [
    "# Can we delete a word from the string:-\n",
    "# We can do this through the help of replace.\n",
    "\n",
    "s.replace(\"Parul\",\" \")"
   ]
  },
  {
   "cell_type": "code",
   "execution_count": 75,
   "id": "fdc565d6",
   "metadata": {},
   "outputs": [
    {
     "data": {
      "text/plain": [
       "'Parul Yadav'"
      ]
     },
     "execution_count": 75,
     "metadata": {},
     "output_type": "execute_result"
    }
   ],
   "source": [
    "# calling the string as s:-\n",
    "\n",
    "s"
   ]
  },
  {
   "cell_type": "code",
   "execution_count": 78,
   "id": "549fb1cb",
   "metadata": {},
   "outputs": [
    {
     "data": {
      "text/plain": [
       "'Python Intro'"
      ]
     },
     "execution_count": 78,
     "metadata": {},
     "output_type": "execute_result"
    }
   ],
   "source": [
    "# swapping the letter lower to upper or vice -versa:-\n",
    "\n",
    "s5 = \"pYTHON iNTRO\"\n",
    "s5.swapcase()"
   ]
  },
  {
   "cell_type": "code",
   "execution_count": null,
   "id": "e0d5e4c1",
   "metadata": {},
   "outputs": [],
   "source": []
  }
 ],
 "metadata": {
  "kernelspec": {
   "display_name": "Python 3 (ipykernel)",
   "language": "python",
   "name": "python3"
  },
  "language_info": {
   "codemirror_mode": {
    "name": "ipython",
    "version": 3
   },
   "file_extension": ".py",
   "mimetype": "text/x-python",
   "name": "python",
   "nbconvert_exporter": "python",
   "pygments_lexer": "ipython3",
   "version": "3.10.9"
  }
 },
 "nbformat": 4,
 "nbformat_minor": 5
}
