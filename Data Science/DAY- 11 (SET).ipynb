{
 "cells": [
  {
   "cell_type": "markdown",
   "id": "f5fa9d69",
   "metadata": {},
   "source": [
    "# SET"
   ]
  },
  {
   "cell_type": "code",
   "execution_count": 23,
   "id": "10d23ef3",
   "metadata": {},
   "outputs": [
    {
     "name": "stdout",
     "output_type": "stream",
     "text": [
      "{34, 34.6, 56.3, 'SAM', (56+45j), 12, 76} <class 'set'>\n"
     ]
    },
    {
     "data": {
      "text/plain": [
       "(None, 2062712784928)"
      ]
     },
     "execution_count": 23,
     "metadata": {},
     "output_type": "execute_result"
    }
   ],
   "source": [
    "# Set is a collection of unordered pair of items or elements\n",
    "# Set is mutuble but item in set is immutuble.\n",
    "# Set is hetrogenous in nature.\n",
    "# Creating a set s\n",
    "# Set is unique\n",
    "# It always represented in {} brackets\n",
    "# Printing its value or its type\n",
    "\n",
    "s = {34,12,76,34.6,34,12,56.3,\"SAM\",12,34,56+45j}\n",
    "print(s,type(s)),id(s)"
   ]
  },
  {
   "cell_type": "code",
   "execution_count": 5,
   "id": "2829f709",
   "metadata": {},
   "outputs": [
    {
     "ename": "TypeError",
     "evalue": "'set' object is not subscriptable",
     "output_type": "error",
     "traceback": [
      "\u001b[1;31m---------------------------------------------------------------------------\u001b[0m",
      "\u001b[1;31mTypeError\u001b[0m                                 Traceback (most recent call last)",
      "Cell \u001b[1;32mIn[5], line 3\u001b[0m\n\u001b[0;32m      1\u001b[0m \u001b[38;5;66;03m# Finding value in set:-\u001b[39;00m\n\u001b[1;32m----> 3\u001b[0m \u001b[43ms\u001b[49m\u001b[43m[\u001b[49m\u001b[38;5;241;43m2\u001b[39;49m\u001b[43m]\u001b[49m\n",
      "\u001b[1;31mTypeError\u001b[0m: 'set' object is not subscriptable"
     ]
    }
   ],
   "source": [
    "# Finding value in set:-\n",
    "\n",
    "s[2]\n",
    "\n",
    "# It will not support that function.\n",
    "# Because it is unordered pair of colllection "
   ]
  },
  {
   "cell_type": "code",
   "execution_count": 6,
   "id": "f03139b4",
   "metadata": {},
   "outputs": [
    {
     "name": "stdout",
     "output_type": "stream",
     "text": [
      "34\n",
      "34.6\n",
      "56.3\n",
      "SAM\n",
      "(56+45j)\n",
      "12\n",
      "76\n"
     ]
    }
   ],
   "source": [
    "# printing the result using loop:-\n",
    "# printing using for loop:-\n",
    "\n",
    "for k in s:\n",
    "    print(k)"
   ]
  },
  {
   "cell_type": "code",
   "execution_count": 7,
   "id": "5f7d9276",
   "metadata": {},
   "outputs": [
    {
     "name": "stdout",
     "output_type": "stream",
     "text": [
      "34 * 34.6 * 56.3 * SAM * (56+45j) * 12 * 76 * "
     ]
    }
   ],
   "source": [
    "# printing the result using loop:-\n",
    "# printing using for loop:-\n",
    "# Priting the result in one single line using end=\"\"\n",
    "\n",
    "for k in s:\n",
    "    print(k,end=\" * \")"
   ]
  },
  {
   "cell_type": "code",
   "execution_count": 9,
   "id": "7a4116f4",
   "metadata": {},
   "outputs": [
    {
     "name": "stdout",
     "output_type": "stream",
     "text": [
      "0\n",
      "1\n",
      "2\n",
      "3\n",
      "4\n",
      "5\n",
      "6\n"
     ]
    }
   ],
   "source": [
    "# printing the result using loop:-\n",
    "# printing using for loop:-\n",
    "\n",
    "for k in range(len(s)):\n",
    "    print(k)"
   ]
  },
  {
   "cell_type": "code",
   "execution_count": 10,
   "id": "48098e9c",
   "metadata": {},
   "outputs": [
    {
     "ename": "TypeError",
     "evalue": "'set' object is not subscriptable",
     "output_type": "error",
     "traceback": [
      "\u001b[1;31m---------------------------------------------------------------------------\u001b[0m",
      "\u001b[1;31mTypeError\u001b[0m                                 Traceback (most recent call last)",
      "Cell \u001b[1;32mIn[10], line 6\u001b[0m\n\u001b[0;32m      1\u001b[0m \u001b[38;5;66;03m# printing the result using loop:-\u001b[39;00m\n\u001b[0;32m      2\u001b[0m \u001b[38;5;66;03m# printing using for loop:-\u001b[39;00m\n\u001b[0;32m      3\u001b[0m \u001b[38;5;66;03m# Here if we put s[k] it wills how an error as it will not work on it \u001b[39;00m\n\u001b[0;32m      5\u001b[0m \u001b[38;5;28;01mfor\u001b[39;00m k \u001b[38;5;129;01min\u001b[39;00m \u001b[38;5;28mrange\u001b[39m(\u001b[38;5;28mlen\u001b[39m(s)):\n\u001b[1;32m----> 6\u001b[0m     \u001b[38;5;28mprint\u001b[39m(\u001b[43ms\u001b[49m\u001b[43m[\u001b[49m\u001b[43mk\u001b[49m\u001b[43m]\u001b[49m)\n",
      "\u001b[1;31mTypeError\u001b[0m: 'set' object is not subscriptable"
     ]
    }
   ],
   "source": [
    "# printing the result using loop:-\n",
    "# printing using for loop:-\n",
    "# Here if we put s[k] it wills how an error as it will not work on it \n",
    "\n",
    "for k in range(len(s)):\n",
    "    print(s[k])"
   ]
  },
  {
   "cell_type": "code",
   "execution_count": 15,
   "id": "18999768",
   "metadata": {},
   "outputs": [
    {
     "data": {
      "text/plain": [
       "False"
      ]
     },
     "execution_count": 15,
     "metadata": {},
     "output_type": "execute_result"
    }
   ],
   "source": [
    "# Comparision in set:-\n",
    "# Is it worked or not:-\n",
    "# Taking two sets s1 and s2:-\n",
    "# comaring s1 to s2\n",
    "# Printing the result\n",
    "\n",
    "s1 = {34,21,65}\n",
    "s2 = {12,33,12,}\n",
    "s1<s2"
   ]
  },
  {
   "cell_type": "code",
   "execution_count": 16,
   "id": "c2091f88",
   "metadata": {},
   "outputs": [
    {
     "data": {
      "text/plain": [
       "{(56+45j), 12, 34, 34.6, 56.3, 76, 'SAM'}"
      ]
     },
     "execution_count": 16,
     "metadata": {},
     "output_type": "execute_result"
    }
   ],
   "source": [
    "# Printing s:-\n",
    "\n",
    "s"
   ]
  },
  {
   "cell_type": "code",
   "execution_count": 17,
   "id": "541decbb",
   "metadata": {},
   "outputs": [
    {
     "ename": "TypeError",
     "evalue": "unsupported operand type(s) for +: 'set' and 'set'",
     "output_type": "error",
     "traceback": [
      "\u001b[1;31m---------------------------------------------------------------------------\u001b[0m",
      "\u001b[1;31mTypeError\u001b[0m                                 Traceback (most recent call last)",
      "Cell \u001b[1;32mIn[17], line 4\u001b[0m\n\u001b[0;32m      1\u001b[0m \u001b[38;5;66;03m# Trying to add 2 in the set :-\u001b[39;00m\n\u001b[0;32m      2\u001b[0m \u001b[38;5;66;03m# Let's see is it work or not:-\u001b[39;00m\n\u001b[1;32m----> 4\u001b[0m \u001b[43ms\u001b[49m\u001b[38;5;241;43m+\u001b[39;49m\u001b[43m{\u001b[49m\u001b[38;5;241;43m2\u001b[39;49m\u001b[43m}\u001b[49m\n",
      "\u001b[1;31mTypeError\u001b[0m: unsupported operand type(s) for +: 'set' and 'set'"
     ]
    }
   ],
   "source": [
    "# Trying to add 2 in the set :-\n",
    "# Let's see is it work or not:-\n",
    "\n",
    "s+{2}\n",
    "\n",
    "# It will show an error due to unorderedn pair collection of the items"
   ]
  },
  {
   "cell_type": "code",
   "execution_count": 18,
   "id": "0ad1b79a",
   "metadata": {},
   "outputs": [
    {
     "ename": "TypeError",
     "evalue": "unsupported operand type(s) for *: 'set' and 'int'",
     "output_type": "error",
     "traceback": [
      "\u001b[1;31m---------------------------------------------------------------------------\u001b[0m",
      "\u001b[1;31mTypeError\u001b[0m                                 Traceback (most recent call last)",
      "Cell \u001b[1;32mIn[18], line 4\u001b[0m\n\u001b[0;32m      1\u001b[0m \u001b[38;5;66;03m# Trying to repeat the set in set:-\u001b[39;00m\n\u001b[0;32m      2\u001b[0m \u001b[38;5;66;03m# Is it work or not:-\u001b[39;00m\n\u001b[1;32m----> 4\u001b[0m \u001b[43ms\u001b[49m\u001b[38;5;241;43m*\u001b[39;49m\u001b[38;5;241;43m2\u001b[39;49m\n",
      "\u001b[1;31mTypeError\u001b[0m: unsupported operand type(s) for *: 'set' and 'int'"
     ]
    }
   ],
   "source": [
    "# Trying to repeat the set in set:-\n",
    "# Is it work or not:-\n",
    "\n",
    "s*2\n",
    "\n",
    "# It will also show an error as it is unoredeed pair of items"
   ]
  },
  {
   "cell_type": "code",
   "execution_count": 19,
   "id": "82573b64",
   "metadata": {},
   "outputs": [
    {
     "data": {
      "text/plain": [
       "{(56+45j), 12, 34, 34.6, 56.3, 76, 'SAM'}"
      ]
     },
     "execution_count": 19,
     "metadata": {},
     "output_type": "execute_result"
    }
   ],
   "source": [
    "# Printing set as s:-\n",
    "\n",
    "s"
   ]
  },
  {
   "cell_type": "code",
   "execution_count": 20,
   "id": "d592afb2",
   "metadata": {},
   "outputs": [
    {
     "ename": "AttributeError",
     "evalue": "'set' object has no attribute 'append'",
     "output_type": "error",
     "traceback": [
      "\u001b[1;31m---------------------------------------------------------------------------\u001b[0m",
      "\u001b[1;31mAttributeError\u001b[0m                            Traceback (most recent call last)",
      "Cell \u001b[1;32mIn[20], line 4\u001b[0m\n\u001b[0;32m      1\u001b[0m \u001b[38;5;66;03m# TRying to add items in set throuogh the help of append method.\u001b[39;00m\n\u001b[0;32m      2\u001b[0m \u001b[38;5;66;03m# Most probably apppend method doesn't work without indexing\u001b[39;00m\n\u001b[1;32m----> 4\u001b[0m \u001b[43ms\u001b[49m\u001b[38;5;241;43m.\u001b[39;49m\u001b[43mappend\u001b[49m(\u001b[38;5;241m34\u001b[39m)\n",
      "\u001b[1;31mAttributeError\u001b[0m: 'set' object has no attribute 'append'"
     ]
    }
   ],
   "source": [
    "# TRying to add items in set throuogh the help of append method.\n",
    "# Most probably apppend method doesn't work without indexing\n",
    "\n",
    "s.append(34)\n",
    "\n",
    "# Here it will show an error as it will give no attribnute method in the set"
   ]
  },
  {
   "cell_type": "code",
   "execution_count": 21,
   "id": "de953dc5",
   "metadata": {},
   "outputs": [
    {
     "data": {
      "text/plain": [
       "{(56+45j), 12, 34, 34.6, 500, 56.3, 76, 'SAM'}"
      ]
     },
     "execution_count": 21,
     "metadata": {},
     "output_type": "execute_result"
    }
   ],
   "source": [
    "# We can do this with the help of add method:-\n",
    "# But add ius only for one single item not for multiple:-\n",
    "\n",
    "s.add(500)\n",
    "s"
   ]
  },
  {
   "cell_type": "code",
   "execution_count": 22,
   "id": "6fab8c60",
   "metadata": {},
   "outputs": [
    {
     "data": {
      "text/plain": [
       "2062683911808"
      ]
     },
     "execution_count": 22,
     "metadata": {},
     "output_type": "execute_result"
    }
   ],
   "source": [
    "# Printing id of s:-\n",
    "\n",
    "id(s)\n",
    "\n",
    "# Here the id of s get changed."
   ]
  },
  {
   "cell_type": "code",
   "execution_count": 26,
   "id": "cdcddbbd",
   "metadata": {},
   "outputs": [
    {
     "data": {
      "text/plain": [
       "{12, 23, 43}"
      ]
     },
     "execution_count": 26,
     "metadata": {},
     "output_type": "execute_result"
    }
   ],
   "source": [
    "# Firstly create a new set :-\n",
    "\n",
    "s1 = {23,12,43,12}\n",
    "s1"
   ]
  },
  {
   "cell_type": "code",
   "execution_count": 27,
   "id": "eab301dd",
   "metadata": {},
   "outputs": [
    {
     "data": {
      "text/plain": [
       "{(56+45j), 12, 23, 34, 34.6, 43, 56.3, 76, 'SAM'}"
      ]
     },
     "execution_count": 27,
     "metadata": {},
     "output_type": "execute_result"
    }
   ],
   "source": [
    "# We can also do this from the update method in set:-\n",
    "\n",
    "s.update(s1)\n",
    "s"
   ]
  },
  {
   "cell_type": "code",
   "execution_count": 28,
   "id": "0cce2ced",
   "metadata": {},
   "outputs": [
    {
     "data": {
      "text/plain": [
       "2062712784928"
      ]
     },
     "execution_count": 28,
     "metadata": {},
     "output_type": "execute_result"
    }
   ],
   "source": [
    "# Printing id of s:-\n",
    "\n",
    "id(s)\n",
    "\n",
    "# Here the id of s is same it will not changed."
   ]
  },
  {
   "cell_type": "code",
   "execution_count": 29,
   "id": "d1c6cac1",
   "metadata": {},
   "outputs": [
    {
     "data": {
      "text/plain": [
       "{12, 23, 43}"
      ]
     },
     "execution_count": 29,
     "metadata": {},
     "output_type": "execute_result"
    }
   ],
   "source": [
    "# Checking the another set s1:-\n",
    "\n",
    "s1\n",
    "\n",
    "# It was as same as earlier."
   ]
  },
  {
   "cell_type": "code",
   "execution_count": 31,
   "id": "08f99013",
   "metadata": {},
   "outputs": [
    {
     "name": "stdout",
     "output_type": "stream",
     "text": [
      "34\n",
      "34.6\n",
      "43\n",
      "12\n",
      "76\n",
      "SAM\n",
      "23\n",
      "56.3\n",
      "(56+45j)\n"
     ]
    }
   ],
   "source": [
    "# TRying to print the set with the help of loop:-\n",
    "# using for loop:-\n",
    "\n",
    "for k in s:\n",
    "    print(k)"
   ]
  },
  {
   "cell_type": "code",
   "execution_count": 32,
   "id": "a57cea7a",
   "metadata": {},
   "outputs": [
    {
     "name": "stdout",
     "output_type": "stream",
     "text": [
      "34 ^ 34.6 ^ 43 ^ 12 ^ 76 ^ SAM ^ 23 ^ 56.3 ^ (56+45j) ^ "
     ]
    }
   ],
   "source": [
    "# TRying to print the set with the help of loop:-\n",
    "# using for loop:-\n",
    "# Printing the result in single line using end=\"\"\n",
    "\n",
    "for k in s:\n",
    "    print(k,end=\" ^ \")"
   ]
  },
  {
   "cell_type": "code",
   "execution_count": 33,
   "id": "d100d593",
   "metadata": {},
   "outputs": [
    {
     "name": "stdout",
     "output_type": "stream",
     "text": [
      "68\n",
      "69.2\n",
      "86\n",
      "24\n",
      "152\n",
      "SAMSAM\n",
      "46\n",
      "112.6\n",
      "(112+90j)\n"
     ]
    }
   ],
   "source": [
    "# TRying to print the set with the help of loop:-\n",
    "# using for loop:-\n",
    "\n",
    "for k in s:\n",
    "    print(k*2)"
   ]
  },
  {
   "cell_type": "code",
   "execution_count": 34,
   "id": "e56891dd",
   "metadata": {},
   "outputs": [
    {
     "data": {
      "text/plain": [
       "34"
      ]
     },
     "execution_count": 34,
     "metadata": {},
     "output_type": "execute_result"
    }
   ],
   "source": [
    "# Can we use pop method to pop the element from the set:-\n",
    "# Let's see it:-\n",
    "\n",
    "s.pop()\n",
    "\n",
    "# It works when we don't mention any no it does it by default"
   ]
  },
  {
   "cell_type": "code",
   "execution_count": 35,
   "id": "dc7b8919",
   "metadata": {},
   "outputs": [
    {
     "ename": "TypeError",
     "evalue": "set.pop() takes no arguments (1 given)",
     "output_type": "error",
     "traceback": [
      "\u001b[1;31m---------------------------------------------------------------------------\u001b[0m",
      "\u001b[1;31mTypeError\u001b[0m                                 Traceback (most recent call last)",
      "Cell \u001b[1;32mIn[35], line 4\u001b[0m\n\u001b[0;32m      1\u001b[0m \u001b[38;5;66;03m# Can we use pop method to pop the element from the set:-\u001b[39;00m\n\u001b[0;32m      2\u001b[0m \u001b[38;5;66;03m# Let's see it:-\u001b[39;00m\n\u001b[1;32m----> 4\u001b[0m \u001b[43ms\u001b[49m\u001b[38;5;241;43m.\u001b[39;49m\u001b[43mpop\u001b[49m\u001b[43m(\u001b[49m\u001b[38;5;241;43m34\u001b[39;49m\u001b[43m)\u001b[49m\n",
      "\u001b[1;31mTypeError\u001b[0m: set.pop() takes no arguments (1 given)"
     ]
    }
   ],
   "source": [
    "# Can we use pop method to pop the element from the set:-\n",
    "# Let's see it:-\n",
    "\n",
    "s.pop(34)\n",
    "\n",
    "# Because it is unordered pair of collection of items."
   ]
  },
  {
   "cell_type": "code",
   "execution_count": 37,
   "id": "774920c4",
   "metadata": {},
   "outputs": [],
   "source": [
    "# Can we remove an element from set:-\n",
    "# Let's check it:-\n",
    "\n",
    "s.remove(34.6)\n",
    "\n",
    "# Remove method  work in set."
   ]
  },
  {
   "cell_type": "code",
   "execution_count": 38,
   "id": "b28d2828",
   "metadata": {},
   "outputs": [
    {
     "data": {
      "text/plain": [
       "{(56+45j), 12, 23, 43, 56.3, 76, 'SAM'}"
      ]
     },
     "execution_count": 38,
     "metadata": {},
     "output_type": "execute_result"
    }
   ],
   "source": [
    "# Checking the set :-\n",
    "\n",
    "s"
   ]
  },
  {
   "cell_type": "code",
   "execution_count": 39,
   "id": "018f680a",
   "metadata": {},
   "outputs": [
    {
     "data": {
      "text/plain": [
       "2062712784928"
      ]
     },
     "execution_count": 39,
     "metadata": {},
     "output_type": "execute_result"
    }
   ],
   "source": [
    "# printing id of s:-\n",
    "\n",
    "id(s)\n",
    "\n",
    "# Its remain the same."
   ]
  },
  {
   "cell_type": "code",
   "execution_count": 40,
   "id": "b3e962a1",
   "metadata": {},
   "outputs": [],
   "source": [
    "# We can do this from another method disgard:-\n",
    "# let's see how it works:L-\n",
    "\n",
    "s.discard(23)"
   ]
  },
  {
   "cell_type": "code",
   "execution_count": 41,
   "id": "04d4488a",
   "metadata": {},
   "outputs": [
    {
     "data": {
      "text/plain": [
       "{(56+45j), 12, 43, 56.3, 76, 'SAM'}"
      ]
     },
     "execution_count": 41,
     "metadata": {},
     "output_type": "execute_result"
    }
   ],
   "source": [
    "# Checking the output:-\n",
    "\n",
    "s"
   ]
  },
  {
   "cell_type": "code",
   "execution_count": 43,
   "id": "25b8fd32",
   "metadata": {},
   "outputs": [
    {
     "data": {
      "text/plain": [
       "2062712784928"
      ]
     },
     "execution_count": 43,
     "metadata": {},
     "output_type": "execute_result"
    }
   ],
   "source": [
    "# Printing the id of s:-\n",
    "\n",
    "id(s)"
   ]
  },
  {
   "cell_type": "code",
   "execution_count": 44,
   "id": "3d758670",
   "metadata": {},
   "outputs": [
    {
     "ename": "KeyError",
     "evalue": "34.6",
     "output_type": "error",
     "traceback": [
      "\u001b[1;31m---------------------------------------------------------------------------\u001b[0m",
      "\u001b[1;31mKeyError\u001b[0m                                  Traceback (most recent call last)",
      "Cell \u001b[1;32mIn[44], line 4\u001b[0m\n\u001b[0;32m      1\u001b[0m \u001b[38;5;66;03m# Can we remove an element from set:-\u001b[39;00m\n\u001b[0;32m      2\u001b[0m \u001b[38;5;66;03m# Let's check it:-\u001b[39;00m\n\u001b[1;32m----> 4\u001b[0m \u001b[43ms\u001b[49m\u001b[38;5;241;43m.\u001b[39;49m\u001b[43mremove\u001b[49m\u001b[43m(\u001b[49m\u001b[38;5;241;43m34.6\u001b[39;49m\u001b[43m)\u001b[49m\n",
      "\u001b[1;31mKeyError\u001b[0m: 34.6"
     ]
    }
   ],
   "source": [
    "# Can we remove an element from set:-\n",
    "# Let's check it:-\n",
    "\n",
    "s.remove(34.6)\n",
    "\n",
    "# Remove method  shows an error if we write that item that is not present in the list:-"
   ]
  },
  {
   "cell_type": "code",
   "execution_count": 45,
   "id": "0e44255e",
   "metadata": {},
   "outputs": [],
   "source": [
    "# We can do this from another method disgard:-\n",
    "# let's see how it works:L-\n",
    "\n",
    "s.discard(23)\n",
    "\n",
    "# Discard doesn't show an error on the output it just passed the statement."
   ]
  },
  {
   "cell_type": "code",
   "execution_count": 46,
   "id": "0835e896",
   "metadata": {},
   "outputs": [
    {
     "data": {
      "text/plain": [
       "{12, 23, 43}"
      ]
     },
     "execution_count": 46,
     "metadata": {},
     "output_type": "execute_result"
    }
   ],
   "source": [
    "# Printing s1:-\n",
    "\n",
    "s1"
   ]
  },
  {
   "cell_type": "code",
   "execution_count": 47,
   "id": "467bc4be",
   "metadata": {},
   "outputs": [
    {
     "data": {
      "text/plain": [
       "43"
      ]
     },
     "execution_count": 47,
     "metadata": {},
     "output_type": "execute_result"
    }
   ],
   "source": [
    "# Finding max in set:-\n",
    "\n",
    "max(s1)"
   ]
  },
  {
   "cell_type": "code",
   "execution_count": 48,
   "id": "f0c5aca8",
   "metadata": {},
   "outputs": [
    {
     "data": {
      "text/plain": [
       "12"
      ]
     },
     "execution_count": 48,
     "metadata": {},
     "output_type": "execute_result"
    }
   ],
   "source": [
    "# Finding min in set:-\n",
    "\n",
    "min(s1)"
   ]
  },
  {
   "cell_type": "code",
   "execution_count": 49,
   "id": "d4fd3cf2",
   "metadata": {},
   "outputs": [
    {
     "data": {
      "text/plain": [
       "78"
      ]
     },
     "execution_count": 49,
     "metadata": {},
     "output_type": "execute_result"
    }
   ],
   "source": [
    "# Finding the sum of set:-\n",
    "\n",
    "sum(s1)"
   ]
  },
  {
   "cell_type": "code",
   "execution_count": null,
   "id": "ddfa4540",
   "metadata": {},
   "outputs": [],
   "source": [
    "# What if we want to clear the set :-\n",
    "# Can we do"
   ]
  }
 ],
 "metadata": {
  "kernelspec": {
   "display_name": "Python 3 (ipykernel)",
   "language": "python",
   "name": "python3"
  },
  "language_info": {
   "codemirror_mode": {
    "name": "ipython",
    "version": 3
   },
   "file_extension": ".py",
   "mimetype": "text/x-python",
   "name": "python",
   "nbconvert_exporter": "python",
   "pygments_lexer": "ipython3",
   "version": "3.10.9"
  }
 },
 "nbformat": 4,
 "nbformat_minor": 5
}
