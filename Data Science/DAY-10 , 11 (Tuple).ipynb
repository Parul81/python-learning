{
 "cells": [
  {
   "cell_type": "markdown",
   "id": "859b987e",
   "metadata": {},
   "source": [
    "# TUPLE"
   ]
  },
  {
   "cell_type": "code",
   "execution_count": 50,
   "id": "841d6c2b",
   "metadata": {},
   "outputs": [
    {
     "name": "stdout",
     "output_type": "stream",
     "text": [
      "(23, 56, 34, 33, 23, 12, 89, 56) <class 'tuple'>\n"
     ]
    },
    {
     "data": {
      "text/plain": [
       "(None, 2291688032320)"
      ]
     },
     "execution_count": 50,
     "metadata": {},
     "output_type": "execute_result"
    }
   ],
   "source": [
    "# Creating a tuple as t:-\n",
    "# Printing its result ,and its type.\n",
    "\n",
    "t = (23,56,34,33,23,12,89,56)\n",
    "print(t,type(t)),id(t)"
   ]
  },
  {
   "cell_type": "code",
   "execution_count": 2,
   "id": "40f6ae0d",
   "metadata": {},
   "outputs": [
    {
     "data": {
      "text/plain": [
       "34"
      ]
     },
     "execution_count": 2,
     "metadata": {},
     "output_type": "execute_result"
    }
   ],
   "source": [
    "# Finding the value of tuple through its index .\n",
    "# Let's know how:-\n",
    "\n",
    "t[2]"
   ]
  },
  {
   "cell_type": "code",
   "execution_count": 3,
   "id": "b9a78002",
   "metadata": {},
   "outputs": [
    {
     "ename": "TypeError",
     "evalue": "'tuple' object does not support item assignment",
     "output_type": "error",
     "traceback": [
      "\u001b[1;31m---------------------------------------------------------------------------\u001b[0m",
      "\u001b[1;31mTypeError\u001b[0m                                 Traceback (most recent call last)",
      "Cell \u001b[1;32mIn[3], line 4\u001b[0m\n\u001b[0;32m      1\u001b[0m \u001b[38;5;66;03m# Chaning value in tuple .\u001b[39;00m\n\u001b[0;32m      2\u001b[0m \u001b[38;5;66;03m# Let's see the value get changed or not.\u001b[39;00m\n\u001b[1;32m----> 4\u001b[0m t[\u001b[38;5;241m2\u001b[39m] \u001b[38;5;241m=\u001b[39m \u001b[38;5;241m56\u001b[39m\n",
      "\u001b[1;31mTypeError\u001b[0m: 'tuple' object does not support item assignment"
     ]
    }
   ],
   "source": [
    "# Chaning value in tuple .\n",
    "# Let's see the value get changed or not.\n",
    "\n",
    "t[2] = 56\n",
    "\n",
    "# It always show an error because tuple can't get changed as it is immutable."
   ]
  },
  {
   "cell_type": "code",
   "execution_count": 4,
   "id": "98cb1558",
   "metadata": {},
   "outputs": [
    {
     "data": {
      "text/plain": [
       "(23, 56, 34, 33, 23, 12, 89, 56)"
      ]
     },
     "execution_count": 4,
     "metadata": {},
     "output_type": "execute_result"
    }
   ],
   "source": [
    "# Printing the tuple t:-\n",
    "\n",
    "t"
   ]
  },
  {
   "cell_type": "code",
   "execution_count": 5,
   "id": "4a97424e",
   "metadata": {},
   "outputs": [
    {
     "data": {
      "text/plain": [
       "33"
      ]
     },
     "execution_count": 5,
     "metadata": {},
     "output_type": "execute_result"
    }
   ],
   "source": [
    "# Finding it through the index value:-\n",
    "# Through forward indexing \n",
    "\n",
    "t[3]"
   ]
  },
  {
   "cell_type": "code",
   "execution_count": 6,
   "id": "56163641",
   "metadata": {},
   "outputs": [
    {
     "data": {
      "text/plain": [
       "34"
      ]
     },
     "execution_count": 6,
     "metadata": {},
     "output_type": "execute_result"
    }
   ],
   "source": [
    "# Finding it through the index value:-\n",
    "# Through backward indexing \n",
    "\n",
    "t[-6]"
   ]
  },
  {
   "cell_type": "code",
   "execution_count": 7,
   "id": "d89d269a",
   "metadata": {},
   "outputs": [
    {
     "name": "stdout",
     "output_type": "stream",
     "text": [
      "23\n",
      "56\n",
      "34\n",
      "33\n",
      "23\n",
      "12\n",
      "89\n",
      "56\n"
     ]
    }
   ],
   "source": [
    "# Printing the list using loop:-\n",
    "# Using the for loop.\n",
    "\n",
    "for k in t:\n",
    "    print(k)"
   ]
  },
  {
   "cell_type": "code",
   "execution_count": 8,
   "id": "cbd62c0e",
   "metadata": {},
   "outputs": [
    {
     "name": "stdout",
     "output_type": "stream",
     "text": [
      "23 ^ 56 ^ 34 ^ 33 ^ 23 ^ 12 ^ 89 ^ 56 ^ "
     ]
    }
   ],
   "source": [
    "# Printing the list using loop:-\n",
    "# Using the for loop.\n",
    "# Printing it in one single line using end =\"\"\n",
    "\n",
    "for k in t:\n",
    "    print(k,end=\" ^ \")"
   ]
  },
  {
   "cell_type": "code",
   "execution_count": 18,
   "id": "5da4175c",
   "metadata": {},
   "outputs": [
    {
     "name": "stdout",
     "output_type": "stream",
     "text": [
      "(23, 56, 34, 33, 23, 12, 89, 56)\n"
     ]
    }
   ],
   "source": [
    "# Printing the list using loop:-\n",
    "# Using the while loop.\n",
    "\n",
    "k=t\n",
    "while k<=t:\n",
    "    print(k)\n",
    "    k+=t"
   ]
  },
  {
   "cell_type": "code",
   "execution_count": 15,
   "id": "bf4684c1",
   "metadata": {},
   "outputs": [
    {
     "name": "stdout",
     "output_type": "stream",
     "text": [
      "(23, 56, 34, 33, 23, 12, 89, 56) * "
     ]
    }
   ],
   "source": [
    "# Printing the list using loop:-\n",
    "# Using the while loop.\n",
    "# printing it in one single line using end=\"\"\n",
    "\n",
    "k=t\n",
    "while k<=t:\n",
    "    print(k,end=\" * \")\n",
    "    k+=t"
   ]
  },
  {
   "cell_type": "code",
   "execution_count": 20,
   "id": "a391e6f2",
   "metadata": {},
   "outputs": [
    {
     "name": "stdout",
     "output_type": "stream",
     "text": [
      "23\n",
      "56\n",
      "34\n",
      "33\n",
      "23\n",
      "12\n",
      "89\n",
      "56\n"
     ]
    }
   ],
   "source": [
    "# Printing the list using loop:-\n",
    "# Using the for loop.\n",
    "# with range ;-\n",
    "\n",
    "for k in range(len(t)):\n",
    "    print(t[k])"
   ]
  },
  {
   "cell_type": "code",
   "execution_count": 21,
   "id": "978a3221",
   "metadata": {},
   "outputs": [
    {
     "name": "stdout",
     "output_type": "stream",
     "text": [
      "23 * 56 * 34 * 33 * 23 * 12 * 89 * 56 * "
     ]
    }
   ],
   "source": [
    "# Printing the list using loop:-\n",
    "# Using the for loop.\n",
    "# with range ;-\n",
    "# printing the result in one single line using end=\"\"\n",
    "\n",
    "for k in range(len(t)):\n",
    "    print(t[k],end=\" * \")"
   ]
  },
  {
   "cell_type": "code",
   "execution_count": 23,
   "id": "986aa101",
   "metadata": {},
   "outputs": [
    {
     "name": "stdout",
     "output_type": "stream",
     "text": [
      "46\n",
      "112\n",
      "68\n",
      "66\n",
      "46\n",
      "24\n",
      "178\n",
      "112\n"
     ]
    }
   ],
   "source": [
    "#Printing the tuple :-\n",
    "# using for loop:-\n",
    "# to mutiply anything in the tuple \n",
    "# Let's know how:-\n",
    "\n",
    "for k in t:\n",
    "    print(k*2)"
   ]
  },
  {
   "cell_type": "code",
   "execution_count": 24,
   "id": "355f1824",
   "metadata": {},
   "outputs": [
    {
     "name": "stdout",
     "output_type": "stream",
     "text": [
      "46 ! 112 ! 68 ! 66 ! 46 ! 24 ! 178 ! 112 ! "
     ]
    }
   ],
   "source": [
    "#Printing the tuple :-\n",
    "# using for loop:-\n",
    "# to mutiply anything in the tuple \n",
    "# Let's know how:-\n",
    "# printing in one single line;-\n",
    "\n",
    "for k in t:\n",
    "    print(k*2,end=\" ! \")"
   ]
  },
  {
   "cell_type": "code",
   "execution_count": 40,
   "id": "194e6472",
   "metadata": {},
   "outputs": [
    {
     "ename": "TypeError",
     "evalue": "tuple indices must be integers or slices, not tuple",
     "output_type": "error",
     "traceback": [
      "\u001b[1;31m---------------------------------------------------------------------------\u001b[0m",
      "\u001b[1;31mTypeError\u001b[0m                                 Traceback (most recent call last)",
      "Cell \u001b[1;32mIn[40], line 8\u001b[0m\n\u001b[0;32m      6\u001b[0m k\u001b[38;5;241m=\u001b[39mt\n\u001b[0;32m      7\u001b[0m \u001b[38;5;28;01mwhile\u001b[39;00m k\u001b[38;5;241m<\u001b[39m\u001b[38;5;241m=\u001b[39mt:\n\u001b[1;32m----> 8\u001b[0m     \u001b[38;5;28mprint\u001b[39m(\u001b[43mk\u001b[49m\u001b[43m[\u001b[49m\u001b[43mt\u001b[49m\u001b[38;5;241;43m*\u001b[39;49m\u001b[38;5;241;43m2\u001b[39;49m\u001b[43m]\u001b[49m)\n\u001b[0;32m      9\u001b[0m     k\u001b[38;5;241m=\u001b[39mt\u001b[38;5;241m*\u001b[39m\u001b[38;5;241m2\u001b[39m\n",
      "\u001b[1;31mTypeError\u001b[0m: tuple indices must be integers or slices, not tuple"
     ]
    }
   ],
   "source": [
    "#Printing the tuple :-\n",
    "# using while loop:-\n",
    "# to mutiply anything in the tuple \n",
    "# Let's know how:-\n",
    "\n",
    "k=t\n",
    "while k<=t:\n",
    "    print(k[t*2])\n",
    "    k=t*2"
   ]
  },
  {
   "cell_type": "code",
   "execution_count": 27,
   "id": "da21bef3",
   "metadata": {},
   "outputs": [
    {
     "data": {
      "text/plain": [
       "True"
      ]
     },
     "execution_count": 27,
     "metadata": {},
     "output_type": "execute_result"
    }
   ],
   "source": [
    "# Finding which one is greater among them:-\n",
    "# Taking two tuples as t1 and t2:-\n",
    "# Taking greater amonmg them as t1> t2\n",
    "# finding is the statemant is true or false:-\n",
    "\n",
    "t1 = (23,54,56,46)\n",
    "t2 = (12,43,56,77,45)\n",
    "t1>t2"
   ]
  },
  {
   "cell_type": "code",
   "execution_count": 29,
   "id": "57b44eda",
   "metadata": {},
   "outputs": [
    {
     "data": {
      "text/plain": [
       "False"
      ]
     },
     "execution_count": 29,
     "metadata": {},
     "output_type": "execute_result"
    }
   ],
   "source": [
    "# Finding which one is greater among them:-\n",
    "# Taking two tuples as t1 and t2:-\n",
    "# Taking greater amonmg them as t1> t2\n",
    "# finding is the statemant is true or false:-\n",
    "\n",
    "t1 = (\"a\",\"b\",\"z\")\n",
    "t2 = (\"A\",\"B\",\"C\")\n",
    "t1<t2"
   ]
  },
  {
   "cell_type": "code",
   "execution_count": 30,
   "id": "a052ad48",
   "metadata": {},
   "outputs": [
    {
     "data": {
      "text/plain": [
       "(23, 56, 34, 33, 23, 12, 89, 56)"
      ]
     },
     "execution_count": 30,
     "metadata": {},
     "output_type": "execute_result"
    }
   ],
   "source": [
    "# Printing the tuple:-\n",
    "\n",
    "t"
   ]
  },
  {
   "cell_type": "code",
   "execution_count": 31,
   "id": "9a9ba936",
   "metadata": {},
   "outputs": [
    {
     "ename": "TypeError",
     "evalue": "can only concatenate tuple (not \"list\") to tuple",
     "output_type": "error",
     "traceback": [
      "\u001b[1;31m---------------------------------------------------------------------------\u001b[0m",
      "\u001b[1;31mTypeError\u001b[0m                                 Traceback (most recent call last)",
      "Cell \u001b[1;32mIn[31], line 4\u001b[0m\n\u001b[0;32m      1\u001b[0m \u001b[38;5;66;03m# If you want to add any value in  the tuple then can we add like a list\u001b[39;00m\n\u001b[0;32m      2\u001b[0m \u001b[38;5;66;03m# Let's see what happened next:-\u001b[39;00m\n\u001b[1;32m----> 4\u001b[0m t \u001b[38;5;241m=\u001b[39m \u001b[43mt\u001b[49m\u001b[38;5;241;43m+\u001b[39;49m\u001b[43m[\u001b[49m\u001b[38;5;241;43m3\u001b[39;49m\u001b[43m]\u001b[49m\n",
      "\u001b[1;31mTypeError\u001b[0m: can only concatenate tuple (not \"list\") to tuple"
     ]
    }
   ],
   "source": [
    "# If you want to add any value in  the tuple then can we add like a list\n",
    "# Let's see what happened next:-\n",
    "# In list form\n",
    "\n",
    "t = t+[3]\n",
    "\n",
    "# It will show an error always "
   ]
  },
  {
   "cell_type": "code",
   "execution_count": 32,
   "id": "ab681c5d",
   "metadata": {},
   "outputs": [
    {
     "ename": "TypeError",
     "evalue": "can only concatenate tuple (not \"int\") to tuple",
     "output_type": "error",
     "traceback": [
      "\u001b[1;31m---------------------------------------------------------------------------\u001b[0m",
      "\u001b[1;31mTypeError\u001b[0m                                 Traceback (most recent call last)",
      "Cell \u001b[1;32mIn[32], line 5\u001b[0m\n\u001b[0;32m      1\u001b[0m \u001b[38;5;66;03m# If you want to add any value in  the tuple then can we add like a list\u001b[39;00m\n\u001b[0;32m      2\u001b[0m \u001b[38;5;66;03m# Let's see what happened next:-\u001b[39;00m\n\u001b[0;32m      3\u001b[0m \u001b[38;5;66;03m# In tuple form\u001b[39;00m\n\u001b[1;32m----> 5\u001b[0m t \u001b[38;5;241m=\u001b[39m \u001b[43mt\u001b[49m\u001b[38;5;241;43m+\u001b[39;49m\u001b[43m(\u001b[49m\u001b[38;5;241;43m3\u001b[39;49m\u001b[43m)\u001b[49m\n",
      "\u001b[1;31mTypeError\u001b[0m: can only concatenate tuple (not \"int\") to tuple"
     ]
    }
   ],
   "source": [
    "# If you want to add any value in  the tuple then can we add like a list\n",
    "# Let's see what happened next:-\n",
    "# In tuple form\n",
    "\n",
    "t = t+(3)\n",
    "\n",
    "# It will show an error always "
   ]
  },
  {
   "cell_type": "code",
   "execution_count": 33,
   "id": "6ea64a85",
   "metadata": {},
   "outputs": [
    {
     "data": {
      "text/plain": [
       "(23, 56, 34, 33, 23, 12, 89, 56)"
      ]
     },
     "execution_count": 33,
     "metadata": {},
     "output_type": "execute_result"
    }
   ],
   "source": [
    "# Printing the tuple:-\n",
    "\n",
    "t"
   ]
  },
  {
   "cell_type": "code",
   "execution_count": 34,
   "id": "00b73a63",
   "metadata": {},
   "outputs": [
    {
     "data": {
      "text/plain": [
       "2291629660688"
      ]
     },
     "execution_count": 34,
     "metadata": {},
     "output_type": "execute_result"
    }
   ],
   "source": [
    "# Printing the tuple id as id()\n",
    "\n",
    "id(t)"
   ]
  },
  {
   "cell_type": "code",
   "execution_count": 35,
   "id": "01cbc165",
   "metadata": {},
   "outputs": [
    {
     "ename": "TypeError",
     "evalue": "can only concatenate tuple (not \"int\") to tuple",
     "output_type": "error",
     "traceback": [
      "\u001b[1;31m---------------------------------------------------------------------------\u001b[0m",
      "\u001b[1;31mTypeError\u001b[0m                                 Traceback (most recent call last)",
      "Cell \u001b[1;32mIn[35], line 5\u001b[0m\n\u001b[0;32m      1\u001b[0m \u001b[38;5;66;03m# adding 2 in the tuple.\u001b[39;00m\n\u001b[0;32m      2\u001b[0m \u001b[38;5;66;03m# Let's known is it add into the tuple or not\u001b[39;00m\n\u001b[0;32m      4\u001b[0m t1 \u001b[38;5;241m=\u001b[39m (\u001b[38;5;241m2\u001b[39m)\n\u001b[1;32m----> 5\u001b[0m t2 \u001b[38;5;241m=\u001b[39m \u001b[43mt\u001b[49m\u001b[38;5;241;43m+\u001b[39;49m\u001b[43mt1\u001b[49m\n",
      "\u001b[1;31mTypeError\u001b[0m: can only concatenate tuple (not \"int\") to tuple"
     ]
    }
   ],
   "source": [
    "# adding 2 in the tuple.\n",
    "# Let's known is it add into the tuple or not\n",
    "\n",
    "t1 = (2)\n",
    "t2 = t+t1\n",
    "\n",
    "# it will always show an error"
   ]
  },
  {
   "cell_type": "code",
   "execution_count": 42,
   "id": "032b50b1",
   "metadata": {},
   "outputs": [
    {
     "name": "stdout",
     "output_type": "stream",
     "text": [
      "2 <class 'int'>\n"
     ]
    }
   ],
   "source": [
    "# Printing a variable a :-\n",
    "\n",
    "a = (2)\n",
    "print(a,type(a))"
   ]
  },
  {
   "cell_type": "code",
   "execution_count": 44,
   "id": "1637cf29",
   "metadata": {},
   "outputs": [
    {
     "name": "stdout",
     "output_type": "stream",
     "text": [
      "(2,) <class 'tuple'>\n"
     ]
    }
   ],
   "source": [
    "# Printing a variable a :-\n",
    "# But here if we put an (,) it will take it as mutiple values\n",
    "# and automatically tale it as a tuple\n",
    "\n",
    "a = (2,)\n",
    "print(a,type(a))"
   ]
  },
  {
   "cell_type": "code",
   "execution_count": 45,
   "id": "37766ea2",
   "metadata": {},
   "outputs": [
    {
     "data": {
      "text/plain": [
       "(23, 56, 34, 33, 23, 12, 89, 56)"
      ]
     },
     "execution_count": 45,
     "metadata": {},
     "output_type": "execute_result"
    }
   ],
   "source": [
    "# Printing the tuple t:-\n",
    "\n",
    "t"
   ]
  },
  {
   "cell_type": "code",
   "execution_count": 46,
   "id": "8c6cdd6e",
   "metadata": {},
   "outputs": [
    {
     "data": {
      "text/plain": [
       "(23, 56, 34, 33, 23, 12, 89, 56, 2)"
      ]
     },
     "execution_count": 46,
     "metadata": {},
     "output_type": "execute_result"
    }
   ],
   "source": [
    "# adding 2 in the tuple.\n",
    "# Let's known is it add into the tuple or not\n",
    "\n",
    "t+(2,)\n",
    "\n",
    "# It will add 2 into the tuple but not in the original tuple"
   ]
  },
  {
   "cell_type": "code",
   "execution_count": 47,
   "id": "eb8b1836",
   "metadata": {},
   "outputs": [
    {
     "data": {
      "text/plain": [
       "(23, 56, 34, 33, 23, 12, 89, 56)"
      ]
     },
     "execution_count": 47,
     "metadata": {},
     "output_type": "execute_result"
    }
   ],
   "source": [
    "# Printing the tuple t :-\n",
    "\n",
    "t\n",
    "\n",
    "# Here 2 is not present in the original tuple "
   ]
  },
  {
   "cell_type": "code",
   "execution_count": 48,
   "id": "595eb94c",
   "metadata": {},
   "outputs": [
    {
     "data": {
      "text/plain": [
       "(23, 56, 34, 33, 23, 12, 89, 56, 2)"
      ]
     },
     "execution_count": 48,
     "metadata": {},
     "output_type": "execute_result"
    }
   ],
   "source": [
    "# adding 2 in the tuple.\n",
    "# Let's known is it add into the tuple or not\n",
    "\n",
    "t = t+(2,)\n",
    "t\n",
    "\n",
    "# Here the 2 is added in the tuple"
   ]
  },
  {
   "cell_type": "code",
   "execution_count": 49,
   "id": "892a7d53",
   "metadata": {},
   "outputs": [
    {
     "data": {
      "text/plain": [
       "2291688085056"
      ]
     },
     "execution_count": 49,
     "metadata": {},
     "output_type": "execute_result"
    }
   ],
   "source": [
    "# Printing the tuple id()\n",
    "\n",
    "id(t)"
   ]
  },
  {
   "cell_type": "code",
   "execution_count": 51,
   "id": "65b9bc42",
   "metadata": {},
   "outputs": [
    {
     "name": "stdout",
     "output_type": "stream",
     "text": [
      "Enter the value of Tuple: 23,45,67,34,87,98\n",
      "23,45,67,34,87,98 <class 'str'>\n"
     ]
    }
   ],
   "source": [
    "# Input a tuple \n",
    "# Print its result and type\n",
    "\n",
    "t = input(\"Enter the value of Tuple: \")\n",
    "print(t,type(t))\n",
    "\n",
    "# Here it will always come in form of a string"
   ]
  },
  {
   "cell_type": "code",
   "execution_count": 52,
   "id": "7b6d37aa",
   "metadata": {},
   "outputs": [
    {
     "name": "stdout",
     "output_type": "stream",
     "text": [
      "Enter the value of Tuple: (45,34,76,45,3,67,66)\n",
      "(45,34,76,45,3,67,66) <class 'str'>\n"
     ]
    }
   ],
   "source": [
    "# Input a tuple \n",
    "# Print its result and type\n",
    "# Let's put the input into () brackets \n",
    "\n",
    "t = input(\"Enter the value of Tuple: \")\n",
    "print(t,type(t))\n",
    "\n",
    "# Here it will always come in form of a string"
   ]
  },
  {
   "cell_type": "code",
   "execution_count": 53,
   "id": "fe98452a",
   "metadata": {},
   "outputs": [
    {
     "name": "stdout",
     "output_type": "stream",
     "text": [
      "Enter the value of Tuple: (34,23,56,78,65,89)\n",
      "('(', '3', '4', ',', '2', '3', ',', '5', '6', ',', '7', '8', ',', '6', '5', ',', '8', '9', ')') <class 'tuple'>\n"
     ]
    }
   ],
   "source": [
    "# Input a tuple \n",
    "# Converting the str into tuple\n",
    "# Print its result and type\n",
    "\n",
    "t = tuple(input(\"Enter the value of Tuple: \"))\n",
    "print(t,type(t))\n",
    "\n",
    "# Here it will always come in form of a string"
   ]
  },
  {
   "cell_type": "code",
   "execution_count": 56,
   "id": "adb09ad1",
   "metadata": {},
   "outputs": [
    {
     "name": "stdout",
     "output_type": "stream",
     "text": [
      "(4, 5) <class 'tuple'>\n"
     ]
    }
   ],
   "source": [
    "# Printing a variable a\n",
    "# With it type\n",
    "\n",
    "a = 4,5\n",
    "print(a,type(a))"
   ]
  },
  {
   "cell_type": "code",
   "execution_count": 1,
   "id": "266c4f64",
   "metadata": {},
   "outputs": [
    {
     "name": "stdout",
     "output_type": "stream",
     "text": [
      "Enter the value of Tuple: 45,23,56,34,224,243,56\n",
      "(45, 23, 56, 34, 224, 243, 56) <class 'tuple'>\n"
     ]
    }
   ],
   "source": [
    "# Input a tuple \n",
    "# Converting the str into tuple\n",
    "# To avoid the above result and print the result into tuple we use eval here\n",
    "# Print its result and type\n",
    "\n",
    "t = eval(input(\"Enter the value of Tuple: \"))\n",
    "print(t,type(t))"
   ]
  },
  {
   "cell_type": "markdown",
   "id": "696d973a",
   "metadata": {},
   "source": [
    "# DAY-11"
   ]
  },
  {
   "cell_type": "code",
   "execution_count": 3,
   "id": "1fd27adf",
   "metadata": {},
   "outputs": [
    {
     "name": "stdout",
     "output_type": "stream",
     "text": [
      "(45, 23, 43, 12, 32, 45, 67, 86) <class 'tuple'>\n"
     ]
    }
   ],
   "source": [
    "# Creating a new tuple as t:-\n",
    "# print its result and its type:-\n",
    "# Let's see how it happens:-\n",
    "\n",
    "t = (45,23,43,12,32,45,67,86)\n",
    "print(t,type(t))"
   ]
  },
  {
   "cell_type": "code",
   "execution_count": 4,
   "id": "0c71dc0a",
   "metadata": {},
   "outputs": [
    {
     "data": {
      "text/plain": [
       "2519200406032"
      ]
     },
     "execution_count": 4,
     "metadata": {},
     "output_type": "execute_result"
    }
   ],
   "source": [
    "# Printing it id :-\n",
    "\n",
    "id(t)"
   ]
  },
  {
   "cell_type": "code",
   "execution_count": 5,
   "id": "cc89eeb1",
   "metadata": {},
   "outputs": [
    {
     "data": {
      "text/plain": [
       "(45, 43, 32)"
      ]
     },
     "execution_count": 5,
     "metadata": {},
     "output_type": "execute_result"
    }
   ],
   "source": [
    "# Slicing in Tuple:-\n",
    "# We can do slicing in two forms :-\n",
    "#  1) Forward Slicing \n",
    "#  2) Backward Slicing\n",
    "# Forward slicing in tuple:-\n",
    "\n",
    "t[0:6:2]"
   ]
  },
  {
   "cell_type": "code",
   "execution_count": 6,
   "id": "3205380b",
   "metadata": {},
   "outputs": [
    {
     "data": {
      "text/plain": [
       "(45, 23, 43, 12, 32, 45, 67, 86)"
      ]
     },
     "execution_count": 6,
     "metadata": {},
     "output_type": "execute_result"
    }
   ],
   "source": [
    "# Printing tuple:-\n",
    "\n",
    "t"
   ]
  },
  {
   "cell_type": "code",
   "execution_count": 8,
   "id": "a19ecfe3",
   "metadata": {},
   "outputs": [
    {
     "data": {
      "text/plain": [
       "(67, 32, 43)"
      ]
     },
     "execution_count": 8,
     "metadata": {},
     "output_type": "execute_result"
    }
   ],
   "source": [
    "# Backward slicing in tuple:-\n",
    "# Let's see how:-\n",
    "\n",
    "t[-2:-8:-2]"
   ]
  },
  {
   "cell_type": "code",
   "execution_count": 10,
   "id": "49e4880f",
   "metadata": {},
   "outputs": [
    {
     "data": {
      "text/plain": [
       "(86, 67, 45, 32, 12, 43, 23, 45)"
      ]
     },
     "execution_count": 10,
     "metadata": {},
     "output_type": "execute_result"
    }
   ],
   "source": [
    "# If we want to reverse the tuple we can do this very easily:-\n",
    "# But it also have some drawback that it will not reverse the original tuple:\n",
    "# Let's know how:-\n",
    "\n",
    "t[::-1]"
   ]
  },
  {
   "cell_type": "code",
   "execution_count": 11,
   "id": "46db4ecc",
   "metadata": {},
   "outputs": [
    {
     "data": {
      "text/plain": [
       "(45, 23, 43, 12, 32, 45, 67, 86)"
      ]
     },
     "execution_count": 11,
     "metadata": {},
     "output_type": "execute_result"
    }
   ],
   "source": [
    "# If we print the tuple t agin than:-\n",
    "\n",
    "t\n",
    "\n",
    "# Here the tuple is not changed because tuple is immutable it can't changed"
   ]
  },
  {
   "cell_type": "code",
   "execution_count": 12,
   "id": "9b22c802",
   "metadata": {},
   "outputs": [
    {
     "data": {
      "text/plain": [
       "2519200406032"
      ]
     },
     "execution_count": 12,
     "metadata": {},
     "output_type": "execute_result"
    }
   ],
   "source": [
    "# Printing id of t:-\n",
    "\n",
    "id(t)\n",
    "\n",
    "# Here the id of the tuple is not changed it remains the same"
   ]
  },
  {
   "cell_type": "code",
   "execution_count": 14,
   "id": "5501b85d",
   "metadata": {},
   "outputs": [],
   "source": [
    "# Creating a new tuple t1:-\n",
    "# with nested values in it:-\n",
    "# Let's see what happens :-\n",
    "\n",
    "t1 = (23,21,34,(55,43,87,89))"
   ]
  },
  {
   "cell_type": "code",
   "execution_count": 27,
   "id": "0d0ba19f",
   "metadata": {},
   "outputs": [
    {
     "data": {
      "text/plain": [
       "34"
      ]
     },
     "execution_count": 27,
     "metadata": {},
     "output_type": "execute_result"
    }
   ],
   "source": [
    "# Calling t1 values through imndexing:-\n",
    "# printing the output:-\n",
    "\n",
    "t1[2]"
   ]
  },
  {
   "cell_type": "markdown",
   "id": "4f9e3655",
   "metadata": {},
   "source": [
    "# Methods of Tuple:-"
   ]
  },
  {
   "cell_type": "code",
   "execution_count": 24,
   "id": "e9493239",
   "metadata": {},
   "outputs": [
    {
     "name": "stdout",
     "output_type": "stream",
     "text": [
      "(23, 12, 45, 67, 63, 78) <class 'tuple'>\n"
     ]
    }
   ],
   "source": [
    "# Printing the tuple :-\n",
    "# iNcluding its result and its type:-\n",
    "\n",
    "t = (23,12,45,67,63,78)\n",
    "print(t,type(t))"
   ]
  },
  {
   "cell_type": "code",
   "execution_count": 25,
   "id": "4e1f08fb",
   "metadata": {},
   "outputs": [
    {
     "data": {
      "text/plain": [
       "2519259118176"
      ]
     },
     "execution_count": 25,
     "metadata": {},
     "output_type": "execute_result"
    }
   ],
   "source": [
    "# Printing id of t:-\n",
    "\n",
    "id(t)"
   ]
  },
  {
   "cell_type": "code",
   "execution_count": 26,
   "id": "efac7591",
   "metadata": {},
   "outputs": [
    {
     "data": {
      "text/plain": [
       "6"
      ]
     },
     "execution_count": 26,
     "metadata": {},
     "output_type": "execute_result"
    }
   ],
   "source": [
    "# FInding len of the tuple t:-\n",
    "\n",
    "len(t)"
   ]
  },
  {
   "cell_type": "code",
   "execution_count": 28,
   "id": "a7ed1846",
   "metadata": {},
   "outputs": [
    {
     "data": {
      "text/plain": [
       "('P', 'A', 'R', 'U', 'L')"
      ]
     },
     "execution_count": 28,
     "metadata": {},
     "output_type": "execute_result"
    }
   ],
   "source": [
    "# Converting a string into a tuple:-\n",
    "# Let's know how:-\n",
    "# Firstly take a string put value in it.\n",
    "# Then convert the string into the tuple.\n",
    "\n",
    "a = \"PARUL\"\n",
    "t2 = tuple(a)\n",
    "t2"
   ]
  },
  {
   "cell_type": "code",
   "execution_count": 29,
   "id": "5583f1f9",
   "metadata": {},
   "outputs": [
    {
     "data": {
      "text/plain": [
       "(23, 12, 45, 67, 63, 78)"
      ]
     },
     "execution_count": 29,
     "metadata": {},
     "output_type": "execute_result"
    }
   ],
   "source": [
    "# printing t:-\n",
    "\n",
    "t"
   ]
  },
  {
   "cell_type": "code",
   "execution_count": 30,
   "id": "84672c6e",
   "metadata": {},
   "outputs": [
    {
     "data": {
      "text/plain": [
       "3"
      ]
     },
     "execution_count": 30,
     "metadata": {},
     "output_type": "execute_result"
    }
   ],
   "source": [
    "# Finding index through the value input in tuple:-\n",
    "\n",
    "t.index(67)"
   ]
  },
  {
   "cell_type": "code",
   "execution_count": 31,
   "id": "d54bd0fc",
   "metadata": {},
   "outputs": [
    {
     "data": {
      "text/plain": [
       "5"
      ]
     },
     "execution_count": 31,
     "metadata": {},
     "output_type": "execute_result"
    }
   ],
   "source": [
    "# Finding index through the value input in tuple:-\n",
    "\n",
    "t.index(78)"
   ]
  },
  {
   "cell_type": "code",
   "execution_count": 32,
   "id": "22576a14",
   "metadata": {},
   "outputs": [
    {
     "ename": "AttributeError",
     "evalue": "'tuple' object has no attribute 'append'",
     "output_type": "error",
     "traceback": [
      "\u001b[1;31m---------------------------------------------------------------------------\u001b[0m",
      "\u001b[1;31mAttributeError\u001b[0m                            Traceback (most recent call last)",
      "Cell \u001b[1;32mIn[32], line 5\u001b[0m\n\u001b[0;32m      1\u001b[0m \u001b[38;5;66;03m# CAn we add some values in tuple :-\u001b[39;00m\n\u001b[0;32m      2\u001b[0m \u001b[38;5;66;03m# With the help of append method:-\u001b[39;00m\n\u001b[0;32m      3\u001b[0m \u001b[38;5;66;03m# Let's see what happens:-\u001b[39;00m\n\u001b[1;32m----> 5\u001b[0m \u001b[43mt\u001b[49m\u001b[38;5;241;43m.\u001b[39;49m\u001b[43mappend\u001b[49m(\u001b[38;5;241m56\u001b[39m)\n",
      "\u001b[1;31mAttributeError\u001b[0m: 'tuple' object has no attribute 'append'"
     ]
    }
   ],
   "source": [
    "# CAn we add some values in tuple :-\n",
    "# With the help of append method:-\n",
    "# Let's see what happens:-\n",
    "\n",
    "t.append(56)\n",
    "\n",
    "# It will always show an error because tuple is immutable we can't add any value in this through the append method"
   ]
  },
  {
   "cell_type": "code",
   "execution_count": 33,
   "id": "f35792cb",
   "metadata": {},
   "outputs": [
    {
     "ename": "AttributeError",
     "evalue": "'tuple' object has no attribute 'extend'",
     "output_type": "error",
     "traceback": [
      "\u001b[1;31m---------------------------------------------------------------------------\u001b[0m",
      "\u001b[1;31mAttributeError\u001b[0m                            Traceback (most recent call last)",
      "Cell \u001b[1;32mIn[33], line 5\u001b[0m\n\u001b[0;32m      1\u001b[0m \u001b[38;5;66;03m# CAn we add some values in tuple :-\u001b[39;00m\n\u001b[0;32m      2\u001b[0m \u001b[38;5;66;03m# With the help of extend method:-\u001b[39;00m\n\u001b[0;32m      3\u001b[0m \u001b[38;5;66;03m# Let's see what happens:-\u001b[39;00m\n\u001b[1;32m----> 5\u001b[0m \u001b[43mt\u001b[49m\u001b[38;5;241;43m.\u001b[39;49m\u001b[43mextend\u001b[49m([\u001b[38;5;241m34\u001b[39m,\u001b[38;5;241m56\u001b[39m,\u001b[38;5;241m23\u001b[39m])\n",
      "\u001b[1;31mAttributeError\u001b[0m: 'tuple' object has no attribute 'extend'"
     ]
    }
   ],
   "source": [
    "# CAn we add some values in tuple :-\n",
    "# With the help of extend method:-\n",
    "# Let's see what happens:-\n",
    "\n",
    "t.extend([34,56,23])\n",
    "\n",
    "# It will always show an error because tuple is immutable we can't add any value in this through the extend method"
   ]
  },
  {
   "cell_type": "code",
   "execution_count": 34,
   "id": "3ae6c2fb",
   "metadata": {},
   "outputs": [
    {
     "ename": "AttributeError",
     "evalue": "'tuple' object has no attribute 'insert'",
     "output_type": "error",
     "traceback": [
      "\u001b[1;31m---------------------------------------------------------------------------\u001b[0m",
      "\u001b[1;31mAttributeError\u001b[0m                            Traceback (most recent call last)",
      "Cell \u001b[1;32mIn[34], line 5\u001b[0m\n\u001b[0;32m      1\u001b[0m \u001b[38;5;66;03m# If we want to insert an value in the tuple:-\u001b[39;00m\n\u001b[0;32m      2\u001b[0m \u001b[38;5;66;03m# Can we do soo :-\u001b[39;00m\n\u001b[0;32m      3\u001b[0m \u001b[38;5;66;03m# Let's know:-\u001b[39;00m\n\u001b[1;32m----> 5\u001b[0m \u001b[43mt\u001b[49m\u001b[38;5;241;43m.\u001b[39;49m\u001b[43minsert\u001b[49m(\u001b[38;5;241m34\u001b[39m)\n",
      "\u001b[1;31mAttributeError\u001b[0m: 'tuple' object has no attribute 'insert'"
     ]
    }
   ],
   "source": [
    "# If we want to insert an value in the tuple:-\n",
    "# Can we do soo :-\n",
    "# Let's know:-\n",
    "\n",
    "t.insert(34)\n",
    "\n",
    "# No, it will not insert any value in it as tuple is immutable it doesn't insert any value in it"
   ]
  },
  {
   "cell_type": "code",
   "execution_count": 35,
   "id": "653477b2",
   "metadata": {},
   "outputs": [
    {
     "ename": "AttributeError",
     "evalue": "'tuple' object has no attribute 'reverse'",
     "output_type": "error",
     "traceback": [
      "\u001b[1;31m---------------------------------------------------------------------------\u001b[0m",
      "\u001b[1;31mAttributeError\u001b[0m                            Traceback (most recent call last)",
      "Cell \u001b[1;32mIn[35], line 4\u001b[0m\n\u001b[0;32m      1\u001b[0m \u001b[38;5;66;03m# Can we reverse the tuple:-\u001b[39;00m\n\u001b[0;32m      2\u001b[0m \u001b[38;5;66;03m# Is it possible:-\u001b[39;00m\n\u001b[1;32m----> 4\u001b[0m \u001b[43mt\u001b[49m\u001b[38;5;241;43m.\u001b[39;49m\u001b[43mreverse\u001b[49m()\n",
      "\u001b[1;31mAttributeError\u001b[0m: 'tuple' object has no attribute 'reverse'"
     ]
    }
   ],
   "source": [
    "# Can we reverse the tuple:-\n",
    "# Is it possible:-\n",
    "\n",
    "t.reverse()\n",
    "\n",
    "# No, we can't reverse the tuple through reverse method it is popssible but doesn't reverse the original tuple"
   ]
  },
  {
   "cell_type": "code",
   "execution_count": 36,
   "id": "dd1482d3",
   "metadata": {},
   "outputs": [
    {
     "data": {
      "text/plain": [
       "1"
      ]
     },
     "execution_count": 36,
     "metadata": {},
     "output_type": "execute_result"
    }
   ],
   "source": [
    "# Can we do count method in tulpe:-\n",
    "# Is it works:-\n",
    "\n",
    "t.count(67)"
   ]
  },
  {
   "cell_type": "code",
   "execution_count": 37,
   "id": "bdb4b79a",
   "metadata": {},
   "outputs": [
    {
     "data": {
      "text/plain": [
       "0"
      ]
     },
     "execution_count": 37,
     "metadata": {},
     "output_type": "execute_result"
    }
   ],
   "source": [
    "# If the value is not present in the tuple than it always returns 0 in place of an error\n",
    "\n",
    "t.count(21)"
   ]
  },
  {
   "cell_type": "code",
   "execution_count": 39,
   "id": "660ffdc5",
   "metadata": {},
   "outputs": [
    {
     "ename": "AttributeError",
     "evalue": "'tuple' object has no attribute 'pop'",
     "output_type": "error",
     "traceback": [
      "\u001b[1;31m---------------------------------------------------------------------------\u001b[0m",
      "\u001b[1;31mAttributeError\u001b[0m                            Traceback (most recent call last)",
      "Cell \u001b[1;32mIn[39], line 4\u001b[0m\n\u001b[0;32m      1\u001b[0m \u001b[38;5;66;03m# Can we do pop method in tuple:-\u001b[39;00m\n\u001b[0;32m      2\u001b[0m \u001b[38;5;66;03m# Is it possible to pop an item from the tuple:-\u001b[39;00m\n\u001b[1;32m----> 4\u001b[0m \u001b[43mt\u001b[49m\u001b[38;5;241;43m.\u001b[39;49m\u001b[43mpop\u001b[49m()\n",
      "\u001b[1;31mAttributeError\u001b[0m: 'tuple' object has no attribute 'pop'"
     ]
    }
   ],
   "source": [
    "# Can we do pop method in tuple:-\n",
    "# Is it possible to pop an item from the tuple:-\n",
    "\n",
    "t.pop()\n",
    "\n",
    "# No, it's not possible as tuple is immutable it doesn't support pop method"
   ]
  },
  {
   "cell_type": "code",
   "execution_count": 40,
   "id": "85f9100a",
   "metadata": {},
   "outputs": [
    {
     "ename": "AttributeError",
     "evalue": "'tuple' object has no attribute 'remove'",
     "output_type": "error",
     "traceback": [
      "\u001b[1;31m---------------------------------------------------------------------------\u001b[0m",
      "\u001b[1;31mAttributeError\u001b[0m                            Traceback (most recent call last)",
      "Cell \u001b[1;32mIn[40], line 4\u001b[0m\n\u001b[0;32m      1\u001b[0m \u001b[38;5;66;03m# Can we remove an element from the tuple:-\u001b[39;00m\n\u001b[0;32m      2\u001b[0m \u001b[38;5;66;03m# Is it works or not:-\u001b[39;00m\n\u001b[1;32m----> 4\u001b[0m \u001b[43mt\u001b[49m\u001b[38;5;241;43m.\u001b[39;49m\u001b[43mremove\u001b[49m(\u001b[38;5;241m100\u001b[39m)\n",
      "\u001b[1;31mAttributeError\u001b[0m: 'tuple' object has no attribute 'remove'"
     ]
    }
   ],
   "source": [
    "# Can we remove an element from the tuple:-\n",
    "# Is it works or not:-\n",
    "\n",
    "t.remove(100)\n",
    "\n",
    "# No, its not possible as tuple is immutable ,it is not possible to remove an elemnt from it"
   ]
  },
  {
   "cell_type": "code",
   "execution_count": 41,
   "id": "79e3a282",
   "metadata": {},
   "outputs": [
    {
     "ename": "AttributeError",
     "evalue": "'tuple' object has no attribute 'clear'",
     "output_type": "error",
     "traceback": [
      "\u001b[1;31m---------------------------------------------------------------------------\u001b[0m",
      "\u001b[1;31mAttributeError\u001b[0m                            Traceback (most recent call last)",
      "Cell \u001b[1;32mIn[41], line 4\u001b[0m\n\u001b[0;32m      1\u001b[0m \u001b[38;5;66;03m# Can we run clear method in tuple ?:-\u001b[39;00m\n\u001b[0;32m      2\u001b[0m \u001b[38;5;66;03m# Let's see what happens next:-\u001b[39;00m\n\u001b[1;32m----> 4\u001b[0m \u001b[43mt\u001b[49m\u001b[38;5;241;43m.\u001b[39;49m\u001b[43mclear\u001b[49m()\n",
      "\u001b[1;31mAttributeError\u001b[0m: 'tuple' object has no attribute 'clear'"
     ]
    }
   ],
   "source": [
    "# Can we run clear method in tuple ?:-\n",
    "# Let's see what happens next:-\n",
    "\n",
    "t.clear()\n",
    "\n",
    "# It will always show an error."
   ]
  },
  {
   "cell_type": "code",
   "execution_count": 43,
   "id": "c4e9f2eb",
   "metadata": {},
   "outputs": [
    {
     "ename": "TypeError",
     "evalue": "'tuple' object does not support item deletion",
     "output_type": "error",
     "traceback": [
      "\u001b[1;31m---------------------------------------------------------------------------\u001b[0m",
      "\u001b[1;31mTypeError\u001b[0m                                 Traceback (most recent call last)",
      "Cell \u001b[1;32mIn[43], line 3\u001b[0m\n\u001b[0;32m      1\u001b[0m \u001b[38;5;66;03m# Is it possible to do del slicing in tuple :-\u001b[39;00m\n\u001b[1;32m----> 3\u001b[0m \u001b[38;5;28;01mdel\u001b[39;00m t[\u001b[38;5;241m1\u001b[39m:\u001b[38;5;241m5\u001b[39m:\u001b[38;5;241m2\u001b[39m]\n",
      "\u001b[1;31mTypeError\u001b[0m: 'tuple' object does not support item deletion"
     ]
    }
   ],
   "source": [
    "# Is it possible to do del slicing in tuple :-\n",
    "\n",
    "del t[1:5:2]\n",
    "\n",
    "# NO, it will not work in tuple"
   ]
  },
  {
   "cell_type": "code",
   "execution_count": 44,
   "id": "c196151e",
   "metadata": {},
   "outputs": [],
   "source": [
    "# But on the another hand we can delete the entire tuple from del:-\n",
    "# Let's know how:-\n",
    "\n",
    "del t"
   ]
  },
  {
   "cell_type": "code",
   "execution_count": 45,
   "id": "11e9adb3",
   "metadata": {},
   "outputs": [
    {
     "ename": "NameError",
     "evalue": "name 't' is not defined",
     "output_type": "error",
     "traceback": [
      "\u001b[1;31m---------------------------------------------------------------------------\u001b[0m",
      "\u001b[1;31mNameError\u001b[0m                                 Traceback (most recent call last)",
      "Cell \u001b[1;32mIn[45], line 3\u001b[0m\n\u001b[0;32m      1\u001b[0m \u001b[38;5;66;03m# Calling t to see whether the tuple is deleted or not:-\u001b[39;00m\n\u001b[1;32m----> 3\u001b[0m \u001b[43mt\u001b[49m\n",
      "\u001b[1;31mNameError\u001b[0m: name 't' is not defined"
     ]
    }
   ],
   "source": [
    "# Calling t to see whether the tuple is deleted or not:-\n",
    "\n",
    "t\n",
    "\n",
    "# Here through del the tuple is deleted"
   ]
  },
  {
   "cell_type": "code",
   "execution_count": 46,
   "id": "cdc8e617",
   "metadata": {},
   "outputs": [
    {
     "name": "stdout",
     "output_type": "stream",
     "text": [
      "(23, 12, 45, 67, 63, 78) <class 'tuple'>\n"
     ]
    }
   ],
   "source": [
    "# Creating the tuple :-\n",
    "# iNcluding its result and its type:-\n",
    "\n",
    "t = (23,12,45,67,63,78)\n",
    "print(t,type(t))"
   ]
  },
  {
   "cell_type": "code",
   "execution_count": 47,
   "id": "8c751ca4",
   "metadata": {},
   "outputs": [
    {
     "data": {
      "text/plain": [
       "2519259979904"
      ]
     },
     "execution_count": 47,
     "metadata": {},
     "output_type": "execute_result"
    }
   ],
   "source": [
    "# Printing the id of the tuple t:-\n",
    "\n",
    "id(t)"
   ]
  },
  {
   "cell_type": "code",
   "execution_count": 48,
   "id": "a7c05f55",
   "metadata": {},
   "outputs": [
    {
     "ename": "AttributeError",
     "evalue": "'tuple' object has no attribute 'sort'",
     "output_type": "error",
     "traceback": [
      "\u001b[1;31m---------------------------------------------------------------------------\u001b[0m",
      "\u001b[1;31mAttributeError\u001b[0m                            Traceback (most recent call last)",
      "Cell \u001b[1;32mIn[48], line 4\u001b[0m\n\u001b[0;32m      1\u001b[0m \u001b[38;5;66;03m# Can we sort the values in the tupple through sorting :-\u001b[39;00m\n\u001b[0;32m      2\u001b[0m \u001b[38;5;66;03m# Is it possible to do soo:-\u001b[39;00m\n\u001b[1;32m----> 4\u001b[0m \u001b[43mt\u001b[49m\u001b[38;5;241;43m.\u001b[39;49m\u001b[43msort\u001b[49m()\n",
      "\u001b[1;31mAttributeError\u001b[0m: 'tuple' object has no attribute 'sort'"
     ]
    }
   ],
   "source": [
    "# Can we sort the values in the tupple through sorting :-\n",
    "# Is it possible to do soo:-\n",
    "\n",
    "t.sort()\n",
    "\n",
    "# Tuple doesn't support the sort method "
   ]
  },
  {
   "cell_type": "code",
   "execution_count": 49,
   "id": "1a8e0cc7",
   "metadata": {},
   "outputs": [
    {
     "data": {
      "text/plain": [
       "[12, 23, 45, 63, 67, 78]"
      ]
     },
     "execution_count": 49,
     "metadata": {},
     "output_type": "execute_result"
    }
   ],
   "source": [
    "# Is sorted method is possible or not:-\n",
    "\n",
    "sorted(t)\n",
    "\n",
    "# Yes, sorting is possible as it convert tuple into list here"
   ]
  },
  {
   "cell_type": "code",
   "execution_count": 50,
   "id": "8f348b95",
   "metadata": {},
   "outputs": [
    {
     "data": {
      "text/plain": [
       "[78, 67, 63, 45, 23, 12]"
      ]
     },
     "execution_count": 50,
     "metadata": {},
     "output_type": "execute_result"
    }
   ],
   "source": [
    "# reversing the tuple through the sorted method of tuple:-\n",
    "\n",
    "sorted(t,reverse=True)"
   ]
  },
  {
   "cell_type": "code",
   "execution_count": 51,
   "id": "e29ad315",
   "metadata": {},
   "outputs": [
    {
     "data": {
      "text/plain": [
       "78"
      ]
     },
     "execution_count": 51,
     "metadata": {},
     "output_type": "execute_result"
    }
   ],
   "source": [
    "# Finding max of t:-\n",
    "\n",
    "max(t)"
   ]
  },
  {
   "cell_type": "code",
   "execution_count": 52,
   "id": "6d67c1a6",
   "metadata": {},
   "outputs": [
    {
     "data": {
      "text/plain": [
       "12"
      ]
     },
     "execution_count": 52,
     "metadata": {},
     "output_type": "execute_result"
    }
   ],
   "source": [
    "# Finding min of t:-\n",
    "\n",
    "min(t)"
   ]
  },
  {
   "cell_type": "code",
   "execution_count": 53,
   "id": "4171b0b2",
   "metadata": {},
   "outputs": [
    {
     "data": {
      "text/plain": [
       "288"
      ]
     },
     "execution_count": 53,
     "metadata": {},
     "output_type": "execute_result"
    }
   ],
   "source": [
    "# Finding sum of t:-\n",
    "\n",
    "sum(t)"
   ]
  },
  {
   "cell_type": "code",
   "execution_count": 54,
   "id": "602e8886",
   "metadata": {},
   "outputs": [
    {
     "data": {
      "text/plain": [
       "(23, 12, 45, 67, 63, 78)"
      ]
     },
     "execution_count": 54,
     "metadata": {},
     "output_type": "execute_result"
    }
   ],
   "source": [
    "# pring t :-\n",
    "\n",
    "t"
   ]
  },
  {
   "cell_type": "code",
   "execution_count": 55,
   "id": "7f16f508",
   "metadata": {},
   "outputs": [
    {
     "data": {
      "text/plain": [
       "63"
      ]
     },
     "execution_count": 55,
     "metadata": {},
     "output_type": "execute_result"
    }
   ],
   "source": [
    "# Finding value from the index of the item:-\n",
    "# Let's see is it works:-\n",
    "\n",
    "t[4]"
   ]
  },
  {
   "cell_type": "code",
   "execution_count": 56,
   "id": "d483f841",
   "metadata": {},
   "outputs": [
    {
     "ename": "TypeError",
     "evalue": "'tuple' object does not support item assignment",
     "output_type": "error",
     "traceback": [
      "\u001b[1;31m---------------------------------------------------------------------------\u001b[0m",
      "\u001b[1;31mTypeError\u001b[0m                                 Traceback (most recent call last)",
      "Cell \u001b[1;32mIn[56], line 4\u001b[0m\n\u001b[0;32m      1\u001b[0m \u001b[38;5;66;03m# Can we chsnge value of t[3] in the tuple:-\u001b[39;00m\n\u001b[0;32m      2\u001b[0m \u001b[38;5;66;03m# is it possible to work;-\u001b[39;00m\n\u001b[1;32m----> 4\u001b[0m t[\u001b[38;5;241m3\u001b[39m] \u001b[38;5;241m=\u001b[39m \u001b[38;5;124m\"\u001b[39m\u001b[38;5;124mSam\u001b[39m\u001b[38;5;124m\"\u001b[39m\n",
      "\u001b[1;31mTypeError\u001b[0m: 'tuple' object does not support item assignment"
     ]
    }
   ],
   "source": [
    "# Can we chsnge value of t[3] in the tuple:-\n",
    "# is it possible to work;-\n",
    "\n",
    "t[3] = \"Sam\"\n",
    "\n",
    "# It will not work it will show an error."
   ]
  },
  {
   "cell_type": "code",
   "execution_count": 57,
   "id": "3cb77212",
   "metadata": {},
   "outputs": [
    {
     "data": {
      "text/plain": [
       "[23, 12, 45, 67, 63, 78]"
      ]
     },
     "execution_count": 57,
     "metadata": {},
     "output_type": "execute_result"
    }
   ],
   "source": [
    "# WE can do this in two ways :-\n",
    "# 1) BY converting it into list and change it's value:-\n",
    "# Let;s see how it is:-\n",
    "\n",
    "l = list(t)\n",
    "l"
   ]
  },
  {
   "cell_type": "code",
   "execution_count": 58,
   "id": "387cd080",
   "metadata": {},
   "outputs": [
    {
     "data": {
      "text/plain": [
       "[23, 12, 45, 67, 'Parul', 78]"
      ]
     },
     "execution_count": 58,
     "metadata": {},
     "output_type": "execute_result"
    }
   ],
   "source": [
    "# Now change the value in the list:-\n",
    "\n",
    "l[4]=\"Parul\"\n",
    "l"
   ]
  },
  {
   "cell_type": "code",
   "execution_count": 59,
   "id": "3333f167",
   "metadata": {},
   "outputs": [
    {
     "data": {
      "text/plain": [
       "(23, 12, 45, 67, 'Parul', 78)"
      ]
     },
     "execution_count": 59,
     "metadata": {},
     "output_type": "execute_result"
    }
   ],
   "source": [
    "# Now convert list into tuple:-\n",
    "\n",
    "t = tuple(l)\n",
    "t"
   ]
  },
  {
   "cell_type": "code",
   "execution_count": 62,
   "id": "2fe65bfe",
   "metadata": {},
   "outputs": [
    {
     "data": {
      "text/plain": [
       "2519258860032"
      ]
     },
     "execution_count": 62,
     "metadata": {},
     "output_type": "execute_result"
    }
   ],
   "source": [
    "# Finding it's id():-\n",
    "\n",
    "id(t)\n",
    "\n",
    "# Here the id of the tuple is changed."
   ]
  },
  {
   "cell_type": "code",
   "execution_count": null,
   "id": "438db203",
   "metadata": {},
   "outputs": [],
   "source": [
    "# 2) Using Packing and unpacking method here :-\n",
    "# Packing :- converting list into tuple.\n",
    "# Unpacking :- converting tuple into list"
   ]
  },
  {
   "cell_type": "code",
   "execution_count": 61,
   "id": "de02d657",
   "metadata": {},
   "outputs": [
    {
     "name": "stdout",
     "output_type": "stream",
     "text": [
      "(73, 56, 98, 776, 445, 35, 2335) <class 'tuple'>\n"
     ]
    }
   ],
   "source": [
    "# Creatting an another tuple:-\n",
    "# Print its result and its type:-\n",
    "\n",
    "t = (73,56,98,776,445,35,2335)\n",
    "print(t,type(t))"
   ]
  },
  {
   "cell_type": "code",
   "execution_count": 64,
   "id": "922bb683",
   "metadata": {},
   "outputs": [
    {
     "data": {
      "text/plain": [
       "2519258860032"
      ]
     },
     "execution_count": 64,
     "metadata": {},
     "output_type": "execute_result"
    }
   ],
   "source": [
    "# Printing id of tuple t:-\n",
    "\n",
    "id(t)"
   ]
  },
  {
   "cell_type": "code",
   "execution_count": 65,
   "id": "5287642c",
   "metadata": {},
   "outputs": [],
   "source": [
    "# Using unpacking:-\n",
    "# Converting tuple into list:-\n",
    "# Let's know how\"-\n",
    "\n",
    "a,b,c,d,e,f,g = t"
   ]
  },
  {
   "cell_type": "code",
   "execution_count": 66,
   "id": "cded293e",
   "metadata": {},
   "outputs": [
    {
     "data": {
      "text/plain": [
       "98"
      ]
     },
     "execution_count": 66,
     "metadata": {},
     "output_type": "execute_result"
    }
   ],
   "source": [
    "# Calling any value to test the result:-\n",
    "\n",
    "c"
   ]
  },
  {
   "cell_type": "code",
   "execution_count": 67,
   "id": "6df5c5c9",
   "metadata": {},
   "outputs": [],
   "source": [
    "# Know changing the values :-\n",
    "\n",
    "b = \"Parul\"\n",
    "d = \"Yadav\""
   ]
  },
  {
   "cell_type": "code",
   "execution_count": 68,
   "id": "20b24a78",
   "metadata": {},
   "outputs": [],
   "source": [
    "# Doing packing here:-\n",
    "# Converting list into tuple:-\n",
    "\n",
    "t=(a,b,c,d,e,f,g)"
   ]
  },
  {
   "cell_type": "code",
   "execution_count": 70,
   "id": "f474a01c",
   "metadata": {},
   "outputs": [
    {
     "data": {
      "text/plain": [
       "(73, 'Parul', 98, 'Yadav', 445, 35, 2335)"
      ]
     },
     "execution_count": 70,
     "metadata": {},
     "output_type": "execute_result"
    }
   ],
   "source": [
    "# Testing the result:-\n",
    "\n",
    "t"
   ]
  },
  {
   "cell_type": "code",
   "execution_count": 71,
   "id": "b6d1a4db",
   "metadata": {},
   "outputs": [
    {
     "data": {
      "text/plain": [
       "2519258785120"
      ]
     },
     "execution_count": 71,
     "metadata": {},
     "output_type": "execute_result"
    }
   ],
   "source": [
    "# checking the id of the tuple t:-\n",
    "\n",
    "id(t)\n",
    "\n",
    "# here the id of the tuple is changed "
   ]
  },
  {
   "cell_type": "code",
   "execution_count": null,
   "id": "100ffc12",
   "metadata": {},
   "outputs": [],
   "source": []
  }
 ],
 "metadata": {
  "kernelspec": {
   "display_name": "Python 3 (ipykernel)",
   "language": "python",
   "name": "python3"
  },
  "language_info": {
   "codemirror_mode": {
    "name": "ipython",
    "version": 3
   },
   "file_extension": ".py",
   "mimetype": "text/x-python",
   "name": "python",
   "nbconvert_exporter": "python",
   "pygments_lexer": "ipython3",
   "version": "3.10.9"
  }
 },
 "nbformat": 4,
 "nbformat_minor": 5
}
