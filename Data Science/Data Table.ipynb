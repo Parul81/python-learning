{
 "cells": [
  {
   "cell_type": "markdown",
   "id": "ed6eb88c-6196-42c6-83f6-ea5d7fc7a799",
   "metadata": {},
   "source": [
    "# Data Table"
   ]
  },
  {
   "cell_type": "code",
   "execution_count": 1,
   "id": "57a63f7d-5552-439d-9d13-9bbc439ca33f",
   "metadata": {},
   "outputs": [],
   "source": [
    "# ----> An alternative to Pandas or SFrame\n",
    "# ----> its useful to work with data clean and then data analysis just like pandas.\n",
    "# -----> Similar API to Data Table in R\n",
    "# -----> Specific emphasis on speed and big data support"
   ]
  },
  {
   "cell_type": "code",
   "execution_count": 2,
   "id": "065bed1b-d9bc-4610-a119-54b64fb1d80e",
   "metadata": {},
   "outputs": [],
   "source": [
    "#Installation:-\n",
    "# --> pip install datatable"
   ]
  },
  {
   "cell_type": "code",
   "execution_count": 3,
   "id": "7f7cb764-7378-4d54-831a-ac498e92a1c6",
   "metadata": {},
   "outputs": [
    {
     "name": "stdout",
     "output_type": "stream",
     "text": [
      "Defaulting to user installation because normal site-packages is not writeable\n",
      "Collecting datatable\n",
      "  Downloading datatable-1.1.0-cp311-cp311-win_amd64.whl.metadata (1.8 kB)\n",
      "Downloading datatable-1.1.0-cp311-cp311-win_amd64.whl (4.7 MB)\n",
      "   ---------------------------------------- 0.0/4.7 MB ? eta -:--:--\n",
      "   ---------------------------------------- 0.0/4.7 MB 640.0 kB/s eta 0:00:08\n",
      "   ---------------------------------------- 0.1/4.7 MB 650.2 kB/s eta 0:00:08\n",
      "   - -------------------------------------- 0.1/4.7 MB 1.0 MB/s eta 0:00:05\n",
      "   - -------------------------------------- 0.2/4.7 MB 1.1 MB/s eta 0:00:04\n",
      "   -- ------------------------------------- 0.3/4.7 MB 1.2 MB/s eta 0:00:04\n",
      "   -- ------------------------------------- 0.3/4.7 MB 1.3 MB/s eta 0:00:04\n",
      "   -- ------------------------------------- 0.3/4.7 MB 1.3 MB/s eta 0:00:04\n",
      "   ---- ----------------------------------- 0.5/4.7 MB 1.5 MB/s eta 0:00:03\n",
      "   ----- ---------------------------------- 0.6/4.7 MB 1.6 MB/s eta 0:00:03\n",
      "   ----- ---------------------------------- 0.7/4.7 MB 1.7 MB/s eta 0:00:03\n",
      "   ------ --------------------------------- 0.8/4.7 MB 1.6 MB/s eta 0:00:03\n",
      "   ------- -------------------------------- 0.9/4.7 MB 1.7 MB/s eta 0:00:03\n",
      "   -------- ------------------------------- 1.0/4.7 MB 1.8 MB/s eta 0:00:03\n",
      "   -------- ------------------------------- 1.0/4.7 MB 1.8 MB/s eta 0:00:03\n",
      "   --------- ------------------------------ 1.1/4.7 MB 1.5 MB/s eta 0:00:03\n",
      "   --------- ------------------------------ 1.1/4.7 MB 1.6 MB/s eta 0:00:03\n",
      "   ---------- ----------------------------- 1.3/4.7 MB 1.6 MB/s eta 0:00:03\n",
      "   ----------- ---------------------------- 1.4/4.7 MB 1.7 MB/s eta 0:00:02\n",
      "   ------------ --------------------------- 1.5/4.7 MB 1.7 MB/s eta 0:00:02\n",
      "   ------------- -------------------------- 1.6/4.7 MB 1.7 MB/s eta 0:00:02\n",
      "   -------------- ------------------------- 1.7/4.7 MB 1.8 MB/s eta 0:00:02\n",
      "   --------------- ------------------------ 1.8/4.7 MB 1.8 MB/s eta 0:00:02\n",
      "   ---------------- ----------------------- 1.9/4.7 MB 1.8 MB/s eta 0:00:02\n",
      "   ----------------- ---------------------- 2.0/4.7 MB 1.8 MB/s eta 0:00:02\n",
      "   ------------------ --------------------- 2.2/4.7 MB 1.9 MB/s eta 0:00:02\n",
      "   ------------------- -------------------- 2.3/4.7 MB 1.9 MB/s eta 0:00:02\n",
      "   -------------------- ------------------- 2.5/4.7 MB 2.0 MB/s eta 0:00:02\n",
      "   ---------------------- ----------------- 2.6/4.7 MB 2.0 MB/s eta 0:00:02\n",
      "   ---------------------- ----------------- 2.7/4.7 MB 2.0 MB/s eta 0:00:01\n",
      "   ----------------------- ---------------- 2.8/4.7 MB 2.0 MB/s eta 0:00:01\n",
      "   ------------------------- -------------- 3.0/4.7 MB 2.1 MB/s eta 0:00:01\n",
      "   ------------------------- -------------- 3.1/4.7 MB 2.1 MB/s eta 0:00:01\n",
      "   --------------------------- ------------ 3.2/4.7 MB 2.1 MB/s eta 0:00:01\n",
      "   ---------------------------- ----------- 3.3/4.7 MB 2.1 MB/s eta 0:00:01\n",
      "   ---------------------------- ----------- 3.4/4.7 MB 2.1 MB/s eta 0:00:01\n",
      "   ----------------------------- ---------- 3.5/4.7 MB 2.1 MB/s eta 0:00:01\n",
      "   ------------------------------ --------- 3.6/4.7 MB 2.1 MB/s eta 0:00:01\n",
      "   ------------------------------- -------- 3.7/4.7 MB 2.1 MB/s eta 0:00:01\n",
      "   -------------------------------- ------- 3.8/4.7 MB 2.1 MB/s eta 0:00:01\n",
      "   --------------------------------- ------ 4.0/4.7 MB 2.1 MB/s eta 0:00:01\n",
      "   ---------------------------------- ----- 4.1/4.7 MB 2.1 MB/s eta 0:00:01\n",
      "   ----------------------------------- ---- 4.2/4.7 MB 2.2 MB/s eta 0:00:01\n",
      "   ----------------------------------- ---- 4.2/4.7 MB 2.2 MB/s eta 0:00:01\n",
      "   ----------------------------------- ---- 4.2/4.7 MB 2.2 MB/s eta 0:00:01\n",
      "   ------------------------------------ --- 4.3/4.7 MB 2.0 MB/s eta 0:00:01\n",
      "   ------------------------------------- -- 4.4/4.7 MB 2.0 MB/s eta 0:00:01\n",
      "   ------------------------------------- -- 4.5/4.7 MB 2.0 MB/s eta 0:00:01\n",
      "   ---------------------------------------  4.7/4.7 MB 2.1 MB/s eta 0:00:01\n",
      "   ---------------------------------------  4.7/4.7 MB 2.0 MB/s eta 0:00:01\n",
      "   ---------------------------------------- 4.7/4.7 MB 2.0 MB/s eta 0:00:00\n",
      "Installing collected packages: datatable\n",
      "Successfully installed datatable-1.1.0\n",
      "Note: you may need to restart the kernel to use updated packages.\n"
     ]
    }
   ],
   "source": [
    "pip install datatable"
   ]
  },
  {
   "cell_type": "code",
   "execution_count": 4,
   "id": "fd131501-969f-42e8-952c-9315052fad35",
   "metadata": {},
   "outputs": [],
   "source": [
    "# Load EDA pckages"
   ]
  },
  {
   "cell_type": "code",
   "execution_count": 8,
   "id": "77244b14-2121-44f2-b695-fa2ef9ba5b49",
   "metadata": {},
   "outputs": [
    {
     "data": {
      "text/html": [
       "<style type='text/css'>\n",
       ".datatable table.frame { margin-bottom: 0; }\n",
       ".datatable table.frame thead { border-bottom: none; }\n",
       ".datatable table.frame tr.coltypes td {  color: #FFFFFF;  line-height: 6px;  padding: 0 0.5em;}\n",
       ".datatable .bool    { background: #DDDD99; }\n",
       ".datatable .object  { background: #565656; }\n",
       ".datatable .int     { background: #5D9E5D; }\n",
       ".datatable .float   { background: #4040CC; }\n",
       ".datatable .str     { background: #CC4040; }\n",
       ".datatable .time    { background: #40CC40; }\n",
       ".datatable .row_index {  background: var(--jp-border-color3);  border-right: 1px solid var(--jp-border-color0);  color: var(--jp-ui-font-color3);  font-size: 9px;}\n",
       ".datatable .frame tbody td { text-align: left; }\n",
       ".datatable .frame tr.coltypes .row_index {  background: var(--jp-border-color0);}\n",
       ".datatable th:nth-child(2) { padding-left: 12px; }\n",
       ".datatable .hellipsis {  color: var(--jp-cell-editor-border-color);}\n",
       ".datatable .vellipsis {  background: var(--jp-layout-color0);  color: var(--jp-cell-editor-border-color);}\n",
       ".datatable .na {  color: var(--jp-cell-editor-border-color);  font-size: 80%;}\n",
       ".datatable .sp {  opacity: 0.25;}\n",
       ".datatable .footer { font-size: 9px; }\n",
       ".datatable .frame_dimensions {  background: var(--jp-border-color3);  border-top: 1px solid var(--jp-border-color0);  color: var(--jp-ui-font-color3);  display: inline-block;  opacity: 0.6;  padding: 1px 10px 1px 5px;}\n",
       "</style>\n"
      ],
      "text/plain": [
       "<IPython.core.display.HTML object>"
      ]
     },
     "metadata": {},
     "output_type": "display_data"
    }
   ],
   "source": [
    "import datatable as dt"
   ]
  },
  {
   "cell_type": "code",
   "execution_count": 9,
   "id": "3735d8f9-96e4-466e-b78d-de5ec6cad634",
   "metadata": {},
   "outputs": [
    {
     "name": "stdout",
     "output_type": "stream",
     "text": [
      "Defaulting to user installation because normal site-packages is not writeable\n",
      "Requirement already satisfied: xlrd in c:\\users\\parul\\appdata\\roaming\\python\\python311\\site-packages (2.0.1)\n",
      "Note: you may need to restart the kernel to use updated packages.\n"
     ]
    }
   ],
   "source": [
    "pip install xlrd"
   ]
  },
  {
   "cell_type": "code",
   "execution_count": 10,
   "id": "b896f045-3add-4f55-83d2-4d7175d2060b",
   "metadata": {},
   "outputs": [
    {
     "data": {
      "text/plain": [
       "['FExpr',\n",
       " 'Frame',\n",
       " 'Namespace',\n",
       " 'Type',\n",
       " '__all__',\n",
       " '__builtins__',\n",
       " '__cached__',\n",
       " '__doc__',\n",
       " '__file__',\n",
       " '__loader__',\n",
       " '__name__',\n",
       " '__package__',\n",
       " '__path__',\n",
       " '__spec__',\n",
       " '__version__',\n",
       " '__warningregistry__',\n",
       " '_build_info',\n",
       " 'abs',\n",
       " 'as_type',\n",
       " 'bool8',\n",
       " 'build_info',\n",
       " 'by',\n",
       " 'categories',\n",
       " 'cbind',\n",
       " 'codes',\n",
       " 'corr',\n",
       " 'count',\n",
       " 'countna',\n",
       " 'cov',\n",
       " 'cumcount',\n",
       " 'cummax',\n",
       " 'cummin',\n",
       " 'cumprod',\n",
       " 'cumsum',\n",
       " 'cut',\n",
       " 'dt',\n",
       " 'exceptions',\n",
       " 'exp',\n",
       " 'expr',\n",
       " 'f',\n",
       " 'fillna',\n",
       " 'first',\n",
       " 'float32',\n",
       " 'float64',\n",
       " 'frame',\n",
       " 'fread',\n",
       " 'g',\n",
       " 'ifelse',\n",
       " 'init_styles',\n",
       " 'int16',\n",
       " 'int32',\n",
       " 'int64',\n",
       " 'int8',\n",
       " 'internal',\n",
       " 'intersect',\n",
       " 'iread',\n",
       " 'isna',\n",
       " 'join',\n",
       " 'last',\n",
       " 'lib',\n",
       " 'log',\n",
       " 'log10',\n",
       " 'ltype',\n",
       " 'math',\n",
       " 'max',\n",
       " 'mean',\n",
       " 'median',\n",
       " 'min',\n",
       " 'ngroup',\n",
       " 'nunique',\n",
       " 'obj64',\n",
       " 'options',\n",
       " 'prod',\n",
       " 'qcut',\n",
       " 'rbind',\n",
       " 're',\n",
       " 'repeat',\n",
       " 'rowall',\n",
       " 'rowany',\n",
       " 'rowargmax',\n",
       " 'rowargmin',\n",
       " 'rowcount',\n",
       " 'rowfirst',\n",
       " 'rowlast',\n",
       " 'rowmax',\n",
       " 'rowmean',\n",
       " 'rowmin',\n",
       " 'rowsd',\n",
       " 'rowsum',\n",
       " 'sd',\n",
       " 'setdiff',\n",
       " 'shift',\n",
       " 'sort',\n",
       " 'split_into_nhot',\n",
       " 'str',\n",
       " 'str32',\n",
       " 'str64',\n",
       " 'stype',\n",
       " 'sum',\n",
       " 'symdiff',\n",
       " 'time',\n",
       " 'types',\n",
       " 'union',\n",
       " 'unique',\n",
       " 'update',\n",
       " 'void']"
      ]
     },
     "execution_count": 10,
     "metadata": {},
     "output_type": "execute_result"
    }
   ],
   "source": [
    "# Methods dt\n",
    "# syntax ----> dir(dt)\n",
    "\n",
    "dir(dt)"
   ]
  },
  {
   "cell_type": "code",
   "execution_count": 9,
   "id": "215fd06b-d261-4bac-adf6-9a8b3a22a4bc",
   "metadata": {},
   "outputs": [],
   "source": [
    "# Read a simple CSV file\n",
    "# syntax ----> df = dt.fread(file.csv)       df.head()"
   ]
  },
  {
   "cell_type": "code",
   "execution_count": 10,
   "id": "6b1610b4-64a8-40c7-a9e7-7a64de47ed8b",
   "metadata": {},
   "outputs": [],
   "source": [
    "# Read a simple exel file\n",
    "# syntax ----> df_excel = dt.fread(file.xlsx)       df.head()"
   ]
  },
  {
   "cell_type": "code",
   "execution_count": 11,
   "id": "c5049bb1-4b95-44f9-ae8c-8f18fb234820",
   "metadata": {},
   "outputs": [],
   "source": [
    "df = dt.fread(r\"C:\\Users\\parul\\Desktop\\housing.csv\")"
   ]
  },
  {
   "cell_type": "code",
   "execution_count": 12,
   "id": "f11f6abf-2488-4d7b-ba16-c58cbec18e11",
   "metadata": {},
   "outputs": [
    {
     "data": {
      "text/html": [
       "<div class='datatable'>\n",
       "  <table class='frame'>\n",
       "  <thead>\n",
       "    <tr class='colnames'><td class='row_index'></td><th>longitude</th><th>latitude</th><th>housing_median_age</th><th>total_rooms</th><th>total_bedrooms</th><th>population</th><th>households</th><th>median_income</th><th>median_house_value</th><th>ocean_proximity</th></tr>\n",
       "    <tr class='coltypes'><td class='row_index'></td><td class='float' title='float64'>&#x25AA;&#x25AA;&#x25AA;&#x25AA;&#x25AA;&#x25AA;&#x25AA;&#x25AA;</td><td class='float' title='float64'>&#x25AA;&#x25AA;&#x25AA;&#x25AA;&#x25AA;&#x25AA;&#x25AA;&#x25AA;</td><td class='int' title='int32'>&#x25AA;&#x25AA;&#x25AA;&#x25AA;</td><td class='int' title='int32'>&#x25AA;&#x25AA;&#x25AA;&#x25AA;</td><td class='int' title='int32'>&#x25AA;&#x25AA;&#x25AA;&#x25AA;</td><td class='int' title='int32'>&#x25AA;&#x25AA;&#x25AA;&#x25AA;</td><td class='int' title='int32'>&#x25AA;&#x25AA;&#x25AA;&#x25AA;</td><td class='float' title='float64'>&#x25AA;&#x25AA;&#x25AA;&#x25AA;&#x25AA;&#x25AA;&#x25AA;&#x25AA;</td><td class='int' title='int32'>&#x25AA;&#x25AA;&#x25AA;&#x25AA;</td><td class='str' title='str32'>&#x25AA;&#x25AA;&#x25AA;&#x25AA;</td></tr>\n",
       "  </thead>\n",
       "  <tbody>\n",
       "    <tr><td class='row_index'>0</td><td>&minus;122.23</td><td>37.88</td><td>41</td><td>880</td><td>129</td><td>322</td><td>126</td><td>8.3252</td><td>452600</td><td>NEAR BAY</td></tr>\n",
       "    <tr><td class='row_index'>1</td><td>&minus;122.22</td><td>37.86</td><td>21</td><td>7099</td><td>1106</td><td>2401</td><td>1138</td><td>8.3014</td><td>358500</td><td>NEAR BAY</td></tr>\n",
       "    <tr><td class='row_index'>2</td><td>&minus;122.24</td><td>37.85</td><td>52</td><td>1467</td><td>190</td><td>496</td><td>177</td><td>7.2574</td><td>352100</td><td>NEAR BAY</td></tr>\n",
       "    <tr><td class='row_index'>3</td><td>&minus;122.25</td><td>37.85</td><td>52</td><td>1274</td><td>235</td><td>558</td><td>219</td><td>5.6431</td><td>341300</td><td>NEAR BAY</td></tr>\n",
       "    <tr><td class='row_index'>4</td><td>&minus;122.25</td><td>37.85</td><td>52</td><td>1627</td><td>280</td><td>565</td><td>259</td><td>3.8462</td><td>342200</td><td>NEAR BAY</td></tr>\n",
       "    <tr><td class='row_index'>5</td><td>&minus;122.25</td><td>37.85</td><td>52</td><td>919</td><td>213</td><td>413</td><td>193</td><td>4.0368</td><td>269700</td><td>NEAR BAY</td></tr>\n",
       "    <tr><td class='row_index'>6</td><td>&minus;122.25</td><td>37.84</td><td>52</td><td>2535</td><td>489</td><td>1094</td><td>514</td><td>3.6591</td><td>299200</td><td>NEAR BAY</td></tr>\n",
       "    <tr><td class='row_index'>7</td><td>&minus;122.25</td><td>37.84</td><td>52</td><td>3104</td><td>687</td><td>1157</td><td>647</td><td>3.12</td><td>241400</td><td>NEAR BAY</td></tr>\n",
       "    <tr><td class='row_index'>8</td><td>&minus;122.26</td><td>37.84</td><td>42</td><td>2555</td><td>665</td><td>1206</td><td>595</td><td>2.0804</td><td>226700</td><td>NEAR BAY</td></tr>\n",
       "    <tr><td class='row_index'>9</td><td>&minus;122.25</td><td>37.84</td><td>52</td><td>3549</td><td>707</td><td>1551</td><td>714</td><td>3.6912</td><td>261100</td><td>NEAR BAY</td></tr>\n",
       "  </tbody>\n",
       "  </table>\n",
       "  <div class='footer'>\n",
       "    <div class='frame_dimensions'>10 rows &times; 10 columns</div>\n",
       "  </div>\n",
       "</div>\n"
      ],
      "text/plain": [
       "<Frame#2a33c8afde0 10x10>"
      ]
     },
     "execution_count": 12,
     "metadata": {},
     "output_type": "execute_result"
    }
   ],
   "source": [
    "df.head()"
   ]
  },
  {
   "cell_type": "code",
   "execution_count": 22,
   "id": "b5f5cdf7-5fd1-419f-a28f-f11972081aef",
   "metadata": {},
   "outputs": [
    {
     "data": {
      "text/plain": [
       "(20640, 10)"
      ]
     },
     "execution_count": 22,
     "metadata": {},
     "output_type": "execute_result"
    }
   ],
   "source": [
    "#shape\n",
    "##syntax ----> df.shape\n",
    "\n",
    "df.shape"
   ]
  },
  {
   "cell_type": "code",
   "execution_count": 23,
   "id": "35017a44-82d4-4bfc-90a3-6ef22a65ed00",
   "metadata": {
    "scrolled": true
   },
   "outputs": [
    {
     "data": {
      "text/plain": [
       "20640"
      ]
     },
     "execution_count": 23,
     "metadata": {},
     "output_type": "execute_result"
    }
   ],
   "source": [
    "# Rows\n",
    "## syntax ----> df.shape[0]\n",
    "\n",
    "df.shape[0]"
   ]
  },
  {
   "cell_type": "code",
   "execution_count": 24,
   "id": "37f6148e-8585-45d2-aa62-c9e5a88cb341",
   "metadata": {},
   "outputs": [
    {
     "data": {
      "text/plain": [
       "20640"
      ]
     },
     "execution_count": 24,
     "metadata": {},
     "output_type": "execute_result"
    }
   ],
   "source": [
    "df.nrows"
   ]
  },
  {
   "cell_type": "code",
   "execution_count": 25,
   "id": "fe5a0388-ec58-45e1-8ea4-52ac553a5cb9",
   "metadata": {},
   "outputs": [
    {
     "data": {
      "text/plain": [
       "10"
      ]
     },
     "execution_count": 25,
     "metadata": {},
     "output_type": "execute_result"
    }
   ],
   "source": [
    "# Columns\n",
    "## syntax ----> df.shape[1]\n",
    "\n",
    "df.shape[1]"
   ]
  },
  {
   "cell_type": "code",
   "execution_count": 26,
   "id": "f6f22746-214f-4feb-9389-e21d34a77c8c",
   "metadata": {},
   "outputs": [
    {
     "data": {
      "text/plain": [
       "10"
      ]
     },
     "execution_count": 26,
     "metadata": {},
     "output_type": "execute_result"
    }
   ],
   "source": [
    "df.ncols"
   ]
  },
  {
   "cell_type": "code",
   "execution_count": 27,
   "id": "f6d3058a-e321-4de4-8238-f4d2db62e247",
   "metadata": {},
   "outputs": [
    {
     "data": {
      "text/plain": [
       "['__class__',\n",
       " '__copy__',\n",
       " '__deepcopy__',\n",
       " '__delattr__',\n",
       " '__delitem__',\n",
       " '__dir__',\n",
       " '__doc__',\n",
       " '__eq__',\n",
       " '__format__',\n",
       " '__ge__',\n",
       " '__getattribute__',\n",
       " '__getitem__',\n",
       " '__getstate__',\n",
       " '__gt__',\n",
       " '__hash__',\n",
       " '__init__',\n",
       " '__init_subclass__',\n",
       " '__iter__',\n",
       " '__le__',\n",
       " '__len__',\n",
       " '__lt__',\n",
       " '__ne__',\n",
       " '__new__',\n",
       " '__reduce__',\n",
       " '__reduce_ex__',\n",
       " '__repr__',\n",
       " '__reversed__',\n",
       " '__setattr__',\n",
       " '__setitem__',\n",
       " '__setstate__',\n",
       " '__sizeof__',\n",
       " '__str__',\n",
       " '__subclasshook__',\n",
       " '_repr_html_',\n",
       " 'cbind',\n",
       " 'colindex',\n",
       " 'copy',\n",
       " 'countna',\n",
       " 'countna1',\n",
       " 'export_names',\n",
       " 'head',\n",
       " 'key',\n",
       " 'keys',\n",
       " 'kurt',\n",
       " 'kurt1',\n",
       " 'ltypes',\n",
       " 'materialize',\n",
       " 'max',\n",
       " 'max1',\n",
       " 'mean',\n",
       " 'mean1',\n",
       " 'meta',\n",
       " 'min',\n",
       " 'min1',\n",
       " 'mode',\n",
       " 'mode1',\n",
       " 'names',\n",
       " 'ncols',\n",
       " 'ndims',\n",
       " 'newsort',\n",
       " 'nmodal',\n",
       " 'nmodal1',\n",
       " 'nrows',\n",
       " 'nunique',\n",
       " 'nunique1',\n",
       " 'rbind',\n",
       " 'replace',\n",
       " 'sd',\n",
       " 'sd1',\n",
       " 'shape',\n",
       " 'skew',\n",
       " 'skew1',\n",
       " 'sort',\n",
       " 'source',\n",
       " 'stype',\n",
       " 'stypes',\n",
       " 'sum',\n",
       " 'sum1',\n",
       " 'tail',\n",
       " 'to_arrow',\n",
       " 'to_csv',\n",
       " 'to_dict',\n",
       " 'to_jay',\n",
       " 'to_list',\n",
       " 'to_numpy',\n",
       " 'to_pandas',\n",
       " 'to_tuples',\n",
       " 'type',\n",
       " 'types',\n",
       " 'view']"
      ]
     },
     "execution_count": 27,
     "metadata": {},
     "output_type": "execute_result"
    }
   ],
   "source": [
    "#Methods of Frame\n",
    "## syntax ---> dir(df)\n",
    "\n",
    "dir(df)"
   ]
  },
  {
   "cell_type": "code",
   "execution_count": 28,
   "id": "e729452e-4a61-4033-b9b0-6e7de319487d",
   "metadata": {},
   "outputs": [
    {
     "data": {
      "text/html": [
       "<div class='datatable'>\n",
       "  <table class='frame'>\n",
       "  <thead>\n",
       "    <tr class='colnames'><td class='row_index'></td><th>longitude</th><th>latitude</th><th>housing_median_age</th><th>total_rooms</th><th>total_bedrooms</th><th>population</th><th>households</th><th>median_income</th><th>median_house_value</th><th>ocean_proximity</th></tr>\n",
       "    <tr class='coltypes'><td class='row_index'></td><td class='float' title='float64'>&#x25AA;&#x25AA;&#x25AA;&#x25AA;&#x25AA;&#x25AA;&#x25AA;&#x25AA;</td><td class='float' title='float64'>&#x25AA;&#x25AA;&#x25AA;&#x25AA;&#x25AA;&#x25AA;&#x25AA;&#x25AA;</td><td class='int' title='int32'>&#x25AA;&#x25AA;&#x25AA;&#x25AA;</td><td class='int' title='int32'>&#x25AA;&#x25AA;&#x25AA;&#x25AA;</td><td class='int' title='int32'>&#x25AA;&#x25AA;&#x25AA;&#x25AA;</td><td class='int' title='int32'>&#x25AA;&#x25AA;&#x25AA;&#x25AA;</td><td class='int' title='int32'>&#x25AA;&#x25AA;&#x25AA;&#x25AA;</td><td class='float' title='float64'>&#x25AA;&#x25AA;&#x25AA;&#x25AA;&#x25AA;&#x25AA;&#x25AA;&#x25AA;</td><td class='int' title='int32'>&#x25AA;&#x25AA;&#x25AA;&#x25AA;</td><td class='str' title='str32'>&#x25AA;&#x25AA;&#x25AA;&#x25AA;</td></tr>\n",
       "  </thead>\n",
       "  <tbody>\n",
       "    <tr><td class='row_index'>0</td><td>&minus;121.32</td><td>39.29</td><td>11</td><td>2640</td><td>505</td><td>1257</td><td>445</td><td>3.5673</td><td>112000</td><td>INLAND</td></tr>\n",
       "    <tr><td class='row_index'>1</td><td>&minus;121.4</td><td>39.33</td><td>15</td><td>2655</td><td>493</td><td>1200</td><td>432</td><td>3.5179</td><td>107200</td><td>INLAND</td></tr>\n",
       "    <tr><td class='row_index'>2</td><td>&minus;121.45</td><td>39.26</td><td>15</td><td>2319</td><td>416</td><td>1047</td><td>385</td><td>3.125</td><td>115600</td><td>INLAND</td></tr>\n",
       "    <tr><td class='row_index'>3</td><td>&minus;121.53</td><td>39.19</td><td>27</td><td>2080</td><td>412</td><td>1082</td><td>382</td><td>2.5495</td><td>98300</td><td>INLAND</td></tr>\n",
       "    <tr><td class='row_index'>4</td><td>&minus;121.56</td><td>39.27</td><td>28</td><td>2332</td><td>395</td><td>1041</td><td>344</td><td>3.7125</td><td>116800</td><td>INLAND</td></tr>\n",
       "    <tr><td class='row_index'>5</td><td>&minus;121.09</td><td>39.48</td><td>25</td><td>1665</td><td>374</td><td>845</td><td>330</td><td>1.5603</td><td>78100</td><td>INLAND</td></tr>\n",
       "    <tr><td class='row_index'>6</td><td>&minus;121.21</td><td>39.49</td><td>18</td><td>697</td><td>150</td><td>356</td><td>114</td><td>2.5568</td><td>77100</td><td>INLAND</td></tr>\n",
       "    <tr><td class='row_index'>7</td><td>&minus;121.22</td><td>39.43</td><td>17</td><td>2254</td><td>485</td><td>1007</td><td>433</td><td>1.7</td><td>92300</td><td>INLAND</td></tr>\n",
       "    <tr><td class='row_index'>8</td><td>&minus;121.32</td><td>39.43</td><td>18</td><td>1860</td><td>409</td><td>741</td><td>349</td><td>1.8672</td><td>84700</td><td>INLAND</td></tr>\n",
       "    <tr><td class='row_index'>9</td><td>&minus;121.24</td><td>39.37</td><td>16</td><td>2785</td><td>616</td><td>1387</td><td>530</td><td>2.3886</td><td>89400</td><td>INLAND</td></tr>\n",
       "  </tbody>\n",
       "  </table>\n",
       "  <div class='footer'>\n",
       "    <div class='frame_dimensions'>10 rows &times; 10 columns</div>\n",
       "  </div>\n",
       "</div>\n"
      ],
      "text/plain": [
       "<Frame#1ed012ca0a0 10x10>"
      ]
     },
     "execution_count": 28,
     "metadata": {},
     "output_type": "execute_result"
    }
   ],
   "source": [
    "df.tail()"
   ]
  },
  {
   "cell_type": "code",
   "execution_count": 29,
   "id": "81d91d4e-3244-4ffe-990b-67bd2d74f0a5",
   "metadata": {},
   "outputs": [
    {
     "data": {
      "text/html": [
       "<div class='datatable'>\n",
       "  <table class='frame'>\n",
       "  <thead>\n",
       "    <tr class='colnames'><td class='row_index'></td><th>longitude</th><th>latitude</th><th>housing_median_age</th><th>total_rooms</th><th>total_bedrooms</th><th>population</th><th>households</th><th>median_income</th><th>median_house_value</th><th>ocean_proximity</th></tr>\n",
       "    <tr class='coltypes'><td class='row_index'></td><td class='float' title='float64'>&#x25AA;&#x25AA;&#x25AA;&#x25AA;&#x25AA;&#x25AA;&#x25AA;&#x25AA;</td><td class='float' title='float64'>&#x25AA;&#x25AA;&#x25AA;&#x25AA;&#x25AA;&#x25AA;&#x25AA;&#x25AA;</td><td class='int' title='int32'>&#x25AA;&#x25AA;&#x25AA;&#x25AA;</td><td class='int' title='int32'>&#x25AA;&#x25AA;&#x25AA;&#x25AA;</td><td class='int' title='int32'>&#x25AA;&#x25AA;&#x25AA;&#x25AA;</td><td class='int' title='int32'>&#x25AA;&#x25AA;&#x25AA;&#x25AA;</td><td class='int' title='int32'>&#x25AA;&#x25AA;&#x25AA;&#x25AA;</td><td class='float' title='float64'>&#x25AA;&#x25AA;&#x25AA;&#x25AA;&#x25AA;&#x25AA;&#x25AA;&#x25AA;</td><td class='int' title='int32'>&#x25AA;&#x25AA;&#x25AA;&#x25AA;</td><td class='str' title='str32'>&#x25AA;&#x25AA;&#x25AA;&#x25AA;</td></tr>\n",
       "  </thead>\n",
       "  <tbody>\n",
       "    <tr><td class='row_index'>0</td><td>&minus;122.23</td><td>37.88</td><td>41</td><td>880</td><td>129</td><td>322</td><td>126</td><td>8.3252</td><td>452600</td><td>NEAR BAY</td></tr>\n",
       "    <tr><td class='row_index'>1</td><td>&minus;122.22</td><td>37.86</td><td>21</td><td>7099</td><td>1106</td><td>2401</td><td>1138</td><td>8.3014</td><td>358500</td><td>NEAR BAY</td></tr>\n",
       "    <tr><td class='row_index'>2</td><td>&minus;122.24</td><td>37.85</td><td>52</td><td>1467</td><td>190</td><td>496</td><td>177</td><td>7.2574</td><td>352100</td><td>NEAR BAY</td></tr>\n",
       "    <tr><td class='row_index'>3</td><td>&minus;122.25</td><td>37.85</td><td>52</td><td>1274</td><td>235</td><td>558</td><td>219</td><td>5.6431</td><td>341300</td><td>NEAR BAY</td></tr>\n",
       "    <tr><td class='row_index'>4</td><td>&minus;122.25</td><td>37.85</td><td>52</td><td>1627</td><td>280</td><td>565</td><td>259</td><td>3.8462</td><td>342200</td><td>NEAR BAY</td></tr>\n",
       "    <tr><td class='row_index'>5</td><td>&minus;122.25</td><td>37.85</td><td>52</td><td>919</td><td>213</td><td>413</td><td>193</td><td>4.0368</td><td>269700</td><td>NEAR BAY</td></tr>\n",
       "    <tr><td class='row_index'>6</td><td>&minus;122.25</td><td>37.84</td><td>52</td><td>2535</td><td>489</td><td>1094</td><td>514</td><td>3.6591</td><td>299200</td><td>NEAR BAY</td></tr>\n",
       "    <tr><td class='row_index'>7</td><td>&minus;122.25</td><td>37.84</td><td>52</td><td>3104</td><td>687</td><td>1157</td><td>647</td><td>3.12</td><td>241400</td><td>NEAR BAY</td></tr>\n",
       "    <tr><td class='row_index'>8</td><td>&minus;122.26</td><td>37.84</td><td>42</td><td>2555</td><td>665</td><td>1206</td><td>595</td><td>2.0804</td><td>226700</td><td>NEAR BAY</td></tr>\n",
       "    <tr><td class='row_index'>9</td><td>&minus;122.25</td><td>37.84</td><td>52</td><td>3549</td><td>707</td><td>1551</td><td>714</td><td>3.6912</td><td>261100</td><td>NEAR BAY</td></tr>\n",
       "    <tr><td class='row_index'>10</td><td>&minus;122.26</td><td>37.85</td><td>52</td><td>2202</td><td>434</td><td>910</td><td>402</td><td>3.2031</td><td>281500</td><td>NEAR BAY</td></tr>\n",
       "    <tr><td class='row_index'>11</td><td>&minus;122.26</td><td>37.85</td><td>52</td><td>3503</td><td>752</td><td>1504</td><td>734</td><td>3.2705</td><td>241800</td><td>NEAR BAY</td></tr>\n",
       "    <tr><td class='row_index'>12</td><td>&minus;122.26</td><td>37.85</td><td>52</td><td>2491</td><td>474</td><td>1098</td><td>468</td><td>3.075</td><td>213500</td><td>NEAR BAY</td></tr>\n",
       "    <tr><td class='row_index'>13</td><td>&minus;122.26</td><td>37.84</td><td>52</td><td>696</td><td>191</td><td>345</td><td>174</td><td>2.6736</td><td>191300</td><td>NEAR BAY</td></tr>\n",
       "    <tr><td class='row_index'>14</td><td>&minus;122.26</td><td>37.85</td><td>52</td><td>2643</td><td>626</td><td>1212</td><td>620</td><td>1.9167</td><td>159200</td><td>NEAR BAY</td></tr>\n",
       "  </tbody>\n",
       "  </table>\n",
       "  <div class='footer'>\n",
       "    <div class='frame_dimensions'>15 rows &times; 10 columns</div>\n",
       "  </div>\n",
       "</div>\n"
      ],
      "text/plain": [
       "<Frame#1ed012c8b10 15x10>"
      ]
     },
     "execution_count": 29,
     "metadata": {},
     "output_type": "execute_result"
    }
   ],
   "source": [
    "#Head\n",
    "df.head(15)"
   ]
  },
  {
   "cell_type": "code",
   "execution_count": 30,
   "id": "0f80e989-1b20-4c98-a4b5-ebb903e87539",
   "metadata": {},
   "outputs": [
    {
     "data": {
      "text/plain": [
       "('longitude',\n",
       " 'latitude',\n",
       " 'housing_median_age',\n",
       " 'total_rooms',\n",
       " 'total_bedrooms',\n",
       " 'population',\n",
       " 'households',\n",
       " 'median_income',\n",
       " 'median_house_value',\n",
       " 'ocean_proximity')"
      ]
     },
     "execution_count": 30,
     "metadata": {},
     "output_type": "execute_result"
    }
   ],
   "source": [
    "# Columns Names\n",
    "\n",
    "df.names"
   ]
  },
  {
   "cell_type": "code",
   "execution_count": 31,
   "id": "589edec2-ce8b-42b5-bb2a-7722e6c16f1c",
   "metadata": {},
   "outputs": [
    {
     "data": {
      "text/plain": [
       "(stype.float64,\n",
       " stype.float64,\n",
       " stype.int32,\n",
       " stype.int32,\n",
       " stype.int32,\n",
       " stype.int32,\n",
       " stype.int32,\n",
       " stype.float64,\n",
       " stype.int32,\n",
       " stype.str32)"
      ]
     },
     "execution_count": 31,
     "metadata": {},
     "output_type": "execute_result"
    }
   ],
   "source": [
    "# Datatypes in pandas \n",
    "# df.dtypes\n",
    "# Datatypes \n",
    "\n",
    "df.stypes"
   ]
  },
  {
   "cell_type": "code",
   "execution_count": 32,
   "id": "31a199ae-40fd-4f24-bb43-811a6e7a03c9",
   "metadata": {},
   "outputs": [
    {
     "data": {
      "text/plain": [
       "2"
      ]
     },
     "execution_count": 32,
     "metadata": {},
     "output_type": "execute_result"
    }
   ],
   "source": [
    "# Check Dimension\n",
    "\n",
    "df.ndims"
   ]
  },
  {
   "cell_type": "code",
   "execution_count": 33,
   "id": "a0cb218b-4307-49ad-b391-9b78e7d73f06",
   "metadata": {},
   "outputs": [
    {
     "data": {
      "text/html": [
       "<div class='datatable'>\n",
       "  <table class='frame'>\n",
       "  <thead>\n",
       "    <tr class='colnames'><td class='row_index'></td><th>longitude</th><th>latitude</th><th>housing_median_age</th><th>total_rooms</th><th>total_bedrooms</th><th>population</th><th>households</th><th>median_income</th><th>median_house_value</th><th>ocean_proximity</th></tr>\n",
       "    <tr class='coltypes'><td class='row_index'></td><td class='int' title='int64'>&#x25AA;&#x25AA;&#x25AA;&#x25AA;&#x25AA;&#x25AA;&#x25AA;&#x25AA;</td><td class='int' title='int64'>&#x25AA;&#x25AA;&#x25AA;&#x25AA;&#x25AA;&#x25AA;&#x25AA;&#x25AA;</td><td class='int' title='int64'>&#x25AA;&#x25AA;&#x25AA;&#x25AA;&#x25AA;&#x25AA;&#x25AA;&#x25AA;</td><td class='int' title='int64'>&#x25AA;&#x25AA;&#x25AA;&#x25AA;&#x25AA;&#x25AA;&#x25AA;&#x25AA;</td><td class='int' title='int64'>&#x25AA;&#x25AA;&#x25AA;&#x25AA;&#x25AA;&#x25AA;&#x25AA;&#x25AA;</td><td class='int' title='int64'>&#x25AA;&#x25AA;&#x25AA;&#x25AA;&#x25AA;&#x25AA;&#x25AA;&#x25AA;</td><td class='int' title='int64'>&#x25AA;&#x25AA;&#x25AA;&#x25AA;&#x25AA;&#x25AA;&#x25AA;&#x25AA;</td><td class='int' title='int64'>&#x25AA;&#x25AA;&#x25AA;&#x25AA;&#x25AA;&#x25AA;&#x25AA;&#x25AA;</td><td class='int' title='int64'>&#x25AA;&#x25AA;&#x25AA;&#x25AA;&#x25AA;&#x25AA;&#x25AA;&#x25AA;</td><td class='int' title='int64'>&#x25AA;&#x25AA;&#x25AA;&#x25AA;&#x25AA;&#x25AA;&#x25AA;&#x25AA;</td></tr>\n",
       "  </thead>\n",
       "  <tbody>\n",
       "    <tr><td class='row_index'>0</td><td>0</td><td>0</td><td>0</td><td>0</td><td>207</td><td>0</td><td>0</td><td>0</td><td>0</td><td>0</td></tr>\n",
       "  </tbody>\n",
       "  </table>\n",
       "  <div class='footer'>\n",
       "    <div class='frame_dimensions'>1 row &times; 10 columns</div>\n",
       "  </div>\n",
       "</div>\n"
      ],
      "text/plain": [
       "<Frame#1ed012c9f50 1x10>"
      ]
     },
     "execution_count": 33,
     "metadata": {},
     "output_type": "execute_result"
    }
   ],
   "source": [
    "# Missing values in pandas \n",
    "## df.isna()\n",
    "# Missing values \n",
    "\n",
    "df.countna()"
   ]
  },
  {
   "cell_type": "code",
   "execution_count": 34,
   "id": "85fc6456-d009-44d9-8721-0277f3308882",
   "metadata": {},
   "outputs": [
    {
     "data": {
      "text/plain": [
       "(ltype.real,\n",
       " ltype.real,\n",
       " ltype.int,\n",
       " ltype.int,\n",
       " ltype.int,\n",
       " ltype.int,\n",
       " ltype.int,\n",
       " ltype.real,\n",
       " ltype.int,\n",
       " ltype.str)"
      ]
     },
     "execution_count": 34,
     "metadata": {},
     "output_type": "execute_result"
    }
   ],
   "source": [
    "# check for Datatypes\n",
    "\n",
    "df.ltypes"
   ]
  },
  {
   "cell_type": "code",
   "execution_count": 35,
   "id": "6f3c95e9-c1a7-4556-b444-a0c4a2665eee",
   "metadata": {},
   "outputs": [
    {
     "name": "stderr",
     "output_type": "stream",
     "text": [
      "C:\\Users\\parul\\AppData\\Local\\Temp\\ipykernel_27144\\2118411210.py:3: DeprecationWarning: Importing display from IPython.core.display is deprecated since IPython 7.14, please import from IPython display\n",
      "  df.view()\n"
     ]
    },
    {
     "data": {
      "text/html": [
       "<div class='datatable'>\n",
       "  <table class='frame'>\n",
       "  <thead>\n",
       "    <tr class='colnames'><td class='row_index'></td><th>longitude</th><th>latitude</th><th>housing_median_age</th><th>total_rooms</th><th>total_bedrooms</th><th>population</th><th>households</th><th>median_income</th><th>median_house_value</th><th>ocean_proximity</th></tr>\n",
       "    <tr class='coltypes'><td class='row_index'></td><td class='float' title='float64'>&#x25AA;&#x25AA;&#x25AA;&#x25AA;&#x25AA;&#x25AA;&#x25AA;&#x25AA;</td><td class='float' title='float64'>&#x25AA;&#x25AA;&#x25AA;&#x25AA;&#x25AA;&#x25AA;&#x25AA;&#x25AA;</td><td class='int' title='int32'>&#x25AA;&#x25AA;&#x25AA;&#x25AA;</td><td class='int' title='int32'>&#x25AA;&#x25AA;&#x25AA;&#x25AA;</td><td class='int' title='int32'>&#x25AA;&#x25AA;&#x25AA;&#x25AA;</td><td class='int' title='int32'>&#x25AA;&#x25AA;&#x25AA;&#x25AA;</td><td class='int' title='int32'>&#x25AA;&#x25AA;&#x25AA;&#x25AA;</td><td class='float' title='float64'>&#x25AA;&#x25AA;&#x25AA;&#x25AA;&#x25AA;&#x25AA;&#x25AA;&#x25AA;</td><td class='int' title='int32'>&#x25AA;&#x25AA;&#x25AA;&#x25AA;</td><td class='str' title='str32'>&#x25AA;&#x25AA;&#x25AA;&#x25AA;</td></tr>\n",
       "  </thead>\n",
       "  <tbody>\n",
       "    <tr><td class='row_index'>0</td><td>&minus;122.23</td><td>37.88</td><td>41</td><td>880</td><td>129</td><td>322</td><td>126</td><td>8.3252</td><td>452600</td><td>NEAR BAY</td></tr>\n",
       "    <tr><td class='row_index'>1</td><td>&minus;122.22</td><td>37.86</td><td>21</td><td>7099</td><td>1106</td><td>2401</td><td>1138</td><td>8.3014</td><td>358500</td><td>NEAR BAY</td></tr>\n",
       "    <tr><td class='row_index'>2</td><td>&minus;122.24</td><td>37.85</td><td>52</td><td>1467</td><td>190</td><td>496</td><td>177</td><td>7.2574</td><td>352100</td><td>NEAR BAY</td></tr>\n",
       "    <tr><td class='row_index'>3</td><td>&minus;122.25</td><td>37.85</td><td>52</td><td>1274</td><td>235</td><td>558</td><td>219</td><td>5.6431</td><td>341300</td><td>NEAR BAY</td></tr>\n",
       "    <tr><td class='row_index'>4</td><td>&minus;122.25</td><td>37.85</td><td>52</td><td>1627</td><td>280</td><td>565</td><td>259</td><td>3.8462</td><td>342200</td><td>NEAR BAY</td></tr>\n",
       "    <tr><td class='row_index'>5</td><td>&minus;122.25</td><td>37.85</td><td>52</td><td>919</td><td>213</td><td>413</td><td>193</td><td>4.0368</td><td>269700</td><td>NEAR BAY</td></tr>\n",
       "    <tr><td class='row_index'>6</td><td>&minus;122.25</td><td>37.84</td><td>52</td><td>2535</td><td>489</td><td>1094</td><td>514</td><td>3.6591</td><td>299200</td><td>NEAR BAY</td></tr>\n",
       "    <tr><td class='row_index'>7</td><td>&minus;122.25</td><td>37.84</td><td>52</td><td>3104</td><td>687</td><td>1157</td><td>647</td><td>3.12</td><td>241400</td><td>NEAR BAY</td></tr>\n",
       "    <tr><td class='row_index'>8</td><td>&minus;122.26</td><td>37.84</td><td>42</td><td>2555</td><td>665</td><td>1206</td><td>595</td><td>2.0804</td><td>226700</td><td>NEAR BAY</td></tr>\n",
       "    <tr><td class='row_index'>9</td><td>&minus;122.25</td><td>37.84</td><td>52</td><td>3549</td><td>707</td><td>1551</td><td>714</td><td>3.6912</td><td>261100</td><td>NEAR BAY</td></tr>\n",
       "    <tr><td class='row_index'>10</td><td>&minus;122.26</td><td>37.85</td><td>52</td><td>2202</td><td>434</td><td>910</td><td>402</td><td>3.2031</td><td>281500</td><td>NEAR BAY</td></tr>\n",
       "    <tr><td class='row_index'>11</td><td>&minus;122.26</td><td>37.85</td><td>52</td><td>3503</td><td>752</td><td>1504</td><td>734</td><td>3.2705</td><td>241800</td><td>NEAR BAY</td></tr>\n",
       "    <tr><td class='row_index'>12</td><td>&minus;122.26</td><td>37.85</td><td>52</td><td>2491</td><td>474</td><td>1098</td><td>468</td><td>3.075</td><td>213500</td><td>NEAR BAY</td></tr>\n",
       "    <tr><td class='row_index'>13</td><td>&minus;122.26</td><td>37.84</td><td>52</td><td>696</td><td>191</td><td>345</td><td>174</td><td>2.6736</td><td>191300</td><td>NEAR BAY</td></tr>\n",
       "    <tr><td class='row_index'>14</td><td>&minus;122.26</td><td>37.85</td><td>52</td><td>2643</td><td>626</td><td>1212</td><td>620</td><td>1.9167</td><td>159200</td><td>NEAR BAY</td></tr>\n",
       "    <tr><td class='row_index'>&#x22EE;</td><td class='hellipsis'>&#x22EE;</td><td class='hellipsis'>&#x22EE;</td><td class='hellipsis'>&#x22EE;</td><td class='hellipsis'>&#x22EE;</td><td class='hellipsis'>&#x22EE;</td><td class='hellipsis'>&#x22EE;</td><td class='hellipsis'>&#x22EE;</td><td class='hellipsis'>&#x22EE;</td><td class='hellipsis'>&#x22EE;</td><td class='hellipsis'>&#x22EE;</td></tr>\n",
       "    <tr><td class='row_index'>20,635</td><td>&minus;121.09</td><td>39.48</td><td>25</td><td>1665</td><td>374</td><td>845</td><td>330</td><td>1.5603</td><td>78100</td><td>INLAND</td></tr>\n",
       "    <tr><td class='row_index'>20,636</td><td>&minus;121.21</td><td>39.49</td><td>18</td><td>697</td><td>150</td><td>356</td><td>114</td><td>2.5568</td><td>77100</td><td>INLAND</td></tr>\n",
       "    <tr><td class='row_index'>20,637</td><td>&minus;121.22</td><td>39.43</td><td>17</td><td>2254</td><td>485</td><td>1007</td><td>433</td><td>1.7</td><td>92300</td><td>INLAND</td></tr>\n",
       "    <tr><td class='row_index'>20,638</td><td>&minus;121.32</td><td>39.43</td><td>18</td><td>1860</td><td>409</td><td>741</td><td>349</td><td>1.8672</td><td>84700</td><td>INLAND</td></tr>\n",
       "    <tr><td class='row_index'>20,639</td><td>&minus;121.24</td><td>39.37</td><td>16</td><td>2785</td><td>616</td><td>1387</td><td>530</td><td>2.3886</td><td>89400</td><td>INLAND</td></tr>\n",
       "  </tbody>\n",
       "  </table>\n",
       "  <div class='footer'>\n",
       "    <div class='frame_dimensions'>20,640 rows &times; 10 columns</div>\n",
       "  </div>\n",
       "</div>\n"
      ],
      "text/plain": [
       "<IPython.core.display.HTML object>"
      ]
     },
     "metadata": {},
     "output_type": "display_data"
    }
   ],
   "source": [
    "#Preview\n",
    "\n",
    "df.view()"
   ]
  },
  {
   "cell_type": "code",
   "execution_count": 36,
   "id": "99da08fd-751c-448e-8ead-9d39821544c0",
   "metadata": {},
   "outputs": [
    {
     "data": {
      "text/html": [
       "<div class='datatable'>\n",
       "  <table class='frame'>\n",
       "  <thead>\n",
       "    <tr class='colnames'><td class='row_index'></td><th>latitude</th></tr>\n",
       "    <tr class='coltypes'><td class='row_index'></td><td class='float' title='float64'>&#x25AA;&#x25AA;&#x25AA;&#x25AA;&#x25AA;&#x25AA;&#x25AA;&#x25AA;</td></tr>\n",
       "  </thead>\n",
       "  <tbody>\n",
       "    <tr><td class='row_index'>0</td><td>37.88</td></tr>\n",
       "    <tr><td class='row_index'>1</td><td>37.86</td></tr>\n",
       "    <tr><td class='row_index'>2</td><td>37.85</td></tr>\n",
       "    <tr><td class='row_index'>3</td><td>37.85</td></tr>\n",
       "    <tr><td class='row_index'>4</td><td>37.85</td></tr>\n",
       "    <tr><td class='row_index'>5</td><td>37.85</td></tr>\n",
       "    <tr><td class='row_index'>6</td><td>37.84</td></tr>\n",
       "    <tr><td class='row_index'>7</td><td>37.84</td></tr>\n",
       "    <tr><td class='row_index'>8</td><td>37.84</td></tr>\n",
       "    <tr><td class='row_index'>9</td><td>37.84</td></tr>\n",
       "    <tr><td class='row_index'>10</td><td>37.85</td></tr>\n",
       "    <tr><td class='row_index'>11</td><td>37.85</td></tr>\n",
       "    <tr><td class='row_index'>12</td><td>37.85</td></tr>\n",
       "    <tr><td class='row_index'>13</td><td>37.84</td></tr>\n",
       "    <tr><td class='row_index'>14</td><td>37.85</td></tr>\n",
       "    <tr><td class='row_index'>&#x22EE;</td><td class='hellipsis'>&#x22EE;</td></tr>\n",
       "    <tr><td class='row_index'>20,635</td><td>39.48</td></tr>\n",
       "    <tr><td class='row_index'>20,636</td><td>39.49</td></tr>\n",
       "    <tr><td class='row_index'>20,637</td><td>39.43</td></tr>\n",
       "    <tr><td class='row_index'>20,638</td><td>39.43</td></tr>\n",
       "    <tr><td class='row_index'>20,639</td><td>39.37</td></tr>\n",
       "  </tbody>\n",
       "  </table>\n",
       "  <div class='footer'>\n",
       "    <div class='frame_dimensions'>20,640 rows &times; 1 column</div>\n",
       "  </div>\n",
       "</div>\n"
      ],
      "text/plain": [
       "<Frame#1ed012c9080 20640x1>"
      ]
     },
     "execution_count": 36,
     "metadata": {},
     "output_type": "execute_result"
    }
   ],
   "source": [
    "## Select coloumns and rows\n",
    "# DT[i,j,..]\n",
    "# DT[row_selector,coloumn_selector,..]\n",
    "#Select column by index\n",
    "#in pandas ---> df.iloc[:,1]\n",
    "\n",
    "df[1]"
   ]
  },
  {
   "cell_type": "code",
   "execution_count": 38,
   "id": "0d14b8c5-a552-468b-a126-3c6d4184b50a",
   "metadata": {},
   "outputs": [
    {
     "data": {
      "text/html": [
       "<div class='datatable'>\n",
       "  <table class='frame'>\n",
       "  <thead>\n",
       "    <tr class='colnames'><td class='row_index'></td><th>total_rooms</th></tr>\n",
       "    <tr class='coltypes'><td class='row_index'></td><td class='int' title='int32'>&#x25AA;&#x25AA;&#x25AA;&#x25AA;</td></tr>\n",
       "  </thead>\n",
       "  <tbody>\n",
       "    <tr><td class='row_index'>0</td><td>880</td></tr>\n",
       "    <tr><td class='row_index'>1</td><td>7099</td></tr>\n",
       "    <tr><td class='row_index'>2</td><td>1467</td></tr>\n",
       "    <tr><td class='row_index'>3</td><td>1274</td></tr>\n",
       "    <tr><td class='row_index'>4</td><td>1627</td></tr>\n",
       "    <tr><td class='row_index'>5</td><td>919</td></tr>\n",
       "    <tr><td class='row_index'>6</td><td>2535</td></tr>\n",
       "    <tr><td class='row_index'>7</td><td>3104</td></tr>\n",
       "    <tr><td class='row_index'>8</td><td>2555</td></tr>\n",
       "    <tr><td class='row_index'>9</td><td>3549</td></tr>\n",
       "    <tr><td class='row_index'>10</td><td>2202</td></tr>\n",
       "    <tr><td class='row_index'>11</td><td>3503</td></tr>\n",
       "    <tr><td class='row_index'>12</td><td>2491</td></tr>\n",
       "    <tr><td class='row_index'>13</td><td>696</td></tr>\n",
       "    <tr><td class='row_index'>14</td><td>2643</td></tr>\n",
       "    <tr><td class='row_index'>&#x22EE;</td><td class='hellipsis'>&#x22EE;</td></tr>\n",
       "    <tr><td class='row_index'>20,635</td><td>1665</td></tr>\n",
       "    <tr><td class='row_index'>20,636</td><td>697</td></tr>\n",
       "    <tr><td class='row_index'>20,637</td><td>2254</td></tr>\n",
       "    <tr><td class='row_index'>20,638</td><td>1860</td></tr>\n",
       "    <tr><td class='row_index'>20,639</td><td>2785</td></tr>\n",
       "  </tbody>\n",
       "  </table>\n",
       "  <div class='footer'>\n",
       "    <div class='frame_dimensions'>20,640 rows &times; 1 column</div>\n",
       "  </div>\n",
       "</div>\n"
      ],
      "text/plain": [
       "<Frame#1ed012c7b70 20640x1>"
      ]
     },
     "execution_count": 38,
     "metadata": {},
     "output_type": "execute_result"
    }
   ],
   "source": [
    "#Select column by name\n",
    "#in pandas ---> df.iloc[:,1]    for multiple column  df.loc[:,[\"cl1\",\"cl2\"]\n",
    "\n",
    "df[\"total_rooms\"]"
   ]
  },
  {
   "cell_type": "code",
   "execution_count": 39,
   "id": "9ac17188-85f7-45ac-8be7-6c81da81d1e5",
   "metadata": {},
   "outputs": [
    {
     "data": {
      "text/html": [
       "<div class='datatable'>\n",
       "  <table class='frame'>\n",
       "  <thead>\n",
       "    <tr class='colnames'><td class='row_index'></td><th>housing_median_age</th></tr>\n",
       "    <tr class='coltypes'><td class='row_index'></td><td class='int' title='int32'>&#x25AA;&#x25AA;&#x25AA;&#x25AA;</td></tr>\n",
       "  </thead>\n",
       "  <tbody>\n",
       "    <tr><td class='row_index'>0</td><td>41</td></tr>\n",
       "    <tr><td class='row_index'>1</td><td>21</td></tr>\n",
       "    <tr><td class='row_index'>2</td><td>52</td></tr>\n",
       "    <tr><td class='row_index'>3</td><td>52</td></tr>\n",
       "    <tr><td class='row_index'>4</td><td>52</td></tr>\n",
       "    <tr><td class='row_index'>5</td><td>52</td></tr>\n",
       "    <tr><td class='row_index'>6</td><td>52</td></tr>\n",
       "    <tr><td class='row_index'>7</td><td>52</td></tr>\n",
       "    <tr><td class='row_index'>8</td><td>42</td></tr>\n",
       "    <tr><td class='row_index'>9</td><td>52</td></tr>\n",
       "    <tr><td class='row_index'>10</td><td>52</td></tr>\n",
       "    <tr><td class='row_index'>11</td><td>52</td></tr>\n",
       "    <tr><td class='row_index'>12</td><td>52</td></tr>\n",
       "    <tr><td class='row_index'>13</td><td>52</td></tr>\n",
       "    <tr><td class='row_index'>14</td><td>52</td></tr>\n",
       "    <tr><td class='row_index'>&#x22EE;</td><td class='hellipsis'>&#x22EE;</td></tr>\n",
       "    <tr><td class='row_index'>20,635</td><td>25</td></tr>\n",
       "    <tr><td class='row_index'>20,636</td><td>18</td></tr>\n",
       "    <tr><td class='row_index'>20,637</td><td>17</td></tr>\n",
       "    <tr><td class='row_index'>20,638</td><td>18</td></tr>\n",
       "    <tr><td class='row_index'>20,639</td><td>16</td></tr>\n",
       "  </tbody>\n",
       "  </table>\n",
       "  <div class='footer'>\n",
       "    <div class='frame_dimensions'>20,640 rows &times; 1 column</div>\n",
       "  </div>\n",
       "</div>\n"
      ],
      "text/plain": [
       "<Frame#1ed012c6dc0 20640x1>"
      ]
     },
     "execution_count": 39,
     "metadata": {},
     "output_type": "execute_result"
    }
   ],
   "source": [
    "df[:,2]"
   ]
  },
  {
   "cell_type": "code",
   "execution_count": 41,
   "id": "cdc54667-4bdd-4ac9-8e84-a05ffc7c5bbc",
   "metadata": {},
   "outputs": [
    {
     "data": {
      "text/html": [
       "<div class='datatable'>\n",
       "  <table class='frame'>\n",
       "  <thead>\n",
       "    <tr class='colnames'><td class='row_index'></td><th>households</th><th>median_income</th></tr>\n",
       "    <tr class='coltypes'><td class='row_index'></td><td class='int' title='int32'>&#x25AA;&#x25AA;&#x25AA;&#x25AA;</td><td class='float' title='float64'>&#x25AA;&#x25AA;&#x25AA;&#x25AA;&#x25AA;&#x25AA;&#x25AA;&#x25AA;</td></tr>\n",
       "  </thead>\n",
       "  <tbody>\n",
       "    <tr><td class='row_index'>0</td><td>126</td><td>8.3252</td></tr>\n",
       "    <tr><td class='row_index'>1</td><td>1138</td><td>8.3014</td></tr>\n",
       "    <tr><td class='row_index'>2</td><td>177</td><td>7.2574</td></tr>\n",
       "    <tr><td class='row_index'>3</td><td>219</td><td>5.6431</td></tr>\n",
       "    <tr><td class='row_index'>4</td><td>259</td><td>3.8462</td></tr>\n",
       "    <tr><td class='row_index'>5</td><td>193</td><td>4.0368</td></tr>\n",
       "    <tr><td class='row_index'>6</td><td>514</td><td>3.6591</td></tr>\n",
       "    <tr><td class='row_index'>7</td><td>647</td><td>3.12</td></tr>\n",
       "    <tr><td class='row_index'>8</td><td>595</td><td>2.0804</td></tr>\n",
       "    <tr><td class='row_index'>9</td><td>714</td><td>3.6912</td></tr>\n",
       "    <tr><td class='row_index'>10</td><td>402</td><td>3.2031</td></tr>\n",
       "    <tr><td class='row_index'>11</td><td>734</td><td>3.2705</td></tr>\n",
       "    <tr><td class='row_index'>12</td><td>468</td><td>3.075</td></tr>\n",
       "    <tr><td class='row_index'>13</td><td>174</td><td>2.6736</td></tr>\n",
       "    <tr><td class='row_index'>14</td><td>620</td><td>1.9167</td></tr>\n",
       "    <tr><td class='row_index'>&#x22EE;</td><td class='hellipsis'>&#x22EE;</td><td class='hellipsis'>&#x22EE;</td></tr>\n",
       "    <tr><td class='row_index'>20,635</td><td>330</td><td>1.5603</td></tr>\n",
       "    <tr><td class='row_index'>20,636</td><td>114</td><td>2.5568</td></tr>\n",
       "    <tr><td class='row_index'>20,637</td><td>433</td><td>1.7</td></tr>\n",
       "    <tr><td class='row_index'>20,638</td><td>349</td><td>1.8672</td></tr>\n",
       "    <tr><td class='row_index'>20,639</td><td>530</td><td>2.3886</td></tr>\n",
       "  </tbody>\n",
       "  </table>\n",
       "  <div class='footer'>\n",
       "    <div class='frame_dimensions'>20,640 rows &times; 2 columns</div>\n",
       "  </div>\n",
       "</div>\n"
      ],
      "text/plain": [
       "<Frame#1ed012e3e70 20640x2>"
      ]
     },
     "execution_count": 41,
     "metadata": {},
     "output_type": "execute_result"
    }
   ],
   "source": [
    "#Select multiple columns\n",
    "\n",
    "df[:,[\"households\",\t\"median_income\"]]"
   ]
  },
  {
   "cell_type": "code",
   "execution_count": 42,
   "id": "e9e73a09-1ef5-4933-8f91-9c765f227b13",
   "metadata": {},
   "outputs": [
    {
     "data": {
      "text/html": [
       "<div class='datatable'>\n",
       "  <table class='frame'>\n",
       "  <thead>\n",
       "    <tr class='colnames'><td class='row_index'></td><th>longitude</th><th>latitude</th><th>housing_median_age</th><th>total_rooms</th><th>total_bedrooms</th><th>population</th><th>households</th><th>median_income</th><th>median_house_value</th><th>ocean_proximity</th></tr>\n",
       "    <tr class='coltypes'><td class='row_index'></td><td class='float' title='float64'>&#x25AA;&#x25AA;&#x25AA;&#x25AA;&#x25AA;&#x25AA;&#x25AA;&#x25AA;</td><td class='float' title='float64'>&#x25AA;&#x25AA;&#x25AA;&#x25AA;&#x25AA;&#x25AA;&#x25AA;&#x25AA;</td><td class='int' title='int32'>&#x25AA;&#x25AA;&#x25AA;&#x25AA;</td><td class='int' title='int32'>&#x25AA;&#x25AA;&#x25AA;&#x25AA;</td><td class='int' title='int32'>&#x25AA;&#x25AA;&#x25AA;&#x25AA;</td><td class='int' title='int32'>&#x25AA;&#x25AA;&#x25AA;&#x25AA;</td><td class='int' title='int32'>&#x25AA;&#x25AA;&#x25AA;&#x25AA;</td><td class='float' title='float64'>&#x25AA;&#x25AA;&#x25AA;&#x25AA;&#x25AA;&#x25AA;&#x25AA;&#x25AA;</td><td class='int' title='int32'>&#x25AA;&#x25AA;&#x25AA;&#x25AA;</td><td class='str' title='str32'>&#x25AA;&#x25AA;&#x25AA;&#x25AA;</td></tr>\n",
       "  </thead>\n",
       "  <tbody>\n",
       "    <tr><td class='row_index'>0</td><td>&minus;122.23</td><td>37.88</td><td>41</td><td>880</td><td>129</td><td>322</td><td>126</td><td>8.3252</td><td>452600</td><td>NEAR BAY</td></tr>\n",
       "  </tbody>\n",
       "  </table>\n",
       "  <div class='footer'>\n",
       "    <div class='frame_dimensions'>1 row &times; 10 columns</div>\n",
       "  </div>\n",
       "</div>\n"
      ],
      "text/plain": [
       "<Frame#1ed012e3cc0 1x10>"
      ]
     },
     "execution_count": 42,
     "metadata": {},
     "output_type": "execute_result"
    }
   ],
   "source": [
    "#Select row by index\n",
    "#in pandas ---> df.iloc[0]\n",
    "\n",
    "df[0,:]"
   ]
  },
  {
   "cell_type": "code",
   "execution_count": 44,
   "id": "39ef2d04-a494-445e-97c9-9647fba8782b",
   "metadata": {},
   "outputs": [
    {
     "data": {
      "text/html": [
       "<div class='datatable'>\n",
       "  <table class='frame'>\n",
       "  <thead>\n",
       "    <tr class='colnames'><td class='row_index'></td><th>total_bedrooms</th><th>population</th></tr>\n",
       "    <tr class='coltypes'><td class='row_index'></td><td class='int' title='int32'>&#x25AA;&#x25AA;&#x25AA;&#x25AA;</td><td class='int' title='int32'>&#x25AA;&#x25AA;&#x25AA;&#x25AA;</td></tr>\n",
       "  </thead>\n",
       "  <tbody>\n",
       "    <tr><td class='row_index'>0</td><td>129</td><td>322</td></tr>\n",
       "  </tbody>\n",
       "  </table>\n",
       "  <div class='footer'>\n",
       "    <div class='frame_dimensions'>1 row &times; 2 columns</div>\n",
       "  </div>\n",
       "</div>\n"
      ],
      "text/plain": [
       "<Frame#1ed012c9230 1x2>"
      ]
     },
     "execution_count": 44,
     "metadata": {},
     "output_type": "execute_result"
    }
   ],
   "source": [
    "df[0,[\"total_bedrooms\",\t\"population\"]]"
   ]
  },
  {
   "cell_type": "code",
   "execution_count": 45,
   "id": "fa93b47d-35f8-4bd4-abac-12a4d7c28f92",
   "metadata": {},
   "outputs": [
    {
     "data": {
      "text/html": [
       "<div class='datatable'>\n",
       "  <table class='frame'>\n",
       "  <thead>\n",
       "    <tr class='colnames'><td class='row_index'></td><th>longitude</th><th>latitude</th><th>housing_median_age</th><th>total_rooms</th><th>total_bedrooms</th><th>population</th><th>households</th><th>median_income</th><th>median_house_value</th><th>ocean_proximity</th></tr>\n",
       "    <tr class='coltypes'><td class='row_index'></td><td class='float' title='float64'>&#x25AA;&#x25AA;&#x25AA;&#x25AA;&#x25AA;&#x25AA;&#x25AA;&#x25AA;</td><td class='float' title='float64'>&#x25AA;&#x25AA;&#x25AA;&#x25AA;&#x25AA;&#x25AA;&#x25AA;&#x25AA;</td><td class='int' title='int32'>&#x25AA;&#x25AA;&#x25AA;&#x25AA;</td><td class='int' title='int32'>&#x25AA;&#x25AA;&#x25AA;&#x25AA;</td><td class='int' title='int32'>&#x25AA;&#x25AA;&#x25AA;&#x25AA;</td><td class='int' title='int32'>&#x25AA;&#x25AA;&#x25AA;&#x25AA;</td><td class='int' title='int32'>&#x25AA;&#x25AA;&#x25AA;&#x25AA;</td><td class='float' title='float64'>&#x25AA;&#x25AA;&#x25AA;&#x25AA;&#x25AA;&#x25AA;&#x25AA;&#x25AA;</td><td class='int' title='int32'>&#x25AA;&#x25AA;&#x25AA;&#x25AA;</td><td class='str' title='str32'>&#x25AA;&#x25AA;&#x25AA;&#x25AA;</td></tr>\n",
       "  </thead>\n",
       "  <tbody>\n",
       "    <tr><td class='row_index'>0</td><td>&minus;122.23</td><td>37.88</td><td>41</td><td>880</td><td>129</td><td>322</td><td>126</td><td>8.3252</td><td>452600</td><td>NEAR BAY</td></tr>\n",
       "    <tr><td class='row_index'>1</td><td>&minus;122.22</td><td>37.86</td><td>21</td><td>7099</td><td>1106</td><td>2401</td><td>1138</td><td>8.3014</td><td>358500</td><td>NEAR BAY</td></tr>\n",
       "    <tr><td class='row_index'>2</td><td>&minus;122.24</td><td>37.85</td><td>52</td><td>1467</td><td>190</td><td>496</td><td>177</td><td>7.2574</td><td>352100</td><td>NEAR BAY</td></tr>\n",
       "  </tbody>\n",
       "  </table>\n",
       "  <div class='footer'>\n",
       "    <div class='frame_dimensions'>3 rows &times; 10 columns</div>\n",
       "  </div>\n",
       "</div>\n"
      ],
      "text/plain": [
       "<Frame#1ed012c7570 3x10>"
      ]
     },
     "execution_count": 45,
     "metadata": {},
     "output_type": "execute_result"
    }
   ],
   "source": [
    "# selecting multiple rows\n",
    "\n",
    "df[0:3,:]"
   ]
  },
  {
   "cell_type": "code",
   "execution_count": 13,
   "id": "c81cf2e2-82e3-4e8e-b448-7474f9936efa",
   "metadata": {},
   "outputs": [
    {
     "data": {
      "text/html": [
       "<div class='datatable'>\n",
       "  <table class='frame'>\n",
       "  <thead>\n",
       "    <tr class='colnames'><td class='row_index'></td><th>latitude</th><th>housing_median_age</th></tr>\n",
       "    <tr class='coltypes'><td class='row_index'></td><td class='float' title='float64'>&#x25AA;&#x25AA;&#x25AA;&#x25AA;&#x25AA;&#x25AA;&#x25AA;&#x25AA;</td><td class='int' title='int32'>&#x25AA;&#x25AA;&#x25AA;&#x25AA;</td></tr>\n",
       "  </thead>\n",
       "  <tbody>\n",
       "    <tr><td class='row_index'>0</td><td>37.88</td><td>41</td></tr>\n",
       "    <tr><td class='row_index'>1</td><td>37.86</td><td>21</td></tr>\n",
       "    <tr><td class='row_index'>2</td><td>37.85</td><td>52</td></tr>\n",
       "  </tbody>\n",
       "  </table>\n",
       "  <div class='footer'>\n",
       "    <div class='frame_dimensions'>3 rows &times; 2 columns</div>\n",
       "  </div>\n",
       "</div>\n"
      ],
      "text/plain": [
       "<Frame#2a33cac2880 3x2>"
      ]
     },
     "execution_count": 13,
     "metadata": {},
     "output_type": "execute_result"
    }
   ],
   "source": [
    "#selecting multiple rows nd column \n",
    "df[0:3,[\"latitude\",\t\"housing_median_age\"]]"
   ]
  },
  {
   "cell_type": "code",
   "execution_count": 14,
   "id": "387d79d2-d377-46d0-876a-3e03be63f7ad",
   "metadata": {},
   "outputs": [
    {
     "data": {
      "text/html": [
       "<div class='datatable'>\n",
       "  <table class='frame'>\n",
       "  <thead>\n",
       "    <tr class='colnames'><td class='row_index'></td><th>population</th><th>households</th></tr>\n",
       "    <tr class='coltypes'><td class='row_index'></td><td class='int' title='int32'>&#x25AA;&#x25AA;&#x25AA;&#x25AA;</td><td class='int' title='int32'>&#x25AA;&#x25AA;&#x25AA;&#x25AA;</td></tr>\n",
       "  </thead>\n",
       "  <tbody>\n",
       "    <tr><td class='row_index'>0</td><td>322</td><td>126</td></tr>\n",
       "    <tr><td class='row_index'>1</td><td>496</td><td>177</td></tr>\n",
       "    <tr><td class='row_index'>2</td><td>413</td><td>193</td></tr>\n",
       "    <tr><td class='row_index'>3</td><td>910</td><td>402</td></tr>\n",
       "  </tbody>\n",
       "  </table>\n",
       "  <div class='footer'>\n",
       "    <div class='frame_dimensions'>4 rows &times; 2 columns</div>\n",
       "  </div>\n",
       "</div>\n"
      ],
      "text/plain": [
       "<Frame#2a33cac26d0 4x2>"
      ]
     },
     "execution_count": 14,
     "metadata": {},
     "output_type": "execute_result"
    }
   ],
   "source": [
    "# Selective Selection:-\n",
    "\n",
    "df[[0,2,5,10],[\"population\"\t,\"households\"]]"
   ]
  },
  {
   "cell_type": "code",
   "execution_count": 15,
   "id": "d72fa65f-70fd-4c6d-b027-7751a7c89b12",
   "metadata": {},
   "outputs": [
    {
     "data": {
      "text/plain": [
       "FExpr<f.data_value>"
      ]
     },
     "execution_count": 15,
     "metadata": {},
     "output_type": "execute_result"
    }
   ],
   "source": [
    "# F -expression/operator:-\n",
    "\n",
    "dt.f.data_value"
   ]
  },
  {
   "cell_type": "code",
   "execution_count": 17,
   "id": "f53695e7-7a57-4cd4-9c7c-dd192f9c37e6",
   "metadata": {},
   "outputs": [],
   "source": [
    "from datatable import f"
   ]
  },
  {
   "cell_type": "code",
   "execution_count": 18,
   "id": "ca288b3d-2f89-423e-aea5-1bba58fa0025",
   "metadata": {},
   "outputs": [
    {
     "data": {
      "text/plain": [
       "['__class__',\n",
       " '__delattr__',\n",
       " '__dir__',\n",
       " '__doc__',\n",
       " '__eq__',\n",
       " '__format__',\n",
       " '__ge__',\n",
       " '__getattribute__',\n",
       " '__getitem__',\n",
       " '__getstate__',\n",
       " '__gt__',\n",
       " '__hash__',\n",
       " '__init__',\n",
       " '__init_subclass__',\n",
       " '__le__',\n",
       " '__lt__',\n",
       " '__ne__',\n",
       " '__new__',\n",
       " '__reduce__',\n",
       " '__reduce_ex__',\n",
       " '__repr__',\n",
       " '__setattr__',\n",
       " '__sizeof__',\n",
       " '__str__',\n",
       " '__subclasshook__']"
      ]
     },
     "execution_count": 18,
     "metadata": {},
     "output_type": "execute_result"
    }
   ],
   "source": [
    "dir(f)"
   ]
  },
  {
   "cell_type": "code",
   "execution_count": 19,
   "id": "5272c6ae-18ad-4855-bd48-ce3272a4bac5",
   "metadata": {},
   "outputs": [
    {
     "data": {
      "text/html": [
       "<div class='datatable'>\n",
       "  <table class='frame'>\n",
       "  <thead>\n",
       "    <tr class='colnames'><td class='row_index'></td><th>ocean_proximity</th></tr>\n",
       "    <tr class='coltypes'><td class='row_index'></td><td class='str' title='str32'>&#x25AA;&#x25AA;&#x25AA;&#x25AA;</td></tr>\n",
       "  </thead>\n",
       "  <tbody>\n",
       "    <tr><td class='row_index'>0</td><td>NEAR BAY</td></tr>\n",
       "    <tr><td class='row_index'>1</td><td>NEAR BAY</td></tr>\n",
       "    <tr><td class='row_index'>2</td><td>NEAR BAY</td></tr>\n",
       "    <tr><td class='row_index'>3</td><td>NEAR BAY</td></tr>\n",
       "    <tr><td class='row_index'>4</td><td>NEAR BAY</td></tr>\n",
       "    <tr><td class='row_index'>5</td><td>NEAR BAY</td></tr>\n",
       "    <tr><td class='row_index'>6</td><td>NEAR BAY</td></tr>\n",
       "    <tr><td class='row_index'>7</td><td>NEAR BAY</td></tr>\n",
       "    <tr><td class='row_index'>8</td><td>NEAR BAY</td></tr>\n",
       "    <tr><td class='row_index'>9</td><td>NEAR BAY</td></tr>\n",
       "    <tr><td class='row_index'>10</td><td>NEAR BAY</td></tr>\n",
       "    <tr><td class='row_index'>11</td><td>NEAR BAY</td></tr>\n",
       "    <tr><td class='row_index'>12</td><td>NEAR BAY</td></tr>\n",
       "    <tr><td class='row_index'>13</td><td>NEAR BAY</td></tr>\n",
       "    <tr><td class='row_index'>14</td><td>NEAR BAY</td></tr>\n",
       "    <tr><td class='row_index'>&#x22EE;</td><td class='hellipsis'>&#x22EE;</td></tr>\n",
       "    <tr><td class='row_index'>20,635</td><td>INLAND</td></tr>\n",
       "    <tr><td class='row_index'>20,636</td><td>INLAND</td></tr>\n",
       "    <tr><td class='row_index'>20,637</td><td>INLAND</td></tr>\n",
       "    <tr><td class='row_index'>20,638</td><td>INLAND</td></tr>\n",
       "    <tr><td class='row_index'>20,639</td><td>INLAND</td></tr>\n",
       "  </tbody>\n",
       "  </table>\n",
       "  <div class='footer'>\n",
       "    <div class='frame_dimensions'>20,640 rows &times; 1 column</div>\n",
       "  </div>\n",
       "</div>\n"
      ],
      "text/plain": [
       "<Frame#2a33cac2ac0 20640x1>"
      ]
     },
     "execution_count": 19,
     "metadata": {},
     "output_type": "execute_result"
    }
   ],
   "source": [
    "df[\"ocean_proximity\"]"
   ]
  },
  {
   "cell_type": "code",
   "execution_count": 20,
   "id": "e7ed25f6-0ad2-444b-abcc-94e912d3f1df",
   "metadata": {},
   "outputs": [
    {
     "data": {
      "text/html": [
       "<div class='datatable'>\n",
       "  <table class='frame'>\n",
       "  <thead>\n",
       "    <tr class='colnames'><td class='row_index'></td><th>ocean_proximity</th></tr>\n",
       "    <tr class='coltypes'><td class='row_index'></td><td class='str' title='str32'>&#x25AA;&#x25AA;&#x25AA;&#x25AA;</td></tr>\n",
       "  </thead>\n",
       "  <tbody>\n",
       "    <tr><td class='row_index'>0</td><td>NEAR BAY</td></tr>\n",
       "    <tr><td class='row_index'>1</td><td>NEAR BAY</td></tr>\n",
       "    <tr><td class='row_index'>2</td><td>NEAR BAY</td></tr>\n",
       "    <tr><td class='row_index'>3</td><td>NEAR BAY</td></tr>\n",
       "    <tr><td class='row_index'>4</td><td>NEAR BAY</td></tr>\n",
       "    <tr><td class='row_index'>5</td><td>NEAR BAY</td></tr>\n",
       "    <tr><td class='row_index'>6</td><td>NEAR BAY</td></tr>\n",
       "    <tr><td class='row_index'>7</td><td>NEAR BAY</td></tr>\n",
       "    <tr><td class='row_index'>8</td><td>NEAR BAY</td></tr>\n",
       "    <tr><td class='row_index'>9</td><td>NEAR BAY</td></tr>\n",
       "    <tr><td class='row_index'>10</td><td>NEAR BAY</td></tr>\n",
       "    <tr><td class='row_index'>11</td><td>NEAR BAY</td></tr>\n",
       "    <tr><td class='row_index'>12</td><td>NEAR BAY</td></tr>\n",
       "    <tr><td class='row_index'>13</td><td>NEAR BAY</td></tr>\n",
       "    <tr><td class='row_index'>14</td><td>NEAR BAY</td></tr>\n",
       "    <tr><td class='row_index'>&#x22EE;</td><td class='hellipsis'>&#x22EE;</td></tr>\n",
       "    <tr><td class='row_index'>20,635</td><td>INLAND</td></tr>\n",
       "    <tr><td class='row_index'>20,636</td><td>INLAND</td></tr>\n",
       "    <tr><td class='row_index'>20,637</td><td>INLAND</td></tr>\n",
       "    <tr><td class='row_index'>20,638</td><td>INLAND</td></tr>\n",
       "    <tr><td class='row_index'>20,639</td><td>INLAND</td></tr>\n",
       "  </tbody>\n",
       "  </table>\n",
       "  <div class='footer'>\n",
       "    <div class='frame_dimensions'>20,640 rows &times; 1 column</div>\n",
       "  </div>\n",
       "</div>\n"
      ],
      "text/plain": [
       "<Frame#2a33cac27f0 20640x1>"
      ]
     },
     "execution_count": 20,
     "metadata": {},
     "output_type": "execute_result"
    }
   ],
   "source": [
    "# Select A column using F expression\n",
    "#Dot notation\n",
    "\n",
    "df[:,f.ocean_proximity]"
   ]
  },
  {
   "cell_type": "code",
   "execution_count": 21,
   "id": "4e5e8d86-27cd-43ef-8dc2-96642f0e3efc",
   "metadata": {},
   "outputs": [
    {
     "data": {
      "text/plain": [
       "['FExpr',\n",
       " 'Frame',\n",
       " 'Namespace',\n",
       " 'Type',\n",
       " '__all__',\n",
       " '__builtins__',\n",
       " '__cached__',\n",
       " '__doc__',\n",
       " '__file__',\n",
       " '__loader__',\n",
       " '__name__',\n",
       " '__package__',\n",
       " '__path__',\n",
       " '__spec__',\n",
       " '__version__',\n",
       " '__warningregistry__',\n",
       " '_build_info',\n",
       " 'abs',\n",
       " 'as_type',\n",
       " 'bool8',\n",
       " 'build_info',\n",
       " 'by',\n",
       " 'categories',\n",
       " 'cbind',\n",
       " 'codes',\n",
       " 'corr',\n",
       " 'count',\n",
       " 'countna',\n",
       " 'cov',\n",
       " 'cumcount',\n",
       " 'cummax',\n",
       " 'cummin',\n",
       " 'cumprod',\n",
       " 'cumsum',\n",
       " 'cut',\n",
       " 'dt',\n",
       " 'exceptions',\n",
       " 'exp',\n",
       " 'expr',\n",
       " 'f',\n",
       " 'fillna',\n",
       " 'first',\n",
       " 'float32',\n",
       " 'float64',\n",
       " 'frame',\n",
       " 'fread',\n",
       " 'g',\n",
       " 'ifelse',\n",
       " 'init_styles',\n",
       " 'int16',\n",
       " 'int32',\n",
       " 'int64',\n",
       " 'int8',\n",
       " 'internal',\n",
       " 'intersect',\n",
       " 'iread',\n",
       " 'isna',\n",
       " 'join',\n",
       " 'last',\n",
       " 'lib',\n",
       " 'log',\n",
       " 'log10',\n",
       " 'ltype',\n",
       " 'math',\n",
       " 'max',\n",
       " 'mean',\n",
       " 'median',\n",
       " 'min',\n",
       " 'ngroup',\n",
       " 'nunique',\n",
       " 'obj64',\n",
       " 'options',\n",
       " 'prod',\n",
       " 'qcut',\n",
       " 'rbind',\n",
       " 're',\n",
       " 'repeat',\n",
       " 'rowall',\n",
       " 'rowany',\n",
       " 'rowargmax',\n",
       " 'rowargmin',\n",
       " 'rowcount',\n",
       " 'rowfirst',\n",
       " 'rowlast',\n",
       " 'rowmax',\n",
       " 'rowmean',\n",
       " 'rowmin',\n",
       " 'rowsd',\n",
       " 'rowsum',\n",
       " 'sd',\n",
       " 'setdiff',\n",
       " 'shift',\n",
       " 'sort',\n",
       " 'split_into_nhot',\n",
       " 'str',\n",
       " 'str32',\n",
       " 'str64',\n",
       " 'stype',\n",
       " 'sum',\n",
       " 'symdiff',\n",
       " 'time',\n",
       " 'types',\n",
       " 'union',\n",
       " 'unique',\n",
       " 'update',\n",
       " 'utils',\n",
       " 'void',\n",
       " 'xls']"
      ]
     },
     "execution_count": 21,
     "metadata": {},
     "output_type": "execute_result"
    }
   ],
   "source": [
    "# grow by using f\n",
    "\n",
    "dir(dt)"
   ]
  },
  {
   "cell_type": "code",
   "execution_count": 22,
   "id": "849fc010-622e-4186-9d94-04b234509179",
   "metadata": {},
   "outputs": [
    {
     "data": {
      "text/html": [
       "<div class='datatable'>\n",
       "  <table class='frame'>\n",
       "  <thead>\n",
       "    <tr class='colnames'><td class='row_index'></td><th>population</th></tr>\n",
       "    <tr class='coltypes'><td class='row_index'></td><td class='int' title='int64'>&#x25AA;&#x25AA;&#x25AA;&#x25AA;&#x25AA;&#x25AA;&#x25AA;&#x25AA;</td></tr>\n",
       "  </thead>\n",
       "  <tbody>\n",
       "    <tr><td class='row_index'>0</td><td>29421840</td></tr>\n",
       "  </tbody>\n",
       "  </table>\n",
       "  <div class='footer'>\n",
       "    <div class='frame_dimensions'>1 row &times; 1 column</div>\n",
       "  </div>\n",
       "</div>\n"
      ],
      "text/plain": [
       "<Frame#2a33cac2d00 1x1>"
      ]
     },
     "execution_count": 22,
     "metadata": {},
     "output_type": "execute_result"
    }
   ],
   "source": [
    "df[:,dt.sum(f.population)]"
   ]
  },
  {
   "cell_type": "code",
   "execution_count": 23,
   "id": "1c734564-2888-49c5-a847-9e722d6a6341",
   "metadata": {},
   "outputs": [
    {
     "data": {
      "text/html": [
       "<div class='datatable'>\n",
       "  <table class='frame'>\n",
       "  <thead>\n",
       "    <tr class='colnames'><td class='row_index'></td><th>median_income</th><th>population</th></tr>\n",
       "    <tr class='coltypes'><td class='row_index'></td><td class='float' title='float64'>&#x25AA;&#x25AA;&#x25AA;&#x25AA;&#x25AA;&#x25AA;&#x25AA;&#x25AA;</td><td class='int' title='int64'>&#x25AA;&#x25AA;&#x25AA;&#x25AA;&#x25AA;&#x25AA;&#x25AA;&#x25AA;</td></tr>\n",
       "  </thead>\n",
       "  <tbody>\n",
       "    <tr><td class='row_index'>0</td><td>0.4999</td><td>3642</td></tr>\n",
       "    <tr><td class='row_index'>1</td><td>0.536</td><td>361</td></tr>\n",
       "    <tr><td class='row_index'>2</td><td>0.5495</td><td>999</td></tr>\n",
       "    <tr><td class='row_index'>3</td><td>0.6433</td><td>396</td></tr>\n",
       "    <tr><td class='row_index'>4</td><td>0.6775</td><td>2232</td></tr>\n",
       "    <tr><td class='row_index'>5</td><td>0.6825</td><td>198</td></tr>\n",
       "    <tr><td class='row_index'>6</td><td>0.6831</td><td>2865</td></tr>\n",
       "    <tr><td class='row_index'>7</td><td>0.696</td><td>272</td></tr>\n",
       "    <tr><td class='row_index'>8</td><td>0.6991</td><td>1660</td></tr>\n",
       "    <tr><td class='row_index'>9</td><td>0.7007</td><td>2086</td></tr>\n",
       "    <tr><td class='row_index'>10</td><td>0.7025</td><td>1799</td></tr>\n",
       "    <tr><td class='row_index'>11</td><td>0.7054</td><td>107</td></tr>\n",
       "    <tr><td class='row_index'>12</td><td>0.7068</td><td>467</td></tr>\n",
       "    <tr><td class='row_index'>13</td><td>0.7069</td><td>341</td></tr>\n",
       "    <tr><td class='row_index'>14</td><td>0.7075</td><td>1714</td></tr>\n",
       "    <tr><td class='row_index'>&#x22EE;</td><td class='hellipsis'>&#x22EE;</td><td class='hellipsis'>&#x22EE;</td></tr>\n",
       "    <tr><td class='row_index'>12,923</td><td>14.4219</td><td>519</td></tr>\n",
       "    <tr><td class='row_index'>12,924</td><td>14.5833</td><td>163</td></tr>\n",
       "    <tr><td class='row_index'>12,925</td><td>14.9009</td><td>899</td></tr>\n",
       "    <tr><td class='row_index'>12,926</td><td>15</td><td>681</td></tr>\n",
       "    <tr><td class='row_index'>12,927</td><td>15.0001</td><td>37813</td></tr>\n",
       "  </tbody>\n",
       "  </table>\n",
       "  <div class='footer'>\n",
       "    <div class='frame_dimensions'>12,928 rows &times; 2 columns</div>\n",
       "  </div>\n",
       "</div>\n"
      ],
      "text/plain": [
       "<Frame#2a33cac2910 12928x2>"
      ]
     },
     "execution_count": 23,
     "metadata": {},
     "output_type": "execute_result"
    }
   ],
   "source": [
    "df[:,dt.sum(f.population),dt.by(f.median_income)]"
   ]
  },
  {
   "cell_type": "code",
   "execution_count": 24,
   "id": "327b3b53-f5b6-4fa9-8d8c-6df755c76076",
   "metadata": {},
   "outputs": [],
   "source": [
    "#Export Frame:-\n",
    "\n",
    "df.to_csv(\"new_example.csv\")"
   ]
  },
  {
   "cell_type": "code",
   "execution_count": 25,
   "id": "55bd31c0-e3a9-4763-8496-1cc66121fcc0",
   "metadata": {},
   "outputs": [
    {
     "data": {
      "text/plain": [
       "['__class__',\n",
       " '__copy__',\n",
       " '__deepcopy__',\n",
       " '__delattr__',\n",
       " '__delitem__',\n",
       " '__dir__',\n",
       " '__doc__',\n",
       " '__eq__',\n",
       " '__format__',\n",
       " '__ge__',\n",
       " '__getattribute__',\n",
       " '__getitem__',\n",
       " '__getstate__',\n",
       " '__gt__',\n",
       " '__hash__',\n",
       " '__init__',\n",
       " '__init_subclass__',\n",
       " '__iter__',\n",
       " '__le__',\n",
       " '__len__',\n",
       " '__lt__',\n",
       " '__ne__',\n",
       " '__new__',\n",
       " '__reduce__',\n",
       " '__reduce_ex__',\n",
       " '__repr__',\n",
       " '__reversed__',\n",
       " '__setattr__',\n",
       " '__setitem__',\n",
       " '__setstate__',\n",
       " '__sizeof__',\n",
       " '__str__',\n",
       " '__subclasshook__',\n",
       " '_repr_html_',\n",
       " 'cbind',\n",
       " 'colindex',\n",
       " 'copy',\n",
       " 'countna',\n",
       " 'countna1',\n",
       " 'export_names',\n",
       " 'head',\n",
       " 'key',\n",
       " 'keys',\n",
       " 'kurt',\n",
       " 'kurt1',\n",
       " 'ltypes',\n",
       " 'materialize',\n",
       " 'max',\n",
       " 'max1',\n",
       " 'mean',\n",
       " 'mean1',\n",
       " 'meta',\n",
       " 'min',\n",
       " 'min1',\n",
       " 'mode',\n",
       " 'mode1',\n",
       " 'names',\n",
       " 'ncols',\n",
       " 'ndims',\n",
       " 'newsort',\n",
       " 'nmodal',\n",
       " 'nmodal1',\n",
       " 'nrows',\n",
       " 'nunique',\n",
       " 'nunique1',\n",
       " 'rbind',\n",
       " 'replace',\n",
       " 'sd',\n",
       " 'sd1',\n",
       " 'shape',\n",
       " 'skew',\n",
       " 'skew1',\n",
       " 'sort',\n",
       " 'source',\n",
       " 'stype',\n",
       " 'stypes',\n",
       " 'sum',\n",
       " 'sum1',\n",
       " 'tail',\n",
       " 'to_arrow',\n",
       " 'to_csv',\n",
       " 'to_dict',\n",
       " 'to_jay',\n",
       " 'to_list',\n",
       " 'to_numpy',\n",
       " 'to_pandas',\n",
       " 'to_tuples',\n",
       " 'type',\n",
       " 'types',\n",
       " 'view']"
      ]
     },
     "execution_count": 25,
     "metadata": {},
     "output_type": "execute_result"
    }
   ],
   "source": [
    "dir(df)"
   ]
  },
  {
   "cell_type": "code",
   "execution_count": 27,
   "id": "4920c971-5fc5-49c5-b056-293edd2c7bf3",
   "metadata": {},
   "outputs": [],
   "source": [
    "df_kk=dt.fread(\"new_example.csv\")"
   ]
  },
  {
   "cell_type": "code",
   "execution_count": 28,
   "id": "16c22bf5-7de5-4a2f-b178-616ef8dae75b",
   "metadata": {},
   "outputs": [
    {
     "data": {
      "text/html": [
       "<div class='datatable'>\n",
       "  <table class='frame'>\n",
       "  <thead>\n",
       "    <tr class='colnames'><td class='row_index'></td><th>longitude</th><th>latitude</th><th>housing_median_age</th><th>total_rooms</th><th>total_bedrooms</th><th>population</th><th>households</th><th>median_income</th><th>median_house_value</th><th>ocean_proximity</th></tr>\n",
       "    <tr class='coltypes'><td class='row_index'></td><td class='float' title='float64'>&#x25AA;&#x25AA;&#x25AA;&#x25AA;&#x25AA;&#x25AA;&#x25AA;&#x25AA;</td><td class='float' title='float64'>&#x25AA;&#x25AA;&#x25AA;&#x25AA;&#x25AA;&#x25AA;&#x25AA;&#x25AA;</td><td class='int' title='int32'>&#x25AA;&#x25AA;&#x25AA;&#x25AA;</td><td class='int' title='int32'>&#x25AA;&#x25AA;&#x25AA;&#x25AA;</td><td class='int' title='int32'>&#x25AA;&#x25AA;&#x25AA;&#x25AA;</td><td class='int' title='int32'>&#x25AA;&#x25AA;&#x25AA;&#x25AA;</td><td class='int' title='int32'>&#x25AA;&#x25AA;&#x25AA;&#x25AA;</td><td class='float' title='float64'>&#x25AA;&#x25AA;&#x25AA;&#x25AA;&#x25AA;&#x25AA;&#x25AA;&#x25AA;</td><td class='int' title='int32'>&#x25AA;&#x25AA;&#x25AA;&#x25AA;</td><td class='str' title='str32'>&#x25AA;&#x25AA;&#x25AA;&#x25AA;</td></tr>\n",
       "  </thead>\n",
       "  <tbody>\n",
       "    <tr><td class='row_index'>0</td><td>&minus;122.23</td><td>37.88</td><td>41</td><td>880</td><td>129</td><td>322</td><td>126</td><td>8.3252</td><td>452600</td><td>NEAR BAY</td></tr>\n",
       "    <tr><td class='row_index'>1</td><td>&minus;122.22</td><td>37.86</td><td>21</td><td>7099</td><td>1106</td><td>2401</td><td>1138</td><td>8.3014</td><td>358500</td><td>NEAR BAY</td></tr>\n",
       "    <tr><td class='row_index'>2</td><td>&minus;122.24</td><td>37.85</td><td>52</td><td>1467</td><td>190</td><td>496</td><td>177</td><td>7.2574</td><td>352100</td><td>NEAR BAY</td></tr>\n",
       "    <tr><td class='row_index'>3</td><td>&minus;122.25</td><td>37.85</td><td>52</td><td>1274</td><td>235</td><td>558</td><td>219</td><td>5.6431</td><td>341300</td><td>NEAR BAY</td></tr>\n",
       "    <tr><td class='row_index'>4</td><td>&minus;122.25</td><td>37.85</td><td>52</td><td>1627</td><td>280</td><td>565</td><td>259</td><td>3.8462</td><td>342200</td><td>NEAR BAY</td></tr>\n",
       "    <tr><td class='row_index'>5</td><td>&minus;122.25</td><td>37.85</td><td>52</td><td>919</td><td>213</td><td>413</td><td>193</td><td>4.0368</td><td>269700</td><td>NEAR BAY</td></tr>\n",
       "    <tr><td class='row_index'>6</td><td>&minus;122.25</td><td>37.84</td><td>52</td><td>2535</td><td>489</td><td>1094</td><td>514</td><td>3.6591</td><td>299200</td><td>NEAR BAY</td></tr>\n",
       "    <tr><td class='row_index'>7</td><td>&minus;122.25</td><td>37.84</td><td>52</td><td>3104</td><td>687</td><td>1157</td><td>647</td><td>3.12</td><td>241400</td><td>NEAR BAY</td></tr>\n",
       "    <tr><td class='row_index'>8</td><td>&minus;122.26</td><td>37.84</td><td>42</td><td>2555</td><td>665</td><td>1206</td><td>595</td><td>2.0804</td><td>226700</td><td>NEAR BAY</td></tr>\n",
       "    <tr><td class='row_index'>9</td><td>&minus;122.25</td><td>37.84</td><td>52</td><td>3549</td><td>707</td><td>1551</td><td>714</td><td>3.6912</td><td>261100</td><td>NEAR BAY</td></tr>\n",
       "  </tbody>\n",
       "  </table>\n",
       "  <div class='footer'>\n",
       "    <div class='frame_dimensions'>10 rows &times; 10 columns</div>\n",
       "  </div>\n",
       "</div>\n"
      ],
      "text/plain": [
       "<Frame#2a33cac23a0 10x10>"
      ]
     },
     "execution_count": 28,
     "metadata": {},
     "output_type": "execute_result"
    }
   ],
   "source": [
    "df.head()"
   ]
  },
  {
   "cell_type": "code",
   "execution_count": 29,
   "id": "3c372313-5e49-46ef-b9e0-ce3e2548b31b",
   "metadata": {},
   "outputs": [],
   "source": [
    "import pandas as pd \n",
    "import time\n",
    "import os\n",
    "import datatable as dt"
   ]
  },
  {
   "cell_type": "code",
   "execution_count": 31,
   "id": "d91873df-946a-4f0d-8627-728b95faf312",
   "metadata": {},
   "outputs": [
    {
     "name": "stdout",
     "output_type": "stream",
     "text": [
      "CPU times: total: 0 ns\n",
      "Wall time: 40.2 ms\n"
     ]
    }
   ],
   "source": [
    "%%time\n",
    "data=pd.read_csv(\"C:\\\\Users\\\\parul\\\\Desktop\\\\housing.csv\")"
   ]
  },
  {
   "cell_type": "code",
   "execution_count": 32,
   "id": "85b71793-9fbf-4c23-a8dd-5f6deaa80af7",
   "metadata": {},
   "outputs": [
    {
     "name": "stdout",
     "output_type": "stream",
     "text": [
      "CPU times: total: 312 ms\n",
      "Wall time: 53.4 ms\n"
     ]
    }
   ],
   "source": [
    "%%time\n",
    "df=dt.fread('C:\\\\Users\\\\parul\\\\Desktop\\\\housing.csv')\n",
    "df=df.to_pandas()"
   ]
  },
  {
   "cell_type": "code",
   "execution_count": 33,
   "id": "6fbad8cc-f1e4-4dac-bea8-b119093e7320",
   "metadata": {},
   "outputs": [],
   "source": [
    "# computaional gain"
   ]
  },
  {
   "cell_type": "code",
   "execution_count": 34,
   "id": "80924b73-f8a5-46b9-9ad0-537189232e08",
   "metadata": {},
   "outputs": [],
   "source": [
    "## Read time comparion"
   ]
  },
  {
   "cell_type": "code",
   "execution_count": 35,
   "id": "b42a978e-e880-48eb-8603-23181751cb6a",
   "metadata": {},
   "outputs": [],
   "source": [
    "import datatable as dt\n",
    "import pandas as pd \n",
    "import time\n",
    "import os"
   ]
  },
  {
   "cell_type": "code",
   "execution_count": 36,
   "id": "6ace0c10-2b1b-4c99-838d-63927877c2b8",
   "metadata": {},
   "outputs": [
    {
     "name": "stdout",
     "output_type": "stream",
     "text": [
      "Pandas Loading Time = 0.037726402282714844\n"
     ]
    }
   ],
   "source": [
    "s = time.time()\n",
    "df_pandas=pd.read_csv(\"C:\\\\Users\\\\parul\\\\Desktop\\\\housing.csv\")\n",
    "e = time.time()\n",
    "pd_time = e-s\n",
    "print(\"Pandas Loading Time = {}\".format(pd_time))"
   ]
  },
  {
   "cell_type": "code",
   "execution_count": 37,
   "id": "714eca8f-5b5c-4b07-8cf8-5c1cd5c5066f",
   "metadata": {},
   "outputs": [
    {
     "name": "stdout",
     "output_type": "stream",
     "text": [
      "Datatable Loading Time = 0.00955653190612793\n"
     ]
    }
   ],
   "source": [
    "s = time.time()\n",
    "df_datatable=dt.fread('C:\\\\Users\\\\parul\\\\Desktop\\\\housing.csv')\n",
    "e = time.time()\n",
    "datatable_time = e-s\n",
    "print(\"Datatable Loading Time = {}\".format(datatable_time))"
   ]
  },
  {
   "cell_type": "code",
   "execution_count": null,
   "id": "c74d6efb-1502-415b-9490-4b17d04ffbd1",
   "metadata": {},
   "outputs": [],
   "source": []
  }
 ],
 "metadata": {
  "kernelspec": {
   "display_name": "Python 3 (ipykernel)",
   "language": "python",
   "name": "python3"
  },
  "language_info": {
   "codemirror_mode": {
    "name": "ipython",
    "version": 3
   },
   "file_extension": ".py",
   "mimetype": "text/x-python",
   "name": "python",
   "nbconvert_exporter": "python",
   "pygments_lexer": "ipython3",
   "version": "3.11.7"
  }
 },
 "nbformat": 4,
 "nbformat_minor": 5
}
