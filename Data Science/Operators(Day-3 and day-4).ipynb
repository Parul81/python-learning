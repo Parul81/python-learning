{
 "cells": [
  {
   "cell_type": "markdown",
   "id": "95a375ea",
   "metadata": {},
   "source": [
    "# Operators"
   ]
  },
  {
   "cell_type": "code",
   "execution_count": null,
   "id": "e6218e12",
   "metadata": {},
   "outputs": [],
   "source": [
    "# Arithmetic Operators:-\n",
    "# Comparision Operators:-\n",
    "# Assignment Operators:-\n",
    "# Logical Operators:-\n",
    "# Membership Operators:-"
   ]
  },
  {
   "cell_type": "code",
   "execution_count": 12,
   "id": "be356b23",
   "metadata": {},
   "outputs": [
    {
     "name": "stdout",
     "output_type": "stream",
     "text": [
      "Enter the value of a: 67\n",
      "Enter the value of b: 45\n",
      "The addition of two no 67 and 45 are:  112\n"
     ]
    }
   ],
   "source": [
    "# Arithmetic operators:-(through int)\n",
    "# Addition:-\n",
    "a = int(input(\"Enter the value of a: \"))\n",
    "b = int(input(\"Enter the value of b: \"))\n",
    "add = a+b\n",
    "\n",
    "print(\"The addition of two no\",a,\"and\",b,\"are: \",add)"
   ]
  },
  {
   "cell_type": "code",
   "execution_count": 3,
   "id": "42f1ca13",
   "metadata": {},
   "outputs": [
    {
     "name": "stdout",
     "output_type": "stream",
     "text": [
      "Enter the value of a: 56\n",
      "Enter the value of b: 45\n",
      "The subtraction of two no 56 and 45 are:  11\n"
     ]
    }
   ],
   "source": [
    "# Subtraction :-\n",
    "a = int(input(\"Enter the value of a: \"))\n",
    "b = int(input(\"Enter the value of b: \"))\n",
    "sub = a-b\n",
    "\n",
    "print(\"The subtraction of two no\",a,\"and\",b,\"are: \",sub)"
   ]
  },
  {
   "cell_type": "code",
   "execution_count": 4,
   "id": "e0ec4c2f",
   "metadata": {},
   "outputs": [
    {
     "name": "stdout",
     "output_type": "stream",
     "text": [
      "Enter the value of a: 56\n",
      "Enter the value of b: 34\n",
      "The multiplication of two no 56 and 34 are:  1904\n"
     ]
    }
   ],
   "source": [
    "# Multiplication:-\n",
    "a = int(input(\"Enter the value of a: \"))\n",
    "b = int(input(\"Enter the value of b: \"))\n",
    "mul = a*b\n",
    "\n",
    "print(\"The multiplication of two no\",a,\"and\",b,\"are: \",mul)"
   ]
  },
  {
   "cell_type": "code",
   "execution_count": 5,
   "id": "50b4673d",
   "metadata": {},
   "outputs": [
    {
     "name": "stdout",
     "output_type": "stream",
     "text": [
      "Enter the value of a: 67\n",
      "Enter the value of b: 32\n",
      "The division of two no 67 and 32 are:  2.09375\n"
     ]
    }
   ],
   "source": [
    "# Division:-\n",
    "a = int(input(\"Enter the value of a: \"))\n",
    "b = int(input(\"Enter the value of b: \"))\n",
    "div = a/b\n",
    "\n",
    "print(\"The division of two no\",a,\"and\",b,\"are: \",div)"
   ]
  },
  {
   "cell_type": "code",
   "execution_count": 6,
   "id": "db310b6c",
   "metadata": {},
   "outputs": [
    {
     "name": "stdout",
     "output_type": "stream",
     "text": [
      "Enter the value of a: 56\n",
      "Enter the value of b: 56\n",
      "The division of two no 56 and 56 are:  1.0\n"
     ]
    }
   ],
   "source": [
    "a = int(input(\"Enter the value of a: \"))\n",
    "b = int(input(\"Enter the value of b: \"))\n",
    "div = a/b\n",
    "\n",
    "print(\"The division of two no\",a,\"and\",b,\"are: \",div)\n",
    "# here we get always the result into float "
   ]
  },
  {
   "cell_type": "code",
   "execution_count": 7,
   "id": "ffe85e89",
   "metadata": {},
   "outputs": [
    {
     "name": "stdout",
     "output_type": "stream",
     "text": [
      "Enter the value of a: 67\n",
      "Enter the value of b: 35\n",
      "The floordivision of two no 67 and 35 are:  1\n"
     ]
    }
   ],
   "source": [
    "# FloorDivision:-\n",
    "a = int(input(\"Enter the value of a: \"))\n",
    "b = int(input(\"Enter the value of b: \"))\n",
    "floordiv = a//b\n",
    "\n",
    "print(\"The floordivision of two no\",a,\"and\",b,\"are: \",floordiv)"
   ]
  },
  {
   "cell_type": "code",
   "execution_count": 8,
   "id": "d23adb7e",
   "metadata": {},
   "outputs": [
    {
     "name": "stdout",
     "output_type": "stream",
     "text": [
      "Enter the value of a: 76\n",
      "Enter the value of b: 21\n",
      "The floordivision of two no 76 and 21 are:  3\n"
     ]
    }
   ],
   "source": [
    "a = int(input(\"Enter the value of a: \"))\n",
    "b = int(input(\"Enter the value of b: \"))\n",
    "floordiv = a//b\n",
    "\n",
    "print(\"The floordivision of two no\",a,\"and\",b,\"are: \",floordiv)"
   ]
  },
  {
   "cell_type": "code",
   "execution_count": 10,
   "id": "82219d5e",
   "metadata": {},
   "outputs": [
    {
     "name": "stdout",
     "output_type": "stream",
     "text": [
      "Enter the value of a: 65\n",
      "Enter the value of b: 23\n",
      "The modulus of two no 65 and 23 are:  19\n"
     ]
    }
   ],
   "source": [
    "# Modulus:-\n",
    "a = int(input(\"Enter the value of a: \"))\n",
    "b = int(input(\"Enter the value of b: \"))\n",
    "mod = a%b\n",
    "\n",
    "print(\"The modulus of two no\",a,\"and\",b,\"are: \",mod)"
   ]
  },
  {
   "cell_type": "code",
   "execution_count": 11,
   "id": "26cf2835",
   "metadata": {},
   "outputs": [
    {
     "name": "stdout",
     "output_type": "stream",
     "text": [
      "Enter the value of a: 67\n",
      "Enter the value of b: 2\n",
      "The power of two no 67 and 2 are:  4489\n"
     ]
    }
   ],
   "source": [
    "# Power:-\n",
    "a = int(input(\"Enter the value of a: \"))\n",
    "b = int(input(\"Enter the value of b: \"))\n",
    "pow_ = a**b\n",
    "\n",
    "print(\"The power of two no\",a,\"and\",b,\"are: \",pow_)"
   ]
  },
  {
   "cell_type": "code",
   "execution_count": 14,
   "id": "2fef8e4e",
   "metadata": {},
   "outputs": [
    {
     "name": "stdout",
     "output_type": "stream",
     "text": [
      "Enter the value of a: 54.98\n",
      "Enter the value of b: 34.78\n",
      "The addition of two no 54.98 and 34.78 are:  89.75999999999999\n"
     ]
    }
   ],
   "source": [
    "# Arithmetic opertors :- (through float)\n",
    "# Addition:-\n",
    "a = float(input(\"Enter the value of a: \"))\n",
    "b = float(input(\"Enter the value of b: \"))\n",
    "add = a+b\n",
    "\n",
    "print(\"The addition of two no\",a,\"and\",b,\"are: \",add)"
   ]
  },
  {
   "cell_type": "code",
   "execution_count": 16,
   "id": "02b9dbc8",
   "metadata": {},
   "outputs": [
    {
     "name": "stdout",
     "output_type": "stream",
     "text": [
      "Enter the value of a: 98.78\n",
      "Enter the value of b: 56.87\n",
      "The subtraction of two no 98.78 and 56.87 are:  41.910000000000004\n"
     ]
    }
   ],
   "source": [
    "# Subtraction:-\n",
    "a = float(input(\"Enter the value of a: \"))\n",
    "b = float(input(\"Enter the value of b: \"))\n",
    "sub = a-b\n",
    "\n",
    "print(\"The subtraction of two no\",a,\"and\",b,\"are: \",sub)"
   ]
  },
  {
   "cell_type": "code",
   "execution_count": 17,
   "id": "b4410f92",
   "metadata": {},
   "outputs": [
    {
     "name": "stdout",
     "output_type": "stream",
     "text": [
      "Enter the value of a: 56.78\n",
      "Enter the value of b: 23.54\n",
      "The multiplication of two no 56.78 and 23.54 are:  1336.6012\n"
     ]
    }
   ],
   "source": [
    "# Multiplication:-\n",
    "a = float(input(\"Enter the value of a: \"))\n",
    "b = float(input(\"Enter the value of b: \"))\n",
    "mul = a*b\n",
    "\n",
    "print(\"The multiplication of two no\",a,\"and\",b,\"are: \",mul)"
   ]
  },
  {
   "cell_type": "code",
   "execution_count": 18,
   "id": "e4eac7da",
   "metadata": {},
   "outputs": [
    {
     "name": "stdout",
     "output_type": "stream",
     "text": [
      "Enter the value of a: 45.3\n",
      "Enter the value of b: 23.6\n",
      "The division of two no 45.3 and 23.6 are:  1.9194915254237286\n"
     ]
    }
   ],
   "source": [
    "# Division:-\n",
    "a = float(input(\"Enter the value of a: \"))\n",
    "b = float(input(\"Enter the value of b: \"))\n",
    "div = a/b\n",
    "\n",
    "print(\"The division of two no\",a,\"and\",b,\"are: \",div)"
   ]
  },
  {
   "cell_type": "code",
   "execution_count": 19,
   "id": "dd70abc5",
   "metadata": {},
   "outputs": [
    {
     "name": "stdout",
     "output_type": "stream",
     "text": [
      "Enter the value of a: 45.87\n",
      "Enter the value of b: 23.32\n",
      "The floordivision of two no 45.87 and 23.32 are:  1.0\n"
     ]
    }
   ],
   "source": [
    "# Floor Division:-\n",
    "a = float(input(\"Enter the value of a: \"))\n",
    "b = float(input(\"Enter the value of b: \"))\n",
    "floordiv = a//b\n",
    "\n",
    "print(\"The floordivision of two no\",a,\"and\",b,\"are: \",floordiv)"
   ]
  },
  {
   "cell_type": "code",
   "execution_count": 20,
   "id": "a167cdf1",
   "metadata": {},
   "outputs": [
    {
     "name": "stdout",
     "output_type": "stream",
     "text": [
      "Enter the value of a: 34.23\n",
      "Enter the value of b: 12.21\n",
      "The modulus of two no 34.23 and 12.21 are:  9.809999999999995\n"
     ]
    }
   ],
   "source": [
    "# Modulus;-\n",
    "a = float(input(\"Enter the value of a: \"))\n",
    "b = float(input(\"Enter the value of b: \"))\n",
    "mod = a%b\n",
    "\n",
    "print(\"The modulus of two no\",a,\"and\",b,\"are: \",mod)"
   ]
  },
  {
   "cell_type": "code",
   "execution_count": 21,
   "id": "f4de0411",
   "metadata": {},
   "outputs": [
    {
     "name": "stdout",
     "output_type": "stream",
     "text": [
      "Enter the value of a: 56.4\n",
      "Enter the value of b: 2.2\n",
      "The power of two no 56.4 and 2.2 are:  7125.47841401138\n"
     ]
    }
   ],
   "source": [
    "# Power:-\n",
    "a = float(input(\"Enter the value of a: \"))\n",
    "b = float(input(\"Enter the value of b: \"))\n",
    "pow_ = a**b\n",
    "\n",
    "print(\"The power of two no\",a,\"and\",b,\"are: \",pow_)"
   ]
  },
  {
   "cell_type": "code",
   "execution_count": 22,
   "id": "b53ebd04",
   "metadata": {},
   "outputs": [
    {
     "name": "stdout",
     "output_type": "stream",
     "text": [
      "Enter the value of a: 43\n",
      "Enter the value of b: 23.98\n",
      "The addition of two no 43 and 23.98 are:  66.98\n"
     ]
    }
   ],
   "source": [
    "# Arithmetic operators :- (through eval)\n",
    "# addition:-\n",
    "a = eval(input(\"Enter the value of a: \"))\n",
    "b = eval(input(\"Enter the value of b: \"))\n",
    "add = a+b\n",
    "\n",
    "print(\"The addition of two no\",a,\"and\",b,\"are: \",add)"
   ]
  },
  {
   "cell_type": "code",
   "execution_count": 28,
   "id": "4ad86440",
   "metadata": {},
   "outputs": [
    {
     "name": "stdout",
     "output_type": "stream",
     "text": [
      "Enter the value of a: 34.45\n",
      "Enter the value of b: 11\n",
      "The subtraction of two no 34.45 and 11 are:  23.450000000000003\n"
     ]
    }
   ],
   "source": [
    "# Subtraction:-\n",
    "a = eval(input(\"Enter the value of a: \"))\n",
    "b = eval(input(\"Enter the value of b: \"))\n",
    "sub = a-b\n",
    "\n",
    "print(\"The subtraction of two no\",a,\"and\",b,\"are: \",sub)"
   ]
  },
  {
   "cell_type": "code",
   "execution_count": 29,
   "id": "2bce6c0b",
   "metadata": {},
   "outputs": [
    {
     "name": "stdout",
     "output_type": "stream",
     "text": [
      "Enter the value of a: 67.54\n",
      "Enter the value of b: 34\n",
      "The multiplication of two no 67.54 and 34 are:  2296.36\n"
     ]
    }
   ],
   "source": [
    "# Multiplication:-\n",
    "a = eval(input(\"Enter the value of a: \"))\n",
    "b = eval(input(\"Enter the value of b: \"))\n",
    "mul = a*b\n",
    "\n",
    "print(\"The multiplication of two no\",a,\"and\",b,\"are: \",mul)"
   ]
  },
  {
   "cell_type": "code",
   "execution_count": 30,
   "id": "2cda9b3c",
   "metadata": {},
   "outputs": [
    {
     "name": "stdout",
     "output_type": "stream",
     "text": [
      "Enter the value of a: 76\n",
      "Enter the value of b: 34.2\n",
      "The division of two no 76 and 34.2 are:  2.222222222222222\n"
     ]
    }
   ],
   "source": [
    "# Division:- \n",
    "a = eval(input(\"Enter the value of a: \"))\n",
    "b = eval(input(\"Enter the value of b: \"))\n",
    "div = a/b \n",
    "\n",
    "print(\"The division of two no\",a,\"and\",b,\"are: \",div)"
   ]
  },
  {
   "cell_type": "code",
   "execution_count": 26,
   "id": "443e5237",
   "metadata": {},
   "outputs": [],
   "source": [
    "# Floor Division:-\n",
    "a = eval(input(\"Enter the value of a: \"))\n",
    "b = eval(input(\"Enter the value of b: \"))\n",
    "floordiv = a//b\n",
    "\n",
    "print(\"The floordivision of two no\",a,\"and\",b,\"are: \",floordiv)"
   ]
  },
  {
   "cell_type": "code",
   "execution_count": 31,
   "id": "c0c57711",
   "metadata": {},
   "outputs": [
    {
     "name": "stdout",
     "output_type": "stream",
     "text": [
      "Enter the value of a: 56.4\n",
      "Enter the value of b: 34\n",
      "The modulus of two no 56.4 and 34 are:  22.4\n"
     ]
    }
   ],
   "source": [
    "# Modulus:-\n",
    "a = eval(input(\"Enter the value of a: \"))\n",
    "b = eval(input(\"Enter the value of b: \"))\n",
    "mod = a%b\n",
    "\n",
    "print(\"The modulus of two no\",a,\"and\",b,\"are: \",mod)"
   ]
  },
  {
   "cell_type": "code",
   "execution_count": 32,
   "id": "a4196800",
   "metadata": {},
   "outputs": [
    {
     "name": "stdout",
     "output_type": "stream",
     "text": [
      "Enter the value of a: 34\n",
      "Enter the value of b: 2.2\n",
      "The power of two no 34 and 2.2 are:  2340.2034620258687\n"
     ]
    }
   ],
   "source": [
    "# Power:-\n",
    "a = eval(input(\"Enter the value of a: \"))\n",
    "b = eval(input(\"Enter the value of b: \"))\n",
    "pow_ = a**b\n",
    "\n",
    "print(\"The power of two no\",a,\"and\",b,\"are: \",pow_)"
   ]
  },
  {
   "cell_type": "code",
   "execution_count": 38,
   "id": "6a371963",
   "metadata": {},
   "outputs": [
    {
     "name": "stdout",
     "output_type": "stream",
     "text": [
      "Enter the value of a: 45\n",
      "Enter the value of b: 34\n",
      "True <class 'bool'>\n",
      "Enter the value of a: 34.5\n",
      "Enter the value of b: 23.5\n",
      "True <class 'bool'>\n",
      "Enter the value of a: 45\n",
      "Enter the value of b: 23.5\n",
      "True <class 'bool'>\n"
     ]
    }
   ],
   "source": [
    "# Comparision operators:-\n",
    "# True :-(for greater than)\n",
    "#int\n",
    "a = int(input(\"Enter the value of a: \"))\n",
    "b = int(input(\"Enter the value of b: \"))\n",
    "result = a>b\n",
    "print(result,type(result))\n",
    "\n",
    "# Float:-\n",
    "a = float(input(\"Enter the value of a: \"))\n",
    "b = float(input(\"Enter the value of b: \"))\n",
    "result = a>b\n",
    "print(result,type(result))\n",
    "\n",
    "# Eval:-\n",
    "a = eval(input(\"Enter the value of a: \"))\n",
    "b = eval(input(\"Enter the value of b: \"))\n",
    "result = a>b\n",
    "print(result,type(result))\n"
   ]
  },
  {
   "cell_type": "code",
   "execution_count": 39,
   "id": "762c634c",
   "metadata": {},
   "outputs": [
    {
     "name": "stdout",
     "output_type": "stream",
     "text": [
      "Enter the value of a: 53\n",
      "Enter the value of b: 97\n",
      "False <class 'bool'>\n",
      "Enter the value of a: 53.24\n",
      "Enter the value of b: 87.34\n",
      "False <class 'bool'>\n",
      "Enter the value of a: 65.87\n",
      "Enter the value of b: 98\n",
      "False <class 'bool'>\n"
     ]
    }
   ],
   "source": [
    "# False:-\n",
    "# Int:-\n",
    "a = int(input(\"Enter the value of a: \"))\n",
    "b = int(input(\"Enter the value of b: \"))\n",
    "result = a>b\n",
    "print(result,type(result))\n",
    "\n",
    "# Float:-\n",
    "a = float(input(\"Enter the value of a: \"))\n",
    "b = float(input(\"Enter the value of b: \"))\n",
    "result = a>b\n",
    "print(result,type(result))\n",
    "\n",
    "# Eval:-\n",
    "a = eval(input(\"Enter the value of a: \"))\n",
    "b = eval(input(\"Enter the value of b: \"))\n",
    "result = a>b\n",
    "print(result,type(result))"
   ]
  },
  {
   "cell_type": "code",
   "execution_count": 41,
   "id": "cb37d073",
   "metadata": {
    "scrolled": true
   },
   "outputs": [
    {
     "name": "stdout",
     "output_type": "stream",
     "text": [
      "Enter the value of a: 23\n",
      "Enter the value of b: 45\n",
      "True <class 'bool'>\n",
      "Enter the value of a: 56.67\n",
      "Enter the value of b: 89.67\n",
      "True <class 'bool'>\n",
      "Enter the value of a: 67.8\n",
      "Enter the value of b: 90\n",
      "True <class 'bool'>\n"
     ]
    }
   ],
   "source": [
    "# True (for lesser):-\n",
    "a = int(input(\"Enter the value of a: \"))\n",
    "b = int(input(\"Enter the value of b: \"))\n",
    "result = a<b\n",
    "print(result,type(result))\n",
    "\n",
    "# Float:-\n",
    "a = float(input(\"Enter the value of a: \"))\n",
    "b = float(input(\"Enter the value of b: \"))\n",
    "result = a<b\n",
    "print(result,type(result))\n",
    "\n",
    "# Eval:-\n",
    "a = eval(input(\"Enter the value of a: \"))\n",
    "b = eval(input(\"Enter the value of b: \"))\n",
    "result = a<b\n",
    "print(result,type(result))"
   ]
  },
  {
   "cell_type": "code",
   "execution_count": 45,
   "id": "063b4c19",
   "metadata": {},
   "outputs": [
    {
     "name": "stdout",
     "output_type": "stream",
     "text": [
      "Enter the value of a: 56\n",
      "Enter the value of b: 23\n",
      "False <class 'bool'>\n",
      "Enter the value of a: 34.56\n",
      "Enter the value of b: 12.56\n",
      "False <class 'bool'>\n",
      "Enter the value of a: 45\n",
      "Enter the value of b: 11.9\n",
      "False <class 'bool'>\n"
     ]
    }
   ],
   "source": [
    "# False (for lesser):-\n",
    "a = int(input(\"Enter the value of a: \"))\n",
    "b = int(input(\"Enter the value of b: \"))\n",
    "result = a<b\n",
    "print(result,type(result))\n",
    "\n",
    "# Float:-\n",
    "a = float(input(\"Enter the value of a: \"))\n",
    "b = float(input(\"Enter the value of b: \"))\n",
    "result = a<b\n",
    "print(result,type(result))\n",
    "\n",
    "# Eval:-\n",
    "a = eval(input(\"Enter the value of a: \"))\n",
    "b = eval(input(\"Enter the value of b: \"))\n",
    "result = a<b\n",
    "print(result,type(result))"
   ]
  },
  {
   "cell_type": "code",
   "execution_count": 48,
   "id": "0e88617a",
   "metadata": {},
   "outputs": [
    {
     "name": "stdout",
     "output_type": "stream",
     "text": [
      "Enter the value of a: 56\n",
      "Enter the value of b: 56\n",
      "True <class 'bool'>\n",
      "Enter the value of a: 56.4\n",
      "Enter the value of b: 34.6\n",
      "True <class 'bool'>\n",
      "Enter the value of a: 56.9\n",
      "Enter the value of b: 45\n",
      "True <class 'bool'>\n"
     ]
    }
   ],
   "source": [
    "# True (For gretaer than equal to):-\n",
    "a = int(input(\"Enter the value of a: \"))\n",
    "b = int(input(\"Enter the value of b: \"))\n",
    "result = a>=b\n",
    "print(result,type(result))\n",
    "\n",
    "# Float:-\n",
    "a = float(input(\"Enter the value of a: \"))\n",
    "b = float(input(\"Enter the value of b: \"))\n",
    "result = a>=b\n",
    "print(result,type(result))\n",
    "\n",
    "# Eval:-\n",
    "a = eval(input(\"Enter the value of a: \"))\n",
    "b = eval(input(\"Enter the value of b: \"))\n",
    "result = a>=b\n",
    "print(result,type(result))"
   ]
  },
  {
   "cell_type": "code",
   "execution_count": 49,
   "id": "e0698fee",
   "metadata": {},
   "outputs": [
    {
     "name": "stdout",
     "output_type": "stream",
     "text": [
      "Enter the value of a: 65\n",
      "Enter the value of b: 87\n",
      "False <class 'bool'>\n",
      "Enter the value of a: 87.0\n",
      "Enter the value of b: 90.5\n",
      "False <class 'bool'>\n",
      "Enter the value of a: 87\n",
      "Enter the value of b: 99.9\n",
      "False <class 'bool'>\n"
     ]
    }
   ],
   "source": [
    "# False (For gretaer than equal to):-\n",
    "a = int(input(\"Enter the value of a: \"))\n",
    "b = int(input(\"Enter the value of b: \"))\n",
    "result = a>=b\n",
    "print(result,type(result))\n",
    "\n",
    "# Float:-\n",
    "a = float(input(\"Enter the value of a: \"))\n",
    "b = float(input(\"Enter the value of b: \"))\n",
    "result = a>=b\n",
    "print(result,type(result))\n",
    "\n",
    "# Eval:-\n",
    "a = eval(input(\"Enter the value of a: \"))\n",
    "b = eval(input(\"Enter the value of b: \"))\n",
    "result = a>=b\n",
    "print(result,type(result))"
   ]
  },
  {
   "cell_type": "code",
   "execution_count": 50,
   "id": "fe68f107",
   "metadata": {},
   "outputs": [
    {
     "name": "stdout",
     "output_type": "stream",
     "text": [
      "Enter the value of a: 98\n",
      "Enter the value of b: 98\n",
      "True <class 'bool'>\n",
      "Enter the value of a: 78.9\n",
      "Enter the value of b: 78.9\n",
      "True <class 'bool'>\n",
      "Enter the value of a: 89\n",
      "Enter the value of b: 98\n",
      "True <class 'bool'>\n"
     ]
    }
   ],
   "source": [
    "# True (For lesser than equal to):-\n",
    "a = int(input(\"Enter the value of a: \"))\n",
    "b = int(input(\"Enter the value of b: \"))\n",
    "result = a<=b\n",
    "print(result,type(result))\n",
    "\n",
    "# Float:-\n",
    "a = float(input(\"Enter the value of a: \"))\n",
    "b = float(input(\"Enter the value of b: \"))\n",
    "result = a<=b\n",
    "print(result,type(result))\n",
    "\n",
    "# Eval:-\n",
    "a = eval(input(\"Enter the value of a: \"))\n",
    "b = eval(input(\"Enter the value of b: \"))\n",
    "result = a<=b\n",
    "print(result,type(result))"
   ]
  },
  {
   "cell_type": "code",
   "execution_count": 52,
   "id": "5700d6f6",
   "metadata": {},
   "outputs": [
    {
     "name": "stdout",
     "output_type": "stream",
     "text": [
      "Enter the value of a: 67\n",
      "Enter the value of b: 65\n",
      "False <class 'bool'>\n",
      "Enter the value of a: 87.0\n",
      "Enter the value of b: 78.6\n",
      "False <class 'bool'>\n",
      "Enter the value of a: 90\n",
      "Enter the value of b: 76.8\n",
      "False <class 'bool'>\n"
     ]
    }
   ],
   "source": [
    "# False (For lesser than equal to):-\n",
    "a = int(input(\"Enter the value of a: \"))\n",
    "b = int(input(\"Enter the value of b: \"))\n",
    "result = a<=b\n",
    "print(result,type(result))\n",
    "\n",
    "# Float:-\n",
    "a = float(input(\"Enter the value of a: \"))\n",
    "b = float(input(\"Enter the value of b: \"))\n",
    "result = a<=b\n",
    "print(result,type(result))\n",
    "\n",
    "# Eval:-\n",
    "a = eval(input(\"Enter the value of a: \"))\n",
    "b = eval(input(\"Enter the value of b: \"))\n",
    "result = a<=b\n",
    "print(result,type(result))"
   ]
  },
  {
   "cell_type": "code",
   "execution_count": 53,
   "id": "a9a8a56e",
   "metadata": {},
   "outputs": [
    {
     "name": "stdout",
     "output_type": "stream",
     "text": [
      "Enter the value of a: 87\n",
      "Enter the value of b: 87\n",
      "True <class 'bool'>\n",
      "Enter the value of a: 98.9\n",
      "Enter the value of b: 98.9\n",
      "True <class 'bool'>\n",
      "Enter the value of a: 56\n",
      "Enter the value of b: 56.0\n",
      "True <class 'bool'>\n"
     ]
    }
   ],
   "source": [
    "# True (For equal to):-\n",
    "a = int(input(\"Enter the value of a: \"))\n",
    "b = int(input(\"Enter the value of b: \"))\n",
    "result = a==b\n",
    "print(result,type(result))\n",
    "\n",
    "# Float:-\n",
    "a = float(input(\"Enter the value of a: \"))\n",
    "b = float(input(\"Enter the value of b: \"))\n",
    "result = a==b\n",
    "print(result,type(result))\n",
    "\n",
    "# Eval:-\n",
    "a = eval(input(\"Enter the value of a: \"))\n",
    "b = eval(input(\"Enter the value of b: \"))\n",
    "result = a==b\n",
    "print(result,type(result))"
   ]
  },
  {
   "cell_type": "code",
   "execution_count": 54,
   "id": "17d8dad4",
   "metadata": {},
   "outputs": [
    {
     "name": "stdout",
     "output_type": "stream",
     "text": [
      "Enter the value of a: 67\n",
      "Enter the value of b: 56\n",
      "False <class 'bool'>\n",
      "Enter the value of a: 45.8\n",
      "Enter the value of b: 67.8\n",
      "False <class 'bool'>\n",
      "Enter the value of a: 56\n",
      "Enter the value of b: 78.9\n",
      "False <class 'bool'>\n"
     ]
    }
   ],
   "source": [
    "# False (For equal to):-\n",
    "a = int(input(\"Enter the value of a: \"))\n",
    "b = int(input(\"Enter the value of b: \"))\n",
    "result = a==b\n",
    "print(result,type(result))\n",
    "\n",
    "# Float:-\n",
    "a = float(input(\"Enter the value of a: \"))\n",
    "b = float(input(\"Enter the value of b: \"))\n",
    "result = a==b\n",
    "print(result,type(result))\n",
    "\n",
    "# Eval:-\n",
    "a = eval(input(\"Enter the value of a: \"))\n",
    "b = eval(input(\"Enter the value of b: \"))\n",
    "result = a==b\n",
    "print(result,type(result))"
   ]
  },
  {
   "cell_type": "code",
   "execution_count": 55,
   "id": "aa3d96cf",
   "metadata": {},
   "outputs": [
    {
     "name": "stdout",
     "output_type": "stream",
     "text": [
      "Enter the value of a: 45\n",
      "Enter the value of b: 56\n",
      "True <class 'bool'>\n",
      "Enter the value of a: 45.7\n",
      "Enter the value of b: 56.7\n",
      "True <class 'bool'>\n",
      "Enter the value of a: 56\n",
      "Enter the value of b: 35.4\n",
      "True <class 'bool'>\n"
     ]
    }
   ],
   "source": [
    "# True (For not equal to):-\n",
    "a = int(input(\"Enter the value of a: \"))\n",
    "b = int(input(\"Enter the value of b: \"))\n",
    "result = a!=b\n",
    "print(result,type(result))\n",
    "\n",
    "# Float:-\n",
    "a = float(input(\"Enter the value of a: \"))\n",
    "b = float(input(\"Enter the value of b: \"))\n",
    "result = a!=b\n",
    "print(result,type(result))\n",
    "\n",
    "# Eval:-\n",
    "a = eval(input(\"Enter the value of a: \"))\n",
    "b = eval(input(\"Enter the value of b: \"))\n",
    "result = a!=b\n",
    "print(result,type(result))"
   ]
  },
  {
   "cell_type": "code",
   "execution_count": 57,
   "id": "8f710bf2",
   "metadata": {},
   "outputs": [
    {
     "name": "stdout",
     "output_type": "stream",
     "text": [
      "Enter the value of a: 45\n",
      "Enter the value of b: 45\n",
      "False <class 'bool'>\n",
      "Enter the value of a: 34.5\n",
      "Enter the value of b: 34.5\n",
      "False <class 'bool'>\n",
      "Enter the value of a: 45.0\n",
      "Enter the value of b: 45\n",
      "False <class 'bool'>\n"
     ]
    }
   ],
   "source": [
    "# False (For not equal to):-\n",
    "a = int(input(\"Enter the value of a: \"))\n",
    "b = int(input(\"Enter the value of b: \"))\n",
    "result = a!=b\n",
    "print(result,type(result))\n",
    "\n",
    "# Float:-\n",
    "a = float(input(\"Enter the value of a: \"))\n",
    "b = float(input(\"Enter the value of b: \"))\n",
    "result = a!=b\n",
    "print(result,type(result))\n",
    "\n",
    "# Eval:-\n",
    "a = eval(input(\"Enter the value of a: \"))\n",
    "b = eval(input(\"Enter the value of b: \"))\n",
    "result = a!=b\n",
    "print(result,type(result))"
   ]
  },
  {
   "cell_type": "code",
   "execution_count": 58,
   "id": "f97c9f2f",
   "metadata": {},
   "outputs": [
    {
     "name": "stdout",
     "output_type": "stream",
     "text": [
      "43 <class 'int'>\n"
     ]
    }
   ],
   "source": [
    "# Assignment Operator (asiign values to the variables):-\n",
    "a = 43 \n",
    "print(a,type(a))"
   ]
  },
  {
   "cell_type": "code",
   "execution_count": 44,
   "id": "323fa64b",
   "metadata": {},
   "outputs": [
    {
     "name": "stdout",
     "output_type": "stream",
     "text": [
      "101\n",
      "56\n"
     ]
    }
   ],
   "source": [
    "# Assignment Operators:-\n",
    "# plus equal to:-\n",
    "a = 45\n",
    "b = 56\n",
    "a = a+b\n",
    "print(a)\n",
    "print(b)"
   ]
  },
  {
   "cell_type": "code",
   "execution_count": 67,
   "id": "d23ae338",
   "metadata": {},
   "outputs": [
    {
     "name": "stdout",
     "output_type": "stream",
     "text": [
      "85\n",
      "40\n",
      "86.1\n",
      "40.4\n",
      "85.5\n",
      "40\n"
     ]
    }
   ],
   "source": [
    "# asiignment Operators:-\n",
    "# through int:-\n",
    "a= 45\n",
    "b = 40\n",
    "a += b\n",
    "print(a)\n",
    "print(b)\n",
    "\n",
    "# through float:-\n",
    "a= 45.7\n",
    "b = 40.4\n",
    "a += b\n",
    "print(a)\n",
    "print(b)\n",
    "\n",
    "# through eval:-\n",
    "a= 45.5\n",
    "b = 40\n",
    "a += b\n",
    "print(a)\n",
    "print(b)\n"
   ]
  },
  {
   "cell_type": "code",
   "execution_count": 61,
   "id": "505ec735",
   "metadata": {},
   "outputs": [
    {
     "name": "stdout",
     "output_type": "stream",
     "text": [
      "39\n",
      "56\n"
     ]
    }
   ],
   "source": [
    "# subtraction operation:-\n",
    "a = 95\n",
    "b = 56\n",
    "a = a-b\n",
    "print(a)\n",
    "print(b)"
   ]
  },
  {
   "cell_type": "code",
   "execution_count": 68,
   "id": "befb5398",
   "metadata": {},
   "outputs": [
    {
     "name": "stdout",
     "output_type": "stream",
     "text": [
      "39\n",
      "56\n",
      "39.4\n",
      "56.4\n",
      "38.6\n",
      "56.4\n"
     ]
    }
   ],
   "source": [
    "# subtraction operation:-\n",
    "# through int:-\n",
    "a = 95\n",
    "b = 56\n",
    "a -= b\n",
    "print(a)\n",
    "print(b)\n",
    "\n",
    "# through float:-\n",
    "a = 95.8\n",
    "b = 56.4\n",
    "a -= b\n",
    "print(a)\n",
    "print(b)\n",
    "# through eval:-\n",
    "a = 95\n",
    "b = 56.4\n",
    "a -= b\n",
    "print(a)\n",
    "print(b)"
   ]
  },
  {
   "cell_type": "code",
   "execution_count": 63,
   "id": "c17f5cca",
   "metadata": {},
   "outputs": [
    {
     "name": "stdout",
     "output_type": "stream",
     "text": [
      "2210\n",
      "34\n"
     ]
    }
   ],
   "source": [
    "# Multiplication Operations:-\n",
    "a = 65\n",
    "b = 34\n",
    "a = a*b\n",
    "print(a)\n",
    "print(b)"
   ]
  },
  {
   "cell_type": "code",
   "execution_count": 69,
   "id": "513139bd",
   "metadata": {},
   "outputs": [
    {
     "name": "stdout",
     "output_type": "stream",
     "text": [
      "2210\n",
      "34\n",
      "2252.85\n",
      "34.5\n",
      "2216.8\n",
      "34\n"
     ]
    }
   ],
   "source": [
    "# Multiplication Operations:-\n",
    "# through int:-\n",
    "a = 65\n",
    "b = 34\n",
    "a *= b\n",
    "print(a)\n",
    "print(b)\n",
    "\n",
    "#through float:-\n",
    "a = 65.3\n",
    "b = 34.5\n",
    "a *= b\n",
    "print(a)\n",
    "print(b)\n",
    "\n",
    "# Through eval:-\n",
    "a = 65.2\n",
    "b = 34\n",
    "a *= b\n",
    "print(a)\n",
    "print(b)"
   ]
  },
  {
   "cell_type": "code",
   "execution_count": 65,
   "id": "18e0ce16",
   "metadata": {},
   "outputs": [
    {
     "name": "stdout",
     "output_type": "stream",
     "text": [
      "2.8333333333333335\n",
      "12\n"
     ]
    }
   ],
   "source": [
    "# Division operation:-\n",
    "a = 34\n",
    "b = 12\n",
    "a = a/b\n",
    "print(a)\n",
    "print(b)"
   ]
  },
  {
   "cell_type": "code",
   "execution_count": 70,
   "id": "0d14e5e2",
   "metadata": {},
   "outputs": [
    {
     "name": "stdout",
     "output_type": "stream",
     "text": [
      "2.8333333333333335\n",
      "12\n",
      "2.7903225806451615\n",
      "12.4\n",
      "2.875\n",
      "12\n"
     ]
    }
   ],
   "source": [
    "# Division operation:-\n",
    "# through int:-\n",
    "a = 34\n",
    "b = 12\n",
    "a /= b\n",
    "print(a)\n",
    "print(b)\n",
    "\n",
    "# through float:-\n",
    "a = 34.6\n",
    "b = 12.4\n",
    "a /= b\n",
    "print(a)\n",
    "print(b)\n",
    "\n",
    "# through eval:-\n",
    "a = 34.5\n",
    "b = 12\n",
    "a /= b\n",
    "print(a)\n",
    "print(b)"
   ]
  },
  {
   "cell_type": "code",
   "execution_count": 73,
   "id": "e73c39c7",
   "metadata": {},
   "outputs": [
    {
     "name": "stdout",
     "output_type": "stream",
     "text": [
      "4\n",
      "12\n"
     ]
    }
   ],
   "source": [
    "# FloorDivision operation:-\n",
    "\n",
    "a = 48\n",
    "b = 12\n",
    "a = a//b\n",
    "print(a)\n",
    "print(b)"
   ]
  },
  {
   "cell_type": "code",
   "execution_count": 74,
   "id": "17582e33",
   "metadata": {},
   "outputs": [
    {
     "name": "stdout",
     "output_type": "stream",
     "text": [
      "4\n",
      "12\n",
      "3.0\n",
      "12.4\n",
      "4.0\n",
      "12\n"
     ]
    }
   ],
   "source": [
    "# FloorDivision operation:-\n",
    "# through int:-\n",
    "a = 48\n",
    "b = 12\n",
    "a //= b\n",
    "print(a)\n",
    "print(b)\n",
    "\n",
    "# through float:-\n",
    "a = 48.6\n",
    "b = 12.4\n",
    "a //= b\n",
    "print(a)\n",
    "print(b)\n",
    "\n",
    "# through eval:-\n",
    "a = 48.5\n",
    "b = 12\n",
    "a //= b\n",
    "print(a)\n",
    "print(b)"
   ]
  },
  {
   "cell_type": "code",
   "execution_count": 75,
   "id": "32147b18",
   "metadata": {},
   "outputs": [
    {
     "name": "stdout",
     "output_type": "stream",
     "text": [
      "12\n",
      "14\n"
     ]
    }
   ],
   "source": [
    "# Modulus operators:-\n",
    "a = 68\n",
    "b = 14\n",
    "a = a%b\n",
    "print(a)\n",
    "print(b)"
   ]
  },
  {
   "cell_type": "code",
   "execution_count": 76,
   "id": "94ee84a3",
   "metadata": {},
   "outputs": [
    {
     "name": "stdout",
     "output_type": "stream",
     "text": [
      "12\n",
      "14\n",
      "5.599999999999996\n",
      "14.4\n",
      "6.5\n",
      "14\n"
     ]
    }
   ],
   "source": [
    "# Modulus operation:-\n",
    "# through int:-\n",
    "a = 68\n",
    "b = 14\n",
    "a %= b\n",
    "print(a)\n",
    "print(b)\n",
    "\n",
    "# through float:-\n",
    "a = 48.8\n",
    "b = 14.4\n",
    "a %= b\n",
    "print(a)\n",
    "print(b)\n",
    "\n",
    "# through eval:-\n",
    "a = 48.5\n",
    "b = 14\n",
    "a %= b\n",
    "print(a)\n",
    "print(b)"
   ]
  },
  {
   "cell_type": "code",
   "execution_count": 77,
   "id": "741dad62",
   "metadata": {},
   "outputs": [
    {
     "name": "stdout",
     "output_type": "stream",
     "text": [
      "121\n",
      "2\n"
     ]
    }
   ],
   "source": [
    "# Power operation:-\n",
    "a = 11\n",
    "b = 2\n",
    "a = a**b\n",
    "print(a)\n",
    "print(b)"
   ]
  },
  {
   "cell_type": "code",
   "execution_count": 79,
   "id": "30c4b9c9",
   "metadata": {},
   "outputs": [
    {
     "name": "stdout",
     "output_type": "stream",
     "text": [
      "121\n",
      "2\n",
      "203.3666102878644\n",
      "2.2\n",
      "125.43999999999998\n",
      "2\n"
     ]
    }
   ],
   "source": [
    "# Power operation:-\n",
    "# through int:-\n",
    "a = 11\n",
    "b = 2\n",
    "a **= b\n",
    "print(a)\n",
    "print(b)\n",
    "\n",
    "# through float:-\n",
    "a = 11.2\n",
    "b = 2.2\n",
    "a **= b\n",
    "print(a)\n",
    "print(b)\n",
    "\n",
    "# through eval:-\n",
    "a = 11.2\n",
    "b = 2\n",
    "a **= b\n",
    "print(a)\n",
    "print(b)"
   ]
  },
  {
   "cell_type": "code",
   "execution_count": 82,
   "id": "0838cd64",
   "metadata": {},
   "outputs": [
    {
     "name": "stdout",
     "output_type": "stream",
     "text": [
      "True\n",
      "True\n",
      "True\n"
     ]
    }
   ],
   "source": [
    "# Logical Operators:-\n",
    "# Here \"and \" means it will only true when both conditions are true\n",
    "# through int:-\n",
    "a = 95\n",
    "b = 45 \n",
    "print(a>b and b<a)\n",
    "\n",
    "# through float:-\n",
    "a = 95.4\n",
    "b = 45.2\n",
    "print(a>b and b<a)\n",
    "# through eval:-\n",
    "a = 95.7\n",
    "b = 45 \n",
    "print(a>b and b<a)"
   ]
  },
  {
   "cell_type": "code",
   "execution_count": 83,
   "id": "b24f554b",
   "metadata": {},
   "outputs": [
    {
     "name": "stdout",
     "output_type": "stream",
     "text": [
      "False\n",
      "False\n",
      "False\n"
     ]
    }
   ],
   "source": [
    "# Logical Operators:-\n",
    "# Here \"and \" means it will only true when both conditions are true\n",
    "# through int:-\n",
    "a = 95\n",
    "b = 45 \n",
    "print(a<b and b>a)\n",
    "\n",
    "# through float:-\n",
    "a = 95.4\n",
    "b = 45.2\n",
    "print(a<b and b>a)\n",
    "\n",
    "# through eval:-\n",
    "a = 95.7\n",
    "b = 45 \n",
    "print(a<b and b>a)"
   ]
  },
  {
   "cell_type": "code",
   "execution_count": 95,
   "id": "91ed47da",
   "metadata": {},
   "outputs": [
    {
     "name": "stdout",
     "output_type": "stream",
     "text": [
      "True\n",
      "True\n",
      "True\n",
      "True\n"
     ]
    }
   ],
   "source": [
    "# here \"or\" means either on true or one false:-\n",
    "# through int:-\n",
    "a = 95\n",
    "b = 45 \n",
    "print(a<b or b<a)\n",
    "\n",
    "# through float:-\n",
    "a = 95.4\n",
    "b = 45.2\n",
    "print(a==b or b<a)\n",
    "\n",
    "# through eval:-\n",
    "a = 95.7\n",
    "b = 45 \n",
    "print(a<b or b<a)\n",
    "\n",
    "a = 4\n",
    "b = 7\n",
    "print(a>b or b!=a)"
   ]
  },
  {
   "cell_type": "code",
   "execution_count": 87,
   "id": "2b891789",
   "metadata": {},
   "outputs": [
    {
     "name": "stdout",
     "output_type": "stream",
     "text": [
      "False\n",
      "False\n",
      "False\n"
     ]
    }
   ],
   "source": [
    "# through int:-\n",
    "a = 95\n",
    "b = 45 \n",
    "print(a<b or b==a)\n",
    "\n",
    "# through float:-\n",
    "a = 95.4\n",
    "b = 45.2\n",
    "print(a<b or b==a)\n",
    "\n",
    "# through eval:-\n",
    "a = 95.7\n",
    "b = 45 \n",
    "print(a<b or b>a)"
   ]
  },
  {
   "cell_type": "code",
   "execution_count": 94,
   "id": "cea4eb15",
   "metadata": {},
   "outputs": [
    {
     "name": "stdout",
     "output_type": "stream",
     "text": [
      "False\n",
      "False\n",
      "True\n"
     ]
    }
   ],
   "source": [
    "# Here \"not\" menas reverse the result ( that is if its true than it will be false or vice-versa)\n",
    "# through int:-\n",
    "a = 125\n",
    "b = 45\n",
    "print(not(a>b) and b==a)\n",
    "\n",
    "# through float:- \n",
    "a = 125.4\n",
    "b = 45.2\n",
    "print(a>b and not(b!=a))\n",
    "\n",
    "# through eval:-\n",
    "a = 7.0\n",
    "b = 7\n",
    "print(a>b or not(b!=a))"
   ]
  },
  {
   "cell_type": "code",
   "execution_count": 96,
   "id": "18dfcbf6",
   "metadata": {},
   "outputs": [
    {
     "name": "stdout",
     "output_type": "stream",
     "text": [
      "True\n"
     ]
    }
   ],
   "source": [
    "# Membership Operators:-\n",
    "name = \"Parul\"\n",
    "print(\"Parul\" in name)"
   ]
  },
  {
   "cell_type": "code",
   "execution_count": 97,
   "id": "a34b4fe2",
   "metadata": {},
   "outputs": [
    {
     "name": "stdout",
     "output_type": "stream",
     "text": [
      "False\n"
     ]
    }
   ],
   "source": [
    "# Membership Operators:-\n",
    "name = \"Parul\"\n",
    "print(\"parul\" in name)"
   ]
  },
  {
   "cell_type": "code",
   "execution_count": 98,
   "id": "2cf17d6a",
   "metadata": {},
   "outputs": [
    {
     "name": "stdout",
     "output_type": "stream",
     "text": [
      "True\n"
     ]
    }
   ],
   "source": [
    "# Membership Operators:-\n",
    "name = \"Parul Yadav\"\n",
    "print(\"parul\" not in name)"
   ]
  },
  {
   "cell_type": "code",
   "execution_count": 99,
   "id": "5fc1a019",
   "metadata": {},
   "outputs": [
    {
     "name": "stdout",
     "output_type": "stream",
     "text": [
      "False\n"
     ]
    }
   ],
   "source": [
    "# Membership Operators:-\n",
    "name = \"Parul Yadav\"\n",
    "print(\"Yadav\" not in name)"
   ]
  },
  {
   "cell_type": "code",
   "execution_count": 101,
   "id": "a3f4aeea",
   "metadata": {},
   "outputs": [
    {
     "name": "stdout",
     "output_type": "stream",
     "text": [
      "False\n",
      "True\n",
      "False\n",
      "False\n",
      "False\n",
      "True\n",
      "False\n",
      "False\n",
      "False\n",
      "False\n",
      "False\n",
      "False\n",
      "False\n",
      "False\n",
      "True\n",
      "True\n"
     ]
    }
   ],
   "source": [
    "# Logical operators:-\n",
    "# using \"and\":-\n",
    "a = 45\n",
    "b = 78\n",
    "print(a>b and b<a)\n",
    "\n",
    "print(a<b and b>a)\n",
    "\n",
    "print(a>b and b>a)\n",
    "\n",
    "print(a<b and b<a)\n",
    "\n",
    "print(a<=b and b<a)\n",
    "\n",
    "print(a<b and b>=a)\n",
    "\n",
    "print(a>b and b>=a)\n",
    "\n",
    "print(a<=b and b<a)\n",
    "\n",
    "print(a==b and a>=b)\n",
    "\n",
    "print(a>=b and a==b)\n",
    "\n",
    "print(a==b and a<=b)\n",
    "\n",
    "print(a<=b and a==b)\n",
    "\n",
    "print(a==b and a!=b)\n",
    "\n",
    "print(a!=b and a>=b)\n",
    "\n",
    "print(a!=b and a<=b)\n",
    "\n",
    "print(b>=a and a!=b)"
   ]
  },
  {
   "cell_type": "code",
   "execution_count": 102,
   "id": "80072d24",
   "metadata": {},
   "outputs": [
    {
     "name": "stdout",
     "output_type": "stream",
     "text": [
      "True\n",
      "True\n",
      "True\n",
      "True\n",
      "True\n",
      "True\n",
      "False\n",
      "True\n",
      "False\n",
      "True\n",
      "True\n",
      "True\n"
     ]
    }
   ],
   "source": [
    " # Logical Operators:-\n",
    "    # Using \"or\":-\n",
    "    \n",
    "a = 45\n",
    "b = 78\n",
    "print(a>=b or b!=a)\n",
    "\n",
    "print(a==b or b!=a)\n",
    "\n",
    "print(a<=b or b!=a)\n",
    "\n",
    "print(a<=b or b>=a)\n",
    "\n",
    "print(a>b or b>a)\n",
    "\n",
    "print(a<b or b==a)\n",
    "\n",
    "print(a==b or b==a)\n",
    "\n",
    "print(a>b or b!=a)\n",
    "\n",
    "print(a>b or b<a)\n",
    "\n",
    "print(a!=b or b!=a)\n",
    "\n",
    "print(a!=b or b>=a)\n",
    "\n",
    "print(a!=b or b<=a)"
   ]
  },
  {
   "cell_type": "code",
   "execution_count": 103,
   "id": "140c2e38",
   "metadata": {},
   "outputs": [
    {
     "name": "stdout",
     "output_type": "stream",
     "text": [
      "True\n",
      "False\n",
      "False\n",
      "False\n",
      "False\n",
      "False\n",
      "True\n",
      "True\n",
      "True\n",
      "False\n",
      "True\n",
      "True\n",
      "True\n",
      "True\n",
      "False\n",
      "False\n"
     ]
    }
   ],
   "source": [
    "# Logical Operators:-\n",
    "# Using \"Not\":-\n",
    "\n",
    "a = 45\n",
    "b = 78\n",
    "print(not(a==b)and(b!=a))\n",
    "\n",
    "print(not(a>=b)and(b==a))\n",
    "\n",
    "print(not(a>=b)and(b<=a))\n",
    "\n",
    "print((a>=b)and not(b==a))\n",
    "\n",
    "print(not(a>b)and(b==a))\n",
    "\n",
    "print((a>b)and not(b!=a))\n",
    "\n",
    "print(not(a>b and b!=a))\n",
    "\n",
    "print(not(a>b and b>=a))\n",
    "\n",
    "print(not(a<b and b==a))\n",
    "\n",
    "print(not(a<b and b!=a))\n",
    "\n",
    "print(not(a<b and b<=a))\n",
    "\n",
    "print(not(a<=b and b<=a))\n",
    "\n",
    "print(not(a>b and b>=a))\n",
    "\n",
    "print(not(a==b and b==a))\n",
    "\n",
    "print(not(a!=b and b!=a))\n",
    "\n",
    "print(not(a<b and a!=b))"
   ]
  },
  {
   "cell_type": "markdown",
   "id": "dc108210",
   "metadata": {},
   "source": [
    "# Day- 4"
   ]
  },
  {
   "cell_type": "code",
   "execution_count": 42,
   "id": "6bdeab85",
   "metadata": {},
   "outputs": [
    {
     "data": {
      "text/plain": [
       "'0b10001'"
      ]
     },
     "execution_count": 42,
     "metadata": {},
     "output_type": "execute_result"
    }
   ],
   "source": [
    "# Binary Ocurance:-\n",
    "bin(17)"
   ]
  },
  {
   "cell_type": "code",
   "execution_count": 44,
   "id": "a2aec040",
   "metadata": {},
   "outputs": [],
   "source": [
    "# how to find binary\n",
    "# we have to do the power of 2 in this like 2 pow 0\n",
    "# here we have some powers of 2 like\n",
    "\n",
    "#             ---   128   64   32   16   8   4   2   1\n",
    "\n",
    "# for example we have to find the binary number of 17 so we will do this\n",
    "#                   0     0    0    1   0    0   0   1\n",
    "# and in this for binary we put b after writing one zero before the last one\n",
    "# in this question we have one on the 16 so before 16 we write 0 in the before 1 and we write 0b\n",
    "# so for 17 we have binary number is '0b10001'\n",
    "# in binary we always 'sum' up the two numbers "
   ]
  },
  {
   "cell_type": "code",
   "execution_count": 45,
   "id": "e3ec3e15",
   "metadata": {},
   "outputs": [
    {
     "data": {
      "text/plain": [
       "'0b10000'"
      ]
     },
     "execution_count": 45,
     "metadata": {},
     "output_type": "execute_result"
    }
   ],
   "source": [
    "# we have another example of this\n",
    "# find binary of 16\n",
    "#      128   64   32   16   8   4   2   1\n",
    "# we have this format always to find the binary number of any given number\n",
    "# here we have to find the binary number of 16\n",
    "# so we have\n",
    "#       0    0    0    1    0   0   0    0\n",
    "# so our answer will be\n",
    "# binary number of 16 is '0b10000'\n",
    "# let's find with the syntax of code so we have\n",
    "\n",
    "bin(16)"
   ]
  },
  {
   "cell_type": "code",
   "execution_count": null,
   "id": "46427dc5",
   "metadata": {},
   "outputs": [],
   "source": [
    "# we have another example of this\n",
    "# find binary of 6\n",
    "#      128   64   32   16   8   4   2   1\n",
    "# we have this format always to find the binary number of any given number\n",
    "# here we have to find the binary number of 16\n",
    "# so we have\n",
    "#       0    0    0    0    0   1   1    0\n",
    "# so our answer will be\n",
    "# binary number of 6 is '0b110'\n",
    "# let's find with the syntax of code so we have\n",
    "\n",
    "bin(6)"
   ]
  },
  {
   "cell_type": "code",
   "execution_count": 3,
   "id": "b2e56c05",
   "metadata": {},
   "outputs": [
    {
     "name": "stdout",
     "output_type": "stream",
     "text": [
      "0b100 4\n"
     ]
    }
   ],
   "source": [
    "# Printing binary values through \"And(&)\"\n",
    "\n",
    "print(bin(12&7),12&7)"
   ]
  },
  {
   "cell_type": "code",
   "execution_count": 4,
   "id": "a0ece58b",
   "metadata": {},
   "outputs": [
    {
     "name": "stdout",
     "output_type": "stream",
     "text": [
      "0b1111 15\n"
     ]
    }
   ],
   "source": [
    "# printing binary values through \"Or(|)\"\n",
    "\n",
    "print(bin(12|7),12|7)"
   ]
  },
  {
   "cell_type": "code",
   "execution_count": 5,
   "id": "286b9eaf",
   "metadata": {},
   "outputs": [
    {
     "name": "stdout",
     "output_type": "stream",
     "text": [
      "0b1011 11\n"
     ]
    }
   ],
   "source": [
    "# printing binary values through \"Xor(^)\"\n",
    "\n",
    "print(bin(12^7),12^7)"
   ]
  },
  {
   "cell_type": "code",
   "execution_count": 6,
   "id": "17df63e8",
   "metadata": {},
   "outputs": [
    {
     "name": "stdout",
     "output_type": "stream",
     "text": [
      "0 0b0\n"
     ]
    }
   ],
   "source": [
    "# we have two types of bitwise operators:-\n",
    "# Left shift operator.\n",
    "# Right shift operator.\n",
    "# here we are using right shift bitwise operator to print values:-\n",
    "\n",
    "print(12>>7,bin(12>>7))"
   ]
  },
  {
   "cell_type": "code",
   "execution_count": 7,
   "id": "47b89b5a",
   "metadata": {},
   "outputs": [
    {
     "name": "stdout",
     "output_type": "stream",
     "text": [
      "1536 0b11000000000\n"
     ]
    }
   ],
   "source": [
    "# here we use left shift bitwise operators to print values:-\n",
    "\n",
    "print(12<<7,bin(12<<7))"
   ]
  },
  {
   "cell_type": "code",
   "execution_count": 10,
   "id": "ba06bbbf",
   "metadata": {},
   "outputs": [
    {
     "data": {
      "text/plain": [
       "11"
      ]
     },
     "execution_count": 10,
     "metadata": {},
     "output_type": "execute_result"
    }
   ],
   "source": [
    "# \"Not\" or \"reverse \" operator we use it to reverse our answer :-\n",
    "# if the answer is in negitive than it change to positive or vice -versa.\n",
    "\n",
    "~(12)\n",
    "\n",
    "-(12+1)\n",
    "-(13)\n",
    "\n",
    "\n",
    "~(-12)\n",
    "-(-12+1)\n",
    "11"
   ]
  },
  {
   "cell_type": "code",
   "execution_count": 11,
   "id": "1e31eef0",
   "metadata": {},
   "outputs": [
    {
     "data": {
      "text/plain": [
       "-13"
      ]
     },
     "execution_count": 11,
     "metadata": {},
     "output_type": "execute_result"
    }
   ],
   "source": [
    "~(12)"
   ]
  },
  {
   "cell_type": "code",
   "execution_count": 12,
   "id": "3045b891",
   "metadata": {},
   "outputs": [
    {
     "data": {
      "text/plain": [
       "11"
      ]
     },
     "execution_count": 12,
     "metadata": {},
     "output_type": "execute_result"
    }
   ],
   "source": [
    "~(-12)"
   ]
  },
  {
   "cell_type": "code",
   "execution_count": 13,
   "id": "ba395e38",
   "metadata": {},
   "outputs": [
    {
     "name": "stdout",
     "output_type": "stream",
     "text": [
      "45 <class 'int'> 1939853084272\n"
     ]
    }
   ],
   "source": [
    "# Identity Operators:-\n",
    "\n",
    "a=45\n",
    "print(a,type(a),id(a))"
   ]
  },
  {
   "cell_type": "code",
   "execution_count": 14,
   "id": "733ae967",
   "metadata": {},
   "outputs": [
    {
     "name": "stdout",
     "output_type": "stream",
     "text": [
      "55 <class 'int'> 1939853084592\n"
     ]
    }
   ],
   "source": [
    "# printing identity of a variable:-\n",
    "a=55\n",
    "print(a,type(a),id(a))"
   ]
  },
  {
   "cell_type": "code",
   "execution_count": 15,
   "id": "d8aca860",
   "metadata": {},
   "outputs": [
    {
     "name": "stdout",
     "output_type": "stream",
     "text": [
      "45 <class 'int'> 1939853084272\n"
     ]
    }
   ],
   "source": [
    "# printing identity of b variable:-\n",
    "b=45\n",
    "print(b,type(b),id(b))"
   ]
  },
  {
   "cell_type": "code",
   "execution_count": 20,
   "id": "139ac68d",
   "metadata": {},
   "outputs": [
    {
     "data": {
      "text/plain": [
       "True"
      ]
     },
     "execution_count": 20,
     "metadata": {},
     "output_type": "execute_result"
    }
   ],
   "source": [
    "# Here we have two type of identity operators:-\n",
    "# \"is\" operator\n",
    "# \"is not\" operator\n",
    "# working of is operator\n",
    "\n",
    "a is b"
   ]
  },
  {
   "cell_type": "code",
   "execution_count": 22,
   "id": "96332327",
   "metadata": {},
   "outputs": [
    {
     "data": {
      "text/plain": [
       "False"
      ]
     },
     "execution_count": 22,
     "metadata": {},
     "output_type": "execute_result"
    }
   ],
   "source": [
    "# working of is not\n",
    "\n",
    "a is not b"
   ]
  },
  {
   "cell_type": "code",
   "execution_count": 23,
   "id": "64d317a8",
   "metadata": {},
   "outputs": [
    {
     "data": {
      "text/plain": [
       "True"
      ]
     },
     "execution_count": 23,
     "metadata": {},
     "output_type": "execute_result"
    }
   ],
   "source": [
    "# Comparing two id's\n",
    "\n",
    "id(a)==id(b)"
   ]
  },
  {
   "cell_type": "code",
   "execution_count": 24,
   "id": "c557822b",
   "metadata": {},
   "outputs": [
    {
     "ename": "SyntaxError",
     "evalue": "invalid syntax (4040372439.py, line 4)",
     "output_type": "error",
     "traceback": [
      "\u001b[1;36m  Cell \u001b[1;32mIn[24], line 4\u001b[1;36m\u001b[0m\n\u001b[1;33m    => Variable different\u001b[0m\n\u001b[1;37m    ^\u001b[0m\n\u001b[1;31mSyntaxError\u001b[0m\u001b[1;31m:\u001b[0m invalid syntax\n"
     ]
    }
   ],
   "source": [
    "# for integers only:-(Conditions)\n",
    " \n",
    "=> Variable different\n",
    "=> value same\n",
    "=> limit<=256\n",
    "=> id() same"
   ]
  },
  {
   "cell_type": "code",
   "execution_count": 25,
   "id": "ecd7e0df",
   "metadata": {},
   "outputs": [
    {
     "data": {
      "text/plain": [
       "True"
      ]
     },
     "execution_count": 25,
     "metadata": {},
     "output_type": "execute_result"
    }
   ],
   "source": [
    "# Checking the conditions for integers:-\n",
    "\n",
    "a = 234\n",
    "b = 234\n",
    "a is b"
   ]
  },
  {
   "cell_type": "code",
   "execution_count": 26,
   "id": "413c7470",
   "metadata": {},
   "outputs": [
    {
     "data": {
      "text/plain": [
       "False"
      ]
     },
     "execution_count": 26,
     "metadata": {},
     "output_type": "execute_result"
    }
   ],
   "source": [
    "a is not b"
   ]
  },
  {
   "cell_type": "code",
   "execution_count": 28,
   "id": "a8758a33",
   "metadata": {},
   "outputs": [
    {
     "data": {
      "text/plain": [
       "False"
      ]
     },
     "execution_count": 28,
     "metadata": {},
     "output_type": "execute_result"
    }
   ],
   "source": [
    "a = 456\n",
    "b = 456\n",
    "a is b"
   ]
  },
  {
   "cell_type": "code",
   "execution_count": 29,
   "id": "c29f3e32",
   "metadata": {},
   "outputs": [
    {
     "data": {
      "text/plain": [
       "True"
      ]
     },
     "execution_count": 29,
     "metadata": {},
     "output_type": "execute_result"
    }
   ],
   "source": [
    "a is not b"
   ]
  },
  {
   "cell_type": "code",
   "execution_count": 33,
   "id": "b41e221c",
   "metadata": {},
   "outputs": [
    {
     "data": {
      "text/plain": [
       "True"
      ]
     },
     "execution_count": 33,
     "metadata": {},
     "output_type": "execute_result"
    }
   ],
   "source": [
    "# for string:-\n",
    "# for string we have a condition that if we put a space between the lines than the result is false\n",
    "# otherwise if we don't put space and make a continues line than the condition is true\n",
    "name = \"ParulYadav\"\n",
    "name1 = \"ParulYadav\"\n",
    "name is name1"
   ]
  },
  {
   "cell_type": "code",
   "execution_count": 34,
   "id": "fe3ce479",
   "metadata": {},
   "outputs": [
    {
     "data": {
      "text/plain": [
       "False"
      ]
     },
     "execution_count": 34,
     "metadata": {},
     "output_type": "execute_result"
    }
   ],
   "source": [
    "name is not name1"
   ]
  },
  {
   "cell_type": "code",
   "execution_count": 35,
   "id": "e96b8a3f",
   "metadata": {},
   "outputs": [
    {
     "data": {
      "text/plain": [
       "False"
      ]
     },
     "execution_count": 35,
     "metadata": {},
     "output_type": "execute_result"
    }
   ],
   "source": [
    "name = \"Parul Yadav\"\n",
    "name1 = \"Parul Yadav\"\n",
    "name is name1"
   ]
  },
  {
   "cell_type": "code",
   "execution_count": 36,
   "id": "80e6b10a",
   "metadata": {},
   "outputs": [
    {
     "data": {
      "text/plain": [
       "True"
      ]
     },
     "execution_count": 36,
     "metadata": {},
     "output_type": "execute_result"
    }
   ],
   "source": [
    "name is not name1"
   ]
  },
  {
   "cell_type": "code",
   "execution_count": 37,
   "id": "45fc514a",
   "metadata": {},
   "outputs": [
    {
     "data": {
      "text/plain": [
       "False"
      ]
     },
     "execution_count": 37,
     "metadata": {},
     "output_type": "execute_result"
    }
   ],
   "source": [
    "# For float:-\n",
    "# we have a condition for floats that if we put everything same in one line than the identity is same otherwise it was different because pyhton read the code line by line\n",
    "\n",
    "a,b,c = 2.4,\"Parul\",2.4\n",
    "a is b"
   ]
  },
  {
   "cell_type": "code",
   "execution_count": 38,
   "id": "cbe5bc74",
   "metadata": {},
   "outputs": [
    {
     "data": {
      "text/plain": [
       "False"
      ]
     },
     "execution_count": 38,
     "metadata": {},
     "output_type": "execute_result"
    }
   ],
   "source": [
    "b is c"
   ]
  },
  {
   "cell_type": "code",
   "execution_count": 39,
   "id": "50058ac9",
   "metadata": {},
   "outputs": [
    {
     "data": {
      "text/plain": [
       "True"
      ]
     },
     "execution_count": 39,
     "metadata": {},
     "output_type": "execute_result"
    }
   ],
   "source": [
    "a is c"
   ]
  },
  {
   "cell_type": "code",
   "execution_count": 41,
   "id": "b52faf66",
   "metadata": {},
   "outputs": [
    {
     "data": {
      "text/plain": [
       "False"
      ]
     },
     "execution_count": 41,
     "metadata": {},
     "output_type": "execute_result"
    }
   ],
   "source": [
    "a = 7.9\n",
    "b = \"Parul\"\n",
    "c = 7.9\n",
    "a is c"
   ]
  },
  {
   "cell_type": "code",
   "execution_count": null,
   "id": "ca829917",
   "metadata": {},
   "outputs": [],
   "source": []
  }
 ],
 "metadata": {
  "kernelspec": {
   "display_name": "Python 3 (ipykernel)",
   "language": "python",
   "name": "python3"
  },
  "language_info": {
   "codemirror_mode": {
    "name": "ipython",
    "version": 3
   },
   "file_extension": ".py",
   "mimetype": "text/x-python",
   "name": "python",
   "nbconvert_exporter": "python",
   "pygments_lexer": "ipython3",
   "version": "3.11.7"
  }
 },
 "nbformat": 4,
 "nbformat_minor": 5
}
