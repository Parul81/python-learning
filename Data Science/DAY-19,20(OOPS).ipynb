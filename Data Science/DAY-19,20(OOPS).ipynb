{
 "cells": [
  {
   "cell_type": "markdown",
   "id": "85fedba9",
   "metadata": {},
   "source": [
    "# Oops"
   ]
  },
  {
   "cell_type": "code",
   "execution_count": 2,
   "id": "31c26923",
   "metadata": {},
   "outputs": [],
   "source": [
    "# What is oops in python?\n",
    "\n",
    "=> In Python object-oriented Programming (OOPs) is a programming paradigm that uses objects and classes in programming. \n",
    "=> It aims to implement real-world entities like inheritance, polymorphisms, encapsulation, etc. in the programming. \n",
    "=> The main concept of object-oriented Programming (OOPs) or oops concepts in Python is to bind the data and the functions\n",
    "    that work together as a single unit so that no other part of the code can access this data.\n",
    "    \n",
    "# What are the oops concepts in python?\n",
    "\n",
    "=>OOPs Concepts in Python:-\n",
    "* Class in Python\n",
    "* Objects in Python\n",
    "* Polymorphism in Python\n",
    "* Encapsulation in Python\n",
    "* Inheritance in Python\n",
    "* Data Abstraction in Python\n"
   ]
  },
  {
   "cell_type": "code",
   "execution_count": null,
   "id": "969b577b",
   "metadata": {},
   "outputs": [],
   "source": [
    "# What is Class in Pyhton?\n",
    "\n",
    "=> A class is a collection of objects.\n",
    "=> A class contains the blueprints or the prototype from which the objects are being created. \n",
    "=> It is a logical entity that contains some attributes and methods. \n",
    "\n",
    "# Some points on Python class:  \n",
    "\n",
    "=> Classes are created by keyword class.\n",
    "=> Attributes are the variables that belong to a class.\n",
    "=> Attributes are always public and can be accessed using the dot (.) operator. Eg.: Myclass.Myattribute\n",
    "    \n",
    "#Class Definition Syntax:\n",
    "\n",
    "class ClassName:\n",
    "   # Statement-1\n",
    "   .\n",
    "   .\n",
    "   .\n",
    "   # Statement-N"
   ]
  },
  {
   "cell_type": "code",
   "execution_count": 3,
   "id": "a275faa6",
   "metadata": {},
   "outputs": [],
   "source": [
    "# Creating an Empty Class in Python:-\n",
    "\n",
    "class Dog:\n",
    "    pass"
   ]
  },
  {
   "cell_type": "code",
   "execution_count": null,
   "id": "5532efa8",
   "metadata": {},
   "outputs": [],
   "source": [
    "# What is Objects in Python?\n",
    "\n",
    "=> In object oriented programming Python, The object is an entity that has a state and behavior associated with it. \n",
    "=> It may be any real-world object like a mouse, keyboard, chair, table, pen, etc. \n",
    "=> Integers, strings, floating-point numbers, even arrays, and dictionaries, are all objects. \n",
    "=> More specifically, any single integer or any single string is an object\n",
    "\n",
    "# An object consists of:\n",
    "\n",
    "1) State: It is represented by the attributes of an object. It also reflects the properties of an object.\n",
    "2) Behavior: It is represented by the methods of an object. It also reflects the response of an object to other objects.\n",
    "3)Identity: It gives a unique name to an object and enables one object to interact with other objects.\n",
    "    "
   ]
  },
  {
   "cell_type": "code",
   "execution_count": 4,
   "id": "4bdb6c27",
   "metadata": {},
   "outputs": [],
   "source": [
    "# Creating an Object:-\n",
    "\n",
    "obj=Dog()"
   ]
  },
  {
   "cell_type": "code",
   "execution_count": 5,
   "id": "b094d89f",
   "metadata": {},
   "outputs": [],
   "source": [
    "# Creating a new class as info :-\n",
    "# using objects in it:-\n",
    "\n",
    "class info:\n",
    "    a=10\n",
    "    b=35"
   ]
  },
  {
   "cell_type": "code",
   "execution_count": 6,
   "id": "1dd249fd",
   "metadata": {},
   "outputs": [],
   "source": [
    "# creating the obj:-\n",
    "\n",
    "obj=info()"
   ]
  },
  {
   "cell_type": "code",
   "execution_count": 8,
   "id": "53a16bcd",
   "metadata": {},
   "outputs": [
    {
     "data": {
      "text/plain": [
       "10"
      ]
     },
     "execution_count": 8,
     "metadata": {},
     "output_type": "execute_result"
    }
   ],
   "source": [
    "# calling the object a:-\n",
    "\n",
    "obj.a"
   ]
  },
  {
   "cell_type": "code",
   "execution_count": 9,
   "id": "ac693243",
   "metadata": {},
   "outputs": [
    {
     "data": {
      "text/plain": [
       "35"
      ]
     },
     "execution_count": 9,
     "metadata": {},
     "output_type": "execute_result"
    }
   ],
   "source": [
    "# calling the object b:-\n",
    "\n",
    "obj.b"
   ]
  },
  {
   "cell_type": "code",
   "execution_count": 11,
   "id": "00f45653",
   "metadata": {},
   "outputs": [],
   "source": [
    "# We can assign so many objects in a single class:-\n",
    "# Let's know how:-\n",
    "\n",
    "class parul:\n",
    "    a=8\n",
    "    b=45"
   ]
  },
  {
   "cell_type": "code",
   "execution_count": 12,
   "id": "bd56d564",
   "metadata": {},
   "outputs": [
    {
     "name": "stdout",
     "output_type": "stream",
     "text": [
      "8\n",
      "45\n",
      "8\n",
      "45\n"
     ]
    }
   ],
   "source": [
    "# Creating objects of class parul:-\n",
    "\n",
    "obj=parul()\n",
    "obj1=parul()\n",
    "print(obj.a)\n",
    "print(obj.b)\n",
    "print(obj1.a)\n",
    "print(obj1.b)"
   ]
  },
  {
   "cell_type": "code",
   "execution_count": 13,
   "id": "bbb250e3",
   "metadata": {},
   "outputs": [],
   "source": [
    "# Creating an another class to introduce add function in it :-\n",
    "# Let's know how it is possible or not:-\n",
    "\n",
    "class cal:\n",
    "    a=50\n",
    "    b=45\n",
    "    \n",
    "    def add():\n",
    "        add = a+b\n",
    "        print(add)"
   ]
  },
  {
   "cell_type": "code",
   "execution_count": 1,
   "id": "1c0abb34",
   "metadata": {},
   "outputs": [
    {
     "ename": "NameError",
     "evalue": "name 'cal' is not defined",
     "output_type": "error",
     "traceback": [
      "\u001b[1;31m---------------------------------------------------------------------------\u001b[0m",
      "\u001b[1;31mNameError\u001b[0m                                 Traceback (most recent call last)",
      "Cell \u001b[1;32mIn[1], line 3\u001b[0m\n\u001b[0;32m      1\u001b[0m \u001b[38;5;66;03m# Creating the object for class cal:\u001b[39;00m\n\u001b[1;32m----> 3\u001b[0m obj\u001b[38;5;241m=\u001b[39m\u001b[43mcal\u001b[49m()\n\u001b[0;32m      4\u001b[0m obj\u001b[38;5;241m.\u001b[39madd()\n",
      "\u001b[1;31mNameError\u001b[0m: name 'cal' is not defined"
     ]
    }
   ],
   "source": [
    "# Creating the object for class cal:\n",
    "\n",
    "obj=cal()\n",
    "obj.add()\n",
    "\n",
    "# Here we are having error because we haven't pass any arguments in the def()"
   ]
  },
  {
   "cell_type": "code",
   "execution_count": 2,
   "id": "e4f79228",
   "metadata": {},
   "outputs": [],
   "source": [
    "# Creating an another class to introduce add function in it :-\n",
    "# Let's know how it is possible or not:-\n",
    "\n",
    "class cal:\n",
    "    a=50\n",
    "    b=45\n",
    "    \n",
    "    def add(self):\n",
    "        add = self.a + self.b\n",
    "        print(add)\n",
    "        "
   ]
  },
  {
   "cell_type": "code",
   "execution_count": 4,
   "id": "001011fa",
   "metadata": {},
   "outputs": [
    {
     "name": "stdout",
     "output_type": "stream",
     "text": [
      "95\n"
     ]
    }
   ],
   "source": [
    "# Creating the object for class cal:\n",
    "\n",
    "obj=cal()\n",
    "obj.add()\n"
   ]
  },
  {
   "cell_type": "code",
   "execution_count": 6,
   "id": "7be4dc69",
   "metadata": {},
   "outputs": [],
   "source": [
    "# Creating an another class to introduce add function in it :-\n",
    "# Let's know how it is possible or not:-\n",
    "\n",
    "class cal:\n",
    "    a=50\n",
    "    b=45\n",
    "    \n",
    "    def add(self):\n",
    "        add = self.a + self.b\n",
    "        print(add)\n",
    "        "
   ]
  },
  {
   "cell_type": "code",
   "execution_count": 7,
   "id": "22707dc8",
   "metadata": {},
   "outputs": [
    {
     "name": "stdout",
     "output_type": "stream",
     "text": [
      "95\n",
      "None\n"
     ]
    }
   ],
   "source": [
    "# Creating the object for class cal:\n",
    "# Through the print :-\n",
    "\n",
    "obj=cal()\n",
    "print(obj.add())\n",
    "\n",
    "# To avoid the None we have to use return in place of print."
   ]
  },
  {
   "cell_type": "code",
   "execution_count": 8,
   "id": "21a97b88",
   "metadata": {},
   "outputs": [],
   "source": [
    "# Creating an another class to introduce add function in it :-\n",
    "# Using the return function inplace of print:-\n",
    "# Let's know how it is possible or not:-\n",
    "\n",
    "class cal:\n",
    "    a=50\n",
    "    b=45\n",
    "    \n",
    "    def add(self):\n",
    "        add = self.a + self.b\n",
    "        return(add)"
   ]
  },
  {
   "cell_type": "code",
   "execution_count": 10,
   "id": "dd122528",
   "metadata": {},
   "outputs": [
    {
     "name": "stdout",
     "output_type": "stream",
     "text": [
      "95\n"
     ]
    }
   ],
   "source": [
    "# Creating the object for class cal:\n",
    "# Through the print :-\n",
    "\n",
    "obj=cal()\n",
    "print(obj.add())"
   ]
  },
  {
   "cell_type": "code",
   "execution_count": 11,
   "id": "1e94a179",
   "metadata": {},
   "outputs": [],
   "source": [
    "# Creating an another class to introduce add function in it :-\n",
    "# Let's know how it is possible or not:-\n",
    "\n",
    "class cal:\n",
    "    a=50\n",
    "    b=45\n",
    "    \n",
    "    def add(self):\n",
    "        add = self.a + self.b\n",
    "        return(add)\n",
    "        \n",
    "    def sub(self,c,d):\n",
    "        sub=c-d\n",
    "        return sub"
   ]
  },
  {
   "cell_type": "code",
   "execution_count": 14,
   "id": "1f6ca606",
   "metadata": {},
   "outputs": [
    {
     "name": "stdout",
     "output_type": "stream",
     "text": [
      "95\n",
      "8\n"
     ]
    }
   ],
   "source": [
    "# Creating the obj to run the class def:\n",
    "\n",
    "obj=cal()\n",
    "print(obj.add())\n",
    "print(obj.sub(12,4))"
   ]
  },
  {
   "cell_type": "code",
   "execution_count": null,
   "id": "53ec264d",
   "metadata": {},
   "outputs": [],
   "source": [
    "# Creating an another class to introduce add function in it :-\n",
    "# Let's know how it is possible or not:-\n",
    "# Using the init parameter:-\n",
    "\n",
    "class cal:\n",
    "    a=50\n",
    "    b=45\n",
    "    \n",
    "    def __init__(self):\n",
    "        add = self.a + self.b\n",
    "        return(add)\n",
    "        \n",
    "    def sub(self,c,d):\n",
    "        sub=c-d\n",
    "        return sub"
   ]
  },
  {
   "cell_type": "code",
   "execution_count": 17,
   "id": "d3f8a483",
   "metadata": {},
   "outputs": [],
   "source": [
    "# Creating the object:-\n",
    "\n",
    "obj=cal()"
   ]
  },
  {
   "cell_type": "code",
   "execution_count": 18,
   "id": "1c948d56",
   "metadata": {},
   "outputs": [],
   "source": [
    "# Creating an another class to introduce add function in it :-\n",
    "# Let's know how it is possible or not:-\n",
    "# Using the init parameter:-\n",
    "\n",
    "class cal:\n",
    "    a=50\n",
    "    b=45\n",
    "    \n",
    "    def __init__(self):\n",
    "        add = self.a + self.b\n",
    "        print(add)\n",
    "        \n",
    "    def sub(self,c,d):\n",
    "        sub=c-d\n",
    "        return sub"
   ]
  },
  {
   "cell_type": "code",
   "execution_count": 19,
   "id": "0538ebc6",
   "metadata": {},
   "outputs": [
    {
     "name": "stdout",
     "output_type": "stream",
     "text": [
      "95\n"
     ]
    },
    {
     "data": {
      "text/plain": [
       "3"
      ]
     },
     "execution_count": 19,
     "metadata": {},
     "output_type": "execute_result"
    }
   ],
   "source": [
    "# Creating the object:-\n",
    "\n",
    "obj=cal()\n",
    "obj.sub(4,1)"
   ]
  },
  {
   "cell_type": "code",
   "execution_count": 23,
   "id": "99315227",
   "metadata": {},
   "outputs": [],
   "source": [
    "# Creating an another class to introduce add function in it :-\n",
    "# Let's know how it is possible or not:-\n",
    "# Using the init parameter:-\n",
    "# Twice using the parameter init:-\n",
    "\n",
    "class cal:\n",
    "    a=50\n",
    "    b=45\n",
    "    \n",
    "    def __init__(self):\n",
    "        add = self.a + self.b\n",
    "        print(add)\n",
    "        \n",
    "    def __init__(self,c=60,d=2):\n",
    "        sub=c-d\n",
    "        print(sub)"
   ]
  },
  {
   "cell_type": "code",
   "execution_count": 25,
   "id": "32571475",
   "metadata": {},
   "outputs": [
    {
     "name": "stdout",
     "output_type": "stream",
     "text": [
      "58\n"
     ]
    }
   ],
   "source": [
    "# Creating the obj :-\n",
    "\n",
    "obk=cal()"
   ]
  },
  {
   "cell_type": "code",
   "execution_count": 28,
   "id": "45717195",
   "metadata": {},
   "outputs": [],
   "source": [
    "# Creating the new class as a  and b:-\n",
    "\n",
    "class A:\n",
    "    def info(self):\n",
    "        print(\"Welcome to IIHT\")\n",
    "        \n",
    "class B(A):\n",
    "    def info1(self):\n",
    "        print(\"Welcome to Zeetron\")"
   ]
  },
  {
   "cell_type": "code",
   "execution_count": 29,
   "id": "617584ea",
   "metadata": {},
   "outputs": [
    {
     "name": "stdout",
     "output_type": "stream",
     "text": [
      "Welcome to Zeetron\n"
     ]
    }
   ],
   "source": [
    "# Creating the obj :-\n",
    "\n",
    "obj=B()\n",
    "obj.info1()"
   ]
  },
  {
   "cell_type": "code",
   "execution_count": 30,
   "id": "0ebe1e4c",
   "metadata": {},
   "outputs": [
    {
     "name": "stdout",
     "output_type": "stream",
     "text": [
      "Welcome to IIHT\n"
     ]
    }
   ],
   "source": [
    "obj.info()"
   ]
  },
  {
   "cell_type": "code",
   "execution_count": 31,
   "id": "7bb0710d",
   "metadata": {},
   "outputs": [],
   "source": [
    "# Creating the new class as a  and b:-\n",
    "\n",
    "class A:\n",
    "    def info(self):\n",
    "        print(\"Welcome to IIHT\")\n",
    "        \n",
    "class B(A):\n",
    "    def info1(self):\n",
    "        print(\"Welcome to Zeetron\")\n",
    "        \n",
    "class C(B):\n",
    "    def info2(self):\n",
    "        print(\"Intro to Python\")"
   ]
  },
  {
   "cell_type": "code",
   "execution_count": 33,
   "id": "17905f51",
   "metadata": {},
   "outputs": [
    {
     "name": "stdout",
     "output_type": "stream",
     "text": [
      "Welcome to IIHT\n"
     ]
    }
   ],
   "source": [
    "# Creating the obj():-\n",
    "\n",
    "obj=C()\n",
    "obj.info()"
   ]
  },
  {
   "cell_type": "code",
   "execution_count": 34,
   "id": "9325b865",
   "metadata": {},
   "outputs": [
    {
     "name": "stdout",
     "output_type": "stream",
     "text": [
      "Welcome to Zeetron\n"
     ]
    }
   ],
   "source": [
    "# Calling the obj again:-\n",
    "\n",
    "obj.info1()"
   ]
  },
  {
   "cell_type": "code",
   "execution_count": 35,
   "id": "34d244c4",
   "metadata": {},
   "outputs": [
    {
     "name": "stdout",
     "output_type": "stream",
     "text": [
      "Intro to Python\n"
     ]
    }
   ],
   "source": [
    "# Calling the obj again:-\n",
    "\n",
    "obj.info2()"
   ]
  },
  {
   "cell_type": "code",
   "execution_count": 36,
   "id": "0ac5544d",
   "metadata": {},
   "outputs": [],
   "source": [
    "# Creating the new class as a  and b:-\n",
    "\n",
    "class A:\n",
    "    def info(self):\n",
    "        print(\"Welcome to IIHT\")\n",
    "        \n",
    "class B(A):\n",
    "    def info1(self):\n",
    "        print(\"Welcome to Zeetron\")\n",
    "        \n",
    "class C(B):\n",
    "    def info2(self):\n",
    "        print(\"Intro to Python\")"
   ]
  },
  {
   "cell_type": "code",
   "execution_count": 37,
   "id": "41b67f9e",
   "metadata": {},
   "outputs": [],
   "source": [
    "#  Creating the obj:-\n",
    "\n",
    "obj=C()"
   ]
  },
  {
   "cell_type": "code",
   "execution_count": 38,
   "id": "894753ae",
   "metadata": {},
   "outputs": [
    {
     "name": "stdout",
     "output_type": "stream",
     "text": [
      "Welcome to IIHT\n"
     ]
    }
   ],
   "source": [
    "obj.info()"
   ]
  },
  {
   "cell_type": "code",
   "execution_count": 39,
   "id": "3965fbe3",
   "metadata": {},
   "outputs": [
    {
     "name": "stdout",
     "output_type": "stream",
     "text": [
      "Welcome to Zeetron\n"
     ]
    }
   ],
   "source": [
    "obj.info1()"
   ]
  },
  {
   "cell_type": "code",
   "execution_count": 40,
   "id": "a22a649c",
   "metadata": {},
   "outputs": [
    {
     "name": "stdout",
     "output_type": "stream",
     "text": [
      "Intro to Python\n"
     ]
    }
   ],
   "source": [
    "obj.info2()"
   ]
  },
  {
   "cell_type": "code",
   "execution_count": 42,
   "id": "db559535",
   "metadata": {},
   "outputs": [],
   "source": [
    "# Creating the new class from the init parameter:-\n",
    "\n",
    "class A:\n",
    "    def __init__(self):\n",
    "        self.__name=\"Parul\"\n",
    "        \n",
    "    def getname(self):\n",
    "        return self.__name\n",
    "    \n",
    "    def setname(self,name):\n",
    "        self.__name=name"
   ]
  },
  {
   "cell_type": "code",
   "execution_count": 44,
   "id": "fd94e553",
   "metadata": {},
   "outputs": [
    {
     "data": {
      "text/plain": [
       "'Puja'"
      ]
     },
     "execution_count": 44,
     "metadata": {},
     "output_type": "execute_result"
    }
   ],
   "source": [
    "# Creating the obj:-\n",
    "\n",
    "obj=A()\n",
    "obj.setname(\"Puja\")\n",
    "obj.getname()"
   ]
  },
  {
   "cell_type": "code",
   "execution_count": 45,
   "id": "4a1e89ad",
   "metadata": {},
   "outputs": [],
   "source": [
    "# Creating the class as opr:-\n",
    "\n",
    "class opr:\n",
    "    a=8\n",
    "    b=4\n",
    "    \n",
    "    def add(self):\n",
    "        add=self.a + self.b\n",
    "        return add"
   ]
  },
  {
   "cell_type": "code",
   "execution_count": 46,
   "id": "2b5d068d",
   "metadata": {},
   "outputs": [],
   "source": [
    "# Creating the obj:-\n",
    "\n",
    "obj=opr()"
   ]
  },
  {
   "cell_type": "code",
   "execution_count": 47,
   "id": "11c2afa8",
   "metadata": {},
   "outputs": [
    {
     "data": {
      "text/plain": [
       "8"
      ]
     },
     "execution_count": 47,
     "metadata": {},
     "output_type": "execute_result"
    }
   ],
   "source": [
    "obj.a"
   ]
  },
  {
   "cell_type": "code",
   "execution_count": 49,
   "id": "fe932ba6",
   "metadata": {},
   "outputs": [
    {
     "data": {
      "text/plain": [
       "4"
      ]
     },
     "execution_count": 49,
     "metadata": {},
     "output_type": "execute_result"
    }
   ],
   "source": [
    "obj.b"
   ]
  },
  {
   "cell_type": "code",
   "execution_count": 50,
   "id": "55f7e681",
   "metadata": {},
   "outputs": [],
   "source": [
    "# Creating the class as opr:-\n",
    "\n",
    "class opr:\n",
    "    __a=8\n",
    "    __b=4\n",
    "    \n",
    "    def add(self):\n",
    "        add=self.__a + self.__b\n",
    "        return add"
   ]
  },
  {
   "cell_type": "code",
   "execution_count": 51,
   "id": "3196404d",
   "metadata": {},
   "outputs": [],
   "source": [
    "obj=opr()"
   ]
  },
  {
   "cell_type": "code",
   "execution_count": 52,
   "id": "f1868af5",
   "metadata": {},
   "outputs": [
    {
     "ename": "AttributeError",
     "evalue": "'opr' object has no attribute '__a'",
     "output_type": "error",
     "traceback": [
      "\u001b[1;31m---------------------------------------------------------------------------\u001b[0m",
      "\u001b[1;31mAttributeError\u001b[0m                            Traceback (most recent call last)",
      "Cell \u001b[1;32mIn[52], line 1\u001b[0m\n\u001b[1;32m----> 1\u001b[0m \u001b[43mobj\u001b[49m\u001b[38;5;241;43m.\u001b[39;49m\u001b[43m__a\u001b[49m\n",
      "\u001b[1;31mAttributeError\u001b[0m: 'opr' object has no attribute '__a'"
     ]
    }
   ],
   "source": [
    "obj.__a\n",
    "\n",
    "# Here we have made the \"a\" as private so that's why we are not able to see the return of a."
   ]
  },
  {
   "cell_type": "code",
   "execution_count": 53,
   "id": "cb501d4c",
   "metadata": {},
   "outputs": [
    {
     "data": {
      "text/plain": [
       "12"
      ]
     },
     "execution_count": 53,
     "metadata": {},
     "output_type": "execute_result"
    }
   ],
   "source": [
    "obj.add()"
   ]
  },
  {
   "cell_type": "code",
   "execution_count": 61,
   "id": "f30d79f6",
   "metadata": {},
   "outputs": [],
   "source": [
    "# Creating the new class as opr:-\n",
    "\n",
    "class opr:\n",
    "    __a=10\n",
    "    __b=20\n",
    "    \n",
    "    def add(self):\n",
    "        add=self.__a + self.__b\n",
    "        print(self.__sub())\n",
    "        \n",
    "    def __sub(self):\n",
    "        sub=self.__a - self.__b\n",
    "        return sub"
   ]
  },
  {
   "cell_type": "code",
   "execution_count": 62,
   "id": "8546c90e",
   "metadata": {},
   "outputs": [],
   "source": [
    "obj=opr()"
   ]
  },
  {
   "cell_type": "code",
   "execution_count": 63,
   "id": "5003a45c",
   "metadata": {},
   "outputs": [
    {
     "ename": "AttributeError",
     "evalue": "'opr' object has no attribute '__add'",
     "output_type": "error",
     "traceback": [
      "\u001b[1;31m---------------------------------------------------------------------------\u001b[0m",
      "\u001b[1;31mAttributeError\u001b[0m                            Traceback (most recent call last)",
      "Cell \u001b[1;32mIn[63], line 1\u001b[0m\n\u001b[1;32m----> 1\u001b[0m \u001b[43mobj\u001b[49m\u001b[38;5;241;43m.\u001b[39;49m\u001b[43m__add\u001b[49m()\n",
      "\u001b[1;31mAttributeError\u001b[0m: 'opr' object has no attribute '__add'"
     ]
    }
   ],
   "source": [
    "obj.__add()"
   ]
  },
  {
   "cell_type": "code",
   "execution_count": 64,
   "id": "2bee367c",
   "metadata": {},
   "outputs": [],
   "source": [
    "obj=opr()"
   ]
  },
  {
   "cell_type": "code",
   "execution_count": 65,
   "id": "59ed479f",
   "metadata": {},
   "outputs": [
    {
     "ename": "AttributeError",
     "evalue": "'opr' object has no attribute '__sub'",
     "output_type": "error",
     "traceback": [
      "\u001b[1;31m---------------------------------------------------------------------------\u001b[0m",
      "\u001b[1;31mAttributeError\u001b[0m                            Traceback (most recent call last)",
      "Cell \u001b[1;32mIn[65], line 1\u001b[0m\n\u001b[1;32m----> 1\u001b[0m \u001b[43mobj\u001b[49m\u001b[38;5;241;43m.\u001b[39;49m\u001b[43m__sub\u001b[49m()\n",
      "\u001b[1;31mAttributeError\u001b[0m: 'opr' object has no attribute '__sub'"
     ]
    }
   ],
   "source": [
    "obj.__sub()"
   ]
  },
  {
   "cell_type": "code",
   "execution_count": 66,
   "id": "4e64b767",
   "metadata": {},
   "outputs": [
    {
     "name": "stdout",
     "output_type": "stream",
     "text": [
      "-10\n"
     ]
    }
   ],
   "source": [
    "obj.add()"
   ]
  },
  {
   "cell_type": "code",
   "execution_count": 67,
   "id": "c3b45ce6",
   "metadata": {},
   "outputs": [],
   "source": [
    "# Creating the new class as opr:-\n",
    "\n",
    "class opr:\n",
    "    __a=10\n",
    "    __b=20\n",
    "    \n",
    "    def add(self):\n",
    "        add=self.__a + self.__b\n",
    "        print(self.__sub())\n",
    "        \n",
    "    def __sub(self):\n",
    "        sub=self.__a - self.__b\n",
    "        return sub"
   ]
  },
  {
   "cell_type": "code",
   "execution_count": 68,
   "id": "de7c2ee8",
   "metadata": {},
   "outputs": [],
   "source": [
    "# Creating the obj:-\n",
    "\n",
    "obj=opr()"
   ]
  },
  {
   "cell_type": "code",
   "execution_count": 69,
   "id": "bebfd070",
   "metadata": {},
   "outputs": [
    {
     "ename": "AttributeError",
     "evalue": "'opr' object has no attribute '__sub'",
     "output_type": "error",
     "traceback": [
      "\u001b[1;31m---------------------------------------------------------------------------\u001b[0m",
      "\u001b[1;31mAttributeError\u001b[0m                            Traceback (most recent call last)",
      "Cell \u001b[1;32mIn[69], line 1\u001b[0m\n\u001b[1;32m----> 1\u001b[0m \u001b[43mobj\u001b[49m\u001b[38;5;241;43m.\u001b[39;49m\u001b[43m__sub\u001b[49m()\n",
      "\u001b[1;31mAttributeError\u001b[0m: 'opr' object has no attribute '__sub'"
     ]
    }
   ],
   "source": [
    "obj.__sub()"
   ]
  },
  {
   "cell_type": "code",
   "execution_count": 1,
   "id": "930ca54f",
   "metadata": {},
   "outputs": [],
   "source": [
    "# Polymorphism in Python?\n",
    "\n",
    "=> Polymorphism in Python is the ability of one object to take on multiple forms. \n",
    "=> This is done by creating multiple classes inherited from a single base class. \n",
    "=> Each class can then be used interchangeably, as they all share the same interface. \n",
    "=> This allows for a great degree of flexibility when it comes to programming.\n",
    "\n",
    "# Types of polymorphism:-\n",
    "\n",
    "=> Method overloading.\n",
    "=> Method overridding."
   ]
  },
  {
   "cell_type": "code",
   "execution_count": 2,
   "id": "c330eb4d",
   "metadata": {},
   "outputs": [],
   "source": [
    "# Creating the new class as \"abc\" for method overriding:-\n",
    "\n",
    "class abc:\n",
    "    def info(self,name=\" \"):\n",
    "        print(\"My name is\",name)"
   ]
  },
  {
   "cell_type": "code",
   "execution_count": 3,
   "id": "f956a623",
   "metadata": {},
   "outputs": [],
   "source": [
    "# Creating the obj as class abc:-\n",
    "\n",
    "obj=abc()"
   ]
  },
  {
   "cell_type": "code",
   "execution_count": 4,
   "id": "fa22a2d8",
   "metadata": {},
   "outputs": [
    {
     "name": "stdout",
     "output_type": "stream",
     "text": [
      "My name is  \n"
     ]
    }
   ],
   "source": [
    "obj.info()"
   ]
  },
  {
   "cell_type": "code",
   "execution_count": 5,
   "id": "3b159659",
   "metadata": {},
   "outputs": [
    {
     "name": "stdout",
     "output_type": "stream",
     "text": [
      "My name is Parul\n"
     ]
    }
   ],
   "source": [
    "obj.info(\"Parul\")"
   ]
  },
  {
   "cell_type": "code",
   "execution_count": 6,
   "id": "5af5ec10",
   "metadata": {},
   "outputs": [
    {
     "name": "stdout",
     "output_type": "stream",
     "text": [
      "My name is Preeti\n"
     ]
    }
   ],
   "source": [
    "obj.info(\"Preeti\")"
   ]
  },
  {
   "cell_type": "code",
   "execution_count": 7,
   "id": "7fbae7c5",
   "metadata": {},
   "outputs": [],
   "source": [
    "# Creating the new class as method overloading:-\n",
    "\n",
    "class A:\n",
    "    def info(self):\n",
    "        print(\"Welcome to IIHT\")\n",
    "        \n",
    "class B(A):\n",
    "    def info(self):\n",
    "        print(\"welcome to Zeetron\")\n",
    "    "
   ]
  },
  {
   "cell_type": "code",
   "execution_count": 8,
   "id": "620bb052",
   "metadata": {},
   "outputs": [
    {
     "name": "stdout",
     "output_type": "stream",
     "text": [
      "welcome to Zeetron\n"
     ]
    }
   ],
   "source": [
    "obj=B()\n",
    "obj.info()"
   ]
  },
  {
   "cell_type": "code",
   "execution_count": 9,
   "id": "7a042caf",
   "metadata": {},
   "outputs": [],
   "source": [
    "class A:\n",
    "    def info(self):\n",
    "        print(\"Welcome to IIHT\")\n",
    "        \n",
    "class B(A):\n",
    "    def info(self):\n",
    "        super().info()\n",
    "        print(\"welcome to Zeetron\")\n",
    "    "
   ]
  },
  {
   "cell_type": "code",
   "execution_count": 10,
   "id": "388fdac0",
   "metadata": {},
   "outputs": [
    {
     "name": "stdout",
     "output_type": "stream",
     "text": [
      "Welcome to IIHT\n",
      "welcome to Zeetron\n"
     ]
    }
   ],
   "source": [
    "obj=B()\n",
    "obj.info()"
   ]
  },
  {
   "cell_type": "code",
   "execution_count": 70,
   "id": "5da34f3d",
   "metadata": {},
   "outputs": [],
   "source": [
    "# an another example of method overriding in polymorphism :-\n",
    "\n",
    "class opr:\n",
    "    def area(self,a=None,b=None):\n",
    "        if a!=None and b!=None:\n",
    "            print(\"Area of rectangle\",a*b)\n",
    "            \n",
    "        elif a!=None:\n",
    "            print(\"Area of square\",a*a)\n",
    "            \n",
    "        else:\n",
    "            print(\"Nothing to print\")\n",
    "            "
   ]
  },
  {
   "cell_type": "code",
   "execution_count": 14,
   "id": "f04bf004",
   "metadata": {},
   "outputs": [
    {
     "name": "stdout",
     "output_type": "stream",
     "text": [
      "Nothing to print\n"
     ]
    }
   ],
   "source": [
    "obj=opr()\n",
    "obj.area()"
   ]
  },
  {
   "cell_type": "code",
   "execution_count": 15,
   "id": "9e1e304c",
   "metadata": {},
   "outputs": [
    {
     "name": "stdout",
     "output_type": "stream",
     "text": [
      "Area of square 400\n"
     ]
    }
   ],
   "source": [
    "obj.area(20)"
   ]
  },
  {
   "cell_type": "code",
   "execution_count": 16,
   "id": "5685bd38",
   "metadata": {},
   "outputs": [
    {
     "name": "stdout",
     "output_type": "stream",
     "text": [
      "Area of rectangle 44\n"
     ]
    }
   ],
   "source": [
    "obj.area(11,4)"
   ]
  },
  {
   "cell_type": "code",
   "execution_count": 1,
   "id": "90d5facd",
   "metadata": {},
   "outputs": [
    {
     "name": "stdout",
     "output_type": "stream",
     "text": [
      "Requirement already satisfied: tkintertable in c:\\users\\parul\\python\\lib\\site-packages (1.3.3)\n",
      "Requirement already satisfied: future in c:\\users\\parul\\python\\lib\\site-packages (from tkintertable) (0.18.3)\n",
      "Note: you may need to restart the kernel to use updated packages.\n"
     ]
    }
   ],
   "source": [
    "pip install tkintertable"
   ]
  },
  {
   "cell_type": "code",
   "execution_count": null,
   "id": "d9b4b48a",
   "metadata": {},
   "outputs": [],
   "source": [
    "import tkinter    # Importing the tkinter\n",
    "from tkinter import*    # Importing the all properties of the tkinter\n",
    "frame = tkinter.Tk()   # Calling the tkinter for the frame\n",
    "frame.title(\"ASUL GAPSHAP TIME\")  # MAking the title of the frame\n",
    "frame.geometry(\"1500x800\")    #  \"Width x Height\"\n",
    "frame.configure(background=\"pink\")\n",
    "\n",
    "# Making the labels for the frame:-\n",
    "\n",
    "label1 = tkinter.Label(frame,text=\"ASUL GAPSHAP TIME\",bg=\"purple\",font=(\"Arial Bold\",50)).pack()\n",
    "\n",
    "label2 = tkinter.Label(frame,text=\"Since - 1999\",bg=\"red\",font=(\"Arial Bold\",30)).pack()\n",
    "\n",
    "label3 = tkinter.Label(frame,text=\"WWW.ASUL GAPSHAPTIME.COM\",bg=\"red\",font=(\"Arial Bold\",30)).pack()\n",
    "\n",
    "label4 = tkinter.Label(frame,text=\"MENU CARD\",bg=\"red\",font=(\"Arial Bold\",30)).pack()\n",
    "\n",
    "# Forming the buttons for the frame:-\n",
    "\n",
    "b1 = Button(text=\"Indian\",fg=\"White\",bg=\"black\",font=(\"bold\",40))\n",
    "b1.pack(side=\"right\")\n",
    "\n",
    "b2 = Button(text=\"German\",fg=\"White\",bg=\"black\",font=(\"bold\",40))\n",
    "b2.pack(side=\"left\")\n",
    "\n",
    "b3 = Button(text=\"French\",fg=\"White\",bg=\"black\",font=(\"bold\",40))\n",
    "b3.pack(side=\"top\")\n",
    "\n",
    "b4 = Button(text=\"Italian\",fg=\"White\",bg=\"black\",font=(\"bold\",40))\n",
    "b4.pack(side=\"bottom\")\n",
    "\n",
    "frame.mainloop()"
   ]
  },
  {
   "cell_type": "code",
   "execution_count": null,
   "id": "5d74e92e",
   "metadata": {},
   "outputs": [],
   "source": []
  }
 ],
 "metadata": {
  "kernelspec": {
   "display_name": "Python 3 (ipykernel)",
   "language": "python",
   "name": "python3"
  },
  "language_info": {
   "codemirror_mode": {
    "name": "ipython",
    "version": 3
   },
   "file_extension": ".py",
   "mimetype": "text/x-python",
   "name": "python",
   "nbconvert_exporter": "python",
   "pygments_lexer": "ipython3",
   "version": "3.10.9"
  }
 },
 "nbformat": 4,
 "nbformat_minor": 5
}
